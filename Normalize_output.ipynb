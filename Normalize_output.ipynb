{
 "cells": [
  {
   "cell_type": "markdown",
   "id": "97dd0773",
   "metadata": {},
   "source": [
    "## Import"
   ]
  },
  {
   "cell_type": "code",
   "execution_count": 1,
   "id": "a2f35151",
   "metadata": {},
   "outputs": [],
   "source": [
    "import matplotlib.pyplot as plt\n",
    "import seaborn as sns # seaborn là thư viện được xây trên matplotlib, \n",
    "                      # giúp việc visualization đỡ khổ hơn\n",
    "import pandas as pd\n",
    "import numpy as np\n",
    "\n",
    "from sklearn.model_selection import train_test_split\n",
    "from sklearn.preprocessing import OneHotEncoder, StandardScaler\n",
    "from sklearn.impute import SimpleImputer\n",
    "from sklearn.base import BaseEstimator, TransformerMixin\n",
    "from sklearn.pipeline import Pipeline, make_pipeline\n",
    "from sklearn.compose import ColumnTransformer, make_column_transformer\n",
    "from sklearn.neural_network import MLPClassifier, MLPRegressor\n",
    "from sklearn import set_config\n",
    "set_config(display='diagram') # Để trực quan hóa pipeline\n",
    "\n",
    "# You can also import other things ...\n",
    "# YOUR CODE HERE (OPTION)\n",
    "import csv\n",
    "from sklearn.linear_model import LinearRegression\n",
    "\n",
    "%matplotlib inline"
   ]
  },
  {
   "cell_type": "markdown",
   "id": "6ab3958e",
   "metadata": {},
   "source": [
    "## Thu thập dữ liệu"
   ]
  },
  {
   "cell_type": "code",
   "execution_count": 2,
   "id": "1d16889e",
   "metadata": {
    "scrolled": false
   },
   "outputs": [
    {
     "data": {
      "text/html": [
       "<div>\n",
       "<style scoped>\n",
       "    .dataframe tbody tr th:only-of-type {\n",
       "        vertical-align: middle;\n",
       "    }\n",
       "\n",
       "    .dataframe tbody tr th {\n",
       "        vertical-align: top;\n",
       "    }\n",
       "\n",
       "    .dataframe thead th {\n",
       "        text-align: right;\n",
       "    }\n",
       "</style>\n",
       "<table border=\"1\" class=\"dataframe\">\n",
       "  <thead>\n",
       "    <tr style=\"text-align: right;\">\n",
       "      <th></th>\n",
       "      <th>sqft</th>\n",
       "      <th>homeType</th>\n",
       "      <th>beds</th>\n",
       "      <th>parkingSpots</th>\n",
       "      <th>lotSize</th>\n",
       "      <th>baths</th>\n",
       "      <th>listPrice</th>\n",
       "      <th>heating_system</th>\n",
       "      <th>cooling_system</th>\n",
       "      <th>view_type</th>\n",
       "      <th>architecture_style</th>\n",
       "      <th>yearBuilt</th>\n",
       "      <th>has_pool</th>\n",
       "      <th>city</th>\n",
       "      <th>address</th>\n",
       "      <th>tax</th>\n",
       "    </tr>\n",
       "  </thead>\n",
       "  <tbody>\n",
       "    <tr>\n",
       "      <th>0</th>\n",
       "      <td>1100.0</td>\n",
       "      <td>Single Family Residential</td>\n",
       "      <td>3</td>\n",
       "      <td>NaN</td>\n",
       "      <td>3781.0</td>\n",
       "      <td>2</td>\n",
       "      <td>235000</td>\n",
       "      <td>Forced Air (Natural Gas)</td>\n",
       "      <td>Central A/C</td>\n",
       "      <td>NaN</td>\n",
       "      <td>Other</td>\n",
       "      <td>1955.0</td>\n",
       "      <td>NaN</td>\n",
       "      <td>Chicago</td>\n",
       "      <td>3932 West 84th Street</td>\n",
       "      <td>2642.29</td>\n",
       "    </tr>\n",
       "    <tr>\n",
       "      <th>1</th>\n",
       "      <td>2200.0</td>\n",
       "      <td>Single Family Residential</td>\n",
       "      <td>4</td>\n",
       "      <td>2.0</td>\n",
       "      <td>4234.0</td>\n",
       "      <td>3</td>\n",
       "      <td>260000</td>\n",
       "      <td>Forced Air (Natural Gas)</td>\n",
       "      <td>Central A/C</td>\n",
       "      <td>NaN</td>\n",
       "      <td>Bungalow</td>\n",
       "      <td>1915.0</td>\n",
       "      <td>NaN</td>\n",
       "      <td>Chicago</td>\n",
       "      <td>1119 North Lockwood Avenue</td>\n",
       "      <td>2938.45</td>\n",
       "    </tr>\n",
       "    <tr>\n",
       "      <th>2</th>\n",
       "      <td>750.0</td>\n",
       "      <td>Condo/Coop</td>\n",
       "      <td>2</td>\n",
       "      <td>NaN</td>\n",
       "      <td>NaN</td>\n",
       "      <td>1</td>\n",
       "      <td>275000</td>\n",
       "      <td>Forced Air (Natural Gas)</td>\n",
       "      <td>Central A/C</td>\n",
       "      <td>NaN</td>\n",
       "      <td>Other</td>\n",
       "      <td>1926.0</td>\n",
       "      <td>NaN</td>\n",
       "      <td>Chicago</td>\n",
       "      <td>1100 North Paulina Street #1M</td>\n",
       "      <td>4722.00</td>\n",
       "    </tr>\n",
       "    <tr>\n",
       "      <th>3</th>\n",
       "      <td>1248.0</td>\n",
       "      <td>Single Family Residential</td>\n",
       "      <td>3</td>\n",
       "      <td>2.0</td>\n",
       "      <td>5279.0</td>\n",
       "      <td>2</td>\n",
       "      <td>309900</td>\n",
       "      <td>NaN</td>\n",
       "      <td>Central A/C</td>\n",
       "      <td>NaN</td>\n",
       "      <td>Ranch</td>\n",
       "      <td>1962.0</td>\n",
       "      <td>NaN</td>\n",
       "      <td>Chicago</td>\n",
       "      <td>4909 North Normandy Avenue</td>\n",
       "      <td>560.03</td>\n",
       "    </tr>\n",
       "    <tr>\n",
       "      <th>4</th>\n",
       "      <td>1337.0</td>\n",
       "      <td>Single Family Residential</td>\n",
       "      <td>3</td>\n",
       "      <td>2.0</td>\n",
       "      <td>NaN</td>\n",
       "      <td>2</td>\n",
       "      <td>324900</td>\n",
       "      <td>Forced Air (Natural Gas)</td>\n",
       "      <td>Central A/C</td>\n",
       "      <td>NaN</td>\n",
       "      <td>Georgian</td>\n",
       "      <td>1949.0</td>\n",
       "      <td>NaN</td>\n",
       "      <td>Chicago</td>\n",
       "      <td>10034 South Artesian Avenue</td>\n",
       "      <td>77.40</td>\n",
       "    </tr>\n",
       "    <tr>\n",
       "      <th>...</th>\n",
       "      <td>...</td>\n",
       "      <td>...</td>\n",
       "      <td>...</td>\n",
       "      <td>...</td>\n",
       "      <td>...</td>\n",
       "      <td>...</td>\n",
       "      <td>...</td>\n",
       "      <td>...</td>\n",
       "      <td>...</td>\n",
       "      <td>...</td>\n",
       "      <td>...</td>\n",
       "      <td>...</td>\n",
       "      <td>...</td>\n",
       "      <td>...</td>\n",
       "      <td>...</td>\n",
       "      <td>...</td>\n",
       "    </tr>\n",
       "    <tr>\n",
       "      <th>1160</th>\n",
       "      <td>762.0</td>\n",
       "      <td>Condo/Coop</td>\n",
       "      <td>1</td>\n",
       "      <td>1.0</td>\n",
       "      <td>NaN</td>\n",
       "      <td>1</td>\n",
       "      <td>129900</td>\n",
       "      <td>NaN</td>\n",
       "      <td>Central A/C</td>\n",
       "      <td>NaN</td>\n",
       "      <td>Other</td>\n",
       "      <td>1973.0</td>\n",
       "      <td>True</td>\n",
       "      <td>Chicago</td>\n",
       "      <td>655 West Irving Park Road #315</td>\n",
       "      <td>2283.97</td>\n",
       "    </tr>\n",
       "    <tr>\n",
       "      <th>1161</th>\n",
       "      <td>660.0</td>\n",
       "      <td>Condo/Coop</td>\n",
       "      <td>0</td>\n",
       "      <td>NaN</td>\n",
       "      <td>NaN</td>\n",
       "      <td>1</td>\n",
       "      <td>142500</td>\n",
       "      <td>NaN</td>\n",
       "      <td>Central A/C</td>\n",
       "      <td>NaN</td>\n",
       "      <td>Other</td>\n",
       "      <td>1910.0</td>\n",
       "      <td>NaN</td>\n",
       "      <td>Chicago</td>\n",
       "      <td>780 South Federal Street #1202</td>\n",
       "      <td>2755.93</td>\n",
       "    </tr>\n",
       "    <tr>\n",
       "      <th>1162</th>\n",
       "      <td>800.0</td>\n",
       "      <td>Condo/Coop</td>\n",
       "      <td>1</td>\n",
       "      <td>1.0</td>\n",
       "      <td>NaN</td>\n",
       "      <td>1</td>\n",
       "      <td>195000</td>\n",
       "      <td>NaN</td>\n",
       "      <td>Window Unit(s) A/C</td>\n",
       "      <td>NaN</td>\n",
       "      <td>Other</td>\n",
       "      <td>1985.0</td>\n",
       "      <td>NaN</td>\n",
       "      <td>Chicago</td>\n",
       "      <td>801 South Plymouth Court #804</td>\n",
       "      <td>3007.72</td>\n",
       "    </tr>\n",
       "    <tr>\n",
       "      <th>1163</th>\n",
       "      <td>800.0</td>\n",
       "      <td>Condo/Coop</td>\n",
       "      <td>1</td>\n",
       "      <td>1.0</td>\n",
       "      <td>NaN</td>\n",
       "      <td>1</td>\n",
       "      <td>199999</td>\n",
       "      <td>Forced Air (Natural Gas)</td>\n",
       "      <td>Central A/C</td>\n",
       "      <td>NaN</td>\n",
       "      <td>Other</td>\n",
       "      <td>1905.0</td>\n",
       "      <td>NaN</td>\n",
       "      <td>Chicago</td>\n",
       "      <td>1110 West LELAND Avenue #3A</td>\n",
       "      <td>2127.64</td>\n",
       "    </tr>\n",
       "    <tr>\n",
       "      <th>1164</th>\n",
       "      <td>750.0</td>\n",
       "      <td>Condo/Coop</td>\n",
       "      <td>1</td>\n",
       "      <td>1.0</td>\n",
       "      <td>NaN</td>\n",
       "      <td>1</td>\n",
       "      <td>135000</td>\n",
       "      <td>Forced Air (Natural Gas)</td>\n",
       "      <td>Central A/C</td>\n",
       "      <td>NaN</td>\n",
       "      <td>High Rise</td>\n",
       "      <td>1966.0</td>\n",
       "      <td>NaN</td>\n",
       "      <td>Chicago</td>\n",
       "      <td>720 West Gordon Terrace #12F</td>\n",
       "      <td>2552.81</td>\n",
       "    </tr>\n",
       "  </tbody>\n",
       "</table>\n",
       "<p>1165 rows × 16 columns</p>\n",
       "</div>"
      ],
      "text/plain": [
       "        sqft                   homeType  beds  parkingSpots  lotSize  baths  \\\n",
       "0     1100.0  Single Family Residential     3           NaN   3781.0      2   \n",
       "1     2200.0  Single Family Residential     4           2.0   4234.0      3   \n",
       "2      750.0                 Condo/Coop     2           NaN      NaN      1   \n",
       "3     1248.0  Single Family Residential     3           2.0   5279.0      2   \n",
       "4     1337.0  Single Family Residential     3           2.0      NaN      2   \n",
       "...      ...                        ...   ...           ...      ...    ...   \n",
       "1160   762.0                 Condo/Coop     1           1.0      NaN      1   \n",
       "1161   660.0                 Condo/Coop     0           NaN      NaN      1   \n",
       "1162   800.0                 Condo/Coop     1           1.0      NaN      1   \n",
       "1163   800.0                 Condo/Coop     1           1.0      NaN      1   \n",
       "1164   750.0                 Condo/Coop     1           1.0      NaN      1   \n",
       "\n",
       "      listPrice            heating_system      cooling_system  view_type  \\\n",
       "0        235000  Forced Air (Natural Gas)         Central A/C        NaN   \n",
       "1        260000  Forced Air (Natural Gas)         Central A/C        NaN   \n",
       "2        275000  Forced Air (Natural Gas)         Central A/C        NaN   \n",
       "3        309900                       NaN         Central A/C        NaN   \n",
       "4        324900  Forced Air (Natural Gas)         Central A/C        NaN   \n",
       "...         ...                       ...                 ...        ...   \n",
       "1160     129900                       NaN         Central A/C        NaN   \n",
       "1161     142500                       NaN         Central A/C        NaN   \n",
       "1162     195000                       NaN  Window Unit(s) A/C        NaN   \n",
       "1163     199999  Forced Air (Natural Gas)         Central A/C        NaN   \n",
       "1164     135000  Forced Air (Natural Gas)         Central A/C        NaN   \n",
       "\n",
       "     architecture_style  yearBuilt has_pool     city  \\\n",
       "0                 Other     1955.0      NaN  Chicago   \n",
       "1              Bungalow     1915.0      NaN  Chicago   \n",
       "2                 Other     1926.0      NaN  Chicago   \n",
       "3                 Ranch     1962.0      NaN  Chicago   \n",
       "4              Georgian     1949.0      NaN  Chicago   \n",
       "...                 ...        ...      ...      ...   \n",
       "1160              Other     1973.0     True  Chicago   \n",
       "1161              Other     1910.0      NaN  Chicago   \n",
       "1162              Other     1985.0      NaN  Chicago   \n",
       "1163              Other     1905.0      NaN  Chicago   \n",
       "1164          High Rise     1966.0      NaN  Chicago   \n",
       "\n",
       "                             address      tax  \n",
       "0              3932 West 84th Street  2642.29  \n",
       "1         1119 North Lockwood Avenue  2938.45  \n",
       "2      1100 North Paulina Street #1M  4722.00  \n",
       "3         4909 North Normandy Avenue   560.03  \n",
       "4        10034 South Artesian Avenue    77.40  \n",
       "...                              ...      ...  \n",
       "1160  655 West Irving Park Road #315  2283.97  \n",
       "1161  780 South Federal Street #1202  2755.93  \n",
       "1162   801 South Plymouth Court #804  3007.72  \n",
       "1163     1110 West LELAND Avenue #3A  2127.64  \n",
       "1164    720 West Gordon Terrace #12F  2552.81  \n",
       "\n",
       "[1165 rows x 16 columns]"
      ]
     },
     "execution_count": 2,
     "metadata": {},
     "output_type": "execute_result"
    }
   ],
   "source": [
    "# Đọc dữ liệu từ \"data.csv\"\n",
    "df = pd.read_csv('data.csv')\n",
    "df"
   ]
  },
  {
   "cell_type": "markdown",
   "id": "77633485",
   "metadata": {},
   "source": [
    "---"
   ]
  },
  {
   "cell_type": "markdown",
   "id": "70a4d254",
   "metadata": {},
   "source": [
    "## Khám phá dữ liệu (để làm rõ câu hỏi)"
   ]
  },
  {
   "cell_type": "markdown",
   "id": "7c06e588",
   "metadata": {},
   "source": [
    "### Số dòng và cột"
   ]
  },
  {
   "cell_type": "code",
   "execution_count": 3,
   "id": "8e8eaf5b",
   "metadata": {},
   "outputs": [
    {
     "data": {
      "text/plain": [
       "(1165, 16)"
      ]
     },
     "execution_count": 3,
     "metadata": {},
     "output_type": "execute_result"
    }
   ],
   "source": [
    "df.shape"
   ]
  },
  {
   "cell_type": "markdown",
   "id": "c969e87f",
   "metadata": {},
   "source": [
    "### Ý nghĩa của từng dòng. Có dòng nào không phù hợp không?"
   ]
  },
  {
   "cell_type": "markdown",
   "id": "3931f223",
   "metadata": {},
   "source": [
    "Mỗi dòng thể hiện 17 thông tin khác nhau của một căn nhà được giao bán. Do dữ liệu được lấy trong trang mô tả chi tiết của từng căn nhà nên sẽ không có dòng nào đặc biệt.\n",
    "\n",
    "Tuy nhiên người đăng có thể giao bán 1 căn nhà nhiều lần, các dòng có thể bị lặp lại."
   ]
  },
  {
   "cell_type": "markdown",
   "id": "a94be36f",
   "metadata": {},
   "source": [
    "### Kiểm tra số dòng bị lặp lại"
   ]
  },
  {
   "cell_type": "code",
   "execution_count": 4,
   "id": "f7eb5ae3",
   "metadata": {},
   "outputs": [
    {
     "data": {
      "text/plain": [
       "1"
      ]
     },
     "execution_count": 4,
     "metadata": {},
     "output_type": "execute_result"
    }
   ],
   "source": [
    "df.duplicated().sum()"
   ]
  },
  {
   "cell_type": "markdown",
   "id": "b7585a42",
   "metadata": {},
   "source": [
    "$\\to$ Sẽ được đưa vào Pipeline tiền xử lí chung trong tệp huấn luyện"
   ]
  },
  {
   "cell_type": "markdown",
   "id": "2fc9f5b0",
   "metadata": {},
   "source": [
    "### Ý nghĩa của mỗi cột"
   ]
  },
  {
   "cell_type": "code",
   "execution_count": 5,
   "id": "d0d48791",
   "metadata": {},
   "outputs": [
    {
     "data": {
      "text/html": [
       "<div>\n",
       "<style scoped>\n",
       "    .dataframe tbody tr th:only-of-type {\n",
       "        vertical-align: middle;\n",
       "    }\n",
       "\n",
       "    .dataframe tbody tr th {\n",
       "        vertical-align: top;\n",
       "    }\n",
       "\n",
       "    .dataframe thead th {\n",
       "        text-align: right;\n",
       "    }\n",
       "</style>\n",
       "<table border=\"1\" class=\"dataframe\">\n",
       "  <thead>\n",
       "    <tr style=\"text-align: right;\">\n",
       "      <th></th>\n",
       "      <th>sqft</th>\n",
       "      <th>homeType</th>\n",
       "      <th>beds</th>\n",
       "      <th>parkingSpots</th>\n",
       "      <th>lotSize</th>\n",
       "      <th>baths</th>\n",
       "      <th>listPrice</th>\n",
       "      <th>heating_system</th>\n",
       "      <th>cooling_system</th>\n",
       "      <th>view_type</th>\n",
       "      <th>architecture_style</th>\n",
       "      <th>yearBuilt</th>\n",
       "      <th>has_pool</th>\n",
       "      <th>city</th>\n",
       "      <th>address</th>\n",
       "      <th>tax</th>\n",
       "    </tr>\n",
       "  </thead>\n",
       "  <tbody>\n",
       "    <tr>\n",
       "      <th>0</th>\n",
       "      <td>1100.0</td>\n",
       "      <td>Single Family Residential</td>\n",
       "      <td>3</td>\n",
       "      <td>NaN</td>\n",
       "      <td>3781.0</td>\n",
       "      <td>2</td>\n",
       "      <td>235000</td>\n",
       "      <td>Forced Air (Natural Gas)</td>\n",
       "      <td>Central A/C</td>\n",
       "      <td>NaN</td>\n",
       "      <td>Other</td>\n",
       "      <td>1955.0</td>\n",
       "      <td>NaN</td>\n",
       "      <td>Chicago</td>\n",
       "      <td>3932 West 84th Street</td>\n",
       "      <td>2642.29</td>\n",
       "    </tr>\n",
       "  </tbody>\n",
       "</table>\n",
       "</div>"
      ],
      "text/plain": [
       "     sqft                   homeType  beds  parkingSpots  lotSize  baths  \\\n",
       "0  1100.0  Single Family Residential     3           NaN   3781.0      2   \n",
       "\n",
       "   listPrice            heating_system cooling_system  view_type  \\\n",
       "0     235000  Forced Air (Natural Gas)    Central A/C        NaN   \n",
       "\n",
       "  architecture_style  yearBuilt has_pool     city                address  \\\n",
       "0              Other     1955.0      NaN  Chicago  3932 West 84th Street   \n",
       "\n",
       "       tax  \n",
       "0  2642.29  "
      ]
     },
     "execution_count": 5,
     "metadata": {},
     "output_type": "execute_result"
    }
   ],
   "source": [
    "df.head(1)"
   ]
  },
  {
   "cell_type": "markdown",
   "id": "dee671f5",
   "metadata": {},
   "source": [
    "Your answer here\n",
    "- \"bedrooms\" : Số phòng ngủ\n",
    "- \"bathrooms\" : Số phòng vệ sinh\n",
    "- \"house_type\" : Loại hình nhà ở\n",
    "- \"length\" : Chiều dài căn nhà\n",
    "- \"width\" : Chiều rộng căn nhà\n",
    "- \"furniture\" : Tình trạng của nội thất\n",
    "- \"legal_paper\" : Giấy tờ pháp lý hiện có\n",
    "- \"address\" : Địa chỉ của căn nhà\n",
    "- \"direction\" : Hướng của cửa chính\n",
    "- \"price\" : Giá tiền hiện giao bán"
   ]
  },
  {
   "cell_type": "markdown",
   "id": "42b69273",
   "metadata": {},
   "source": [
    "## Làm rõ câu hỏi"
   ]
  },
  {
   "cell_type": "markdown",
   "id": "b45be546",
   "metadata": {},
   "source": [
    "**Câu hỏi đưa ra:** Với một căn nhà mơ ước, người khách hàng cần bao nhiêu tiền để có thể mua được ở bang Chicago của Mỹ ? \n",
    "\n",
    "Tạm thời các cột Input sẽ là thông tin liên quan tới căn nhà được giao bán, tổng cộng có 16 cột. Cột Output sẽ là giá bán của ngôi nhà. Nhóm sẽ sử dụng mô hình hồi quy để dự đoán giá nhà (cột Output) dựa trên thông tin của căn nhà (cột Input).\n",
    "\n",
    "Các cột Input có thể thay đổi ở các bước tiền xử lý sau.\n",
    "\n",
    "**Lợi ích khi trả lời**: \n",
    "\n",
    "Có thể đưa ra một mức giá sấp xỉ để những người trẻ có thể dựa vào đó để nổ lực phấn đấu mua được căn nhà mình muốn."
   ]
  },
  {
   "cell_type": "markdown",
   "id": "bb1dc6d1",
   "metadata": {},
   "source": [
    "## Khám phá dữ liệu (để tách các tập)\n",
    "Để biết cách tách các tập thì ta cần khám phá thêm cột output một ít:\n",
    "- Cột này hiện có kiểu dữ liệu là gì? Trong bài toán hồi qui thì cột output bắt buộc phải có dạng số; nếu hiện chưa có dạng số (ví dụ, số nhưng được lưu dưới dạng chuỗi) thì ta cần chuyển sang dạng số rồi mới tách các tập.\n",
    "- Cột này có giá trị thiếu không? Nếu có giá trị thiếu thì ta sẽ bỏ các dòng mà output có giá trị thiếu rồi mới tách các tập \n",
    "- Cột numerical output xử lí như nào?"
   ]
  },
  {
   "cell_type": "code",
   "execution_count": 6,
   "id": "a4deebe4",
   "metadata": {},
   "outputs": [
    {
     "data": {
      "text/plain": [
       "dtype('int64')"
      ]
     },
     "execution_count": 6,
     "metadata": {},
     "output_type": "execute_result"
    }
   ],
   "source": [
    "# Kiểu dữ liệu cột output\n",
    "df['listPrice'].dtype"
   ]
  },
  {
   "cell_type": "code",
   "execution_count": 7,
   "id": "e5eb2bde",
   "metadata": {},
   "outputs": [
    {
     "data": {
      "text/plain": [
       "0"
      ]
     },
     "execution_count": 7,
     "metadata": {},
     "output_type": "execute_result"
    }
   ],
   "source": [
    "# Có giá trị nào thiếu không?\n",
    "df['listPrice'].isna().sum()"
   ]
  },
  {
   "cell_type": "markdown",
   "id": "7d2d6e9f",
   "metadata": {},
   "source": [
    "---"
   ]
  },
  {
   "cell_type": "markdown",
   "id": "66547962",
   "metadata": {},
   "source": [
    "## Tiền xử lý tách tập dữ liệu"
   ]
  },
  {
   "cell_type": "code",
   "execution_count": 8,
   "id": "e046f6b5",
   "metadata": {},
   "outputs": [],
   "source": [
    "# Tách X và y\n",
    "y = df[\"listPrice\"] \n",
    "X = df.drop(\"listPrice\", axis=1)"
   ]
  },
  {
   "cell_type": "code",
   "execution_count": 9,
   "id": "cbab5905",
   "metadata": {},
   "outputs": [],
   "source": [
    "# Tách tập huấn luyện và tập validation và tập test theo tỉ lệ 60:20:20\n",
    "train_X, test_X, train_y, test_y = train_test_split(X, y, \n",
    "                                               test_size=0.2)"
   ]
  },
  {
   "cell_type": "code",
   "execution_count": 10,
   "id": "6f722735",
   "metadata": {},
   "outputs": [],
   "source": [
    "train_X, val_X, train_y, val_y = train_test_split(train_X, train_y, \n",
    "                                               test_size=0.2)"
   ]
  },
  {
   "cell_type": "code",
   "execution_count": 11,
   "id": "61c300b0",
   "metadata": {},
   "outputs": [
    {
     "name": "stdout",
     "output_type": "stream",
     "text": [
      "train_X.shape:  (745, 15)\n",
      "train_y.shape:  (745,)\n",
      "val_X.shape:  (187, 15)\n",
      "val_y.shape:  (187,)\n",
      "test_X.shape:  (233, 15)\n",
      "test_y.shape:  (233,)\n"
     ]
    }
   ],
   "source": [
    "print(\"train_X.shape: \", train_X.shape)\n",
    "print(\"train_y.shape: \", train_y.shape)\n",
    "\n",
    "print(\"val_X.shape: \", val_X.shape)\n",
    "print(\"val_y.shape: \", val_y.shape)\n",
    "\n",
    "print(\"test_X.shape: \", test_X.shape)\n",
    "print(\"test_y.shape: \", test_y.shape)"
   ]
  },
  {
   "cell_type": "markdown",
   "id": "1a179cbc",
   "metadata": {},
   "source": [
    "---"
   ]
  },
  {
   "cell_type": "markdown",
   "id": "8af8bda1",
   "metadata": {},
   "source": [
    "## Khám phá dữ liệu (trên tập huấn luyện)"
   ]
  },
  {
   "cell_type": "markdown",
   "id": "52e975bd",
   "metadata": {},
   "source": [
    "### Kiểu dữ liệu từng cột. Có cột nào chưa phù hợp?"
   ]
  },
  {
   "cell_type": "code",
   "execution_count": 12,
   "id": "42206870",
   "metadata": {},
   "outputs": [
    {
     "data": {
      "text/plain": [
       "sqft                  float64\n",
       "homeType               object\n",
       "beds                    int64\n",
       "parkingSpots          float64\n",
       "lotSize               float64\n",
       "baths                   int64\n",
       "heating_system         object\n",
       "cooling_system         object\n",
       "view_type             float64\n",
       "architecture_style     object\n",
       "yearBuilt             float64\n",
       "has_pool               object\n",
       "city                   object\n",
       "address                object\n",
       "tax                   float64\n",
       "dtype: object"
      ]
     },
     "execution_count": 12,
     "metadata": {},
     "output_type": "execute_result"
    }
   ],
   "source": [
    "train_X.dtypes"
   ]
  },
  {
   "cell_type": "markdown",
   "id": "72a57f91",
   "metadata": {},
   "source": [
    "### Các cột dạng numerical phân bố như thế nào?"
   ]
  },
  {
   "cell_type": "code",
   "execution_count": 13,
   "id": "c63b2a17",
   "metadata": {},
   "outputs": [
    {
     "data": {
      "text/plain": [
       "sqft            float64\n",
       "beds              int64\n",
       "parkingSpots    float64\n",
       "lotSize         float64\n",
       "baths             int64\n",
       "view_type       float64\n",
       "yearBuilt       float64\n",
       "tax             float64\n",
       "dtype: object"
      ]
     },
     "execution_count": 13,
     "metadata": {},
     "output_type": "execute_result"
    }
   ],
   "source": [
    "train_X.dtypes[train_X.dtypes != object]"
   ]
  },
  {
   "cell_type": "code",
   "execution_count": 14,
   "id": "0ae648f8",
   "metadata": {},
   "outputs": [
    {
     "data": {
      "text/html": [
       "<div>\n",
       "<style scoped>\n",
       "    .dataframe tbody tr th:only-of-type {\n",
       "        vertical-align: middle;\n",
       "    }\n",
       "\n",
       "    .dataframe tbody tr th {\n",
       "        vertical-align: top;\n",
       "    }\n",
       "\n",
       "    .dataframe thead th {\n",
       "        text-align: right;\n",
       "    }\n",
       "</style>\n",
       "<table border=\"1\" class=\"dataframe\">\n",
       "  <thead>\n",
       "    <tr style=\"text-align: right;\">\n",
       "      <th></th>\n",
       "      <th>sqft</th>\n",
       "      <th>beds</th>\n",
       "      <th>parkingSpots</th>\n",
       "      <th>lotSize</th>\n",
       "      <th>baths</th>\n",
       "      <th>view_type</th>\n",
       "      <th>yearBuilt</th>\n",
       "      <th>tax</th>\n",
       "    </tr>\n",
       "  </thead>\n",
       "  <tbody>\n",
       "    <tr>\n",
       "      <th>missing_percentage</th>\n",
       "      <td>20.100000</td>\n",
       "      <td>0.000000</td>\n",
       "      <td>19.900000</td>\n",
       "      <td>42.800000</td>\n",
       "      <td>0.000000</td>\n",
       "      <td>100.0</td>\n",
       "      <td>10.300000</td>\n",
       "      <td>4.400000</td>\n",
       "    </tr>\n",
       "    <tr>\n",
       "      <th>mean</th>\n",
       "      <td>1512.593277</td>\n",
       "      <td>2.797315</td>\n",
       "      <td>2.160804</td>\n",
       "      <td>5530.852113</td>\n",
       "      <td>1.969128</td>\n",
       "      <td>NaN</td>\n",
       "      <td>1949.576347</td>\n",
       "      <td>4164.616545</td>\n",
       "    </tr>\n",
       "    <tr>\n",
       "      <th>std</th>\n",
       "      <td>753.433034</td>\n",
       "      <td>1.104971</td>\n",
       "      <td>6.939161</td>\n",
       "      <td>10947.463114</td>\n",
       "      <td>0.856890</td>\n",
       "      <td>NaN</td>\n",
       "      <td>37.180606</td>\n",
       "      <td>4594.366862</td>\n",
       "    </tr>\n",
       "    <tr>\n",
       "      <th>min</th>\n",
       "      <td>470.000000</td>\n",
       "      <td>0.000000</td>\n",
       "      <td>0.000000</td>\n",
       "      <td>0.000000</td>\n",
       "      <td>1.000000</td>\n",
       "      <td>NaN</td>\n",
       "      <td>1868.000000</td>\n",
       "      <td>105.340000</td>\n",
       "    </tr>\n",
       "    <tr>\n",
       "      <th>median</th>\n",
       "      <td>1313.000000</td>\n",
       "      <td>3.000000</td>\n",
       "      <td>2.000000</td>\n",
       "      <td>3781.000000</td>\n",
       "      <td>2.000000</td>\n",
       "      <td>NaN</td>\n",
       "      <td>1951.000000</td>\n",
       "      <td>3297.500000</td>\n",
       "    </tr>\n",
       "    <tr>\n",
       "      <th>max</th>\n",
       "      <td>7600.000000</td>\n",
       "      <td>4.000000</td>\n",
       "      <td>100.000000</td>\n",
       "      <td>127631.000000</td>\n",
       "      <td>5.000000</td>\n",
       "      <td>NaN</td>\n",
       "      <td>2021.000000</td>\n",
       "      <td>86621.360000</td>\n",
       "    </tr>\n",
       "  </tbody>\n",
       "</table>\n",
       "</div>"
      ],
      "text/plain": [
       "                           sqft      beds  parkingSpots        lotSize  \\\n",
       "missing_percentage    20.100000  0.000000     19.900000      42.800000   \n",
       "mean                1512.593277  2.797315      2.160804    5530.852113   \n",
       "std                  753.433034  1.104971      6.939161   10947.463114   \n",
       "min                  470.000000  0.000000      0.000000       0.000000   \n",
       "median              1313.000000  3.000000      2.000000    3781.000000   \n",
       "max                 7600.000000  4.000000    100.000000  127631.000000   \n",
       "\n",
       "                       baths  view_type    yearBuilt           tax  \n",
       "missing_percentage  0.000000      100.0    10.300000      4.400000  \n",
       "mean                1.969128        NaN  1949.576347   4164.616545  \n",
       "std                 0.856890        NaN    37.180606   4594.366862  \n",
       "min                 1.000000        NaN  1868.000000    105.340000  \n",
       "median              2.000000        NaN  1951.000000   3297.500000  \n",
       "max                 5.000000        NaN  2021.000000  86621.360000  "
      ]
     },
     "execution_count": 14,
     "metadata": {},
     "output_type": "execute_result"
    }
   ],
   "source": [
    "num_cols = ['sqft',\"beds\",\"parkingSpots\",\"lotSize\",\"baths\",\"view_type\",\"yearBuilt\",\"tax\"]\n",
    "num_df = train_X[num_cols]\n",
    "def missing_percentage(c):\n",
    "    return (c.isna().mean() * 100).round(1)\n",
    "def median(c):\n",
    "    return c.quantile(0.5).round(1)\n",
    "num_df.agg([missing_percentage,'mean','std','min', median, 'max'])"
   ]
  },
  {
   "cell_type": "code",
   "execution_count": 15,
   "id": "7fbd8b45",
   "metadata": {},
   "outputs": [
    {
     "data": {
      "image/png": "[encoded data removed]",
      "text/plain": [
       "<Figure size 432x288 with 9 Axes>"
      ]
     },
     "metadata": {
      "needs_background": "light"
     },
     "output_type": "display_data"
    }
   ],
   "source": [
    "num_df.hist(bins=15, color='steelblue', edgecolor='black', linewidth=1.0,\n",
    "           xlabelsize=8, ylabelsize=8, grid=False) \n",
    "plt.tight_layout(rect=(0, 0, 1.2, 1.2))   "
   ]
  },
  {
   "cell_type": "markdown",
   "id": "d8e5b46f",
   "metadata": {},
   "source": [
    "### Các cột dạng categorical phân bố như thế nào?"
   ]
  },
  {
   "cell_type": "code",
   "execution_count": 16,
   "id": "5843c923",
   "metadata": {},
   "outputs": [
    {
     "data": {
      "text/plain": [
       "homeType              object\n",
       "heating_system        object\n",
       "cooling_system        object\n",
       "architecture_style    object\n",
       "has_pool              object\n",
       "city                  object\n",
       "address               object\n",
       "dtype: object"
      ]
     },
     "execution_count": 16,
     "metadata": {},
     "output_type": "execute_result"
    }
   ],
   "source": [
    "train_X.dtypes[train_X.dtypes == object]"
   ]
  },
  {
   "cell_type": "code",
   "execution_count": 17,
   "id": "4166a421",
   "metadata": {
    "scrolled": true
   },
   "outputs": [
    {
     "data": {
      "text/html": [
       "<div>\n",
       "<style scoped>\n",
       "    .dataframe tbody tr th:only-of-type {\n",
       "        vertical-align: middle;\n",
       "    }\n",
       "\n",
       "    .dataframe tbody tr th {\n",
       "        vertical-align: top;\n",
       "    }\n",
       "\n",
       "    .dataframe thead th {\n",
       "        text-align: right;\n",
       "    }\n",
       "</style>\n",
       "<table border=\"1\" class=\"dataframe\">\n",
       "  <thead>\n",
       "    <tr style=\"text-align: right;\">\n",
       "      <th></th>\n",
       "      <th>address</th>\n",
       "      <th>heating_system</th>\n",
       "      <th>has_pool</th>\n",
       "      <th>homeType</th>\n",
       "      <th>architecture_style</th>\n",
       "      <th>cooling_system</th>\n",
       "      <th>city</th>\n",
       "    </tr>\n",
       "  </thead>\n",
       "  <tbody>\n",
       "    <tr>\n",
       "      <th>missing_percentage</th>\n",
       "      <td>0.0</td>\n",
       "      <td>28.6</td>\n",
       "      <td>98.0</td>\n",
       "      <td>0.0</td>\n",
       "      <td>0.0</td>\n",
       "      <td>1.2</td>\n",
       "      <td>0.0</td>\n",
       "    </tr>\n",
       "    <tr>\n",
       "      <th>num_values</th>\n",
       "      <td>744</td>\n",
       "      <td>21</td>\n",
       "      <td>1</td>\n",
       "      <td>4</td>\n",
       "      <td>16</td>\n",
       "      <td>4</td>\n",
       "      <td>1</td>\n",
       "    </tr>\n",
       "    <tr>\n",
       "      <th>value_percentages</th>\n",
       "      <td>{'3817 West 55th Place': 0.3, '7311 South Wolcott Avenue': 0.1, '1808 South State Street #101': 0.1, '5617 North Nottingham Avenue': 0.1, '3004 North Normandy Avenue': 0.1, '899 South Plymouth Cou...</td>\n",
       "      <td>{'Forced Air (Natural Gas)': 57.7, 'Fireplace (Natural Gas)': 10.2, 'Forced Air': 8.6, 'Hot Water': 5.3, 'Baseboard': 3.2, 'Baseboard (Natural Gas)': 3.2, 'Hot Water (Natural Gas)': 3.0, 'Radiator...</td>\n",
       "      <td>{True: 100.0}</td>\n",
       "      <td>{'Single Family Residential': 62.6, 'Condo/Coop': 36.9, 'Townhouse': 0.4, 'Other': 0.1}</td>\n",
       "      <td>{'Other': 63.4, 'Bungalow': 10.3, 'Ranch': 6.8, 'High Rise': 6.2, 'Cape Cod': 3.5, 'Loft': 2.1, 'Georgian': 1.7, 'Split Level': 1.1, 'English': 0.9, 'Contemporary': 0.8, 'Cottage': 0.8, 'Tudor': 0...</td>\n",
       "      <td>{'Central A/C': 72.3, 'Window Unit(s) A/C': 13.9, 'None': 13.7, 'Zoned A/C': 0.1}</td>\n",
       "      <td>{'Chicago': 100.0}</td>\n",
       "    </tr>\n",
       "  </tbody>\n",
       "</table>\n",
       "</div>"
      ],
      "text/plain": [
       "                                                                                                                                                                                                                    address  \\\n",
       "missing_percentage                                                                                                                                                                                                      0.0   \n",
       "num_values                                                                                                                                                                                                              744   \n",
       "value_percentages   {'3817 West 55th Place': 0.3, '7311 South Wolcott Avenue': 0.1, '1808 South State Street #101': 0.1, '5617 North Nottingham Avenue': 0.1, '3004 North Normandy Avenue': 0.1, '899 South Plymouth Cou...   \n",
       "\n",
       "                                                                                                                                                                                                             heating_system  \\\n",
       "missing_percentage                                                                                                                                                                                                     28.6   \n",
       "num_values                                                                                                                                                                                                               21   \n",
       "value_percentages   {'Forced Air (Natural Gas)': 57.7, 'Fireplace (Natural Gas)': 10.2, 'Forced Air': 8.6, 'Hot Water': 5.3, 'Baseboard': 3.2, 'Baseboard (Natural Gas)': 3.2, 'Hot Water (Natural Gas)': 3.0, 'Radiator...   \n",
       "\n",
       "                         has_pool  \\\n",
       "missing_percentage           98.0   \n",
       "num_values                      1   \n",
       "value_percentages   {True: 100.0}   \n",
       "\n",
       "                                                                                                   homeType  \\\n",
       "missing_percentage                                                                                      0.0   \n",
       "num_values                                                                                                4   \n",
       "value_percentages   {'Single Family Residential': 62.6, 'Condo/Coop': 36.9, 'Townhouse': 0.4, 'Other': 0.1}   \n",
       "\n",
       "                                                                                                                                                                                                         architecture_style  \\\n",
       "missing_percentage                                                                                                                                                                                                      0.0   \n",
       "num_values                                                                                                                                                                                                               16   \n",
       "value_percentages   {'Other': 63.4, 'Bungalow': 10.3, 'Ranch': 6.8, 'High Rise': 6.2, 'Cape Cod': 3.5, 'Loft': 2.1, 'Georgian': 1.7, 'Split Level': 1.1, 'English': 0.9, 'Contemporary': 0.8, 'Cottage': 0.8, 'Tudor': 0...   \n",
       "\n",
       "                                                                                       cooling_system  \\\n",
       "missing_percentage                                                                                1.2   \n",
       "num_values                                                                                          4   \n",
       "value_percentages   {'Central A/C': 72.3, 'Window Unit(s) A/C': 13.9, 'None': 13.7, 'Zoned A/C': 0.1}   \n",
       "\n",
       "                                  city  \n",
       "missing_percentage                 0.0  \n",
       "num_values                           1  \n",
       "value_percentages   {'Chicago': 100.0}  "
      ]
     },
     "execution_count": 17,
     "metadata": {},
     "output_type": "execute_result"
    }
   ],
   "source": [
    "cate_cols = list(set(train_X.columns) - set(num_cols))\n",
    "cate_df = train_X[cate_cols]\n",
    "pd.set_option('display.max_colwidth', 200)\n",
    "def num_values(df):\n",
    "    return df.nunique()\n",
    "def value_percentages(c):\n",
    "    return dict((c.value_counts(normalize=True) * 100).round(1))\n",
    "cate_df.agg([missing_percentage, num_values, value_percentages])"
   ]
  },
  {
   "cell_type": "code",
   "execution_count": 18,
   "id": "354644c5",
   "metadata": {},
   "outputs": [
    {
     "data": {
      "image/png": "[encoded data removed]",
      "text/plain": [
       "<Figure size 432x288 with 1 Axes>"
      ]
     },
     "metadata": {
      "needs_background": "light"
     },
     "output_type": "display_data"
    }
   ],
   "source": [
    "w_q = cate_df['heating_system'].value_counts()\n",
    "w_q = (list(w_q.index), list(w_q.values))\n",
    "\n",
    "fig = plt.figure(figsize = (6, 4))\n",
    "title = fig.suptitle(\"heating_system\", fontsize=14)\n",
    "fig.subplots_adjust(top=0.85, wspace=0.3)\n",
    "\n",
    "ax = fig.add_subplot(1,1, 1)\n",
    "ax.set_ylabel(\"Type\")\n",
    "ax.set_xlabel(\"Frequency\") \n",
    "ax.tick_params(axis='both', which='major', labelsize=8.5)\n",
    "bar = ax.barh(w_q[0], w_q[1], color='steelblue', \n",
    "        edgecolor='black', linewidth=1)"
   ]
  },
  {
   "cell_type": "markdown",
   "id": "25aa9c7b",
   "metadata": {},
   "source": [
    "## Tiền xử lý tập huấn luyện"
   ]
  },
  {
   "cell_type": "markdown",
   "id": "b6472cee",
   "metadata": {},
   "source": [
    "### Cột dạng numerical"
   ]
  },
  {
   "cell_type": "markdown",
   "id": "b8764aeb",
   "metadata": {},
   "source": [
    "- Các cột có missing_percentage lớn hơn 40% sẽ được loại bỏ: lotSize, view_type\n",
    "- TH1: điền các giá trị thiếu là median "
   ]
  },
  {
   "cell_type": "code",
   "execution_count": 19,
   "id": "71f13d19",
   "metadata": {},
   "outputs": [],
   "source": [
    "class NumeDropper(BaseEstimator, TransformerMixin):\n",
    "    def fit(self, X, y=None):\n",
    "        return self\n",
    "    def transform(self, X, y=None):\n",
    "        self.newX_df = X.copy()\n",
    "        # bỏ cột      \n",
    "        self.newX_df=self.newX_df.drop(columns=[\"lotSize\",\"view_type\"])\n",
    "        return self.newX_df\n",
    "    \n",
    "# col_NumDropper = NumeDropper()\n",
    "# train_X_df = col_NumDropper.transform(train_X)\n",
    "# train_X_df.head()"
   ]
  },
  {
   "cell_type": "markdown",
   "id": "9b8a0704",
   "metadata": {},
   "source": [
    "### Cột dạng categorical"
   ]
  },
  {
   "cell_type": "markdown",
   "id": "b11967c7",
   "metadata": {},
   "source": [
    "- Các cột có missing_percentage lớn hơn 40% sẽ được loại bỏ: has_pool\n",
    "- Điền các giá trị thiếu bằng most-frequent\n",
    "- Address tách tên đường \n",
    "- Các cột chỉ có 1 giá trị sẽ được loại bỏ: city\n",
    "- heating_system, home_type, architecture_type, cooling_system, address sau khi tách sẽ được chuyển thành dạng one-hot"
   ]
  },
  {
   "cell_type": "code",
   "execution_count": 20,
   "id": "ac6b3451",
   "metadata": {},
   "outputs": [
    {
     "data": {
      "text/html": [
       "<div>\n",
       "<style scoped>\n",
       "    .dataframe tbody tr th:only-of-type {\n",
       "        vertical-align: middle;\n",
       "    }\n",
       "\n",
       "    .dataframe tbody tr th {\n",
       "        vertical-align: top;\n",
       "    }\n",
       "\n",
       "    .dataframe thead th {\n",
       "        text-align: right;\n",
       "    }\n",
       "</style>\n",
       "<table border=\"1\" class=\"dataframe\">\n",
       "  <thead>\n",
       "    <tr style=\"text-align: right;\">\n",
       "      <th></th>\n",
       "      <th>Street</th>\n",
       "    </tr>\n",
       "  </thead>\n",
       "  <tbody>\n",
       "    <tr>\n",
       "      <th>num_values</th>\n",
       "      <td>504</td>\n",
       "    </tr>\n",
       "    <tr>\n",
       "      <th>value_percentages</th>\n",
       "      <td>{'North Lake Shore Drive': 1.1, 'South State Street': 0.9, 'South Racine Avenue': 0.8, 'West Belmont Avenue': 0.8, 'South Michigan Avenue': 0.7, 'North Sheridan Road': 0.7, 'North Marine Drive': 0...</td>\n",
       "    </tr>\n",
       "  </tbody>\n",
       "</table>\n",
       "</div>"
      ],
      "text/plain": [
       "                                                                                                                                                                                                                    Street\n",
       "num_values                                                                                                                                                                                                             504\n",
       "value_percentages  {'North Lake Shore Drive': 1.1, 'South State Street': 0.9, 'South Racine Avenue': 0.8, 'West Belmont Avenue': 0.8, 'South Michigan Avenue': 0.7, 'North Sheridan Road': 0.7, 'North Marine Drive': 0..."
      ]
     },
     "execution_count": 20,
     "metadata": {},
     "output_type": "execute_result"
    }
   ],
   "source": [
    "street_col = train_X[\"address\"].str.extract('(?P<number>\\d+)(?P<Street>.*)')\n",
    "street_col = street_col.Street.str.split(\"#\").str[0]\n",
    "street_col = street_col.str.strip()\n",
    "street_col.agg([num_values, value_percentages]).to_frame()"
   ]
  },
  {
   "cell_type": "markdown",
   "id": "e66addb2",
   "metadata": {},
   "source": [
    "Có nhiều giá trị rời rạc trong cột \"street_col\", và phần trăm đóng góp từng giá trị quá nhỏ \\\n",
    "$\\to$ Bỏ cột \"address\""
   ]
  },
  {
   "cell_type": "code",
   "execution_count": 21,
   "id": "9189d0e3",
   "metadata": {},
   "outputs": [],
   "source": [
    "def fit_col(X, num_top_titles):\n",
    "    self = X.value_counts()\n",
    "    index = list(self.index)\n",
    "    self = index[:max(1, min(num_top_titles, len(index)))]\n",
    "    return self\n",
    "\n",
    "def transform_col(self, X):\n",
    "    return np.where(X.isin(self),X,\"Others\")"
   ]
  },
  {
   "cell_type": "code",
   "execution_count": 22,
   "id": "411b5fbd",
   "metadata": {},
   "outputs": [],
   "source": [
    "class CateDropper(BaseEstimator, TransformerMixin):\n",
    "    def __init__(self, num_top_titles=1):\n",
    "        self.num_top_titles = num_top_titles\n",
    "        self.top_cols = [\"heating_system\", \"homeType\", \"architecture_style\", \"cooling_system\"]\n",
    "    def fit(self, X, y=None):\n",
    "        self.heat_counts = fit_col(X.heating_system, self.num_top_titles )\n",
    "        self.homeType = fit_col(X.homeType,self.num_top_titles)\n",
    "        self.architecture_style = fit_col(X.architecture_style,self.num_top_titles)\n",
    "        self.cooling_system = fit_col(X.cooling_system,self.num_top_titles)\n",
    "        \n",
    "        return self\n",
    "    def transform(self, X, y=None):\n",
    "        self.newX_df = X.copy()\n",
    "        \n",
    "        self.newX_df[\"heating_system\"] = transform_col(self.heat_counts, self.newX_df[\"heating_system\"])\n",
    "        self.newX_df[\"homeType\"] = transform_col(self.homeType, self.newX_df[\"homeType\"])\n",
    "        self.newX_df[\"architecture_style\"] = transform_col(self.architecture_style, self.newX_df[\"architecture_style\"])\n",
    "        self.newX_df[\"cooling_system\"] = transform_col(self.cooling_system, self.newX_df[\"cooling_system\"])\n",
    "\n",
    "        # bỏ cột       \n",
    "        self.newX_df=self.newX_df.drop(columns=[\"has_pool\",\"city\",\"address\"])\n",
    "        return self.newX_df"
   ]
  },
  {
   "cell_type": "code",
   "execution_count": 23,
   "id": "5911bfb7",
   "metadata": {},
   "outputs": [],
   "source": [
    "# col_adderdropper = CateDropper(num_top_titles=4)\n",
    "# col_adderdropper.fit(train_X)\n",
    "# fewer_cols_train_X_df = col_adderdropper.transform(train_X)\n",
    "# fewer_cols_train_X_df"
   ]
  },
  {
   "cell_type": "markdown",
   "id": "1c872393",
   "metadata": {},
   "source": [
    "Toàn bộ quá trình xử lý sẽ được thực hiện như sau:\n",
    "- Xử lý các cột dạng số: bỏ đi lotSize và view_type, điền các giá trị thiếu bằng median\n",
    "- Xử lý các cột dạng categorical: bỏ đi has_pool, address, city. Điền các giá trị thiếu bằng most-frequent, lấy top N giá trị xuất hiện nhiều nhất của các cột còn lại, chuyển thành Onehot"
   ]
  },
  {
   "cell_type": "code",
   "execution_count": 24,
   "id": "4570474b",
   "metadata": {},
   "outputs": [
    {
     "data": {
      "text/html": [
       "<style>#sk-cd2fb45a-f617-4067-b045-cfcb0389ccd2 {color: black;background-color: white;}#sk-cd2fb45a-f617-4067-b045-cfcb0389ccd2 pre{padding: 0;}#sk-cd2fb45a-f617-4067-b045-cfcb0389ccd2 div.sk-toggleable {background-color: white;}#sk-cd2fb45a-f617-4067-b045-cfcb0389ccd2 label.sk-toggleable__label {cursor: pointer;display: block;width: 100%;margin-bottom: 0;padding: 0.2em 0.3em;box-sizing: border-box;text-align: center;}#sk-cd2fb45a-f617-4067-b045-cfcb0389ccd2 div.sk-toggleable__content {max-height: 0;max-width: 0;overflow: hidden;text-align: left;background-color: #f0f8ff;}#sk-cd2fb45a-f617-4067-b045-cfcb0389ccd2 div.sk-toggleable__content pre {margin: 0.2em;color: black;border-radius: 0.25em;background-color: #f0f8ff;}#sk-cd2fb45a-f617-4067-b045-cfcb0389ccd2 input.sk-toggleable__control:checked~div.sk-toggleable__content {max-height: 200px;max-width: 100%;overflow: auto;}#sk-cd2fb45a-f617-4067-b045-cfcb0389ccd2 div.sk-estimator input.sk-toggleable__control:checked~label.sk-toggleable__label {background-color: #d4ebff;}#sk-cd2fb45a-f617-4067-b045-cfcb0389ccd2 div.sk-label input.sk-toggleable__control:checked~label.sk-toggleable__label {background-color: #d4ebff;}#sk-cd2fb45a-f617-4067-b045-cfcb0389ccd2 input.sk-hidden--visually {border: 0;clip: rect(1px 1px 1px 1px);clip: rect(1px, 1px, 1px, 1px);height: 1px;margin: -1px;overflow: hidden;padding: 0;position: absolute;width: 1px;}#sk-cd2fb45a-f617-4067-b045-cfcb0389ccd2 div.sk-estimator {font-family: monospace;background-color: #f0f8ff;margin: 0.25em 0.25em;border: 1px dotted black;border-radius: 0.25em;box-sizing: border-box;}#sk-cd2fb45a-f617-4067-b045-cfcb0389ccd2 div.sk-estimator:hover {background-color: #d4ebff;}#sk-cd2fb45a-f617-4067-b045-cfcb0389ccd2 div.sk-parallel-item::after {content: \"\";width: 100%;border-bottom: 1px solid gray;flex-grow: 1;}#sk-cd2fb45a-f617-4067-b045-cfcb0389ccd2 div.sk-label:hover label.sk-toggleable__label {background-color: #d4ebff;}#sk-cd2fb45a-f617-4067-b045-cfcb0389ccd2 div.sk-serial::before {content: \"\";position: absolute;border-left: 1px solid gray;box-sizing: border-box;top: 2em;bottom: 0;left: 50%;}#sk-cd2fb45a-f617-4067-b045-cfcb0389ccd2 div.sk-serial {display: flex;flex-direction: column;align-items: center;background-color: white;}#sk-cd2fb45a-f617-4067-b045-cfcb0389ccd2 div.sk-item {z-index: 1;}#sk-cd2fb45a-f617-4067-b045-cfcb0389ccd2 div.sk-parallel {display: flex;align-items: stretch;justify-content: center;background-color: white;}#sk-cd2fb45a-f617-4067-b045-cfcb0389ccd2 div.sk-parallel-item {display: flex;flex-direction: column;position: relative;background-color: white;}#sk-cd2fb45a-f617-4067-b045-cfcb0389ccd2 div.sk-parallel-item:first-child::after {align-self: flex-end;width: 50%;}#sk-cd2fb45a-f617-4067-b045-cfcb0389ccd2 div.sk-parallel-item:last-child::after {align-self: flex-start;width: 50%;}#sk-cd2fb45a-f617-4067-b045-cfcb0389ccd2 div.sk-parallel-item:only-child::after {width: 0;}#sk-cd2fb45a-f617-4067-b045-cfcb0389ccd2 div.sk-dashed-wrapped {border: 1px dashed gray;margin: 0.2em;box-sizing: border-box;padding-bottom: 0.1em;background-color: white;position: relative;}#sk-cd2fb45a-f617-4067-b045-cfcb0389ccd2 div.sk-label label {font-family: monospace;font-weight: bold;background-color: white;display: inline-block;line-height: 1.2em;}#sk-cd2fb45a-f617-4067-b045-cfcb0389ccd2 div.sk-label-container {position: relative;z-index: 2;text-align: center;}#sk-cd2fb45a-f617-4067-b045-cfcb0389ccd2 div.sk-container {display: inline-block;position: relative;}</style><div id=\"sk-cd2fb45a-f617-4067-b045-cfcb0389ccd2\" class\"sk-top-container\"><div class=\"sk-container\"><div class=\"sk-item sk-dashed-wrapped\"><div class=\"sk-label-container\"><div class=\"sk-label sk-toggleable\"><input class=\"sk-toggleable__control sk-hidden--visually\" id=\"772912a6-f3a2-432f-b47b-ec67e6d771d6\" type=\"checkbox\" ><label class=\"sk-toggleable__label\" for=\"772912a6-f3a2-432f-b47b-ec67e6d771d6\">Pipeline</label><div class=\"sk-toggleable__content\"><pre>Pipeline(steps=[('numdropper', NumeDropper()),\n",
       "                ('catedropper', CateDropper(num_top_titles=6)),\n",
       "                ('preprocessor',\n",
       "                 ColumnTransformer(transformers=[('num',\n",
       "                                                  Pipeline(steps=[('imputer',\n",
       "                                                                   SimpleImputer(strategy='median'))]),\n",
       "                                                  ['sqft', 'beds', 'baths',\n",
       "                                                   'parkingSpots', 'yearBuilt',\n",
       "                                                   'tax']),\n",
       "                                                 ('unoder',\n",
       "                                                  Pipeline(steps=[('imputer',\n",
       "                                                                   SimpleImputer(strategy='most_frequent')),\n",
       "                                                                  ('onehot',\n",
       "                                                                   OneHotEncoder(handle_unknown='ignore'))]),\n",
       "                                                  ['homeType', 'heating_system',\n",
       "                                                   'cooling_system',\n",
       "                                                   'architecture_style'])]))])</pre></div></div></div><div class=\"sk-serial\"><div class=\"sk-item\"><div class=\"sk-estimator sk-toggleable\"><input class=\"sk-toggleable__control sk-hidden--visually\" id=\"ecc82e16-c498-4def-8b67-375f2b9e94a2\" type=\"checkbox\" ><label class=\"sk-toggleable__label\" for=\"ecc82e16-c498-4def-8b67-375f2b9e94a2\">NumeDropper</label><div class=\"sk-toggleable__content\"><pre>NumeDropper()</pre></div></div></div><div class=\"sk-item\"><div class=\"sk-estimator sk-toggleable\"><input class=\"sk-toggleable__control sk-hidden--visually\" id=\"389e2417-aa20-4d30-a839-fbb4a025a19f\" type=\"checkbox\" ><label class=\"sk-toggleable__label\" for=\"389e2417-aa20-4d30-a839-fbb4a025a19f\">CateDropper</label><div class=\"sk-toggleable__content\"><pre>CateDropper(num_top_titles=6)</pre></div></div></div><div class=\"sk-item sk-dashed-wrapped\"><div class=\"sk-label-container\"><div class=\"sk-label sk-toggleable\"><input class=\"sk-toggleable__control sk-hidden--visually\" id=\"bf4802bd-7575-422d-928f-9af507ebf91c\" type=\"checkbox\" ><label class=\"sk-toggleable__label\" for=\"bf4802bd-7575-422d-928f-9af507ebf91c\">preprocessor: ColumnTransformer</label><div class=\"sk-toggleable__content\"><pre>ColumnTransformer(transformers=[('num',\n",
       "                                 Pipeline(steps=[('imputer',\n",
       "                                                  SimpleImputer(strategy='median'))]),\n",
       "                                 ['sqft', 'beds', 'baths', 'parkingSpots',\n",
       "                                  'yearBuilt', 'tax']),\n",
       "                                ('unoder',\n",
       "                                 Pipeline(steps=[('imputer',\n",
       "                                                  SimpleImputer(strategy='most_frequent')),\n",
       "                                                 ('onehot',\n",
       "                                                  OneHotEncoder(handle_unknown='ignore'))]),\n",
       "                                 ['homeType', 'heating_system',\n",
       "                                  'cooling_system', 'architecture_style'])])</pre></div></div></div><div class=\"sk-parallel\"><div class=\"sk-parallel-item\"><div class=\"sk-item\"><div class=\"sk-label-container\"><div class=\"sk-label sk-toggleable\"><input class=\"sk-toggleable__control sk-hidden--visually\" id=\"44f8183f-913e-42e4-b910-2d4b4f13447a\" type=\"checkbox\" ><label class=\"sk-toggleable__label\" for=\"44f8183f-913e-42e4-b910-2d4b4f13447a\">num</label><div class=\"sk-toggleable__content\"><pre>['sqft', 'beds', 'baths', 'parkingSpots', 'yearBuilt', 'tax']</pre></div></div></div><div class=\"sk-serial\"><div class=\"sk-item\"><div class=\"sk-serial\"><div class=\"sk-item\"><div class=\"sk-estimator sk-toggleable\"><input class=\"sk-toggleable__control sk-hidden--visually\" id=\"09c2c603-1da8-4cdb-b08e-a5d1738f679f\" type=\"checkbox\" ><label class=\"sk-toggleable__label\" for=\"09c2c603-1da8-4cdb-b08e-a5d1738f679f\">SimpleImputer</label><div class=\"sk-toggleable__content\"><pre>SimpleImputer(strategy='median')</pre></div></div></div></div></div></div></div></div><div class=\"sk-parallel-item\"><div class=\"sk-item\"><div class=\"sk-label-container\"><div class=\"sk-label sk-toggleable\"><input class=\"sk-toggleable__control sk-hidden--visually\" id=\"9c3f5d8e-ee31-4102-965d-8a80d9be565c\" type=\"checkbox\" ><label class=\"sk-toggleable__label\" for=\"9c3f5d8e-ee31-4102-965d-8a80d9be565c\">unoder</label><div class=\"sk-toggleable__content\"><pre>['homeType', 'heating_system', 'cooling_system', 'architecture_style']</pre></div></div></div><div class=\"sk-serial\"><div class=\"sk-item\"><div class=\"sk-serial\"><div class=\"sk-item\"><div class=\"sk-estimator sk-toggleable\"><input class=\"sk-toggleable__control sk-hidden--visually\" id=\"d3199482-b8e8-4510-9f68-c21d994f92b2\" type=\"checkbox\" ><label class=\"sk-toggleable__label\" for=\"d3199482-b8e8-4510-9f68-c21d994f92b2\">SimpleImputer</label><div class=\"sk-toggleable__content\"><pre>SimpleImputer(strategy='most_frequent')</pre></div></div></div><div class=\"sk-item\"><div class=\"sk-estimator sk-toggleable\"><input class=\"sk-toggleable__control sk-hidden--visually\" id=\"1139ddb2-bedb-428c-b9f6-d69e5836504b\" type=\"checkbox\" ><label class=\"sk-toggleable__label\" for=\"1139ddb2-bedb-428c-b9f6-d69e5836504b\">OneHotEncoder</label><div class=\"sk-toggleable__content\"><pre>OneHotEncoder(handle_unknown='ignore')</pre></div></div></div></div></div></div></div></div></div></div></div></div></div></div>"
      ],
      "text/plain": [
       "Pipeline(steps=[('numdropper', NumeDropper()),\n",
       "                ('catedropper', CateDropper(num_top_titles=6)),\n",
       "                ('preprocessor',\n",
       "                 ColumnTransformer(transformers=[('num',\n",
       "                                                  Pipeline(steps=[('imputer',\n",
       "                                                                   SimpleImputer(strategy='median'))]),\n",
       "                                                  ['sqft', 'beds', 'baths',\n",
       "                                                   'parkingSpots', 'yearBuilt',\n",
       "                                                   'tax']),\n",
       "                                                 ('unoder',\n",
       "                                                  Pipeline(steps=[('imputer',\n",
       "                                                                   SimpleImputer(strategy='most_frequent')),\n",
       "                                                                  ('onehot',\n",
       "                                                                   OneHotEncoder(handle_unknown='ignore'))]),\n",
       "                                                  ['homeType', 'heating_system',\n",
       "                                                   'cooling_system',\n",
       "                                                   'architecture_style'])]))])"
      ]
     },
     "execution_count": 24,
     "metadata": {},
     "output_type": "execute_result"
    }
   ],
   "source": [
    "num_cols = [\"sqft\", \"beds\" , \"baths\",\"parkingSpots\",\"yearBuilt\",\"tax\"]\n",
    "cate_cols = [\"homeType\", \"heating_system\", \"cooling_system\",\"architecture_style\" ]\n",
    "\n",
    "\n",
    "numeric_transformer = Pipeline(steps=[\n",
    "    ('imputer', SimpleImputer(missing_values=np.nan, strategy='median'))])\n",
    "\n",
    "\n",
    "categotical_transformer = Pipeline(steps=[\n",
    "    ('imputer', SimpleImputer(missing_values=np.nan, strategy='most_frequent')),\n",
    "    ('onehot', OneHotEncoder(handle_unknown='ignore'))])\n",
    "\n",
    "\n",
    "preprocessor = ColumnTransformer(\n",
    "    transformers=[\n",
    "        ('num', numeric_transformer, num_cols),\n",
    "        ('unoder',categotical_transformer , cate_cols)])\n",
    "\n",
    "\n",
    "preprocess_pipeline = Pipeline(steps=[('numdropper',NumeDropper()),\n",
    "                                      ('catedropper', CateDropper(num_top_titles=6)),\n",
    "                                      ('preprocessor', preprocessor)\n",
    "                                       ])\n",
    "\n",
    "\n",
    "\n",
    "preprocess_pipeline"
   ]
  },
  {
   "cell_type": "markdown",
   "id": "730628e8",
   "metadata": {},
   "source": [
    "## Tiền xử lý trên tập train"
   ]
  },
  {
   "cell_type": "code",
   "execution_count": 25,
   "id": "9e1a1f94",
   "metadata": {},
   "outputs": [],
   "source": [
    "# preprocessed_train_X = preprocess_pipeline.fit_transform(train_X)"
   ]
  },
  {
   "cell_type": "markdown",
   "id": "c53b869f",
   "metadata": {},
   "source": [
    "## Tiền xử lý trên tập validation"
   ]
  },
  {
   "cell_type": "code",
   "execution_count": 26,
   "id": "6960debf",
   "metadata": {},
   "outputs": [],
   "source": [
    "# preprocessed_val_X = preprocess_pipeline.transform(val_X)"
   ]
  },
  {
   "cell_type": "markdown",
   "id": "95eb73be",
   "metadata": {},
   "source": [
    "## Mô hình hóa"
   ]
  },
  {
   "cell_type": "markdown",
   "id": "58590ec6",
   "metadata": {},
   "source": [
    "hidden_layer_sizes = (100, 50, 25) với 3 lớp ẩn"
   ]
  },
  {
   "cell_type": "code",
   "execution_count": 27,
   "id": "9a3932d1",
   "metadata": {},
   "outputs": [
    {
     "data": {
      "text/html": [
       "<style>#sk-c7b3966e-273c-4f37-a89a-9d9b8952bd6f {color: black;background-color: white;}#sk-c7b3966e-273c-4f37-a89a-9d9b8952bd6f pre{padding: 0;}#sk-c7b3966e-273c-4f37-a89a-9d9b8952bd6f div.sk-toggleable {background-color: white;}#sk-c7b3966e-273c-4f37-a89a-9d9b8952bd6f label.sk-toggleable__label {cursor: pointer;display: block;width: 100%;margin-bottom: 0;padding: 0.2em 0.3em;box-sizing: border-box;text-align: center;}#sk-c7b3966e-273c-4f37-a89a-9d9b8952bd6f div.sk-toggleable__content {max-height: 0;max-width: 0;overflow: hidden;text-align: left;background-color: #f0f8ff;}#sk-c7b3966e-273c-4f37-a89a-9d9b8952bd6f div.sk-toggleable__content pre {margin: 0.2em;color: black;border-radius: 0.25em;background-color: #f0f8ff;}#sk-c7b3966e-273c-4f37-a89a-9d9b8952bd6f input.sk-toggleable__control:checked~div.sk-toggleable__content {max-height: 200px;max-width: 100%;overflow: auto;}#sk-c7b3966e-273c-4f37-a89a-9d9b8952bd6f div.sk-estimator input.sk-toggleable__control:checked~label.sk-toggleable__label {background-color: #d4ebff;}#sk-c7b3966e-273c-4f37-a89a-9d9b8952bd6f div.sk-label input.sk-toggleable__control:checked~label.sk-toggleable__label {background-color: #d4ebff;}#sk-c7b3966e-273c-4f37-a89a-9d9b8952bd6f input.sk-hidden--visually {border: 0;clip: rect(1px 1px 1px 1px);clip: rect(1px, 1px, 1px, 1px);height: 1px;margin: -1px;overflow: hidden;padding: 0;position: absolute;width: 1px;}#sk-c7b3966e-273c-4f37-a89a-9d9b8952bd6f div.sk-estimator {font-family: monospace;background-color: #f0f8ff;margin: 0.25em 0.25em;border: 1px dotted black;border-radius: 0.25em;box-sizing: border-box;}#sk-c7b3966e-273c-4f37-a89a-9d9b8952bd6f div.sk-estimator:hover {background-color: #d4ebff;}#sk-c7b3966e-273c-4f37-a89a-9d9b8952bd6f div.sk-parallel-item::after {content: \"\";width: 100%;border-bottom: 1px solid gray;flex-grow: 1;}#sk-c7b3966e-273c-4f37-a89a-9d9b8952bd6f div.sk-label:hover label.sk-toggleable__label {background-color: #d4ebff;}#sk-c7b3966e-273c-4f37-a89a-9d9b8952bd6f div.sk-serial::before {content: \"\";position: absolute;border-left: 1px solid gray;box-sizing: border-box;top: 2em;bottom: 0;left: 50%;}#sk-c7b3966e-273c-4f37-a89a-9d9b8952bd6f div.sk-serial {display: flex;flex-direction: column;align-items: center;background-color: white;}#sk-c7b3966e-273c-4f37-a89a-9d9b8952bd6f div.sk-item {z-index: 1;}#sk-c7b3966e-273c-4f37-a89a-9d9b8952bd6f div.sk-parallel {display: flex;align-items: stretch;justify-content: center;background-color: white;}#sk-c7b3966e-273c-4f37-a89a-9d9b8952bd6f div.sk-parallel-item {display: flex;flex-direction: column;position: relative;background-color: white;}#sk-c7b3966e-273c-4f37-a89a-9d9b8952bd6f div.sk-parallel-item:first-child::after {align-self: flex-end;width: 50%;}#sk-c7b3966e-273c-4f37-a89a-9d9b8952bd6f div.sk-parallel-item:last-child::after {align-self: flex-start;width: 50%;}#sk-c7b3966e-273c-4f37-a89a-9d9b8952bd6f div.sk-parallel-item:only-child::after {width: 0;}#sk-c7b3966e-273c-4f37-a89a-9d9b8952bd6f div.sk-dashed-wrapped {border: 1px dashed gray;margin: 0.2em;box-sizing: border-box;padding-bottom: 0.1em;background-color: white;position: relative;}#sk-c7b3966e-273c-4f37-a89a-9d9b8952bd6f div.sk-label label {font-family: monospace;font-weight: bold;background-color: white;display: inline-block;line-height: 1.2em;}#sk-c7b3966e-273c-4f37-a89a-9d9b8952bd6f div.sk-label-container {position: relative;z-index: 2;text-align: center;}#sk-c7b3966e-273c-4f37-a89a-9d9b8952bd6f div.sk-container {display: inline-block;position: relative;}</style><div id=\"sk-c7b3966e-273c-4f37-a89a-9d9b8952bd6f\" class\"sk-top-container\"><div class=\"sk-container\"><div class=\"sk-item sk-dashed-wrapped\"><div class=\"sk-label-container\"><div class=\"sk-label sk-toggleable\"><input class=\"sk-toggleable__control sk-hidden--visually\" id=\"c3470761-dfdc-4a44-8931-cb4a2b617709\" type=\"checkbox\" ><label class=\"sk-toggleable__label\" for=\"c3470761-dfdc-4a44-8931-cb4a2b617709\">Pipeline</label><div class=\"sk-toggleable__content\"><pre>Pipeline(steps=[('preprocess_pipeline',\n",
       "                 Pipeline(steps=[('numdropper', NumeDropper()),\n",
       "                                 ('catedropper', CateDropper(num_top_titles=6)),\n",
       "                                 ('preprocessor',\n",
       "                                  ColumnTransformer(transformers=[('num',\n",
       "                                                                   Pipeline(steps=[('imputer',\n",
       "                                                                                    SimpleImputer(strategy='median'))]),\n",
       "                                                                   ['sqft',\n",
       "                                                                    'beds',\n",
       "                                                                    'baths',\n",
       "                                                                    'parkingSpots',\n",
       "                                                                    'yearBuilt',\n",
       "                                                                    'tax']),\n",
       "                                                                  ('unoder',\n",
       "                                                                   Pipeline(steps=[('imputer',\n",
       "                                                                                    SimpleImputer(strategy='most_frequent')),\n",
       "                                                                                   ('onehot',\n",
       "                                                                                    OneHotEncoder(handle_unknown='ignore'))]),\n",
       "                                                                   ['homeType',\n",
       "                                                                    'heating_system',\n",
       "                                                                    'cooling_system',\n",
       "                                                                    'architecture_style'])]))])),\n",
       "                ('neural_network',\n",
       "                 MLPRegressor(activation='tanh', alpha=1e-05,\n",
       "                              hidden_layer_sizes=(30,), max_iter=2500,\n",
       "                              random_state=0, solver='sgd'))])</pre></div></div></div><div class=\"sk-serial\"><div class=\"sk-item\"><div class=\"sk-label-container\"><div class=\"sk-label sk-toggleable\"><input class=\"sk-toggleable__control sk-hidden--visually\" id=\"886accea-a1dd-4240-a7fd-24c0ac07baeb\" type=\"checkbox\" ><label class=\"sk-toggleable__label\" for=\"886accea-a1dd-4240-a7fd-24c0ac07baeb\">preprocess_pipeline: Pipeline</label><div class=\"sk-toggleable__content\"><pre>Pipeline(steps=[('numdropper', NumeDropper()),\n",
       "                ('catedropper', CateDropper(num_top_titles=6)),\n",
       "                ('preprocessor',\n",
       "                 ColumnTransformer(transformers=[('num',\n",
       "                                                  Pipeline(steps=[('imputer',\n",
       "                                                                   SimpleImputer(strategy='median'))]),\n",
       "                                                  ['sqft', 'beds', 'baths',\n",
       "                                                   'parkingSpots', 'yearBuilt',\n",
       "                                                   'tax']),\n",
       "                                                 ('unoder',\n",
       "                                                  Pipeline(steps=[('imputer',\n",
       "                                                                   SimpleImputer(strategy='most_frequent')),\n",
       "                                                                  ('onehot',\n",
       "                                                                   OneHotEncoder(handle_unknown='ignore'))]),\n",
       "                                                  ['homeType', 'heating_system',\n",
       "                                                   'cooling_system',\n",
       "                                                   'architecture_style'])]))])</pre></div></div></div><div class=\"sk-serial\"><div class=\"sk-item\"><div class=\"sk-estimator sk-toggleable\"><input class=\"sk-toggleable__control sk-hidden--visually\" id=\"a26c2be1-8b0d-47bd-80ae-38f4cd87118e\" type=\"checkbox\" ><label class=\"sk-toggleable__label\" for=\"a26c2be1-8b0d-47bd-80ae-38f4cd87118e\">NumeDropper</label><div class=\"sk-toggleable__content\"><pre>NumeDropper()</pre></div></div></div><div class=\"sk-item\"><div class=\"sk-estimator sk-toggleable\"><input class=\"sk-toggleable__control sk-hidden--visually\" id=\"11d11536-6d78-45b3-9000-deea9c2b3555\" type=\"checkbox\" ><label class=\"sk-toggleable__label\" for=\"11d11536-6d78-45b3-9000-deea9c2b3555\">CateDropper</label><div class=\"sk-toggleable__content\"><pre>CateDropper(num_top_titles=6)</pre></div></div></div><div class=\"sk-item sk-dashed-wrapped\"><div class=\"sk-label-container\"><div class=\"sk-label sk-toggleable\"><input class=\"sk-toggleable__control sk-hidden--visually\" id=\"117ae524-43cc-4b44-b323-c9a33d19caec\" type=\"checkbox\" ><label class=\"sk-toggleable__label\" for=\"117ae524-43cc-4b44-b323-c9a33d19caec\">preprocessor: ColumnTransformer</label><div class=\"sk-toggleable__content\"><pre>ColumnTransformer(transformers=[('num',\n",
       "                                 Pipeline(steps=[('imputer',\n",
       "                                                  SimpleImputer(strategy='median'))]),\n",
       "                                 ['sqft', 'beds', 'baths', 'parkingSpots',\n",
       "                                  'yearBuilt', 'tax']),\n",
       "                                ('unoder',\n",
       "                                 Pipeline(steps=[('imputer',\n",
       "                                                  SimpleImputer(strategy='most_frequent')),\n",
       "                                                 ('onehot',\n",
       "                                                  OneHotEncoder(handle_unknown='ignore'))]),\n",
       "                                 ['homeType', 'heating_system',\n",
       "                                  'cooling_system', 'architecture_style'])])</pre></div></div></div><div class=\"sk-parallel\"><div class=\"sk-parallel-item\"><div class=\"sk-item\"><div class=\"sk-label-container\"><div class=\"sk-label sk-toggleable\"><input class=\"sk-toggleable__control sk-hidden--visually\" id=\"a5fcc722-339a-4ae7-b983-850a0ef392f7\" type=\"checkbox\" ><label class=\"sk-toggleable__label\" for=\"a5fcc722-339a-4ae7-b983-850a0ef392f7\">num</label><div class=\"sk-toggleable__content\"><pre>['sqft', 'beds', 'baths', 'parkingSpots', 'yearBuilt', 'tax']</pre></div></div></div><div class=\"sk-serial\"><div class=\"sk-item\"><div class=\"sk-serial\"><div class=\"sk-item\"><div class=\"sk-estimator sk-toggleable\"><input class=\"sk-toggleable__control sk-hidden--visually\" id=\"253f666e-6cae-4a77-a056-54d30529e138\" type=\"checkbox\" ><label class=\"sk-toggleable__label\" for=\"253f666e-6cae-4a77-a056-54d30529e138\">SimpleImputer</label><div class=\"sk-toggleable__content\"><pre>SimpleImputer(strategy='median')</pre></div></div></div></div></div></div></div></div><div class=\"sk-parallel-item\"><div class=\"sk-item\"><div class=\"sk-label-container\"><div class=\"sk-label sk-toggleable\"><input class=\"sk-toggleable__control sk-hidden--visually\" id=\"a4866c6d-a5ec-4f07-be0b-23849fae5f1e\" type=\"checkbox\" ><label class=\"sk-toggleable__label\" for=\"a4866c6d-a5ec-4f07-be0b-23849fae5f1e\">unoder</label><div class=\"sk-toggleable__content\"><pre>['homeType', 'heating_system', 'cooling_system', 'architecture_style']</pre></div></div></div><div class=\"sk-serial\"><div class=\"sk-item\"><div class=\"sk-serial\"><div class=\"sk-item\"><div class=\"sk-estimator sk-toggleable\"><input class=\"sk-toggleable__control sk-hidden--visually\" id=\"24915243-62d0-4314-8d26-b165a6dd0d8b\" type=\"checkbox\" ><label class=\"sk-toggleable__label\" for=\"24915243-62d0-4314-8d26-b165a6dd0d8b\">SimpleImputer</label><div class=\"sk-toggleable__content\"><pre>SimpleImputer(strategy='most_frequent')</pre></div></div></div><div class=\"sk-item\"><div class=\"sk-estimator sk-toggleable\"><input class=\"sk-toggleable__control sk-hidden--visually\" id=\"732200b3-21db-4f45-b004-0b0a11fab787\" type=\"checkbox\" ><label class=\"sk-toggleable__label\" for=\"732200b3-21db-4f45-b004-0b0a11fab787\">OneHotEncoder</label><div class=\"sk-toggleable__content\"><pre>OneHotEncoder(handle_unknown='ignore')</pre></div></div></div></div></div></div></div></div></div></div></div></div><div class=\"sk-item\"><div class=\"sk-estimator sk-toggleable\"><input class=\"sk-toggleable__control sk-hidden--visually\" id=\"3450c493-f7ae-407d-8ef2-771e28c229c7\" type=\"checkbox\" ><label class=\"sk-toggleable__label\" for=\"3450c493-f7ae-407d-8ef2-771e28c229c7\">MLPRegressor</label><div class=\"sk-toggleable__content\"><pre>MLPRegressor(activation='tanh', alpha=1e-05, hidden_layer_sizes=(30,),\n",
       "             max_iter=2500, random_state=0, solver='sgd')</pre></div></div></div></div></div></div></div>"
      ],
      "text/plain": [
       "Pipeline(steps=[('preprocess_pipeline',\n",
       "                 Pipeline(steps=[('numdropper', NumeDropper()),\n",
       "                                 ('catedropper', CateDropper(num_top_titles=6)),\n",
       "                                 ('preprocessor',\n",
       "                                  ColumnTransformer(transformers=[('num',\n",
       "                                                                   Pipeline(steps=[('imputer',\n",
       "                                                                                    SimpleImputer(strategy='median'))]),\n",
       "                                                                   ['sqft',\n",
       "                                                                    'beds',\n",
       "                                                                    'baths',\n",
       "                                                                    'parkingSpots',\n",
       "                                                                    'yearBuilt',\n",
       "                                                                    'tax']),\n",
       "                                                                  ('unoder',\n",
       "                                                                   Pipeline(steps=[('imputer',\n",
       "                                                                                    SimpleImputer(strategy='most_frequent')),\n",
       "                                                                                   ('onehot',\n",
       "                                                                                    OneHotEncoder(handle_unknown='ignore'))]),\n",
       "                                                                   ['homeType',\n",
       "                                                                    'heating_system',\n",
       "                                                                    'cooling_system',\n",
       "                                                                    'architecture_style'])]))])),\n",
       "                ('neural_network',\n",
       "                 MLPRegressor(activation='tanh', alpha=1e-05,\n",
       "                              hidden_layer_sizes=(30,), max_iter=2500,\n",
       "                              random_state=0, solver='sgd'))])"
      ]
     },
     "execution_count": 27,
     "metadata": {},
     "output_type": "execute_result"
    }
   ],
   "source": [
    "# model = LinearRegression()\n",
    "model = MLPRegressor(solver='sgd', \n",
    "                    activation = 'tanh',\n",
    "                    hidden_layer_sizes=(30,), \n",
    "                    random_state=0,\n",
    "                    max_iter = 2500,\n",
    "                    alpha=1e-5)\n",
    "full_pipeline = Pipeline(steps=[('preprocess_pipeline', preprocess_pipeline),\n",
    "                                 ('neural_network',model)])\n",
    "full_pipeline"
   ]
  },
  {
   "cell_type": "code",
   "execution_count": 28,
   "id": "c44076d6",
   "metadata": {},
   "outputs": [],
   "source": [
    "# Thử nghiệm với các giá trị khác nhau của các siêu tham số\n",
    "# và chọn ra các giá trị tốt nhất\n",
    "train_errs = []\n",
    "val_errs = []\n",
    "alphas = [0.001, 0.01 ,0.1, 1, 10, 100, 1000]\n",
    "num_top_titles_s = [1, 2,3, 4, 5,6, 7,8]\n",
    "hidden_layers = [10,20,30,40,50,60,70,80,90,100] \n",
    "best_val_err = float('inf')\n",
    "best_alpha = None\n",
    "best_num_top_titles = None\n",
    "for alpha in alphas:\n",
    "    for hidden in hidden_layers:\n",
    "#         train = full_pipeline.set_params(preprocess_pipeline__catedropper__num_top_titles=num_top_titles, neural_network__alpha=alpha).fit(train_X, train_y)\n",
    "        train = full_pipeline.set_params(neural_network__hidden_layer_sizes = hidden, neural_network__alpha=alpha).fit(train_X, train_y)\n",
    "        \n",
    "        train_errs.append(1-(train.score(train_X, train_y))*100)\n",
    "        val_errs.append(1-(train.score(val_X, val_y))*100)\n",
    "        \n",
    "        if val_errs[-1] < best_val_err:\n",
    "            best_val_err = val_errs[-1]\n",
    "            best_alpha = alpha\n",
    "            best_num_top_titles= hidden"
   ]
  },
  {
   "cell_type": "code",
   "execution_count": 29,
   "id": "6ed3a81d",
   "metadata": {},
   "outputs": [],
   "source": [
    "def compute_mse(y, preds):\n",
    "    return ((y - preds)**2).mean()\n",
    "def compute_rr(y, preds, baseline_preds):\n",
    "    return 1 - compute_mse(y, preds) / compute_mse(y, baseline_preds)\n",
    "\n",
    "test_y = (test_y-test_y.min())/(test_y.max()-test_y.min())\n",
    "\n",
    "baseline_preds = np.round(test_y.mean(),3)\n",
    "test_y = np.round(test_y, 3)"
   ]
  },
  {
   "cell_type": "code",
   "execution_count": 30,
   "id": "1ab68370",
   "metadata": {},
   "outputs": [],
   "source": [
    "result_X = train_X.append(val_X)\n",
    "result_Y = train_y.append(val_y)"
   ]
  },
  {
   "cell_type": "code",
   "execution_count": 31,
   "id": "78cbd1bc",
   "metadata": {},
   "outputs": [],
   "source": [
    "# result_Y.plot(kind = 'bar')"
   ]
  },
  {
   "cell_type": "code",
   "execution_count": 32,
   "id": "26351911",
   "metadata": {},
   "outputs": [],
   "source": [
    "# result_Y=(result_Y-result_Y.mean())/result_Y.std()\n",
    "result_Y=(result_Y-result_Y.min())/(result_Y.max()-result_Y.min())\n",
    "result_Y = np.round(result_Y, 3)\n",
    "# scaler = StandardScaler()\n",
    "\n",
    "# result_y = scaler.fit_transform(np.array(result_Y).reshape(-1,1))\n",
    "                 \n",
    "# print(result_y)\n",
    "# result_Y"
   ]
  },
  {
   "cell_type": "code",
   "execution_count": 33,
   "id": "630ee1ed",
   "metadata": {},
   "outputs": [],
   "source": [
    "model = full_pipeline.set_params(neural_network__hidden_layer_sizes = best_num_top_titles, neural_network__alpha=alpha).fit(result_X, result_Y)\n",
    "# model = full_pipeline.set_params(preprocess_pipeline__catedropper__num_top_titles=num_top_titles, neural_network__alpha=alpha).fit(result_X, result_Y)\n",
    "# model = full_pipeline.fit(result_X, result_Y)"
   ]
  },
  {
   "cell_type": "code",
   "execution_count": 40,
   "id": "f5108482",
   "metadata": {},
   "outputs": [],
   "source": [
    "# test_y=(test_y-test_y.mean())/test_y.std()\n",
    "# test_y=(test_y-test_y.min())/(test_y.max()-test_y.min())\n"
   ]
  },
  {
   "cell_type": "code",
   "execution_count": null,
   "id": "8d6d9169",
   "metadata": {},
   "outputs": [],
   "source": []
  },
  {
   "cell_type": "code",
   "execution_count": 35,
   "id": "03e10a06",
   "metadata": {},
   "outputs": [
    {
     "data": {
      "text/plain": [
       "-9.68923592470361e-08"
      ]
     },
     "execution_count": 35,
     "metadata": {},
     "output_type": "execute_result"
    }
   ],
   "source": [
    "#tính độ lỗi trên tập train\n",
    "train_preds = model.predict(train_X)\n",
    "train_preds= np.round(train_preds,3)\n",
    "compute_rr(train_y, train_preds, baseline_preds)"
   ]
  },
  {
   "cell_type": "code",
   "execution_count": 36,
   "id": "c5f0aefa",
   "metadata": {},
   "outputs": [
    {
     "data": {
      "text/plain": [
       "-1.2972203244920877e-07"
      ]
     },
     "execution_count": 36,
     "metadata": {},
     "output_type": "execute_result"
    }
   ],
   "source": [
    "#tính độ lỗi trên tập val\n",
    "val_preds = model.predict(val_X)\n",
    "val_preds= np.round(val_preds,3)\n",
    "compute_rr(val_y, val_preds, baseline_preds)"
   ]
  },
  {
   "cell_type": "code",
   "execution_count": 37,
   "id": "a9c84803",
   "metadata": {},
   "outputs": [
    {
     "data": {
      "text/plain": [
       "-0.07949710928426068"
      ]
     },
     "execution_count": 37,
     "metadata": {},
     "output_type": "execute_result"
    }
   ],
   "source": [
    "#tính độ lỗi trên tập test\n",
    "test_preds = model.predict(test_X)\n",
    "test_preds= np.round(test_preds,3)\n",
    "compute_rr(test_y, test_preds, baseline_preds)"
   ]
  },
  {
   "cell_type": "code",
   "execution_count": 38,
   "id": "2d1d91d2",
   "metadata": {},
   "outputs": [
    {
     "data": {
      "text/html": [
       "<div>\n",
       "<style scoped>\n",
       "    .dataframe tbody tr th:only-of-type {\n",
       "        vertical-align: middle;\n",
       "    }\n",
       "\n",
       "    .dataframe tbody tr th {\n",
       "        vertical-align: top;\n",
       "    }\n",
       "\n",
       "    .dataframe thead th {\n",
       "        text-align: right;\n",
       "    }\n",
       "</style>\n",
       "<table border=\"1\" class=\"dataframe\">\n",
       "  <thead>\n",
       "    <tr style=\"text-align: right;\">\n",
       "      <th></th>\n",
       "      <th>Actual</th>\n",
       "      <th>Predicted</th>\n",
       "    </tr>\n",
       "  </thead>\n",
       "  <tbody>\n",
       "    <tr>\n",
       "      <th>165</th>\n",
       "      <td>0.091</td>\n",
       "      <td>0.089</td>\n",
       "    </tr>\n",
       "    <tr>\n",
       "      <th>693</th>\n",
       "      <td>0.023</td>\n",
       "      <td>0.089</td>\n",
       "    </tr>\n",
       "    <tr>\n",
       "      <th>200</th>\n",
       "      <td>0.009</td>\n",
       "      <td>0.090</td>\n",
       "    </tr>\n",
       "    <tr>\n",
       "      <th>294</th>\n",
       "      <td>0.107</td>\n",
       "      <td>0.089</td>\n",
       "    </tr>\n",
       "    <tr>\n",
       "      <th>1160</th>\n",
       "      <td>0.037</td>\n",
       "      <td>0.090</td>\n",
       "    </tr>\n",
       "    <tr>\n",
       "      <th>...</th>\n",
       "      <td>...</td>\n",
       "      <td>...</td>\n",
       "    </tr>\n",
       "    <tr>\n",
       "      <th>224</th>\n",
       "      <td>0.088</td>\n",
       "      <td>0.089</td>\n",
       "    </tr>\n",
       "    <tr>\n",
       "      <th>892</th>\n",
       "      <td>0.116</td>\n",
       "      <td>0.091</td>\n",
       "    </tr>\n",
       "    <tr>\n",
       "      <th>174</th>\n",
       "      <td>0.009</td>\n",
       "      <td>0.090</td>\n",
       "    </tr>\n",
       "    <tr>\n",
       "      <th>425</th>\n",
       "      <td>0.274</td>\n",
       "      <td>0.089</td>\n",
       "    </tr>\n",
       "    <tr>\n",
       "      <th>1036</th>\n",
       "      <td>0.021</td>\n",
       "      <td>0.095</td>\n",
       "    </tr>\n",
       "  </tbody>\n",
       "</table>\n",
       "<p>233 rows × 2 columns</p>\n",
       "</div>"
      ],
      "text/plain": [
       "      Actual  Predicted\n",
       "165    0.091      0.089\n",
       "693    0.023      0.089\n",
       "200    0.009      0.090\n",
       "294    0.107      0.089\n",
       "1160   0.037      0.090\n",
       "...      ...        ...\n",
       "224    0.088      0.089\n",
       "892    0.116      0.091\n",
       "174    0.009      0.090\n",
       "425    0.274      0.089\n",
       "1036   0.021      0.095\n",
       "\n",
       "[233 rows x 2 columns]"
      ]
     },
     "execution_count": 38,
     "metadata": {},
     "output_type": "execute_result"
    }
   ],
   "source": [
    "df = pd.DataFrame({'Actual': test_y, 'Predicted': test_preds})\n",
    "df"
   ]
  },
  {
   "cell_type": "code",
   "execution_count": null,
   "id": "765ec4c5",
   "metadata": {},
   "outputs": [],
   "source": []
  },
  {
   "cell_type": "code",
   "execution_count": 39,
   "id": "ff95cd83",
   "metadata": {},
   "outputs": [],
   "source": [
    "# model = LinearRegression + cột output da dc normalize\n",
    "    # 3 cột số + median ==> rr = 0.27\n",
    "    # 3 cột số + mean ==> rr = 0.28\n",
    "    # 3 cột số (median) + 4 cột cate ==> err = 0.28\n",
    "    # 3 cột số (mean) + 4 cột cate ==> err = 0.28  ===> Có giá trị âm trong predict\n",
    "    \n",
    "    # full ssoos(median) + 4 cột cate (chọn top = 5) ==> err = 0,08\n",
    "    \n",
    "    # full ssoos(median) + 4 cột cate (chọn top = 4) ==> err = 0,019\n",
    "    \n",
    "\n",
    "#model = MLPRegressor\n",
    "\n",
    "    "
   ]
  },
  {
   "cell_type": "code",
   "execution_count": null,
   "id": "a7ddae02",
   "metadata": {},
   "outputs": [],
   "source": []
  }
 ],
 "metadata": {
  "kernelspec": {
   "display_name": "Python 3 (ipykernel)",
   "language": "python",
   "name": "python3"
  },
  "language_info": {
   "codemirror_mode": {
    "name": "ipython",
    "version": 3
   },
   "file_extension": ".py",
   "mimetype": "text/x-python",
   "name": "python",
   "nbconvert_exporter": "python",
   "pygments_lexer": "ipython3",
   "version": "3.8.8"
  },
  "toc": {
   "base_numbering": 1,
   "nav_menu": {},
   "number_sections": false,
   "sideBar": true,
   "skip_h1_title": false,
   "title_cell": "Table of Contents",
   "title_sidebar": "Contents",
   "toc_cell": false,
   "toc_position": {
    "height": "calc(100% - 180px)",
    "left": "10px",
    "top": "150px",
    "width": "242.102px"
   },
   "toc_section_display": true,
   "toc_window_display": true
  }
 },
 "nbformat": 4,
 "nbformat_minor": 5
}
