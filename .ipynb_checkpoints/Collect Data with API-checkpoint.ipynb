{
 "cells": [
  {
   "cell_type": "markdown",
   "id": "9cb5e810",
   "metadata": {},
   "source": [
    "## Thu thập dữ liệu"
   ]
  },
  {
   "cell_type": "markdown",
   "id": "84f295b7",
   "metadata": {},
   "source": [
    "`MASHVISOR` cung cấp các API trả về các thông tin liên quan đến bất động sản. [Link API document](https://www.mashvisor.com/api-doc/#the-property-object) \\\n",
    "Nhóm tập trung lấy thông tin các căn nhà hiện đang được bán ở thành phố Chicago bang IL, nước Mỹ."
   ]
  },
  {
   "cell_type": "markdown",
   "id": "0d12de98",
   "metadata": {},
   "source": [
    "### Import"
   ]
  },
  {
   "cell_type": "code",
   "execution_count": 2,
   "id": "2299603f",
   "metadata": {},
   "outputs": [],
   "source": [
    "import requests\n",
    "import pandas as pd\n",
    "import csv\n",
    "import time"
   ]
  },
  {
   "cell_type": "markdown",
   "id": "5d4f4286",
   "metadata": {},
   "source": [
    "### Gọi API"
   ]
  },
  {
   "cell_type": "markdown",
   "id": "ce988c79",
   "metadata": {},
   "source": [
    "API được dùng: https://api.mashvisor.com/v1.1/client/property?id=2214791&state=IL \\\n",
    "Gồm 2 tham số bắt buộc: \n",
    "- id: mã số của ngôi nhà\n",
    "- state: tên bang "
   ]
  },
  {
   "cell_type": "code",
   "execution_count": 3,
   "id": "fb611d9f",
   "metadata": {},
   "outputs": [],
   "source": [
    "# Đọc mã id đã lấy được\n",
    "f = open(\"id.txt\", \"r\")\n",
    "crawlID = f.read().split(\"\\n\")\n",
    "f.close()"
   ]
  },
  {
   "cell_type": "code",
   "execution_count": 11,
   "id": "88377b78",
   "metadata": {},
   "outputs": [],
   "source": [
    "# Lấy 100 id để gọi api\n",
    "id_s = crawlID[1165:1170]"
   ]
  },
  {
   "cell_type": "code",
   "execution_count": 12,
   "id": "3da02f54",
   "metadata": {},
   "outputs": [
    {
     "name": "stdout",
     "output_type": "stream",
     "text": [
      "success 2307994\n",
      "success 2486379\n",
      "success 2529903\n",
      "success 2486216\n",
      "success 2520955\n"
     ]
    }
   ],
   "source": [
    "method = \"get\"\n",
    "headers = {\n",
    "    'x-api-key': \"3204a295-8a89-4545-96de-4499e3acc430\" # Người dùng cung cấp\n",
    "    }\n",
    "jsonResult= []\n",
    "\n",
    "for id_ in id_s:\n",
    "    url = f'https://api.mashvisor.com/v1.1/client/property?id={int(id_)}&state=IL'\n",
    "    rsp = requests.request(method, url, headers=headers)\n",
    "    response = rsp.json()\n",
    "    if response['status'] == 'success':\n",
    "        jsonResult.append(response[\"content\"])\n",
    "\n",
    "    print(response['status'], id_)\n",
    "    time.sleep(2)"
   ]
  },
  {
   "cell_type": "code",
   "execution_count": null,
   "id": "bd5e180f",
   "metadata": {},
   "outputs": [],
   "source": [
    "# Ghi dữ liệu\n",
    "f=open('data_raw.csv', 'a')\n",
    "f.write(pd.DataFrame.from_dict(jsonResult).to_csv(index=False, header=None))\n",
    "f.close()"
   ]
  },
  {
   "cell_type": "markdown",
   "id": "8036bca1",
   "metadata": {},
   "source": [
    "### Khám phá + tiền xử lí (lựa chọn cột có thể sử dụng cho bài toán)"
   ]
  },
  {
   "cell_type": "markdown",
   "id": "185d0a6e",
   "metadata": {},
   "source": [
    "- Cần xóa những cột thật sự không phù hợp cho bài toán dựa trên ý nghĩa của cột"
   ]
  },
  {
   "cell_type": "code",
   "execution_count": 17,
   "id": "5d61caaf",
   "metadata": {},
   "outputs": [
    {
     "data": {
      "text/plain": [
       "78"
      ]
     },
     "execution_count": 17,
     "metadata": {},
     "output_type": "execute_result"
    }
   ],
   "source": [
    "len(jsonResult[0].keys())"
   ]
  },
  {
   "cell_type": "code",
   "execution_count": 18,
   "id": "2781e45d",
   "metadata": {},
   "outputs": [
    {
     "data": {
      "text/plain": [
       "19"
      ]
     },
     "execution_count": 18,
     "metadata": {},
     "output_type": "execute_result"
    }
   ],
   "source": [
    "keys_to_remove = [\"image\",'extra_images','agents','stateInterest','neighborhood','description','created_at','updated_ar',\n",
    "            'updated_at','description','ROI','meta','disclaimer','modification_timestamp','virtual_tours',\n",
    "            'videos','virtual_tours','owner_first_name','owner_last_name']"
   ]
  },
  {
   "cell_type": "code",
   "execution_count": null,
   "id": "3fa83b22",
   "metadata": {},
   "outputs": [],
   "source": [
    "def delKeys(res):\n",
    "    for key in keys_to_remove:\n",
    "        res['content'].pop(key, None)    \n",
    "    return res"
   ]
  }
 ],
 "metadata": {
  "kernelspec": {
   "display_name": "Python 3 (ipykernel)",
   "language": "python",
   "name": "python3"
  },
  "language_info": {
   "codemirror_mode": {
    "name": "ipython",
    "version": 3
   },
   "file_extension": ".py",
   "mimetype": "text/x-python",
   "name": "python",
   "nbconvert_exporter": "python",
   "pygments_lexer": "ipython3",
   "version": "3.8.8"
  },
  "toc": {
   "base_numbering": 1,
   "nav_menu": {},
   "number_sections": false,
   "sideBar": true,
   "skip_h1_title": false,
   "title_cell": "Table of Contents",
   "title_sidebar": "Contents",
   "toc_cell": false,
   "toc_position": {},
   "toc_section_display": true,
   "toc_window_display": true
  }
 },
 "nbformat": 4,
 "nbformat_minor": 5
}
