{
 "cells": [
  {
   "cell_type": "markdown",
   "metadata": {},
   "source": [
    "## Thu thập dữ liệu"
   ]
  },
  {
   "cell_type": "markdown",
   "metadata": {},
   "source": [
    "`MASHVISOR` cung cấp các API trả về các thông tin liên quan đến bất động sản. [Link API document](https://www.mashvisor.com/api-doc/#the-property-object) \\\n",
    "Nhóm tập trung lấy thông tin các căn nhà hiện đang được bán ở thành phố Chicago bang IL, nước Mỹ."
   ]
  },
  {
   "cell_type": "markdown",
   "metadata": {},
   "source": [
    "### Import"
   ]
  },
  {
   "cell_type": "code",
   "execution_count": 1,
   "metadata": {},
   "outputs": [],
   "source": [
    "import requests\n",
    "import pandas as pd\n",
    "import csv\n",
    "import time"
   ]
  },
  {
   "cell_type": "markdown",
   "metadata": {},
   "source": [
    "### Gọi API"
   ]
  },
  {
   "cell_type": "markdown",
   "metadata": {},
   "source": [
    "API được dùng: https://api.mashvisor.com/v1.1/client/property?id=2214791&state=IL \\\n",
    "Gồm 2 tham số bắt buộc: \n",
    "- id: mã số của ngôi nhà\n",
    "- state: tên bang "
   ]
  },
  {
   "cell_type": "code",
   "execution_count": 3,
   "metadata": {},
   "outputs": [],
   "source": [
    "# Đọc mã id đã lấy được\n",
    "f = open(\"id.txt\", \"r\")\n",
    "crawlID = f.read().split(\"\\n\")\n",
    "f.close()"
   ]
  },
  {
   "cell_type": "code",
   "execution_count": 11,
   "metadata": {},
   "outputs": [],
   "source": [
    "# Lấy 100 id để gọi api\n",
    "id_s = crawlID[1165:1170]"
   ]
  },
  {
   "cell_type": "code",
   "execution_count": 12,
   "metadata": {},
   "outputs": [
    {
     "name": "stdout",
     "output_type": "stream",
     "text": [
      "success 2307994\n",
      "success 2486379\n",
      "success 2529903\n",
      "success 2486216\n",
      "success 2520955\n"
     ]
    }
   ],
   "source": [
    "method = \"get\"\n",
    "headers = {\n",
    "    'x-api-key': \"3204a295-8a89-4545-96de-4499e3acc430\" # Người dùng cung cấp\n",
    "    }\n",
    "jsonResult= []\n",
    "\n",
    "for id_ in id_s:\n",
    "    url = f'https://api.mashvisor.com/v1.1/client/property?id={int(id_)}&state=IL'\n",
    "    rsp = requests.request(method, url, headers=headers)\n",
    "    response = rsp.json()\n",
    "    if response['status'] == 'success':\n",
    "        jsonResult.append(response[\"content\"])\n",
    "\n",
    "    print(response['status'], id_)\n",
    "    time.sleep(2)"
   ]
  },
  {
   "cell_type": "code",
   "execution_count": null,
   "metadata": {},
   "outputs": [],
   "source": [
    "# Ghi dữ liệu\n",
    "f=open('data_raw.csv', 'a')\n",
    "f.write(pd.DataFrame.from_dict(jsonResult).to_csv(index=False, header=None))\n",
    "f.close()"
   ]
  },
  {
   "cell_type": "markdown",
   "metadata": {},
   "source": [
    "## Khám phá + tiền xử lí (lựa chọn cột có thể sử dụng cho bài toán)"
   ]
  },
  {
   "cell_type": "markdown",
   "metadata": {},
   "source": [
    "### Đọc dữ liệu từ file vào DataFrame"
   ]
  },
  {
   "cell_type": "code",
   "execution_count": 8,
   "metadata": {},
   "outputs": [
    {
     "data": {
      "text/html": [
       "<div>\n",
       "<style scoped>\n",
       "    .dataframe tbody tr th:only-of-type {\n",
       "        vertical-align: middle;\n",
       "    }\n",
       "\n",
       "    .dataframe tbody tr th {\n",
       "        vertical-align: top;\n",
       "    }\n",
       "\n",
       "    .dataframe thead th {\n",
       "        text-align: right;\n",
       "    }\n",
       "</style>\n",
       "<table border=\"1\" class=\"dataframe\">\n",
       "  <thead>\n",
       "    <tr style=\"text-align: right;\">\n",
       "      <th></th>\n",
       "      <th>isShortSale</th>\n",
       "      <th>source</th>\n",
       "      <th>yearBuilt</th>\n",
       "      <th>nextOpenHouseEndTime</th>\n",
       "      <th>sqft</th>\n",
       "      <th>lastSaleDate</th>\n",
       "      <th>id</th>\n",
       "      <th>state</th>\n",
       "      <th>county</th>\n",
       "      <th>longitude</th>\n",
       "      <th>...</th>\n",
       "      <th>hoa_dues</th>\n",
       "      <th>view_type</th>\n",
       "      <th>parcel_number</th>\n",
       "      <th>architecture_style</th>\n",
       "      <th>has_pool</th>\n",
       "      <th>is_water_front</th>\n",
       "      <th>needs_repair</th>\n",
       "      <th>tenant_occupied</th>\n",
       "      <th>is_market_place</th>\n",
       "      <th>schools</th>\n",
       "    </tr>\n",
       "  </thead>\n",
       "  <tbody>\n",
       "    <tr>\n",
       "      <th>0</th>\n",
       "      <td>NaN</td>\n",
       "      <td>Chicagoland Brokers Inc.</td>\n",
       "      <td>1955.0</td>\n",
       "      <td>NaN</td>\n",
       "      <td>1100.0</td>\n",
       "      <td>NaN</td>\n",
       "      <td>2521392</td>\n",
       "      <td>IL</td>\n",
       "      <td>Cook County</td>\n",
       "      <td>-87.720482</td>\n",
       "      <td>...</td>\n",
       "      <td>NaN</td>\n",
       "      <td>NaN</td>\n",
       "      <td>1.935310e+13</td>\n",
       "      <td>Other</td>\n",
       "      <td>NaN</td>\n",
       "      <td>NaN</td>\n",
       "      <td>0</td>\n",
       "      <td>0</td>\n",
       "      <td>0</td>\n",
       "      <td>[{'category': 'Elementary', 'name': None, 'dis...</td>\n",
       "    </tr>\n",
       "  </tbody>\n",
       "</table>\n",
       "<p>1 rows × 61 columns</p>\n",
       "</div>"
      ],
      "text/plain": [
       "  isShortSale                    source  yearBuilt nextOpenHouseEndTime  \\\n",
       "0         NaN  Chicagoland Brokers Inc.     1955.0                  NaN   \n",
       "\n",
       "     sqft lastSaleDate       id state       county  longitude  ...  hoa_dues  \\\n",
       "0  1100.0          NaN  2521392    IL  Cook County -87.720482  ...       NaN   \n",
       "\n",
       "   view_type  parcel_number  architecture_style has_pool is_water_front  \\\n",
       "0        NaN   1.935310e+13               Other      NaN            NaN   \n",
       "\n",
       "  needs_repair  tenant_occupied  is_market_place  \\\n",
       "0            0                0                0   \n",
       "\n",
       "                                             schools  \n",
       "0  [{'category': 'Elementary', 'name': None, 'dis...  \n",
       "\n",
       "[1 rows x 61 columns]"
      ]
     },
     "execution_count": 8,
     "metadata": {},
     "output_type": "execute_result"
    }
   ],
   "source": [
    "df = pd.read_csv('data_raw.csv')\n",
    "df.head(1)"
   ]
  },
  {
   "cell_type": "markdown",
   "metadata": {},
   "source": [
    "### Khám phá dữ liệu"
   ]
  },
  {
   "cell_type": "markdown",
   "metadata": {},
   "source": [
    "#### Số dòng, cột"
   ]
  },
  {
   "cell_type": "code",
   "execution_count": 9,
   "metadata": {},
   "outputs": [
    {
     "data": {
      "text/plain": [
       "(1165, 61)"
      ]
     },
     "execution_count": 9,
     "metadata": {},
     "output_type": "execute_result"
    }
   ],
   "source": [
    "df.shape"
   ]
  },
  {
   "cell_type": "markdown",
   "metadata": {},
   "source": [
    "#### Kiểm tra số dòng bị lặp lại"
   ]
  },
  {
   "cell_type": "code",
   "execution_count": 10,
   "metadata": {},
   "outputs": [
    {
     "data": {
      "text/plain": [
       "0"
      ]
     },
     "execution_count": 10,
     "metadata": {},
     "output_type": "execute_result"
    }
   ],
   "source": [
    "df.duplicated().sum()"
   ]
  },
  {
   "cell_type": "markdown",
   "metadata": {},
   "source": [
    "#### Các cột của dữ liệu"
   ]
  },
  {
   "cell_type": "code",
   "execution_count": 11,
   "metadata": {},
   "outputs": [
    {
     "data": {
      "text/plain": [
       "Index(['isShortSale', 'source', 'yearBuilt', 'nextOpenHouseEndTime', 'sqft',\n",
       "       'lastSaleDate', 'id', 'state', 'county', 'longitude', 'zip', 'tax',\n",
       "       'mls_id', 'daysOnMarket', 'homeType', 'property_type',\n",
       "       'property_sub_type', 'beds', 'num_of_units', 'favorite', 'city',\n",
       "       'saleType', 'latitude', 'nextOpenHouseDate', 'recentReductionDate',\n",
       "       'title', 'rent_appreciation_rate', 'originalListPrice', 'parkingSpots',\n",
       "       'parkingType', 'address', 'nextOpenHouseStartTime', 'lotSize', 'url',\n",
       "       'baths', 'address_revealing', 'location', 'interested', 'listPrice',\n",
       "       'price_per_sqft', 'lastSalePrice', 'is_foreclosure',\n",
       "       'foreclosure_status', 'occupancy_status', 'owner_occupied',\n",
       "       'heating_system', 'cooling_system', 'walkscore',\n",
       "       'investment_likelihood_label', 'investment_likelihood_score',\n",
       "       'investment_likelihood_stars', 'hoa_dues', 'view_type', 'parcel_number',\n",
       "       'architecture_style', 'has_pool', 'is_water_front', 'needs_repair',\n",
       "       'tenant_occupied', 'is_market_place', 'schools'],\n",
       "      dtype='object')"
      ]
     },
     "execution_count": 11,
     "metadata": {},
     "output_type": "execute_result"
    }
   ],
   "source": [
    "df.columns"
   ]
  },
  {
   "cell_type": "markdown",
   "metadata": {},
   "source": [
    "#### Ý nghĩa của các cột:\n",
    "- `isShortSale`: nhà đó có phải dạng cho thuê ngắn hạn hay không\n",
    "- `source`:  tên tổ chức cho phép này được mua bán\n",
    "- `yearBuilt`: năm xây dựng căn nhà\n",
    "- `nextOpenHouseEndTime`: thời gian mở bán kết thúc\n",
    "- `sqft`: diện tích \n",
    "- `lastSaleDate`: ngày bán cuối cùng\n",
    "- `id`: mã nhà\n",
    "- `state`: tiểu bang\n",
    "- `county`: quận\n",
    "- `longitude`: kinh độ\n",
    "- `zip`: mã bưu điện \n",
    "- `tax`: tiền thuế\n",
    "- `mls_id` : mã MLS\n",
    "- `daysOnMarket`: số ngày kể từ khi được đăng bán\n",
    "- `homeType`: thuộc tính phụ do nhà cung cấp MLS cung cấp\n",
    "- `property_type`: thuộc tính chính do nhà cung cấp MLS cung cấp\n",
    "- `property_sub_type`: danh mục tài sản bất đông sản\n",
    "- `beds`: số phòng ngủ \n",
    "- `num_of_units`: số lượng nhà trong trường hợp bất động sản đa hệ gia đình (multifamily properties)\n",
    "- `favorite` : được yêu thích hay không\n",
    "- `city`: thành phố\n",
    "- `saleType`: nhà cung cấp\n",
    "- `latitude`: vĩ độ\n",
    "- `nextOpenHouseDate`: thời gian khai trương mở bán\n",
    "- `recentReductionDate`: ngày giảm giá gần đây\n",
    "- `title`:  tiêu đề\n",
    "- `rent_appreciation_rate`:  tỉ lệ thuê/mua\n",
    "- `originalListPrice`:  số tiền mở bán lúc mới bắt đầu\n",
    "- `parkingSpots`: số lượng bãi giữ xe\n",
    "- `parkingType`: loại bãi giữ xe\n",
    "- `address`: địa chỉ \n",
    "- `nextOpenHouseStartTime`: thời gian mở bán\n",
    "- `lotSize`: diện tích sử dụng \n",
    "- `url`: URL\n",
    "- `baths`: số lượng phòng tắm \n",
    "- `address_revealing`: cho phép lộ địa chỉ\n",
    "- `location`: khu vực lân cận \n",
    "- `interested`: hứng thú\n",
    "- `listPrice`: giá căn nhà\n",
    "- `price_per_sqft`: giá trên 1 đơn vị diện tích \n",
    "- `lastSalePrice`: giá bán cuối cùng \n",
    "- `is_foreclosure`: tịch thu hay không\n",
    "- `foreclosure_status`:  tình trạng tịch thu nhà\n",
    "- `occupancy_status`: tình trạng tài sản được sử dụng\n",
    "- `owner_occupied`: sở hữu bởi chủ nhà\n",
    "- `heating_system`: hệ thống sưởi\n",
    "- `cooling_system`: hệ thống làm lạnh \n",
    "- `walkscore`: giá trị điểm số\n",
    "- `investment_likelihood_label`: nhãn thể hiện khả năng đầu tư\n",
    "- `investment_likelihood_score`: số điểm thể hiện khả năng đầu tư\n",
    "- `investment_likelihood_stars`: số sao thể hiện khả năng đầu tư\n",
    "- `view_type`: view căn nhà \n",
    "- `parcel_number`: APN tài sản được chỉ định bởi người định thuế\n",
    "- `architecture_style`: loại kiến trúc  \n",
    "- `has_pool`: có hồ bơi\n",
    "- `is_water_front`: nhà hướng sông\n",
    "- `needs_repair`: có cần chuẩn bị gì không\n",
    "- `tenant_occupied`: sở hữu bởi người thuê nhà \n",
    "- `is_market_place`: gần chợ hay không\n",
    "- `schools`: trường học"
   ]
  },
  {
   "cell_type": "markdown",
   "metadata": {},
   "source": [
    "Có thể thấy là có quá nhiều cột trong dữ liệu. Để có thể làm bài toán của nhóm. Tụi em quyết định chỉ chọn ra các cột thật sự cần thiết trong việc dự đoán giá nhà ở như `beds`, `baths`, `sqft`, `property_type`, `parkingSpots`,`lotSize`, `listPrice`, `heating_system`, `cooling_system`, `view_type`, `architecture_style`, `has_pool`, `needs_repair`."
   ]
  },
  {
   "cell_type": "code",
   "execution_count": 41,
   "metadata": {},
   "outputs": [
    {
     "data": {
      "text/html": [
       "<div>\n",
       "<style scoped>\n",
       "    .dataframe tbody tr th:only-of-type {\n",
       "        vertical-align: middle;\n",
       "    }\n",
       "\n",
       "    .dataframe tbody tr th {\n",
       "        vertical-align: top;\n",
       "    }\n",
       "\n",
       "    .dataframe thead th {\n",
       "        text-align: right;\n",
       "    }\n",
       "</style>\n",
       "<table border=\"1\" class=\"dataframe\">\n",
       "  <thead>\n",
       "    <tr style=\"text-align: right;\">\n",
       "      <th></th>\n",
       "      <th>sqft</th>\n",
       "      <th>homeType</th>\n",
       "      <th>beds</th>\n",
       "      <th>parkingSpots</th>\n",
       "      <th>lotSize</th>\n",
       "      <th>baths</th>\n",
       "      <th>listPrice</th>\n",
       "      <th>heating_system</th>\n",
       "      <th>cooling_system</th>\n",
       "      <th>view_type</th>\n",
       "      <th>architecture_style</th>\n",
       "      <th>needs_repair</th>\n",
       "      <th>has_pool</th>\n",
       "    </tr>\n",
       "  </thead>\n",
       "  <tbody>\n",
       "    <tr>\n",
       "      <th>0</th>\n",
       "      <td>1100.0</td>\n",
       "      <td>Single Family Residential</td>\n",
       "      <td>3</td>\n",
       "      <td>NaN</td>\n",
       "      <td>3781.0</td>\n",
       "      <td>2</td>\n",
       "      <td>235000</td>\n",
       "      <td>Forced Air (Natural Gas)</td>\n",
       "      <td>Central A/C</td>\n",
       "      <td>NaN</td>\n",
       "      <td>Other</td>\n",
       "      <td>0</td>\n",
       "      <td>NaN</td>\n",
       "    </tr>\n",
       "    <tr>\n",
       "      <th>1</th>\n",
       "      <td>2200.0</td>\n",
       "      <td>Single Family Residential</td>\n",
       "      <td>4</td>\n",
       "      <td>2.0</td>\n",
       "      <td>4234.0</td>\n",
       "      <td>3</td>\n",
       "      <td>260000</td>\n",
       "      <td>Forced Air (Natural Gas)</td>\n",
       "      <td>Central A/C</td>\n",
       "      <td>NaN</td>\n",
       "      <td>Bungalow</td>\n",
       "      <td>0</td>\n",
       "      <td>NaN</td>\n",
       "    </tr>\n",
       "    <tr>\n",
       "      <th>2</th>\n",
       "      <td>750.0</td>\n",
       "      <td>Condo/Coop</td>\n",
       "      <td>2</td>\n",
       "      <td>NaN</td>\n",
       "      <td>NaN</td>\n",
       "      <td>1</td>\n",
       "      <td>275000</td>\n",
       "      <td>Forced Air (Natural Gas)</td>\n",
       "      <td>Central A/C</td>\n",
       "      <td>NaN</td>\n",
       "      <td>Other</td>\n",
       "      <td>0</td>\n",
       "      <td>NaN</td>\n",
       "    </tr>\n",
       "    <tr>\n",
       "      <th>3</th>\n",
       "      <td>1248.0</td>\n",
       "      <td>Single Family Residential</td>\n",
       "      <td>3</td>\n",
       "      <td>2.0</td>\n",
       "      <td>5279.0</td>\n",
       "      <td>2</td>\n",
       "      <td>309900</td>\n",
       "      <td>NaN</td>\n",
       "      <td>Central A/C</td>\n",
       "      <td>NaN</td>\n",
       "      <td>Ranch</td>\n",
       "      <td>0</td>\n",
       "      <td>NaN</td>\n",
       "    </tr>\n",
       "    <tr>\n",
       "      <th>4</th>\n",
       "      <td>1337.0</td>\n",
       "      <td>Single Family Residential</td>\n",
       "      <td>3</td>\n",
       "      <td>2.0</td>\n",
       "      <td>NaN</td>\n",
       "      <td>2</td>\n",
       "      <td>324900</td>\n",
       "      <td>Forced Air (Natural Gas)</td>\n",
       "      <td>Central A/C</td>\n",
       "      <td>NaN</td>\n",
       "      <td>Georgian</td>\n",
       "      <td>0</td>\n",
       "      <td>NaN</td>\n",
       "    </tr>\n",
       "  </tbody>\n",
       "</table>\n",
       "</div>"
      ],
      "text/plain": [
       "     sqft                   homeType  beds  parkingSpots  lotSize  baths  \\\n",
       "0  1100.0  Single Family Residential     3           NaN   3781.0      2   \n",
       "1  2200.0  Single Family Residential     4           2.0   4234.0      3   \n",
       "2   750.0                 Condo/Coop     2           NaN      NaN      1   \n",
       "3  1248.0  Single Family Residential     3           2.0   5279.0      2   \n",
       "4  1337.0  Single Family Residential     3           2.0      NaN      2   \n",
       "\n",
       "   listPrice            heating_system cooling_system  view_type  \\\n",
       "0     235000  Forced Air (Natural Gas)    Central A/C        NaN   \n",
       "1     260000  Forced Air (Natural Gas)    Central A/C        NaN   \n",
       "2     275000  Forced Air (Natural Gas)    Central A/C        NaN   \n",
       "3     309900                       NaN    Central A/C        NaN   \n",
       "4     324900  Forced Air (Natural Gas)    Central A/C        NaN   \n",
       "\n",
       "  architecture_style  needs_repair has_pool  \n",
       "0              Other             0      NaN  \n",
       "1           Bungalow             0      NaN  \n",
       "2              Other             0      NaN  \n",
       "3              Ranch             0      NaN  \n",
       "4           Georgian             0      NaN  "
      ]
     },
     "execution_count": 41,
     "metadata": {},
     "output_type": "execute_result"
    }
   ],
   "source": [
    "new_df = df[['sqft', 'homeType', 'beds', 'parkingSpots','lotSize', 'baths','listPrice', \n",
    "             'heating_system', 'cooling_system', 'view_type', 'architecture_style', 'needs_repair', 'has_pool']]\n",
    "new_df.head()"
   ]
  },
  {
   "cell_type": "markdown",
   "metadata": {},
   "source": [
    "#### Mỗi cột hiện đang có kiểu dữ liệu gì? Có cột nào có kiểu dữ liệu chưa phù hợp để có thể xử lý tiếp không?"
   ]
  },
  {
   "cell_type": "code",
   "execution_count": 42,
   "metadata": {},
   "outputs": [
    {
     "data": {
      "text/plain": [
       "sqft                  float64\n",
       "homeType               object\n",
       "beds                    int64\n",
       "parkingSpots          float64\n",
       "lotSize               float64\n",
       "baths                   int64\n",
       "listPrice               int64\n",
       "heating_system         object\n",
       "cooling_system         object\n",
       "view_type             float64\n",
       "architecture_style     object\n",
       "needs_repair            int64\n",
       "has_pool               object\n",
       "dtype: object"
      ]
     },
     "execution_count": 42,
     "metadata": {},
     "output_type": "execute_result"
    }
   ],
   "source": [
    "new_df.dtypes"
   ]
  },
  {
   "cell_type": "code",
   "execution_count": 43,
   "metadata": {},
   "outputs": [
    {
     "data": {
      "text/html": [
       "<div>\n",
       "<style scoped>\n",
       "    .dataframe tbody tr th:only-of-type {\n",
       "        vertical-align: middle;\n",
       "    }\n",
       "\n",
       "    .dataframe tbody tr th {\n",
       "        vertical-align: top;\n",
       "    }\n",
       "\n",
       "    .dataframe thead th {\n",
       "        text-align: right;\n",
       "    }\n",
       "</style>\n",
       "<table border=\"1\" class=\"dataframe\">\n",
       "  <thead>\n",
       "    <tr style=\"text-align: right;\">\n",
       "      <th></th>\n",
       "      <th>sqft</th>\n",
       "      <th>homeType</th>\n",
       "      <th>beds</th>\n",
       "      <th>parkingSpots</th>\n",
       "      <th>lotSize</th>\n",
       "      <th>baths</th>\n",
       "      <th>listPrice</th>\n",
       "      <th>heating_system</th>\n",
       "      <th>cooling_system</th>\n",
       "      <th>view_type</th>\n",
       "      <th>architecture_style</th>\n",
       "      <th>needs_repair</th>\n",
       "      <th>has_pool</th>\n",
       "    </tr>\n",
       "  </thead>\n",
       "  <tbody>\n",
       "    <tr>\n",
       "      <th>missing_percentage</th>\n",
       "      <td>20.5</td>\n",
       "      <td>0</td>\n",
       "      <td>0</td>\n",
       "      <td>20.3</td>\n",
       "      <td>43.4</td>\n",
       "      <td>0</td>\n",
       "      <td>0</td>\n",
       "      <td>29.8</td>\n",
       "      <td>1</td>\n",
       "      <td>100</td>\n",
       "      <td>0</td>\n",
       "      <td>0</td>\n",
       "      <td>97.5</td>\n",
       "    </tr>\n",
       "    <tr>\n",
       "      <th>num_values</th>\n",
       "      <td>458</td>\n",
       "      <td>4</td>\n",
       "      <td>5</td>\n",
       "      <td>10</td>\n",
       "      <td>278</td>\n",
       "      <td>5</td>\n",
       "      <td>474</td>\n",
       "      <td>21</td>\n",
       "      <td>5</td>\n",
       "      <td>0</td>\n",
       "      <td>16</td>\n",
       "      <td>1</td>\n",
       "      <td>1</td>\n",
       "    </tr>\n",
       "    <tr>\n",
       "      <th>value_percentages</th>\n",
       "      <td>{1200.0: 3.9, 1000.0: 3.3, 1100.0: 2.4, 1500.0: 2.4, 1300.0: 2.3, 900.0: 2.3, 1400.0: 1.9, 1600.0: 1.9, 800.0: 1.6, 2000.0: 1.6, 750.0: 1.3, 1800.0: 1.3, 2200.0: 1.2, 2400.0: 1.2, 3000.0: 1.1, 850...</td>\n",
       "      <td>{'Single Family Residential': 62.4, 'Condo/Coop': 37.1, 'Townhouse': 0.4, 'Other': 0.1}</td>\n",
       "      <td>{3: 31.3, 4: 31.2, 2: 22.9, 1: 12.3, 0: 2.2}</td>\n",
       "      <td>{2.0: 58.0, 1.0: 37.5, 3.0: 2.4, 4.0: 1.1, 6.0: 0.3, 100.0: 0.3, 98.0: 0.1, 50.0: 0.1, 0.0: 0.1, 5.0: 0.1}</td>\n",
       "      <td>{3746.0: 5.0, 3123.0: 5.0, 3136.0: 5.0, 3751.0: 4.7, 3781.0: 2.9, 3790.0: 2.7, 3703.0: 2.0, 3101.0: 1.7, 3149.0: 1.7, 3006.0: 1.5, 3720.0: 1.2, 5001.0: 1.2, 4008.0: 1.2, 4356.0: 1.1, 3093.0: 1.1, ...</td>\n",
       "      <td>{2: 47.3, 1: 32.2, 3: 14.7, 4: 5.2, 5: 0.7}</td>\n",
       "      <td>{275000: 1.5, 299900: 1.5, 270000: 1.0, 175000: 1.0, 325000: 1.0, 279900: 0.9, 215000: 0.9, 220000: 0.9, 195000: 0.9, 239900: 0.9, 199000: 0.9, 250000: 0.9, 309900: 0.8, 189000: 0.8, 230000: 0.8, ...</td>\n",
       "      <td>{'Forced Air (Natural Gas)': 59.3, 'Fireplace (Natural Gas)': 9.9, 'Forced Air': 7.0, 'Hot Water': 4.0, 'Baseboard (Natural Gas)': 3.2, 'Baseboard': 3.1, 'Radiator': 2.9, 'Hot Water (Natural Gas)'...</td>\n",
       "      <td>{'Central A/C': 72.8, 'None': 14.1, 'Window Unit(s) A/C': 12.7, 'Zoned A/C': 0.3, 'Partial': 0.1}</td>\n",
       "      <td>{}</td>\n",
       "      <td>{'Other': 62.7, 'Bungalow': 9.3, 'Ranch': 8.2, 'High Rise': 6.0, 'Cape Cod': 3.0, 'Loft': 2.1, 'Georgian': 2.0, 'Split Level': 1.5, 'Contemporary': 1.3, 'English': 0.9, 'Cottage': 0.9, 'New Tradit...</td>\n",
       "      <td>{0: 100.0}</td>\n",
       "      <td>{True: 100.0}</td>\n",
       "    </tr>\n",
       "  </tbody>\n",
       "</table>\n",
       "</div>"
      ],
      "text/plain": [
       "                                                                                                                                                                                                                       sqft  \\\n",
       "missing_percentage                                                                                                                                                                                                     20.5   \n",
       "num_values                                                                                                                                                                                                              458   \n",
       "value_percentages   {1200.0: 3.9, 1000.0: 3.3, 1100.0: 2.4, 1500.0: 2.4, 1300.0: 2.3, 900.0: 2.3, 1400.0: 1.9, 1600.0: 1.9, 800.0: 1.6, 2000.0: 1.6, 750.0: 1.3, 1800.0: 1.3, 2200.0: 1.2, 2400.0: 1.2, 3000.0: 1.1, 850...   \n",
       "\n",
       "                                                                                                   homeType  \\\n",
       "missing_percentage                                                                                        0   \n",
       "num_values                                                                                                4   \n",
       "value_percentages   {'Single Family Residential': 62.4, 'Condo/Coop': 37.1, 'Townhouse': 0.4, 'Other': 0.1}   \n",
       "\n",
       "                                                            beds  \\\n",
       "missing_percentage                                             0   \n",
       "num_values                                                     5   \n",
       "value_percentages   {3: 31.3, 4: 31.2, 2: 22.9, 1: 12.3, 0: 2.2}   \n",
       "\n",
       "                                                                                                                  parkingSpots  \\\n",
       "missing_percentage                                                                                                        20.3   \n",
       "num_values                                                                                                                  10   \n",
       "value_percentages   {2.0: 58.0, 1.0: 37.5, 3.0: 2.4, 4.0: 1.1, 6.0: 0.3, 100.0: 0.3, 98.0: 0.1, 50.0: 0.1, 0.0: 0.1, 5.0: 0.1}   \n",
       "\n",
       "                                                                                                                                                                                                                    lotSize  \\\n",
       "missing_percentage                                                                                                                                                                                                     43.4   \n",
       "num_values                                                                                                                                                                                                              278   \n",
       "value_percentages   {3746.0: 5.0, 3123.0: 5.0, 3136.0: 5.0, 3751.0: 4.7, 3781.0: 2.9, 3790.0: 2.7, 3703.0: 2.0, 3101.0: 1.7, 3149.0: 1.7, 3006.0: 1.5, 3720.0: 1.2, 5001.0: 1.2, 4008.0: 1.2, 4356.0: 1.1, 3093.0: 1.1, ...   \n",
       "\n",
       "                                                          baths  \\\n",
       "missing_percentage                                            0   \n",
       "num_values                                                    5   \n",
       "value_percentages   {2: 47.3, 1: 32.2, 3: 14.7, 4: 5.2, 5: 0.7}   \n",
       "\n",
       "                                                                                                                                                                                                                  listPrice  \\\n",
       "missing_percentage                                                                                                                                                                                                        0   \n",
       "num_values                                                                                                                                                                                                              474   \n",
       "value_percentages   {275000: 1.5, 299900: 1.5, 270000: 1.0, 175000: 1.0, 325000: 1.0, 279900: 0.9, 215000: 0.9, 220000: 0.9, 195000: 0.9, 239900: 0.9, 199000: 0.9, 250000: 0.9, 309900: 0.8, 189000: 0.8, 230000: 0.8, ...   \n",
       "\n",
       "                                                                                                                                                                                                             heating_system  \\\n",
       "missing_percentage                                                                                                                                                                                                     29.8   \n",
       "num_values                                                                                                                                                                                                               21   \n",
       "value_percentages   {'Forced Air (Natural Gas)': 59.3, 'Fireplace (Natural Gas)': 9.9, 'Forced Air': 7.0, 'Hot Water': 4.0, 'Baseboard (Natural Gas)': 3.2, 'Baseboard': 3.1, 'Radiator': 2.9, 'Hot Water (Natural Gas)'...   \n",
       "\n",
       "                                                                                                       cooling_system  \\\n",
       "missing_percentage                                                                                                  1   \n",
       "num_values                                                                                                          5   \n",
       "value_percentages   {'Central A/C': 72.8, 'None': 14.1, 'Window Unit(s) A/C': 12.7, 'Zoned A/C': 0.3, 'Partial': 0.1}   \n",
       "\n",
       "                   view_type  \\\n",
       "missing_percentage       100   \n",
       "num_values                 0   \n",
       "value_percentages         {}   \n",
       "\n",
       "                                                                                                                                                                                                         architecture_style  \\\n",
       "missing_percentage                                                                                                                                                                                                        0   \n",
       "num_values                                                                                                                                                                                                               16   \n",
       "value_percentages   {'Other': 62.7, 'Bungalow': 9.3, 'Ranch': 8.2, 'High Rise': 6.0, 'Cape Cod': 3.0, 'Loft': 2.1, 'Georgian': 2.0, 'Split Level': 1.5, 'Contemporary': 1.3, 'English': 0.9, 'Cottage': 0.9, 'New Tradit...   \n",
       "\n",
       "                   needs_repair       has_pool  \n",
       "missing_percentage            0           97.5  \n",
       "num_values                    1              1  \n",
       "value_percentages    {0: 100.0}  {True: 100.0}  "
      ]
     },
     "execution_count": 43,
     "metadata": {},
     "output_type": "execute_result"
    }
   ],
   "source": [
    "pd.set_option('display.max_colwidth', 200)\n",
    "def missing_percentage(c):\n",
    "    return (c.isna().mean() * 100).round(1)\n",
    "def num_values(df):\n",
    "    return df.nunique()\n",
    "def value_percentages(c):\n",
    "    return dict((c.value_counts(normalize=True) * 100).round(1))\n",
    "new_df.agg([missing_percentage, num_values, value_percentages])"
   ]
  },
  {
   "cell_type": "markdown",
   "metadata": {},
   "source": [
    "### Tiền xử lý"
   ]
  },
  {
   "cell_type": "code",
   "execution_count": null,
   "metadata": {},
   "outputs": [],
   "source": []
  }
 ],
 "metadata": {
  "kernelspec": {
   "display_name": "Python 3",
   "language": "python",
   "name": "python3"
  },
  "language_info": {
   "codemirror_mode": {
    "name": "ipython",
    "version": 3
   },
   "file_extension": ".py",
   "mimetype": "text/x-python",
   "name": "python",
   "nbconvert_exporter": "python",
   "pygments_lexer": "ipython3",
   "version": "3.8.5"
  },
  "toc": {
   "base_numbering": 1,
   "nav_menu": {},
   "number_sections": false,
   "sideBar": true,
   "skip_h1_title": false,
   "title_cell": "Table of Contents",
   "title_sidebar": "Contents",
   "toc_cell": false,
   "toc_position": {},
   "toc_section_display": true,
   "toc_window_display": true
  }
 },
 "nbformat": 4,
 "nbformat_minor": 5
}
