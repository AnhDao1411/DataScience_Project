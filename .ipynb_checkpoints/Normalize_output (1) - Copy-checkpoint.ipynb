{
 "cells": [
  {
   "cell_type": "markdown",
   "id": "43100e3f",
   "metadata": {},
   "source": [
    "## Import"
   ]
  },
  {
   "cell_type": "code",
   "execution_count": 1,
   "id": "c0871963",
   "metadata": {},
   "outputs": [],
   "source": [
    "import matplotlib.pyplot as plt\n",
    "import seaborn as sns # seaborn là thư viện được xây trên matplotlib, \n",
    "                      # giúp việc visualization đỡ khổ hơn\n",
    "import pandas as pd\n",
    "import numpy as np\n",
    "\n",
    "from sklearn.model_selection import train_test_split\n",
    "from sklearn.preprocessing import OneHotEncoder, StandardScaler, MinMaxScaler\n",
    "from sklearn.impute import SimpleImputer\n",
    "from sklearn.base import BaseEstimator, TransformerMixin\n",
    "from sklearn.pipeline import Pipeline, make_pipeline\n",
    "from sklearn.compose import ColumnTransformer, make_column_transformer\n",
    "from sklearn.neural_network import MLPClassifier, MLPRegressor\n",
    "from sklearn import set_config\n",
    "set_config(display='diagram') # Để trực quan hóa pipeline\n",
    "\n",
    "# You can also import other things ...\n",
    "# YOUR CODE HERE (OPTION)\n",
    "import csv\n",
    "from sklearn.linear_model import LinearRegression"
   ]
  },
  {
   "cell_type": "markdown",
   "id": "291ea516",
   "metadata": {},
   "source": [
    "## Thu thập dữ liệu"
   ]
  },
  {
   "cell_type": "code",
   "execution_count": 2,
   "id": "33d020c8",
   "metadata": {
    "scrolled": false
   },
   "outputs": [
    {
     "data": {
      "text/html": [
       "<div>\n",
       "<style scoped>\n",
       "    .dataframe tbody tr th:only-of-type {\n",
       "        vertical-align: middle;\n",
       "    }\n",
       "\n",
       "    .dataframe tbody tr th {\n",
       "        vertical-align: top;\n",
       "    }\n",
       "\n",
       "    .dataframe thead th {\n",
       "        text-align: right;\n",
       "    }\n",
       "</style>\n",
       "<table border=\"1\" class=\"dataframe\">\n",
       "  <thead>\n",
       "    <tr style=\"text-align: right;\">\n",
       "      <th></th>\n",
       "      <th>sqft</th>\n",
       "      <th>homeType</th>\n",
       "      <th>beds</th>\n",
       "      <th>parkingSpots</th>\n",
       "      <th>lotSize</th>\n",
       "      <th>baths</th>\n",
       "      <th>listPrice</th>\n",
       "      <th>heating_system</th>\n",
       "      <th>cooling_system</th>\n",
       "      <th>view_type</th>\n",
       "      <th>architecture_style</th>\n",
       "      <th>yearBuilt</th>\n",
       "      <th>has_pool</th>\n",
       "      <th>city</th>\n",
       "      <th>address</th>\n",
       "      <th>tax</th>\n",
       "    </tr>\n",
       "  </thead>\n",
       "  <tbody>\n",
       "    <tr>\n",
       "      <th>0</th>\n",
       "      <td>1100.0</td>\n",
       "      <td>Single Family Residential</td>\n",
       "      <td>3</td>\n",
       "      <td>NaN</td>\n",
       "      <td>3781.0</td>\n",
       "      <td>2</td>\n",
       "      <td>235000</td>\n",
       "      <td>Forced Air (Natural Gas)</td>\n",
       "      <td>Central A/C</td>\n",
       "      <td>NaN</td>\n",
       "      <td>Other</td>\n",
       "      <td>1955.0</td>\n",
       "      <td>NaN</td>\n",
       "      <td>Chicago</td>\n",
       "      <td>3932 West 84th Street</td>\n",
       "      <td>2642.29</td>\n",
       "    </tr>\n",
       "    <tr>\n",
       "      <th>1</th>\n",
       "      <td>2200.0</td>\n",
       "      <td>Single Family Residential</td>\n",
       "      <td>4</td>\n",
       "      <td>2.0</td>\n",
       "      <td>4234.0</td>\n",
       "      <td>3</td>\n",
       "      <td>260000</td>\n",
       "      <td>Forced Air (Natural Gas)</td>\n",
       "      <td>Central A/C</td>\n",
       "      <td>NaN</td>\n",
       "      <td>Bungalow</td>\n",
       "      <td>1915.0</td>\n",
       "      <td>NaN</td>\n",
       "      <td>Chicago</td>\n",
       "      <td>1119 North Lockwood Avenue</td>\n",
       "      <td>2938.45</td>\n",
       "    </tr>\n",
       "    <tr>\n",
       "      <th>2</th>\n",
       "      <td>750.0</td>\n",
       "      <td>Condo/Coop</td>\n",
       "      <td>2</td>\n",
       "      <td>NaN</td>\n",
       "      <td>NaN</td>\n",
       "      <td>1</td>\n",
       "      <td>275000</td>\n",
       "      <td>Forced Air (Natural Gas)</td>\n",
       "      <td>Central A/C</td>\n",
       "      <td>NaN</td>\n",
       "      <td>Other</td>\n",
       "      <td>1926.0</td>\n",
       "      <td>NaN</td>\n",
       "      <td>Chicago</td>\n",
       "      <td>1100 North Paulina Street #1M</td>\n",
       "      <td>4722.00</td>\n",
       "    </tr>\n",
       "    <tr>\n",
       "      <th>3</th>\n",
       "      <td>1248.0</td>\n",
       "      <td>Single Family Residential</td>\n",
       "      <td>3</td>\n",
       "      <td>2.0</td>\n",
       "      <td>5279.0</td>\n",
       "      <td>2</td>\n",
       "      <td>309900</td>\n",
       "      <td>NaN</td>\n",
       "      <td>Central A/C</td>\n",
       "      <td>NaN</td>\n",
       "      <td>Ranch</td>\n",
       "      <td>1962.0</td>\n",
       "      <td>NaN</td>\n",
       "      <td>Chicago</td>\n",
       "      <td>4909 North Normandy Avenue</td>\n",
       "      <td>560.03</td>\n",
       "    </tr>\n",
       "    <tr>\n",
       "      <th>4</th>\n",
       "      <td>1337.0</td>\n",
       "      <td>Single Family Residential</td>\n",
       "      <td>3</td>\n",
       "      <td>2.0</td>\n",
       "      <td>NaN</td>\n",
       "      <td>2</td>\n",
       "      <td>324900</td>\n",
       "      <td>Forced Air (Natural Gas)</td>\n",
       "      <td>Central A/C</td>\n",
       "      <td>NaN</td>\n",
       "      <td>Georgian</td>\n",
       "      <td>1949.0</td>\n",
       "      <td>NaN</td>\n",
       "      <td>Chicago</td>\n",
       "      <td>10034 South Artesian Avenue</td>\n",
       "      <td>77.40</td>\n",
       "    </tr>\n",
       "    <tr>\n",
       "      <th>...</th>\n",
       "      <td>...</td>\n",
       "      <td>...</td>\n",
       "      <td>...</td>\n",
       "      <td>...</td>\n",
       "      <td>...</td>\n",
       "      <td>...</td>\n",
       "      <td>...</td>\n",
       "      <td>...</td>\n",
       "      <td>...</td>\n",
       "      <td>...</td>\n",
       "      <td>...</td>\n",
       "      <td>...</td>\n",
       "      <td>...</td>\n",
       "      <td>...</td>\n",
       "      <td>...</td>\n",
       "      <td>...</td>\n",
       "    </tr>\n",
       "    <tr>\n",
       "      <th>1621</th>\n",
       "      <td>1939.0</td>\n",
       "      <td>Condo/Coop</td>\n",
       "      <td>2</td>\n",
       "      <td>1.0</td>\n",
       "      <td>NaN</td>\n",
       "      <td>3</td>\n",
       "      <td>525000</td>\n",
       "      <td>Forced Air (Natural Gas)</td>\n",
       "      <td>Central A/C</td>\n",
       "      <td>NaN</td>\n",
       "      <td>Other</td>\n",
       "      <td>2001.0</td>\n",
       "      <td>NaN</td>\n",
       "      <td>Chicago</td>\n",
       "      <td>309 North Union Avenue #C</td>\n",
       "      <td>9314.65</td>\n",
       "    </tr>\n",
       "    <tr>\n",
       "      <th>1622</th>\n",
       "      <td>1400.0</td>\n",
       "      <td>Condo/Coop</td>\n",
       "      <td>2</td>\n",
       "      <td>1.0</td>\n",
       "      <td>NaN</td>\n",
       "      <td>2</td>\n",
       "      <td>425000</td>\n",
       "      <td>Forced Air (Natural Gas)</td>\n",
       "      <td>Central A/C</td>\n",
       "      <td>NaN</td>\n",
       "      <td>Other</td>\n",
       "      <td>1998.0</td>\n",
       "      <td>NaN</td>\n",
       "      <td>Chicago</td>\n",
       "      <td>2251 West Saint Paul Avenue #2F</td>\n",
       "      <td>6445.46</td>\n",
       "    </tr>\n",
       "    <tr>\n",
       "      <th>1623</th>\n",
       "      <td>NaN</td>\n",
       "      <td>Condo/Coop</td>\n",
       "      <td>3</td>\n",
       "      <td>1.0</td>\n",
       "      <td>NaN</td>\n",
       "      <td>2</td>\n",
       "      <td>525000</td>\n",
       "      <td>Forced Air (Natural Gas)</td>\n",
       "      <td>Central A/C</td>\n",
       "      <td>NaN</td>\n",
       "      <td>Other</td>\n",
       "      <td>NaN</td>\n",
       "      <td>NaN</td>\n",
       "      <td>Chicago</td>\n",
       "      <td>1423 West FLETCHER Street #CH</td>\n",
       "      <td>11275.42</td>\n",
       "    </tr>\n",
       "    <tr>\n",
       "      <th>1624</th>\n",
       "      <td>NaN</td>\n",
       "      <td>Condo/Coop</td>\n",
       "      <td>2</td>\n",
       "      <td>1.0</td>\n",
       "      <td>16207.0</td>\n",
       "      <td>2</td>\n",
       "      <td>499000</td>\n",
       "      <td>Forced Air (Natural Gas)</td>\n",
       "      <td>Central A/C</td>\n",
       "      <td>NaN</td>\n",
       "      <td>Other</td>\n",
       "      <td>2000.0</td>\n",
       "      <td>True</td>\n",
       "      <td>Chicago</td>\n",
       "      <td>400 North CLINTON Street #404</td>\n",
       "      <td>9629.73</td>\n",
       "    </tr>\n",
       "    <tr>\n",
       "      <th>1625</th>\n",
       "      <td>2550.0</td>\n",
       "      <td>Condo/Coop</td>\n",
       "      <td>3</td>\n",
       "      <td>1.0</td>\n",
       "      <td>NaN</td>\n",
       "      <td>3</td>\n",
       "      <td>699000</td>\n",
       "      <td>Forced Air (Natural Gas)</td>\n",
       "      <td>Central A/C</td>\n",
       "      <td>NaN</td>\n",
       "      <td>Other</td>\n",
       "      <td>2007.0</td>\n",
       "      <td>NaN</td>\n",
       "      <td>Chicago</td>\n",
       "      <td>857 North Hermitage Avenue #1</td>\n",
       "      <td>11597.00</td>\n",
       "    </tr>\n",
       "  </tbody>\n",
       "</table>\n",
       "<p>1626 rows × 16 columns</p>\n",
       "</div>"
      ],
      "text/plain": [
       "        sqft                   homeType  beds  parkingSpots  lotSize  baths  \\\n",
       "0     1100.0  Single Family Residential     3           NaN   3781.0      2   \n",
       "1     2200.0  Single Family Residential     4           2.0   4234.0      3   \n",
       "2      750.0                 Condo/Coop     2           NaN      NaN      1   \n",
       "3     1248.0  Single Family Residential     3           2.0   5279.0      2   \n",
       "4     1337.0  Single Family Residential     3           2.0      NaN      2   \n",
       "...      ...                        ...   ...           ...      ...    ...   \n",
       "1621  1939.0                 Condo/Coop     2           1.0      NaN      3   \n",
       "1622  1400.0                 Condo/Coop     2           1.0      NaN      2   \n",
       "1623     NaN                 Condo/Coop     3           1.0      NaN      2   \n",
       "1624     NaN                 Condo/Coop     2           1.0  16207.0      2   \n",
       "1625  2550.0                 Condo/Coop     3           1.0      NaN      3   \n",
       "\n",
       "      listPrice            heating_system cooling_system  view_type  \\\n",
       "0        235000  Forced Air (Natural Gas)    Central A/C        NaN   \n",
       "1        260000  Forced Air (Natural Gas)    Central A/C        NaN   \n",
       "2        275000  Forced Air (Natural Gas)    Central A/C        NaN   \n",
       "3        309900                       NaN    Central A/C        NaN   \n",
       "4        324900  Forced Air (Natural Gas)    Central A/C        NaN   \n",
       "...         ...                       ...            ...        ...   \n",
       "1621     525000  Forced Air (Natural Gas)    Central A/C        NaN   \n",
       "1622     425000  Forced Air (Natural Gas)    Central A/C        NaN   \n",
       "1623     525000  Forced Air (Natural Gas)    Central A/C        NaN   \n",
       "1624     499000  Forced Air (Natural Gas)    Central A/C        NaN   \n",
       "1625     699000  Forced Air (Natural Gas)    Central A/C        NaN   \n",
       "\n",
       "     architecture_style  yearBuilt has_pool     city  \\\n",
       "0                 Other     1955.0      NaN  Chicago   \n",
       "1              Bungalow     1915.0      NaN  Chicago   \n",
       "2                 Other     1926.0      NaN  Chicago   \n",
       "3                 Ranch     1962.0      NaN  Chicago   \n",
       "4              Georgian     1949.0      NaN  Chicago   \n",
       "...                 ...        ...      ...      ...   \n",
       "1621              Other     2001.0      NaN  Chicago   \n",
       "1622              Other     1998.0      NaN  Chicago   \n",
       "1623              Other        NaN      NaN  Chicago   \n",
       "1624              Other     2000.0     True  Chicago   \n",
       "1625              Other     2007.0      NaN  Chicago   \n",
       "\n",
       "                              address       tax  \n",
       "0               3932 West 84th Street   2642.29  \n",
       "1          1119 North Lockwood Avenue   2938.45  \n",
       "2       1100 North Paulina Street #1M   4722.00  \n",
       "3          4909 North Normandy Avenue    560.03  \n",
       "4         10034 South Artesian Avenue     77.40  \n",
       "...                               ...       ...  \n",
       "1621        309 North Union Avenue #C   9314.65  \n",
       "1622  2251 West Saint Paul Avenue #2F   6445.46  \n",
       "1623    1423 West FLETCHER Street #CH  11275.42  \n",
       "1624    400 North CLINTON Street #404   9629.73  \n",
       "1625    857 North Hermitage Avenue #1  11597.00  \n",
       "\n",
       "[1626 rows x 16 columns]"
      ]
     },
     "execution_count": 2,
     "metadata": {},
     "output_type": "execute_result"
    }
   ],
   "source": [
    "# Đọc dữ liệu từ \"data.csv\"\n",
    "df = pd.read_csv('data_better_distribute.csv')\n",
    "df"
   ]
  },
  {
   "cell_type": "markdown",
   "id": "4d718480",
   "metadata": {},
   "source": [
    "---"
   ]
  },
  {
   "cell_type": "markdown",
   "id": "f2db0322",
   "metadata": {},
   "source": [
    "## Khám phá dữ liệu (để làm rõ câu hỏi)"
   ]
  },
  {
   "cell_type": "markdown",
   "id": "a885b8e8",
   "metadata": {},
   "source": [
    "### Số dòng và cột"
   ]
  },
  {
   "cell_type": "code",
   "execution_count": 3,
   "id": "b93669b4",
   "metadata": {},
   "outputs": [
    {
     "data": {
      "text/plain": [
       "(1626, 16)"
      ]
     },
     "execution_count": 3,
     "metadata": {},
     "output_type": "execute_result"
    }
   ],
   "source": [
    "df.shape"
   ]
  },
  {
   "cell_type": "markdown",
   "id": "7d99ef6f",
   "metadata": {},
   "source": [
    "### Ý nghĩa của từng dòng. Có dòng nào không phù hợp không?"
   ]
  },
  {
   "cell_type": "markdown",
   "id": "1aa01416",
   "metadata": {},
   "source": [
    "Mỗi dòng thể hiện 17 thông tin khác nhau của một căn nhà được giao bán. Do dữ liệu được lấy trong trang mô tả chi tiết của từng căn nhà nên sẽ không có dòng nào đặc biệt.\n",
    "\n",
    "Tuy nhiên người đăng có thể giao bán 1 căn nhà nhiều lần, các dòng có thể bị lặp lại."
   ]
  },
  {
   "cell_type": "markdown",
   "id": "903111bb",
   "metadata": {},
   "source": [
    "### Kiểm tra số dòng bị lặp lại"
   ]
  },
  {
   "cell_type": "code",
   "execution_count": 4,
   "id": "b4d281c6",
   "metadata": {},
   "outputs": [
    {
     "data": {
      "text/plain": [
       "48"
      ]
     },
     "execution_count": 4,
     "metadata": {},
     "output_type": "execute_result"
    }
   ],
   "source": [
    "df.duplicated().sum()"
   ]
  },
  {
   "cell_type": "markdown",
   "id": "50c9665e",
   "metadata": {},
   "source": [
    "$\\to$ Sẽ được đưa vào Pipeline tiền xử lí chung trong tệp huấn luyện"
   ]
  },
  {
   "cell_type": "markdown",
   "id": "257fa6c2",
   "metadata": {},
   "source": [
    "### Ý nghĩa của mỗi cột"
   ]
  },
  {
   "cell_type": "code",
   "execution_count": 5,
   "id": "fe9bce8d",
   "metadata": {},
   "outputs": [
    {
     "data": {
      "text/html": [
       "<div>\n",
       "<style scoped>\n",
       "    .dataframe tbody tr th:only-of-type {\n",
       "        vertical-align: middle;\n",
       "    }\n",
       "\n",
       "    .dataframe tbody tr th {\n",
       "        vertical-align: top;\n",
       "    }\n",
       "\n",
       "    .dataframe thead th {\n",
       "        text-align: right;\n",
       "    }\n",
       "</style>\n",
       "<table border=\"1\" class=\"dataframe\">\n",
       "  <thead>\n",
       "    <tr style=\"text-align: right;\">\n",
       "      <th></th>\n",
       "      <th>sqft</th>\n",
       "      <th>homeType</th>\n",
       "      <th>beds</th>\n",
       "      <th>parkingSpots</th>\n",
       "      <th>lotSize</th>\n",
       "      <th>baths</th>\n",
       "      <th>listPrice</th>\n",
       "      <th>heating_system</th>\n",
       "      <th>cooling_system</th>\n",
       "      <th>view_type</th>\n",
       "      <th>architecture_style</th>\n",
       "      <th>yearBuilt</th>\n",
       "      <th>has_pool</th>\n",
       "      <th>city</th>\n",
       "      <th>address</th>\n",
       "      <th>tax</th>\n",
       "    </tr>\n",
       "  </thead>\n",
       "  <tbody>\n",
       "    <tr>\n",
       "      <th>0</th>\n",
       "      <td>1100.0</td>\n",
       "      <td>Single Family Residential</td>\n",
       "      <td>3</td>\n",
       "      <td>NaN</td>\n",
       "      <td>3781.0</td>\n",
       "      <td>2</td>\n",
       "      <td>235000</td>\n",
       "      <td>Forced Air (Natural Gas)</td>\n",
       "      <td>Central A/C</td>\n",
       "      <td>NaN</td>\n",
       "      <td>Other</td>\n",
       "      <td>1955.0</td>\n",
       "      <td>NaN</td>\n",
       "      <td>Chicago</td>\n",
       "      <td>3932 West 84th Street</td>\n",
       "      <td>2642.29</td>\n",
       "    </tr>\n",
       "  </tbody>\n",
       "</table>\n",
       "</div>"
      ],
      "text/plain": [
       "     sqft                   homeType  beds  parkingSpots  lotSize  baths  \\\n",
       "0  1100.0  Single Family Residential     3           NaN   3781.0      2   \n",
       "\n",
       "   listPrice            heating_system cooling_system  view_type  \\\n",
       "0     235000  Forced Air (Natural Gas)    Central A/C        NaN   \n",
       "\n",
       "  architecture_style  yearBuilt has_pool     city                address  \\\n",
       "0              Other     1955.0      NaN  Chicago  3932 West 84th Street   \n",
       "\n",
       "       tax  \n",
       "0  2642.29  "
      ]
     },
     "execution_count": 5,
     "metadata": {},
     "output_type": "execute_result"
    }
   ],
   "source": [
    "df.head(1)"
   ]
  },
  {
   "cell_type": "markdown",
   "id": "3650de47",
   "metadata": {},
   "source": [
    "**Ý nghĩa của từng cột** \n",
    "- `beds` : Số phòng ngủ\n",
    "- `baths` : Số phòng vệ sinh\n",
    "- `house_type` : Loại hình nhà ở\n",
    "- `sqlt` : Diện tích căn nhà\n",
    "- `parkingSpots`: chỗ đỗ xe\n",
    "- `address` : Địa chỉ của căn nhà\n",
    "- `listPrice `: Giá tiền hiện giao bán\n",
    "- `lotSize`: diện tích sử dụng\n",
    "- `heating system`: hệ thống giữ nhiệt\n",
    "- `cooling system`: hệ thống làm lạnh\n",
    "- `view_type`: view của căn nhà\n",
    "- `architecture_style`: phong cách thiết kế\n",
    "- `yearBuilt`: năm xây dựng\n",
    "- `has_pool`: số lượng hồ bơi\n",
    "- `city`: thành phố\n",
    "- `tax`: tiền thuế"
   ]
  },
  {
   "cell_type": "markdown",
   "id": "12e55fd7",
   "metadata": {},
   "source": [
    "### Làm rõ câu hỏi"
   ]
  },
  {
   "cell_type": "markdown",
   "id": "16246896",
   "metadata": {},
   "source": [
    "**Câu hỏi đưa ra:** Với một căn nhà mơ ước, người khách hàng cần bao nhiêu tiền để có thể mua được ở bang Chicago của Mỹ ? \n",
    "\n",
    "Tạm thời các cột Input sẽ là thông tin liên quan tới căn nhà được giao bán, tổng cộng có 16 cột. Cột Output sẽ là giá bán của ngôi nhà. Nhóm sẽ sử dụng mô hình hồi quy để dự đoán giá nhà (cột Output) dựa trên thông tin của căn nhà (cột Input).\n",
    "\n",
    "Các cột Input có thể thay đổi ở các bước tiền xử lý sau.\n",
    "\n",
    "**Lợi ích khi trả lời**: \n",
    "\n",
    "Có thể đưa ra một mức giá sấp xỉ để những người trẻ có thể dựa vào đó để nổ lực phấn đấu mua được căn nhà mình muốn."
   ]
  },
  {
   "cell_type": "markdown",
   "id": "7d7e5b3d",
   "metadata": {},
   "source": [
    "## Khám phá dữ liệu (để tách các tập)\n"
   ]
  },
  {
   "cell_type": "markdown",
   "id": "ecef10cb",
   "metadata": {},
   "source": [
    "Để biết cách tách các tập thì ta cần khám phá thêm cột output một ít:\n",
    "- Cột này hiện có kiểu dữ liệu là gì? Trong bài toán hồi qui thì cột output bắt buộc phải có dạng số; nếu hiện chưa có dạng số (ví dụ, số nhưng được lưu dưới dạng chuỗi) thì ta cần chuyển sang dạng số rồi mới tách các tập.\n",
    "- Cột này có giá trị thiếu không? Nếu có giá trị thiếu thì ta sẽ bỏ các dòng mà output có giá trị thiếu rồi mới tách các tập \n",
    "- Cột numerical output xử lí như nào?"
   ]
  },
  {
   "cell_type": "code",
   "execution_count": 6,
   "id": "fe25b674",
   "metadata": {},
   "outputs": [
    {
     "data": {
      "text/plain": [
       "dtype('int64')"
      ]
     },
     "execution_count": 6,
     "metadata": {},
     "output_type": "execute_result"
    }
   ],
   "source": [
    "# Kiểu dữ liệu cột output\n",
    "df['listPrice'].dtype"
   ]
  },
  {
   "cell_type": "code",
   "execution_count": 7,
   "id": "ca8ee724",
   "metadata": {},
   "outputs": [
    {
     "data": {
      "text/plain": [
       "0"
      ]
     },
     "execution_count": 7,
     "metadata": {},
     "output_type": "execute_result"
    }
   ],
   "source": [
    "# Có giá trị nào thiếu không?\n",
    "df['listPrice'].isna().sum()"
   ]
  },
  {
   "cell_type": "code",
   "execution_count": 8,
   "id": "338a3f9d",
   "metadata": {},
   "outputs": [
    {
     "data": {
      "image/png": "[encoded data removed]",
      "text/plain": [
       "<Figure size 576x360 with 1 Axes>"
      ]
     },
     "metadata": {},
     "output_type": "display_data"
    }
   ],
   "source": [
    "# Biểu đồ histogram của cột output\n",
    "sns.set(style='whitegrid', palette=\"deep\", font_scale=1.1, rc={\"figure.figsize\": [8, 5]})\n",
    "sns.histplot(data =  df['listPrice'], bins=20).set(xlabel='Sale Price', ylabel='Count');"
   ]
  },
  {
   "cell_type": "markdown",
   "id": "2f3b00c1",
   "metadata": {},
   "source": [
    "---"
   ]
  },
  {
   "cell_type": "markdown",
   "id": "88e62117",
   "metadata": {},
   "source": [
    "### Tiền xử lý tách tập dữ liệu"
   ]
  },
  {
   "cell_type": "code",
   "execution_count": 9,
   "id": "3739849c",
   "metadata": {},
   "outputs": [],
   "source": [
    "# Tách X và y\n",
    "y = df[\"listPrice\"] \n",
    "X = df.drop(\"listPrice\", axis=1)"
   ]
  },
  {
   "cell_type": "code",
   "execution_count": 10,
   "id": "547fed54",
   "metadata": {},
   "outputs": [],
   "source": [
    "# Tách tập huấn luyện và tập validation và tập test theo tỉ lệ 60:20:20\n",
    "train_X, test_X, train_y, test_y = train_test_split(X, y, \n",
    "                                               test_size=0.2,\n",
    "                                               )"
   ]
  },
  {
   "cell_type": "code",
   "execution_count": 11,
   "id": "f8e94420",
   "metadata": {},
   "outputs": [],
   "source": [
    "train_X, val_X, train_y, val_y = train_test_split(train_X, train_y, \n",
    "                                               test_size=0.2,\n",
    "                                                )"
   ]
  },
  {
   "cell_type": "code",
   "execution_count": 12,
   "id": "c09ba771",
   "metadata": {},
   "outputs": [
    {
     "name": "stdout",
     "output_type": "stream",
     "text": [
      "train_X.shape:  (1040, 15)\n",
      "train_y.shape:  (1040,)\n",
      "val_X.shape:  (260, 15)\n",
      "val_y.shape:  (260,)\n",
      "test_X.shape:  (326, 15)\n",
      "test_y.shape:  (326,)\n"
     ]
    }
   ],
   "source": [
    "print(\"train_X.shape: \", train_X.shape)\n",
    "print(\"train_y.shape: \", train_y.shape)\n",
    "\n",
    "print(\"val_X.shape: \", val_X.shape)\n",
    "print(\"val_y.shape: \", val_y.shape)\n",
    "\n",
    "print(\"test_X.shape: \", test_X.shape)\n",
    "print(\"test_y.shape: \", test_y.shape)"
   ]
  },
  {
   "cell_type": "markdown",
   "id": "065d77ee",
   "metadata": {},
   "source": [
    "---"
   ]
  },
  {
   "cell_type": "markdown",
   "id": "3eb6b2f5",
   "metadata": {},
   "source": [
    "## Khám phá dữ liệu (trên tập train)"
   ]
  },
  {
   "cell_type": "markdown",
   "id": "1c1138f6",
   "metadata": {},
   "source": [
    "### Kiểu dữ liệu từng cột. Có cột nào chưa phù hợp?"
   ]
  },
  {
   "cell_type": "code",
   "execution_count": 13,
   "id": "1a561bfd",
   "metadata": {},
   "outputs": [
    {
     "data": {
      "text/plain": [
       "sqft                  float64\n",
       "homeType               object\n",
       "beds                    int64\n",
       "parkingSpots          float64\n",
       "lotSize               float64\n",
       "baths                   int64\n",
       "heating_system         object\n",
       "cooling_system         object\n",
       "view_type             float64\n",
       "architecture_style     object\n",
       "yearBuilt             float64\n",
       "has_pool               object\n",
       "city                   object\n",
       "address                object\n",
       "tax                   float64\n",
       "dtype: object"
      ]
     },
     "execution_count": 13,
     "metadata": {},
     "output_type": "execute_result"
    }
   ],
   "source": [
    "train_X.dtypes"
   ]
  },
  {
   "cell_type": "markdown",
   "id": "2f7c714d",
   "metadata": {},
   "source": [
    "### Các cột dạng numerical phân bố như thế nào?"
   ]
  },
  {
   "cell_type": "code",
   "execution_count": 14,
   "id": "a2c816f9",
   "metadata": {},
   "outputs": [
    {
     "data": {
      "text/plain": [
       "sqft            float64\n",
       "beds              int64\n",
       "parkingSpots    float64\n",
       "lotSize         float64\n",
       "baths             int64\n",
       "view_type       float64\n",
       "yearBuilt       float64\n",
       "tax             float64\n",
       "dtype: object"
      ]
     },
     "execution_count": 14,
     "metadata": {},
     "output_type": "execute_result"
    }
   ],
   "source": [
    "train_X.dtypes[train_X.dtypes != object]"
   ]
  },
  {
   "cell_type": "code",
   "execution_count": 15,
   "id": "d80b58d7",
   "metadata": {},
   "outputs": [
    {
     "data": {
      "text/html": [
       "<div>\n",
       "<style scoped>\n",
       "    .dataframe tbody tr th:only-of-type {\n",
       "        vertical-align: middle;\n",
       "    }\n",
       "\n",
       "    .dataframe tbody tr th {\n",
       "        vertical-align: top;\n",
       "    }\n",
       "\n",
       "    .dataframe thead th {\n",
       "        text-align: right;\n",
       "    }\n",
       "</style>\n",
       "<table border=\"1\" class=\"dataframe\">\n",
       "  <thead>\n",
       "    <tr style=\"text-align: right;\">\n",
       "      <th></th>\n",
       "      <th>sqft</th>\n",
       "      <th>beds</th>\n",
       "      <th>parkingSpots</th>\n",
       "      <th>lotSize</th>\n",
       "      <th>baths</th>\n",
       "      <th>view_type</th>\n",
       "      <th>yearBuilt</th>\n",
       "      <th>tax</th>\n",
       "    </tr>\n",
       "  </thead>\n",
       "  <tbody>\n",
       "    <tr>\n",
       "      <th>missing_percentage</th>\n",
       "      <td>21.3</td>\n",
       "      <td>0.0</td>\n",
       "      <td>17.3</td>\n",
       "      <td>52.6</td>\n",
       "      <td>0.0</td>\n",
       "      <td>100.0</td>\n",
       "      <td>9.6</td>\n",
       "      <td>6.30</td>\n",
       "    </tr>\n",
       "    <tr>\n",
       "      <th>min</th>\n",
       "      <td>470.0</td>\n",
       "      <td>0.0</td>\n",
       "      <td>0.0</td>\n",
       "      <td>0.0</td>\n",
       "      <td>1.0</td>\n",
       "      <td>NaN</td>\n",
       "      <td>1869.0</td>\n",
       "      <td>105.34</td>\n",
       "    </tr>\n",
       "    <tr>\n",
       "      <th>median</th>\n",
       "      <td>1417.0</td>\n",
       "      <td>3.0</td>\n",
       "      <td>2.0</td>\n",
       "      <td>3781.0</td>\n",
       "      <td>2.0</td>\n",
       "      <td>NaN</td>\n",
       "      <td>1959.0</td>\n",
       "      <td>4308.80</td>\n",
       "    </tr>\n",
       "    <tr>\n",
       "      <th>max</th>\n",
       "      <td>6315.0</td>\n",
       "      <td>4.0</td>\n",
       "      <td>100.0</td>\n",
       "      <td>5225894.0</td>\n",
       "      <td>5.0</td>\n",
       "      <td>NaN</td>\n",
       "      <td>2022.0</td>\n",
       "      <td>730774.00</td>\n",
       "    </tr>\n",
       "  </tbody>\n",
       "</table>\n",
       "</div>"
      ],
      "text/plain": [
       "                      sqft  beds  parkingSpots    lotSize  baths  view_type  \\\n",
       "missing_percentage    21.3   0.0          17.3       52.6    0.0      100.0   \n",
       "min                  470.0   0.0           0.0        0.0    1.0        NaN   \n",
       "median              1417.0   3.0           2.0     3781.0    2.0        NaN   \n",
       "max                 6315.0   4.0         100.0  5225894.0    5.0        NaN   \n",
       "\n",
       "                    yearBuilt        tax  \n",
       "missing_percentage        9.6       6.30  \n",
       "min                    1869.0     105.34  \n",
       "median                 1959.0    4308.80  \n",
       "max                    2022.0  730774.00  "
      ]
     },
     "execution_count": 15,
     "metadata": {},
     "output_type": "execute_result"
    }
   ],
   "source": [
    "num_cols = ['sqft',\"beds\",\"parkingSpots\",\"lotSize\",\"baths\",\"view_type\",\"yearBuilt\",\"tax\"]\n",
    "num_df = train_X[num_cols]\n",
    "def missing_percentage(c):\n",
    "    return (c.isna().mean() * 100).round(1)\n",
    "def median(c):\n",
    "    return c.quantile(0.5).round(1)\n",
    "num_df.agg([missing_percentage, 'min', median, 'max'])"
   ]
  },
  {
   "cell_type": "code",
   "execution_count": 16,
   "id": "6532b134",
   "metadata": {},
   "outputs": [
    {
     "data": {
      "image/png": "[encoded data removed]",
      "text/plain": [
       "<Figure size 1080x432 with 8 Axes>"
      ]
     },
     "metadata": {},
     "output_type": "display_data"
    }
   ],
   "source": [
    "num_df[num_cols].hist(bins=15, figsize=(15, 6), layout=(2, 4),grid=False);"
   ]
  },
  {
   "cell_type": "markdown",
   "id": "0e496341",
   "metadata": {},
   "source": [
    "### Các cột dạng categorical phân bố như thế nào?"
   ]
  },
  {
   "cell_type": "code",
   "execution_count": 17,
   "id": "ca0572cc",
   "metadata": {},
   "outputs": [
    {
     "data": {
      "text/plain": [
       "homeType              object\n",
       "heating_system        object\n",
       "cooling_system        object\n",
       "architecture_style    object\n",
       "has_pool              object\n",
       "city                  object\n",
       "address               object\n",
       "dtype: object"
      ]
     },
     "execution_count": 17,
     "metadata": {},
     "output_type": "execute_result"
    }
   ],
   "source": [
    "train_X.dtypes[train_X.dtypes == object]"
   ]
  },
  {
   "cell_type": "code",
   "execution_count": 18,
   "id": "c2f1d535",
   "metadata": {
    "scrolled": true
   },
   "outputs": [
    {
     "data": {
      "text/html": [
       "<div>\n",
       "<style scoped>\n",
       "    .dataframe tbody tr th:only-of-type {\n",
       "        vertical-align: middle;\n",
       "    }\n",
       "\n",
       "    .dataframe tbody tr th {\n",
       "        vertical-align: top;\n",
       "    }\n",
       "\n",
       "    .dataframe thead th {\n",
       "        text-align: right;\n",
       "    }\n",
       "</style>\n",
       "<table border=\"1\" class=\"dataframe\">\n",
       "  <thead>\n",
       "    <tr style=\"text-align: right;\">\n",
       "      <th></th>\n",
       "      <th>homeType</th>\n",
       "      <th>cooling_system</th>\n",
       "      <th>address</th>\n",
       "      <th>heating_system</th>\n",
       "      <th>architecture_style</th>\n",
       "      <th>has_pool</th>\n",
       "      <th>city</th>\n",
       "    </tr>\n",
       "  </thead>\n",
       "  <tbody>\n",
       "    <tr>\n",
       "      <th>missing_percentage</th>\n",
       "      <td>0.0</td>\n",
       "      <td>1.5</td>\n",
       "      <td>0.0</td>\n",
       "      <td>25.6</td>\n",
       "      <td>0.0</td>\n",
       "      <td>97.7</td>\n",
       "      <td>0.0</td>\n",
       "    </tr>\n",
       "    <tr>\n",
       "      <th>num_values</th>\n",
       "      <td>4</td>\n",
       "      <td>4</td>\n",
       "      <td>1018</td>\n",
       "      <td>24</td>\n",
       "      <td>15</td>\n",
       "      <td>1</td>\n",
       "      <td>1</td>\n",
       "    </tr>\n",
       "    <tr>\n",
       "      <th>value_percentages</th>\n",
       "      <td>{'Condo/Coop': 50.4, 'Single Family Residential': 48.8, 'Other': 0.7, 'Townhouse': 0.1}</td>\n",
       "      <td>{'Central A/C': 77.9, 'None': 11.2, 'Window Unit(s) A/C': 10.4, 'Zoned A/C': 0.5}</td>\n",
       "      <td>{'2734 West Washington Boulevard': 0.2, '1516 North Mohawk Street #3R': 0.2, '2437 North Albany Avenue #2': 0.2, '3226 West Beach Avenue': 0.2, '1651 West Huron Street #1E': 0.2, '1260 West WASHIN...</td>\n",
       "      <td>{'Forced Air (Natural Gas)': 58.9, 'Fireplace (Natural Gas)': 11.6, 'Forced Air': 6.6, 'Hot Water': 3.9, 'Baseboard (Natural Gas)': 2.7, 'Radiator': 2.6, 'Forced Air (Electric)': 2.3, 'Baseboard':...</td>\n",
       "      <td>{'Other': 66.8, 'High Rise': 8.5, 'Bungalow': 7.9, 'Ranch': 5.0, 'Loft': 3.1, 'Cape Cod': 2.1, 'Contemporary': 1.6, 'Georgian': 1.2, 'Split Level': 1.0, 'Cottage': 0.8, 'English': 0.5, 'Victorian'...</td>\n",
       "      <td>{True: 100.0}</td>\n",
       "      <td>{'Chicago': 100.0}</td>\n",
       "    </tr>\n",
       "  </tbody>\n",
       "</table>\n",
       "</div>"
      ],
      "text/plain": [
       "                                                                                                   homeType  \\\n",
       "missing_percentage                                                                                      0.0   \n",
       "num_values                                                                                                4   \n",
       "value_percentages   {'Condo/Coop': 50.4, 'Single Family Residential': 48.8, 'Other': 0.7, 'Townhouse': 0.1}   \n",
       "\n",
       "                                                                                       cooling_system  \\\n",
       "missing_percentage                                                                                1.5   \n",
       "num_values                                                                                          4   \n",
       "value_percentages   {'Central A/C': 77.9, 'None': 11.2, 'Window Unit(s) A/C': 10.4, 'Zoned A/C': 0.5}   \n",
       "\n",
       "                                                                                                                                                                                                                    address  \\\n",
       "missing_percentage                                                                                                                                                                                                      0.0   \n",
       "num_values                                                                                                                                                                                                             1018   \n",
       "value_percentages   {'2734 West Washington Boulevard': 0.2, '1516 North Mohawk Street #3R': 0.2, '2437 North Albany Avenue #2': 0.2, '3226 West Beach Avenue': 0.2, '1651 West Huron Street #1E': 0.2, '1260 West WASHIN...   \n",
       "\n",
       "                                                                                                                                                                                                             heating_system  \\\n",
       "missing_percentage                                                                                                                                                                                                     25.6   \n",
       "num_values                                                                                                                                                                                                               24   \n",
       "value_percentages   {'Forced Air (Natural Gas)': 58.9, 'Fireplace (Natural Gas)': 11.6, 'Forced Air': 6.6, 'Hot Water': 3.9, 'Baseboard (Natural Gas)': 2.7, 'Radiator': 2.6, 'Forced Air (Electric)': 2.3, 'Baseboard':...   \n",
       "\n",
       "                                                                                                                                                                                                         architecture_style  \\\n",
       "missing_percentage                                                                                                                                                                                                      0.0   \n",
       "num_values                                                                                                                                                                                                               15   \n",
       "value_percentages   {'Other': 66.8, 'High Rise': 8.5, 'Bungalow': 7.9, 'Ranch': 5.0, 'Loft': 3.1, 'Cape Cod': 2.1, 'Contemporary': 1.6, 'Georgian': 1.2, 'Split Level': 1.0, 'Cottage': 0.8, 'English': 0.5, 'Victorian'...   \n",
       "\n",
       "                         has_pool                city  \n",
       "missing_percentage           97.7                 0.0  \n",
       "num_values                      1                   1  \n",
       "value_percentages   {True: 100.0}  {'Chicago': 100.0}  "
      ]
     },
     "execution_count": 18,
     "metadata": {},
     "output_type": "execute_result"
    }
   ],
   "source": [
    "cate_cols = list(set(train_X.columns) - set(num_cols))\n",
    "cate_df = train_X[cate_cols]\n",
    "pd.set_option('display.max_colwidth', 200)\n",
    "def num_values(df):\n",
    "    return df.nunique()\n",
    "def value_percentages(c):\n",
    "    return dict((c.value_counts(normalize=True) * 100).round(1))\n",
    "cate_df.agg([missing_percentage, num_values, value_percentages])"
   ]
  },
  {
   "cell_type": "markdown",
   "id": "9668786e",
   "metadata": {},
   "source": [
    "### Mối quan hệ với cột Output"
   ]
  },
  {
   "cell_type": "code",
   "execution_count": 19,
   "id": "77f670db",
   "metadata": {},
   "outputs": [
    {
     "data": {
      "image/png": "[encoded data removed]",
      "text/plain": [
       "<Figure size 1080x720 with 6 Axes>"
      ]
     },
     "metadata": {},
     "output_type": "display_data"
    }
   ],
   "source": [
    "fig, ax = plt.subplots(2,3, figsize=(15, 10))\n",
    "num_df = num_df.drop(columns=[\"lotSize\",\"view_type\"])\n",
    "for var, subplot in zip(num_df, ax.flatten()):\n",
    "    sns.scatterplot(x=train_X[var],y=train_y, ax=subplot);"
   ]
  },
  {
   "cell_type": "code",
   "execution_count": 20,
   "id": "bbb52239",
   "metadata": {},
   "outputs": [
    {
     "data": {
      "image/png": "[encoded data removed]",
      "text/plain": [
       "<Figure size 1080x720 with 4 Axes>"
      ]
     },
     "metadata": {},
     "output_type": "display_data"
    }
   ],
   "source": [
    "fig, ax = plt.subplots(2,2, figsize=(15, 10))\n",
    "cate_df = cate_df.drop(columns=[\"city\",\"address\",\"has_pool\"])\n",
    "for var, subplot in zip(cate_df, ax.flatten()):\n",
    "    g=sns.boxplot(x=train_X[var],y=train_y, ax=subplot)\n",
    "    g.tick_params(axis='x', rotation=90)"
   ]
  },
  {
   "cell_type": "markdown",
   "id": "9973c872",
   "metadata": {},
   "source": [
    "## Tiền xử lý tập train"
   ]
  },
  {
   "cell_type": "markdown",
   "id": "e9a9b3c3",
   "metadata": {},
   "source": [
    "### Cột dạng numerical"
   ]
  },
  {
   "cell_type": "markdown",
   "id": "45cf467c",
   "metadata": {},
   "source": [
    "- Điền các giá trị thiếu là median \n",
    "- Các cột có missing_percentage lớn hơn 40% sẽ được loại bỏ: lotSize, view_type \\\n",
    "$\\to$ Các cột numerical còn lại: `sqft`,`beds`,`parkingSpots`,`baths`,`yearBuilt`,`tax`"
   ]
  },
  {
   "cell_type": "code",
   "execution_count": 21,
   "id": "37b083c5",
   "metadata": {},
   "outputs": [],
   "source": [
    "class NumeDropper(BaseEstimator, TransformerMixin):\n",
    "    def fit(self, X, y=None):\n",
    "        return self\n",
    "    def transform(self, X, y=None):\n",
    "        self.newX_df = X.copy()\n",
    "        # bỏ cột      \n",
    "        self.newX_df=self.newX_df.drop(columns=[\"lotSize\",\"view_type\",\"yearBuilt\"])\n",
    "        return self.newX_df"
   ]
  },
  {
   "cell_type": "markdown",
   "id": "c5468ced",
   "metadata": {},
   "source": [
    "- Loại bỏ outliers cột numerical"
   ]
  },
  {
   "cell_type": "code",
   "execution_count": 22,
   "id": "0dd87433",
   "metadata": {},
   "outputs": [],
   "source": [
    "outliers_index = set()\n",
    "num_cols = ['sqft',\"beds\",\"parkingSpots\",\"baths\",\"tax\"]\n",
    "\n",
    "def outliers_removed(col):\n",
    "    if col.name in num_cols:\n",
    "        data_std = col.std()    \n",
    "        data_mean = col.mean()\n",
    "        cut_off = data_std * 2\n",
    "        lower, upper = data_mean - cut_off, data_mean + cut_off\n",
    "        outliers_removed = (col < lower) | (col > upper)\n",
    "        outliers_index.update(set(col[outliers_removed].index.values))\n",
    "    return col\n",
    "\n",
    "train_X.apply(outliers_removed)\n",
    "train_X = train_X.drop(list(outliers_index))\n",
    "train_y = train_y.drop(list(outliers_index))"
   ]
  },
  {
   "cell_type": "markdown",
   "id": "17e73009",
   "metadata": {},
   "source": [
    "### Cột dạng categorical"
   ]
  },
  {
   "cell_type": "markdown",
   "id": "42485f60",
   "metadata": {},
   "source": [
    "- Các cột có missing_percentage lớn hơn 40% sẽ được loại bỏ: has_pool\n",
    "- Điền các giá trị thiếu bằng most-frequent\n",
    "- Address tách tên đường \n",
    "- Các cột chỉ có 1 giá trị sẽ được loại bỏ: city\n",
    "- heating_system, home_type, architecture_type, cooling_system, address sau khi tách sẽ được chuyển thành dạng one-hot"
   ]
  },
  {
   "cell_type": "markdown",
   "id": "ffcd52ed",
   "metadata": {},
   "source": [
    "**Tách tên đường**"
   ]
  },
  {
   "cell_type": "code",
   "execution_count": 23,
   "id": "bee769e8",
   "metadata": {},
   "outputs": [
    {
     "data": {
      "text/html": [
       "<div>\n",
       "<style scoped>\n",
       "    .dataframe tbody tr th:only-of-type {\n",
       "        vertical-align: middle;\n",
       "    }\n",
       "\n",
       "    .dataframe tbody tr th {\n",
       "        vertical-align: top;\n",
       "    }\n",
       "\n",
       "    .dataframe thead th {\n",
       "        text-align: right;\n",
       "    }\n",
       "</style>\n",
       "<table border=\"1\" class=\"dataframe\">\n",
       "  <thead>\n",
       "    <tr style=\"text-align: right;\">\n",
       "      <th></th>\n",
       "      <th>Street</th>\n",
       "    </tr>\n",
       "  </thead>\n",
       "  <tbody>\n",
       "    <tr>\n",
       "      <th>num_values</th>\n",
       "      <td>585</td>\n",
       "    </tr>\n",
       "    <tr>\n",
       "      <th>value_percentages</th>\n",
       "      <td>{'North Lake Shore Drive': 2.2, 'South State Street': 1.3, 'North Paulina Street': 0.7, 'North Sheridan Road': 0.7, 'South Michigan Avenue': 0.7, 'East Chestnut Street': 0.7, 'North Wolcott Avenue...</td>\n",
       "    </tr>\n",
       "  </tbody>\n",
       "</table>\n",
       "</div>"
      ],
      "text/plain": [
       "                                                                                                                                                                                                                    Street\n",
       "num_values                                                                                                                                                                                                             585\n",
       "value_percentages  {'North Lake Shore Drive': 2.2, 'South State Street': 1.3, 'North Paulina Street': 0.7, 'North Sheridan Road': 0.7, 'South Michigan Avenue': 0.7, 'East Chestnut Street': 0.7, 'North Wolcott Avenue..."
      ]
     },
     "execution_count": 23,
     "metadata": {},
     "output_type": "execute_result"
    }
   ],
   "source": [
    "street_col = train_X[\"address\"].str.extract('(?P<number>\\d+)(?P<Street>.*)')\n",
    "street_col = street_col.Street.str.split(\"#\").str[0]\n",
    "street_col = street_col.str.strip()\n",
    "street_col.agg([num_values, value_percentages]).to_frame()"
   ]
  },
  {
   "cell_type": "markdown",
   "id": "755c70c4",
   "metadata": {},
   "source": [
    "Có nhiều giá trị rời rạc trong cột \"street_col\", và phần trăm đóng góp từng giá trị quá nhỏ \\\n",
    "$\\to$ Bỏ cột \"address\""
   ]
  },
  {
   "cell_type": "code",
   "execution_count": 24,
   "id": "7ea55be1",
   "metadata": {},
   "outputs": [],
   "source": [
    "def fit_col(X, num_top_titles):\n",
    "    self = X.value_counts()\n",
    "    index = list(self.index)\n",
    "    self = index[:max(1, min(num_top_titles, len(index)))]\n",
    "    return self\n",
    "\n",
    "def transform_col(self, X):\n",
    "    return np.where(X.isin(self),X,\"Others\")"
   ]
  },
  {
   "cell_type": "code",
   "execution_count": 25,
   "id": "c7a5bb4c",
   "metadata": {},
   "outputs": [],
   "source": [
    "class CateDropper(BaseEstimator, TransformerMixin):\n",
    "    def __init__(self, n=1):\n",
    "        self.n = n\n",
    "        self.top_cols = [\"heating_system\", \"homeType\", \"architecture_style\", \"cooling_system\"]\n",
    "    def fit(self, X, y=None):\n",
    "        self.heat_counts = fit_col(X.heating_system, self.n )\n",
    "        self.homeType = fit_col(X.homeType,self.n)\n",
    "        self.architecture_style = fit_col(X.architecture_style,self.n)\n",
    "        self.cooling_system = fit_col(X.cooling_system,self.n)\n",
    "        \n",
    "        return self\n",
    "    def transform(self, X, y=None):\n",
    "        self.newX_df = X.copy()\n",
    "        \n",
    "        self.newX_df[\"heating_system\"] = transform_col(self.heat_counts, self.newX_df[\"heating_system\"])\n",
    "        self.newX_df[\"homeType\"] = transform_col(self.homeType, self.newX_df[\"homeType\"])\n",
    "        self.newX_df[\"architecture_style\"] = transform_col(self.architecture_style, self.newX_df[\"architecture_style\"])\n",
    "        self.newX_df[\"cooling_system\"] = transform_col(self.cooling_system, self.newX_df[\"cooling_system\"])\n",
    "\n",
    "        # bỏ cột       \n",
    "        self.newX_df=self.newX_df.drop(columns=[\"has_pool\",\"city\",\"address\"])\n",
    "        return self.newX_df"
   ]
  },
  {
   "cell_type": "markdown",
   "id": "642764e6",
   "metadata": {},
   "source": [
    "### Toàn bộ quá trình xử lý sẽ được thực hiện như sau:\n",
    "- Xử lý các cột dạng số: bỏ đi lotSize và view_type, điền các giá trị thiếu bằng median\n",
    "- Xử lý các cột dạng categorical: bỏ đi has_pool, address, city. Điền các giá trị thiếu bằng most-frequent, lấy top N giá trị xuất hiện nhiều nhất của các cột còn lại, chuyển thành Onehot"
   ]
  },
  {
   "cell_type": "code",
   "execution_count": 26,
   "id": "c417fc0b",
   "metadata": {},
   "outputs": [
    {
     "data": {
      "text/html": [
       "<style>#sk-8f754fcb-eb5a-4a1a-ba40-0b9e70f48f1a {color: black;background-color: white;}#sk-8f754fcb-eb5a-4a1a-ba40-0b9e70f48f1a pre{padding: 0;}#sk-8f754fcb-eb5a-4a1a-ba40-0b9e70f48f1a div.sk-toggleable {background-color: white;}#sk-8f754fcb-eb5a-4a1a-ba40-0b9e70f48f1a label.sk-toggleable__label {cursor: pointer;display: block;width: 100%;margin-bottom: 0;padding: 0.2em 0.3em;box-sizing: border-box;text-align: center;}#sk-8f754fcb-eb5a-4a1a-ba40-0b9e70f48f1a div.sk-toggleable__content {max-height: 0;max-width: 0;overflow: hidden;text-align: left;background-color: #f0f8ff;}#sk-8f754fcb-eb5a-4a1a-ba40-0b9e70f48f1a div.sk-toggleable__content pre {margin: 0.2em;color: black;border-radius: 0.25em;background-color: #f0f8ff;}#sk-8f754fcb-eb5a-4a1a-ba40-0b9e70f48f1a input.sk-toggleable__control:checked~div.sk-toggleable__content {max-height: 200px;max-width: 100%;overflow: auto;}#sk-8f754fcb-eb5a-4a1a-ba40-0b9e70f48f1a div.sk-estimator input.sk-toggleable__control:checked~label.sk-toggleable__label {background-color: #d4ebff;}#sk-8f754fcb-eb5a-4a1a-ba40-0b9e70f48f1a div.sk-label input.sk-toggleable__control:checked~label.sk-toggleable__label {background-color: #d4ebff;}#sk-8f754fcb-eb5a-4a1a-ba40-0b9e70f48f1a input.sk-hidden--visually {border: 0;clip: rect(1px 1px 1px 1px);clip: rect(1px, 1px, 1px, 1px);height: 1px;margin: -1px;overflow: hidden;padding: 0;position: absolute;width: 1px;}#sk-8f754fcb-eb5a-4a1a-ba40-0b9e70f48f1a div.sk-estimator {font-family: monospace;background-color: #f0f8ff;margin: 0.25em 0.25em;border: 1px dotted black;border-radius: 0.25em;box-sizing: border-box;}#sk-8f754fcb-eb5a-4a1a-ba40-0b9e70f48f1a div.sk-estimator:hover {background-color: #d4ebff;}#sk-8f754fcb-eb5a-4a1a-ba40-0b9e70f48f1a div.sk-parallel-item::after {content: \"\";width: 100%;border-bottom: 1px solid gray;flex-grow: 1;}#sk-8f754fcb-eb5a-4a1a-ba40-0b9e70f48f1a div.sk-label:hover label.sk-toggleable__label {background-color: #d4ebff;}#sk-8f754fcb-eb5a-4a1a-ba40-0b9e70f48f1a div.sk-serial::before {content: \"\";position: absolute;border-left: 1px solid gray;box-sizing: border-box;top: 2em;bottom: 0;left: 50%;}#sk-8f754fcb-eb5a-4a1a-ba40-0b9e70f48f1a div.sk-serial {display: flex;flex-direction: column;align-items: center;background-color: white;}#sk-8f754fcb-eb5a-4a1a-ba40-0b9e70f48f1a div.sk-item {z-index: 1;}#sk-8f754fcb-eb5a-4a1a-ba40-0b9e70f48f1a div.sk-parallel {display: flex;align-items: stretch;justify-content: center;background-color: white;}#sk-8f754fcb-eb5a-4a1a-ba40-0b9e70f48f1a div.sk-parallel-item {display: flex;flex-direction: column;position: relative;background-color: white;}#sk-8f754fcb-eb5a-4a1a-ba40-0b9e70f48f1a div.sk-parallel-item:first-child::after {align-self: flex-end;width: 50%;}#sk-8f754fcb-eb5a-4a1a-ba40-0b9e70f48f1a div.sk-parallel-item:last-child::after {align-self: flex-start;width: 50%;}#sk-8f754fcb-eb5a-4a1a-ba40-0b9e70f48f1a div.sk-parallel-item:only-child::after {width: 0;}#sk-8f754fcb-eb5a-4a1a-ba40-0b9e70f48f1a div.sk-dashed-wrapped {border: 1px dashed gray;margin: 0.2em;box-sizing: border-box;padding-bottom: 0.1em;background-color: white;position: relative;}#sk-8f754fcb-eb5a-4a1a-ba40-0b9e70f48f1a div.sk-label label {font-family: monospace;font-weight: bold;background-color: white;display: inline-block;line-height: 1.2em;}#sk-8f754fcb-eb5a-4a1a-ba40-0b9e70f48f1a div.sk-label-container {position: relative;z-index: 2;text-align: center;}#sk-8f754fcb-eb5a-4a1a-ba40-0b9e70f48f1a div.sk-container {display: inline-block;position: relative;}</style><div id=\"sk-8f754fcb-eb5a-4a1a-ba40-0b9e70f48f1a\" class\"sk-top-container\"><div class=\"sk-container\"><div class=\"sk-item sk-dashed-wrapped\"><div class=\"sk-label-container\"><div class=\"sk-label sk-toggleable\"><input class=\"sk-toggleable__control sk-hidden--visually\" id=\"b0140f68-607c-43b5-937f-59d7f983e071\" type=\"checkbox\" ><label class=\"sk-toggleable__label\" for=\"b0140f68-607c-43b5-937f-59d7f983e071\">Pipeline</label><div class=\"sk-toggleable__content\"><pre>Pipeline(steps=[('numdropper', NumeDropper()),\n",
       "                ('catedropper', CateDropper(n=3)),\n",
       "                ('preprocessor',\n",
       "                 ColumnTransformer(transformers=[('nume',\n",
       "                                                  Pipeline(steps=[('imputer',\n",
       "                                                                   SimpleImputer(strategy='median'))]),\n",
       "                                                  ['sqft', 'beds', 'baths',\n",
       "                                                   'parkingSpots', 'tax']),\n",
       "                                                 ('cate',\n",
       "                                                  Pipeline(steps=[('imputer',\n",
       "                                                                   SimpleImputer(strategy='most_frequent')),\n",
       "                                                                  ('onehot',\n",
       "                                                                   OneHotEncoder(handle_unknown='ignore'))]),\n",
       "                                                  ['homeType', 'heating_system',\n",
       "                                                   'cooling_system',\n",
       "                                                   'architecture_style'])])),\n",
       "                ('minmax', MinMaxScaler())])</pre></div></div></div><div class=\"sk-serial\"><div class=\"sk-item\"><div class=\"sk-estimator sk-toggleable\"><input class=\"sk-toggleable__control sk-hidden--visually\" id=\"422ce8c7-ea35-4f3e-821c-28107f0e6e40\" type=\"checkbox\" ><label class=\"sk-toggleable__label\" for=\"422ce8c7-ea35-4f3e-821c-28107f0e6e40\">NumeDropper</label><div class=\"sk-toggleable__content\"><pre>NumeDropper()</pre></div></div></div><div class=\"sk-item\"><div class=\"sk-estimator sk-toggleable\"><input class=\"sk-toggleable__control sk-hidden--visually\" id=\"ea62c1bc-c544-4d33-ba6f-32c83e74e07d\" type=\"checkbox\" ><label class=\"sk-toggleable__label\" for=\"ea62c1bc-c544-4d33-ba6f-32c83e74e07d\">CateDropper</label><div class=\"sk-toggleable__content\"><pre>CateDropper(n=3)</pre></div></div></div><div class=\"sk-item sk-dashed-wrapped\"><div class=\"sk-label-container\"><div class=\"sk-label sk-toggleable\"><input class=\"sk-toggleable__control sk-hidden--visually\" id=\"6f0f55ab-3bc9-4d7f-a3a7-218170142029\" type=\"checkbox\" ><label class=\"sk-toggleable__label\" for=\"6f0f55ab-3bc9-4d7f-a3a7-218170142029\">preprocessor: ColumnTransformer</label><div class=\"sk-toggleable__content\"><pre>ColumnTransformer(transformers=[('nume',\n",
       "                                 Pipeline(steps=[('imputer',\n",
       "                                                  SimpleImputer(strategy='median'))]),\n",
       "                                 ['sqft', 'beds', 'baths', 'parkingSpots',\n",
       "                                  'tax']),\n",
       "                                ('cate',\n",
       "                                 Pipeline(steps=[('imputer',\n",
       "                                                  SimpleImputer(strategy='most_frequent')),\n",
       "                                                 ('onehot',\n",
       "                                                  OneHotEncoder(handle_unknown='ignore'))]),\n",
       "                                 ['homeType', 'heating_system',\n",
       "                                  'cooling_system', 'architecture_style'])])</pre></div></div></div><div class=\"sk-parallel\"><div class=\"sk-parallel-item\"><div class=\"sk-item\"><div class=\"sk-label-container\"><div class=\"sk-label sk-toggleable\"><input class=\"sk-toggleable__control sk-hidden--visually\" id=\"61ee8879-ce59-4387-bf50-c3c6993b4123\" type=\"checkbox\" ><label class=\"sk-toggleable__label\" for=\"61ee8879-ce59-4387-bf50-c3c6993b4123\">nume</label><div class=\"sk-toggleable__content\"><pre>['sqft', 'beds', 'baths', 'parkingSpots', 'tax']</pre></div></div></div><div class=\"sk-serial\"><div class=\"sk-item\"><div class=\"sk-serial\"><div class=\"sk-item\"><div class=\"sk-estimator sk-toggleable\"><input class=\"sk-toggleable__control sk-hidden--visually\" id=\"db2935fd-a1db-4cf6-b47c-e81b29912aaf\" type=\"checkbox\" ><label class=\"sk-toggleable__label\" for=\"db2935fd-a1db-4cf6-b47c-e81b29912aaf\">SimpleImputer</label><div class=\"sk-toggleable__content\"><pre>SimpleImputer(strategy='median')</pre></div></div></div></div></div></div></div></div><div class=\"sk-parallel-item\"><div class=\"sk-item\"><div class=\"sk-label-container\"><div class=\"sk-label sk-toggleable\"><input class=\"sk-toggleable__control sk-hidden--visually\" id=\"d29a7f35-248e-4226-a589-c88a19ce046c\" type=\"checkbox\" ><label class=\"sk-toggleable__label\" for=\"d29a7f35-248e-4226-a589-c88a19ce046c\">cate</label><div class=\"sk-toggleable__content\"><pre>['homeType', 'heating_system', 'cooling_system', 'architecture_style']</pre></div></div></div><div class=\"sk-serial\"><div class=\"sk-item\"><div class=\"sk-serial\"><div class=\"sk-item\"><div class=\"sk-estimator sk-toggleable\"><input class=\"sk-toggleable__control sk-hidden--visually\" id=\"193c3aba-c167-4959-af11-08456e6833f4\" type=\"checkbox\" ><label class=\"sk-toggleable__label\" for=\"193c3aba-c167-4959-af11-08456e6833f4\">SimpleImputer</label><div class=\"sk-toggleable__content\"><pre>SimpleImputer(strategy='most_frequent')</pre></div></div></div><div class=\"sk-item\"><div class=\"sk-estimator sk-toggleable\"><input class=\"sk-toggleable__control sk-hidden--visually\" id=\"2107a4f3-b194-4b70-b5f8-0e9c27d14588\" type=\"checkbox\" ><label class=\"sk-toggleable__label\" for=\"2107a4f3-b194-4b70-b5f8-0e9c27d14588\">OneHotEncoder</label><div class=\"sk-toggleable__content\"><pre>OneHotEncoder(handle_unknown='ignore')</pre></div></div></div></div></div></div></div></div></div></div><div class=\"sk-item\"><div class=\"sk-estimator sk-toggleable\"><input class=\"sk-toggleable__control sk-hidden--visually\" id=\"aa1e31d0-fc84-4157-8ecf-0b71191caf8d\" type=\"checkbox\" ><label class=\"sk-toggleable__label\" for=\"aa1e31d0-fc84-4157-8ecf-0b71191caf8d\">MinMaxScaler</label><div class=\"sk-toggleable__content\"><pre>MinMaxScaler()</pre></div></div></div></div></div></div></div>"
      ],
      "text/plain": [
       "Pipeline(steps=[('numdropper', NumeDropper()),\n",
       "                ('catedropper', CateDropper(n=3)),\n",
       "                ('preprocessor',\n",
       "                 ColumnTransformer(transformers=[('nume',\n",
       "                                                  Pipeline(steps=[('imputer',\n",
       "                                                                   SimpleImputer(strategy='median'))]),\n",
       "                                                  ['sqft', 'beds', 'baths',\n",
       "                                                   'parkingSpots', 'tax']),\n",
       "                                                 ('cate',\n",
       "                                                  Pipeline(steps=[('imputer',\n",
       "                                                                   SimpleImputer(strategy='most_frequent')),\n",
       "                                                                  ('onehot',\n",
       "                                                                   OneHotEncoder(handle_unknown='ignore'))]),\n",
       "                                                  ['homeType', 'heating_system',\n",
       "                                                   'cooling_system',\n",
       "                                                   'architecture_style'])])),\n",
       "                ('minmax', MinMaxScaler())])"
      ]
     },
     "execution_count": 26,
     "metadata": {},
     "output_type": "execute_result"
    }
   ],
   "source": [
    "num_cols = [\"sqft\", \"beds\" , \"baths\",\"parkingSpots\",\"tax\"]\n",
    "cate_cols = [\"homeType\", \"heating_system\", \"cooling_system\",\"architecture_style\" ]\n",
    "\n",
    "\n",
    "numeric_transformer = Pipeline(steps=[\n",
    "    ('imputer', SimpleImputer(missing_values=np.nan, strategy='median'))])\n",
    "\n",
    "\n",
    "categotical_transformer = Pipeline(steps=[\n",
    "    ('imputer', SimpleImputer(missing_values=np.nan, strategy='most_frequent')),\n",
    "    ('onehot', OneHotEncoder(handle_unknown='ignore'))])\n",
    "\n",
    "\n",
    "preprocessor = ColumnTransformer(\n",
    "    transformers=[\n",
    "        ('nume', numeric_transformer, num_cols),\n",
    "        ('cate',categotical_transformer , cate_cols)])\n",
    "\n",
    "\n",
    "preprocess_pipeline = Pipeline(steps=[('numdropper',NumeDropper()),\n",
    "                                      ('catedropper', CateDropper(n=3)),\n",
    "                                      ('preprocessor', preprocessor),\n",
    "                                      ('minmax', MinMaxScaler())])\n",
    "\n",
    "preprocess_pipeline"
   ]
  },
  {
   "cell_type": "code",
   "execution_count": 27,
   "id": "f1e0c164",
   "metadata": {},
   "outputs": [],
   "source": [
    "\n",
    "# Correlation Matrix Heatmap\n",
    "# f, ax = plt.subplots(figsize=(10, 6))\n",
    "# corr = train_pd.corr()\n",
    "# hm = sns.heatmap(round(corr,2), annot=True, ax=ax, cmap=\"coolwarm\",fmt='.2f',\n",
    "#                  linewidths=.05)\n",
    "# f.subplots_adjust(top=0.93)\n",
    "# t= f.suptitle('Wine Attributes Correlation Heatmap', fontsize=14)"
   ]
  },
  {
   "cell_type": "markdown",
   "id": "cd4aa3fc",
   "metadata": {},
   "source": [
    "## Mô hình hóa"
   ]
  },
  {
   "cell_type": "markdown",
   "id": "730f1eb3",
   "metadata": {},
   "source": [
    "#### Bỏ outliers cho output"
   ]
  },
  {
   "cell_type": "code",
   "execution_count": 28,
   "id": "febcf488",
   "metadata": {},
   "outputs": [],
   "source": [
    "cut_off = train_y.std() * 2\n",
    "lower, upper = train_y.mean() - cut_off, train_y.mean() + cut_off\n",
    "outliers_removed = (train_y < lower) | (train_y > upper)\n",
    "outliers_index = set(train_y[outliers_removed].index.values)\n",
    "\n",
    "train_X = train_X.drop(list(outliers_index))\n",
    "train_y = train_y.drop(list(outliers_index))"
   ]
  },
  {
   "cell_type": "markdown",
   "id": "10fce3ac",
   "metadata": {},
   "source": [
    "### MLPRegressor"
   ]
  },
  {
   "cell_type": "code",
   "execution_count": 29,
   "id": "fdee0d75",
   "metadata": {},
   "outputs": [
    {
     "data": {
      "text/html": [
       "<style>#sk-ff34da18-e6aa-485c-82ee-1f6416dce8f3 {color: black;background-color: white;}#sk-ff34da18-e6aa-485c-82ee-1f6416dce8f3 pre{padding: 0;}#sk-ff34da18-e6aa-485c-82ee-1f6416dce8f3 div.sk-toggleable {background-color: white;}#sk-ff34da18-e6aa-485c-82ee-1f6416dce8f3 label.sk-toggleable__label {cursor: pointer;display: block;width: 100%;margin-bottom: 0;padding: 0.2em 0.3em;box-sizing: border-box;text-align: center;}#sk-ff34da18-e6aa-485c-82ee-1f6416dce8f3 div.sk-toggleable__content {max-height: 0;max-width: 0;overflow: hidden;text-align: left;background-color: #f0f8ff;}#sk-ff34da18-e6aa-485c-82ee-1f6416dce8f3 div.sk-toggleable__content pre {margin: 0.2em;color: black;border-radius: 0.25em;background-color: #f0f8ff;}#sk-ff34da18-e6aa-485c-82ee-1f6416dce8f3 input.sk-toggleable__control:checked~div.sk-toggleable__content {max-height: 200px;max-width: 100%;overflow: auto;}#sk-ff34da18-e6aa-485c-82ee-1f6416dce8f3 div.sk-estimator input.sk-toggleable__control:checked~label.sk-toggleable__label {background-color: #d4ebff;}#sk-ff34da18-e6aa-485c-82ee-1f6416dce8f3 div.sk-label input.sk-toggleable__control:checked~label.sk-toggleable__label {background-color: #d4ebff;}#sk-ff34da18-e6aa-485c-82ee-1f6416dce8f3 input.sk-hidden--visually {border: 0;clip: rect(1px 1px 1px 1px);clip: rect(1px, 1px, 1px, 1px);height: 1px;margin: -1px;overflow: hidden;padding: 0;position: absolute;width: 1px;}#sk-ff34da18-e6aa-485c-82ee-1f6416dce8f3 div.sk-estimator {font-family: monospace;background-color: #f0f8ff;margin: 0.25em 0.25em;border: 1px dotted black;border-radius: 0.25em;box-sizing: border-box;}#sk-ff34da18-e6aa-485c-82ee-1f6416dce8f3 div.sk-estimator:hover {background-color: #d4ebff;}#sk-ff34da18-e6aa-485c-82ee-1f6416dce8f3 div.sk-parallel-item::after {content: \"\";width: 100%;border-bottom: 1px solid gray;flex-grow: 1;}#sk-ff34da18-e6aa-485c-82ee-1f6416dce8f3 div.sk-label:hover label.sk-toggleable__label {background-color: #d4ebff;}#sk-ff34da18-e6aa-485c-82ee-1f6416dce8f3 div.sk-serial::before {content: \"\";position: absolute;border-left: 1px solid gray;box-sizing: border-box;top: 2em;bottom: 0;left: 50%;}#sk-ff34da18-e6aa-485c-82ee-1f6416dce8f3 div.sk-serial {display: flex;flex-direction: column;align-items: center;background-color: white;}#sk-ff34da18-e6aa-485c-82ee-1f6416dce8f3 div.sk-item {z-index: 1;}#sk-ff34da18-e6aa-485c-82ee-1f6416dce8f3 div.sk-parallel {display: flex;align-items: stretch;justify-content: center;background-color: white;}#sk-ff34da18-e6aa-485c-82ee-1f6416dce8f3 div.sk-parallel-item {display: flex;flex-direction: column;position: relative;background-color: white;}#sk-ff34da18-e6aa-485c-82ee-1f6416dce8f3 div.sk-parallel-item:first-child::after {align-self: flex-end;width: 50%;}#sk-ff34da18-e6aa-485c-82ee-1f6416dce8f3 div.sk-parallel-item:last-child::after {align-self: flex-start;width: 50%;}#sk-ff34da18-e6aa-485c-82ee-1f6416dce8f3 div.sk-parallel-item:only-child::after {width: 0;}#sk-ff34da18-e6aa-485c-82ee-1f6416dce8f3 div.sk-dashed-wrapped {border: 1px dashed gray;margin: 0.2em;box-sizing: border-box;padding-bottom: 0.1em;background-color: white;position: relative;}#sk-ff34da18-e6aa-485c-82ee-1f6416dce8f3 div.sk-label label {font-family: monospace;font-weight: bold;background-color: white;display: inline-block;line-height: 1.2em;}#sk-ff34da18-e6aa-485c-82ee-1f6416dce8f3 div.sk-label-container {position: relative;z-index: 2;text-align: center;}#sk-ff34da18-e6aa-485c-82ee-1f6416dce8f3 div.sk-container {display: inline-block;position: relative;}</style><div id=\"sk-ff34da18-e6aa-485c-82ee-1f6416dce8f3\" class\"sk-top-container\"><div class=\"sk-container\"><div class=\"sk-item sk-dashed-wrapped\"><div class=\"sk-label-container\"><div class=\"sk-label sk-toggleable\"><input class=\"sk-toggleable__control sk-hidden--visually\" id=\"9e9d2348-aa1f-4bb5-a325-d962e971708e\" type=\"checkbox\" ><label class=\"sk-toggleable__label\" for=\"9e9d2348-aa1f-4bb5-a325-d962e971708e\">Pipeline</label><div class=\"sk-toggleable__content\"><pre>Pipeline(steps=[('preprocess_pipeline',\n",
       "                 Pipeline(steps=[('numdropper', NumeDropper()),\n",
       "                                 ('catedropper', CateDropper(n=3)),\n",
       "                                 ('preprocessor',\n",
       "                                  ColumnTransformer(transformers=[('nume',\n",
       "                                                                   Pipeline(steps=[('imputer',\n",
       "                                                                                    SimpleImputer(strategy='median'))]),\n",
       "                                                                   ['sqft',\n",
       "                                                                    'beds',\n",
       "                                                                    'baths',\n",
       "                                                                    'parkingSpots',\n",
       "                                                                    'tax']),\n",
       "                                                                  ('cate',\n",
       "                                                                   Pipeline(steps=[('imputer',\n",
       "                                                                                    SimpleImputer(strategy='most_frequent')),\n",
       "                                                                                   ('onehot',\n",
       "                                                                                    OneHotEncoder(handle_unknown='ignore'))]),\n",
       "                                                                   ['homeType',\n",
       "                                                                    'heating_system',\n",
       "                                                                    'cooling_system',\n",
       "                                                                    'architecture_style'])])),\n",
       "                                 ('minmax', MinMaxScaler())])),\n",
       "                ('neural_network',\n",
       "                 MLPRegressor(alpha=1e-05, hidden_layer_sizes=(30, 10),\n",
       "                              max_iter=3000, solver='sgd'))])</pre></div></div></div><div class=\"sk-serial\"><div class=\"sk-item\"><div class=\"sk-label-container\"><div class=\"sk-label sk-toggleable\"><input class=\"sk-toggleable__control sk-hidden--visually\" id=\"9126c09c-79e3-4a74-be8c-1326d862304b\" type=\"checkbox\" ><label class=\"sk-toggleable__label\" for=\"9126c09c-79e3-4a74-be8c-1326d862304b\">preprocess_pipeline: Pipeline</label><div class=\"sk-toggleable__content\"><pre>Pipeline(steps=[('numdropper', NumeDropper()),\n",
       "                ('catedropper', CateDropper(n=3)),\n",
       "                ('preprocessor',\n",
       "                 ColumnTransformer(transformers=[('nume',\n",
       "                                                  Pipeline(steps=[('imputer',\n",
       "                                                                   SimpleImputer(strategy='median'))]),\n",
       "                                                  ['sqft', 'beds', 'baths',\n",
       "                                                   'parkingSpots', 'tax']),\n",
       "                                                 ('cate',\n",
       "                                                  Pipeline(steps=[('imputer',\n",
       "                                                                   SimpleImputer(strategy='most_frequent')),\n",
       "                                                                  ('onehot',\n",
       "                                                                   OneHotEncoder(handle_unknown='ignore'))]),\n",
       "                                                  ['homeType', 'heating_system',\n",
       "                                                   'cooling_system',\n",
       "                                                   'architecture_style'])])),\n",
       "                ('minmax', MinMaxScaler())])</pre></div></div></div><div class=\"sk-serial\"><div class=\"sk-item\"><div class=\"sk-estimator sk-toggleable\"><input class=\"sk-toggleable__control sk-hidden--visually\" id=\"8766a152-38d2-4dbf-9e49-8601217d95e9\" type=\"checkbox\" ><label class=\"sk-toggleable__label\" for=\"8766a152-38d2-4dbf-9e49-8601217d95e9\">NumeDropper</label><div class=\"sk-toggleable__content\"><pre>NumeDropper()</pre></div></div></div><div class=\"sk-item\"><div class=\"sk-estimator sk-toggleable\"><input class=\"sk-toggleable__control sk-hidden--visually\" id=\"48a3c9e3-bb5e-4ea0-9c2c-59003bf29671\" type=\"checkbox\" ><label class=\"sk-toggleable__label\" for=\"48a3c9e3-bb5e-4ea0-9c2c-59003bf29671\">CateDropper</label><div class=\"sk-toggleable__content\"><pre>CateDropper(n=3)</pre></div></div></div><div class=\"sk-item sk-dashed-wrapped\"><div class=\"sk-label-container\"><div class=\"sk-label sk-toggleable\"><input class=\"sk-toggleable__control sk-hidden--visually\" id=\"ffea9c55-4606-4904-a434-d8845232898d\" type=\"checkbox\" ><label class=\"sk-toggleable__label\" for=\"ffea9c55-4606-4904-a434-d8845232898d\">preprocessor: ColumnTransformer</label><div class=\"sk-toggleable__content\"><pre>ColumnTransformer(transformers=[('nume',\n",
       "                                 Pipeline(steps=[('imputer',\n",
       "                                                  SimpleImputer(strategy='median'))]),\n",
       "                                 ['sqft', 'beds', 'baths', 'parkingSpots',\n",
       "                                  'tax']),\n",
       "                                ('cate',\n",
       "                                 Pipeline(steps=[('imputer',\n",
       "                                                  SimpleImputer(strategy='most_frequent')),\n",
       "                                                 ('onehot',\n",
       "                                                  OneHotEncoder(handle_unknown='ignore'))]),\n",
       "                                 ['homeType', 'heating_system',\n",
       "                                  'cooling_system', 'architecture_style'])])</pre></div></div></div><div class=\"sk-parallel\"><div class=\"sk-parallel-item\"><div class=\"sk-item\"><div class=\"sk-label-container\"><div class=\"sk-label sk-toggleable\"><input class=\"sk-toggleable__control sk-hidden--visually\" id=\"b9efe5fe-7104-490d-b83a-b8d85c428b7b\" type=\"checkbox\" ><label class=\"sk-toggleable__label\" for=\"b9efe5fe-7104-490d-b83a-b8d85c428b7b\">nume</label><div class=\"sk-toggleable__content\"><pre>['sqft', 'beds', 'baths', 'parkingSpots', 'tax']</pre></div></div></div><div class=\"sk-serial\"><div class=\"sk-item\"><div class=\"sk-serial\"><div class=\"sk-item\"><div class=\"sk-estimator sk-toggleable\"><input class=\"sk-toggleable__control sk-hidden--visually\" id=\"495f4f67-18a2-467a-bcf0-b40cc5cf9316\" type=\"checkbox\" ><label class=\"sk-toggleable__label\" for=\"495f4f67-18a2-467a-bcf0-b40cc5cf9316\">SimpleImputer</label><div class=\"sk-toggleable__content\"><pre>SimpleImputer(strategy='median')</pre></div></div></div></div></div></div></div></div><div class=\"sk-parallel-item\"><div class=\"sk-item\"><div class=\"sk-label-container\"><div class=\"sk-label sk-toggleable\"><input class=\"sk-toggleable__control sk-hidden--visually\" id=\"0f7ed76d-4454-43ae-90c8-907420100c3e\" type=\"checkbox\" ><label class=\"sk-toggleable__label\" for=\"0f7ed76d-4454-43ae-90c8-907420100c3e\">cate</label><div class=\"sk-toggleable__content\"><pre>['homeType', 'heating_system', 'cooling_system', 'architecture_style']</pre></div></div></div><div class=\"sk-serial\"><div class=\"sk-item\"><div class=\"sk-serial\"><div class=\"sk-item\"><div class=\"sk-estimator sk-toggleable\"><input class=\"sk-toggleable__control sk-hidden--visually\" id=\"c63ca699-b34c-4159-8bff-27c58d31f4a9\" type=\"checkbox\" ><label class=\"sk-toggleable__label\" for=\"c63ca699-b34c-4159-8bff-27c58d31f4a9\">SimpleImputer</label><div class=\"sk-toggleable__content\"><pre>SimpleImputer(strategy='most_frequent')</pre></div></div></div><div class=\"sk-item\"><div class=\"sk-estimator sk-toggleable\"><input class=\"sk-toggleable__control sk-hidden--visually\" id=\"175f6ae2-a8fb-43c2-8703-9168fdf1db9c\" type=\"checkbox\" ><label class=\"sk-toggleable__label\" for=\"175f6ae2-a8fb-43c2-8703-9168fdf1db9c\">OneHotEncoder</label><div class=\"sk-toggleable__content\"><pre>OneHotEncoder(handle_unknown='ignore')</pre></div></div></div></div></div></div></div></div></div></div><div class=\"sk-item\"><div class=\"sk-estimator sk-toggleable\"><input class=\"sk-toggleable__control sk-hidden--visually\" id=\"679c8506-7f97-4bd0-b770-58cd52ca3878\" type=\"checkbox\" ><label class=\"sk-toggleable__label\" for=\"679c8506-7f97-4bd0-b770-58cd52ca3878\">MinMaxScaler</label><div class=\"sk-toggleable__content\"><pre>MinMaxScaler()</pre></div></div></div></div></div><div class=\"sk-item\"><div class=\"sk-estimator sk-toggleable\"><input class=\"sk-toggleable__control sk-hidden--visually\" id=\"19b1704b-d700-468f-a215-e300d0dfe3f0\" type=\"checkbox\" ><label class=\"sk-toggleable__label\" for=\"19b1704b-d700-468f-a215-e300d0dfe3f0\">MLPRegressor</label><div class=\"sk-toggleable__content\"><pre>MLPRegressor(alpha=1e-05, hidden_layer_sizes=(30, 10), max_iter=3000,\n",
       "             solver='sgd')</pre></div></div></div></div></div></div></div>"
      ],
      "text/plain": [
       "Pipeline(steps=[('preprocess_pipeline',\n",
       "                 Pipeline(steps=[('numdropper', NumeDropper()),\n",
       "                                 ('catedropper', CateDropper(n=3)),\n",
       "                                 ('preprocessor',\n",
       "                                  ColumnTransformer(transformers=[('nume',\n",
       "                                                                   Pipeline(steps=[('imputer',\n",
       "                                                                                    SimpleImputer(strategy='median'))]),\n",
       "                                                                   ['sqft',\n",
       "                                                                    'beds',\n",
       "                                                                    'baths',\n",
       "                                                                    'parkingSpots',\n",
       "                                                                    'tax']),\n",
       "                                                                  ('cate',\n",
       "                                                                   Pipeline(steps=[('imputer',\n",
       "                                                                                    SimpleImputer(strategy='most_frequent')),\n",
       "                                                                                   ('onehot',\n",
       "                                                                                    OneHotEncoder(handle_unknown='ignore'))]),\n",
       "                                                                   ['homeType',\n",
       "                                                                    'heating_system',\n",
       "                                                                    'cooling_system',\n",
       "                                                                    'architecture_style'])])),\n",
       "                                 ('minmax', MinMaxScaler())])),\n",
       "                ('neural_network',\n",
       "                 MLPRegressor(alpha=1e-05, hidden_layer_sizes=(30, 10),\n",
       "                              max_iter=3000, solver='sgd'))])"
      ]
     },
     "execution_count": 29,
     "metadata": {},
     "output_type": "execute_result"
    }
   ],
   "source": [
    "model = MLPRegressor(solver='sgd', \n",
    "                    activation = 'relu',\n",
    "                    hidden_layer_sizes=(30,10), \n",
    "                    random_state=None,\n",
    "                    max_iter = 3000,\n",
    "                    alpha=1e-5)\n",
    "full_pipeline = Pipeline(steps=[('preprocess_pipeline', preprocess_pipeline),\n",
    "                                 ('neural_network',model)])\n",
    "full_pipeline"
   ]
  },
  {
   "cell_type": "code",
   "execution_count": 40,
   "id": "5ce88c75",
   "metadata": {},
   "outputs": [],
   "source": [
    "max_ = train_y.max()\n",
    "min_ = train_y.min()\n",
    "scaleTrain_y=(train_y /min_)"
   ]
  },
  {
   "cell_type": "code",
   "execution_count": 41,
   "id": "9548aaf7",
   "metadata": {},
   "outputs": [
    {
     "ename": "ValueError",
     "evalue": "Invalid parameter alpha for estimator LinearRegression(). Check the list of available parameters with `estimator.get_params().keys()`.",
     "output_type": "error",
     "traceback": [
      "\u001b[0;31m---------------------------------------------------------------------------\u001b[0m",
      "\u001b[0;31mValueError\u001b[0m                                Traceback (most recent call last)",
      "\u001b[0;32m/tmp/ipykernel_1138/3142774035.py\u001b[0m in \u001b[0;36m<module>\u001b[0;34m\u001b[0m\n\u001b[1;32m     10\u001b[0m \u001b[0;32mfor\u001b[0m \u001b[0malpha\u001b[0m \u001b[0;32min\u001b[0m \u001b[0malphas\u001b[0m\u001b[0;34m:\u001b[0m\u001b[0;34m\u001b[0m\u001b[0;34m\u001b[0m\u001b[0m\n\u001b[1;32m     11\u001b[0m     \u001b[0;32mfor\u001b[0m \u001b[0mn_\u001b[0m \u001b[0;32min\u001b[0m \u001b[0mN\u001b[0m\u001b[0;34m:\u001b[0m\u001b[0;34m\u001b[0m\u001b[0;34m\u001b[0m\u001b[0m\n\u001b[0;32m---> 12\u001b[0;31m         \u001b[0mmodel\u001b[0m \u001b[0;34m=\u001b[0m \u001b[0mfull_pipeline\u001b[0m\u001b[0;34m.\u001b[0m\u001b[0mset_params\u001b[0m\u001b[0;34m(\u001b[0m\u001b[0mpreprocess_pipeline__catedropper__n\u001b[0m \u001b[0;34m=\u001b[0m \u001b[0mn_\u001b[0m\u001b[0;34m,\u001b[0m \u001b[0mneural_network__alpha\u001b[0m\u001b[0;34m=\u001b[0m\u001b[0malpha\u001b[0m\u001b[0;34m)\u001b[0m\u001b[0;34m.\u001b[0m\u001b[0mfit\u001b[0m\u001b[0;34m(\u001b[0m\u001b[0mtrain_X\u001b[0m\u001b[0;34m,\u001b[0m \u001b[0mscaleTrain_y\u001b[0m\u001b[0;34m)\u001b[0m\u001b[0;34m\u001b[0m\u001b[0;34m\u001b[0m\u001b[0m\n\u001b[0m\u001b[1;32m     13\u001b[0m         \u001b[0mtrain_error\u001b[0m \u001b[0;34m=\u001b[0m \u001b[0mcompute_mse\u001b[0m\u001b[0;34m(\u001b[0m\u001b[0mtrain_y\u001b[0m\u001b[0;34m,\u001b[0m \u001b[0mmodel\u001b[0m\u001b[0;34m.\u001b[0m\u001b[0mpredict\u001b[0m\u001b[0;34m(\u001b[0m\u001b[0mtrain_X\u001b[0m\u001b[0;34m)\u001b[0m\u001b[0;34m*\u001b[0m\u001b[0mmin_\u001b[0m\u001b[0;34m)\u001b[0m\u001b[0;34m\u001b[0m\u001b[0;34m\u001b[0m\u001b[0m\n\u001b[1;32m     14\u001b[0m         \u001b[0mval_error\u001b[0m \u001b[0;34m=\u001b[0m \u001b[0mcompute_mse\u001b[0m\u001b[0;34m(\u001b[0m\u001b[0mval_y\u001b[0m\u001b[0;34m,\u001b[0m \u001b[0mmodel\u001b[0m\u001b[0;34m.\u001b[0m\u001b[0mpredict\u001b[0m\u001b[0;34m(\u001b[0m\u001b[0mval_X\u001b[0m\u001b[0;34m)\u001b[0m\u001b[0;34m*\u001b[0m\u001b[0mmin_\u001b[0m\u001b[0;34m)\u001b[0m\u001b[0;34m\u001b[0m\u001b[0;34m\u001b[0m\u001b[0m\n",
      "\u001b[0;32m~/miniconda3/envs/min_ds-env/lib/python3.8/site-packages/sklearn/pipeline.py\u001b[0m in \u001b[0;36mset_params\u001b[0;34m(self, **kwargs)\u001b[0m\n\u001b[1;32m    148\u001b[0m         \u001b[0mself\u001b[0m\u001b[0;34m\u001b[0m\u001b[0;34m\u001b[0m\u001b[0m\n\u001b[1;32m    149\u001b[0m         \"\"\"\n\u001b[0;32m--> 150\u001b[0;31m         \u001b[0mself\u001b[0m\u001b[0;34m.\u001b[0m\u001b[0m_set_params\u001b[0m\u001b[0;34m(\u001b[0m\u001b[0;34m'steps'\u001b[0m\u001b[0;34m,\u001b[0m \u001b[0;34m**\u001b[0m\u001b[0mkwargs\u001b[0m\u001b[0;34m)\u001b[0m\u001b[0;34m\u001b[0m\u001b[0;34m\u001b[0m\u001b[0m\n\u001b[0m\u001b[1;32m    151\u001b[0m         \u001b[0;32mreturn\u001b[0m \u001b[0mself\u001b[0m\u001b[0;34m\u001b[0m\u001b[0;34m\u001b[0m\u001b[0m\n\u001b[1;32m    152\u001b[0m \u001b[0;34m\u001b[0m\u001b[0m\n",
      "\u001b[0;32m~/miniconda3/envs/min_ds-env/lib/python3.8/site-packages/sklearn/utils/metaestimators.py\u001b[0m in \u001b[0;36m_set_params\u001b[0;34m(self, attr, **params)\u001b[0m\n\u001b[1;32m     52\u001b[0m                 \u001b[0mself\u001b[0m\u001b[0;34m.\u001b[0m\u001b[0m_replace_estimator\u001b[0m\u001b[0;34m(\u001b[0m\u001b[0mattr\u001b[0m\u001b[0;34m,\u001b[0m \u001b[0mname\u001b[0m\u001b[0;34m,\u001b[0m \u001b[0mparams\u001b[0m\u001b[0;34m.\u001b[0m\u001b[0mpop\u001b[0m\u001b[0;34m(\u001b[0m\u001b[0mname\u001b[0m\u001b[0;34m)\u001b[0m\u001b[0;34m)\u001b[0m\u001b[0;34m\u001b[0m\u001b[0;34m\u001b[0m\u001b[0m\n\u001b[1;32m     53\u001b[0m         \u001b[0;31m# 3. Step parameters and other initialisation arguments\u001b[0m\u001b[0;34m\u001b[0m\u001b[0;34m\u001b[0m\u001b[0;34m\u001b[0m\u001b[0m\n\u001b[0;32m---> 54\u001b[0;31m         \u001b[0msuper\u001b[0m\u001b[0;34m(\u001b[0m\u001b[0;34m)\u001b[0m\u001b[0;34m.\u001b[0m\u001b[0mset_params\u001b[0m\u001b[0;34m(\u001b[0m\u001b[0;34m**\u001b[0m\u001b[0mparams\u001b[0m\u001b[0;34m)\u001b[0m\u001b[0;34m\u001b[0m\u001b[0;34m\u001b[0m\u001b[0m\n\u001b[0m\u001b[1;32m     55\u001b[0m         \u001b[0;32mreturn\u001b[0m \u001b[0mself\u001b[0m\u001b[0;34m\u001b[0m\u001b[0;34m\u001b[0m\u001b[0m\n\u001b[1;32m     56\u001b[0m \u001b[0;34m\u001b[0m\u001b[0m\n",
      "\u001b[0;32m~/miniconda3/envs/min_ds-env/lib/python3.8/site-packages/sklearn/base.py\u001b[0m in \u001b[0;36mset_params\u001b[0;34m(self, **params)\u001b[0m\n\u001b[1;32m    240\u001b[0m \u001b[0;34m\u001b[0m\u001b[0m\n\u001b[1;32m    241\u001b[0m         \u001b[0;32mfor\u001b[0m \u001b[0mkey\u001b[0m\u001b[0;34m,\u001b[0m \u001b[0msub_params\u001b[0m \u001b[0;32min\u001b[0m \u001b[0mnested_params\u001b[0m\u001b[0;34m.\u001b[0m\u001b[0mitems\u001b[0m\u001b[0;34m(\u001b[0m\u001b[0;34m)\u001b[0m\u001b[0;34m:\u001b[0m\u001b[0;34m\u001b[0m\u001b[0;34m\u001b[0m\u001b[0m\n\u001b[0;32m--> 242\u001b[0;31m             \u001b[0mvalid_params\u001b[0m\u001b[0;34m[\u001b[0m\u001b[0mkey\u001b[0m\u001b[0;34m]\u001b[0m\u001b[0;34m.\u001b[0m\u001b[0mset_params\u001b[0m\u001b[0;34m(\u001b[0m\u001b[0;34m**\u001b[0m\u001b[0msub_params\u001b[0m\u001b[0;34m)\u001b[0m\u001b[0;34m\u001b[0m\u001b[0;34m\u001b[0m\u001b[0m\n\u001b[0m\u001b[1;32m    243\u001b[0m \u001b[0;34m\u001b[0m\u001b[0m\n\u001b[1;32m    244\u001b[0m         \u001b[0;32mreturn\u001b[0m \u001b[0mself\u001b[0m\u001b[0;34m\u001b[0m\u001b[0;34m\u001b[0m\u001b[0m\n",
      "\u001b[0;32m~/miniconda3/envs/min_ds-env/lib/python3.8/site-packages/sklearn/base.py\u001b[0m in \u001b[0;36mset_params\u001b[0;34m(self, **params)\u001b[0m\n\u001b[1;32m    228\u001b[0m             \u001b[0mkey\u001b[0m\u001b[0;34m,\u001b[0m \u001b[0mdelim\u001b[0m\u001b[0;34m,\u001b[0m \u001b[0msub_key\u001b[0m \u001b[0;34m=\u001b[0m \u001b[0mkey\u001b[0m\u001b[0;34m.\u001b[0m\u001b[0mpartition\u001b[0m\u001b[0;34m(\u001b[0m\u001b[0;34m'__'\u001b[0m\u001b[0;34m)\u001b[0m\u001b[0;34m\u001b[0m\u001b[0;34m\u001b[0m\u001b[0m\n\u001b[1;32m    229\u001b[0m             \u001b[0;32mif\u001b[0m \u001b[0mkey\u001b[0m \u001b[0;32mnot\u001b[0m \u001b[0;32min\u001b[0m \u001b[0mvalid_params\u001b[0m\u001b[0;34m:\u001b[0m\u001b[0;34m\u001b[0m\u001b[0;34m\u001b[0m\u001b[0m\n\u001b[0;32m--> 230\u001b[0;31m                 raise ValueError('Invalid parameter %s for estimator %s. '\n\u001b[0m\u001b[1;32m    231\u001b[0m                                  \u001b[0;34m'Check the list of available parameters '\u001b[0m\u001b[0;34m\u001b[0m\u001b[0;34m\u001b[0m\u001b[0m\n\u001b[1;32m    232\u001b[0m                                  \u001b[0;34m'with `estimator.get_params().keys()`.'\u001b[0m \u001b[0;34m%\u001b[0m\u001b[0;34m\u001b[0m\u001b[0;34m\u001b[0m\u001b[0m\n",
      "\u001b[0;31mValueError\u001b[0m: Invalid parameter alpha for estimator LinearRegression(). Check the list of available parameters with `estimator.get_params().keys()`."
     ]
    }
   ],
   "source": [
    "train_errs = []\n",
    "val_errs = []\n",
    "alphas = [ 0.01 ,0.1, 1, 10]\n",
    "N = [2,3,4,5]\n",
    "\n",
    "best_val_err = float('inf')\n",
    "best_N = None\n",
    "best_alpha = None\n",
    "\n",
    "for alpha in alphas:\n",
    "    for n_ in N:\n",
    "        model = full_pipeline.set_params(preprocess_pipeline__catedropper__n = n_, neural_network__alpha=alpha).fit(train_X, scaleTrain_y)\n",
    "        train_error = compute_mse(train_y, model.predict(train_X)*min_)\n",
    "        val_error = compute_mse(val_y, model.predict(val_X)*min_)\n",
    "        \n",
    "        train_errs.append(train_error)\n",
    "        val_errs.append(val_error)\n",
    "        \n",
    "        if val_errs[-1] < best_val_err:\n",
    "            best_val_err = val_errs[-1]\n",
    "            best_alpha = alpha\n",
    "            best_N = n_"
   ]
  },
  {
   "cell_type": "code",
   "execution_count": null,
   "id": "fdd15843",
   "metadata": {},
   "outputs": [],
   "source": [
    "model = full_pipeline.set_params(preprocess_pipeline__catedropper__n = best_N, neural_network__alpha=best_alpha)\n",
    "model = full_pipeline.fit(train_X, scaleTrain_y)"
   ]
  },
  {
   "cell_type": "code",
   "execution_count": null,
   "id": "e66468be",
   "metadata": {},
   "outputs": [],
   "source": [
    "loss_values=model[\"neural_network\"].loss_curve_\n",
    "plt.plot(loss_values)\n",
    "plt.title('Loss curve', fontsize=14)\n",
    "plt.xlabel('iteration', fontsize=14)\n",
    "plt.ylabel('MSE error', fontsize=14)\n",
    "plt.show()"
   ]
  },
  {
   "cell_type": "code",
   "execution_count": null,
   "id": "80af1c1d",
   "metadata": {},
   "outputs": [],
   "source": [
    "#tính độ lỗi trên tập test\n",
    "test_preds = model.predict(test_X)*min_\n",
    "\n",
    "D = test_preds \n",
    "# test_preds= np.round(test_preds,3)\n",
    "compute_rr(test_y, test_preds, baseline_preds)"
   ]
  },
  {
   "cell_type": "code",
   "execution_count": null,
   "id": "d8604e71",
   "metadata": {
    "scrolled": true
   },
   "outputs": [],
   "source": [
    "df = pd.DataFrame({'Actual': test_y, 'Predicted': test_preds})\n",
    "df.head(10)"
   ]
  },
  {
   "cell_type": "markdown",
   "id": "cc837ce8",
   "metadata": {},
   "source": [
    "### Linear Regression"
   ]
  },
  {
   "cell_type": "markdown",
   "id": "979991b2",
   "metadata": {},
   "source": [
    "#### Full pipeline"
   ]
  },
  {
   "cell_type": "code",
   "execution_count": 30,
   "id": "656e1be3",
   "metadata": {},
   "outputs": [
    {
     "data": {
      "text/html": [
       "<style>#sk-a858ba4f-3356-49fc-bb7c-93bbeeffa152 {color: black;background-color: white;}#sk-a858ba4f-3356-49fc-bb7c-93bbeeffa152 pre{padding: 0;}#sk-a858ba4f-3356-49fc-bb7c-93bbeeffa152 div.sk-toggleable {background-color: white;}#sk-a858ba4f-3356-49fc-bb7c-93bbeeffa152 label.sk-toggleable__label {cursor: pointer;display: block;width: 100%;margin-bottom: 0;padding: 0.2em 0.3em;box-sizing: border-box;text-align: center;}#sk-a858ba4f-3356-49fc-bb7c-93bbeeffa152 div.sk-toggleable__content {max-height: 0;max-width: 0;overflow: hidden;text-align: left;background-color: #f0f8ff;}#sk-a858ba4f-3356-49fc-bb7c-93bbeeffa152 div.sk-toggleable__content pre {margin: 0.2em;color: black;border-radius: 0.25em;background-color: #f0f8ff;}#sk-a858ba4f-3356-49fc-bb7c-93bbeeffa152 input.sk-toggleable__control:checked~div.sk-toggleable__content {max-height: 200px;max-width: 100%;overflow: auto;}#sk-a858ba4f-3356-49fc-bb7c-93bbeeffa152 div.sk-estimator input.sk-toggleable__control:checked~label.sk-toggleable__label {background-color: #d4ebff;}#sk-a858ba4f-3356-49fc-bb7c-93bbeeffa152 div.sk-label input.sk-toggleable__control:checked~label.sk-toggleable__label {background-color: #d4ebff;}#sk-a858ba4f-3356-49fc-bb7c-93bbeeffa152 input.sk-hidden--visually {border: 0;clip: rect(1px 1px 1px 1px);clip: rect(1px, 1px, 1px, 1px);height: 1px;margin: -1px;overflow: hidden;padding: 0;position: absolute;width: 1px;}#sk-a858ba4f-3356-49fc-bb7c-93bbeeffa152 div.sk-estimator {font-family: monospace;background-color: #f0f8ff;margin: 0.25em 0.25em;border: 1px dotted black;border-radius: 0.25em;box-sizing: border-box;}#sk-a858ba4f-3356-49fc-bb7c-93bbeeffa152 div.sk-estimator:hover {background-color: #d4ebff;}#sk-a858ba4f-3356-49fc-bb7c-93bbeeffa152 div.sk-parallel-item::after {content: \"\";width: 100%;border-bottom: 1px solid gray;flex-grow: 1;}#sk-a858ba4f-3356-49fc-bb7c-93bbeeffa152 div.sk-label:hover label.sk-toggleable__label {background-color: #d4ebff;}#sk-a858ba4f-3356-49fc-bb7c-93bbeeffa152 div.sk-serial::before {content: \"\";position: absolute;border-left: 1px solid gray;box-sizing: border-box;top: 2em;bottom: 0;left: 50%;}#sk-a858ba4f-3356-49fc-bb7c-93bbeeffa152 div.sk-serial {display: flex;flex-direction: column;align-items: center;background-color: white;}#sk-a858ba4f-3356-49fc-bb7c-93bbeeffa152 div.sk-item {z-index: 1;}#sk-a858ba4f-3356-49fc-bb7c-93bbeeffa152 div.sk-parallel {display: flex;align-items: stretch;justify-content: center;background-color: white;}#sk-a858ba4f-3356-49fc-bb7c-93bbeeffa152 div.sk-parallel-item {display: flex;flex-direction: column;position: relative;background-color: white;}#sk-a858ba4f-3356-49fc-bb7c-93bbeeffa152 div.sk-parallel-item:first-child::after {align-self: flex-end;width: 50%;}#sk-a858ba4f-3356-49fc-bb7c-93bbeeffa152 div.sk-parallel-item:last-child::after {align-self: flex-start;width: 50%;}#sk-a858ba4f-3356-49fc-bb7c-93bbeeffa152 div.sk-parallel-item:only-child::after {width: 0;}#sk-a858ba4f-3356-49fc-bb7c-93bbeeffa152 div.sk-dashed-wrapped {border: 1px dashed gray;margin: 0.2em;box-sizing: border-box;padding-bottom: 0.1em;background-color: white;position: relative;}#sk-a858ba4f-3356-49fc-bb7c-93bbeeffa152 div.sk-label label {font-family: monospace;font-weight: bold;background-color: white;display: inline-block;line-height: 1.2em;}#sk-a858ba4f-3356-49fc-bb7c-93bbeeffa152 div.sk-label-container {position: relative;z-index: 2;text-align: center;}#sk-a858ba4f-3356-49fc-bb7c-93bbeeffa152 div.sk-container {display: inline-block;position: relative;}</style><div id=\"sk-a858ba4f-3356-49fc-bb7c-93bbeeffa152\" class\"sk-top-container\"><div class=\"sk-container\"><div class=\"sk-item sk-dashed-wrapped\"><div class=\"sk-label-container\"><div class=\"sk-label sk-toggleable\"><input class=\"sk-toggleable__control sk-hidden--visually\" id=\"69287337-1c85-4dcc-a1dc-3be8a48090f7\" type=\"checkbox\" ><label class=\"sk-toggleable__label\" for=\"69287337-1c85-4dcc-a1dc-3be8a48090f7\">Pipeline</label><div class=\"sk-toggleable__content\"><pre>Pipeline(steps=[('preprocess_pipeline',\n",
       "                 Pipeline(steps=[('numdropper', NumeDropper()),\n",
       "                                 ('catedropper', CateDropper(n=3)),\n",
       "                                 ('preprocessor',\n",
       "                                  ColumnTransformer(transformers=[('nume',\n",
       "                                                                   Pipeline(steps=[('imputer',\n",
       "                                                                                    SimpleImputer(strategy='median'))]),\n",
       "                                                                   ['sqft',\n",
       "                                                                    'beds',\n",
       "                                                                    'baths',\n",
       "                                                                    'parkingSpots',\n",
       "                                                                    'tax']),\n",
       "                                                                  ('cate',\n",
       "                                                                   Pipeline(steps=[('imputer',\n",
       "                                                                                    SimpleImputer(strategy='most_frequent')),\n",
       "                                                                                   ('onehot',\n",
       "                                                                                    OneHotEncoder(handle_unknown='ignore'))]),\n",
       "                                                                   ['homeType',\n",
       "                                                                    'heating_system',\n",
       "                                                                    'cooling_system',\n",
       "                                                                    'architecture_style'])])),\n",
       "                                 ('minmax', MinMaxScaler())])),\n",
       "                ('neural_network', LinearRegression())])</pre></div></div></div><div class=\"sk-serial\"><div class=\"sk-item\"><div class=\"sk-label-container\"><div class=\"sk-label sk-toggleable\"><input class=\"sk-toggleable__control sk-hidden--visually\" id=\"4cce83b8-05e7-4b9b-8a2b-86f87f0906e4\" type=\"checkbox\" ><label class=\"sk-toggleable__label\" for=\"4cce83b8-05e7-4b9b-8a2b-86f87f0906e4\">preprocess_pipeline: Pipeline</label><div class=\"sk-toggleable__content\"><pre>Pipeline(steps=[('numdropper', NumeDropper()),\n",
       "                ('catedropper', CateDropper(n=3)),\n",
       "                ('preprocessor',\n",
       "                 ColumnTransformer(transformers=[('nume',\n",
       "                                                  Pipeline(steps=[('imputer',\n",
       "                                                                   SimpleImputer(strategy='median'))]),\n",
       "                                                  ['sqft', 'beds', 'baths',\n",
       "                                                   'parkingSpots', 'tax']),\n",
       "                                                 ('cate',\n",
       "                                                  Pipeline(steps=[('imputer',\n",
       "                                                                   SimpleImputer(strategy='most_frequent')),\n",
       "                                                                  ('onehot',\n",
       "                                                                   OneHotEncoder(handle_unknown='ignore'))]),\n",
       "                                                  ['homeType', 'heating_system',\n",
       "                                                   'cooling_system',\n",
       "                                                   'architecture_style'])])),\n",
       "                ('minmax', MinMaxScaler())])</pre></div></div></div><div class=\"sk-serial\"><div class=\"sk-item\"><div class=\"sk-estimator sk-toggleable\"><input class=\"sk-toggleable__control sk-hidden--visually\" id=\"377b1e0b-db23-452e-b61f-105fd28a163a\" type=\"checkbox\" ><label class=\"sk-toggleable__label\" for=\"377b1e0b-db23-452e-b61f-105fd28a163a\">NumeDropper</label><div class=\"sk-toggleable__content\"><pre>NumeDropper()</pre></div></div></div><div class=\"sk-item\"><div class=\"sk-estimator sk-toggleable\"><input class=\"sk-toggleable__control sk-hidden--visually\" id=\"acb0d7f8-81b3-4ee9-93b1-830694e675fb\" type=\"checkbox\" ><label class=\"sk-toggleable__label\" for=\"acb0d7f8-81b3-4ee9-93b1-830694e675fb\">CateDropper</label><div class=\"sk-toggleable__content\"><pre>CateDropper(n=3)</pre></div></div></div><div class=\"sk-item sk-dashed-wrapped\"><div class=\"sk-label-container\"><div class=\"sk-label sk-toggleable\"><input class=\"sk-toggleable__control sk-hidden--visually\" id=\"3e6aaec0-e4b7-43ef-a581-5dd8c314cfa0\" type=\"checkbox\" ><label class=\"sk-toggleable__label\" for=\"3e6aaec0-e4b7-43ef-a581-5dd8c314cfa0\">preprocessor: ColumnTransformer</label><div class=\"sk-toggleable__content\"><pre>ColumnTransformer(transformers=[('nume',\n",
       "                                 Pipeline(steps=[('imputer',\n",
       "                                                  SimpleImputer(strategy='median'))]),\n",
       "                                 ['sqft', 'beds', 'baths', 'parkingSpots',\n",
       "                                  'tax']),\n",
       "                                ('cate',\n",
       "                                 Pipeline(steps=[('imputer',\n",
       "                                                  SimpleImputer(strategy='most_frequent')),\n",
       "                                                 ('onehot',\n",
       "                                                  OneHotEncoder(handle_unknown='ignore'))]),\n",
       "                                 ['homeType', 'heating_system',\n",
       "                                  'cooling_system', 'architecture_style'])])</pre></div></div></div><div class=\"sk-parallel\"><div class=\"sk-parallel-item\"><div class=\"sk-item\"><div class=\"sk-label-container\"><div class=\"sk-label sk-toggleable\"><input class=\"sk-toggleable__control sk-hidden--visually\" id=\"f8877614-0b5f-420e-be7f-c5c953898270\" type=\"checkbox\" ><label class=\"sk-toggleable__label\" for=\"f8877614-0b5f-420e-be7f-c5c953898270\">nume</label><div class=\"sk-toggleable__content\"><pre>['sqft', 'beds', 'baths', 'parkingSpots', 'tax']</pre></div></div></div><div class=\"sk-serial\"><div class=\"sk-item\"><div class=\"sk-serial\"><div class=\"sk-item\"><div class=\"sk-estimator sk-toggleable\"><input class=\"sk-toggleable__control sk-hidden--visually\" id=\"66707a6e-87cc-4dc2-ad93-1a2c839f711d\" type=\"checkbox\" ><label class=\"sk-toggleable__label\" for=\"66707a6e-87cc-4dc2-ad93-1a2c839f711d\">SimpleImputer</label><div class=\"sk-toggleable__content\"><pre>SimpleImputer(strategy='median')</pre></div></div></div></div></div></div></div></div><div class=\"sk-parallel-item\"><div class=\"sk-item\"><div class=\"sk-label-container\"><div class=\"sk-label sk-toggleable\"><input class=\"sk-toggleable__control sk-hidden--visually\" id=\"ae71cb26-8420-49ba-a643-54fd61cf7142\" type=\"checkbox\" ><label class=\"sk-toggleable__label\" for=\"ae71cb26-8420-49ba-a643-54fd61cf7142\">cate</label><div class=\"sk-toggleable__content\"><pre>['homeType', 'heating_system', 'cooling_system', 'architecture_style']</pre></div></div></div><div class=\"sk-serial\"><div class=\"sk-item\"><div class=\"sk-serial\"><div class=\"sk-item\"><div class=\"sk-estimator sk-toggleable\"><input class=\"sk-toggleable__control sk-hidden--visually\" id=\"3b31b7ed-faf7-4132-b8d6-099e22ba1a43\" type=\"checkbox\" ><label class=\"sk-toggleable__label\" for=\"3b31b7ed-faf7-4132-b8d6-099e22ba1a43\">SimpleImputer</label><div class=\"sk-toggleable__content\"><pre>SimpleImputer(strategy='most_frequent')</pre></div></div></div><div class=\"sk-item\"><div class=\"sk-estimator sk-toggleable\"><input class=\"sk-toggleable__control sk-hidden--visually\" id=\"fb0030ab-4600-427d-b76c-4e45b803c41c\" type=\"checkbox\" ><label class=\"sk-toggleable__label\" for=\"fb0030ab-4600-427d-b76c-4e45b803c41c\">OneHotEncoder</label><div class=\"sk-toggleable__content\"><pre>OneHotEncoder(handle_unknown='ignore')</pre></div></div></div></div></div></div></div></div></div></div><div class=\"sk-item\"><div class=\"sk-estimator sk-toggleable\"><input class=\"sk-toggleable__control sk-hidden--visually\" id=\"c5847aba-b36f-4b84-a98e-4bde84887a9a\" type=\"checkbox\" ><label class=\"sk-toggleable__label\" for=\"c5847aba-b36f-4b84-a98e-4bde84887a9a\">MinMaxScaler</label><div class=\"sk-toggleable__content\"><pre>MinMaxScaler()</pre></div></div></div></div></div><div class=\"sk-item\"><div class=\"sk-estimator sk-toggleable\"><input class=\"sk-toggleable__control sk-hidden--visually\" id=\"1914feae-5881-45c5-b0de-a0253e5115c7\" type=\"checkbox\" ><label class=\"sk-toggleable__label\" for=\"1914feae-5881-45c5-b0de-a0253e5115c7\">LinearRegression</label><div class=\"sk-toggleable__content\"><pre>LinearRegression()</pre></div></div></div></div></div></div></div>"
      ],
      "text/plain": [
       "Pipeline(steps=[('preprocess_pipeline',\n",
       "                 Pipeline(steps=[('numdropper', NumeDropper()),\n",
       "                                 ('catedropper', CateDropper(n=3)),\n",
       "                                 ('preprocessor',\n",
       "                                  ColumnTransformer(transformers=[('nume',\n",
       "                                                                   Pipeline(steps=[('imputer',\n",
       "                                                                                    SimpleImputer(strategy='median'))]),\n",
       "                                                                   ['sqft',\n",
       "                                                                    'beds',\n",
       "                                                                    'baths',\n",
       "                                                                    'parkingSpots',\n",
       "                                                                    'tax']),\n",
       "                                                                  ('cate',\n",
       "                                                                   Pipeline(steps=[('imputer',\n",
       "                                                                                    SimpleImputer(strategy='most_frequent')),\n",
       "                                                                                   ('onehot',\n",
       "                                                                                    OneHotEncoder(handle_unknown='ignore'))]),\n",
       "                                                                   ['homeType',\n",
       "                                                                    'heating_system',\n",
       "                                                                    'cooling_system',\n",
       "                                                                    'architecture_style'])])),\n",
       "                                 ('minmax', MinMaxScaler())])),\n",
       "                ('neural_network', LinearRegression())])"
      ]
     },
     "execution_count": 30,
     "metadata": {},
     "output_type": "execute_result"
    }
   ],
   "source": [
    "model = LinearRegression()\n",
    "full_pipeline = Pipeline(steps=[('preprocess_pipeline', preprocess_pipeline),\n",
    "                                 ('neural_network',model)])\n",
    "full_pipeline"
   ]
  },
  {
   "cell_type": "code",
   "execution_count": 31,
   "id": "debd3aea",
   "metadata": {},
   "outputs": [
    {
     "data": {
      "text/plain": [
       "(896,)"
      ]
     },
     "execution_count": 31,
     "metadata": {},
     "output_type": "execute_result"
    }
   ],
   "source": [
    "train_y.shape"
   ]
  },
  {
   "cell_type": "markdown",
   "id": "aaaa8029",
   "metadata": {},
   "source": [
    "#### Hàm tính RR"
   ]
  },
  {
   "cell_type": "code",
   "execution_count": 32,
   "id": "b84d143f",
   "metadata": {},
   "outputs": [],
   "source": [
    "def compute_mse(y, preds):\n",
    "    return ((y - preds)**2).mean()\n",
    "def compute_rr(y, preds, baseline_preds):\n",
    "    return 1 - compute_mse(y, preds) / compute_mse(y, baseline_preds)\n",
    "baseline_preds = test_y.mean()"
   ]
  },
  {
   "cell_type": "code",
   "execution_count": 33,
   "id": "a8fcc397",
   "metadata": {},
   "outputs": [],
   "source": [
    "# train_X = train_X.append(val_X)\n",
    "# train_Y = train_y.append(val_y)\n",
    "# việc gợp val +train này là do việc sử dụng LR (không có phần cập nhật siêu tham số nên tập val không cần thiết) ==> GỘP"
   ]
  },
  {
   "cell_type": "markdown",
   "id": "9276761e",
   "metadata": {},
   "source": [
    "#### Tìm N\n",
    "Vói N là sô lượng các giá trị xuất hiện nhiều nhất sao cho độ lỗi trên tập validation là nhỏ nhất"
   ]
  },
  {
   "cell_type": "code",
   "execution_count": 34,
   "id": "cac1ffc0",
   "metadata": {},
   "outputs": [],
   "source": [
    "train_errs = []\n",
    "best_val_err = float('inf')\n",
    "val_errs = []\n",
    "\n",
    "best_N = None\n",
    "N = [1,2,3,4,5,6]\n",
    "for i in N:\n",
    "    model = full_pipeline.set_params(preprocess_pipeline__catedropper__n=i).fit(train_X, train_y)\n",
    "    train_error = compute_mse(train_y, model.predict(train_X))\n",
    "    val_error = compute_mse(val_y, model.predict(val_X))\n",
    "    \n",
    "    train_errs.append(train_error)\n",
    "    val_errs.append(val_error)\n",
    "    \n",
    "    if val_errs[-1] < best_val_err:\n",
    "        best_val_err = val_errs[-1]\n",
    "        best_N = i"
   ]
  },
  {
   "cell_type": "code",
   "execution_count": 35,
   "id": "d7d96cb7",
   "metadata": {},
   "outputs": [
    {
     "data": {
      "image/png": "[encoded data removed]",
      "text/plain": [
       "<Figure size 576x360 with 1 Axes>"
      ]
     },
     "metadata": {},
     "output_type": "display_data"
    }
   ],
   "source": [
    "plt.plot(N, val_errs, color='red', marker='o')\n",
    "plt.title('val error with N', fontsize=14)\n",
    "plt.xlabel('N', fontsize=14)\n",
    "plt.ylabel('val_errs', fontsize=14)\n",
    "plt.show()"
   ]
  },
  {
   "cell_type": "markdown",
   "id": "a914216f",
   "metadata": {},
   "source": [
    "#### Train model "
   ]
  },
  {
   "cell_type": "code",
   "execution_count": 36,
   "id": "0879f6a7",
   "metadata": {},
   "outputs": [],
   "source": [
    "model = full_pipeline.set_params(preprocess_pipeline__catedropper__n=best_N).fit(train_X, train_y)"
   ]
  },
  {
   "cell_type": "markdown",
   "id": "f1958811",
   "metadata": {},
   "source": [
    "#### Predict trên tập test"
   ]
  },
  {
   "cell_type": "code",
   "execution_count": 37,
   "id": "fbbcf8b2",
   "metadata": {},
   "outputs": [],
   "source": [
    "test_preds = model.predict(test_X)"
   ]
  },
  {
   "cell_type": "code",
   "execution_count": 38,
   "id": "236e49ee",
   "metadata": {},
   "outputs": [
    {
     "data": {
      "text/html": [
       "<div>\n",
       "<style scoped>\n",
       "    .dataframe tbody tr th:only-of-type {\n",
       "        vertical-align: middle;\n",
       "    }\n",
       "\n",
       "    .dataframe tbody tr th {\n",
       "        vertical-align: top;\n",
       "    }\n",
       "\n",
       "    .dataframe thead th {\n",
       "        text-align: right;\n",
       "    }\n",
       "</style>\n",
       "<table border=\"1\" class=\"dataframe\">\n",
       "  <thead>\n",
       "    <tr style=\"text-align: right;\">\n",
       "      <th></th>\n",
       "      <th>Actual</th>\n",
       "      <th>Predicted</th>\n",
       "    </tr>\n",
       "  </thead>\n",
       "  <tbody>\n",
       "    <tr>\n",
       "      <th>562</th>\n",
       "      <td>165000</td>\n",
       "      <td>2.865470e+05</td>\n",
       "    </tr>\n",
       "    <tr>\n",
       "      <th>1453</th>\n",
       "      <td>689000</td>\n",
       "      <td>7.247947e+05</td>\n",
       "    </tr>\n",
       "    <tr>\n",
       "      <th>769</th>\n",
       "      <td>249000</td>\n",
       "      <td>1.868862e+05</td>\n",
       "    </tr>\n",
       "    <tr>\n",
       "      <th>1357</th>\n",
       "      <td>1900000</td>\n",
       "      <td>1.763546e+06</td>\n",
       "    </tr>\n",
       "    <tr>\n",
       "      <th>868</th>\n",
       "      <td>230000</td>\n",
       "      <td>2.148346e+05</td>\n",
       "    </tr>\n",
       "    <tr>\n",
       "      <th>...</th>\n",
       "      <td>...</td>\n",
       "      <td>...</td>\n",
       "    </tr>\n",
       "    <tr>\n",
       "      <th>73</th>\n",
       "      <td>390000</td>\n",
       "      <td>3.658203e+05</td>\n",
       "    </tr>\n",
       "    <tr>\n",
       "      <th>674</th>\n",
       "      <td>380000</td>\n",
       "      <td>3.479347e+05</td>\n",
       "    </tr>\n",
       "    <tr>\n",
       "      <th>364</th>\n",
       "      <td>449900</td>\n",
       "      <td>3.094468e+05</td>\n",
       "    </tr>\n",
       "    <tr>\n",
       "      <th>415</th>\n",
       "      <td>250000</td>\n",
       "      <td>3.002437e+05</td>\n",
       "    </tr>\n",
       "    <tr>\n",
       "      <th>379</th>\n",
       "      <td>170000</td>\n",
       "      <td>2.331073e+05</td>\n",
       "    </tr>\n",
       "  </tbody>\n",
       "</table>\n",
       "<p>326 rows × 2 columns</p>\n",
       "</div>"
      ],
      "text/plain": [
       "       Actual     Predicted\n",
       "562    165000  2.865470e+05\n",
       "1453   689000  7.247947e+05\n",
       "769    249000  1.868862e+05\n",
       "1357  1900000  1.763546e+06\n",
       "868    230000  2.148346e+05\n",
       "...       ...           ...\n",
       "73     390000  3.658203e+05\n",
       "674    380000  3.479347e+05\n",
       "364    449900  3.094468e+05\n",
       "415    250000  3.002437e+05\n",
       "379    170000  2.331073e+05\n",
       "\n",
       "[326 rows x 2 columns]"
      ]
     },
     "execution_count": 38,
     "metadata": {},
     "output_type": "execute_result"
    }
   ],
   "source": [
    "df = pd.DataFrame({'Actual': test_y, 'Predicted': test_preds})\n",
    "df"
   ]
  },
  {
   "cell_type": "markdown",
   "id": "1fb49b7e",
   "metadata": {},
   "source": [
    "#### Độ chính xác trên tập test"
   ]
  },
  {
   "cell_type": "code",
   "execution_count": 39,
   "id": "8e8da31b",
   "metadata": {},
   "outputs": [
    {
     "data": {
      "text/plain": [
       "0.7551385756333807"
      ]
     },
     "execution_count": 39,
     "metadata": {},
     "output_type": "execute_result"
    }
   ],
   "source": [
    "compute_rr(test_y, test_preds, baseline_preds)"
   ]
  }
 ],
 "metadata": {
  "kernelspec": {
   "display_name": "Python 3 (ipykernel)",
   "language": "python",
   "name": "python3"
  },
  "language_info": {
   "codemirror_mode": {
    "name": "ipython",
    "version": 3
   },
   "file_extension": ".py",
   "mimetype": "text/x-python",
   "name": "python",
   "nbconvert_exporter": "python",
   "pygments_lexer": "ipython3",
   "version": "3.8.8"
  },
  "toc": {
   "base_numbering": 1,
   "nav_menu": {},
   "number_sections": false,
   "sideBar": true,
   "skip_h1_title": false,
   "title_cell": "Table of Contents",
   "title_sidebar": "Contents",
   "toc_cell": false,
   "toc_position": {
    "height": "calc(100% - 180px)",
    "left": "10px",
    "top": "150px",
    "width": "242.1px"
   },
   "toc_section_display": true,
   "toc_window_display": true
  }
 },
 "nbformat": 4,
 "nbformat_minor": 5
}
