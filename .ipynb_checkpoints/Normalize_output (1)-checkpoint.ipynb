{
 "cells": [
  {
   "cell_type": "markdown",
   "id": "43100e3f",
   "metadata": {},
   "source": [
    "## Import"
   ]
  },
  {
   "cell_type": "code",
   "execution_count": 1,
   "id": "c0871963",
   "metadata": {},
   "outputs": [],
   "source": [
    "import matplotlib.pyplot as plt\n",
    "import seaborn as sns # seaborn là thư viện được xây trên matplotlib, \n",
    "                      # giúp việc visualization đỡ khổ hơn\n",
    "import pandas as pd\n",
    "import numpy as np\n",
    "\n",
    "from sklearn.model_selection import train_test_split\n",
    "from sklearn.preprocessing import OneHotEncoder, StandardScaler, MinMaxScaler\n",
    "from sklearn.impute import SimpleImputer\n",
    "from sklearn.base import BaseEstimator, TransformerMixin\n",
    "from sklearn.pipeline import Pipeline, make_pipeline\n",
    "from sklearn.compose import ColumnTransformer, make_column_transformer\n",
    "from sklearn.neural_network import MLPClassifier, MLPRegressor\n",
    "from sklearn import set_config\n",
    "set_config(display='diagram') # Để trực quan hóa pipeline\n",
    "\n",
    "# You can also import other things ...\n",
    "# YOUR CODE HERE (OPTION)\n",
    "import csv\n",
    "from sklearn.linear_model import LinearRegression"
   ]
  },
  {
   "cell_type": "markdown",
   "id": "291ea516",
   "metadata": {},
   "source": [
    "## Thu thập dữ liệu"
   ]
  },
  {
   "cell_type": "code",
   "execution_count": 2,
   "id": "33d020c8",
   "metadata": {
    "scrolled": false
   },
   "outputs": [
    {
     "data": {
      "text/html": [
       "<div>\n",
       "<style scoped>\n",
       "    .dataframe tbody tr th:only-of-type {\n",
       "        vertical-align: middle;\n",
       "    }\n",
       "\n",
       "    .dataframe tbody tr th {\n",
       "        vertical-align: top;\n",
       "    }\n",
       "\n",
       "    .dataframe thead th {\n",
       "        text-align: right;\n",
       "    }\n",
       "</style>\n",
       "<table border=\"1\" class=\"dataframe\">\n",
       "  <thead>\n",
       "    <tr style=\"text-align: right;\">\n",
       "      <th></th>\n",
       "      <th>sqft</th>\n",
       "      <th>homeType</th>\n",
       "      <th>beds</th>\n",
       "      <th>parkingSpots</th>\n",
       "      <th>lotSize</th>\n",
       "      <th>baths</th>\n",
       "      <th>listPrice</th>\n",
       "      <th>heating_system</th>\n",
       "      <th>cooling_system</th>\n",
       "      <th>view_type</th>\n",
       "      <th>architecture_style</th>\n",
       "      <th>yearBuilt</th>\n",
       "      <th>has_pool</th>\n",
       "      <th>city</th>\n",
       "      <th>address</th>\n",
       "      <th>tax</th>\n",
       "    </tr>\n",
       "  </thead>\n",
       "  <tbody>\n",
       "    <tr>\n",
       "      <th>0</th>\n",
       "      <td>1100.0</td>\n",
       "      <td>Single Family Residential</td>\n",
       "      <td>3</td>\n",
       "      <td>NaN</td>\n",
       "      <td>3781.0</td>\n",
       "      <td>2</td>\n",
       "      <td>235000</td>\n",
       "      <td>Forced Air (Natural Gas)</td>\n",
       "      <td>Central A/C</td>\n",
       "      <td>NaN</td>\n",
       "      <td>Other</td>\n",
       "      <td>1955.0</td>\n",
       "      <td>NaN</td>\n",
       "      <td>Chicago</td>\n",
       "      <td>3932 West 84th Street</td>\n",
       "      <td>2642.29</td>\n",
       "    </tr>\n",
       "    <tr>\n",
       "      <th>1</th>\n",
       "      <td>2200.0</td>\n",
       "      <td>Single Family Residential</td>\n",
       "      <td>4</td>\n",
       "      <td>2.0</td>\n",
       "      <td>4234.0</td>\n",
       "      <td>3</td>\n",
       "      <td>260000</td>\n",
       "      <td>Forced Air (Natural Gas)</td>\n",
       "      <td>Central A/C</td>\n",
       "      <td>NaN</td>\n",
       "      <td>Bungalow</td>\n",
       "      <td>1915.0</td>\n",
       "      <td>NaN</td>\n",
       "      <td>Chicago</td>\n",
       "      <td>1119 North Lockwood Avenue</td>\n",
       "      <td>2938.45</td>\n",
       "    </tr>\n",
       "    <tr>\n",
       "      <th>2</th>\n",
       "      <td>750.0</td>\n",
       "      <td>Condo/Coop</td>\n",
       "      <td>2</td>\n",
       "      <td>NaN</td>\n",
       "      <td>NaN</td>\n",
       "      <td>1</td>\n",
       "      <td>275000</td>\n",
       "      <td>Forced Air (Natural Gas)</td>\n",
       "      <td>Central A/C</td>\n",
       "      <td>NaN</td>\n",
       "      <td>Other</td>\n",
       "      <td>1926.0</td>\n",
       "      <td>NaN</td>\n",
       "      <td>Chicago</td>\n",
       "      <td>1100 North Paulina Street #1M</td>\n",
       "      <td>4722.00</td>\n",
       "    </tr>\n",
       "    <tr>\n",
       "      <th>3</th>\n",
       "      <td>1248.0</td>\n",
       "      <td>Single Family Residential</td>\n",
       "      <td>3</td>\n",
       "      <td>2.0</td>\n",
       "      <td>5279.0</td>\n",
       "      <td>2</td>\n",
       "      <td>309900</td>\n",
       "      <td>NaN</td>\n",
       "      <td>Central A/C</td>\n",
       "      <td>NaN</td>\n",
       "      <td>Ranch</td>\n",
       "      <td>1962.0</td>\n",
       "      <td>NaN</td>\n",
       "      <td>Chicago</td>\n",
       "      <td>4909 North Normandy Avenue</td>\n",
       "      <td>560.03</td>\n",
       "    </tr>\n",
       "    <tr>\n",
       "      <th>4</th>\n",
       "      <td>1337.0</td>\n",
       "      <td>Single Family Residential</td>\n",
       "      <td>3</td>\n",
       "      <td>2.0</td>\n",
       "      <td>NaN</td>\n",
       "      <td>2</td>\n",
       "      <td>324900</td>\n",
       "      <td>Forced Air (Natural Gas)</td>\n",
       "      <td>Central A/C</td>\n",
       "      <td>NaN</td>\n",
       "      <td>Georgian</td>\n",
       "      <td>1949.0</td>\n",
       "      <td>NaN</td>\n",
       "      <td>Chicago</td>\n",
       "      <td>10034 South Artesian Avenue</td>\n",
       "      <td>77.40</td>\n",
       "    </tr>\n",
       "    <tr>\n",
       "      <th>...</th>\n",
       "      <td>...</td>\n",
       "      <td>...</td>\n",
       "      <td>...</td>\n",
       "      <td>...</td>\n",
       "      <td>...</td>\n",
       "      <td>...</td>\n",
       "      <td>...</td>\n",
       "      <td>...</td>\n",
       "      <td>...</td>\n",
       "      <td>...</td>\n",
       "      <td>...</td>\n",
       "      <td>...</td>\n",
       "      <td>...</td>\n",
       "      <td>...</td>\n",
       "      <td>...</td>\n",
       "      <td>...</td>\n",
       "    </tr>\n",
       "    <tr>\n",
       "      <th>2611</th>\n",
       "      <td>1400.0</td>\n",
       "      <td>Condo/Coop</td>\n",
       "      <td>2</td>\n",
       "      <td>1.0</td>\n",
       "      <td>NaN</td>\n",
       "      <td>2</td>\n",
       "      <td>425000</td>\n",
       "      <td>Forced Air (Natural Gas)</td>\n",
       "      <td>Central A/C</td>\n",
       "      <td>NaN</td>\n",
       "      <td>Other</td>\n",
       "      <td>1998.0</td>\n",
       "      <td>NaN</td>\n",
       "      <td>Chicago</td>\n",
       "      <td>2251 West Saint Paul Avenue #2F</td>\n",
       "      <td>6445.46</td>\n",
       "    </tr>\n",
       "    <tr>\n",
       "      <th>2612</th>\n",
       "      <td>NaN</td>\n",
       "      <td>Condo/Coop</td>\n",
       "      <td>2</td>\n",
       "      <td>NaN</td>\n",
       "      <td>NaN</td>\n",
       "      <td>2</td>\n",
       "      <td>330000</td>\n",
       "      <td>Forced Air (Natural Gas)</td>\n",
       "      <td>Central A/C</td>\n",
       "      <td>NaN</td>\n",
       "      <td>Other</td>\n",
       "      <td>1920.0</td>\n",
       "      <td>NaN</td>\n",
       "      <td>Chicago</td>\n",
       "      <td>4611 North Rockwell Street #1</td>\n",
       "      <td>5552.00</td>\n",
       "    </tr>\n",
       "    <tr>\n",
       "      <th>2613</th>\n",
       "      <td>NaN</td>\n",
       "      <td>Condo/Coop</td>\n",
       "      <td>3</td>\n",
       "      <td>1.0</td>\n",
       "      <td>NaN</td>\n",
       "      <td>2</td>\n",
       "      <td>525000</td>\n",
       "      <td>Forced Air (Natural Gas)</td>\n",
       "      <td>Central A/C</td>\n",
       "      <td>NaN</td>\n",
       "      <td>Other</td>\n",
       "      <td>NaN</td>\n",
       "      <td>NaN</td>\n",
       "      <td>Chicago</td>\n",
       "      <td>1423 West FLETCHER Street #CH</td>\n",
       "      <td>11275.42</td>\n",
       "    </tr>\n",
       "    <tr>\n",
       "      <th>2614</th>\n",
       "      <td>NaN</td>\n",
       "      <td>Condo/Coop</td>\n",
       "      <td>2</td>\n",
       "      <td>1.0</td>\n",
       "      <td>16207.0</td>\n",
       "      <td>2</td>\n",
       "      <td>499000</td>\n",
       "      <td>Forced Air (Natural Gas)</td>\n",
       "      <td>Central A/C</td>\n",
       "      <td>NaN</td>\n",
       "      <td>Other</td>\n",
       "      <td>2000.0</td>\n",
       "      <td>True</td>\n",
       "      <td>Chicago</td>\n",
       "      <td>400 North CLINTON Street #404</td>\n",
       "      <td>9629.73</td>\n",
       "    </tr>\n",
       "    <tr>\n",
       "      <th>2615</th>\n",
       "      <td>2550.0</td>\n",
       "      <td>Condo/Coop</td>\n",
       "      <td>3</td>\n",
       "      <td>1.0</td>\n",
       "      <td>NaN</td>\n",
       "      <td>3</td>\n",
       "      <td>699000</td>\n",
       "      <td>Forced Air (Natural Gas)</td>\n",
       "      <td>Central A/C</td>\n",
       "      <td>NaN</td>\n",
       "      <td>Other</td>\n",
       "      <td>2007.0</td>\n",
       "      <td>NaN</td>\n",
       "      <td>Chicago</td>\n",
       "      <td>857 North Hermitage Avenue #1</td>\n",
       "      <td>11597.00</td>\n",
       "    </tr>\n",
       "  </tbody>\n",
       "</table>\n",
       "<p>2616 rows × 16 columns</p>\n",
       "</div>"
      ],
      "text/plain": [
       "        sqft                   homeType  beds  parkingSpots  lotSize  baths  \\\n",
       "0     1100.0  Single Family Residential     3           NaN   3781.0      2   \n",
       "1     2200.0  Single Family Residential     4           2.0   4234.0      3   \n",
       "2      750.0                 Condo/Coop     2           NaN      NaN      1   \n",
       "3     1248.0  Single Family Residential     3           2.0   5279.0      2   \n",
       "4     1337.0  Single Family Residential     3           2.0      NaN      2   \n",
       "...      ...                        ...   ...           ...      ...    ...   \n",
       "2611  1400.0                 Condo/Coop     2           1.0      NaN      2   \n",
       "2612     NaN                 Condo/Coop     2           NaN      NaN      2   \n",
       "2613     NaN                 Condo/Coop     3           1.0      NaN      2   \n",
       "2614     NaN                 Condo/Coop     2           1.0  16207.0      2   \n",
       "2615  2550.0                 Condo/Coop     3           1.0      NaN      3   \n",
       "\n",
       "      listPrice            heating_system cooling_system  view_type  \\\n",
       "0        235000  Forced Air (Natural Gas)    Central A/C        NaN   \n",
       "1        260000  Forced Air (Natural Gas)    Central A/C        NaN   \n",
       "2        275000  Forced Air (Natural Gas)    Central A/C        NaN   \n",
       "3        309900                       NaN    Central A/C        NaN   \n",
       "4        324900  Forced Air (Natural Gas)    Central A/C        NaN   \n",
       "...         ...                       ...            ...        ...   \n",
       "2611     425000  Forced Air (Natural Gas)    Central A/C        NaN   \n",
       "2612     330000  Forced Air (Natural Gas)    Central A/C        NaN   \n",
       "2613     525000  Forced Air (Natural Gas)    Central A/C        NaN   \n",
       "2614     499000  Forced Air (Natural Gas)    Central A/C        NaN   \n",
       "2615     699000  Forced Air (Natural Gas)    Central A/C        NaN   \n",
       "\n",
       "     architecture_style  yearBuilt has_pool     city  \\\n",
       "0                 Other     1955.0      NaN  Chicago   \n",
       "1              Bungalow     1915.0      NaN  Chicago   \n",
       "2                 Other     1926.0      NaN  Chicago   \n",
       "3                 Ranch     1962.0      NaN  Chicago   \n",
       "4              Georgian     1949.0      NaN  Chicago   \n",
       "...                 ...        ...      ...      ...   \n",
       "2611              Other     1998.0      NaN  Chicago   \n",
       "2612              Other     1920.0      NaN  Chicago   \n",
       "2613              Other        NaN      NaN  Chicago   \n",
       "2614              Other     2000.0     True  Chicago   \n",
       "2615              Other     2007.0      NaN  Chicago   \n",
       "\n",
       "                              address       tax  \n",
       "0               3932 West 84th Street   2642.29  \n",
       "1          1119 North Lockwood Avenue   2938.45  \n",
       "2       1100 North Paulina Street #1M   4722.00  \n",
       "3          4909 North Normandy Avenue    560.03  \n",
       "4         10034 South Artesian Avenue     77.40  \n",
       "...                               ...       ...  \n",
       "2611  2251 West Saint Paul Avenue #2F   6445.46  \n",
       "2612    4611 North Rockwell Street #1   5552.00  \n",
       "2613    1423 West FLETCHER Street #CH  11275.42  \n",
       "2614    400 North CLINTON Street #404   9629.73  \n",
       "2615    857 North Hermitage Avenue #1  11597.00  \n",
       "\n",
       "[2616 rows x 16 columns]"
      ]
     },
     "execution_count": 2,
     "metadata": {},
     "output_type": "execute_result"
    }
   ],
   "source": [
    "# Đọc dữ liệu từ \"data.csv\"\n",
    "df = pd.read_csv('data_expand.csv')\n",
    "df"
   ]
  },
  {
   "cell_type": "markdown",
   "id": "4d718480",
   "metadata": {},
   "source": [
    "---"
   ]
  },
  {
   "cell_type": "markdown",
   "id": "f2db0322",
   "metadata": {},
   "source": [
    "## Khám phá dữ liệu (để làm rõ câu hỏi)"
   ]
  },
  {
   "cell_type": "markdown",
   "id": "a885b8e8",
   "metadata": {},
   "source": [
    "### Số dòng và cột"
   ]
  },
  {
   "cell_type": "code",
   "execution_count": 3,
   "id": "b93669b4",
   "metadata": {},
   "outputs": [
    {
     "data": {
      "text/plain": [
       "(2616, 16)"
      ]
     },
     "execution_count": 3,
     "metadata": {},
     "output_type": "execute_result"
    }
   ],
   "source": [
    "df.shape"
   ]
  },
  {
   "cell_type": "markdown",
   "id": "7d99ef6f",
   "metadata": {},
   "source": [
    "### Ý nghĩa của từng dòng. Có dòng nào không phù hợp không?"
   ]
  },
  {
   "cell_type": "markdown",
   "id": "1aa01416",
   "metadata": {},
   "source": [
    "Mỗi dòng thể hiện 17 thông tin khác nhau của một căn nhà được giao bán. Do dữ liệu được lấy trong trang mô tả chi tiết của từng căn nhà nên sẽ không có dòng nào đặc biệt.\n",
    "\n",
    "Tuy nhiên người đăng có thể giao bán 1 căn nhà nhiều lần, các dòng có thể bị lặp lại."
   ]
  },
  {
   "cell_type": "markdown",
   "id": "903111bb",
   "metadata": {},
   "source": [
    "### Kiểm tra số dòng bị lặp lại"
   ]
  },
  {
   "cell_type": "code",
   "execution_count": 4,
   "id": "b4d281c6",
   "metadata": {},
   "outputs": [
    {
     "data": {
      "text/plain": [
       "153"
      ]
     },
     "execution_count": 4,
     "metadata": {},
     "output_type": "execute_result"
    }
   ],
   "source": [
    "df.duplicated().sum()"
   ]
  },
  {
   "cell_type": "markdown",
   "id": "50c9665e",
   "metadata": {},
   "source": [
    "$\\to$ Sẽ được đưa vào Pipeline tiền xử lí chung trong tệp huấn luyện"
   ]
  },
  {
   "cell_type": "markdown",
   "id": "257fa6c2",
   "metadata": {},
   "source": [
    "### Ý nghĩa của mỗi cột"
   ]
  },
  {
   "cell_type": "code",
   "execution_count": 5,
   "id": "fe9bce8d",
   "metadata": {},
   "outputs": [
    {
     "data": {
      "text/html": [
       "<div>\n",
       "<style scoped>\n",
       "    .dataframe tbody tr th:only-of-type {\n",
       "        vertical-align: middle;\n",
       "    }\n",
       "\n",
       "    .dataframe tbody tr th {\n",
       "        vertical-align: top;\n",
       "    }\n",
       "\n",
       "    .dataframe thead th {\n",
       "        text-align: right;\n",
       "    }\n",
       "</style>\n",
       "<table border=\"1\" class=\"dataframe\">\n",
       "  <thead>\n",
       "    <tr style=\"text-align: right;\">\n",
       "      <th></th>\n",
       "      <th>sqft</th>\n",
       "      <th>homeType</th>\n",
       "      <th>beds</th>\n",
       "      <th>parkingSpots</th>\n",
       "      <th>lotSize</th>\n",
       "      <th>baths</th>\n",
       "      <th>listPrice</th>\n",
       "      <th>heating_system</th>\n",
       "      <th>cooling_system</th>\n",
       "      <th>view_type</th>\n",
       "      <th>architecture_style</th>\n",
       "      <th>yearBuilt</th>\n",
       "      <th>has_pool</th>\n",
       "      <th>city</th>\n",
       "      <th>address</th>\n",
       "      <th>tax</th>\n",
       "    </tr>\n",
       "  </thead>\n",
       "  <tbody>\n",
       "    <tr>\n",
       "      <th>0</th>\n",
       "      <td>1100.0</td>\n",
       "      <td>Single Family Residential</td>\n",
       "      <td>3</td>\n",
       "      <td>NaN</td>\n",
       "      <td>3781.0</td>\n",
       "      <td>2</td>\n",
       "      <td>235000</td>\n",
       "      <td>Forced Air (Natural Gas)</td>\n",
       "      <td>Central A/C</td>\n",
       "      <td>NaN</td>\n",
       "      <td>Other</td>\n",
       "      <td>1955.0</td>\n",
       "      <td>NaN</td>\n",
       "      <td>Chicago</td>\n",
       "      <td>3932 West 84th Street</td>\n",
       "      <td>2642.29</td>\n",
       "    </tr>\n",
       "  </tbody>\n",
       "</table>\n",
       "</div>"
      ],
      "text/plain": [
       "     sqft                   homeType  beds  parkingSpots  lotSize  baths  \\\n",
       "0  1100.0  Single Family Residential     3           NaN   3781.0      2   \n",
       "\n",
       "   listPrice            heating_system cooling_system  view_type  \\\n",
       "0     235000  Forced Air (Natural Gas)    Central A/C        NaN   \n",
       "\n",
       "  architecture_style  yearBuilt has_pool     city                address  \\\n",
       "0              Other     1955.0      NaN  Chicago  3932 West 84th Street   \n",
       "\n",
       "       tax  \n",
       "0  2642.29  "
      ]
     },
     "execution_count": 5,
     "metadata": {},
     "output_type": "execute_result"
    }
   ],
   "source": [
    "df.head(1)"
   ]
  },
  {
   "cell_type": "markdown",
   "id": "3650de47",
   "metadata": {},
   "source": [
    "**Ý nghĩa của từng cột** \n",
    "- `beds` : Số phòng ngủ\n",
    "- `baths` : Số phòng vệ sinh\n",
    "- `house_type` : Loại hình nhà ở\n",
    "- `sqlt` : Diện tích căn nhà\n",
    "- `parkingSpots`: chỗ đỗ xe\n",
    "- `address` : Địa chỉ của căn nhà\n",
    "- `listPrice `: Giá tiền hiện giao bán\n",
    "- `lotSize`: diện tích sử dụng\n",
    "- `heating system`: hệ thống giữ nhiệt\n",
    "- `cooling system`: hệ thống làm lạnh\n",
    "- `view_type`: view của căn nhà\n",
    "- `architecture_style`: phong cách thiết kế\n",
    "- `yearBuilt`: năm xây dựng\n",
    "- `has_pool`: số lượng hồ bơi\n",
    "- `city`: thành phố\n",
    "- `tax`: tiền thuế"
   ]
  },
  {
   "cell_type": "markdown",
   "id": "12e55fd7",
   "metadata": {},
   "source": [
    "### Làm rõ câu hỏi"
   ]
  },
  {
   "cell_type": "markdown",
   "id": "16246896",
   "metadata": {},
   "source": [
    "**Câu hỏi đưa ra:** Với một căn nhà mơ ước, người khách hàng cần bao nhiêu tiền để có thể mua được ở bang Chicago của Mỹ ? \n",
    "\n",
    "Tạm thời các cột Input sẽ là thông tin liên quan tới căn nhà được giao bán, tổng cộng có 16 cột. Cột Output sẽ là giá bán của ngôi nhà. Nhóm sẽ sử dụng mô hình hồi quy để dự đoán giá nhà (cột Output) dựa trên thông tin của căn nhà (cột Input).\n",
    "\n",
    "Các cột Input có thể thay đổi ở các bước tiền xử lý sau.\n",
    "\n",
    "**Lợi ích khi trả lời**: \n",
    "\n",
    "Có thể đưa ra một mức giá sấp xỉ để những người trẻ có thể dựa vào đó để nổ lực phấn đấu mua được căn nhà mình muốn."
   ]
  },
  {
   "cell_type": "markdown",
   "id": "7d7e5b3d",
   "metadata": {},
   "source": [
    "## Khám phá dữ liệu (để tách các tập)\n"
   ]
  },
  {
   "cell_type": "markdown",
   "id": "ecef10cb",
   "metadata": {},
   "source": [
    "Để biết cách tách các tập thì ta cần khám phá thêm cột output một ít:\n",
    "- Cột này hiện có kiểu dữ liệu là gì? Trong bài toán hồi qui thì cột output bắt buộc phải có dạng số; nếu hiện chưa có dạng số (ví dụ, số nhưng được lưu dưới dạng chuỗi) thì ta cần chuyển sang dạng số rồi mới tách các tập.\n",
    "- Cột này có giá trị thiếu không? Nếu có giá trị thiếu thì ta sẽ bỏ các dòng mà output có giá trị thiếu rồi mới tách các tập \n",
    "- Cột numerical output xử lí như nào?"
   ]
  },
  {
   "cell_type": "code",
   "execution_count": 6,
   "id": "fe25b674",
   "metadata": {},
   "outputs": [
    {
     "data": {
      "text/plain": [
       "dtype('int64')"
      ]
     },
     "execution_count": 6,
     "metadata": {},
     "output_type": "execute_result"
    }
   ],
   "source": [
    "# Kiểu dữ liệu cột output\n",
    "df['listPrice'].dtype"
   ]
  },
  {
   "cell_type": "code",
   "execution_count": 7,
   "id": "ca8ee724",
   "metadata": {},
   "outputs": [
    {
     "data": {
      "text/plain": [
       "0"
      ]
     },
     "execution_count": 7,
     "metadata": {},
     "output_type": "execute_result"
    }
   ],
   "source": [
    "# Có giá trị nào thiếu không?\n",
    "df['listPrice'].isna().sum()"
   ]
  },
  {
   "cell_type": "code",
   "execution_count": 8,
   "id": "338a3f9d",
   "metadata": {},
   "outputs": [
    {
     "data": {
      "image/png": "[encoded data removed]",
      "text/plain": [
       "<Figure size 432x288 with 1 Axes>"
      ]
     },
     "metadata": {
      "needs_background": "light"
     },
     "output_type": "display_data"
    }
   ],
   "source": [
    "# Biểu đồ histogram của cột output\n",
    "w_q = df['listPrice'].value_counts()\n",
    "w_q = (list(w_q.index), list(w_q.values))\n",
    "\n",
    "fig = plt.figure(figsize = (6, 4))\n",
    "title = fig.suptitle(\"listPrice\", fontsize=14)\n",
    "fig.subplots_adjust(top=0.85, wspace=0.3)\n",
    "\n",
    "ax = fig.add_subplot(1,1, 1)\n",
    "ax.set_ylabel(\"Frequency\")\n",
    "ax.set_xlabel(\"listPrice\") \n",
    "ax.tick_params(axis='both', which='major', labelsize=8.5)\n",
    "bar = ax.bar(w_q[0], w_q[1], edgecolor='steelblue', linewidth=1)"
   ]
  },
  {
   "cell_type": "markdown",
   "id": "2f3b00c1",
   "metadata": {},
   "source": [
    "---"
   ]
  },
  {
   "cell_type": "markdown",
   "id": "88e62117",
   "metadata": {},
   "source": [
    "### Tiền xử lý tách tập dữ liệu"
   ]
  },
  {
   "cell_type": "code",
   "execution_count": 9,
   "id": "3739849c",
   "metadata": {},
   "outputs": [],
   "source": [
    "# Tách X và y\n",
    "y = df[\"listPrice\"] \n",
    "X = df.drop(\"listPrice\", axis=1)"
   ]
  },
  {
   "cell_type": "code",
   "execution_count": 10,
   "id": "547fed54",
   "metadata": {},
   "outputs": [],
   "source": [
    "# Tách tập huấn luyện và tập validation và tập test theo tỉ lệ 60:20:20\n",
    "train_X, test_X, train_y, test_y = train_test_split(X, y, \n",
    "                                               test_size=0.2,\n",
    "                                               )"
   ]
  },
  {
   "cell_type": "code",
   "execution_count": 11,
   "id": "f8e94420",
   "metadata": {},
   "outputs": [],
   "source": [
    "train_X, val_X, train_y, val_y = train_test_split(train_X, train_y, \n",
    "                                               test_size=0.2,\n",
    "                                                )"
   ]
  },
  {
   "cell_type": "code",
   "execution_count": 12,
   "id": "c09ba771",
   "metadata": {},
   "outputs": [
    {
     "name": "stdout",
     "output_type": "stream",
     "text": [
      "train_X.shape:  (1673, 15)\n",
      "train_y.shape:  (1673,)\n",
      "val_X.shape:  (419, 15)\n",
      "val_y.shape:  (419,)\n",
      "test_X.shape:  (524, 15)\n",
      "test_y.shape:  (524,)\n"
     ]
    }
   ],
   "source": [
    "print(\"train_X.shape: \", train_X.shape)\n",
    "print(\"train_y.shape: \", train_y.shape)\n",
    "\n",
    "print(\"val_X.shape: \", val_X.shape)\n",
    "print(\"val_y.shape: \", val_y.shape)\n",
    "\n",
    "print(\"test_X.shape: \", test_X.shape)\n",
    "print(\"test_y.shape: \", test_y.shape)"
   ]
  },
  {
   "cell_type": "markdown",
   "id": "065d77ee",
   "metadata": {},
   "source": [
    "---"
   ]
  },
  {
   "cell_type": "markdown",
   "id": "3eb6b2f5",
   "metadata": {},
   "source": [
    "## Khám phá dữ liệu (trên tập train)"
   ]
  },
  {
   "cell_type": "markdown",
   "id": "1c1138f6",
   "metadata": {},
   "source": [
    "### Kiểu dữ liệu từng cột. Có cột nào chưa phù hợp?"
   ]
  },
  {
   "cell_type": "code",
   "execution_count": 13,
   "id": "1a561bfd",
   "metadata": {},
   "outputs": [
    {
     "data": {
      "text/plain": [
       "sqft                  float64\n",
       "homeType               object\n",
       "beds                    int64\n",
       "parkingSpots          float64\n",
       "lotSize               float64\n",
       "baths                   int64\n",
       "heating_system         object\n",
       "cooling_system         object\n",
       "view_type             float64\n",
       "architecture_style     object\n",
       "yearBuilt             float64\n",
       "has_pool               object\n",
       "city                   object\n",
       "address                object\n",
       "tax                   float64\n",
       "dtype: object"
      ]
     },
     "execution_count": 13,
     "metadata": {},
     "output_type": "execute_result"
    }
   ],
   "source": [
    "train_X.dtypes"
   ]
  },
  {
   "cell_type": "markdown",
   "id": "2f7c714d",
   "metadata": {},
   "source": [
    "### Các cột dạng numerical phân bố như thế nào?"
   ]
  },
  {
   "cell_type": "code",
   "execution_count": 14,
   "id": "a2c816f9",
   "metadata": {},
   "outputs": [
    {
     "data": {
      "text/plain": [
       "sqft            float64\n",
       "beds              int64\n",
       "parkingSpots    float64\n",
       "lotSize         float64\n",
       "baths             int64\n",
       "view_type       float64\n",
       "yearBuilt       float64\n",
       "tax             float64\n",
       "dtype: object"
      ]
     },
     "execution_count": 14,
     "metadata": {},
     "output_type": "execute_result"
    }
   ],
   "source": [
    "train_X.dtypes[train_X.dtypes != object]"
   ]
  },
  {
   "cell_type": "code",
   "execution_count": 15,
   "id": "d80b58d7",
   "metadata": {},
   "outputs": [
    {
     "data": {
      "text/html": [
       "<div>\n",
       "<style scoped>\n",
       "    .dataframe tbody tr th:only-of-type {\n",
       "        vertical-align: middle;\n",
       "    }\n",
       "\n",
       "    .dataframe tbody tr th {\n",
       "        vertical-align: top;\n",
       "    }\n",
       "\n",
       "    .dataframe thead th {\n",
       "        text-align: right;\n",
       "    }\n",
       "</style>\n",
       "<table border=\"1\" class=\"dataframe\">\n",
       "  <thead>\n",
       "    <tr style=\"text-align: right;\">\n",
       "      <th></th>\n",
       "      <th>sqft</th>\n",
       "      <th>beds</th>\n",
       "      <th>parkingSpots</th>\n",
       "      <th>lotSize</th>\n",
       "      <th>baths</th>\n",
       "      <th>view_type</th>\n",
       "      <th>yearBuilt</th>\n",
       "      <th>tax</th>\n",
       "    </tr>\n",
       "  </thead>\n",
       "  <tbody>\n",
       "    <tr>\n",
       "      <th>missing_percentage</th>\n",
       "      <td>25.2</td>\n",
       "      <td>0.0</td>\n",
       "      <td>21.3</td>\n",
       "      <td>62.9</td>\n",
       "      <td>0.0</td>\n",
       "      <td>100.0</td>\n",
       "      <td>12.0</td>\n",
       "      <td>3.90</td>\n",
       "    </tr>\n",
       "    <tr>\n",
       "      <th>min</th>\n",
       "      <td>470.0</td>\n",
       "      <td>0.0</td>\n",
       "      <td>1.0</td>\n",
       "      <td>0.0</td>\n",
       "      <td>1.0</td>\n",
       "      <td>NaN</td>\n",
       "      <td>1868.0</td>\n",
       "      <td>62.63</td>\n",
       "    </tr>\n",
       "    <tr>\n",
       "      <th>median</th>\n",
       "      <td>1300.0</td>\n",
       "      <td>3.0</td>\n",
       "      <td>1.0</td>\n",
       "      <td>3790.0</td>\n",
       "      <td>2.0</td>\n",
       "      <td>NaN</td>\n",
       "      <td>1961.0</td>\n",
       "      <td>3999.80</td>\n",
       "    </tr>\n",
       "    <tr>\n",
       "      <th>max</th>\n",
       "      <td>8036.0</td>\n",
       "      <td>4.0</td>\n",
       "      <td>570.0</td>\n",
       "      <td>5225894.0</td>\n",
       "      <td>5.0</td>\n",
       "      <td>NaN</td>\n",
       "      <td>2022.0</td>\n",
       "      <td>91860.80</td>\n",
       "    </tr>\n",
       "  </tbody>\n",
       "</table>\n",
       "</div>"
      ],
      "text/plain": [
       "                      sqft  beds  parkingSpots    lotSize  baths  view_type  \\\n",
       "missing_percentage    25.2   0.0          21.3       62.9    0.0      100.0   \n",
       "min                  470.0   0.0           1.0        0.0    1.0        NaN   \n",
       "median              1300.0   3.0           1.0     3790.0    2.0        NaN   \n",
       "max                 8036.0   4.0         570.0  5225894.0    5.0        NaN   \n",
       "\n",
       "                    yearBuilt       tax  \n",
       "missing_percentage       12.0      3.90  \n",
       "min                    1868.0     62.63  \n",
       "median                 1961.0   3999.80  \n",
       "max                    2022.0  91860.80  "
      ]
     },
     "execution_count": 15,
     "metadata": {},
     "output_type": "execute_result"
    }
   ],
   "source": [
    "num_cols = ['sqft',\"beds\",\"parkingSpots\",\"lotSize\",\"baths\",\"view_type\",\"yearBuilt\",\"tax\"]\n",
    "df = train_X[num_cols]\n",
    "def missing_percentage(c):\n",
    "    return (c.isna().mean() * 100).round(1)\n",
    "def median(c):\n",
    "    return c.quantile(0.5).round(1)\n",
    "df.agg([missing_percentage, 'min', median, 'max'])"
   ]
  },
  {
   "cell_type": "code",
   "execution_count": 16,
   "id": "6532b134",
   "metadata": {},
   "outputs": [
    {
     "data": {
      "image/png": "[encoded data removed]",
      "text/plain": [
       "<Figure size 432x288 with 9 Axes>"
      ]
     },
     "metadata": {
      "needs_background": "light"
     },
     "output_type": "display_data"
    }
   ],
   "source": [
    "df.hist(bins=15, color='steelblue', edgecolor='black', linewidth=1.0,\n",
    "           xlabelsize=8, ylabelsize=8, grid=False) \n",
    "plt.tight_layout(rect=(0, 0, 1.2, 1.2))   "
   ]
  },
  {
   "cell_type": "markdown",
   "id": "0e496341",
   "metadata": {},
   "source": [
    "### Các cột dạng categorical phân bố như thế nào?"
   ]
  },
  {
   "cell_type": "code",
   "execution_count": 17,
   "id": "ca0572cc",
   "metadata": {},
   "outputs": [
    {
     "data": {
      "text/plain": [
       "homeType              object\n",
       "heating_system        object\n",
       "cooling_system        object\n",
       "architecture_style    object\n",
       "has_pool              object\n",
       "city                  object\n",
       "address               object\n",
       "dtype: object"
      ]
     },
     "execution_count": 17,
     "metadata": {},
     "output_type": "execute_result"
    }
   ],
   "source": [
    "train_X.dtypes[train_X.dtypes == object]"
   ]
  },
  {
   "cell_type": "code",
   "execution_count": 18,
   "id": "c2f1d535",
   "metadata": {
    "scrolled": true
   },
   "outputs": [
    {
     "data": {
      "text/html": [
       "<div>\n",
       "<style scoped>\n",
       "    .dataframe tbody tr th:only-of-type {\n",
       "        vertical-align: middle;\n",
       "    }\n",
       "\n",
       "    .dataframe tbody tr th {\n",
       "        vertical-align: top;\n",
       "    }\n",
       "\n",
       "    .dataframe thead th {\n",
       "        text-align: right;\n",
       "    }\n",
       "</style>\n",
       "<table border=\"1\" class=\"dataframe\">\n",
       "  <thead>\n",
       "    <tr style=\"text-align: right;\">\n",
       "      <th></th>\n",
       "      <th>city</th>\n",
       "      <th>heating_system</th>\n",
       "      <th>has_pool</th>\n",
       "      <th>homeType</th>\n",
       "      <th>cooling_system</th>\n",
       "      <th>architecture_style</th>\n",
       "      <th>address</th>\n",
       "    </tr>\n",
       "  </thead>\n",
       "  <tbody>\n",
       "    <tr>\n",
       "      <th>missing_percentage</th>\n",
       "      <td>0.0</td>\n",
       "      <td>25.9</td>\n",
       "      <td>98.1</td>\n",
       "      <td>0.0</td>\n",
       "      <td>1.0</td>\n",
       "      <td>0.0</td>\n",
       "      <td>0.0</td>\n",
       "    </tr>\n",
       "    <tr>\n",
       "      <th>num_values</th>\n",
       "      <td>1</td>\n",
       "      <td>26</td>\n",
       "      <td>1</td>\n",
       "      <td>4</td>\n",
       "      <td>5</td>\n",
       "      <td>16</td>\n",
       "      <td>1603</td>\n",
       "    </tr>\n",
       "    <tr>\n",
       "      <th>value_percentages</th>\n",
       "      <td>{'Chicago': 100.0}</td>\n",
       "      <td>{'Forced Air (Natural Gas)': 57.3, 'Fireplace (Natural Gas)': 10.3, 'Forced Air': 7.3, 'Hot Water': 4.3, 'Baseboard': 3.5, 'Hot Water (Natural Gas)': 2.6, 'Baseboard (Natural Gas)': 2.3, 'Radiator...</td>\n",
       "      <td>{True: 100.0}</td>\n",
       "      <td>{'Condo/Coop': 63.9, 'Single Family Residential': 35.4, 'Other': 0.4, 'Townhouse': 0.3}</td>\n",
       "      <td>{'Central A/C': 76.5, 'Window Unit(s) A/C': 14.7, 'None': 8.4, 'Zoned A/C': 0.2, 'Partial': 0.1}</td>\n",
       "      <td>{'Other': 69.5, 'High Rise': 10.8, 'Bungalow': 5.1, 'Loft': 4.5, 'Ranch': 4.1, 'Cape Cod': 1.4, 'Georgian': 1.1, 'Contemporary': 0.8, 'Split Level': 0.7, 'New Traditional': 0.6, 'Victorian': 0.4, ...</td>\n",
       "      <td>{'3226 West Beach Avenue': 0.1, '100 East Walton Street #25E': 0.1, '2153 West McLean Avenue #3': 0.1, '1000 West Diversey Parkway #3B': 0.1, '1720 South Michigan Avenue #1217': 0.1, '4551 South P...</td>\n",
       "    </tr>\n",
       "  </tbody>\n",
       "</table>\n",
       "</div>"
      ],
      "text/plain": [
       "                                  city  \\\n",
       "missing_percentage                 0.0   \n",
       "num_values                           1   \n",
       "value_percentages   {'Chicago': 100.0}   \n",
       "\n",
       "                                                                                                                                                                                                             heating_system  \\\n",
       "missing_percentage                                                                                                                                                                                                     25.9   \n",
       "num_values                                                                                                                                                                                                               26   \n",
       "value_percentages   {'Forced Air (Natural Gas)': 57.3, 'Fireplace (Natural Gas)': 10.3, 'Forced Air': 7.3, 'Hot Water': 4.3, 'Baseboard': 3.5, 'Hot Water (Natural Gas)': 2.6, 'Baseboard (Natural Gas)': 2.3, 'Radiator...   \n",
       "\n",
       "                         has_pool  \\\n",
       "missing_percentage           98.1   \n",
       "num_values                      1   \n",
       "value_percentages   {True: 100.0}   \n",
       "\n",
       "                                                                                                   homeType  \\\n",
       "missing_percentage                                                                                      0.0   \n",
       "num_values                                                                                                4   \n",
       "value_percentages   {'Condo/Coop': 63.9, 'Single Family Residential': 35.4, 'Other': 0.4, 'Townhouse': 0.3}   \n",
       "\n",
       "                                                                                                      cooling_system  \\\n",
       "missing_percentage                                                                                               1.0   \n",
       "num_values                                                                                                         5   \n",
       "value_percentages   {'Central A/C': 76.5, 'Window Unit(s) A/C': 14.7, 'None': 8.4, 'Zoned A/C': 0.2, 'Partial': 0.1}   \n",
       "\n",
       "                                                                                                                                                                                                         architecture_style  \\\n",
       "missing_percentage                                                                                                                                                                                                      0.0   \n",
       "num_values                                                                                                                                                                                                               16   \n",
       "value_percentages   {'Other': 69.5, 'High Rise': 10.8, 'Bungalow': 5.1, 'Loft': 4.5, 'Ranch': 4.1, 'Cape Cod': 1.4, 'Georgian': 1.1, 'Contemporary': 0.8, 'Split Level': 0.7, 'New Traditional': 0.6, 'Victorian': 0.4, ...   \n",
       "\n",
       "                                                                                                                                                                                                                    address  \n",
       "missing_percentage                                                                                                                                                                                                      0.0  \n",
       "num_values                                                                                                                                                                                                             1603  \n",
       "value_percentages   {'3226 West Beach Avenue': 0.1, '100 East Walton Street #25E': 0.1, '2153 West McLean Avenue #3': 0.1, '1000 West Diversey Parkway #3B': 0.1, '1720 South Michigan Avenue #1217': 0.1, '4551 South P...  "
      ]
     },
     "execution_count": 18,
     "metadata": {},
     "output_type": "execute_result"
    }
   ],
   "source": [
    "cate_cols = list(set(train_X.columns) - set(num_cols))\n",
    "cate_df = train_X[cate_cols]\n",
    "pd.set_option('display.max_colwidth', 200)\n",
    "def num_values(df):\n",
    "    return df.nunique()\n",
    "def value_percentages(c):\n",
    "    return dict((c.value_counts(normalize=True) * 100).round(1))\n",
    "cate_df.agg([missing_percentage, num_values, value_percentages])"
   ]
  },
  {
   "cell_type": "markdown",
   "id": "9973c872",
   "metadata": {},
   "source": [
    "## Tiền xử lý tập train"
   ]
  },
  {
   "cell_type": "markdown",
   "id": "e9a9b3c3",
   "metadata": {},
   "source": [
    "### Cột dạng numerical"
   ]
  },
  {
   "cell_type": "markdown",
   "id": "45cf467c",
   "metadata": {},
   "source": [
    "- Điền các giá trị thiếu là median \n",
    "- Các cột có missing_percentage lớn hơn 40% sẽ được loại bỏ: lotSize, view_type \\\n",
    "$\\to$ Các cột numerical còn lại: `sqft`,`beds`,`parkingSpots`,`baths`,`yearBuilt`,`tax`"
   ]
  },
  {
   "cell_type": "code",
   "execution_count": 19,
   "id": "37b083c5",
   "metadata": {},
   "outputs": [],
   "source": [
    "class NumeDropper(BaseEstimator, TransformerMixin):\n",
    "    def fit(self, X, y=None):\n",
    "        return self\n",
    "    def transform(self, X, y=None):\n",
    "        self.newX_df = X.copy()\n",
    "        # bỏ cột      \n",
    "        self.newX_df=self.newX_df.drop(columns=[\"lotSize\",\"view_type\"])\n",
    "        return self.newX_df"
   ]
  },
  {
   "cell_type": "markdown",
   "id": "c5468ced",
   "metadata": {},
   "source": [
    "- Loại bỏ outliers cột numerical"
   ]
  },
  {
   "cell_type": "code",
   "execution_count": 20,
   "id": "0dd87433",
   "metadata": {},
   "outputs": [],
   "source": [
    "outliers_index = set()\n",
    "num_cols = ['sqft',\"beds\",\"parkingSpots\",\"baths\",\"yearBuilt\",\"tax\"]\n",
    "\n",
    "def outliers_removed(col):\n",
    "    if col.name in num_cols:\n",
    "        data_std = col.std()    \n",
    "        data_mean = col.mean()\n",
    "        cut_off = data_std * 2\n",
    "        lower, upper = data_mean - cut_off, data_mean + cut_off\n",
    "        outliers_removed = (col < lower) | (col > upper)\n",
    "        outliers_index.update(set(col[outliers_removed].index.values))\n",
    "    return col\n",
    "\n",
    "train_X.apply(outliers_removed)\n",
    "train_X = train_X.drop(list(outliers_index))\n",
    "train_y = train_y.drop(list(outliers_index))"
   ]
  },
  {
   "cell_type": "markdown",
   "id": "17e73009",
   "metadata": {},
   "source": [
    "### Cột dạng categorical"
   ]
  },
  {
   "cell_type": "markdown",
   "id": "42485f60",
   "metadata": {},
   "source": [
    "- Các cột có missing_percentage lớn hơn 40% sẽ được loại bỏ: has_pool\n",
    "- Điền các giá trị thiếu bằng most-frequent\n",
    "- Address tách tên đường \n",
    "- Các cột chỉ có 1 giá trị sẽ được loại bỏ: city\n",
    "- heating_system, home_type, architecture_type, cooling_system, address sau khi tách sẽ được chuyển thành dạng one-hot"
   ]
  },
  {
   "cell_type": "markdown",
   "id": "ffcd52ed",
   "metadata": {},
   "source": [
    "**Tách tên đường**"
   ]
  },
  {
   "cell_type": "code",
   "execution_count": 21,
   "id": "bee769e8",
   "metadata": {},
   "outputs": [
    {
     "data": {
      "text/html": [
       "<div>\n",
       "<style scoped>\n",
       "    .dataframe tbody tr th:only-of-type {\n",
       "        vertical-align: middle;\n",
       "    }\n",
       "\n",
       "    .dataframe tbody tr th {\n",
       "        vertical-align: top;\n",
       "    }\n",
       "\n",
       "    .dataframe thead th {\n",
       "        text-align: right;\n",
       "    }\n",
       "</style>\n",
       "<table border=\"1\" class=\"dataframe\">\n",
       "  <thead>\n",
       "    <tr style=\"text-align: right;\">\n",
       "      <th></th>\n",
       "      <th>Street</th>\n",
       "    </tr>\n",
       "  </thead>\n",
       "  <tbody>\n",
       "    <tr>\n",
       "      <th>num_values</th>\n",
       "      <td>742</td>\n",
       "    </tr>\n",
       "    <tr>\n",
       "      <th>value_percentages</th>\n",
       "      <td>{'North Sheridan Road': 1.7, 'South Michigan Avenue': 1.6, 'North Lake Shore Drive': 1.5, 'North Kenmore Avenue': 0.9, 'South State Street': 0.9, 'North Paulina Street': 0.7, 'South Prairie Avenue...</td>\n",
       "    </tr>\n",
       "  </tbody>\n",
       "</table>\n",
       "</div>"
      ],
      "text/plain": [
       "                                                                                                                                                                                                                    Street\n",
       "num_values                                                                                                                                                                                                             742\n",
       "value_percentages  {'North Sheridan Road': 1.7, 'South Michigan Avenue': 1.6, 'North Lake Shore Drive': 1.5, 'North Kenmore Avenue': 0.9, 'South State Street': 0.9, 'North Paulina Street': 0.7, 'South Prairie Avenue..."
      ]
     },
     "execution_count": 21,
     "metadata": {},
     "output_type": "execute_result"
    }
   ],
   "source": [
    "street_col = train_X[\"address\"].str.extract('(?P<number>\\d+)(?P<Street>.*)')\n",
    "street_col = street_col.Street.str.split(\"#\").str[0]\n",
    "street_col = street_col.str.strip()\n",
    "street_col.agg([num_values, value_percentages]).to_frame()"
   ]
  },
  {
   "cell_type": "markdown",
   "id": "755c70c4",
   "metadata": {},
   "source": [
    "Có nhiều giá trị rời rạc trong cột \"street_col\", và phần trăm đóng góp từng giá trị quá nhỏ \\\n",
    "$\\to$ Bỏ cột \"address\""
   ]
  },
  {
   "cell_type": "code",
   "execution_count": 22,
   "id": "7ea55be1",
   "metadata": {},
   "outputs": [],
   "source": [
    "def fit_col(X, num_top_titles):\n",
    "    self = X.value_counts()\n",
    "    index = list(self.index)\n",
    "    self = index[:max(1, min(num_top_titles, len(index)))]\n",
    "    return self\n",
    "\n",
    "def transform_col(self, X):\n",
    "    return np.where(X.isin(self),X,\"Others\")"
   ]
  },
  {
   "cell_type": "code",
   "execution_count": 23,
   "id": "c7a5bb4c",
   "metadata": {},
   "outputs": [],
   "source": [
    "class CateDropper(BaseEstimator, TransformerMixin):\n",
    "    def __init__(self, n=1):\n",
    "        self.n = n\n",
    "        self.top_cols = [\"heating_system\", \"homeType\", \"architecture_style\", \"cooling_system\"]\n",
    "    def fit(self, X, y=None):\n",
    "        self.heat_counts = fit_col(X.heating_system, self.n )\n",
    "        self.homeType = fit_col(X.homeType,self.n)\n",
    "        self.architecture_style = fit_col(X.architecture_style,self.n)\n",
    "        self.cooling_system = fit_col(X.cooling_system,self.n)\n",
    "        \n",
    "        return self\n",
    "    def transform(self, X, y=None):\n",
    "        self.newX_df = X.copy()\n",
    "        \n",
    "        self.newX_df[\"heating_system\"] = transform_col(self.heat_counts, self.newX_df[\"heating_system\"])\n",
    "        self.newX_df[\"homeType\"] = transform_col(self.homeType, self.newX_df[\"homeType\"])\n",
    "        self.newX_df[\"architecture_style\"] = transform_col(self.architecture_style, self.newX_df[\"architecture_style\"])\n",
    "        self.newX_df[\"cooling_system\"] = transform_col(self.cooling_system, self.newX_df[\"cooling_system\"])\n",
    "\n",
    "        # bỏ cột       \n",
    "        self.newX_df=self.newX_df.drop(columns=[\"has_pool\",\"city\",\"address\"])\n",
    "        return self.newX_df"
   ]
  },
  {
   "cell_type": "markdown",
   "id": "642764e6",
   "metadata": {},
   "source": [
    "### Toàn bộ quá trình xử lý sẽ được thực hiện như sau:\n",
    "- Xử lý các cột dạng số: bỏ đi lotSize và view_type, điền các giá trị thiếu bằng median\n",
    "- Xử lý các cột dạng categorical: bỏ đi has_pool, address, city. Điền các giá trị thiếu bằng most-frequent, lấy top N giá trị xuất hiện nhiều nhất của các cột còn lại, chuyển thành Onehot"
   ]
  },
  {
   "cell_type": "code",
   "execution_count": 51,
   "id": "c417fc0b",
   "metadata": {},
   "outputs": [
    {
     "data": {
      "text/html": [
       "<style>#sk-fffb649c-b438-40e5-a710-d4a0ca910478 {color: black;background-color: white;}#sk-fffb649c-b438-40e5-a710-d4a0ca910478 pre{padding: 0;}#sk-fffb649c-b438-40e5-a710-d4a0ca910478 div.sk-toggleable {background-color: white;}#sk-fffb649c-b438-40e5-a710-d4a0ca910478 label.sk-toggleable__label {cursor: pointer;display: block;width: 100%;margin-bottom: 0;padding: 0.2em 0.3em;box-sizing: border-box;text-align: center;}#sk-fffb649c-b438-40e5-a710-d4a0ca910478 div.sk-toggleable__content {max-height: 0;max-width: 0;overflow: hidden;text-align: left;background-color: #f0f8ff;}#sk-fffb649c-b438-40e5-a710-d4a0ca910478 div.sk-toggleable__content pre {margin: 0.2em;color: black;border-radius: 0.25em;background-color: #f0f8ff;}#sk-fffb649c-b438-40e5-a710-d4a0ca910478 input.sk-toggleable__control:checked~div.sk-toggleable__content {max-height: 200px;max-width: 100%;overflow: auto;}#sk-fffb649c-b438-40e5-a710-d4a0ca910478 div.sk-estimator input.sk-toggleable__control:checked~label.sk-toggleable__label {background-color: #d4ebff;}#sk-fffb649c-b438-40e5-a710-d4a0ca910478 div.sk-label input.sk-toggleable__control:checked~label.sk-toggleable__label {background-color: #d4ebff;}#sk-fffb649c-b438-40e5-a710-d4a0ca910478 input.sk-hidden--visually {border: 0;clip: rect(1px 1px 1px 1px);clip: rect(1px, 1px, 1px, 1px);height: 1px;margin: -1px;overflow: hidden;padding: 0;position: absolute;width: 1px;}#sk-fffb649c-b438-40e5-a710-d4a0ca910478 div.sk-estimator {font-family: monospace;background-color: #f0f8ff;margin: 0.25em 0.25em;border: 1px dotted black;border-radius: 0.25em;box-sizing: border-box;}#sk-fffb649c-b438-40e5-a710-d4a0ca910478 div.sk-estimator:hover {background-color: #d4ebff;}#sk-fffb649c-b438-40e5-a710-d4a0ca910478 div.sk-parallel-item::after {content: \"\";width: 100%;border-bottom: 1px solid gray;flex-grow: 1;}#sk-fffb649c-b438-40e5-a710-d4a0ca910478 div.sk-label:hover label.sk-toggleable__label {background-color: #d4ebff;}#sk-fffb649c-b438-40e5-a710-d4a0ca910478 div.sk-serial::before {content: \"\";position: absolute;border-left: 1px solid gray;box-sizing: border-box;top: 2em;bottom: 0;left: 50%;}#sk-fffb649c-b438-40e5-a710-d4a0ca910478 div.sk-serial {display: flex;flex-direction: column;align-items: center;background-color: white;}#sk-fffb649c-b438-40e5-a710-d4a0ca910478 div.sk-item {z-index: 1;}#sk-fffb649c-b438-40e5-a710-d4a0ca910478 div.sk-parallel {display: flex;align-items: stretch;justify-content: center;background-color: white;}#sk-fffb649c-b438-40e5-a710-d4a0ca910478 div.sk-parallel-item {display: flex;flex-direction: column;position: relative;background-color: white;}#sk-fffb649c-b438-40e5-a710-d4a0ca910478 div.sk-parallel-item:first-child::after {align-self: flex-end;width: 50%;}#sk-fffb649c-b438-40e5-a710-d4a0ca910478 div.sk-parallel-item:last-child::after {align-self: flex-start;width: 50%;}#sk-fffb649c-b438-40e5-a710-d4a0ca910478 div.sk-parallel-item:only-child::after {width: 0;}#sk-fffb649c-b438-40e5-a710-d4a0ca910478 div.sk-dashed-wrapped {border: 1px dashed gray;margin: 0.2em;box-sizing: border-box;padding-bottom: 0.1em;background-color: white;position: relative;}#sk-fffb649c-b438-40e5-a710-d4a0ca910478 div.sk-label label {font-family: monospace;font-weight: bold;background-color: white;display: inline-block;line-height: 1.2em;}#sk-fffb649c-b438-40e5-a710-d4a0ca910478 div.sk-label-container {position: relative;z-index: 2;text-align: center;}#sk-fffb649c-b438-40e5-a710-d4a0ca910478 div.sk-container {display: inline-block;position: relative;}</style><div id=\"sk-fffb649c-b438-40e5-a710-d4a0ca910478\" class\"sk-top-container\"><div class=\"sk-container\"><div class=\"sk-item sk-dashed-wrapped\"><div class=\"sk-label-container\"><div class=\"sk-label sk-toggleable\"><input class=\"sk-toggleable__control sk-hidden--visually\" id=\"551f8fb5-a6b9-4245-931e-f2e8eb90f30a\" type=\"checkbox\" ><label class=\"sk-toggleable__label\" for=\"551f8fb5-a6b9-4245-931e-f2e8eb90f30a\">Pipeline</label><div class=\"sk-toggleable__content\"><pre>Pipeline(steps=[('numdropper', NumeDropper()),\n",
       "                ('catedropper', CateDropper(n=3)),\n",
       "                ('preprocessor',\n",
       "                 ColumnTransformer(transformers=[('nume',\n",
       "                                                  Pipeline(steps=[('imputer',\n",
       "                                                                   SimpleImputer(strategy='median'))]),\n",
       "                                                  ['sqft', 'beds', 'baths',\n",
       "                                                   'parkingSpots', 'yearBuilt',\n",
       "                                                   'tax']),\n",
       "                                                 ('cate',\n",
       "                                                  Pipeline(steps=[('imputer',\n",
       "                                                                   SimpleImputer(strategy='most_frequent')),\n",
       "                                                                  ('onehot',\n",
       "                                                                   OneHotEncoder(handle_unknown='ignore'))]),\n",
       "                                                  ['homeType', 'heating_system',\n",
       "                                                   'cooling_system',\n",
       "                                                   'architecture_style'])])),\n",
       "                ('minmax', MinMaxScaler())])</pre></div></div></div><div class=\"sk-serial\"><div class=\"sk-item\"><div class=\"sk-estimator sk-toggleable\"><input class=\"sk-toggleable__control sk-hidden--visually\" id=\"0861c067-5cb9-4817-bea2-1bf2aabc49f6\" type=\"checkbox\" ><label class=\"sk-toggleable__label\" for=\"0861c067-5cb9-4817-bea2-1bf2aabc49f6\">NumeDropper</label><div class=\"sk-toggleable__content\"><pre>NumeDropper()</pre></div></div></div><div class=\"sk-item\"><div class=\"sk-estimator sk-toggleable\"><input class=\"sk-toggleable__control sk-hidden--visually\" id=\"738254a4-3b8f-405f-a9e5-151896d2f0e3\" type=\"checkbox\" ><label class=\"sk-toggleable__label\" for=\"738254a4-3b8f-405f-a9e5-151896d2f0e3\">CateDropper</label><div class=\"sk-toggleable__content\"><pre>CateDropper(n=3)</pre></div></div></div><div class=\"sk-item sk-dashed-wrapped\"><div class=\"sk-label-container\"><div class=\"sk-label sk-toggleable\"><input class=\"sk-toggleable__control sk-hidden--visually\" id=\"481eacea-0e7c-43dc-b282-bb419978116c\" type=\"checkbox\" ><label class=\"sk-toggleable__label\" for=\"481eacea-0e7c-43dc-b282-bb419978116c\">preprocessor: ColumnTransformer</label><div class=\"sk-toggleable__content\"><pre>ColumnTransformer(transformers=[('nume',\n",
       "                                 Pipeline(steps=[('imputer',\n",
       "                                                  SimpleImputer(strategy='median'))]),\n",
       "                                 ['sqft', 'beds', 'baths', 'parkingSpots',\n",
       "                                  'yearBuilt', 'tax']),\n",
       "                                ('cate',\n",
       "                                 Pipeline(steps=[('imputer',\n",
       "                                                  SimpleImputer(strategy='most_frequent')),\n",
       "                                                 ('onehot',\n",
       "                                                  OneHotEncoder(handle_unknown='ignore'))]),\n",
       "                                 ['homeType', 'heating_system',\n",
       "                                  'cooling_system', 'architecture_style'])])</pre></div></div></div><div class=\"sk-parallel\"><div class=\"sk-parallel-item\"><div class=\"sk-item\"><div class=\"sk-label-container\"><div class=\"sk-label sk-toggleable\"><input class=\"sk-toggleable__control sk-hidden--visually\" id=\"7ca996d7-a162-45fd-aacb-1cdb7d985a83\" type=\"checkbox\" ><label class=\"sk-toggleable__label\" for=\"7ca996d7-a162-45fd-aacb-1cdb7d985a83\">nume</label><div class=\"sk-toggleable__content\"><pre>['sqft', 'beds', 'baths', 'parkingSpots', 'yearBuilt', 'tax']</pre></div></div></div><div class=\"sk-serial\"><div class=\"sk-item\"><div class=\"sk-serial\"><div class=\"sk-item\"><div class=\"sk-estimator sk-toggleable\"><input class=\"sk-toggleable__control sk-hidden--visually\" id=\"6559b666-5284-4997-9629-319c84deb5a2\" type=\"checkbox\" ><label class=\"sk-toggleable__label\" for=\"6559b666-5284-4997-9629-319c84deb5a2\">SimpleImputer</label><div class=\"sk-toggleable__content\"><pre>SimpleImputer(strategy='median')</pre></div></div></div></div></div></div></div></div><div class=\"sk-parallel-item\"><div class=\"sk-item\"><div class=\"sk-label-container\"><div class=\"sk-label sk-toggleable\"><input class=\"sk-toggleable__control sk-hidden--visually\" id=\"04d2ce5f-c2bd-4ea7-8246-f62ad20b811f\" type=\"checkbox\" ><label class=\"sk-toggleable__label\" for=\"04d2ce5f-c2bd-4ea7-8246-f62ad20b811f\">cate</label><div class=\"sk-toggleable__content\"><pre>['homeType', 'heating_system', 'cooling_system', 'architecture_style']</pre></div></div></div><div class=\"sk-serial\"><div class=\"sk-item\"><div class=\"sk-serial\"><div class=\"sk-item\"><div class=\"sk-estimator sk-toggleable\"><input class=\"sk-toggleable__control sk-hidden--visually\" id=\"1c60b213-3c7c-4314-b69a-89ad0747fbaf\" type=\"checkbox\" ><label class=\"sk-toggleable__label\" for=\"1c60b213-3c7c-4314-b69a-89ad0747fbaf\">SimpleImputer</label><div class=\"sk-toggleable__content\"><pre>SimpleImputer(strategy='most_frequent')</pre></div></div></div><div class=\"sk-item\"><div class=\"sk-estimator sk-toggleable\"><input class=\"sk-toggleable__control sk-hidden--visually\" id=\"75f32649-3604-49c6-be63-f3f40b0de073\" type=\"checkbox\" ><label class=\"sk-toggleable__label\" for=\"75f32649-3604-49c6-be63-f3f40b0de073\">OneHotEncoder</label><div class=\"sk-toggleable__content\"><pre>OneHotEncoder(handle_unknown='ignore')</pre></div></div></div></div></div></div></div></div></div></div><div class=\"sk-item\"><div class=\"sk-estimator sk-toggleable\"><input class=\"sk-toggleable__control sk-hidden--visually\" id=\"e7882356-3811-4eab-beaa-58689842ebf7\" type=\"checkbox\" ><label class=\"sk-toggleable__label\" for=\"e7882356-3811-4eab-beaa-58689842ebf7\">MinMaxScaler</label><div class=\"sk-toggleable__content\"><pre>MinMaxScaler()</pre></div></div></div></div></div></div></div>"
      ],
      "text/plain": [
       "Pipeline(steps=[('numdropper', NumeDropper()),\n",
       "                ('catedropper', CateDropper(n=3)),\n",
       "                ('preprocessor',\n",
       "                 ColumnTransformer(transformers=[('nume',\n",
       "                                                  Pipeline(steps=[('imputer',\n",
       "                                                                   SimpleImputer(strategy='median'))]),\n",
       "                                                  ['sqft', 'beds', 'baths',\n",
       "                                                   'parkingSpots', 'yearBuilt',\n",
       "                                                   'tax']),\n",
       "                                                 ('cate',\n",
       "                                                  Pipeline(steps=[('imputer',\n",
       "                                                                   SimpleImputer(strategy='most_frequent')),\n",
       "                                                                  ('onehot',\n",
       "                                                                   OneHotEncoder(handle_unknown='ignore'))]),\n",
       "                                                  ['homeType', 'heating_system',\n",
       "                                                   'cooling_system',\n",
       "                                                   'architecture_style'])])),\n",
       "                ('minmax', MinMaxScaler())])"
      ]
     },
     "execution_count": 51,
     "metadata": {},
     "output_type": "execute_result"
    }
   ],
   "source": [
    "num_cols = [\"sqft\", \"beds\" , \"baths\",\"parkingSpots\",\"yearBuilt\",\"tax\"]\n",
    "cate_cols = [\"homeType\", \"heating_system\", \"cooling_system\",\"architecture_style\" ]\n",
    "\n",
    "\n",
    "numeric_transformer = Pipeline(steps=[\n",
    "    ('imputer', SimpleImputer(missing_values=np.nan, strategy='median'))])\n",
    "\n",
    "\n",
    "categotical_transformer = Pipeline(steps=[\n",
    "    ('imputer', SimpleImputer(missing_values=np.nan, strategy='most_frequent')),\n",
    "    ('onehot', OneHotEncoder(handle_unknown='ignore'))])\n",
    "\n",
    "\n",
    "preprocessor = ColumnTransformer(\n",
    "    transformers=[\n",
    "        ('nume', numeric_transformer, num_cols),\n",
    "        ('cate',categotical_transformer , cate_cols)])\n",
    "\n",
    "\n",
    "preprocess_pipeline = Pipeline(steps=[('numdropper',NumeDropper()),\n",
    "                                      ('catedropper', CateDropper(n=3)),\n",
    "                                      ('preprocessor', preprocessor),\n",
    "                                      ('minmax', MinMaxScaler())])\n",
    "\n",
    "preprocess_pipeline"
   ]
  },
  {
   "cell_type": "code",
   "execution_count": 52,
   "id": "00cc8347",
   "metadata": {},
   "outputs": [
    {
     "data": {
      "text/html": [
       "<div>\n",
       "<style scoped>\n",
       "    .dataframe tbody tr th:only-of-type {\n",
       "        vertical-align: middle;\n",
       "    }\n",
       "\n",
       "    .dataframe tbody tr th {\n",
       "        vertical-align: top;\n",
       "    }\n",
       "\n",
       "    .dataframe thead th {\n",
       "        text-align: right;\n",
       "    }\n",
       "</style>\n",
       "<table border=\"1\" class=\"dataframe\">\n",
       "  <thead>\n",
       "    <tr style=\"text-align: right;\">\n",
       "      <th></th>\n",
       "      <th>0</th>\n",
       "      <th>1</th>\n",
       "      <th>2</th>\n",
       "      <th>3</th>\n",
       "      <th>4</th>\n",
       "      <th>5</th>\n",
       "      <th>6</th>\n",
       "      <th>7</th>\n",
       "      <th>8</th>\n",
       "      <th>9</th>\n",
       "      <th>...</th>\n",
       "      <th>12</th>\n",
       "      <th>13</th>\n",
       "      <th>14</th>\n",
       "      <th>15</th>\n",
       "      <th>16</th>\n",
       "      <th>17</th>\n",
       "      <th>18</th>\n",
       "      <th>19</th>\n",
       "      <th>20</th>\n",
       "      <th>21</th>\n",
       "    </tr>\n",
       "  </thead>\n",
       "  <tbody>\n",
       "    <tr>\n",
       "      <th>count</th>\n",
       "      <td>1434.000000</td>\n",
       "      <td>1434.000000</td>\n",
       "      <td>1434.000000</td>\n",
       "      <td>1434.000000</td>\n",
       "      <td>1434.000000</td>\n",
       "      <td>1434.000000</td>\n",
       "      <td>1434.000000</td>\n",
       "      <td>1434.000000</td>\n",
       "      <td>1434.000000</td>\n",
       "      <td>1434.000000</td>\n",
       "      <td>...</td>\n",
       "      <td>1434.000000</td>\n",
       "      <td>1434.000000</td>\n",
       "      <td>1434.000000</td>\n",
       "      <td>1434.000000</td>\n",
       "      <td>1434.000000</td>\n",
       "      <td>1434.000000</td>\n",
       "      <td>1434.000000</td>\n",
       "      <td>1434.000000</td>\n",
       "      <td>1434.000000</td>\n",
       "      <td>1434.000000</td>\n",
       "    </tr>\n",
       "    <tr>\n",
       "      <th>mean</th>\n",
       "      <td>0.311238</td>\n",
       "      <td>0.474198</td>\n",
       "      <td>0.369596</td>\n",
       "      <td>0.049628</td>\n",
       "      <td>0.541296</td>\n",
       "      <td>0.264209</td>\n",
       "      <td>0.653417</td>\n",
       "      <td>0.002092</td>\n",
       "      <td>0.001395</td>\n",
       "      <td>0.343096</td>\n",
       "      <td>...</td>\n",
       "      <td>0.423291</td>\n",
       "      <td>0.449791</td>\n",
       "      <td>0.748257</td>\n",
       "      <td>0.093445</td>\n",
       "      <td>0.008368</td>\n",
       "      <td>0.149930</td>\n",
       "      <td>0.058577</td>\n",
       "      <td>0.095537</td>\n",
       "      <td>0.692469</td>\n",
       "      <td>0.153417</td>\n",
       "    </tr>\n",
       "    <tr>\n",
       "      <th>std</th>\n",
       "      <td>0.161745</td>\n",
       "      <td>0.311311</td>\n",
       "      <td>0.320953</td>\n",
       "      <td>0.087819</td>\n",
       "      <td>0.253162</td>\n",
       "      <td>0.170982</td>\n",
       "      <td>0.476048</td>\n",
       "      <td>0.045707</td>\n",
       "      <td>0.037333</td>\n",
       "      <td>0.474909</td>\n",
       "      <td>...</td>\n",
       "      <td>0.494253</td>\n",
       "      <td>0.497646</td>\n",
       "      <td>0.434166</td>\n",
       "      <td>0.291156</td>\n",
       "      <td>0.091126</td>\n",
       "      <td>0.357128</td>\n",
       "      <td>0.234914</td>\n",
       "      <td>0.294058</td>\n",
       "      <td>0.461632</td>\n",
       "      <td>0.360515</td>\n",
       "    </tr>\n",
       "    <tr>\n",
       "      <th>min</th>\n",
       "      <td>0.000000</td>\n",
       "      <td>0.000000</td>\n",
       "      <td>0.000000</td>\n",
       "      <td>0.000000</td>\n",
       "      <td>0.000000</td>\n",
       "      <td>0.000000</td>\n",
       "      <td>0.000000</td>\n",
       "      <td>0.000000</td>\n",
       "      <td>0.000000</td>\n",
       "      <td>0.000000</td>\n",
       "      <td>...</td>\n",
       "      <td>0.000000</td>\n",
       "      <td>0.000000</td>\n",
       "      <td>0.000000</td>\n",
       "      <td>0.000000</td>\n",
       "      <td>0.000000</td>\n",
       "      <td>0.000000</td>\n",
       "      <td>0.000000</td>\n",
       "      <td>0.000000</td>\n",
       "      <td>0.000000</td>\n",
       "      <td>0.000000</td>\n",
       "    </tr>\n",
       "    <tr>\n",
       "      <th>25%</th>\n",
       "      <td>0.220624</td>\n",
       "      <td>0.333333</td>\n",
       "      <td>0.000000</td>\n",
       "      <td>0.000000</td>\n",
       "      <td>0.316901</td>\n",
       "      <td>0.132342</td>\n",
       "      <td>0.000000</td>\n",
       "      <td>0.000000</td>\n",
       "      <td>0.000000</td>\n",
       "      <td>0.000000</td>\n",
       "      <td>...</td>\n",
       "      <td>0.000000</td>\n",
       "      <td>0.000000</td>\n",
       "      <td>0.000000</td>\n",
       "      <td>0.000000</td>\n",
       "      <td>0.000000</td>\n",
       "      <td>0.000000</td>\n",
       "      <td>0.000000</td>\n",
       "      <td>0.000000</td>\n",
       "      <td>0.000000</td>\n",
       "      <td>0.000000</td>\n",
       "    </tr>\n",
       "    <tr>\n",
       "      <th>50%</th>\n",
       "      <td>0.281775</td>\n",
       "      <td>0.333333</td>\n",
       "      <td>0.500000</td>\n",
       "      <td>0.000000</td>\n",
       "      <td>0.542254</td>\n",
       "      <td>0.235451</td>\n",
       "      <td>1.000000</td>\n",
       "      <td>0.000000</td>\n",
       "      <td>0.000000</td>\n",
       "      <td>0.000000</td>\n",
       "      <td>...</td>\n",
       "      <td>0.000000</td>\n",
       "      <td>0.000000</td>\n",
       "      <td>1.000000</td>\n",
       "      <td>0.000000</td>\n",
       "      <td>0.000000</td>\n",
       "      <td>0.000000</td>\n",
       "      <td>0.000000</td>\n",
       "      <td>0.000000</td>\n",
       "      <td>1.000000</td>\n",
       "      <td>0.000000</td>\n",
       "    </tr>\n",
       "    <tr>\n",
       "      <th>75%</th>\n",
       "      <td>0.353917</td>\n",
       "      <td>0.666667</td>\n",
       "      <td>0.500000</td>\n",
       "      <td>0.166667</td>\n",
       "      <td>0.802817</td>\n",
       "      <td>0.351973</td>\n",
       "      <td>1.000000</td>\n",
       "      <td>0.000000</td>\n",
       "      <td>0.000000</td>\n",
       "      <td>1.000000</td>\n",
       "      <td>...</td>\n",
       "      <td>1.000000</td>\n",
       "      <td>1.000000</td>\n",
       "      <td>1.000000</td>\n",
       "      <td>0.000000</td>\n",
       "      <td>0.000000</td>\n",
       "      <td>0.000000</td>\n",
       "      <td>0.000000</td>\n",
       "      <td>0.000000</td>\n",
       "      <td>1.000000</td>\n",
       "      <td>0.000000</td>\n",
       "    </tr>\n",
       "    <tr>\n",
       "      <th>max</th>\n",
       "      <td>1.000000</td>\n",
       "      <td>1.000000</td>\n",
       "      <td>1.000000</td>\n",
       "      <td>1.000000</td>\n",
       "      <td>1.000000</td>\n",
       "      <td>1.000000</td>\n",
       "      <td>1.000000</td>\n",
       "      <td>1.000000</td>\n",
       "      <td>1.000000</td>\n",
       "      <td>1.000000</td>\n",
       "      <td>...</td>\n",
       "      <td>1.000000</td>\n",
       "      <td>1.000000</td>\n",
       "      <td>1.000000</td>\n",
       "      <td>1.000000</td>\n",
       "      <td>1.000000</td>\n",
       "      <td>1.000000</td>\n",
       "      <td>1.000000</td>\n",
       "      <td>1.000000</td>\n",
       "      <td>1.000000</td>\n",
       "      <td>1.000000</td>\n",
       "    </tr>\n",
       "  </tbody>\n",
       "</table>\n",
       "<p>8 rows × 22 columns</p>\n",
       "</div>"
      ],
      "text/plain": [
       "                0            1            2            3            4   \\\n",
       "count  1434.000000  1434.000000  1434.000000  1434.000000  1434.000000   \n",
       "mean      0.311238     0.474198     0.369596     0.049628     0.541296   \n",
       "std       0.161745     0.311311     0.320953     0.087819     0.253162   \n",
       "min       0.000000     0.000000     0.000000     0.000000     0.000000   \n",
       "25%       0.220624     0.333333     0.000000     0.000000     0.316901   \n",
       "50%       0.281775     0.333333     0.500000     0.000000     0.542254   \n",
       "75%       0.353917     0.666667     0.500000     0.166667     0.802817   \n",
       "max       1.000000     1.000000     1.000000     1.000000     1.000000   \n",
       "\n",
       "                5            6            7            8            9   ...  \\\n",
       "count  1434.000000  1434.000000  1434.000000  1434.000000  1434.000000  ...   \n",
       "mean      0.264209     0.653417     0.002092     0.001395     0.343096  ...   \n",
       "std       0.170982     0.476048     0.045707     0.037333     0.474909  ...   \n",
       "min       0.000000     0.000000     0.000000     0.000000     0.000000  ...   \n",
       "25%       0.132342     0.000000     0.000000     0.000000     0.000000  ...   \n",
       "50%       0.235451     1.000000     0.000000     0.000000     0.000000  ...   \n",
       "75%       0.351973     1.000000     0.000000     0.000000     1.000000  ...   \n",
       "max       1.000000     1.000000     1.000000     1.000000     1.000000  ...   \n",
       "\n",
       "                12           13           14           15           16  \\\n",
       "count  1434.000000  1434.000000  1434.000000  1434.000000  1434.000000   \n",
       "mean      0.423291     0.449791     0.748257     0.093445     0.008368   \n",
       "std       0.494253     0.497646     0.434166     0.291156     0.091126   \n",
       "min       0.000000     0.000000     0.000000     0.000000     0.000000   \n",
       "25%       0.000000     0.000000     0.000000     0.000000     0.000000   \n",
       "50%       0.000000     0.000000     1.000000     0.000000     0.000000   \n",
       "75%       1.000000     1.000000     1.000000     0.000000     0.000000   \n",
       "max       1.000000     1.000000     1.000000     1.000000     1.000000   \n",
       "\n",
       "                17           18           19           20           21  \n",
       "count  1434.000000  1434.000000  1434.000000  1434.000000  1434.000000  \n",
       "mean      0.149930     0.058577     0.095537     0.692469     0.153417  \n",
       "std       0.357128     0.234914     0.294058     0.461632     0.360515  \n",
       "min       0.000000     0.000000     0.000000     0.000000     0.000000  \n",
       "25%       0.000000     0.000000     0.000000     0.000000     0.000000  \n",
       "50%       0.000000     0.000000     0.000000     1.000000     0.000000  \n",
       "75%       0.000000     0.000000     0.000000     1.000000     0.000000  \n",
       "max       1.000000     1.000000     1.000000     1.000000     1.000000  \n",
       "\n",
       "[8 rows x 22 columns]"
      ]
     },
     "execution_count": 52,
     "metadata": {},
     "output_type": "execute_result"
    }
   ],
   "source": [
    "preprocessed_train_X = preprocess_pipeline.fit_transform(train_X)\n",
    ".describe()"
   ]
  },
  {
   "cell_type": "code",
   "execution_count": 54,
   "id": "f1e0c164",
   "metadata": {},
   "outputs": [
    {
     "data": {
      "image/png": "[encoded data removed]",
      "text/plain": [
       "<Figure size 720x432 with 2 Axes>"
      ]
     },
     "metadata": {
      "needs_background": "light"
     },
     "output_type": "display_data"
    }
   ],
   "source": [
    "train_pd=pd.DataFrame(data=preprocessed_train_X)\n",
    "# Correlation Matrix Heatmap\n",
    "f, ax = plt.subplots(figsize=(10, 6))\n",
    "corr = train_pd.corr()\n",
    "hm = sns.heatmap(round(corr,2), annot=True, ax=ax, cmap=\"coolwarm\",fmt='.2f',\n",
    "                 linewidths=.05)\n",
    "f.subplots_adjust(top=0.93)\n",
    "t= f.suptitle('Wine Attributes Correlation Heatmap', fontsize=14)"
   ]
  },
  {
   "cell_type": "markdown",
   "id": "cd4aa3fc",
   "metadata": {},
   "source": [
    "## Mô hình hóa"
   ]
  },
  {
   "cell_type": "markdown",
   "id": "730f1eb3",
   "metadata": {},
   "source": [
    "#### Bỏ outliers cho output"
   ]
  },
  {
   "cell_type": "code",
   "execution_count": 26,
   "id": "febcf488",
   "metadata": {},
   "outputs": [],
   "source": [
    "cut_off = train_y.std() * 2\n",
    "lower, upper = train_y.mean() - cut_off, train_y.mean() + cut_off\n",
    "outliers_removed = (train_y < lower) | (train_y > upper)\n",
    "outliers_index = set(train_y[outliers_removed].index.values)\n",
    "\n",
    "train_X = train_X.drop(list(outliers_index))\n",
    "train_y = train_y.drop(list(outliers_index))"
   ]
  },
  {
   "cell_type": "markdown",
   "id": "cc837ce8",
   "metadata": {},
   "source": [
    "### Linear Regression"
   ]
  },
  {
   "cell_type": "markdown",
   "id": "979991b2",
   "metadata": {},
   "source": [
    "#### Full pipeline"
   ]
  },
  {
   "cell_type": "code",
   "execution_count": 27,
   "id": "656e1be3",
   "metadata": {},
   "outputs": [
    {
     "data": {
      "text/html": [
       "<style>#sk-1a70d1e2-9e27-43de-ad06-9192524159f8 {color: black;background-color: white;}#sk-1a70d1e2-9e27-43de-ad06-9192524159f8 pre{padding: 0;}#sk-1a70d1e2-9e27-43de-ad06-9192524159f8 div.sk-toggleable {background-color: white;}#sk-1a70d1e2-9e27-43de-ad06-9192524159f8 label.sk-toggleable__label {cursor: pointer;display: block;width: 100%;margin-bottom: 0;padding: 0.2em 0.3em;box-sizing: border-box;text-align: center;}#sk-1a70d1e2-9e27-43de-ad06-9192524159f8 div.sk-toggleable__content {max-height: 0;max-width: 0;overflow: hidden;text-align: left;background-color: #f0f8ff;}#sk-1a70d1e2-9e27-43de-ad06-9192524159f8 div.sk-toggleable__content pre {margin: 0.2em;color: black;border-radius: 0.25em;background-color: #f0f8ff;}#sk-1a70d1e2-9e27-43de-ad06-9192524159f8 input.sk-toggleable__control:checked~div.sk-toggleable__content {max-height: 200px;max-width: 100%;overflow: auto;}#sk-1a70d1e2-9e27-43de-ad06-9192524159f8 div.sk-estimator input.sk-toggleable__control:checked~label.sk-toggleable__label {background-color: #d4ebff;}#sk-1a70d1e2-9e27-43de-ad06-9192524159f8 div.sk-label input.sk-toggleable__control:checked~label.sk-toggleable__label {background-color: #d4ebff;}#sk-1a70d1e2-9e27-43de-ad06-9192524159f8 input.sk-hidden--visually {border: 0;clip: rect(1px 1px 1px 1px);clip: rect(1px, 1px, 1px, 1px);height: 1px;margin: -1px;overflow: hidden;padding: 0;position: absolute;width: 1px;}#sk-1a70d1e2-9e27-43de-ad06-9192524159f8 div.sk-estimator {font-family: monospace;background-color: #f0f8ff;margin: 0.25em 0.25em;border: 1px dotted black;border-radius: 0.25em;box-sizing: border-box;}#sk-1a70d1e2-9e27-43de-ad06-9192524159f8 div.sk-estimator:hover {background-color: #d4ebff;}#sk-1a70d1e2-9e27-43de-ad06-9192524159f8 div.sk-parallel-item::after {content: \"\";width: 100%;border-bottom: 1px solid gray;flex-grow: 1;}#sk-1a70d1e2-9e27-43de-ad06-9192524159f8 div.sk-label:hover label.sk-toggleable__label {background-color: #d4ebff;}#sk-1a70d1e2-9e27-43de-ad06-9192524159f8 div.sk-serial::before {content: \"\";position: absolute;border-left: 1px solid gray;box-sizing: border-box;top: 2em;bottom: 0;left: 50%;}#sk-1a70d1e2-9e27-43de-ad06-9192524159f8 div.sk-serial {display: flex;flex-direction: column;align-items: center;background-color: white;}#sk-1a70d1e2-9e27-43de-ad06-9192524159f8 div.sk-item {z-index: 1;}#sk-1a70d1e2-9e27-43de-ad06-9192524159f8 div.sk-parallel {display: flex;align-items: stretch;justify-content: center;background-color: white;}#sk-1a70d1e2-9e27-43de-ad06-9192524159f8 div.sk-parallel-item {display: flex;flex-direction: column;position: relative;background-color: white;}#sk-1a70d1e2-9e27-43de-ad06-9192524159f8 div.sk-parallel-item:first-child::after {align-self: flex-end;width: 50%;}#sk-1a70d1e2-9e27-43de-ad06-9192524159f8 div.sk-parallel-item:last-child::after {align-self: flex-start;width: 50%;}#sk-1a70d1e2-9e27-43de-ad06-9192524159f8 div.sk-parallel-item:only-child::after {width: 0;}#sk-1a70d1e2-9e27-43de-ad06-9192524159f8 div.sk-dashed-wrapped {border: 1px dashed gray;margin: 0.2em;box-sizing: border-box;padding-bottom: 0.1em;background-color: white;position: relative;}#sk-1a70d1e2-9e27-43de-ad06-9192524159f8 div.sk-label label {font-family: monospace;font-weight: bold;background-color: white;display: inline-block;line-height: 1.2em;}#sk-1a70d1e2-9e27-43de-ad06-9192524159f8 div.sk-label-container {position: relative;z-index: 2;text-align: center;}#sk-1a70d1e2-9e27-43de-ad06-9192524159f8 div.sk-container {display: inline-block;position: relative;}</style><div id=\"sk-1a70d1e2-9e27-43de-ad06-9192524159f8\" class\"sk-top-container\"><div class=\"sk-container\"><div class=\"sk-item sk-dashed-wrapped\"><div class=\"sk-label-container\"><div class=\"sk-label sk-toggleable\"><input class=\"sk-toggleable__control sk-hidden--visually\" id=\"a57e07e3-ee23-402e-ac57-4940168812f9\" type=\"checkbox\" ><label class=\"sk-toggleable__label\" for=\"a57e07e3-ee23-402e-ac57-4940168812f9\">Pipeline</label><div class=\"sk-toggleable__content\"><pre>Pipeline(steps=[('preprocess_pipeline',\n",
       "                 Pipeline(steps=[('numdropper', NumeDropper()),\n",
       "                                 ('catedropper', CateDropper(n=6)),\n",
       "                                 ('preprocessor',\n",
       "                                  ColumnTransformer(transformers=[('nume',\n",
       "                                                                   Pipeline(steps=[('imputer',\n",
       "                                                                                    SimpleImputer(strategy='median'))]),\n",
       "                                                                   ['sqft',\n",
       "                                                                    'beds',\n",
       "                                                                    'baths',\n",
       "                                                                    'parkingSpots',\n",
       "                                                                    'yearBuilt',\n",
       "                                                                    'tax']),\n",
       "                                                                  ('cate',\n",
       "                                                                   Pipeline(steps=[('imputer',\n",
       "                                                                                    SimpleImputer(strategy='most_frequent')),\n",
       "                                                                                   ('onehot',\n",
       "                                                                                    OneHotEncoder(handle_unknown='ignore'))]),\n",
       "                                                                   ['homeType',\n",
       "                                                                    'heating_system',\n",
       "                                                                    'cooling_system',\n",
       "                                                                    'architecture_style'])])),\n",
       "                                 ('minmax', MinMaxScaler())])),\n",
       "                ('neural_network', LinearRegression())])</pre></div></div></div><div class=\"sk-serial\"><div class=\"sk-item\"><div class=\"sk-label-container\"><div class=\"sk-label sk-toggleable\"><input class=\"sk-toggleable__control sk-hidden--visually\" id=\"69a649c8-ef3c-4c4c-8390-fc85d8ff7a8a\" type=\"checkbox\" ><label class=\"sk-toggleable__label\" for=\"69a649c8-ef3c-4c4c-8390-fc85d8ff7a8a\">preprocess_pipeline: Pipeline</label><div class=\"sk-toggleable__content\"><pre>Pipeline(steps=[('numdropper', NumeDropper()),\n",
       "                ('catedropper', CateDropper(n=6)),\n",
       "                ('preprocessor',\n",
       "                 ColumnTransformer(transformers=[('nume',\n",
       "                                                  Pipeline(steps=[('imputer',\n",
       "                                                                   SimpleImputer(strategy='median'))]),\n",
       "                                                  ['sqft', 'beds', 'baths',\n",
       "                                                   'parkingSpots', 'yearBuilt',\n",
       "                                                   'tax']),\n",
       "                                                 ('cate',\n",
       "                                                  Pipeline(steps=[('imputer',\n",
       "                                                                   SimpleImputer(strategy='most_frequent')),\n",
       "                                                                  ('onehot',\n",
       "                                                                   OneHotEncoder(handle_unknown='ignore'))]),\n",
       "                                                  ['homeType', 'heating_system',\n",
       "                                                   'cooling_system',\n",
       "                                                   'architecture_style'])])),\n",
       "                ('minmax', MinMaxScaler())])</pre></div></div></div><div class=\"sk-serial\"><div class=\"sk-item\"><div class=\"sk-estimator sk-toggleable\"><input class=\"sk-toggleable__control sk-hidden--visually\" id=\"22e0413b-48fa-428a-bb5a-0199e8f8629e\" type=\"checkbox\" ><label class=\"sk-toggleable__label\" for=\"22e0413b-48fa-428a-bb5a-0199e8f8629e\">NumeDropper</label><div class=\"sk-toggleable__content\"><pre>NumeDropper()</pre></div></div></div><div class=\"sk-item\"><div class=\"sk-estimator sk-toggleable\"><input class=\"sk-toggleable__control sk-hidden--visually\" id=\"5d453b52-f88a-412f-b07f-18a9a8b1996a\" type=\"checkbox\" ><label class=\"sk-toggleable__label\" for=\"5d453b52-f88a-412f-b07f-18a9a8b1996a\">CateDropper</label><div class=\"sk-toggleable__content\"><pre>CateDropper(n=6)</pre></div></div></div><div class=\"sk-item sk-dashed-wrapped\"><div class=\"sk-label-container\"><div class=\"sk-label sk-toggleable\"><input class=\"sk-toggleable__control sk-hidden--visually\" id=\"ccf44fd2-c744-4e38-b5c7-48383d9e9b55\" type=\"checkbox\" ><label class=\"sk-toggleable__label\" for=\"ccf44fd2-c744-4e38-b5c7-48383d9e9b55\">preprocessor: ColumnTransformer</label><div class=\"sk-toggleable__content\"><pre>ColumnTransformer(transformers=[('nume',\n",
       "                                 Pipeline(steps=[('imputer',\n",
       "                                                  SimpleImputer(strategy='median'))]),\n",
       "                                 ['sqft', 'beds', 'baths', 'parkingSpots',\n",
       "                                  'yearBuilt', 'tax']),\n",
       "                                ('cate',\n",
       "                                 Pipeline(steps=[('imputer',\n",
       "                                                  SimpleImputer(strategy='most_frequent')),\n",
       "                                                 ('onehot',\n",
       "                                                  OneHotEncoder(handle_unknown='ignore'))]),\n",
       "                                 ['homeType', 'heating_system',\n",
       "                                  'cooling_system', 'architecture_style'])])</pre></div></div></div><div class=\"sk-parallel\"><div class=\"sk-parallel-item\"><div class=\"sk-item\"><div class=\"sk-label-container\"><div class=\"sk-label sk-toggleable\"><input class=\"sk-toggleable__control sk-hidden--visually\" id=\"8e03f45a-c588-48ff-b84e-14bd5201d5c3\" type=\"checkbox\" ><label class=\"sk-toggleable__label\" for=\"8e03f45a-c588-48ff-b84e-14bd5201d5c3\">nume</label><div class=\"sk-toggleable__content\"><pre>['sqft', 'beds', 'baths', 'parkingSpots', 'yearBuilt', 'tax']</pre></div></div></div><div class=\"sk-serial\"><div class=\"sk-item\"><div class=\"sk-serial\"><div class=\"sk-item\"><div class=\"sk-estimator sk-toggleable\"><input class=\"sk-toggleable__control sk-hidden--visually\" id=\"01b8dd76-a545-4a37-bb42-e586586ed30b\" type=\"checkbox\" ><label class=\"sk-toggleable__label\" for=\"01b8dd76-a545-4a37-bb42-e586586ed30b\">SimpleImputer</label><div class=\"sk-toggleable__content\"><pre>SimpleImputer(strategy='median')</pre></div></div></div></div></div></div></div></div><div class=\"sk-parallel-item\"><div class=\"sk-item\"><div class=\"sk-label-container\"><div class=\"sk-label sk-toggleable\"><input class=\"sk-toggleable__control sk-hidden--visually\" id=\"ce384545-66a9-4394-ade0-5a4f5ad26ed4\" type=\"checkbox\" ><label class=\"sk-toggleable__label\" for=\"ce384545-66a9-4394-ade0-5a4f5ad26ed4\">cate</label><div class=\"sk-toggleable__content\"><pre>['homeType', 'heating_system', 'cooling_system', 'architecture_style']</pre></div></div></div><div class=\"sk-serial\"><div class=\"sk-item\"><div class=\"sk-serial\"><div class=\"sk-item\"><div class=\"sk-estimator sk-toggleable\"><input class=\"sk-toggleable__control sk-hidden--visually\" id=\"d47c9c72-7550-4b4b-b29b-dc8813517a77\" type=\"checkbox\" ><label class=\"sk-toggleable__label\" for=\"d47c9c72-7550-4b4b-b29b-dc8813517a77\">SimpleImputer</label><div class=\"sk-toggleable__content\"><pre>SimpleImputer(strategy='most_frequent')</pre></div></div></div><div class=\"sk-item\"><div class=\"sk-estimator sk-toggleable\"><input class=\"sk-toggleable__control sk-hidden--visually\" id=\"9258c5ad-687d-435c-a0d4-fd8d79fb9b24\" type=\"checkbox\" ><label class=\"sk-toggleable__label\" for=\"9258c5ad-687d-435c-a0d4-fd8d79fb9b24\">OneHotEncoder</label><div class=\"sk-toggleable__content\"><pre>OneHotEncoder(handle_unknown='ignore')</pre></div></div></div></div></div></div></div></div></div></div><div class=\"sk-item\"><div class=\"sk-estimator sk-toggleable\"><input class=\"sk-toggleable__control sk-hidden--visually\" id=\"7715737b-1a81-4eab-b9af-419226266997\" type=\"checkbox\" ><label class=\"sk-toggleable__label\" for=\"7715737b-1a81-4eab-b9af-419226266997\">MinMaxScaler</label><div class=\"sk-toggleable__content\"><pre>MinMaxScaler()</pre></div></div></div></div></div><div class=\"sk-item\"><div class=\"sk-estimator sk-toggleable\"><input class=\"sk-toggleable__control sk-hidden--visually\" id=\"db1d9239-3b85-4521-852f-faacc869c6db\" type=\"checkbox\" ><label class=\"sk-toggleable__label\" for=\"db1d9239-3b85-4521-852f-faacc869c6db\">LinearRegression</label><div class=\"sk-toggleable__content\"><pre>LinearRegression()</pre></div></div></div></div></div></div></div>"
      ],
      "text/plain": [
       "Pipeline(steps=[('preprocess_pipeline',\n",
       "                 Pipeline(steps=[('numdropper', NumeDropper()),\n",
       "                                 ('catedropper', CateDropper(n=6)),\n",
       "                                 ('preprocessor',\n",
       "                                  ColumnTransformer(transformers=[('nume',\n",
       "                                                                   Pipeline(steps=[('imputer',\n",
       "                                                                                    SimpleImputer(strategy='median'))]),\n",
       "                                                                   ['sqft',\n",
       "                                                                    'beds',\n",
       "                                                                    'baths',\n",
       "                                                                    'parkingSpots',\n",
       "                                                                    'yearBuilt',\n",
       "                                                                    'tax']),\n",
       "                                                                  ('cate',\n",
       "                                                                   Pipeline(steps=[('imputer',\n",
       "                                                                                    SimpleImputer(strategy='most_frequent')),\n",
       "                                                                                   ('onehot',\n",
       "                                                                                    OneHotEncoder(handle_unknown='ignore'))]),\n",
       "                                                                   ['homeType',\n",
       "                                                                    'heating_system',\n",
       "                                                                    'cooling_system',\n",
       "                                                                    'architecture_style'])])),\n",
       "                                 ('minmax', MinMaxScaler())])),\n",
       "                ('neural_network', LinearRegression())])"
      ]
     },
     "execution_count": 27,
     "metadata": {},
     "output_type": "execute_result"
    }
   ],
   "source": [
    "model = LinearRegression()\n",
    "full_pipeline = Pipeline(steps=[('preprocess_pipeline', preprocess_pipeline),\n",
    "                                 ('neural_network',model)])\n",
    "full_pipeline"
   ]
  },
  {
   "cell_type": "code",
   "execution_count": 28,
   "id": "debd3aea",
   "metadata": {},
   "outputs": [
    {
     "data": {
      "text/plain": [
       "(1434,)"
      ]
     },
     "execution_count": 28,
     "metadata": {},
     "output_type": "execute_result"
    }
   ],
   "source": [
    "train_y.shape"
   ]
  },
  {
   "cell_type": "markdown",
   "id": "aaaa8029",
   "metadata": {},
   "source": [
    "#### Hàm tính RR"
   ]
  },
  {
   "cell_type": "code",
   "execution_count": 29,
   "id": "b84d143f",
   "metadata": {},
   "outputs": [],
   "source": [
    "def compute_mse(y, preds):\n",
    "    return ((y - preds)**2).mean()\n",
    "def compute_rr(y, preds, baseline_preds):\n",
    "    return 1 - compute_mse(y, preds) / compute_mse(y, baseline_preds)\n",
    "baseline_preds = test_y.mean()"
   ]
  },
  {
   "cell_type": "code",
   "execution_count": 30,
   "id": "a8fcc397",
   "metadata": {},
   "outputs": [],
   "source": [
    "# train_X = train_X.append(val_X)\n",
    "# train_Y = train_y.append(val_y)\n",
    "# việc gợp val +train này là do việc sử dụng LR (không có phần cập nhật siêu tham số nên tập val không cần thiết) ==> GỘP"
   ]
  },
  {
   "cell_type": "markdown",
   "id": "9276761e",
   "metadata": {},
   "source": [
    "#### Tìm N\n",
    "Vói N là sô lượng các giá trị xuất hiện nhiều nhất sao cho độ lỗi trên tập validation là nhỏ nhất"
   ]
  },
  {
   "cell_type": "code",
   "execution_count": 31,
   "id": "cac1ffc0",
   "metadata": {},
   "outputs": [],
   "source": [
    "train_errs = []\n",
    "best_val_err = float('inf')\n",
    "val_errs = []\n",
    "\n",
    "best_N = None\n",
    "N = [1,2,3,4,5,6]\n",
    "for i in N:\n",
    "    model = full_pipeline.set_params(preprocess_pipeline__catedropper__n=i).fit(train_X, train_y)\n",
    "    train_error = compute_mse(train_y, model.predict(train_X))\n",
    "    val_error = compute_mse(val_y, model.predict(val_X))\n",
    "    \n",
    "    train_errs.append(train_error)\n",
    "    val_errs.append(val_error)\n",
    "    \n",
    "    if val_errs[-1] < best_val_err:\n",
    "        best_val_err = val_errs[-1]\n",
    "        best_N = i"
   ]
  },
  {
   "cell_type": "code",
   "execution_count": 32,
   "id": "d7d96cb7",
   "metadata": {},
   "outputs": [
    {
     "data": {
      "image/png": "[encoded data removed]",
      "text/plain": [
       "<Figure size 432x288 with 1 Axes>"
      ]
     },
     "metadata": {
      "needs_background": "light"
     },
     "output_type": "display_data"
    }
   ],
   "source": [
    "plt.plot(N, val_errs, color='red', marker='o')\n",
    "plt.title('val error with N', fontsize=14)\n",
    "plt.xlabel('N', fontsize=14)\n",
    "plt.ylabel('val_errs', fontsize=14)\n",
    "plt.show()"
   ]
  },
  {
   "cell_type": "markdown",
   "id": "a914216f",
   "metadata": {},
   "source": [
    "#### Train model "
   ]
  },
  {
   "cell_type": "code",
   "execution_count": 33,
   "id": "0879f6a7",
   "metadata": {},
   "outputs": [],
   "source": [
    "model = full_pipeline.set_params(preprocess_pipeline__catedropper__n=best_N).fit(train_X, train_y)"
   ]
  },
  {
   "cell_type": "markdown",
   "id": "f1958811",
   "metadata": {},
   "source": [
    "#### Predict trên tập test"
   ]
  },
  {
   "cell_type": "code",
   "execution_count": 34,
   "id": "fbbcf8b2",
   "metadata": {},
   "outputs": [],
   "source": [
    "test_preds = model.predict(test_X)"
   ]
  },
  {
   "cell_type": "code",
   "execution_count": 35,
   "id": "236e49ee",
   "metadata": {},
   "outputs": [
    {
     "data": {
      "text/html": [
       "<div>\n",
       "<style scoped>\n",
       "    .dataframe tbody tr th:only-of-type {\n",
       "        vertical-align: middle;\n",
       "    }\n",
       "\n",
       "    .dataframe tbody tr th {\n",
       "        vertical-align: top;\n",
       "    }\n",
       "\n",
       "    .dataframe thead th {\n",
       "        text-align: right;\n",
       "    }\n",
       "</style>\n",
       "<table border=\"1\" class=\"dataframe\">\n",
       "  <thead>\n",
       "    <tr style=\"text-align: right;\">\n",
       "      <th></th>\n",
       "      <th>Actual</th>\n",
       "      <th>Predicted</th>\n",
       "    </tr>\n",
       "  </thead>\n",
       "  <tbody>\n",
       "    <tr>\n",
       "      <th>1321</th>\n",
       "      <td>249000</td>\n",
       "      <td>266304.0</td>\n",
       "    </tr>\n",
       "    <tr>\n",
       "      <th>1462</th>\n",
       "      <td>1400000</td>\n",
       "      <td>421984.0</td>\n",
       "    </tr>\n",
       "    <tr>\n",
       "      <th>243</th>\n",
       "      <td>450000</td>\n",
       "      <td>275168.0</td>\n",
       "    </tr>\n",
       "    <tr>\n",
       "      <th>2176</th>\n",
       "      <td>355000</td>\n",
       "      <td>332512.0</td>\n",
       "    </tr>\n",
       "    <tr>\n",
       "      <th>2101</th>\n",
       "      <td>155000</td>\n",
       "      <td>139808.0</td>\n",
       "    </tr>\n",
       "    <tr>\n",
       "      <th>...</th>\n",
       "      <td>...</td>\n",
       "      <td>...</td>\n",
       "    </tr>\n",
       "    <tr>\n",
       "      <th>1434</th>\n",
       "      <td>209900</td>\n",
       "      <td>174880.0</td>\n",
       "    </tr>\n",
       "    <tr>\n",
       "      <th>1028</th>\n",
       "      <td>154000</td>\n",
       "      <td>160512.0</td>\n",
       "    </tr>\n",
       "    <tr>\n",
       "      <th>333</th>\n",
       "      <td>634713</td>\n",
       "      <td>260448.0</td>\n",
       "    </tr>\n",
       "    <tr>\n",
       "      <th>127</th>\n",
       "      <td>339995</td>\n",
       "      <td>334784.0</td>\n",
       "    </tr>\n",
       "    <tr>\n",
       "      <th>1254</th>\n",
       "      <td>869000</td>\n",
       "      <td>475136.0</td>\n",
       "    </tr>\n",
       "  </tbody>\n",
       "</table>\n",
       "<p>524 rows × 2 columns</p>\n",
       "</div>"
      ],
      "text/plain": [
       "       Actual  Predicted\n",
       "1321   249000   266304.0\n",
       "1462  1400000   421984.0\n",
       "243    450000   275168.0\n",
       "2176   355000   332512.0\n",
       "2101   155000   139808.0\n",
       "...       ...        ...\n",
       "1434   209900   174880.0\n",
       "1028   154000   160512.0\n",
       "333    634713   260448.0\n",
       "127    339995   334784.0\n",
       "1254   869000   475136.0\n",
       "\n",
       "[524 rows x 2 columns]"
      ]
     },
     "execution_count": 35,
     "metadata": {},
     "output_type": "execute_result"
    }
   ],
   "source": [
    "df = pd.DataFrame({'Actual': test_y, 'Predicted': test_preds})\n",
    "df"
   ]
  },
  {
   "cell_type": "markdown",
   "id": "1fb49b7e",
   "metadata": {},
   "source": [
    "#### Độ chính xác trên tập test"
   ]
  },
  {
   "cell_type": "code",
   "execution_count": 36,
   "id": "8e8da31b",
   "metadata": {},
   "outputs": [
    {
     "data": {
      "text/plain": [
       "0.3294520545190389"
      ]
     },
     "execution_count": 36,
     "metadata": {},
     "output_type": "execute_result"
    }
   ],
   "source": [
    "compute_rr(test_y, test_preds, baseline_preds)"
   ]
  },
  {
   "cell_type": "markdown",
   "id": "10fce3ac",
   "metadata": {},
   "source": [
    "### MLPRegressor"
   ]
  },
  {
   "cell_type": "code",
   "execution_count": 44,
   "id": "fdee0d75",
   "metadata": {},
   "outputs": [
    {
     "data": {
      "text/html": [
       "<style>#sk-2ffdd8fc-3c6f-417c-b4e0-40df023555f8 {color: black;background-color: white;}#sk-2ffdd8fc-3c6f-417c-b4e0-40df023555f8 pre{padding: 0;}#sk-2ffdd8fc-3c6f-417c-b4e0-40df023555f8 div.sk-toggleable {background-color: white;}#sk-2ffdd8fc-3c6f-417c-b4e0-40df023555f8 label.sk-toggleable__label {cursor: pointer;display: block;width: 100%;margin-bottom: 0;padding: 0.2em 0.3em;box-sizing: border-box;text-align: center;}#sk-2ffdd8fc-3c6f-417c-b4e0-40df023555f8 div.sk-toggleable__content {max-height: 0;max-width: 0;overflow: hidden;text-align: left;background-color: #f0f8ff;}#sk-2ffdd8fc-3c6f-417c-b4e0-40df023555f8 div.sk-toggleable__content pre {margin: 0.2em;color: black;border-radius: 0.25em;background-color: #f0f8ff;}#sk-2ffdd8fc-3c6f-417c-b4e0-40df023555f8 input.sk-toggleable__control:checked~div.sk-toggleable__content {max-height: 200px;max-width: 100%;overflow: auto;}#sk-2ffdd8fc-3c6f-417c-b4e0-40df023555f8 div.sk-estimator input.sk-toggleable__control:checked~label.sk-toggleable__label {background-color: #d4ebff;}#sk-2ffdd8fc-3c6f-417c-b4e0-40df023555f8 div.sk-label input.sk-toggleable__control:checked~label.sk-toggleable__label {background-color: #d4ebff;}#sk-2ffdd8fc-3c6f-417c-b4e0-40df023555f8 input.sk-hidden--visually {border: 0;clip: rect(1px 1px 1px 1px);clip: rect(1px, 1px, 1px, 1px);height: 1px;margin: -1px;overflow: hidden;padding: 0;position: absolute;width: 1px;}#sk-2ffdd8fc-3c6f-417c-b4e0-40df023555f8 div.sk-estimator {font-family: monospace;background-color: #f0f8ff;margin: 0.25em 0.25em;border: 1px dotted black;border-radius: 0.25em;box-sizing: border-box;}#sk-2ffdd8fc-3c6f-417c-b4e0-40df023555f8 div.sk-estimator:hover {background-color: #d4ebff;}#sk-2ffdd8fc-3c6f-417c-b4e0-40df023555f8 div.sk-parallel-item::after {content: \"\";width: 100%;border-bottom: 1px solid gray;flex-grow: 1;}#sk-2ffdd8fc-3c6f-417c-b4e0-40df023555f8 div.sk-label:hover label.sk-toggleable__label {background-color: #d4ebff;}#sk-2ffdd8fc-3c6f-417c-b4e0-40df023555f8 div.sk-serial::before {content: \"\";position: absolute;border-left: 1px solid gray;box-sizing: border-box;top: 2em;bottom: 0;left: 50%;}#sk-2ffdd8fc-3c6f-417c-b4e0-40df023555f8 div.sk-serial {display: flex;flex-direction: column;align-items: center;background-color: white;}#sk-2ffdd8fc-3c6f-417c-b4e0-40df023555f8 div.sk-item {z-index: 1;}#sk-2ffdd8fc-3c6f-417c-b4e0-40df023555f8 div.sk-parallel {display: flex;align-items: stretch;justify-content: center;background-color: white;}#sk-2ffdd8fc-3c6f-417c-b4e0-40df023555f8 div.sk-parallel-item {display: flex;flex-direction: column;position: relative;background-color: white;}#sk-2ffdd8fc-3c6f-417c-b4e0-40df023555f8 div.sk-parallel-item:first-child::after {align-self: flex-end;width: 50%;}#sk-2ffdd8fc-3c6f-417c-b4e0-40df023555f8 div.sk-parallel-item:last-child::after {align-self: flex-start;width: 50%;}#sk-2ffdd8fc-3c6f-417c-b4e0-40df023555f8 div.sk-parallel-item:only-child::after {width: 0;}#sk-2ffdd8fc-3c6f-417c-b4e0-40df023555f8 div.sk-dashed-wrapped {border: 1px dashed gray;margin: 0.2em;box-sizing: border-box;padding-bottom: 0.1em;background-color: white;position: relative;}#sk-2ffdd8fc-3c6f-417c-b4e0-40df023555f8 div.sk-label label {font-family: monospace;font-weight: bold;background-color: white;display: inline-block;line-height: 1.2em;}#sk-2ffdd8fc-3c6f-417c-b4e0-40df023555f8 div.sk-label-container {position: relative;z-index: 2;text-align: center;}#sk-2ffdd8fc-3c6f-417c-b4e0-40df023555f8 div.sk-container {display: inline-block;position: relative;}</style><div id=\"sk-2ffdd8fc-3c6f-417c-b4e0-40df023555f8\" class\"sk-top-container\"><div class=\"sk-container\"><div class=\"sk-item sk-dashed-wrapped\"><div class=\"sk-label-container\"><div class=\"sk-label sk-toggleable\"><input class=\"sk-toggleable__control sk-hidden--visually\" id=\"9ac17542-63b4-482a-b6d7-101a10199d9a\" type=\"checkbox\" ><label class=\"sk-toggleable__label\" for=\"9ac17542-63b4-482a-b6d7-101a10199d9a\">Pipeline</label><div class=\"sk-toggleable__content\"><pre>Pipeline(steps=[('preprocess_pipeline',\n",
       "                 Pipeline(steps=[('numdropper', NumeDropper()),\n",
       "                                 ('catedropper', CateDropper(n=3)),\n",
       "                                 ('preprocessor',\n",
       "                                  ColumnTransformer(transformers=[('nume',\n",
       "                                                                   Pipeline(steps=[('imputer',\n",
       "                                                                                    SimpleImputer(strategy='median'))]),\n",
       "                                                                   ['sqft',\n",
       "                                                                    'beds',\n",
       "                                                                    'baths',\n",
       "                                                                    'parkingSpots',\n",
       "                                                                    'yearBuilt',\n",
       "                                                                    'tax']),\n",
       "                                                                  ('cate',\n",
       "                                                                   Pipeline(steps=[('imputer',\n",
       "                                                                                    SimpleImputer(strategy='most_frequent')),\n",
       "                                                                                   ('onehot',\n",
       "                                                                                    OneHotEncoder(handle_unknown='ignore'))]),\n",
       "                                                                   ['homeType',\n",
       "                                                                    'heating_system',\n",
       "                                                                    'cooling_system',\n",
       "                                                                    'architecture_style'])])),\n",
       "                                 ('minmax', MinMaxScaler())])),\n",
       "                ('neural_network',\n",
       "                 MLPRegressor(alpha=1e-05, hidden_layer_sizes=(50, 20),\n",
       "                              max_iter=3000, solver='sgd'))])</pre></div></div></div><div class=\"sk-serial\"><div class=\"sk-item\"><div class=\"sk-label-container\"><div class=\"sk-label sk-toggleable\"><input class=\"sk-toggleable__control sk-hidden--visually\" id=\"d07b16af-48ab-477d-b823-b17ba565c3d9\" type=\"checkbox\" ><label class=\"sk-toggleable__label\" for=\"d07b16af-48ab-477d-b823-b17ba565c3d9\">preprocess_pipeline: Pipeline</label><div class=\"sk-toggleable__content\"><pre>Pipeline(steps=[('numdropper', NumeDropper()),\n",
       "                ('catedropper', CateDropper(n=3)),\n",
       "                ('preprocessor',\n",
       "                 ColumnTransformer(transformers=[('nume',\n",
       "                                                  Pipeline(steps=[('imputer',\n",
       "                                                                   SimpleImputer(strategy='median'))]),\n",
       "                                                  ['sqft', 'beds', 'baths',\n",
       "                                                   'parkingSpots', 'yearBuilt',\n",
       "                                                   'tax']),\n",
       "                                                 ('cate',\n",
       "                                                  Pipeline(steps=[('imputer',\n",
       "                                                                   SimpleImputer(strategy='most_frequent')),\n",
       "                                                                  ('onehot',\n",
       "                                                                   OneHotEncoder(handle_unknown='ignore'))]),\n",
       "                                                  ['homeType', 'heating_system',\n",
       "                                                   'cooling_system',\n",
       "                                                   'architecture_style'])])),\n",
       "                ('minmax', MinMaxScaler())])</pre></div></div></div><div class=\"sk-serial\"><div class=\"sk-item\"><div class=\"sk-estimator sk-toggleable\"><input class=\"sk-toggleable__control sk-hidden--visually\" id=\"9f5ef954-a9ae-4c72-b9f1-0119b147e34e\" type=\"checkbox\" ><label class=\"sk-toggleable__label\" for=\"9f5ef954-a9ae-4c72-b9f1-0119b147e34e\">NumeDropper</label><div class=\"sk-toggleable__content\"><pre>NumeDropper()</pre></div></div></div><div class=\"sk-item\"><div class=\"sk-estimator sk-toggleable\"><input class=\"sk-toggleable__control sk-hidden--visually\" id=\"71a15c1d-2aac-4c04-8d0a-16acf67a2e04\" type=\"checkbox\" ><label class=\"sk-toggleable__label\" for=\"71a15c1d-2aac-4c04-8d0a-16acf67a2e04\">CateDropper</label><div class=\"sk-toggleable__content\"><pre>CateDropper(n=3)</pre></div></div></div><div class=\"sk-item sk-dashed-wrapped\"><div class=\"sk-label-container\"><div class=\"sk-label sk-toggleable\"><input class=\"sk-toggleable__control sk-hidden--visually\" id=\"b0c0ffb0-31c0-40c9-9415-72dc61aaa807\" type=\"checkbox\" ><label class=\"sk-toggleable__label\" for=\"b0c0ffb0-31c0-40c9-9415-72dc61aaa807\">preprocessor: ColumnTransformer</label><div class=\"sk-toggleable__content\"><pre>ColumnTransformer(transformers=[('nume',\n",
       "                                 Pipeline(steps=[('imputer',\n",
       "                                                  SimpleImputer(strategy='median'))]),\n",
       "                                 ['sqft', 'beds', 'baths', 'parkingSpots',\n",
       "                                  'yearBuilt', 'tax']),\n",
       "                                ('cate',\n",
       "                                 Pipeline(steps=[('imputer',\n",
       "                                                  SimpleImputer(strategy='most_frequent')),\n",
       "                                                 ('onehot',\n",
       "                                                  OneHotEncoder(handle_unknown='ignore'))]),\n",
       "                                 ['homeType', 'heating_system',\n",
       "                                  'cooling_system', 'architecture_style'])])</pre></div></div></div><div class=\"sk-parallel\"><div class=\"sk-parallel-item\"><div class=\"sk-item\"><div class=\"sk-label-container\"><div class=\"sk-label sk-toggleable\"><input class=\"sk-toggleable__control sk-hidden--visually\" id=\"e2232aa7-3589-49e1-b89a-a5711c510659\" type=\"checkbox\" ><label class=\"sk-toggleable__label\" for=\"e2232aa7-3589-49e1-b89a-a5711c510659\">nume</label><div class=\"sk-toggleable__content\"><pre>['sqft', 'beds', 'baths', 'parkingSpots', 'yearBuilt', 'tax']</pre></div></div></div><div class=\"sk-serial\"><div class=\"sk-item\"><div class=\"sk-serial\"><div class=\"sk-item\"><div class=\"sk-estimator sk-toggleable\"><input class=\"sk-toggleable__control sk-hidden--visually\" id=\"207f5209-27cc-45bc-b02d-216480d952dc\" type=\"checkbox\" ><label class=\"sk-toggleable__label\" for=\"207f5209-27cc-45bc-b02d-216480d952dc\">SimpleImputer</label><div class=\"sk-toggleable__content\"><pre>SimpleImputer(strategy='median')</pre></div></div></div></div></div></div></div></div><div class=\"sk-parallel-item\"><div class=\"sk-item\"><div class=\"sk-label-container\"><div class=\"sk-label sk-toggleable\"><input class=\"sk-toggleable__control sk-hidden--visually\" id=\"cbf2c7b6-e344-4d37-9c2b-174f78fa19c4\" type=\"checkbox\" ><label class=\"sk-toggleable__label\" for=\"cbf2c7b6-e344-4d37-9c2b-174f78fa19c4\">cate</label><div class=\"sk-toggleable__content\"><pre>['homeType', 'heating_system', 'cooling_system', 'architecture_style']</pre></div></div></div><div class=\"sk-serial\"><div class=\"sk-item\"><div class=\"sk-serial\"><div class=\"sk-item\"><div class=\"sk-estimator sk-toggleable\"><input class=\"sk-toggleable__control sk-hidden--visually\" id=\"11fdf14f-28e3-4e25-a7fa-526eae5fe8fa\" type=\"checkbox\" ><label class=\"sk-toggleable__label\" for=\"11fdf14f-28e3-4e25-a7fa-526eae5fe8fa\">SimpleImputer</label><div class=\"sk-toggleable__content\"><pre>SimpleImputer(strategy='most_frequent')</pre></div></div></div><div class=\"sk-item\"><div class=\"sk-estimator sk-toggleable\"><input class=\"sk-toggleable__control sk-hidden--visually\" id=\"01ce0f38-c54d-4a4d-b15b-7c22d9a0ad71\" type=\"checkbox\" ><label class=\"sk-toggleable__label\" for=\"01ce0f38-c54d-4a4d-b15b-7c22d9a0ad71\">OneHotEncoder</label><div class=\"sk-toggleable__content\"><pre>OneHotEncoder(handle_unknown='ignore')</pre></div></div></div></div></div></div></div></div></div></div><div class=\"sk-item\"><div class=\"sk-estimator sk-toggleable\"><input class=\"sk-toggleable__control sk-hidden--visually\" id=\"5f55a1bc-bbee-4c6a-9f1f-b0b5e5ecb2a9\" type=\"checkbox\" ><label class=\"sk-toggleable__label\" for=\"5f55a1bc-bbee-4c6a-9f1f-b0b5e5ecb2a9\">MinMaxScaler</label><div class=\"sk-toggleable__content\"><pre>MinMaxScaler()</pre></div></div></div></div></div><div class=\"sk-item\"><div class=\"sk-estimator sk-toggleable\"><input class=\"sk-toggleable__control sk-hidden--visually\" id=\"a3edf546-198e-49d4-9acc-6c59ba79f0ab\" type=\"checkbox\" ><label class=\"sk-toggleable__label\" for=\"a3edf546-198e-49d4-9acc-6c59ba79f0ab\">MLPRegressor</label><div class=\"sk-toggleable__content\"><pre>MLPRegressor(alpha=1e-05, hidden_layer_sizes=(50, 20), max_iter=3000,\n",
       "             solver='sgd')</pre></div></div></div></div></div></div></div>"
      ],
      "text/plain": [
       "Pipeline(steps=[('preprocess_pipeline',\n",
       "                 Pipeline(steps=[('numdropper', NumeDropper()),\n",
       "                                 ('catedropper', CateDropper(n=3)),\n",
       "                                 ('preprocessor',\n",
       "                                  ColumnTransformer(transformers=[('nume',\n",
       "                                                                   Pipeline(steps=[('imputer',\n",
       "                                                                                    SimpleImputer(strategy='median'))]),\n",
       "                                                                   ['sqft',\n",
       "                                                                    'beds',\n",
       "                                                                    'baths',\n",
       "                                                                    'parkingSpots',\n",
       "                                                                    'yearBuilt',\n",
       "                                                                    'tax']),\n",
       "                                                                  ('cate',\n",
       "                                                                   Pipeline(steps=[('imputer',\n",
       "                                                                                    SimpleImputer(strategy='most_frequent')),\n",
       "                                                                                   ('onehot',\n",
       "                                                                                    OneHotEncoder(handle_unknown='ignore'))]),\n",
       "                                                                   ['homeType',\n",
       "                                                                    'heating_system',\n",
       "                                                                    'cooling_system',\n",
       "                                                                    'architecture_style'])])),\n",
       "                                 ('minmax', MinMaxScaler())])),\n",
       "                ('neural_network',\n",
       "                 MLPRegressor(alpha=1e-05, hidden_layer_sizes=(50, 20),\n",
       "                              max_iter=3000, solver='sgd'))])"
      ]
     },
     "execution_count": 44,
     "metadata": {},
     "output_type": "execute_result"
    }
   ],
   "source": [
    "model = MLPRegressor(solver='sgd', \n",
    "                    activation = 'relu',\n",
    "                    hidden_layer_sizes=(30,10), \n",
    "                    random_state=None,\n",
    "                    max_iter = 3000,\n",
    "                    alpha=1e-5)\n",
    "full_pipeline = Pipeline(steps=[('preprocess_pipeline', preprocess_pipeline),\n",
    "                                 ('neural_network',model)])\n",
    "full_pipeline"
   ]
  },
  {
   "cell_type": "code",
   "execution_count": 45,
   "id": "5ce88c75",
   "metadata": {},
   "outputs": [],
   "source": [
    "max_ = train_y.max()\n",
    "min_ = train_y.min()\n",
    "scaleTrain_y=(train_y /min_)"
   ]
  },
  {
   "cell_type": "code",
   "execution_count": 46,
   "id": "9548aaf7",
   "metadata": {},
   "outputs": [],
   "source": [
    "train_errs = []\n",
    "val_errs = []\n",
    "alphas = [ 0.01 ,0.1, 1, 10]\n",
    "N = [2,3,4,5]\n",
    "\n",
    "best_val_err = float('inf')\n",
    "best_N = None\n",
    "best_alpha = None\n",
    "\n",
    "for alpha in alphas:\n",
    "    for n_ in N:\n",
    "        model = full_pipeline.set_params(preprocess_pipeline__catedropper__n = n_, neural_network__alpha=alpha).fit(train_X, scaleTrain_y)\n",
    "        train_error = compute_mse(train_y, model.predict(train_X)*min_)\n",
    "        val_error = compute_mse(val_y, model.predict(val_X)*min_)\n",
    "        \n",
    "        train_errs.append(train_error)\n",
    "        val_errs.append(val_error)\n",
    "        \n",
    "        if val_errs[-1] < best_val_err:\n",
    "            best_val_err = val_errs[-1]\n",
    "            best_alpha = alpha\n",
    "            best_N = n_"
   ]
  },
  {
   "cell_type": "code",
   "execution_count": 47,
   "id": "fdd15843",
   "metadata": {},
   "outputs": [],
   "source": [
    "model = full_pipeline.set_params(preprocess_pipeline__catedropper__n = best_N, neural_network__alpha=best_alpha)\n",
    "model = full_pipeline.fit(train_X, scaleTrain_y)"
   ]
  },
  {
   "cell_type": "code",
   "execution_count": 48,
   "id": "e66468be",
   "metadata": {},
   "outputs": [
    {
     "data": {
      "image/png": "[encoded data removed]",
      "text/plain": [
       "<Figure size 432x288 with 1 Axes>"
      ]
     },
     "metadata": {
      "needs_background": "light"
     },
     "output_type": "display_data"
    }
   ],
   "source": [
    "loss_values=model[\"neural_network\"].loss_curve_\n",
    "plt.plot(loss_values)\n",
    "plt.title('Loss curve', fontsize=14)\n",
    "plt.xlabel('iteration', fontsize=14)\n",
    "plt.ylabel('MSE error', fontsize=14)\n",
    "plt.show()"
   ]
  },
  {
   "cell_type": "code",
   "execution_count": 49,
   "id": "80af1c1d",
   "metadata": {},
   "outputs": [
    {
     "data": {
      "text/plain": [
       "0.3633192067536083"
      ]
     },
     "execution_count": 49,
     "metadata": {},
     "output_type": "execute_result"
    }
   ],
   "source": [
    "#tính độ lỗi trên tập test\n",
    "test_preds = model.predict(test_X)*min_\n",
    "\n",
    "D = test_preds \n",
    "# test_preds= np.round(test_preds,3)\n",
    "compute_rr(test_y, test_preds, baseline_preds)"
   ]
  },
  {
   "cell_type": "code",
   "execution_count": 50,
   "id": "d8604e71",
   "metadata": {},
   "outputs": [
    {
     "data": {
      "text/html": [
       "<div>\n",
       "<style scoped>\n",
       "    .dataframe tbody tr th:only-of-type {\n",
       "        vertical-align: middle;\n",
       "    }\n",
       "\n",
       "    .dataframe tbody tr th {\n",
       "        vertical-align: top;\n",
       "    }\n",
       "\n",
       "    .dataframe thead th {\n",
       "        text-align: right;\n",
       "    }\n",
       "</style>\n",
       "<table border=\"1\" class=\"dataframe\">\n",
       "  <thead>\n",
       "    <tr style=\"text-align: right;\">\n",
       "      <th></th>\n",
       "      <th>Actual</th>\n",
       "      <th>Predicted</th>\n",
       "    </tr>\n",
       "  </thead>\n",
       "  <tbody>\n",
       "    <tr>\n",
       "      <th>1321</th>\n",
       "      <td>249000</td>\n",
       "      <td>256267.182343</td>\n",
       "    </tr>\n",
       "    <tr>\n",
       "      <th>1462</th>\n",
       "      <td>1400000</td>\n",
       "      <td>439751.256043</td>\n",
       "    </tr>\n",
       "    <tr>\n",
       "      <th>243</th>\n",
       "      <td>450000</td>\n",
       "      <td>254651.184087</td>\n",
       "    </tr>\n",
       "    <tr>\n",
       "      <th>2176</th>\n",
       "      <td>355000</td>\n",
       "      <td>320823.844543</td>\n",
       "    </tr>\n",
       "    <tr>\n",
       "      <th>2101</th>\n",
       "      <td>155000</td>\n",
       "      <td>154405.002319</td>\n",
       "    </tr>\n",
       "    <tr>\n",
       "      <th>422</th>\n",
       "      <td>149900</td>\n",
       "      <td>213040.881021</td>\n",
       "    </tr>\n",
       "    <tr>\n",
       "      <th>2088</th>\n",
       "      <td>80000</td>\n",
       "      <td>110744.818581</td>\n",
       "    </tr>\n",
       "    <tr>\n",
       "      <th>2503</th>\n",
       "      <td>460000</td>\n",
       "      <td>409439.503211</td>\n",
       "    </tr>\n",
       "    <tr>\n",
       "      <th>1897</th>\n",
       "      <td>1697000</td>\n",
       "      <td>834938.759340</td>\n",
       "    </tr>\n",
       "    <tr>\n",
       "      <th>1208</th>\n",
       "      <td>349900</td>\n",
       "      <td>362560.876391</td>\n",
       "    </tr>\n",
       "  </tbody>\n",
       "</table>\n",
       "</div>"
      ],
      "text/plain": [
       "       Actual      Predicted\n",
       "1321   249000  256267.182343\n",
       "1462  1400000  439751.256043\n",
       "243    450000  254651.184087\n",
       "2176   355000  320823.844543\n",
       "2101   155000  154405.002319\n",
       "422    149900  213040.881021\n",
       "2088    80000  110744.818581\n",
       "2503   460000  409439.503211\n",
       "1897  1697000  834938.759340\n",
       "1208   349900  362560.876391"
      ]
     },
     "execution_count": 50,
     "metadata": {},
     "output_type": "execute_result"
    }
   ],
   "source": [
    "df = pd.DataFrame({'Actual': test_y, 'Predicted': test_preds})\n",
    "df.head(10)"
   ]
  },
  {
   "cell_type": "code",
   "execution_count": null,
   "id": "8237fd8d",
   "metadata": {},
   "outputs": [],
   "source": []
  }
 ],
 "metadata": {
  "kernelspec": {
   "display_name": "Python 3 (ipykernel)",
   "language": "python",
   "name": "python3"
  },
  "language_info": {
   "codemirror_mode": {
    "name": "ipython",
    "version": 3
   },
   "file_extension": ".py",
   "mimetype": "text/x-python",
   "name": "python",
   "nbconvert_exporter": "python",
   "pygments_lexer": "ipython3",
   "version": "3.8.8"
  },
  "toc": {
   "base_numbering": 1,
   "nav_menu": {},
   "number_sections": false,
   "sideBar": true,
   "skip_h1_title": false,
   "title_cell": "Table of Contents",
   "title_sidebar": "Contents",
   "toc_cell": false,
   "toc_position": {
    "height": "calc(100% - 180px)",
    "left": "10px",
    "top": "150px",
    "width": "242.1px"
   },
   "toc_section_display": true,
   "toc_window_display": true
  }
 },
 "nbformat": 4,
 "nbformat_minor": 5
}
