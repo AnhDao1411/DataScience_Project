{
 "cells": [
  {
   "cell_type": "markdown",
   "metadata": {},
   "source": [
    "## Import"
   ]
  },
  {
   "cell_type": "code",
   "execution_count": 1,
   "metadata": {},
   "outputs": [],
   "source": [
    "import matplotlib.pyplot as plt\n",
    "import seaborn as sns # seaborn là thư viện được xây trên matplotlib, \n",
    "                      # giúp việc visualization đỡ khổ hơn\n",
    "import pandas as pd\n",
    "import numpy as np\n",
    "\n",
    "from sklearn.model_selection import train_test_split\n",
    "from sklearn.preprocessing import OneHotEncoder, StandardScaler\n",
    "from sklearn.impute import SimpleImputer\n",
    "from sklearn.base import BaseEstimator, TransformerMixin\n",
    "from sklearn.pipeline import Pipeline, make_pipeline\n",
    "from sklearn.compose import ColumnTransformer, make_column_transformer\n",
    "from sklearn.neural_network import MLPClassifier, MLPRegressor\n",
    "from sklearn import set_config\n",
    "set_config(display='diagram') # Để trực quan hóa pipeline\n",
    "\n",
    "# You can also import other things ...\n",
    "# YOUR CODE HERE (OPTION)\n",
    "import csv\n",
    "from sklearn.linear_model import LinearRegression"
   ]
  },
  {
   "cell_type": "markdown",
   "metadata": {},
   "source": [
    "## Thu thập dữ liệu"
   ]
  },
  {
   "cell_type": "code",
   "execution_count": 2,
   "metadata": {
    "scrolled": false
   },
   "outputs": [
    {
     "data": {
      "text/html": [
       "<div>\n",
       "<style scoped>\n",
       "    .dataframe tbody tr th:only-of-type {\n",
       "        vertical-align: middle;\n",
       "    }\n",
       "\n",
       "    .dataframe tbody tr th {\n",
       "        vertical-align: top;\n",
       "    }\n",
       "\n",
       "    .dataframe thead th {\n",
       "        text-align: right;\n",
       "    }\n",
       "</style>\n",
       "<table border=\"1\" class=\"dataframe\">\n",
       "  <thead>\n",
       "    <tr style=\"text-align: right;\">\n",
       "      <th></th>\n",
       "      <th>sqft</th>\n",
       "      <th>homeType</th>\n",
       "      <th>beds</th>\n",
       "      <th>parkingSpots</th>\n",
       "      <th>lotSize</th>\n",
       "      <th>baths</th>\n",
       "      <th>listPrice</th>\n",
       "      <th>heating_system</th>\n",
       "      <th>cooling_system</th>\n",
       "      <th>view_type</th>\n",
       "      <th>architecture_style</th>\n",
       "      <th>yearBuilt</th>\n",
       "      <th>has_pool</th>\n",
       "      <th>city</th>\n",
       "      <th>address</th>\n",
       "      <th>tax</th>\n",
       "    </tr>\n",
       "  </thead>\n",
       "  <tbody>\n",
       "    <tr>\n",
       "      <th>0</th>\n",
       "      <td>1100.0</td>\n",
       "      <td>Single Family Residential</td>\n",
       "      <td>3</td>\n",
       "      <td>NaN</td>\n",
       "      <td>3781.0</td>\n",
       "      <td>2</td>\n",
       "      <td>235000</td>\n",
       "      <td>Forced Air (Natural Gas)</td>\n",
       "      <td>Central A/C</td>\n",
       "      <td>NaN</td>\n",
       "      <td>Other</td>\n",
       "      <td>1955.0</td>\n",
       "      <td>NaN</td>\n",
       "      <td>Chicago</td>\n",
       "      <td>3932 West 84th Street</td>\n",
       "      <td>2642.29</td>\n",
       "    </tr>\n",
       "    <tr>\n",
       "      <th>1</th>\n",
       "      <td>2200.0</td>\n",
       "      <td>Single Family Residential</td>\n",
       "      <td>4</td>\n",
       "      <td>2.0</td>\n",
       "      <td>4234.0</td>\n",
       "      <td>3</td>\n",
       "      <td>260000</td>\n",
       "      <td>Forced Air (Natural Gas)</td>\n",
       "      <td>Central A/C</td>\n",
       "      <td>NaN</td>\n",
       "      <td>Bungalow</td>\n",
       "      <td>1915.0</td>\n",
       "      <td>NaN</td>\n",
       "      <td>Chicago</td>\n",
       "      <td>1119 North Lockwood Avenue</td>\n",
       "      <td>2938.45</td>\n",
       "    </tr>\n",
       "    <tr>\n",
       "      <th>2</th>\n",
       "      <td>750.0</td>\n",
       "      <td>Condo/Coop</td>\n",
       "      <td>2</td>\n",
       "      <td>NaN</td>\n",
       "      <td>NaN</td>\n",
       "      <td>1</td>\n",
       "      <td>275000</td>\n",
       "      <td>Forced Air (Natural Gas)</td>\n",
       "      <td>Central A/C</td>\n",
       "      <td>NaN</td>\n",
       "      <td>Other</td>\n",
       "      <td>1926.0</td>\n",
       "      <td>NaN</td>\n",
       "      <td>Chicago</td>\n",
       "      <td>1100 North Paulina Street #1M</td>\n",
       "      <td>4722.00</td>\n",
       "    </tr>\n",
       "    <tr>\n",
       "      <th>3</th>\n",
       "      <td>1248.0</td>\n",
       "      <td>Single Family Residential</td>\n",
       "      <td>3</td>\n",
       "      <td>2.0</td>\n",
       "      <td>5279.0</td>\n",
       "      <td>2</td>\n",
       "      <td>309900</td>\n",
       "      <td>NaN</td>\n",
       "      <td>Central A/C</td>\n",
       "      <td>NaN</td>\n",
       "      <td>Ranch</td>\n",
       "      <td>1962.0</td>\n",
       "      <td>NaN</td>\n",
       "      <td>Chicago</td>\n",
       "      <td>4909 North Normandy Avenue</td>\n",
       "      <td>560.03</td>\n",
       "    </tr>\n",
       "    <tr>\n",
       "      <th>4</th>\n",
       "      <td>1337.0</td>\n",
       "      <td>Single Family Residential</td>\n",
       "      <td>3</td>\n",
       "      <td>2.0</td>\n",
       "      <td>NaN</td>\n",
       "      <td>2</td>\n",
       "      <td>324900</td>\n",
       "      <td>Forced Air (Natural Gas)</td>\n",
       "      <td>Central A/C</td>\n",
       "      <td>NaN</td>\n",
       "      <td>Georgian</td>\n",
       "      <td>1949.0</td>\n",
       "      <td>NaN</td>\n",
       "      <td>Chicago</td>\n",
       "      <td>10034 South Artesian Avenue</td>\n",
       "      <td>77.40</td>\n",
       "    </tr>\n",
       "    <tr>\n",
       "      <th>...</th>\n",
       "      <td>...</td>\n",
       "      <td>...</td>\n",
       "      <td>...</td>\n",
       "      <td>...</td>\n",
       "      <td>...</td>\n",
       "      <td>...</td>\n",
       "      <td>...</td>\n",
       "      <td>...</td>\n",
       "      <td>...</td>\n",
       "      <td>...</td>\n",
       "      <td>...</td>\n",
       "      <td>...</td>\n",
       "      <td>...</td>\n",
       "      <td>...</td>\n",
       "      <td>...</td>\n",
       "      <td>...</td>\n",
       "    </tr>\n",
       "    <tr>\n",
       "      <th>1160</th>\n",
       "      <td>762.0</td>\n",
       "      <td>Condo/Coop</td>\n",
       "      <td>1</td>\n",
       "      <td>1.0</td>\n",
       "      <td>NaN</td>\n",
       "      <td>1</td>\n",
       "      <td>129900</td>\n",
       "      <td>NaN</td>\n",
       "      <td>Central A/C</td>\n",
       "      <td>NaN</td>\n",
       "      <td>Other</td>\n",
       "      <td>1973.0</td>\n",
       "      <td>True</td>\n",
       "      <td>Chicago</td>\n",
       "      <td>655 West Irving Park Road #315</td>\n",
       "      <td>2283.97</td>\n",
       "    </tr>\n",
       "    <tr>\n",
       "      <th>1161</th>\n",
       "      <td>660.0</td>\n",
       "      <td>Condo/Coop</td>\n",
       "      <td>0</td>\n",
       "      <td>NaN</td>\n",
       "      <td>NaN</td>\n",
       "      <td>1</td>\n",
       "      <td>142500</td>\n",
       "      <td>NaN</td>\n",
       "      <td>Central A/C</td>\n",
       "      <td>NaN</td>\n",
       "      <td>Other</td>\n",
       "      <td>1910.0</td>\n",
       "      <td>NaN</td>\n",
       "      <td>Chicago</td>\n",
       "      <td>780 South Federal Street #1202</td>\n",
       "      <td>2755.93</td>\n",
       "    </tr>\n",
       "    <tr>\n",
       "      <th>1162</th>\n",
       "      <td>800.0</td>\n",
       "      <td>Condo/Coop</td>\n",
       "      <td>1</td>\n",
       "      <td>1.0</td>\n",
       "      <td>NaN</td>\n",
       "      <td>1</td>\n",
       "      <td>195000</td>\n",
       "      <td>NaN</td>\n",
       "      <td>Window Unit(s) A/C</td>\n",
       "      <td>NaN</td>\n",
       "      <td>Other</td>\n",
       "      <td>1985.0</td>\n",
       "      <td>NaN</td>\n",
       "      <td>Chicago</td>\n",
       "      <td>801 South Plymouth Court #804</td>\n",
       "      <td>3007.72</td>\n",
       "    </tr>\n",
       "    <tr>\n",
       "      <th>1163</th>\n",
       "      <td>800.0</td>\n",
       "      <td>Condo/Coop</td>\n",
       "      <td>1</td>\n",
       "      <td>1.0</td>\n",
       "      <td>NaN</td>\n",
       "      <td>1</td>\n",
       "      <td>199999</td>\n",
       "      <td>Forced Air (Natural Gas)</td>\n",
       "      <td>Central A/C</td>\n",
       "      <td>NaN</td>\n",
       "      <td>Other</td>\n",
       "      <td>1905.0</td>\n",
       "      <td>NaN</td>\n",
       "      <td>Chicago</td>\n",
       "      <td>1110 West LELAND Avenue #3A</td>\n",
       "      <td>2127.64</td>\n",
       "    </tr>\n",
       "    <tr>\n",
       "      <th>1164</th>\n",
       "      <td>750.0</td>\n",
       "      <td>Condo/Coop</td>\n",
       "      <td>1</td>\n",
       "      <td>1.0</td>\n",
       "      <td>NaN</td>\n",
       "      <td>1</td>\n",
       "      <td>135000</td>\n",
       "      <td>Forced Air (Natural Gas)</td>\n",
       "      <td>Central A/C</td>\n",
       "      <td>NaN</td>\n",
       "      <td>High Rise</td>\n",
       "      <td>1966.0</td>\n",
       "      <td>NaN</td>\n",
       "      <td>Chicago</td>\n",
       "      <td>720 West Gordon Terrace #12F</td>\n",
       "      <td>2552.81</td>\n",
       "    </tr>\n",
       "  </tbody>\n",
       "</table>\n",
       "<p>1165 rows × 16 columns</p>\n",
       "</div>"
      ],
      "text/plain": [
       "        sqft                   homeType  beds  parkingSpots  lotSize  baths  \\\n",
       "0     1100.0  Single Family Residential     3           NaN   3781.0      2   \n",
       "1     2200.0  Single Family Residential     4           2.0   4234.0      3   \n",
       "2      750.0                 Condo/Coop     2           NaN      NaN      1   \n",
       "3     1248.0  Single Family Residential     3           2.0   5279.0      2   \n",
       "4     1337.0  Single Family Residential     3           2.0      NaN      2   \n",
       "...      ...                        ...   ...           ...      ...    ...   \n",
       "1160   762.0                 Condo/Coop     1           1.0      NaN      1   \n",
       "1161   660.0                 Condo/Coop     0           NaN      NaN      1   \n",
       "1162   800.0                 Condo/Coop     1           1.0      NaN      1   \n",
       "1163   800.0                 Condo/Coop     1           1.0      NaN      1   \n",
       "1164   750.0                 Condo/Coop     1           1.0      NaN      1   \n",
       "\n",
       "      listPrice            heating_system      cooling_system  view_type  \\\n",
       "0        235000  Forced Air (Natural Gas)         Central A/C        NaN   \n",
       "1        260000  Forced Air (Natural Gas)         Central A/C        NaN   \n",
       "2        275000  Forced Air (Natural Gas)         Central A/C        NaN   \n",
       "3        309900                       NaN         Central A/C        NaN   \n",
       "4        324900  Forced Air (Natural Gas)         Central A/C        NaN   \n",
       "...         ...                       ...                 ...        ...   \n",
       "1160     129900                       NaN         Central A/C        NaN   \n",
       "1161     142500                       NaN         Central A/C        NaN   \n",
       "1162     195000                       NaN  Window Unit(s) A/C        NaN   \n",
       "1163     199999  Forced Air (Natural Gas)         Central A/C        NaN   \n",
       "1164     135000  Forced Air (Natural Gas)         Central A/C        NaN   \n",
       "\n",
       "     architecture_style  yearBuilt has_pool     city  \\\n",
       "0                 Other     1955.0      NaN  Chicago   \n",
       "1              Bungalow     1915.0      NaN  Chicago   \n",
       "2                 Other     1926.0      NaN  Chicago   \n",
       "3                 Ranch     1962.0      NaN  Chicago   \n",
       "4              Georgian     1949.0      NaN  Chicago   \n",
       "...                 ...        ...      ...      ...   \n",
       "1160              Other     1973.0     True  Chicago   \n",
       "1161              Other     1910.0      NaN  Chicago   \n",
       "1162              Other     1985.0      NaN  Chicago   \n",
       "1163              Other     1905.0      NaN  Chicago   \n",
       "1164          High Rise     1966.0      NaN  Chicago   \n",
       "\n",
       "                             address      tax  \n",
       "0              3932 West 84th Street  2642.29  \n",
       "1         1119 North Lockwood Avenue  2938.45  \n",
       "2      1100 North Paulina Street #1M  4722.00  \n",
       "3         4909 North Normandy Avenue   560.03  \n",
       "4        10034 South Artesian Avenue    77.40  \n",
       "...                              ...      ...  \n",
       "1160  655 West Irving Park Road #315  2283.97  \n",
       "1161  780 South Federal Street #1202  2755.93  \n",
       "1162   801 South Plymouth Court #804  3007.72  \n",
       "1163     1110 West LELAND Avenue #3A  2127.64  \n",
       "1164    720 West Gordon Terrace #12F  2552.81  \n",
       "\n",
       "[1165 rows x 16 columns]"
      ]
     },
     "execution_count": 2,
     "metadata": {},
     "output_type": "execute_result"
    }
   ],
   "source": [
    "# Đọc dữ liệu từ \"data.csv\"\n",
    "df = pd.read_csv('data.csv')\n",
    "df"
   ]
  },
  {
   "cell_type": "markdown",
   "metadata": {},
   "source": [
    "---"
   ]
  },
  {
   "cell_type": "markdown",
   "metadata": {},
   "source": [
    "## Khám phá dữ liệu (để làm rõ câu hỏi)"
   ]
  },
  {
   "cell_type": "markdown",
   "metadata": {},
   "source": [
    "### Số dòng và cột"
   ]
  },
  {
   "cell_type": "code",
   "execution_count": 3,
   "metadata": {},
   "outputs": [
    {
     "data": {
      "text/plain": [
       "(1165, 16)"
      ]
     },
     "execution_count": 3,
     "metadata": {},
     "output_type": "execute_result"
    }
   ],
   "source": [
    "df.shape"
   ]
  },
  {
   "cell_type": "markdown",
   "metadata": {},
   "source": [
    "### Ý nghĩa của từng dòng. Có dòng nào không phù hợp không?"
   ]
  },
  {
   "cell_type": "markdown",
   "metadata": {},
   "source": [
    "Mỗi dòng thể hiện 17 thông tin khác nhau của một căn nhà được giao bán. Do dữ liệu được lấy trong trang mô tả chi tiết của từng căn nhà nên sẽ không có dòng nào đặc biệt.\n",
    "\n",
    "Tuy nhiên người đăng có thể giao bán 1 căn nhà nhiều lần, các dòng có thể bị lặp lại."
   ]
  },
  {
   "cell_type": "markdown",
   "metadata": {},
   "source": [
    "### Kiểm tra số dòng bị lặp lại"
   ]
  },
  {
   "cell_type": "code",
   "execution_count": 4,
   "metadata": {},
   "outputs": [
    {
     "data": {
      "text/plain": [
       "1"
      ]
     },
     "execution_count": 4,
     "metadata": {},
     "output_type": "execute_result"
    }
   ],
   "source": [
    "df.duplicated().sum()"
   ]
  },
  {
   "cell_type": "markdown",
   "metadata": {},
   "source": [
    "$\\to$ Sẽ được đưa vào Pipeline tiền xử lí chung trong tệp huấn luyện"
   ]
  },
  {
   "cell_type": "markdown",
   "metadata": {},
   "source": [
    "### Ý nghĩa của mỗi cột"
   ]
  },
  {
   "cell_type": "code",
   "execution_count": 5,
   "metadata": {},
   "outputs": [
    {
     "data": {
      "text/html": [
       "<div>\n",
       "<style scoped>\n",
       "    .dataframe tbody tr th:only-of-type {\n",
       "        vertical-align: middle;\n",
       "    }\n",
       "\n",
       "    .dataframe tbody tr th {\n",
       "        vertical-align: top;\n",
       "    }\n",
       "\n",
       "    .dataframe thead th {\n",
       "        text-align: right;\n",
       "    }\n",
       "</style>\n",
       "<table border=\"1\" class=\"dataframe\">\n",
       "  <thead>\n",
       "    <tr style=\"text-align: right;\">\n",
       "      <th></th>\n",
       "      <th>sqft</th>\n",
       "      <th>homeType</th>\n",
       "      <th>beds</th>\n",
       "      <th>parkingSpots</th>\n",
       "      <th>lotSize</th>\n",
       "      <th>baths</th>\n",
       "      <th>listPrice</th>\n",
       "      <th>heating_system</th>\n",
       "      <th>cooling_system</th>\n",
       "      <th>view_type</th>\n",
       "      <th>architecture_style</th>\n",
       "      <th>yearBuilt</th>\n",
       "      <th>has_pool</th>\n",
       "      <th>city</th>\n",
       "      <th>address</th>\n",
       "      <th>tax</th>\n",
       "    </tr>\n",
       "  </thead>\n",
       "  <tbody>\n",
       "    <tr>\n",
       "      <th>0</th>\n",
       "      <td>1100.0</td>\n",
       "      <td>Single Family Residential</td>\n",
       "      <td>3</td>\n",
       "      <td>NaN</td>\n",
       "      <td>3781.0</td>\n",
       "      <td>2</td>\n",
       "      <td>235000</td>\n",
       "      <td>Forced Air (Natural Gas)</td>\n",
       "      <td>Central A/C</td>\n",
       "      <td>NaN</td>\n",
       "      <td>Other</td>\n",
       "      <td>1955.0</td>\n",
       "      <td>NaN</td>\n",
       "      <td>Chicago</td>\n",
       "      <td>3932 West 84th Street</td>\n",
       "      <td>2642.29</td>\n",
       "    </tr>\n",
       "  </tbody>\n",
       "</table>\n",
       "</div>"
      ],
      "text/plain": [
       "     sqft                   homeType  beds  parkingSpots  lotSize  baths  \\\n",
       "0  1100.0  Single Family Residential     3           NaN   3781.0      2   \n",
       "\n",
       "   listPrice            heating_system cooling_system  view_type  \\\n",
       "0     235000  Forced Air (Natural Gas)    Central A/C        NaN   \n",
       "\n",
       "  architecture_style  yearBuilt has_pool     city                address  \\\n",
       "0              Other     1955.0      NaN  Chicago  3932 West 84th Street   \n",
       "\n",
       "       tax  \n",
       "0  2642.29  "
      ]
     },
     "execution_count": 5,
     "metadata": {},
     "output_type": "execute_result"
    }
   ],
   "source": [
    "df.head(1)"
   ]
  },
  {
   "cell_type": "markdown",
   "metadata": {},
   "source": [
    "Your answer here\n",
    "- \"bedrooms\" : Số phòng ngủ\n",
    "- \"bathrooms\" : Số phòng vệ sinh\n",
    "- \"house_type\" : Loại hình nhà ở\n",
    "- \"length\" : Chiều dài căn nhà\n",
    "- \"width\" : Chiều rộng căn nhà\n",
    "- \"furniture\" : Tình trạng của nội thất\n",
    "- \"legal_paper\" : Giấy tờ pháp lý hiện có\n",
    "- \"address\" : Địa chỉ của căn nhà\n",
    "- \"direction\" : Hướng của cửa chính\n",
    "- \"price\" : Giá tiền hiện giao bán"
   ]
  },
  {
   "cell_type": "markdown",
   "metadata": {},
   "source": [
    "## Làm rõ câu hỏi"
   ]
  },
  {
   "cell_type": "markdown",
   "metadata": {},
   "source": [
    "**Câu hỏi đưa ra:** Với một căn nhà mơ ước, người khách hàng cần bao nhiêu tiền để có thể mua được ở bang Chicago của Mỹ ? \n",
    "\n",
    "Tạm thời các cột Input sẽ là thông tin liên quan tới căn nhà được giao bán, tổng cộng có 16 cột. Cột Output sẽ là giá bán của ngôi nhà. Nhóm sẽ sử dụng mô hình hồi quy để dự đoán giá nhà (cột Output) dựa trên thông tin của căn nhà (cột Input).\n",
    "\n",
    "Các cột Input có thể thay đổi ở các bước tiền xử lý sau.\n",
    "\n",
    "**Lợi ích khi trả lời**: \n",
    "\n",
    "Có thể đưa ra một mức giá sấp xỉ để những người trẻ có thể dựa vào đó để nổ lực phấn đấu mua được căn nhà mình muốn."
   ]
  },
  {
   "cell_type": "markdown",
   "metadata": {},
   "source": [
    "## Khám phá dữ liệu (để tách các tập)\n",
    "Để biết cách tách các tập thì ta cần khám phá thêm cột output một ít:\n",
    "- Cột này hiện có kiểu dữ liệu là gì? Trong bài toán hồi qui thì cột output bắt buộc phải có dạng số; nếu hiện chưa có dạng số (ví dụ, số nhưng được lưu dưới dạng chuỗi) thì ta cần chuyển sang dạng số rồi mới tách các tập.\n",
    "- Cột này có giá trị thiếu không? Nếu có giá trị thiếu thì ta sẽ bỏ các dòng mà output có giá trị thiếu rồi mới tách các tập \n",
    "- Cột numerical output xử lí như nào?"
   ]
  },
  {
   "cell_type": "code",
   "execution_count": 6,
   "metadata": {},
   "outputs": [
    {
     "data": {
      "text/plain": [
       "dtype('int64')"
      ]
     },
     "execution_count": 6,
     "metadata": {},
     "output_type": "execute_result"
    }
   ],
   "source": [
    "# Kiểu dữ liệu cột output\n",
    "df['listPrice'].dtype"
   ]
  },
  {
   "cell_type": "code",
   "execution_count": 7,
   "metadata": {},
   "outputs": [
    {
     "data": {
      "text/plain": [
       "0"
      ]
     },
     "execution_count": 7,
     "metadata": {},
     "output_type": "execute_result"
    }
   ],
   "source": [
    "# Có giá trị nào thiếu không?\n",
    "df['listPrice'].isna().sum()"
   ]
  },
  {
   "cell_type": "markdown",
   "metadata": {},
   "source": [
    "---"
   ]
  },
  {
   "cell_type": "markdown",
   "metadata": {},
   "source": [
    "## Tiền xử lý tách tập dữ liệu"
   ]
  },
  {
   "cell_type": "code",
   "execution_count": 8,
   "metadata": {},
   "outputs": [],
   "source": [
    "# Tách X và y\n",
    "y = df[\"listPrice\"] \n",
    "X = df.drop(\"listPrice\", axis=1)"
   ]
  },
  {
   "cell_type": "code",
   "execution_count": 9,
   "metadata": {},
   "outputs": [],
   "source": [
    "# Tách tập huấn luyện và tập validation và tập test theo tỉ lệ 60:20:20\n",
    "train_X, test_X, train_y, test_y = train_test_split(X, y, \n",
    "                                               test_size=0.2)"
   ]
  },
  {
   "cell_type": "code",
   "execution_count": 10,
   "metadata": {},
   "outputs": [],
   "source": [
    "train_X, val_X, train_y, val_y = train_test_split(train_X, train_y, \n",
    "                                               test_size=0.2)"
   ]
  },
  {
   "cell_type": "code",
   "execution_count": 11,
   "metadata": {},
   "outputs": [
    {
     "name": "stdout",
     "output_type": "stream",
     "text": [
      "train_X.shape:  (745, 15)\n",
      "train_y.shape:  (745,)\n",
      "val_X.shape:  (187, 15)\n",
      "val_y.shape:  (187,)\n",
      "test_X.shape:  (233, 15)\n",
      "test_y.shape:  (233,)\n"
     ]
    }
   ],
   "source": [
    "print(\"train_X.shape: \", train_X.shape)\n",
    "print(\"train_y.shape: \", train_y.shape)\n",
    "\n",
    "print(\"val_X.shape: \", val_X.shape)\n",
    "print(\"val_y.shape: \", val_y.shape)\n",
    "\n",
    "print(\"test_X.shape: \", test_X.shape)\n",
    "print(\"test_y.shape: \", test_y.shape)"
   ]
  },
  {
   "cell_type": "markdown",
   "metadata": {},
   "source": [
    "---"
   ]
  },
  {
   "cell_type": "markdown",
   "metadata": {},
   "source": [
    "## Khám phá dữ liệu (trên tập huấn luyện)"
   ]
  },
  {
   "cell_type": "markdown",
   "metadata": {},
   "source": [
    "### Kiểu dữ liệu từng cột. Có cột nào chưa phù hợp?"
   ]
  },
  {
   "cell_type": "code",
   "execution_count": 12,
   "metadata": {},
   "outputs": [
    {
     "data": {
      "text/plain": [
       "sqft                  float64\n",
       "homeType               object\n",
       "beds                    int64\n",
       "parkingSpots          float64\n",
       "lotSize               float64\n",
       "baths                   int64\n",
       "heating_system         object\n",
       "cooling_system         object\n",
       "view_type             float64\n",
       "architecture_style     object\n",
       "yearBuilt             float64\n",
       "has_pool               object\n",
       "city                   object\n",
       "address                object\n",
       "tax                   float64\n",
       "dtype: object"
      ]
     },
     "execution_count": 12,
     "metadata": {},
     "output_type": "execute_result"
    }
   ],
   "source": [
    "train_X.dtypes"
   ]
  },
  {
   "cell_type": "markdown",
   "metadata": {},
   "source": [
    "### Các cột dạng numerical phân bố như thế nào?"
   ]
  },
  {
   "cell_type": "code",
   "execution_count": 13,
   "metadata": {},
   "outputs": [
    {
     "data": {
      "text/plain": [
       "sqft            float64\n",
       "beds              int64\n",
       "parkingSpots    float64\n",
       "lotSize         float64\n",
       "baths             int64\n",
       "view_type       float64\n",
       "yearBuilt       float64\n",
       "tax             float64\n",
       "dtype: object"
      ]
     },
     "execution_count": 13,
     "metadata": {},
     "output_type": "execute_result"
    }
   ],
   "source": [
    "train_X.dtypes[train_X.dtypes != object]"
   ]
  },
  {
   "cell_type": "code",
   "execution_count": 14,
   "metadata": {},
   "outputs": [
    {
     "data": {
      "text/html": [
       "<div>\n",
       "<style scoped>\n",
       "    .dataframe tbody tr th:only-of-type {\n",
       "        vertical-align: middle;\n",
       "    }\n",
       "\n",
       "    .dataframe tbody tr th {\n",
       "        vertical-align: top;\n",
       "    }\n",
       "\n",
       "    .dataframe thead th {\n",
       "        text-align: right;\n",
       "    }\n",
       "</style>\n",
       "<table border=\"1\" class=\"dataframe\">\n",
       "  <thead>\n",
       "    <tr style=\"text-align: right;\">\n",
       "      <th></th>\n",
       "      <th>sqft</th>\n",
       "      <th>beds</th>\n",
       "      <th>parkingSpots</th>\n",
       "      <th>lotSize</th>\n",
       "      <th>baths</th>\n",
       "      <th>view_type</th>\n",
       "      <th>yearBuilt</th>\n",
       "      <th>tax</th>\n",
       "    </tr>\n",
       "  </thead>\n",
       "  <tbody>\n",
       "    <tr>\n",
       "      <th>missing_percentage</th>\n",
       "      <td>20.5</td>\n",
       "      <td>0.0</td>\n",
       "      <td>20.1</td>\n",
       "      <td>42.7</td>\n",
       "      <td>0.0</td>\n",
       "      <td>100.0</td>\n",
       "      <td>9.8</td>\n",
       "      <td>3.50</td>\n",
       "    </tr>\n",
       "    <tr>\n",
       "      <th>min</th>\n",
       "      <td>470.0</td>\n",
       "      <td>0.0</td>\n",
       "      <td>0.0</td>\n",
       "      <td>0.0</td>\n",
       "      <td>1.0</td>\n",
       "      <td>NaN</td>\n",
       "      <td>1868.0</td>\n",
       "      <td>77.40</td>\n",
       "    </tr>\n",
       "    <tr>\n",
       "      <th>median</th>\n",
       "      <td>1300.0</td>\n",
       "      <td>3.0</td>\n",
       "      <td>2.0</td>\n",
       "      <td>3781.0</td>\n",
       "      <td>2.0</td>\n",
       "      <td>NaN</td>\n",
       "      <td>1952.0</td>\n",
       "      <td>3342.00</td>\n",
       "    </tr>\n",
       "    <tr>\n",
       "      <th>max</th>\n",
       "      <td>7600.0</td>\n",
       "      <td>4.0</td>\n",
       "      <td>100.0</td>\n",
       "      <td>5225894.0</td>\n",
       "      <td>5.0</td>\n",
       "      <td>NaN</td>\n",
       "      <td>2021.0</td>\n",
       "      <td>86621.36</td>\n",
       "    </tr>\n",
       "  </tbody>\n",
       "</table>\n",
       "</div>"
      ],
      "text/plain": [
       "                      sqft  beds  parkingSpots    lotSize  baths  view_type  \\\n",
       "missing_percentage    20.5   0.0          20.1       42.7    0.0      100.0   \n",
       "min                  470.0   0.0           0.0        0.0    1.0        NaN   \n",
       "median              1300.0   3.0           2.0     3781.0    2.0        NaN   \n",
       "max                 7600.0   4.0         100.0  5225894.0    5.0        NaN   \n",
       "\n",
       "                    yearBuilt       tax  \n",
       "missing_percentage        9.8      3.50  \n",
       "min                    1868.0     77.40  \n",
       "median                 1952.0   3342.00  \n",
       "max                    2021.0  86621.36  "
      ]
     },
     "execution_count": 14,
     "metadata": {},
     "output_type": "execute_result"
    }
   ],
   "source": [
    "num_cols = ['sqft',\"beds\",\"parkingSpots\",\"lotSize\",\"baths\",\"view_type\",\"yearBuilt\",\"tax\"]\n",
    "df = train_X[num_cols]\n",
    "def missing_percentage(c):\n",
    "    return (c.isna().mean() * 100).round(1)\n",
    "def median(c):\n",
    "    return c.quantile(0.5).round(1)\n",
    "df.agg([missing_percentage, 'min', median, 'max'])"
   ]
  },
  {
   "cell_type": "markdown",
   "metadata": {},
   "source": [
    "### Các cột dạng categorical phân bố như thế nào?"
   ]
  },
  {
   "cell_type": "code",
   "execution_count": 15,
   "metadata": {},
   "outputs": [
    {
     "data": {
      "text/plain": [
       "homeType              object\n",
       "heating_system        object\n",
       "cooling_system        object\n",
       "architecture_style    object\n",
       "has_pool              object\n",
       "city                  object\n",
       "address               object\n",
       "dtype: object"
      ]
     },
     "execution_count": 15,
     "metadata": {},
     "output_type": "execute_result"
    }
   ],
   "source": [
    "train_X.dtypes[train_X.dtypes == object]"
   ]
  },
  {
   "cell_type": "code",
   "execution_count": 16,
   "metadata": {
    "scrolled": true
   },
   "outputs": [
    {
     "data": {
      "text/html": [
       "<div>\n",
       "<style scoped>\n",
       "    .dataframe tbody tr th:only-of-type {\n",
       "        vertical-align: middle;\n",
       "    }\n",
       "\n",
       "    .dataframe tbody tr th {\n",
       "        vertical-align: top;\n",
       "    }\n",
       "\n",
       "    .dataframe thead th {\n",
       "        text-align: right;\n",
       "    }\n",
       "</style>\n",
       "<table border=\"1\" class=\"dataframe\">\n",
       "  <thead>\n",
       "    <tr style=\"text-align: right;\">\n",
       "      <th></th>\n",
       "      <th>homeType</th>\n",
       "      <th>city</th>\n",
       "      <th>cooling_system</th>\n",
       "      <th>has_pool</th>\n",
       "      <th>heating_system</th>\n",
       "      <th>architecture_style</th>\n",
       "      <th>address</th>\n",
       "    </tr>\n",
       "  </thead>\n",
       "  <tbody>\n",
       "    <tr>\n",
       "      <th>missing_percentage</th>\n",
       "      <td>0</td>\n",
       "      <td>0</td>\n",
       "      <td>0.8</td>\n",
       "      <td>98</td>\n",
       "      <td>28.5</td>\n",
       "      <td>0</td>\n",
       "      <td>0</td>\n",
       "    </tr>\n",
       "    <tr>\n",
       "      <th>num_values</th>\n",
       "      <td>4</td>\n",
       "      <td>1</td>\n",
       "      <td>4</td>\n",
       "      <td>1</td>\n",
       "      <td>21</td>\n",
       "      <td>16</td>\n",
       "      <td>745</td>\n",
       "    </tr>\n",
       "    <tr>\n",
       "      <th>value_percentages</th>\n",
       "      <td>{'Single Family Residential': 62.6, 'Condo/Coop': 36.8, 'Townhouse': 0.5, 'Other': 0.1}</td>\n",
       "      <td>{'Chicago': 100.0}</td>\n",
       "      <td>{'Central A/C': 74.2, 'None': 13.4, 'Window Unit(s) A/C': 12.3, 'Partial': 0.1}</td>\n",
       "      <td>{True: 100.0}</td>\n",
       "      <td>{'Forced Air (Natural Gas)': 60.4, 'Fireplace (Natural Gas)': 9.8, 'Forced Air': 7.3, 'Hot Water': 3.6, 'Baseboard': 3.2, 'Baseboard (Natural Gas)': 2.8, 'Hot Water (Natural Gas)': 2.4, 'Radiator'...</td>\n",
       "      <td>{'Other': 62.8, 'Bungalow': 9.8, 'Ranch': 7.7, 'High Rise': 5.6, 'Loft': 2.4, 'Cape Cod': 2.3, 'Split Level': 1.6, 'Georgian': 1.6, 'Contemporary': 1.3, 'Cottage': 1.3, 'English': 1.2, 'Victorian'...</td>\n",
       "      <td>{'1437 North Artesian Avenue #1': 0.1, '10756 South Church Street': 0.1, '10728 South Hale Avenue': 0.1, '4812 South Kostner Avenue': 0.1, '3620 West Diversey Avenue #1A': 0.1, '100 East Walton St...</td>\n",
       "    </tr>\n",
       "  </tbody>\n",
       "</table>\n",
       "</div>"
      ],
      "text/plain": [
       "                                                                                                   homeType  \\\n",
       "missing_percentage                                                                                        0   \n",
       "num_values                                                                                                4   \n",
       "value_percentages   {'Single Family Residential': 62.6, 'Condo/Coop': 36.8, 'Townhouse': 0.5, 'Other': 0.1}   \n",
       "\n",
       "                                  city  \\\n",
       "missing_percentage                   0   \n",
       "num_values                           1   \n",
       "value_percentages   {'Chicago': 100.0}   \n",
       "\n",
       "                                                                                     cooling_system  \\\n",
       "missing_percentage                                                                              0.8   \n",
       "num_values                                                                                        4   \n",
       "value_percentages   {'Central A/C': 74.2, 'None': 13.4, 'Window Unit(s) A/C': 12.3, 'Partial': 0.1}   \n",
       "\n",
       "                         has_pool  \\\n",
       "missing_percentage             98   \n",
       "num_values                      1   \n",
       "value_percentages   {True: 100.0}   \n",
       "\n",
       "                                                                                                                                                                                                             heating_system  \\\n",
       "missing_percentage                                                                                                                                                                                                     28.5   \n",
       "num_values                                                                                                                                                                                                               21   \n",
       "value_percentages   {'Forced Air (Natural Gas)': 60.4, 'Fireplace (Natural Gas)': 9.8, 'Forced Air': 7.3, 'Hot Water': 3.6, 'Baseboard': 3.2, 'Baseboard (Natural Gas)': 2.8, 'Hot Water (Natural Gas)': 2.4, 'Radiator'...   \n",
       "\n",
       "                                                                                                                                                                                                         architecture_style  \\\n",
       "missing_percentage                                                                                                                                                                                                        0   \n",
       "num_values                                                                                                                                                                                                               16   \n",
       "value_percentages   {'Other': 62.8, 'Bungalow': 9.8, 'Ranch': 7.7, 'High Rise': 5.6, 'Loft': 2.4, 'Cape Cod': 2.3, 'Split Level': 1.6, 'Georgian': 1.6, 'Contemporary': 1.3, 'Cottage': 1.3, 'English': 1.2, 'Victorian'...   \n",
       "\n",
       "                                                                                                                                                                                                                    address  \n",
       "missing_percentage                                                                                                                                                                                                        0  \n",
       "num_values                                                                                                                                                                                                              745  \n",
       "value_percentages   {'1437 North Artesian Avenue #1': 0.1, '10756 South Church Street': 0.1, '10728 South Hale Avenue': 0.1, '4812 South Kostner Avenue': 0.1, '3620 West Diversey Avenue #1A': 0.1, '100 East Walton St...  "
      ]
     },
     "execution_count": 16,
     "metadata": {},
     "output_type": "execute_result"
    }
   ],
   "source": [
    "cate_cols = list(set(train_X.columns) - set(num_cols))\n",
    "cate_df = train_X[cate_cols]\n",
    "pd.set_option('display.max_colwidth', 200)\n",
    "def num_values(df):\n",
    "    return df.nunique()\n",
    "def value_percentages(c):\n",
    "    return dict((c.value_counts(normalize=True) * 100).round(1))\n",
    "cate_df.agg([missing_percentage, num_values, value_percentages])"
   ]
  },
  {
   "cell_type": "markdown",
   "metadata": {},
   "source": [
    "## Tiền xử lý tập huấn luyện"
   ]
  },
  {
   "cell_type": "markdown",
   "metadata": {},
   "source": [
    "### Cột dạng numerical"
   ]
  },
  {
   "cell_type": "markdown",
   "metadata": {},
   "source": [
    "- Các cột có missing_percentage lớn hơn 40% sẽ được loại bỏ: lotSize, view_type\n",
    "- TH1: điền các giá trị thiếu là median "
   ]
  },
  {
   "cell_type": "code",
   "execution_count": 17,
   "metadata": {},
   "outputs": [],
   "source": [
    "class NumeDropper(BaseEstimator, TransformerMixin):\n",
    "    def fit(self, X, y=None):\n",
    "        return self\n",
    "    def transform(self, X, y=None):\n",
    "        self.newX_df = X.copy()\n",
    "        # bỏ cột      \n",
    "        self.newX_df=self.newX_df.drop(columns=[\"lotSize\",\"view_type\"])\n",
    "        return self.newX_df\n",
    "    \n",
    "# col_NumDropper = NumeDropper()\n",
    "# train_X_df = col_NumDropper.transform(train_X)\n",
    "# train_X_df.head()"
   ]
  },
  {
   "cell_type": "markdown",
   "metadata": {},
   "source": [
    "### Cột dạng categorical"
   ]
  },
  {
   "cell_type": "markdown",
   "metadata": {},
   "source": [
    "- Các cột có missing_percentage lớn hơn 40% sẽ được loại bỏ: has_pool\n",
    "- Điền các giá trị thiếu bằng most-frequent\n",
    "- Address tách tên đường \n",
    "- Các cột chỉ có 1 giá trị sẽ được loại bỏ: city\n",
    "- heating_system, home_type, architecture_type, cooling_system, address sau khi tách sẽ được chuyển thành dạng one-hot"
   ]
  },
  {
   "cell_type": "code",
   "execution_count": 18,
   "metadata": {},
   "outputs": [
    {
     "data": {
      "text/html": [
       "<div>\n",
       "<style scoped>\n",
       "    .dataframe tbody tr th:only-of-type {\n",
       "        vertical-align: middle;\n",
       "    }\n",
       "\n",
       "    .dataframe tbody tr th {\n",
       "        vertical-align: top;\n",
       "    }\n",
       "\n",
       "    .dataframe thead th {\n",
       "        text-align: right;\n",
       "    }\n",
       "</style>\n",
       "<table border=\"1\" class=\"dataframe\">\n",
       "  <thead>\n",
       "    <tr style=\"text-align: right;\">\n",
       "      <th></th>\n",
       "      <th>Street</th>\n",
       "    </tr>\n",
       "  </thead>\n",
       "  <tbody>\n",
       "    <tr>\n",
       "      <th>num_values</th>\n",
       "      <td>507</td>\n",
       "    </tr>\n",
       "    <tr>\n",
       "      <th>value_percentages</th>\n",
       "      <td>{'South Michigan Avenue': 0.9, 'North Sheridan Road': 0.9, 'South Racine Avenue': 0.8, 'South State Street': 0.8, 'East Chestnut Street': 0.7, 'North Paulina Street': 0.7, 'South Eberhart Avenue':...</td>\n",
       "    </tr>\n",
       "  </tbody>\n",
       "</table>\n",
       "</div>"
      ],
      "text/plain": [
       "                                                                                                                                                                                                                    Street\n",
       "num_values                                                                                                                                                                                                             507\n",
       "value_percentages  {'South Michigan Avenue': 0.9, 'North Sheridan Road': 0.9, 'South Racine Avenue': 0.8, 'South State Street': 0.8, 'East Chestnut Street': 0.7, 'North Paulina Street': 0.7, 'South Eberhart Avenue':..."
      ]
     },
     "execution_count": 18,
     "metadata": {},
     "output_type": "execute_result"
    }
   ],
   "source": [
    "street_col = train_X[\"address\"].str.extract('(?P<number>\\d+)(?P<Street>.*)')\n",
    "street_col = street_col.Street.str.split(\"#\").str[0]\n",
    "street_col = street_col.str.strip()\n",
    "street_col.agg([num_values, value_percentages]).to_frame()"
   ]
  },
  {
   "cell_type": "markdown",
   "metadata": {},
   "source": [
    "Có nhiều giá trị rời rạc trong cột \"street_col\", và phần trăm đóng góp từng giá trị quá nhỏ \\\n",
    "$\\to$ Bỏ cột \"address\""
   ]
  },
  {
   "cell_type": "code",
   "execution_count": 19,
   "metadata": {},
   "outputs": [],
   "source": [
    "def fit_col(X, num_top_titles):\n",
    "    self = X.value_counts()\n",
    "    index = list(self.index)\n",
    "    self = index[:max(1, min(num_top_titles, len(index)))]\n",
    "    return self\n",
    "\n",
    "def transform_col(self, X):\n",
    "    return np.where(X.isin(self),X,\"Others\")"
   ]
  },
  {
   "cell_type": "code",
   "execution_count": 20,
   "metadata": {},
   "outputs": [],
   "source": [
    "class CateDropper(BaseEstimator, TransformerMixin):\n",
    "    def __init__(self, num_top_titles=1):\n",
    "        self.num_top_titles = num_top_titles\n",
    "        self.top_cols = [\"heating_system\", \"homeType\", \"architecture_style\", \"cooling_system\"]\n",
    "    def fit(self, X, y=None):\n",
    "        self.heat_counts = fit_col(X.heating_system, self.num_top_titles )\n",
    "        self.homeType = fit_col(X.homeType,self.num_top_titles)\n",
    "        self.architecture_style = fit_col(X.architecture_style,self.num_top_titles)\n",
    "        self.cooling_system = fit_col(X.cooling_system,self.num_top_titles)\n",
    "        \n",
    "        return self\n",
    "    def transform(self, X, y=None):\n",
    "        self.newX_df = X.copy()\n",
    "        \n",
    "        self.newX_df[\"heating_system\"] = transform_col(self.heat_counts, self.newX_df[\"heating_system\"])\n",
    "        self.newX_df[\"homeType\"] = transform_col(self.homeType, self.newX_df[\"homeType\"])\n",
    "        self.newX_df[\"architecture_style\"] = transform_col(self.architecture_style, self.newX_df[\"architecture_style\"])\n",
    "        self.newX_df[\"cooling_system\"] = transform_col(self.cooling_system, self.newX_df[\"cooling_system\"])\n",
    "\n",
    "        # bỏ cột       \n",
    "        self.newX_df=self.newX_df.drop(columns=[\"has_pool\",\"city\",\"address\"])\n",
    "        return self.newX_df"
   ]
  },
  {
   "cell_type": "code",
   "execution_count": 21,
   "metadata": {},
   "outputs": [],
   "source": [
    "# col_adderdropper = CateDropper(num_top_titles=4)\n",
    "# col_adderdropper.fit(train_X)\n",
    "# fewer_cols_train_X_df = col_adderdropper.transform(train_X)\n",
    "# fewer_cols_train_X_df"
   ]
  },
  {
   "cell_type": "markdown",
   "metadata": {},
   "source": [
    "Toàn bộ quá trình xử lý sẽ được thực hiện như sau:\n",
    "- Xử lý các cột dạng số: bỏ đi lotSize và view_type, điền các giá trị thiếu bằng median\n",
    "- Xử lý các cột dạng categorical: bỏ đi has_pool, address, city. Điền các giá trị thiếu bằng most-frequent, lấy top N giá trị xuất hiện nhiều nhất của các cột còn lại, chuyển thành Onehot"
   ]
  },
  {
   "cell_type": "code",
   "execution_count": 22,
   "metadata": {},
   "outputs": [
    {
     "data": {
      "text/html": [
       "<style>div.sk-top-container {color: black;background-color: white;}div.sk-toggleable {background-color: white;}label.sk-toggleable__label {cursor: pointer;display: block;width: 100%;margin-bottom: 0;padding: 0.2em 0.3em;box-sizing: border-box;text-align: center;}div.sk-toggleable__content {max-height: 0;max-width: 0;overflow: hidden;text-align: left;background-color: #f0f8ff;}div.sk-toggleable__content pre {margin: 0.2em;color: black;border-radius: 0.25em;background-color: #f0f8ff;}input.sk-toggleable__control:checked~div.sk-toggleable__content {max-height: 200px;max-width: 100%;overflow: auto;}div.sk-estimator input.sk-toggleable__control:checked~label.sk-toggleable__label {background-color: #d4ebff;}div.sk-label input.sk-toggleable__control:checked~label.sk-toggleable__label {background-color: #d4ebff;}input.sk-hidden--visually {border: 0;clip: rect(1px 1px 1px 1px);clip: rect(1px, 1px, 1px, 1px);height: 1px;margin: -1px;overflow: hidden;padding: 0;position: absolute;width: 1px;}div.sk-estimator {font-family: monospace;background-color: #f0f8ff;margin: 0.25em 0.25em;border: 1px dotted black;border-radius: 0.25em;box-sizing: border-box;}div.sk-estimator:hover {background-color: #d4ebff;}div.sk-parallel-item::after {content: \"\";width: 100%;border-bottom: 1px solid gray;flex-grow: 1;}div.sk-label:hover label.sk-toggleable__label {background-color: #d4ebff;}div.sk-serial::before {content: \"\";position: absolute;border-left: 1px solid gray;box-sizing: border-box;top: 2em;bottom: 0;left: 50%;}div.sk-serial {display: flex;flex-direction: column;align-items: center;background-color: white;}div.sk-item {z-index: 1;}div.sk-parallel {display: flex;align-items: stretch;justify-content: center;background-color: white;}div.sk-parallel-item {display: flex;flex-direction: column;position: relative;background-color: white;}div.sk-parallel-item:first-child::after {align-self: flex-end;width: 50%;}div.sk-parallel-item:last-child::after {align-self: flex-start;width: 50%;}div.sk-parallel-item:only-child::after {width: 0;}div.sk-dashed-wrapped {border: 1px dashed gray;margin: 0.2em;box-sizing: border-box;padding-bottom: 0.1em;background-color: white;position: relative;}div.sk-label label {font-family: monospace;font-weight: bold;background-color: white;display: inline-block;line-height: 1.2em;}div.sk-label-container {position: relative;z-index: 2;text-align: center;}div.sk-container {display: inline-block;position: relative;}</style><div class=\"sk-top-container\"><div class=\"sk-container\"><div class=\"sk-item sk-dashed-wrapped\"><div class=\"sk-label-container\"><div class=\"sk-label sk-toggleable\"><input class=\"sk-toggleable__control sk-hidden--visually\" id=\"7974db4f-320c-4c47-942e-7bc14e9eaef1\" type=\"checkbox\" ><label class=\"sk-toggleable__label\" for=\"7974db4f-320c-4c47-942e-7bc14e9eaef1\">Pipeline</label><div class=\"sk-toggleable__content\"><pre>Pipeline(steps=[('numdropper', NumeDropper()),\n",
       "                ('catedropper', CateDropper(num_top_titles=4)),\n",
       "                ('preprocessor',\n",
       "                 ColumnTransformer(transformers=[('num',\n",
       "                                                  Pipeline(steps=[('imputer',\n",
       "                                                                   SimpleImputer(strategy='median'))]),\n",
       "                                                  ['sqft', 'beds',\n",
       "                                                   'parkingSpots', 'baths',\n",
       "                                                   'yearBuilt', 'tax']),\n",
       "                                                 ('unoder',\n",
       "                                                  Pipeline(steps=[('imputer',\n",
       "                                                                   SimpleImputer(strategy='most_frequent')),\n",
       "                                                                  ('onehot',\n",
       "                                                                   OneHotEncoder(handle_unknown='ignore'))]),\n",
       "                                                  ['homeType', 'heating_system',\n",
       "                                                   'cooling_system',\n",
       "                                                   'architecture_style'])]))])</pre></div></div></div><div class=\"sk-serial\"><div class=\"sk-item\"><div class=\"sk-estimator sk-toggleable\"><input class=\"sk-toggleable__control sk-hidden--visually\" id=\"0b56dce0-de41-4618-8e6d-ecd96b464f72\" type=\"checkbox\" ><label class=\"sk-toggleable__label\" for=\"0b56dce0-de41-4618-8e6d-ecd96b464f72\">NumeDropper</label><div class=\"sk-toggleable__content\"><pre>NumeDropper()</pre></div></div></div><div class=\"sk-item\"><div class=\"sk-estimator sk-toggleable\"><input class=\"sk-toggleable__control sk-hidden--visually\" id=\"a14afece-302b-45a4-8347-f2e5064d3215\" type=\"checkbox\" ><label class=\"sk-toggleable__label\" for=\"a14afece-302b-45a4-8347-f2e5064d3215\">CateDropper</label><div class=\"sk-toggleable__content\"><pre>CateDropper(num_top_titles=4)</pre></div></div></div><div class=\"sk-item sk-dashed-wrapped\"><div class=\"sk-label-container\"><div class=\"sk-label sk-toggleable\"><input class=\"sk-toggleable__control sk-hidden--visually\" id=\"baf58da2-9ca9-41b1-8e8a-fb0a38181e58\" type=\"checkbox\" ><label class=\"sk-toggleable__label\" for=\"baf58da2-9ca9-41b1-8e8a-fb0a38181e58\">preprocessor: ColumnTransformer</label><div class=\"sk-toggleable__content\"><pre>ColumnTransformer(transformers=[('num',\n",
       "                                 Pipeline(steps=[('imputer',\n",
       "                                                  SimpleImputer(strategy='median'))]),\n",
       "                                 ['sqft', 'beds', 'parkingSpots', 'baths',\n",
       "                                  'yearBuilt', 'tax']),\n",
       "                                ('unoder',\n",
       "                                 Pipeline(steps=[('imputer',\n",
       "                                                  SimpleImputer(strategy='most_frequent')),\n",
       "                                                 ('onehot',\n",
       "                                                  OneHotEncoder(handle_unknown='ignore'))]),\n",
       "                                 ['homeType', 'heating_system',\n",
       "                                  'cooling_system', 'architecture_style'])])</pre></div></div></div><div class=\"sk-parallel\"><div class=\"sk-parallel-item\"><div class=\"sk-item\"><div class=\"sk-label-container\"><div class=\"sk-label sk-toggleable\"><input class=\"sk-toggleable__control sk-hidden--visually\" id=\"d273e0e0-d4b6-46bc-9901-19a8638d2bab\" type=\"checkbox\" ><label class=\"sk-toggleable__label\" for=\"d273e0e0-d4b6-46bc-9901-19a8638d2bab\">num</label><div class=\"sk-toggleable__content\"><pre>['sqft', 'beds', 'parkingSpots', 'baths', 'yearBuilt', 'tax']</pre></div></div></div><div class=\"sk-serial\"><div class=\"sk-item\"><div class=\"sk-serial\"><div class=\"sk-item\"><div class=\"sk-estimator sk-toggleable\"><input class=\"sk-toggleable__control sk-hidden--visually\" id=\"b04f75b1-f9ad-447a-bf83-1d06fe55c416\" type=\"checkbox\" ><label class=\"sk-toggleable__label\" for=\"b04f75b1-f9ad-447a-bf83-1d06fe55c416\">SimpleImputer</label><div class=\"sk-toggleable__content\"><pre>SimpleImputer(strategy='median')</pre></div></div></div></div></div></div></div></div><div class=\"sk-parallel-item\"><div class=\"sk-item\"><div class=\"sk-label-container\"><div class=\"sk-label sk-toggleable\"><input class=\"sk-toggleable__control sk-hidden--visually\" id=\"650e5280-f699-4ac6-b318-84744db05e54\" type=\"checkbox\" ><label class=\"sk-toggleable__label\" for=\"650e5280-f699-4ac6-b318-84744db05e54\">unoder</label><div class=\"sk-toggleable__content\"><pre>['homeType', 'heating_system', 'cooling_system', 'architecture_style']</pre></div></div></div><div class=\"sk-serial\"><div class=\"sk-item\"><div class=\"sk-serial\"><div class=\"sk-item\"><div class=\"sk-estimator sk-toggleable\"><input class=\"sk-toggleable__control sk-hidden--visually\" id=\"01e2517a-f75c-45b7-bb58-bf2d29434156\" type=\"checkbox\" ><label class=\"sk-toggleable__label\" for=\"01e2517a-f75c-45b7-bb58-bf2d29434156\">SimpleImputer</label><div class=\"sk-toggleable__content\"><pre>SimpleImputer(strategy='most_frequent')</pre></div></div></div><div class=\"sk-item\"><div class=\"sk-estimator sk-toggleable\"><input class=\"sk-toggleable__control sk-hidden--visually\" id=\"c75f5805-cfef-4d56-8128-be2775caaaae\" type=\"checkbox\" ><label class=\"sk-toggleable__label\" for=\"c75f5805-cfef-4d56-8128-be2775caaaae\">OneHotEncoder</label><div class=\"sk-toggleable__content\"><pre>OneHotEncoder(handle_unknown='ignore')</pre></div></div></div></div></div></div></div></div></div></div></div></div></div></div>"
      ],
      "text/plain": [
       "Pipeline(steps=[('numdropper', NumeDropper()),\n",
       "                ('catedropper', CateDropper(num_top_titles=4)),\n",
       "                ('preprocessor',\n",
       "                 ColumnTransformer(transformers=[('num',\n",
       "                                                  Pipeline(steps=[('imputer',\n",
       "                                                                   SimpleImputer(strategy='median'))]),\n",
       "                                                  ['sqft', 'beds',\n",
       "                                                   'parkingSpots', 'baths',\n",
       "                                                   'yearBuilt', 'tax']),\n",
       "                                                 ('unoder',\n",
       "                                                  Pipeline(steps=[('imputer',\n",
       "                                                                   SimpleImputer(strategy='most_frequent')),\n",
       "                                                                  ('onehot',\n",
       "                                                                   OneHotEncoder(handle_unknown='ignore'))]),\n",
       "                                                  ['homeType', 'heating_system',\n",
       "                                                   'cooling_system',\n",
       "                                                   'architecture_style'])]))])"
      ]
     },
     "execution_count": 22,
     "metadata": {},
     "output_type": "execute_result"
    }
   ],
   "source": [
    "num_cols = [\"sqft\", \"beds\" ,\"parkingSpots\", \"baths\" , \"yearBuilt\", \"tax\"]\n",
    "cate_cols = [\"homeType\", \"heating_system\", \"cooling_system\",  \"architecture_style\" ]\n",
    "\n",
    "\n",
    "numeric_transformer = Pipeline(steps=[\n",
    "    ('imputer', SimpleImputer(missing_values=np.nan, strategy='median'))])\n",
    "\n",
    "\n",
    "categotical_transformer = Pipeline(steps=[\n",
    "    ('imputer', SimpleImputer(missing_values=np.nan, strategy='most_frequent')),\n",
    "    ('onehot', OneHotEncoder(handle_unknown='ignore'))])\n",
    "\n",
    "\n",
    "preprocessor = ColumnTransformer(\n",
    "    transformers=[\n",
    "        ('num', numeric_transformer, num_cols),\n",
    "        ('unoder',categotical_transformer , cate_cols)])\n",
    "\n",
    "\n",
    "preprocess_pipeline = Pipeline(steps=[('numdropper', NumeDropper()),\n",
    "                                      ('catedropper', CateDropper(num_top_titles= 4)),\n",
    "                                      ('preprocessor', preprocessor)\n",
    "                                       ])\n",
    "\n",
    "\n",
    "\n",
    "preprocess_pipeline"
   ]
  },
  {
   "cell_type": "markdown",
   "metadata": {},
   "source": [
    "## Tiền xử lý trên tập train"
   ]
  },
  {
   "cell_type": "code",
   "execution_count": 23,
   "metadata": {},
   "outputs": [],
   "source": [
    "preprocessed_train_X = preprocess_pipeline.fit_transform(train_X)"
   ]
  },
  {
   "cell_type": "markdown",
   "metadata": {},
   "source": [
    "## Tiền xử lý trên tập validation"
   ]
  },
  {
   "cell_type": "code",
   "execution_count": 24,
   "metadata": {},
   "outputs": [],
   "source": [
    "preprocessed_val_X = preprocess_pipeline.transform(val_X)"
   ]
  },
  {
   "cell_type": "markdown",
   "metadata": {},
   "source": [
    "## Mô hình hóa"
   ]
  },
  {
   "cell_type": "code",
   "execution_count": 25,
   "metadata": {},
   "outputs": [
    {
     "data": {
      "text/html": [
       "<style>div.sk-top-container {color: black;background-color: white;}div.sk-toggleable {background-color: white;}label.sk-toggleable__label {cursor: pointer;display: block;width: 100%;margin-bottom: 0;padding: 0.2em 0.3em;box-sizing: border-box;text-align: center;}div.sk-toggleable__content {max-height: 0;max-width: 0;overflow: hidden;text-align: left;background-color: #f0f8ff;}div.sk-toggleable__content pre {margin: 0.2em;color: black;border-radius: 0.25em;background-color: #f0f8ff;}input.sk-toggleable__control:checked~div.sk-toggleable__content {max-height: 200px;max-width: 100%;overflow: auto;}div.sk-estimator input.sk-toggleable__control:checked~label.sk-toggleable__label {background-color: #d4ebff;}div.sk-label input.sk-toggleable__control:checked~label.sk-toggleable__label {background-color: #d4ebff;}input.sk-hidden--visually {border: 0;clip: rect(1px 1px 1px 1px);clip: rect(1px, 1px, 1px, 1px);height: 1px;margin: -1px;overflow: hidden;padding: 0;position: absolute;width: 1px;}div.sk-estimator {font-family: monospace;background-color: #f0f8ff;margin: 0.25em 0.25em;border: 1px dotted black;border-radius: 0.25em;box-sizing: border-box;}div.sk-estimator:hover {background-color: #d4ebff;}div.sk-parallel-item::after {content: \"\";width: 100%;border-bottom: 1px solid gray;flex-grow: 1;}div.sk-label:hover label.sk-toggleable__label {background-color: #d4ebff;}div.sk-serial::before {content: \"\";position: absolute;border-left: 1px solid gray;box-sizing: border-box;top: 2em;bottom: 0;left: 50%;}div.sk-serial {display: flex;flex-direction: column;align-items: center;background-color: white;}div.sk-item {z-index: 1;}div.sk-parallel {display: flex;align-items: stretch;justify-content: center;background-color: white;}div.sk-parallel-item {display: flex;flex-direction: column;position: relative;background-color: white;}div.sk-parallel-item:first-child::after {align-self: flex-end;width: 50%;}div.sk-parallel-item:last-child::after {align-self: flex-start;width: 50%;}div.sk-parallel-item:only-child::after {width: 0;}div.sk-dashed-wrapped {border: 1px dashed gray;margin: 0.2em;box-sizing: border-box;padding-bottom: 0.1em;background-color: white;position: relative;}div.sk-label label {font-family: monospace;font-weight: bold;background-color: white;display: inline-block;line-height: 1.2em;}div.sk-label-container {position: relative;z-index: 2;text-align: center;}div.sk-container {display: inline-block;position: relative;}</style><div class=\"sk-top-container\"><div class=\"sk-container\"><div class=\"sk-item sk-dashed-wrapped\"><div class=\"sk-label-container\"><div class=\"sk-label sk-toggleable\"><input class=\"sk-toggleable__control sk-hidden--visually\" id=\"dcab4e8b-e45e-410d-8fd5-d8d9f3859aa0\" type=\"checkbox\" ><label class=\"sk-toggleable__label\" for=\"dcab4e8b-e45e-410d-8fd5-d8d9f3859aa0\">Pipeline</label><div class=\"sk-toggleable__content\"><pre>Pipeline(steps=[('preprocess_pipeline',\n",
       "                 Pipeline(steps=[('numdropper', NumeDropper()),\n",
       "                                 ('catedropper', CateDropper(num_top_titles=4)),\n",
       "                                 ('preprocessor',\n",
       "                                  ColumnTransformer(transformers=[('num',\n",
       "                                                                   Pipeline(steps=[('imputer',\n",
       "                                                                                    SimpleImputer(strategy='median'))]),\n",
       "                                                                   ['sqft',\n",
       "                                                                    'beds',\n",
       "                                                                    'parkingSpots',\n",
       "                                                                    'baths',\n",
       "                                                                    'yearBuilt',\n",
       "                                                                    'tax']),\n",
       "                                                                  ('unoder',\n",
       "                                                                   Pipeline(steps=[('imputer',\n",
       "                                                                                    SimpleImputer(strategy='most_frequent')),\n",
       "                                                                                   ('onehot',\n",
       "                                                                                    OneHotEncoder(handle_unknown='ignore'))]),\n",
       "                                                                   ['homeType',\n",
       "                                                                    'heating_system',\n",
       "                                                                    'cooling_system',\n",
       "                                                                    'architecture_style'])]))])),\n",
       "                ('neural_network',\n",
       "                 MLPRegressor(activation='logistic', alpha=1e-05,\n",
       "                              hidden_layer_sizes=(20,), max_iter=2500,\n",
       "                              random_state=0, solver='sgd'))])</pre></div></div></div><div class=\"sk-serial\"><div class=\"sk-item\"><div class=\"sk-label-container\"><div class=\"sk-label sk-toggleable\"><input class=\"sk-toggleable__control sk-hidden--visually\" id=\"747ee77e-99b1-4b3a-a555-cfd1e61cd2f6\" type=\"checkbox\" ><label class=\"sk-toggleable__label\" for=\"747ee77e-99b1-4b3a-a555-cfd1e61cd2f6\">preprocess_pipeline: Pipeline</label><div class=\"sk-toggleable__content\"><pre>Pipeline(steps=[('numdropper', NumeDropper()),\n",
       "                ('catedropper', CateDropper(num_top_titles=4)),\n",
       "                ('preprocessor',\n",
       "                 ColumnTransformer(transformers=[('num',\n",
       "                                                  Pipeline(steps=[('imputer',\n",
       "                                                                   SimpleImputer(strategy='median'))]),\n",
       "                                                  ['sqft', 'beds',\n",
       "                                                   'parkingSpots', 'baths',\n",
       "                                                   'yearBuilt', 'tax']),\n",
       "                                                 ('unoder',\n",
       "                                                  Pipeline(steps=[('imputer',\n",
       "                                                                   SimpleImputer(strategy='most_frequent')),\n",
       "                                                                  ('onehot',\n",
       "                                                                   OneHotEncoder(handle_unknown='ignore'))]),\n",
       "                                                  ['homeType', 'heating_system',\n",
       "                                                   'cooling_system',\n",
       "                                                   'architecture_style'])]))])</pre></div></div></div><div class=\"sk-serial\"><div class=\"sk-item\"><div class=\"sk-estimator sk-toggleable\"><input class=\"sk-toggleable__control sk-hidden--visually\" id=\"dc661c6c-0527-41e1-91af-62263b83e5c1\" type=\"checkbox\" ><label class=\"sk-toggleable__label\" for=\"dc661c6c-0527-41e1-91af-62263b83e5c1\">NumeDropper</label><div class=\"sk-toggleable__content\"><pre>NumeDropper()</pre></div></div></div><div class=\"sk-item\"><div class=\"sk-estimator sk-toggleable\"><input class=\"sk-toggleable__control sk-hidden--visually\" id=\"f42e11e1-2836-48f7-add1-713356d41a30\" type=\"checkbox\" ><label class=\"sk-toggleable__label\" for=\"f42e11e1-2836-48f7-add1-713356d41a30\">CateDropper</label><div class=\"sk-toggleable__content\"><pre>CateDropper(num_top_titles=4)</pre></div></div></div><div class=\"sk-item sk-dashed-wrapped\"><div class=\"sk-label-container\"><div class=\"sk-label sk-toggleable\"><input class=\"sk-toggleable__control sk-hidden--visually\" id=\"07f968a2-36f2-42d8-9d58-7987d6efa028\" type=\"checkbox\" ><label class=\"sk-toggleable__label\" for=\"07f968a2-36f2-42d8-9d58-7987d6efa028\">preprocessor: ColumnTransformer</label><div class=\"sk-toggleable__content\"><pre>ColumnTransformer(transformers=[('num',\n",
       "                                 Pipeline(steps=[('imputer',\n",
       "                                                  SimpleImputer(strategy='median'))]),\n",
       "                                 ['sqft', 'beds', 'parkingSpots', 'baths',\n",
       "                                  'yearBuilt', 'tax']),\n",
       "                                ('unoder',\n",
       "                                 Pipeline(steps=[('imputer',\n",
       "                                                  SimpleImputer(strategy='most_frequent')),\n",
       "                                                 ('onehot',\n",
       "                                                  OneHotEncoder(handle_unknown='ignore'))]),\n",
       "                                 ['homeType', 'heating_system',\n",
       "                                  'cooling_system', 'architecture_style'])])</pre></div></div></div><div class=\"sk-parallel\"><div class=\"sk-parallel-item\"><div class=\"sk-item\"><div class=\"sk-label-container\"><div class=\"sk-label sk-toggleable\"><input class=\"sk-toggleable__control sk-hidden--visually\" id=\"2a2f4703-8a25-424c-856b-ca097496d8c4\" type=\"checkbox\" ><label class=\"sk-toggleable__label\" for=\"2a2f4703-8a25-424c-856b-ca097496d8c4\">num</label><div class=\"sk-toggleable__content\"><pre>['sqft', 'beds', 'parkingSpots', 'baths', 'yearBuilt', 'tax']</pre></div></div></div><div class=\"sk-serial\"><div class=\"sk-item\"><div class=\"sk-serial\"><div class=\"sk-item\"><div class=\"sk-estimator sk-toggleable\"><input class=\"sk-toggleable__control sk-hidden--visually\" id=\"4ede72bb-3e6d-472a-aaa3-51fafc11d7e0\" type=\"checkbox\" ><label class=\"sk-toggleable__label\" for=\"4ede72bb-3e6d-472a-aaa3-51fafc11d7e0\">SimpleImputer</label><div class=\"sk-toggleable__content\"><pre>SimpleImputer(strategy='median')</pre></div></div></div></div></div></div></div></div><div class=\"sk-parallel-item\"><div class=\"sk-item\"><div class=\"sk-label-container\"><div class=\"sk-label sk-toggleable\"><input class=\"sk-toggleable__control sk-hidden--visually\" id=\"4e70c516-d893-4760-b23c-45dee0248459\" type=\"checkbox\" ><label class=\"sk-toggleable__label\" for=\"4e70c516-d893-4760-b23c-45dee0248459\">unoder</label><div class=\"sk-toggleable__content\"><pre>['homeType', 'heating_system', 'cooling_system', 'architecture_style']</pre></div></div></div><div class=\"sk-serial\"><div class=\"sk-item\"><div class=\"sk-serial\"><div class=\"sk-item\"><div class=\"sk-estimator sk-toggleable\"><input class=\"sk-toggleable__control sk-hidden--visually\" id=\"1752a31c-fbdb-4cba-9bb6-bb588f3a1826\" type=\"checkbox\" ><label class=\"sk-toggleable__label\" for=\"1752a31c-fbdb-4cba-9bb6-bb588f3a1826\">SimpleImputer</label><div class=\"sk-toggleable__content\"><pre>SimpleImputer(strategy='most_frequent')</pre></div></div></div><div class=\"sk-item\"><div class=\"sk-estimator sk-toggleable\"><input class=\"sk-toggleable__control sk-hidden--visually\" id=\"fff1db7c-28c8-4ed4-80b9-98bc98738f3c\" type=\"checkbox\" ><label class=\"sk-toggleable__label\" for=\"fff1db7c-28c8-4ed4-80b9-98bc98738f3c\">OneHotEncoder</label><div class=\"sk-toggleable__content\"><pre>OneHotEncoder(handle_unknown='ignore')</pre></div></div></div></div></div></div></div></div></div></div></div></div><div class=\"sk-item\"><div class=\"sk-estimator sk-toggleable\"><input class=\"sk-toggleable__control sk-hidden--visually\" id=\"166fcc94-c6fd-4986-a836-da0b1116f52d\" type=\"checkbox\" ><label class=\"sk-toggleable__label\" for=\"166fcc94-c6fd-4986-a836-da0b1116f52d\">MLPRegressor</label><div class=\"sk-toggleable__content\"><pre>MLPRegressor(activation='logistic', alpha=1e-05, hidden_layer_sizes=(20,),\n",
       "             max_iter=2500, random_state=0, solver='sgd')</pre></div></div></div></div></div></div></div>"
      ],
      "text/plain": [
       "Pipeline(steps=[('preprocess_pipeline',\n",
       "                 Pipeline(steps=[('numdropper', NumeDropper()),\n",
       "                                 ('catedropper', CateDropper(num_top_titles=4)),\n",
       "                                 ('preprocessor',\n",
       "                                  ColumnTransformer(transformers=[('num',\n",
       "                                                                   Pipeline(steps=[('imputer',\n",
       "                                                                                    SimpleImputer(strategy='median'))]),\n",
       "                                                                   ['sqft',\n",
       "                                                                    'beds',\n",
       "                                                                    'parkingSpots',\n",
       "                                                                    'baths',\n",
       "                                                                    'yearBuilt',\n",
       "                                                                    'tax']),\n",
       "                                                                  ('unoder',\n",
       "                                                                   Pipeline(steps=[('imputer',\n",
       "                                                                                    SimpleImputer(strategy='most_frequent')),\n",
       "                                                                                   ('onehot',\n",
       "                                                                                    OneHotEncoder(handle_unknown='ignore'))]),\n",
       "                                                                   ['homeType',\n",
       "                                                                    'heating_system',\n",
       "                                                                    'cooling_system',\n",
       "                                                                    'architecture_style'])]))])),\n",
       "                ('neural_network',\n",
       "                 MLPRegressor(activation='logistic', alpha=1e-05,\n",
       "                              hidden_layer_sizes=(20,), max_iter=2500,\n",
       "                              random_state=0, solver='sgd'))])"
      ]
     },
     "execution_count": 25,
     "metadata": {},
     "output_type": "execute_result"
    }
   ],
   "source": [
    "# model = LinearRegression()\n",
    "model = MLPRegressor(solver='sgd', \n",
    "                    activation = 'logistic',\n",
    "                    hidden_layer_sizes=(20,), \n",
    "                    random_state=0,\n",
    "                    max_iter = 2500,\n",
    "                    alpha=1e-5)\n",
    "full_pipeline = Pipeline(steps=[('preprocess_pipeline', preprocess_pipeline),\n",
    "                                 ('neural_network',model)])\n",
    "full_pipeline"
   ]
  },
  {
   "cell_type": "code",
   "execution_count": 26,
   "metadata": {},
   "outputs": [],
   "source": [
    "# Thử nghiệm với các giá trị khác nhau của các siêu tham số\n",
    "# và chọn ra các giá trị tốt nhất\n",
    "train_errs = []\n",
    "val_errs = []\n",
    "alphas = [0.001, 0.01 ,0.1, 1, 10, 100, 1000]\n",
    "num_top_titles_s = [1, 2,3, 4, 5,6, 7,8]\n",
    "best_val_err = float('inf')\n",
    "best_alpha = None\n",
    "best_num_top_titles = None\n",
    "for alpha in alphas:\n",
    "    for num_top_titles in num_top_titles_s:\n",
    "        train = full_pipeline.set_params(preprocess_pipeline__catedropper__num_top_titles=num_top_titles, neural_network__alpha=alpha).fit(train_X, train_y)\n",
    "        train_errs.append((train.score(train_X, train_y))*100)\n",
    "        val_errs.append((train.score(val_X, val_y))*100)\n",
    "        \n",
    "        if val_errs[-1] < best_val_err:\n",
    "            best_val_err = val_errs[-1]\n",
    "            best_alpha = alpha\n",
    "            best_num_top_titles= num_top_titles"
   ]
  },
  {
   "cell_type": "code",
   "execution_count": 27,
   "metadata": {},
   "outputs": [
    {
     "name": "stdout",
     "output_type": "stream",
     "text": [
      "best_val_err:  -19.4544763874023\n",
      "best_alpha:  1000\n",
      "best_top_titles:  5\n"
     ]
    }
   ],
   "source": [
    "print(\"best_val_err: \" , best_val_err)\n",
    "print(\"best_alpha: \", best_alpha)\n",
    "print(\"best_top_titles: \", best_num_top_titles)"
   ]
  },
  {
   "cell_type": "code",
   "execution_count": 28,
   "metadata": {},
   "outputs": [],
   "source": [
    "model = full_pipeline.set_params(preprocess_pipeline__catedropper__num_top_titles=best_num_top_titles, neural_network__alpha=best_alpha).fit(train_X, train_y)"
   ]
  },
  {
   "cell_type": "code",
   "execution_count": 29,
   "metadata": {},
   "outputs": [
    {
     "data": {
      "text/plain": [
       "1.0"
      ]
     },
     "execution_count": 29,
     "metadata": {},
     "output_type": "execute_result"
    }
   ],
   "source": [
    "#tính độ lỗi trên tập train\n",
    "train_preds = model.predict(train_X)\n",
    "(train_preds != train_y).mean()"
   ]
  },
  {
   "cell_type": "code",
   "execution_count": 30,
   "metadata": {},
   "outputs": [
    {
     "data": {
      "text/html": [
       "<div>\n",
       "<style scoped>\n",
       "    .dataframe tbody tr th:only-of-type {\n",
       "        vertical-align: middle;\n",
       "    }\n",
       "\n",
       "    .dataframe tbody tr th {\n",
       "        vertical-align: top;\n",
       "    }\n",
       "\n",
       "    .dataframe thead th {\n",
       "        text-align: right;\n",
       "    }\n",
       "</style>\n",
       "<table border=\"1\" class=\"dataframe\">\n",
       "  <thead>\n",
       "    <tr style=\"text-align: right;\">\n",
       "      <th></th>\n",
       "      <th>Actual</th>\n",
       "      <th>Predicted</th>\n",
       "    </tr>\n",
       "  </thead>\n",
       "  <tbody>\n",
       "    <tr>\n",
       "      <th>838</th>\n",
       "      <td>310000</td>\n",
       "      <td>214325.792512</td>\n",
       "    </tr>\n",
       "    <tr>\n",
       "      <th>728</th>\n",
       "      <td>439900</td>\n",
       "      <td>214325.792512</td>\n",
       "    </tr>\n",
       "    <tr>\n",
       "      <th>963</th>\n",
       "      <td>359000</td>\n",
       "      <td>214325.792512</td>\n",
       "    </tr>\n",
       "    <tr>\n",
       "      <th>872</th>\n",
       "      <td>464900</td>\n",
       "      <td>214325.792512</td>\n",
       "    </tr>\n",
       "    <tr>\n",
       "      <th>646</th>\n",
       "      <td>190000</td>\n",
       "      <td>214325.792512</td>\n",
       "    </tr>\n",
       "    <tr>\n",
       "      <th>...</th>\n",
       "      <td>...</td>\n",
       "      <td>...</td>\n",
       "    </tr>\n",
       "    <tr>\n",
       "      <th>590</th>\n",
       "      <td>114900</td>\n",
       "      <td>214325.792512</td>\n",
       "    </tr>\n",
       "    <tr>\n",
       "      <th>328</th>\n",
       "      <td>425000</td>\n",
       "      <td>214325.792512</td>\n",
       "    </tr>\n",
       "    <tr>\n",
       "      <th>16</th>\n",
       "      <td>279900</td>\n",
       "      <td>214325.792512</td>\n",
       "    </tr>\n",
       "    <tr>\n",
       "      <th>504</th>\n",
       "      <td>499000</td>\n",
       "      <td>214325.792512</td>\n",
       "    </tr>\n",
       "    <tr>\n",
       "      <th>27</th>\n",
       "      <td>469900</td>\n",
       "      <td>214325.792512</td>\n",
       "    </tr>\n",
       "  </tbody>\n",
       "</table>\n",
       "<p>745 rows × 2 columns</p>\n",
       "</div>"
      ],
      "text/plain": [
       "     Actual      Predicted\n",
       "838  310000  214325.792512\n",
       "728  439900  214325.792512\n",
       "963  359000  214325.792512\n",
       "872  464900  214325.792512\n",
       "646  190000  214325.792512\n",
       "..      ...            ...\n",
       "590  114900  214325.792512\n",
       "328  425000  214325.792512\n",
       "16   279900  214325.792512\n",
       "504  499000  214325.792512\n",
       "27   469900  214325.792512\n",
       "\n",
       "[745 rows x 2 columns]"
      ]
     },
     "execution_count": 30,
     "metadata": {},
     "output_type": "execute_result"
    }
   ],
   "source": [
    "df = pd.DataFrame({'Actual': train_y, 'Predicted': train_preds})\n",
    "df"
   ]
  },
  {
   "cell_type": "code",
   "execution_count": 31,
   "metadata": {},
   "outputs": [
    {
     "data": {
      "text/plain": [
       "1.0"
      ]
     },
     "execution_count": 31,
     "metadata": {},
     "output_type": "execute_result"
    }
   ],
   "source": [
    "#tính độ lỗi trên tập val\n",
    "val_preds = model.predict(val_X)\n",
    "(val_preds != val_y).mean()"
   ]
  },
  {
   "cell_type": "code",
   "execution_count": 32,
   "metadata": {},
   "outputs": [
    {
     "data": {
      "text/html": [
       "<div>\n",
       "<style scoped>\n",
       "    .dataframe tbody tr th:only-of-type {\n",
       "        vertical-align: middle;\n",
       "    }\n",
       "\n",
       "    .dataframe tbody tr th {\n",
       "        vertical-align: top;\n",
       "    }\n",
       "\n",
       "    .dataframe thead th {\n",
       "        text-align: right;\n",
       "    }\n",
       "</style>\n",
       "<table border=\"1\" class=\"dataframe\">\n",
       "  <thead>\n",
       "    <tr style=\"text-align: right;\">\n",
       "      <th></th>\n",
       "      <th>Actual</th>\n",
       "      <th>Predicted</th>\n",
       "    </tr>\n",
       "  </thead>\n",
       "  <tbody>\n",
       "    <tr>\n",
       "      <th>1132</th>\n",
       "      <td>195000</td>\n",
       "      <td>214325.792512</td>\n",
       "    </tr>\n",
       "    <tr>\n",
       "      <th>854</th>\n",
       "      <td>60000</td>\n",
       "      <td>214325.792512</td>\n",
       "    </tr>\n",
       "    <tr>\n",
       "      <th>127</th>\n",
       "      <td>339995</td>\n",
       "      <td>214325.792512</td>\n",
       "    </tr>\n",
       "    <tr>\n",
       "      <th>632</th>\n",
       "      <td>379000</td>\n",
       "      <td>214325.792512</td>\n",
       "    </tr>\n",
       "    <tr>\n",
       "      <th>253</th>\n",
       "      <td>245000</td>\n",
       "      <td>214325.792512</td>\n",
       "    </tr>\n",
       "    <tr>\n",
       "      <th>...</th>\n",
       "      <td>...</td>\n",
       "      <td>...</td>\n",
       "    </tr>\n",
       "    <tr>\n",
       "      <th>584</th>\n",
       "      <td>174000</td>\n",
       "      <td>214325.792512</td>\n",
       "    </tr>\n",
       "    <tr>\n",
       "      <th>897</th>\n",
       "      <td>424900</td>\n",
       "      <td>214325.792512</td>\n",
       "    </tr>\n",
       "    <tr>\n",
       "      <th>984</th>\n",
       "      <td>1475000</td>\n",
       "      <td>214325.792512</td>\n",
       "    </tr>\n",
       "    <tr>\n",
       "      <th>1059</th>\n",
       "      <td>89900</td>\n",
       "      <td>214325.792512</td>\n",
       "    </tr>\n",
       "    <tr>\n",
       "      <th>996</th>\n",
       "      <td>334000</td>\n",
       "      <td>214325.792512</td>\n",
       "    </tr>\n",
       "  </tbody>\n",
       "</table>\n",
       "<p>187 rows × 2 columns</p>\n",
       "</div>"
      ],
      "text/plain": [
       "       Actual      Predicted\n",
       "1132   195000  214325.792512\n",
       "854     60000  214325.792512\n",
       "127    339995  214325.792512\n",
       "632    379000  214325.792512\n",
       "253    245000  214325.792512\n",
       "...       ...            ...\n",
       "584    174000  214325.792512\n",
       "897    424900  214325.792512\n",
       "984   1475000  214325.792512\n",
       "1059    89900  214325.792512\n",
       "996    334000  214325.792512\n",
       "\n",
       "[187 rows x 2 columns]"
      ]
     },
     "execution_count": 32,
     "metadata": {},
     "output_type": "execute_result"
    }
   ],
   "source": [
    "df = pd.DataFrame({'Actual': val_y, 'Predicted': val_preds})\n",
    "df"
   ]
  },
  {
   "cell_type": "code",
   "execution_count": 33,
   "metadata": {},
   "outputs": [
    {
     "data": {
      "text/plain": [
       "1.0"
      ]
     },
     "execution_count": 33,
     "metadata": {},
     "output_type": "execute_result"
    }
   ],
   "source": [
    "#tính độ lỗi trên tập test\n",
    "test_preds = model.predict(test_X)\n",
    "(test_preds != test_y).mean()"
   ]
  },
  {
   "cell_type": "code",
   "execution_count": 34,
   "metadata": {},
   "outputs": [
    {
     "data": {
      "text/html": [
       "<div>\n",
       "<style scoped>\n",
       "    .dataframe tbody tr th:only-of-type {\n",
       "        vertical-align: middle;\n",
       "    }\n",
       "\n",
       "    .dataframe tbody tr th {\n",
       "        vertical-align: top;\n",
       "    }\n",
       "\n",
       "    .dataframe thead th {\n",
       "        text-align: right;\n",
       "    }\n",
       "</style>\n",
       "<table border=\"1\" class=\"dataframe\">\n",
       "  <thead>\n",
       "    <tr style=\"text-align: right;\">\n",
       "      <th></th>\n",
       "      <th>Actual</th>\n",
       "      <th>Predicted</th>\n",
       "    </tr>\n",
       "  </thead>\n",
       "  <tbody>\n",
       "    <tr>\n",
       "      <th>891</th>\n",
       "      <td>3499888</td>\n",
       "      <td>214325.792512</td>\n",
       "    </tr>\n",
       "    <tr>\n",
       "      <th>245</th>\n",
       "      <td>285000</td>\n",
       "      <td>214325.792512</td>\n",
       "    </tr>\n",
       "    <tr>\n",
       "      <th>739</th>\n",
       "      <td>244900</td>\n",
       "      <td>214325.792512</td>\n",
       "    </tr>\n",
       "    <tr>\n",
       "      <th>85</th>\n",
       "      <td>62000</td>\n",
       "      <td>214325.792512</td>\n",
       "    </tr>\n",
       "    <tr>\n",
       "      <th>497</th>\n",
       "      <td>380000</td>\n",
       "      <td>214325.792512</td>\n",
       "    </tr>\n",
       "    <tr>\n",
       "      <th>...</th>\n",
       "      <td>...</td>\n",
       "      <td>...</td>\n",
       "    </tr>\n",
       "    <tr>\n",
       "      <th>170</th>\n",
       "      <td>397000</td>\n",
       "      <td>214325.792512</td>\n",
       "    </tr>\n",
       "    <tr>\n",
       "      <th>911</th>\n",
       "      <td>220000</td>\n",
       "      <td>214325.792512</td>\n",
       "    </tr>\n",
       "    <tr>\n",
       "      <th>152</th>\n",
       "      <td>115000</td>\n",
       "      <td>214325.792512</td>\n",
       "    </tr>\n",
       "    <tr>\n",
       "      <th>266</th>\n",
       "      <td>175000</td>\n",
       "      <td>214325.792512</td>\n",
       "    </tr>\n",
       "    <tr>\n",
       "      <th>1115</th>\n",
       "      <td>225000</td>\n",
       "      <td>214325.792512</td>\n",
       "    </tr>\n",
       "  </tbody>\n",
       "</table>\n",
       "<p>233 rows × 2 columns</p>\n",
       "</div>"
      ],
      "text/plain": [
       "       Actual      Predicted\n",
       "891   3499888  214325.792512\n",
       "245    285000  214325.792512\n",
       "739    244900  214325.792512\n",
       "85      62000  214325.792512\n",
       "497    380000  214325.792512\n",
       "...       ...            ...\n",
       "170    397000  214325.792512\n",
       "911    220000  214325.792512\n",
       "152    115000  214325.792512\n",
       "266    175000  214325.792512\n",
       "1115   225000  214325.792512\n",
       "\n",
       "[233 rows x 2 columns]"
      ]
     },
     "execution_count": 34,
     "metadata": {},
     "output_type": "execute_result"
    }
   ],
   "source": [
    "df = pd.DataFrame({'Actual': test_y, 'Predicted': test_preds})\n",
    "df"
   ]
  },
  {
   "cell_type": "code",
   "execution_count": null,
   "metadata": {},
   "outputs": [],
   "source": []
  }
 ],
 "metadata": {
  "kernelspec": {
   "display_name": "Python 3",
   "language": "python",
   "name": "python3"
  },
  "language_info": {
   "codemirror_mode": {
    "name": "ipython",
    "version": 3
   },
   "file_extension": ".py",
   "mimetype": "text/x-python",
   "name": "python",
   "nbconvert_exporter": "python",
   "pygments_lexer": "ipython3",
   "version": "3.8.5"
  },
  "toc": {
   "base_numbering": 1,
   "nav_menu": {},
   "number_sections": false,
   "sideBar": true,
   "skip_h1_title": false,
   "title_cell": "Table of Contents",
   "title_sidebar": "Contents",
   "toc_cell": false,
   "toc_position": {
    "height": "calc(100% - 180px)",
    "left": "10px",
    "top": "150px",
    "width": "242.102px"
   },
   "toc_section_display": true,
   "toc_window_display": true
  }
 },
 "nbformat": 4,
 "nbformat_minor": 5
}
