{
 "cells": [
  {
   "cell_type": "markdown",
   "id": "1266ddad",
   "metadata": {},
   "source": [
    "## Import"
   ]
  },
  {
   "cell_type": "code",
   "execution_count": 1,
   "id": "205b7132",
   "metadata": {},
   "outputs": [],
   "source": [
    "import matplotlib.pyplot as plt\n",
    "import seaborn as sns \n",
    "import pandas as pd\n",
    "import numpy as np\n",
    "\n",
    "from sklearn.model_selection import train_test_split\n",
    "from sklearn.preprocessing import OneHotEncoder, StandardScaler, MinMaxScaler,MaxAbsScaler\n",
    "from sklearn.impute import SimpleImputer\n",
    "from sklearn.base import BaseEstimator, TransformerMixin\n",
    "from sklearn.pipeline import Pipeline, make_pipeline\n",
    "from sklearn.compose import ColumnTransformer, make_column_transformer\n",
    "from sklearn.neural_network import MLPClassifier, MLPRegressor\n",
    "from sklearn import set_config\n",
    "set_config(display='diagram') # Để trực quan hóa pipeline\n",
    "\n",
    "# You can also import other things ...\n",
    "# YOUR CODE HERE (OPTION)\n",
    "import csv\n",
    "from sklearn.linear_model import LinearRegression"
   ]
  },
  {
   "cell_type": "markdown",
   "id": "0b10e824",
   "metadata": {},
   "source": [
    "## Thu thập dữ liệu"
   ]
  },
  {
   "cell_type": "code",
   "execution_count": 2,
   "id": "744f0321",
   "metadata": {
    "scrolled": false
   },
   "outputs": [
    {
     "data": {
      "text/html": [
       "<div>\n",
       "<style scoped>\n",
       "    .dataframe tbody tr th:only-of-type {\n",
       "        vertical-align: middle;\n",
       "    }\n",
       "\n",
       "    .dataframe tbody tr th {\n",
       "        vertical-align: top;\n",
       "    }\n",
       "\n",
       "    .dataframe thead th {\n",
       "        text-align: right;\n",
       "    }\n",
       "</style>\n",
       "<table border=\"1\" class=\"dataframe\">\n",
       "  <thead>\n",
       "    <tr style=\"text-align: right;\">\n",
       "      <th></th>\n",
       "      <th>sqft</th>\n",
       "      <th>homeType</th>\n",
       "      <th>beds</th>\n",
       "      <th>parkingSpots</th>\n",
       "      <th>lotSize</th>\n",
       "      <th>baths</th>\n",
       "      <th>listPrice</th>\n",
       "      <th>heating_system</th>\n",
       "      <th>cooling_system</th>\n",
       "      <th>view_type</th>\n",
       "      <th>architecture_style</th>\n",
       "      <th>yearBuilt</th>\n",
       "      <th>has_pool</th>\n",
       "      <th>city</th>\n",
       "      <th>address</th>\n",
       "      <th>tax</th>\n",
       "    </tr>\n",
       "  </thead>\n",
       "  <tbody>\n",
       "    <tr>\n",
       "      <th>0</th>\n",
       "      <td>1100.0</td>\n",
       "      <td>Single Family Residential</td>\n",
       "      <td>3</td>\n",
       "      <td>NaN</td>\n",
       "      <td>3781.0</td>\n",
       "      <td>2</td>\n",
       "      <td>235000</td>\n",
       "      <td>Forced Air (Natural Gas)</td>\n",
       "      <td>Central A/C</td>\n",
       "      <td>NaN</td>\n",
       "      <td>Other</td>\n",
       "      <td>1955.0</td>\n",
       "      <td>NaN</td>\n",
       "      <td>Chicago</td>\n",
       "      <td>3932 West 84th Street</td>\n",
       "      <td>2642.29</td>\n",
       "    </tr>\n",
       "    <tr>\n",
       "      <th>1</th>\n",
       "      <td>2200.0</td>\n",
       "      <td>Single Family Residential</td>\n",
       "      <td>4</td>\n",
       "      <td>2.0</td>\n",
       "      <td>4234.0</td>\n",
       "      <td>3</td>\n",
       "      <td>260000</td>\n",
       "      <td>Forced Air (Natural Gas)</td>\n",
       "      <td>Central A/C</td>\n",
       "      <td>NaN</td>\n",
       "      <td>Bungalow</td>\n",
       "      <td>1915.0</td>\n",
       "      <td>NaN</td>\n",
       "      <td>Chicago</td>\n",
       "      <td>1119 North Lockwood Avenue</td>\n",
       "      <td>2938.45</td>\n",
       "    </tr>\n",
       "    <tr>\n",
       "      <th>2</th>\n",
       "      <td>750.0</td>\n",
       "      <td>Condo/Coop</td>\n",
       "      <td>2</td>\n",
       "      <td>NaN</td>\n",
       "      <td>NaN</td>\n",
       "      <td>1</td>\n",
       "      <td>275000</td>\n",
       "      <td>Forced Air (Natural Gas)</td>\n",
       "      <td>Central A/C</td>\n",
       "      <td>NaN</td>\n",
       "      <td>Other</td>\n",
       "      <td>1926.0</td>\n",
       "      <td>NaN</td>\n",
       "      <td>Chicago</td>\n",
       "      <td>1100 North Paulina Street #1M</td>\n",
       "      <td>4722.00</td>\n",
       "    </tr>\n",
       "    <tr>\n",
       "      <th>3</th>\n",
       "      <td>1248.0</td>\n",
       "      <td>Single Family Residential</td>\n",
       "      <td>3</td>\n",
       "      <td>2.0</td>\n",
       "      <td>5279.0</td>\n",
       "      <td>2</td>\n",
       "      <td>309900</td>\n",
       "      <td>NaN</td>\n",
       "      <td>Central A/C</td>\n",
       "      <td>NaN</td>\n",
       "      <td>Ranch</td>\n",
       "      <td>1962.0</td>\n",
       "      <td>NaN</td>\n",
       "      <td>Chicago</td>\n",
       "      <td>4909 North Normandy Avenue</td>\n",
       "      <td>560.03</td>\n",
       "    </tr>\n",
       "    <tr>\n",
       "      <th>4</th>\n",
       "      <td>1337.0</td>\n",
       "      <td>Single Family Residential</td>\n",
       "      <td>3</td>\n",
       "      <td>2.0</td>\n",
       "      <td>NaN</td>\n",
       "      <td>2</td>\n",
       "      <td>324900</td>\n",
       "      <td>Forced Air (Natural Gas)</td>\n",
       "      <td>Central A/C</td>\n",
       "      <td>NaN</td>\n",
       "      <td>Georgian</td>\n",
       "      <td>1949.0</td>\n",
       "      <td>NaN</td>\n",
       "      <td>Chicago</td>\n",
       "      <td>10034 South Artesian Avenue</td>\n",
       "      <td>77.40</td>\n",
       "    </tr>\n",
       "  </tbody>\n",
       "</table>\n",
       "</div>"
      ],
      "text/plain": [
       "     sqft                   homeType  beds  parkingSpots  lotSize  baths  \\\n",
       "0  1100.0  Single Family Residential     3           NaN   3781.0      2   \n",
       "1  2200.0  Single Family Residential     4           2.0   4234.0      3   \n",
       "2   750.0                 Condo/Coop     2           NaN      NaN      1   \n",
       "3  1248.0  Single Family Residential     3           2.0   5279.0      2   \n",
       "4  1337.0  Single Family Residential     3           2.0      NaN      2   \n",
       "\n",
       "   listPrice            heating_system cooling_system  view_type  \\\n",
       "0     235000  Forced Air (Natural Gas)    Central A/C        NaN   \n",
       "1     260000  Forced Air (Natural Gas)    Central A/C        NaN   \n",
       "2     275000  Forced Air (Natural Gas)    Central A/C        NaN   \n",
       "3     309900                       NaN    Central A/C        NaN   \n",
       "4     324900  Forced Air (Natural Gas)    Central A/C        NaN   \n",
       "\n",
       "  architecture_style  yearBuilt has_pool     city  \\\n",
       "0              Other     1955.0      NaN  Chicago   \n",
       "1           Bungalow     1915.0      NaN  Chicago   \n",
       "2              Other     1926.0      NaN  Chicago   \n",
       "3              Ranch     1962.0      NaN  Chicago   \n",
       "4           Georgian     1949.0      NaN  Chicago   \n",
       "\n",
       "                         address      tax  \n",
       "0          3932 West 84th Street  2642.29  \n",
       "1     1119 North Lockwood Avenue  2938.45  \n",
       "2  1100 North Paulina Street #1M  4722.00  \n",
       "3     4909 North Normandy Avenue   560.03  \n",
       "4    10034 South Artesian Avenue    77.40  "
      ]
     },
     "execution_count": 2,
     "metadata": {},
     "output_type": "execute_result"
    }
   ],
   "source": [
    "# Đọc dữ liệu từ \"data.csv\"\n",
    "df = pd.read_csv('data_better_distribution.csv')\n",
    "df.head()"
   ]
  },
  {
   "cell_type": "markdown",
   "id": "b747f6d7",
   "metadata": {},
   "source": [
    "---"
   ]
  },
  {
   "cell_type": "markdown",
   "id": "bf213bd2",
   "metadata": {},
   "source": [
    "## Khám phá dữ liệu (để làm rõ câu hỏi)"
   ]
  },
  {
   "cell_type": "markdown",
   "id": "f403adb5",
   "metadata": {},
   "source": [
    "### Số dòng và cột"
   ]
  },
  {
   "cell_type": "code",
   "execution_count": 3,
   "id": "1867725d",
   "metadata": {},
   "outputs": [
    {
     "data": {
      "text/plain": [
       "(1626, 16)"
      ]
     },
     "execution_count": 3,
     "metadata": {},
     "output_type": "execute_result"
    }
   ],
   "source": [
    "df.shape"
   ]
  },
  {
   "cell_type": "markdown",
   "id": "c826eb65",
   "metadata": {},
   "source": [
    "### Ý nghĩa của từng dòng. Có dòng nào không phù hợp không?"
   ]
  },
  {
   "cell_type": "markdown",
   "id": "13147b7d",
   "metadata": {},
   "source": [
    "Mỗi dòng thể hiện 17 thông tin khác nhau của một căn nhà được giao bán. Do dữ liệu được lấy trong trang mô tả chi tiết của từng căn nhà nên sẽ không có dòng nào đặc biệt.\n",
    "\n",
    "Tuy nhiên người đăng có thể giao bán 1 căn nhà nhiều lần, các dòng có thể bị lặp lại."
   ]
  },
  {
   "cell_type": "markdown",
   "id": "2458ae71",
   "metadata": {},
   "source": [
    "### Kiểm tra số dòng bị lặp lại"
   ]
  },
  {
   "cell_type": "code",
   "execution_count": 4,
   "id": "29373516",
   "metadata": {},
   "outputs": [
    {
     "data": {
      "text/plain": [
       "48"
      ]
     },
     "execution_count": 4,
     "metadata": {},
     "output_type": "execute_result"
    }
   ],
   "source": [
    "df.duplicated().sum()"
   ]
  },
  {
   "cell_type": "markdown",
   "id": "7d8dff38",
   "metadata": {},
   "source": [
    "$\\to$ Bỏ đi các dòng duplicates"
   ]
  },
  {
   "cell_type": "code",
   "execution_count": 5,
   "id": "13a0a747",
   "metadata": {},
   "outputs": [],
   "source": [
    "df = df.drop_duplicates()"
   ]
  },
  {
   "cell_type": "markdown",
   "id": "91c8a3b9",
   "metadata": {},
   "source": [
    "### Ý nghĩa của mỗi cột"
   ]
  },
  {
   "cell_type": "code",
   "execution_count": 6,
   "id": "278780ff",
   "metadata": {},
   "outputs": [
    {
     "data": {
      "text/html": [
       "<div>\n",
       "<style scoped>\n",
       "    .dataframe tbody tr th:only-of-type {\n",
       "        vertical-align: middle;\n",
       "    }\n",
       "\n",
       "    .dataframe tbody tr th {\n",
       "        vertical-align: top;\n",
       "    }\n",
       "\n",
       "    .dataframe thead th {\n",
       "        text-align: right;\n",
       "    }\n",
       "</style>\n",
       "<table border=\"1\" class=\"dataframe\">\n",
       "  <thead>\n",
       "    <tr style=\"text-align: right;\">\n",
       "      <th></th>\n",
       "      <th>sqft</th>\n",
       "      <th>homeType</th>\n",
       "      <th>beds</th>\n",
       "      <th>parkingSpots</th>\n",
       "      <th>lotSize</th>\n",
       "      <th>baths</th>\n",
       "      <th>listPrice</th>\n",
       "      <th>heating_system</th>\n",
       "      <th>cooling_system</th>\n",
       "      <th>view_type</th>\n",
       "      <th>architecture_style</th>\n",
       "      <th>yearBuilt</th>\n",
       "      <th>has_pool</th>\n",
       "      <th>city</th>\n",
       "      <th>address</th>\n",
       "      <th>tax</th>\n",
       "    </tr>\n",
       "  </thead>\n",
       "  <tbody>\n",
       "    <tr>\n",
       "      <th>0</th>\n",
       "      <td>1100.0</td>\n",
       "      <td>Single Family Residential</td>\n",
       "      <td>3</td>\n",
       "      <td>NaN</td>\n",
       "      <td>3781.0</td>\n",
       "      <td>2</td>\n",
       "      <td>235000</td>\n",
       "      <td>Forced Air (Natural Gas)</td>\n",
       "      <td>Central A/C</td>\n",
       "      <td>NaN</td>\n",
       "      <td>Other</td>\n",
       "      <td>1955.0</td>\n",
       "      <td>NaN</td>\n",
       "      <td>Chicago</td>\n",
       "      <td>3932 West 84th Street</td>\n",
       "      <td>2642.29</td>\n",
       "    </tr>\n",
       "  </tbody>\n",
       "</table>\n",
       "</div>"
      ],
      "text/plain": [
       "     sqft                   homeType  beds  parkingSpots  lotSize  baths  \\\n",
       "0  1100.0  Single Family Residential     3           NaN   3781.0      2   \n",
       "\n",
       "   listPrice            heating_system cooling_system  view_type  \\\n",
       "0     235000  Forced Air (Natural Gas)    Central A/C        NaN   \n",
       "\n",
       "  architecture_style  yearBuilt has_pool     city                address  \\\n",
       "0              Other     1955.0      NaN  Chicago  3932 West 84th Street   \n",
       "\n",
       "       tax  \n",
       "0  2642.29  "
      ]
     },
     "execution_count": 6,
     "metadata": {},
     "output_type": "execute_result"
    }
   ],
   "source": [
    "df.head(1)"
   ]
  },
  {
   "cell_type": "markdown",
   "id": "f6280cf4",
   "metadata": {},
   "source": [
    "**Ý nghĩa của từng cột** \n",
    "- `beds` : Số phòng ngủ\n",
    "- `baths` : Số phòng vệ sinh\n",
    "- `house_type` : Loại hình nhà ở\n",
    "- `sqlt` : Diện tích căn nhà\n",
    "- `parkingSpots`: chỗ đỗ xe\n",
    "- `address` : Địa chỉ của căn nhà\n",
    "- `listPrice `: Giá tiền hiện giao bán\n",
    "- `lotSize`: diện tích sử dụng\n",
    "- `heating system`: hệ thống giữ nhiệt\n",
    "- `cooling system`: hệ thống làm lạnh\n",
    "- `view_type`: view của căn nhà\n",
    "- `architecture_style`: phong cách thiết kế\n",
    "- `yearBuilt`: năm xây dựng\n",
    "- `has_pool`: số lượng hồ bơi\n",
    "- `city`: thành phố\n",
    "- `tax`: tiền thuế"
   ]
  },
  {
   "cell_type": "markdown",
   "id": "919cbffd",
   "metadata": {},
   "source": [
    "### Làm rõ câu hỏi"
   ]
  },
  {
   "cell_type": "markdown",
   "id": "c4aae98a",
   "metadata": {},
   "source": [
    "**Câu hỏi đưa ra:** Với một căn nhà mơ ước, người khách hàng cần bao nhiêu tiền để có thể mua được ở bang Chicago của Mỹ ? \n",
    "\n",
    "Tạm thời các cột Input sẽ là thông tin liên quan tới căn nhà được giao bán, tổng cộng có 15 cột. Cột Output sẽ là giá bán của ngôi nhà. Nhóm sẽ sử dụng mô hình hồi quy để dự đoán giá nhà (cột Output) dựa trên thông tin của căn nhà (cột Input).\n",
    "\n",
    "Các cột Input có thể thay đổi ở các bước tiền xử lý sau.\n",
    "\n",
    "**Lợi ích khi trả lời**: \n",
    "\n",
    "Có thể đưa ra một mức giá sấp xỉ để những người trẻ có thể dựa vào đó để nổ lực phấn đấu mua được căn nhà mình muốn."
   ]
  },
  {
   "cell_type": "markdown",
   "id": "0fee03f4",
   "metadata": {},
   "source": [
    "## Khám phá dữ liệu (để tách các tập)\n"
   ]
  },
  {
   "cell_type": "markdown",
   "id": "f235c13a",
   "metadata": {},
   "source": [
    "Để biết cách tách các tập thì cần khám phá thêm tập output:\n",
    "- Cột này hiện có kiểu dữ liệu là gì? Đối với bài toán hồi quy, cột output cần có kiểu dữ liệu dạng số\n",
    "- Cột này có giá trị thiếu không? Nếu có giá trị thiếu thì cần loại bỏ trước khi tách tập\n",
    "- Phân phối cột output như thế nào?"
   ]
  },
  {
   "cell_type": "code",
   "execution_count": 7,
   "id": "60bedc5f",
   "metadata": {},
   "outputs": [
    {
     "data": {
      "text/plain": [
       "dtype('int64')"
      ]
     },
     "execution_count": 7,
     "metadata": {},
     "output_type": "execute_result"
    }
   ],
   "source": [
    "# Kiểu dữ liệu cột output\n",
    "df['listPrice'].dtype"
   ]
  },
  {
   "cell_type": "code",
   "execution_count": 8,
   "id": "107b6a4c",
   "metadata": {},
   "outputs": [
    {
     "data": {
      "text/plain": [
       "0"
      ]
     },
     "execution_count": 8,
     "metadata": {},
     "output_type": "execute_result"
    }
   ],
   "source": [
    "# Có giá trị nào thiếu không?\n",
    "df['listPrice'].isna().sum()"
   ]
  },
  {
   "cell_type": "code",
   "execution_count": 9,
   "id": "876022fc",
   "metadata": {},
   "outputs": [
    {
     "data": {
      "image/png": "[encoded data removed]",
      "text/plain": [
       "<Figure size 576x360 with 1 Axes>"
      ]
     },
     "metadata": {},
     "output_type": "display_data"
    }
   ],
   "source": [
    "# Biểu đồ histogram của cột output\n",
    "sns.set(style='whitegrid', palette=\"deep\", font_scale=1.1, rc={\"figure.figsize\": [8, 5]})\n",
    "sns.histplot(data =  df['listPrice'], bins=20).set(xlabel='Sale Price', ylabel='Count');"
   ]
  },
  {
   "cell_type": "markdown",
   "id": "3f196f7d",
   "metadata": {},
   "source": [
    "**Nhận xét từ biểu đồ**:\n",
    "- Có xuất hiện outliers, làm cho khoảng cách giữa min và max quá lớn \n",
    "- Dữ liệu phân bố không đều, tập trung nhiều vào khoảng < 1000000$\\$$ \n",
    "\n",
    "**Kết luận**:\n",
    "- Sẽ xử lí outliers cho tập Train để mô hình học không bị ảnh hưởng bởi nhiễu "
   ]
  },
  {
   "cell_type": "markdown",
   "id": "e83de068",
   "metadata": {},
   "source": [
    "---"
   ]
  },
  {
   "cell_type": "markdown",
   "id": "1530e96e",
   "metadata": {},
   "source": [
    "### Tiền xử lý tách tập dữ liệu"
   ]
  },
  {
   "cell_type": "code",
   "execution_count": 10,
   "id": "c917bace",
   "metadata": {},
   "outputs": [],
   "source": [
    "# Tách X và y\n",
    "y = df[\"listPrice\"] \n",
    "X = df.drop(\"listPrice\", axis=1)"
   ]
  },
  {
   "cell_type": "markdown",
   "id": "727e741e",
   "metadata": {},
   "source": [
    "Tách tập huấn luyện và tập validation và tập test theo tỉ lệ **60:20:20**"
   ]
  },
  {
   "cell_type": "code",
   "execution_count": 11,
   "id": "b9b7cc64",
   "metadata": {},
   "outputs": [],
   "source": [
    "train_X, test_X, train_y, test_y = train_test_split(X, y, \n",
    "                                               test_size=0.2)"
   ]
  },
  {
   "cell_type": "code",
   "execution_count": 12,
   "id": "dfd1fde5",
   "metadata": {},
   "outputs": [],
   "source": [
    "train_X, val_X, train_y, val_y = train_test_split(train_X, train_y, \n",
    "                                               test_size=0.25) # 0.25*0.8 = 0.2"
   ]
  },
  {
   "cell_type": "code",
   "execution_count": 13,
   "id": "e916d3b2",
   "metadata": {},
   "outputs": [
    {
     "name": "stdout",
     "output_type": "stream",
     "text": [
      "train_X.shape:  (946, 15)\n",
      "train_y.shape:  (946,)\n",
      "val_X.shape:  (316, 15)\n",
      "val_y.shape:  (316,)\n",
      "test_X.shape:  (316, 15)\n",
      "test_y.shape:  (316,)\n"
     ]
    }
   ],
   "source": [
    "print(\"train_X.shape: \", train_X.shape)\n",
    "print(\"train_y.shape: \", train_y.shape)\n",
    "\n",
    "print(\"val_X.shape: \", val_X.shape)\n",
    "print(\"val_y.shape: \", val_y.shape)\n",
    "\n",
    "print(\"test_X.shape: \", test_X.shape)\n",
    "print(\"test_y.shape: \", test_y.shape)"
   ]
  },
  {
   "cell_type": "markdown",
   "id": "478b1bc2",
   "metadata": {},
   "source": [
    "---"
   ]
  },
  {
   "cell_type": "markdown",
   "id": "2303f0f7",
   "metadata": {},
   "source": [
    "## Khám phá dữ liệu (trên tập train)"
   ]
  },
  {
   "cell_type": "markdown",
   "id": "a6f704a3",
   "metadata": {},
   "source": [
    "### Kiểu dữ liệu từng cột. Có cột nào chưa phù hợp?"
   ]
  },
  {
   "cell_type": "code",
   "execution_count": 14,
   "id": "c0fd271c",
   "metadata": {},
   "outputs": [
    {
     "data": {
      "text/plain": [
       "sqft                  float64\n",
       "homeType               object\n",
       "beds                    int64\n",
       "parkingSpots          float64\n",
       "lotSize               float64\n",
       "baths                   int64\n",
       "heating_system         object\n",
       "cooling_system         object\n",
       "view_type             float64\n",
       "architecture_style     object\n",
       "yearBuilt             float64\n",
       "has_pool               object\n",
       "city                   object\n",
       "address                object\n",
       "tax                   float64\n",
       "dtype: object"
      ]
     },
     "execution_count": 14,
     "metadata": {},
     "output_type": "execute_result"
    }
   ],
   "source": [
    "train_X.dtypes"
   ]
  },
  {
   "cell_type": "markdown",
   "id": "d9d6edc3",
   "metadata": {},
   "source": [
    "**Nhận xét**: Tất cả các cột trên đều có kiểu dữ liệu phù hợp"
   ]
  },
  {
   "cell_type": "markdown",
   "id": "85606d6c",
   "metadata": {},
   "source": [
    "### Các cột dạng numerical phân bố như thế nào?"
   ]
  },
  {
   "cell_type": "code",
   "execution_count": 15,
   "id": "cb64a6f6",
   "metadata": {},
   "outputs": [
    {
     "data": {
      "text/plain": [
       "sqft            float64\n",
       "beds              int64\n",
       "parkingSpots    float64\n",
       "lotSize         float64\n",
       "baths             int64\n",
       "view_type       float64\n",
       "yearBuilt       float64\n",
       "tax             float64\n",
       "dtype: object"
      ]
     },
     "execution_count": 15,
     "metadata": {},
     "output_type": "execute_result"
    }
   ],
   "source": [
    "train_X.dtypes[train_X.dtypes != object]"
   ]
  },
  {
   "cell_type": "code",
   "execution_count": 16,
   "id": "31a32dad",
   "metadata": {},
   "outputs": [
    {
     "data": {
      "text/html": [
       "<div>\n",
       "<style scoped>\n",
       "    .dataframe tbody tr th:only-of-type {\n",
       "        vertical-align: middle;\n",
       "    }\n",
       "\n",
       "    .dataframe tbody tr th {\n",
       "        vertical-align: top;\n",
       "    }\n",
       "\n",
       "    .dataframe thead th {\n",
       "        text-align: right;\n",
       "    }\n",
       "</style>\n",
       "<table border=\"1\" class=\"dataframe\">\n",
       "  <thead>\n",
       "    <tr style=\"text-align: right;\">\n",
       "      <th></th>\n",
       "      <th>sqft</th>\n",
       "      <th>beds</th>\n",
       "      <th>parkingSpots</th>\n",
       "      <th>lotSize</th>\n",
       "      <th>baths</th>\n",
       "      <th>view_type</th>\n",
       "      <th>yearBuilt</th>\n",
       "      <th>tax</th>\n",
       "    </tr>\n",
       "  </thead>\n",
       "  <tbody>\n",
       "    <tr>\n",
       "      <th>missing_percentage</th>\n",
       "      <td>20.4</td>\n",
       "      <td>0.0</td>\n",
       "      <td>16.6</td>\n",
       "      <td>53.2</td>\n",
       "      <td>0.0</td>\n",
       "      <td>100.0</td>\n",
       "      <td>9.5</td>\n",
       "      <td>5.5</td>\n",
       "    </tr>\n",
       "    <tr>\n",
       "      <th>min</th>\n",
       "      <td>470.0</td>\n",
       "      <td>0.0</td>\n",
       "      <td>0.0</td>\n",
       "      <td>0.0</td>\n",
       "      <td>1.0</td>\n",
       "      <td>NaN</td>\n",
       "      <td>1868.0</td>\n",
       "      <td>77.4</td>\n",
       "    </tr>\n",
       "    <tr>\n",
       "      <th>lower_quartile</th>\n",
       "      <td>1079.0</td>\n",
       "      <td>2.0</td>\n",
       "      <td>1.0</td>\n",
       "      <td>3136.0</td>\n",
       "      <td>2.0</td>\n",
       "      <td>NaN</td>\n",
       "      <td>1924.0</td>\n",
       "      <td>2375.1</td>\n",
       "    </tr>\n",
       "    <tr>\n",
       "      <th>median</th>\n",
       "      <td>1411.0</td>\n",
       "      <td>3.0</td>\n",
       "      <td>2.0</td>\n",
       "      <td>3781.0</td>\n",
       "      <td>2.0</td>\n",
       "      <td>NaN</td>\n",
       "      <td>1958.0</td>\n",
       "      <td>4283.1</td>\n",
       "    </tr>\n",
       "    <tr>\n",
       "      <th>upper_quartile</th>\n",
       "      <td>2000.0</td>\n",
       "      <td>4.0</td>\n",
       "      <td>2.0</td>\n",
       "      <td>5009.0</td>\n",
       "      <td>3.0</td>\n",
       "      <td>NaN</td>\n",
       "      <td>2001.0</td>\n",
       "      <td>8006.3</td>\n",
       "    </tr>\n",
       "    <tr>\n",
       "      <th>max</th>\n",
       "      <td>7600.0</td>\n",
       "      <td>4.0</td>\n",
       "      <td>100.0</td>\n",
       "      <td>5225894.0</td>\n",
       "      <td>5.0</td>\n",
       "      <td>NaN</td>\n",
       "      <td>2022.0</td>\n",
       "      <td>730774.0</td>\n",
       "    </tr>\n",
       "  </tbody>\n",
       "</table>\n",
       "</div>"
      ],
      "text/plain": [
       "                      sqft  beds  parkingSpots    lotSize  baths  view_type  \\\n",
       "missing_percentage    20.4   0.0          16.6       53.2    0.0      100.0   \n",
       "min                  470.0   0.0           0.0        0.0    1.0        NaN   \n",
       "lower_quartile      1079.0   2.0           1.0     3136.0    2.0        NaN   \n",
       "median              1411.0   3.0           2.0     3781.0    2.0        NaN   \n",
       "upper_quartile      2000.0   4.0           2.0     5009.0    3.0        NaN   \n",
       "max                 7600.0   4.0         100.0  5225894.0    5.0        NaN   \n",
       "\n",
       "                    yearBuilt       tax  \n",
       "missing_percentage        9.5       5.5  \n",
       "min                    1868.0      77.4  \n",
       "lower_quartile         1924.0    2375.1  \n",
       "median                 1958.0    4283.1  \n",
       "upper_quartile         2001.0    8006.3  \n",
       "max                    2022.0  730774.0  "
      ]
     },
     "execution_count": 16,
     "metadata": {},
     "output_type": "execute_result"
    }
   ],
   "source": [
    "num_cols = ['sqft',\"beds\",\"parkingSpots\",\"lotSize\",\"baths\",\"view_type\",\"yearBuilt\",\"tax\"]\n",
    "num_df = train_X[num_cols]\n",
    "def missing_percentage(c):\n",
    "    return (c.isna().mean() * 100).round(1)\n",
    "def median(c):\n",
    "    return c.quantile(0.5).round(1)\n",
    "def lower_quartile(c):\n",
    "    return c.quantile(0.25).round(1)\n",
    "def upper_quartile(c):\n",
    "    return c.quantile(0.75).round(1)\n",
    "\n",
    "num_df.agg([missing_percentage, 'min',lower_quartile, median,upper_quartile, 'max'])"
   ]
  },
  {
   "cell_type": "markdown",
   "id": "e8b5c605",
   "metadata": {},
   "source": [
    "**Nhận xét**: \n",
    "- Cột \"view_type\" không có giá trị nào, không có ý nghĩa $\\to$ Loại bỏ\n",
    "- Cột \"lotSize\" có tỷ lệ thiếu quá lớn (khoảng 40%) $\\to$ Loại bỏ\n",
    "- Khoảng cách giữa min và max quá lớn (cột \"tax\",\"parkingSpot\") $\\to$ Có thể do outliers "
   ]
  },
  {
   "cell_type": "markdown",
   "id": "3c2895a9",
   "metadata": {},
   "source": [
    "### Các cột dạng categorical phân bố như thế nào?"
   ]
  },
  {
   "cell_type": "code",
   "execution_count": 17,
   "id": "f8bf7ab9",
   "metadata": {},
   "outputs": [
    {
     "data": {
      "text/plain": [
       "homeType              object\n",
       "heating_system        object\n",
       "cooling_system        object\n",
       "architecture_style    object\n",
       "has_pool              object\n",
       "city                  object\n",
       "address               object\n",
       "dtype: object"
      ]
     },
     "execution_count": 17,
     "metadata": {},
     "output_type": "execute_result"
    }
   ],
   "source": [
    "train_X.dtypes[train_X.dtypes == object]"
   ]
  },
  {
   "cell_type": "code",
   "execution_count": 18,
   "id": "284a1605",
   "metadata": {
    "scrolled": true
   },
   "outputs": [
    {
     "data": {
      "text/html": [
       "<div>\n",
       "<style scoped>\n",
       "    .dataframe tbody tr th:only-of-type {\n",
       "        vertical-align: middle;\n",
       "    }\n",
       "\n",
       "    .dataframe tbody tr th {\n",
       "        vertical-align: top;\n",
       "    }\n",
       "\n",
       "    .dataframe thead th {\n",
       "        text-align: right;\n",
       "    }\n",
       "</style>\n",
       "<table border=\"1\" class=\"dataframe\">\n",
       "  <thead>\n",
       "    <tr style=\"text-align: right;\">\n",
       "      <th></th>\n",
       "      <th>cooling_system</th>\n",
       "      <th>has_pool</th>\n",
       "      <th>architecture_style</th>\n",
       "      <th>address</th>\n",
       "      <th>city</th>\n",
       "      <th>heating_system</th>\n",
       "      <th>homeType</th>\n",
       "    </tr>\n",
       "  </thead>\n",
       "  <tbody>\n",
       "    <tr>\n",
       "      <th>missing_percentage</th>\n",
       "      <td>1.0</td>\n",
       "      <td>97.6</td>\n",
       "      <td>0.0</td>\n",
       "      <td>0.0</td>\n",
       "      <td>0.0</td>\n",
       "      <td>27.2</td>\n",
       "      <td>0.0</td>\n",
       "    </tr>\n",
       "    <tr>\n",
       "      <th>num_values</th>\n",
       "      <td>4</td>\n",
       "      <td>1</td>\n",
       "      <td>15</td>\n",
       "      <td>944</td>\n",
       "      <td>1</td>\n",
       "      <td>24</td>\n",
       "      <td>4</td>\n",
       "    </tr>\n",
       "    <tr>\n",
       "      <th>value_percentages</th>\n",
       "      <td>{'Central A/C': 77.7, 'Window Unit(s) A/C': 11.3, 'None': 10.8, 'Zoned A/C': 0.2}</td>\n",
       "      <td>{True: 100.0}</td>\n",
       "      <td>{'Other': 65.9, 'High Rise': 9.6, 'Ranch': 6.6, 'Bungalow': 6.4, 'Loft': 2.9, 'Cape Cod': 1.9, 'Georgian': 1.8, 'Contemporary': 1.0, 'New Traditional': 0.8, 'Cottage': 0.7, 'Split Level': 0.6, 'En...</td>\n",
       "      <td>{'1512 West Chestnut Street #2': 0.2, '420 East Waterside Drive #1403': 0.2, '6610 North California Avenue #2S': 0.1, '6875 North Northwest Highway #2D': 0.1, '1815 North Fremont Street': 0.1, '42...</td>\n",
       "      <td>{'Chicago': 100.0}</td>\n",
       "      <td>{'Forced Air (Natural Gas)': 59.9, 'Fireplace (Natural Gas)': 11.0, 'Forced Air': 6.7, 'Hot Water': 3.3, 'Baseboard': 3.0, 'Baseboard (Natural Gas)': 2.9, 'Radiator': 2.6, 'Hot Water (Natural Gas)...</td>\n",
       "      <td>{'Condo/Coop': 50.6, 'Single Family Residential': 48.0, 'Townhouse': 0.7, 'Other': 0.6}</td>\n",
       "    </tr>\n",
       "  </tbody>\n",
       "</table>\n",
       "</div>"
      ],
      "text/plain": [
       "                                                                                       cooling_system  \\\n",
       "missing_percentage                                                                                1.0   \n",
       "num_values                                                                                          4   \n",
       "value_percentages   {'Central A/C': 77.7, 'Window Unit(s) A/C': 11.3, 'None': 10.8, 'Zoned A/C': 0.2}   \n",
       "\n",
       "                         has_pool  \\\n",
       "missing_percentage           97.6   \n",
       "num_values                      1   \n",
       "value_percentages   {True: 100.0}   \n",
       "\n",
       "                                                                                                                                                                                                         architecture_style  \\\n",
       "missing_percentage                                                                                                                                                                                                      0.0   \n",
       "num_values                                                                                                                                                                                                               15   \n",
       "value_percentages   {'Other': 65.9, 'High Rise': 9.6, 'Ranch': 6.6, 'Bungalow': 6.4, 'Loft': 2.9, 'Cape Cod': 1.9, 'Georgian': 1.8, 'Contemporary': 1.0, 'New Traditional': 0.8, 'Cottage': 0.7, 'Split Level': 0.6, 'En...   \n",
       "\n",
       "                                                                                                                                                                                                                    address  \\\n",
       "missing_percentage                                                                                                                                                                                                      0.0   \n",
       "num_values                                                                                                                                                                                                              944   \n",
       "value_percentages   {'1512 West Chestnut Street #2': 0.2, '420 East Waterside Drive #1403': 0.2, '6610 North California Avenue #2S': 0.1, '6875 North Northwest Highway #2D': 0.1, '1815 North Fremont Street': 0.1, '42...   \n",
       "\n",
       "                                  city  \\\n",
       "missing_percentage                 0.0   \n",
       "num_values                           1   \n",
       "value_percentages   {'Chicago': 100.0}   \n",
       "\n",
       "                                                                                                                                                                                                             heating_system  \\\n",
       "missing_percentage                                                                                                                                                                                                     27.2   \n",
       "num_values                                                                                                                                                                                                               24   \n",
       "value_percentages   {'Forced Air (Natural Gas)': 59.9, 'Fireplace (Natural Gas)': 11.0, 'Forced Air': 6.7, 'Hot Water': 3.3, 'Baseboard': 3.0, 'Baseboard (Natural Gas)': 2.9, 'Radiator': 2.6, 'Hot Water (Natural Gas)...   \n",
       "\n",
       "                                                                                                   homeType  \n",
       "missing_percentage                                                                                      0.0  \n",
       "num_values                                                                                                4  \n",
       "value_percentages   {'Condo/Coop': 50.6, 'Single Family Residential': 48.0, 'Townhouse': 0.7, 'Other': 0.6}  "
      ]
     },
     "execution_count": 18,
     "metadata": {},
     "output_type": "execute_result"
    }
   ],
   "source": [
    "cate_cols = list(set(train_X.columns) - set(num_cols))\n",
    "cate_df = train_X[cate_cols]\n",
    "pd.set_option('display.max_colwidth', 200)\n",
    "def num_values(df):\n",
    "    return df.nunique()\n",
    "def value_percentages(c):\n",
    "    return dict((c.value_counts(normalize=True) * 100).round(1))\n",
    "cate_df.agg([missing_percentage, num_values, value_percentages])"
   ]
  },
  {
   "cell_type": "markdown",
   "id": "e2d04a4e",
   "metadata": {},
   "source": [
    "**Nhận xét**:\n",
    "- Cột \"has_pool\" có tỷ lệ thiếu quá lớn > 80% $\\to$ Loại bỏ\n",
    "- Cột \"city\" chỉ có 1 giá trị, không có tác động với mô hình $\\to$ Loại bỏ\n",
    "- Giá trị của các cột đều không có thứ tự \n",
    "- Cột \"address\" có quá nhiều giá trị phân biệt $\\to$ Thử lấy tên đường"
   ]
  },
  {
   "cell_type": "markdown",
   "id": "b5430f18",
   "metadata": {},
   "source": [
    "#### Tiền xử lí cột Address (tách tên đường)"
   ]
  },
  {
   "cell_type": "code",
   "execution_count": 19,
   "id": "373c411d",
   "metadata": {},
   "outputs": [
    {
     "data": {
      "text/html": [
       "<div>\n",
       "<style scoped>\n",
       "    .dataframe tbody tr th:only-of-type {\n",
       "        vertical-align: middle;\n",
       "    }\n",
       "\n",
       "    .dataframe tbody tr th {\n",
       "        vertical-align: top;\n",
       "    }\n",
       "\n",
       "    .dataframe thead th {\n",
       "        text-align: right;\n",
       "    }\n",
       "</style>\n",
       "<table border=\"1\" class=\"dataframe\">\n",
       "  <thead>\n",
       "    <tr style=\"text-align: right;\">\n",
       "      <th></th>\n",
       "      <th>Street</th>\n",
       "    </tr>\n",
       "  </thead>\n",
       "  <tbody>\n",
       "    <tr>\n",
       "      <th>num_values</th>\n",
       "      <td>594</td>\n",
       "    </tr>\n",
       "    <tr>\n",
       "      <th>value_percentages</th>\n",
       "      <td>{'North Lake Shore Drive': 1.6, 'South State Street': 1.1, 'North Sheridan Road': 0.8, 'South Green Street': 0.7, 'East Delaware Place': 0.7, 'North Halsted Street': 0.7, 'North Paulina Street': 0...</td>\n",
       "    </tr>\n",
       "  </tbody>\n",
       "</table>\n",
       "</div>"
      ],
      "text/plain": [
       "                                                                                                                                                                                                                    Street\n",
       "num_values                                                                                                                                                                                                             594\n",
       "value_percentages  {'North Lake Shore Drive': 1.6, 'South State Street': 1.1, 'North Sheridan Road': 0.8, 'South Green Street': 0.7, 'East Delaware Place': 0.7, 'North Halsted Street': 0.7, 'North Paulina Street': 0..."
      ]
     },
     "execution_count": 19,
     "metadata": {},
     "output_type": "execute_result"
    }
   ],
   "source": [
    "street_col = train_X[\"address\"].str.extract('(?P<number>\\d+)(?P<Street>.*)')\n",
    "street_col = street_col.Street.str.split(\"#\").str[0]\n",
    "street_col = street_col.str.strip()\n",
    "street_col.agg([num_values, value_percentages]).to_frame()"
   ]
  },
  {
   "cell_type": "markdown",
   "id": "c0142a04",
   "metadata": {},
   "source": [
    "Có nhiều giá trị rời rạc trong cột \"street_col\", và phần trăm đóng góp từng giá trị quá nhỏ \\\n",
    "$\\to$ Bỏ cột \"address\""
   ]
  },
  {
   "cell_type": "markdown",
   "id": "63f142f7",
   "metadata": {},
   "source": [
    "### Mối quan hệ các cột input với cột output"
   ]
  },
  {
   "cell_type": "markdown",
   "id": "5bea6294",
   "metadata": {},
   "source": [
    "#### Mối quan hệ giữa output và numerical columns"
   ]
  },
  {
   "cell_type": "code",
   "execution_count": 20,
   "id": "f6f0c1b4",
   "metadata": {},
   "outputs": [
    {
     "data": {
      "image/png": "[encoded data removed]",
      "text/plain": [
       "<Figure size 1080x720 with 6 Axes>"
      ]
     },
     "metadata": {},
     "output_type": "display_data"
    }
   ],
   "source": [
    "fig, ax = plt.subplots(2,3, figsize=(15, 10))\n",
    "num_df = num_df.drop(columns=[\"lotSize\",\"view_type\"])\n",
    "for var, subplot in zip(num_df, ax.flatten()):\n",
    "    sns.scatterplot(x=train_X[var],y=train_y, ax=subplot);"
   ]
  },
  {
   "cell_type": "markdown",
   "id": "e12c8e24",
   "metadata": {},
   "source": [
    "**Nhận xét biểu đồ:**\n",
    "- Do xuất hiện outliers với khoảng cách quá xa nên ở các cột \"parkingSpot\",\"tax\" thì dữ liệu bị chụm lại một phía\n",
    "- Từ biểu đồ, có thể thấy yearBuilt và listPrice không có mối quan hệ nào với nhau\n",
    "\n",
    "**Kết luận**:\n",
    "- Loại bỏ cột \"yearBuilt\"\n",
    "- Thực hiện loại bỏ outliers cho các cột numerical"
   ]
  },
  {
   "cell_type": "markdown",
   "id": "5020c4e5",
   "metadata": {},
   "source": [
    "#### Mối quan hệ giữa output và categorical columns"
   ]
  },
  {
   "cell_type": "code",
   "execution_count": 21,
   "id": "87c2ec2b",
   "metadata": {},
   "outputs": [
    {
     "data": {
      "image/png": "[encoded data removed]",
      "text/plain": [
       "<Figure size 1440x720 with 4 Axes>"
      ]
     },
     "metadata": {},
     "output_type": "display_data"
    }
   ],
   "source": [
    "fig, ax = plt.subplots(2,2, figsize=(20, 10))\n",
    "cate_df = cate_df.drop(columns=[\"city\",\"address\",\"has_pool\"])\n",
    "for var, subplot in zip(cate_df, ax.flatten()):\n",
    "    sns.boxplot(x=train_X[var],y=train_y, ax=subplot)"
   ]
  },
  {
   "cell_type": "markdown",
   "id": "64ff643f",
   "metadata": {},
   "source": [
    "## Tiền xử lý tập train"
   ]
  },
  {
   "cell_type": "markdown",
   "id": "552bc433",
   "metadata": {},
   "source": [
    "### Loại bỏ outliers khỏi tập Train"
   ]
  },
  {
   "cell_type": "markdown",
   "id": "8ca60be9",
   "metadata": {},
   "source": [
    "**Phương pháp loại bỏ**: sử dụng độ lệch chuẩn (standard deviation) \\\n",
    "Dựa trên [68-95-99.7 rule](https://en.wikipedia.org/wiki/68%E2%80%9395%E2%80%9399.7_rule) \\\n",
    "Giữ lại 99.7% dữ liệu với công thức $\\mu-3\\sigma \\leq X \\leq \\mu+3\\sigma$\n",
    "- $\\mu$ là giá trị trung bình \n",
    "- $\\sigma$ là độ lệch chuẩn"
   ]
  },
  {
   "cell_type": "code",
   "execution_count": 22,
   "id": "22febb6a",
   "metadata": {},
   "outputs": [
    {
     "name": "stdout",
     "output_type": "stream",
     "text": [
      "\n"
     ]
    }
   ],
   "source": [
    "outliers_index = set()\n",
    "_cols = ['sqft',\"beds\",\"parkingSpots\",\"baths\",\"tax\",\"listPrice\"]\n",
    "\n",
    "def outliers_removed(col):\n",
    "    if col.name in _cols:\n",
    "        data_std = col.std()    \n",
    "        data_mean = col.mean()\n",
    "        cut_off = data_std * 3\n",
    "        lower, upper = data_mean - cut_off, data_mean + cut_off\n",
    "        outliers_removed = (col < lower) | (col > upper)\n",
    "        outliers_index.update(set(col[outliers_removed].index.values))\n",
    "    return col\n",
    "\n",
    "train_X.apply(outliers_removed)\n",
    "print()\n",
    "outliers_removed(train_y) \n",
    "\n",
    "train_X = train_X.drop(list(outliers_index))\n",
    "train_y = train_y.drop(list(outliers_index))"
   ]
  },
  {
   "cell_type": "markdown",
   "id": "e38e3497",
   "metadata": {},
   "source": [
    "### Cột dạng numerical"
   ]
  },
  {
   "cell_type": "markdown",
   "id": "09a7e0d5",
   "metadata": {},
   "source": [
    "- Điền các giá trị thiếu là bằng cách sử dụng median \n",
    "- Các cột cần phải loại bỏ là lotSize, view_type, yearBuilt \\\n",
    "$\\to$ Các cột numerical còn lại: `sqft`,`beds`,`parkingSpots`,`baths`,`tax`"
   ]
  },
  {
   "cell_type": "markdown",
   "id": "92ed0c75",
   "metadata": {},
   "source": [
    "#### Đối với các cột numerical sau khi loại bỏ nhiễu"
   ]
  },
  {
   "cell_type": "code",
   "execution_count": 23,
   "id": "b3516d96",
   "metadata": {
    "scrolled": false
   },
   "outputs": [
    {
     "data": {
      "image/png": "[encoded data removed]",
      "text/plain": [
       "<Figure size 1080x720 with 6 Axes>"
      ]
     },
     "metadata": {},
     "output_type": "display_data"
    }
   ],
   "source": [
    "fig, ax = plt.subplots(2,3, figsize=(15, 10))\n",
    "num_df = num_df.drop(columns=[\"yearBuilt\"])\n",
    "for var, subplot in zip(num_df, ax.flatten()):\n",
    "    sns.scatterplot(x=train_X[var],y=train_y, ax=subplot);"
   ]
  },
  {
   "cell_type": "markdown",
   "id": "1071798e",
   "metadata": {},
   "source": [
    "**Nhận xét biểu đồ:**\n",
    "- Cột \"sqft\" và \"tax\" thể hiện rõ mối quan hệ tuyến tính với cột output\n",
    "- Cột \"parkingSpots\" không có mối quan hệ cụ thể $\\to$ Loại bỏ"
   ]
  },
  {
   "cell_type": "code",
   "execution_count": 24,
   "id": "bd7cf82a",
   "metadata": {},
   "outputs": [],
   "source": [
    "class NumeDropper(BaseEstimator, TransformerMixin):\n",
    "    def fit(self, X, y=None):\n",
    "        return self\n",
    "    def transform(self, X, y=None):\n",
    "        self.newX_df = X.copy()\n",
    "        # bỏ cột      \n",
    "        self.newX_df=self.newX_df.drop(columns=[\"lotSize\",\"view_type\",\"yearBuilt\",\"parkingSpots\"])\n",
    "        return self.newX_df"
   ]
  },
  {
   "cell_type": "markdown",
   "id": "6cf11d6e",
   "metadata": {},
   "source": [
    "### Cột dạng categorical"
   ]
  },
  {
   "cell_type": "markdown",
   "id": "f0557161",
   "metadata": {},
   "source": [
    "- Điền các giá trị thiếu bằng most-frequent\n",
    "- Các cột sẽ được loại bỏ: city, has_pool, address\n",
    "- heating_system, home_type, architecture_type, cooling_system sẽ được chuyển thành dạng one-hot"
   ]
  },
  {
   "cell_type": "code",
   "execution_count": 25,
   "id": "9c099b91",
   "metadata": {},
   "outputs": [],
   "source": [
    "def fit_col(X, num_top_titles):\n",
    "    self = X.value_counts()\n",
    "    index = list(self.index)\n",
    "    self = index[:max(1, min(num_top_titles, len(index)))]\n",
    "    return self\n",
    "\n",
    "def transform_col(self, X):\n",
    "    return np.where(X.isin(self),X,\"Other\")"
   ]
  },
  {
   "cell_type": "code",
   "execution_count": 26,
   "id": "f36dfb87",
   "metadata": {},
   "outputs": [],
   "source": [
    "class CateDropper(BaseEstimator, TransformerMixin):\n",
    "    def __init__(self, n=1):\n",
    "        self.n = n\n",
    "        self.top_cols = [\"heating_system\", \"homeType\", \"architecture_style\", \"cooling_system\"]\n",
    "    def fit(self, X, y=None):\n",
    "        self.heat_counts = fit_col(X.heating_system, self.n )\n",
    "        self.homeType = fit_col(X.homeType,self.n)\n",
    "        self.architecture_style = fit_col(X.architecture_style,self.n)\n",
    "        self.cooling_system = fit_col(X.cooling_system,self.n)\n",
    "        \n",
    "        return self\n",
    "    def transform(self, X, y=None):\n",
    "        self.newX_df = X.copy()\n",
    "        \n",
    "        self.newX_df[\"heating_system\"] = transform_col(self.heat_counts, self.newX_df[\"heating_system\"])\n",
    "        self.newX_df[\"homeType\"] = transform_col(self.homeType, self.newX_df[\"homeType\"])\n",
    "        self.newX_df[\"architecture_style\"] = transform_col(self.architecture_style, self.newX_df[\"architecture_style\"])\n",
    "        self.newX_df[\"cooling_system\"] = transform_col(self.cooling_system, self.newX_df[\"cooling_system\"])\n",
    "\n",
    "        # bỏ cột       \n",
    "        self.newX_df=self.newX_df.drop(columns=[\"has_pool\",\"city\",\"address\"])\n",
    "        return self.newX_df"
   ]
  },
  {
   "cell_type": "markdown",
   "id": "d38d8407",
   "metadata": {},
   "source": [
    "#### Đối với các cột categorical sao khi loại bỏ nhiễu"
   ]
  },
  {
   "cell_type": "code",
   "execution_count": 27,
   "id": "ddae0c79",
   "metadata": {
    "scrolled": false
   },
   "outputs": [
    {
     "data": {
      "image/png": "[encoded data removed]",
      "text/plain": [
       "<Figure size 1440x720 with 4 Axes>"
      ]
     },
     "metadata": {},
     "output_type": "display_data"
    }
   ],
   "source": [
    "orginial_X = train_X.copy()\n",
    "orginial_Y = train_y.copy()\n",
    "col_cateDropper = CateDropper(n=3)\n",
    "orginial_X = col_cateDropper.fit_transform(orginial_X)\n",
    "\n",
    "fig, ax = plt.subplots(2,2, figsize=(20, 10))\n",
    "for var, subplot in zip(cate_df, ax.flatten()):\n",
    "    g=sns.boxplot(x=orginial_X[var],y=orginial_Y, ax=subplot,whis=4)"
   ]
  },
  {
   "cell_type": "markdown",
   "id": "bbf28ade",
   "metadata": {},
   "source": [
    "### Toàn bộ quá trình xử lý sẽ được thực hiện như sau:\n",
    "- Xử lý các cột dạng số: bỏ đi lotSize và view_type và yearBuilt, điền các giá trị thiếu bằng median, loại bỏ outlier\n",
    "- Xử lý các cột dạng categorical: bỏ đi has_pool, address, city. Điền các giá trị thiếu bằng most-frequent, lấy top N giá trị xuất hiện nhiều nhất của các cột còn lại, chuyển thành Onehot"
   ]
  },
  {
   "cell_type": "code",
   "execution_count": 28,
   "id": "036e8799",
   "metadata": {},
   "outputs": [
    {
     "data": {
      "text/html": [
       "<style>#sk-a6681fbb-4a79-4fc9-9666-80c49e363278 {color: black;background-color: white;}#sk-a6681fbb-4a79-4fc9-9666-80c49e363278 pre{padding: 0;}#sk-a6681fbb-4a79-4fc9-9666-80c49e363278 div.sk-toggleable {background-color: white;}#sk-a6681fbb-4a79-4fc9-9666-80c49e363278 label.sk-toggleable__label {cursor: pointer;display: block;width: 100%;margin-bottom: 0;padding: 0.2em 0.3em;box-sizing: border-box;text-align: center;}#sk-a6681fbb-4a79-4fc9-9666-80c49e363278 div.sk-toggleable__content {max-height: 0;max-width: 0;overflow: hidden;text-align: left;background-color: #f0f8ff;}#sk-a6681fbb-4a79-4fc9-9666-80c49e363278 div.sk-toggleable__content pre {margin: 0.2em;color: black;border-radius: 0.25em;background-color: #f0f8ff;}#sk-a6681fbb-4a79-4fc9-9666-80c49e363278 input.sk-toggleable__control:checked~div.sk-toggleable__content {max-height: 200px;max-width: 100%;overflow: auto;}#sk-a6681fbb-4a79-4fc9-9666-80c49e363278 div.sk-estimator input.sk-toggleable__control:checked~label.sk-toggleable__label {background-color: #d4ebff;}#sk-a6681fbb-4a79-4fc9-9666-80c49e363278 div.sk-label input.sk-toggleable__control:checked~label.sk-toggleable__label {background-color: #d4ebff;}#sk-a6681fbb-4a79-4fc9-9666-80c49e363278 input.sk-hidden--visually {border: 0;clip: rect(1px 1px 1px 1px);clip: rect(1px, 1px, 1px, 1px);height: 1px;margin: -1px;overflow: hidden;padding: 0;position: absolute;width: 1px;}#sk-a6681fbb-4a79-4fc9-9666-80c49e363278 div.sk-estimator {font-family: monospace;background-color: #f0f8ff;margin: 0.25em 0.25em;border: 1px dotted black;border-radius: 0.25em;box-sizing: border-box;}#sk-a6681fbb-4a79-4fc9-9666-80c49e363278 div.sk-estimator:hover {background-color: #d4ebff;}#sk-a6681fbb-4a79-4fc9-9666-80c49e363278 div.sk-parallel-item::after {content: \"\";width: 100%;border-bottom: 1px solid gray;flex-grow: 1;}#sk-a6681fbb-4a79-4fc9-9666-80c49e363278 div.sk-label:hover label.sk-toggleable__label {background-color: #d4ebff;}#sk-a6681fbb-4a79-4fc9-9666-80c49e363278 div.sk-serial::before {content: \"\";position: absolute;border-left: 1px solid gray;box-sizing: border-box;top: 2em;bottom: 0;left: 50%;}#sk-a6681fbb-4a79-4fc9-9666-80c49e363278 div.sk-serial {display: flex;flex-direction: column;align-items: center;background-color: white;}#sk-a6681fbb-4a79-4fc9-9666-80c49e363278 div.sk-item {z-index: 1;}#sk-a6681fbb-4a79-4fc9-9666-80c49e363278 div.sk-parallel {display: flex;align-items: stretch;justify-content: center;background-color: white;}#sk-a6681fbb-4a79-4fc9-9666-80c49e363278 div.sk-parallel-item {display: flex;flex-direction: column;position: relative;background-color: white;}#sk-a6681fbb-4a79-4fc9-9666-80c49e363278 div.sk-parallel-item:first-child::after {align-self: flex-end;width: 50%;}#sk-a6681fbb-4a79-4fc9-9666-80c49e363278 div.sk-parallel-item:last-child::after {align-self: flex-start;width: 50%;}#sk-a6681fbb-4a79-4fc9-9666-80c49e363278 div.sk-parallel-item:only-child::after {width: 0;}#sk-a6681fbb-4a79-4fc9-9666-80c49e363278 div.sk-dashed-wrapped {border: 1px dashed gray;margin: 0.2em;box-sizing: border-box;padding-bottom: 0.1em;background-color: white;position: relative;}#sk-a6681fbb-4a79-4fc9-9666-80c49e363278 div.sk-label label {font-family: monospace;font-weight: bold;background-color: white;display: inline-block;line-height: 1.2em;}#sk-a6681fbb-4a79-4fc9-9666-80c49e363278 div.sk-label-container {position: relative;z-index: 2;text-align: center;}#sk-a6681fbb-4a79-4fc9-9666-80c49e363278 div.sk-container {display: inline-block;position: relative;}</style><div id=\"sk-a6681fbb-4a79-4fc9-9666-80c49e363278\" class\"sk-top-container\"><div class=\"sk-container\"><div class=\"sk-item sk-dashed-wrapped\"><div class=\"sk-label-container\"><div class=\"sk-label sk-toggleable\"><input class=\"sk-toggleable__control sk-hidden--visually\" id=\"1a986108-f04b-4b69-a7af-e927b10e1828\" type=\"checkbox\" ><label class=\"sk-toggleable__label\" for=\"1a986108-f04b-4b69-a7af-e927b10e1828\">Pipeline</label><div class=\"sk-toggleable__content\"><pre>Pipeline(steps=[('numdropper', NumeDropper()),\n",
       "                ('catedropper', CateDropper(n=3)),\n",
       "                ('preprocessor',\n",
       "                 ColumnTransformer(transformers=[('nume',\n",
       "                                                  Pipeline(steps=[('imputer',\n",
       "                                                                   SimpleImputer(strategy='median'))]),\n",
       "                                                  ['sqft', 'beds', 'baths',\n",
       "                                                   'tax']),\n",
       "                                                 ('cate',\n",
       "                                                  Pipeline(steps=[('imputer',\n",
       "                                                                   SimpleImputer(strategy='most_frequent')),\n",
       "                                                                  ('onehot',\n",
       "                                                                   OneHotEncoder(handle_unknown='ignore'))]),\n",
       "                                                  ['homeType', 'heating_system',\n",
       "                                                   'cooling_system',\n",
       "                                                   'architecture_style'])])),\n",
       "                ('minmax', MaxAbsScaler())])</pre></div></div></div><div class=\"sk-serial\"><div class=\"sk-item\"><div class=\"sk-estimator sk-toggleable\"><input class=\"sk-toggleable__control sk-hidden--visually\" id=\"3aaafc20-ed98-4282-a07c-b803f8874716\" type=\"checkbox\" ><label class=\"sk-toggleable__label\" for=\"3aaafc20-ed98-4282-a07c-b803f8874716\">NumeDropper</label><div class=\"sk-toggleable__content\"><pre>NumeDropper()</pre></div></div></div><div class=\"sk-item\"><div class=\"sk-estimator sk-toggleable\"><input class=\"sk-toggleable__control sk-hidden--visually\" id=\"e0a1199c-eef8-4814-a86b-5d2a09d72c05\" type=\"checkbox\" ><label class=\"sk-toggleable__label\" for=\"e0a1199c-eef8-4814-a86b-5d2a09d72c05\">CateDropper</label><div class=\"sk-toggleable__content\"><pre>CateDropper(n=3)</pre></div></div></div><div class=\"sk-item sk-dashed-wrapped\"><div class=\"sk-label-container\"><div class=\"sk-label sk-toggleable\"><input class=\"sk-toggleable__control sk-hidden--visually\" id=\"03791a33-a587-4bbd-b580-8ae9c4b7b49d\" type=\"checkbox\" ><label class=\"sk-toggleable__label\" for=\"03791a33-a587-4bbd-b580-8ae9c4b7b49d\">preprocessor: ColumnTransformer</label><div class=\"sk-toggleable__content\"><pre>ColumnTransformer(transformers=[('nume',\n",
       "                                 Pipeline(steps=[('imputer',\n",
       "                                                  SimpleImputer(strategy='median'))]),\n",
       "                                 ['sqft', 'beds', 'baths', 'tax']),\n",
       "                                ('cate',\n",
       "                                 Pipeline(steps=[('imputer',\n",
       "                                                  SimpleImputer(strategy='most_frequent')),\n",
       "                                                 ('onehot',\n",
       "                                                  OneHotEncoder(handle_unknown='ignore'))]),\n",
       "                                 ['homeType', 'heating_system',\n",
       "                                  'cooling_system', 'architecture_style'])])</pre></div></div></div><div class=\"sk-parallel\"><div class=\"sk-parallel-item\"><div class=\"sk-item\"><div class=\"sk-label-container\"><div class=\"sk-label sk-toggleable\"><input class=\"sk-toggleable__control sk-hidden--visually\" id=\"86086b19-dca7-486b-b594-3ebb8f88f52b\" type=\"checkbox\" ><label class=\"sk-toggleable__label\" for=\"86086b19-dca7-486b-b594-3ebb8f88f52b\">nume</label><div class=\"sk-toggleable__content\"><pre>['sqft', 'beds', 'baths', 'tax']</pre></div></div></div><div class=\"sk-serial\"><div class=\"sk-item\"><div class=\"sk-serial\"><div class=\"sk-item\"><div class=\"sk-estimator sk-toggleable\"><input class=\"sk-toggleable__control sk-hidden--visually\" id=\"6890a52b-103b-4208-871e-b39d7b5d7bae\" type=\"checkbox\" ><label class=\"sk-toggleable__label\" for=\"6890a52b-103b-4208-871e-b39d7b5d7bae\">SimpleImputer</label><div class=\"sk-toggleable__content\"><pre>SimpleImputer(strategy='median')</pre></div></div></div></div></div></div></div></div><div class=\"sk-parallel-item\"><div class=\"sk-item\"><div class=\"sk-label-container\"><div class=\"sk-label sk-toggleable\"><input class=\"sk-toggleable__control sk-hidden--visually\" id=\"4e9aefee-5d43-4dc4-bd0d-a95f9491f454\" type=\"checkbox\" ><label class=\"sk-toggleable__label\" for=\"4e9aefee-5d43-4dc4-bd0d-a95f9491f454\">cate</label><div class=\"sk-toggleable__content\"><pre>['homeType', 'heating_system', 'cooling_system', 'architecture_style']</pre></div></div></div><div class=\"sk-serial\"><div class=\"sk-item\"><div class=\"sk-serial\"><div class=\"sk-item\"><div class=\"sk-estimator sk-toggleable\"><input class=\"sk-toggleable__control sk-hidden--visually\" id=\"f04ce93f-546e-4b18-83ba-78cc02d3c2ec\" type=\"checkbox\" ><label class=\"sk-toggleable__label\" for=\"f04ce93f-546e-4b18-83ba-78cc02d3c2ec\">SimpleImputer</label><div class=\"sk-toggleable__content\"><pre>SimpleImputer(strategy='most_frequent')</pre></div></div></div><div class=\"sk-item\"><div class=\"sk-estimator sk-toggleable\"><input class=\"sk-toggleable__control sk-hidden--visually\" id=\"e6ab99e0-bafd-44d6-a2cf-570816863876\" type=\"checkbox\" ><label class=\"sk-toggleable__label\" for=\"e6ab99e0-bafd-44d6-a2cf-570816863876\">OneHotEncoder</label><div class=\"sk-toggleable__content\"><pre>OneHotEncoder(handle_unknown='ignore')</pre></div></div></div></div></div></div></div></div></div></div><div class=\"sk-item\"><div class=\"sk-estimator sk-toggleable\"><input class=\"sk-toggleable__control sk-hidden--visually\" id=\"45740672-81fc-488c-8256-21989197ec61\" type=\"checkbox\" ><label class=\"sk-toggleable__label\" for=\"45740672-81fc-488c-8256-21989197ec61\">MaxAbsScaler</label><div class=\"sk-toggleable__content\"><pre>MaxAbsScaler()</pre></div></div></div></div></div></div></div>"
      ],
      "text/plain": [
       "Pipeline(steps=[('numdropper', NumeDropper()),\n",
       "                ('catedropper', CateDropper(n=3)),\n",
       "                ('preprocessor',\n",
       "                 ColumnTransformer(transformers=[('nume',\n",
       "                                                  Pipeline(steps=[('imputer',\n",
       "                                                                   SimpleImputer(strategy='median'))]),\n",
       "                                                  ['sqft', 'beds', 'baths',\n",
       "                                                   'tax']),\n",
       "                                                 ('cate',\n",
       "                                                  Pipeline(steps=[('imputer',\n",
       "                                                                   SimpleImputer(strategy='most_frequent')),\n",
       "                                                                  ('onehot',\n",
       "                                                                   OneHotEncoder(handle_unknown='ignore'))]),\n",
       "                                                  ['homeType', 'heating_system',\n",
       "                                                   'cooling_system',\n",
       "                                                   'architecture_style'])])),\n",
       "                ('minmax', MaxAbsScaler())])"
      ]
     },
     "execution_count": 28,
     "metadata": {},
     "output_type": "execute_result"
    }
   ],
   "source": [
    "num_cols = [\"sqft\", \"beds\" , \"baths\",\"tax\"]\n",
    "cate_cols = [\"homeType\", \"heating_system\", \"cooling_system\",\"architecture_style\" ]\n",
    "\n",
    "\n",
    "numeric_transformer = Pipeline(steps=[\n",
    "    ('imputer', SimpleImputer(missing_values=np.nan, strategy='median'))])\n",
    "\n",
    "\n",
    "categotical_transformer = Pipeline(steps=[\n",
    "    ('imputer', SimpleImputer(missing_values=np.nan, strategy='most_frequent')),\n",
    "    ('onehot', OneHotEncoder(handle_unknown='ignore'))])\n",
    "\n",
    "\n",
    "preprocessor = ColumnTransformer(\n",
    "    transformers=[\n",
    "        ('nume', numeric_transformer, num_cols),\n",
    "        ('cate',categotical_transformer , cate_cols)])\n",
    "\n",
    "\n",
    "preprocess_pipeline = Pipeline(steps=[('numdropper',NumeDropper()),\n",
    "                                      ('catedropper', CateDropper(n=3)),\n",
    "                                      ('preprocessor', preprocessor),\n",
    "                                      ('minmax', MaxAbsScaler())])\n",
    "\n",
    "preprocess_pipeline"
   ]
  },
  {
   "cell_type": "markdown",
   "id": "b8219729",
   "metadata": {},
   "source": [
    "## Mô hình hóa"
   ]
  },
  {
   "cell_type": "markdown",
   "id": "a7eb833b",
   "metadata": {},
   "source": [
    "#### Hàm tính RR\n",
    "Nguồn: Bài 07-Demo.ipynb của thầy Trần Trung Kiên"
   ]
  },
  {
   "cell_type": "code",
   "execution_count": 29,
   "id": "0080bd10",
   "metadata": {},
   "outputs": [],
   "source": [
    "def compute_mse(y, preds):\n",
    "    return ((y - preds)**2).mean()\n",
    "def compute_rr(y, preds, baseline_preds):\n",
    "    return 1 - compute_mse(y, preds) / compute_mse(y, baseline_preds)\n",
    "baseline_preds = test_y.mean()"
   ]
  },
  {
   "cell_type": "markdown",
   "id": "7e38e6c9",
   "metadata": {},
   "source": [
    "### MLPRegressor"
   ]
  },
  {
   "cell_type": "markdown",
   "id": "61418501",
   "metadata": {},
   "source": [
    "#### Full pipeline"
   ]
  },
  {
   "cell_type": "code",
   "execution_count": 30,
   "id": "0d5d0000",
   "metadata": {},
   "outputs": [
    {
     "data": {
      "text/html": [
       "<style>#sk-66ebd47b-654a-4f9a-840a-ca14fa29e014 {color: black;background-color: white;}#sk-66ebd47b-654a-4f9a-840a-ca14fa29e014 pre{padding: 0;}#sk-66ebd47b-654a-4f9a-840a-ca14fa29e014 div.sk-toggleable {background-color: white;}#sk-66ebd47b-654a-4f9a-840a-ca14fa29e014 label.sk-toggleable__label {cursor: pointer;display: block;width: 100%;margin-bottom: 0;padding: 0.2em 0.3em;box-sizing: border-box;text-align: center;}#sk-66ebd47b-654a-4f9a-840a-ca14fa29e014 div.sk-toggleable__content {max-height: 0;max-width: 0;overflow: hidden;text-align: left;background-color: #f0f8ff;}#sk-66ebd47b-654a-4f9a-840a-ca14fa29e014 div.sk-toggleable__content pre {margin: 0.2em;color: black;border-radius: 0.25em;background-color: #f0f8ff;}#sk-66ebd47b-654a-4f9a-840a-ca14fa29e014 input.sk-toggleable__control:checked~div.sk-toggleable__content {max-height: 200px;max-width: 100%;overflow: auto;}#sk-66ebd47b-654a-4f9a-840a-ca14fa29e014 div.sk-estimator input.sk-toggleable__control:checked~label.sk-toggleable__label {background-color: #d4ebff;}#sk-66ebd47b-654a-4f9a-840a-ca14fa29e014 div.sk-label input.sk-toggleable__control:checked~label.sk-toggleable__label {background-color: #d4ebff;}#sk-66ebd47b-654a-4f9a-840a-ca14fa29e014 input.sk-hidden--visually {border: 0;clip: rect(1px 1px 1px 1px);clip: rect(1px, 1px, 1px, 1px);height: 1px;margin: -1px;overflow: hidden;padding: 0;position: absolute;width: 1px;}#sk-66ebd47b-654a-4f9a-840a-ca14fa29e014 div.sk-estimator {font-family: monospace;background-color: #f0f8ff;margin: 0.25em 0.25em;border: 1px dotted black;border-radius: 0.25em;box-sizing: border-box;}#sk-66ebd47b-654a-4f9a-840a-ca14fa29e014 div.sk-estimator:hover {background-color: #d4ebff;}#sk-66ebd47b-654a-4f9a-840a-ca14fa29e014 div.sk-parallel-item::after {content: \"\";width: 100%;border-bottom: 1px solid gray;flex-grow: 1;}#sk-66ebd47b-654a-4f9a-840a-ca14fa29e014 div.sk-label:hover label.sk-toggleable__label {background-color: #d4ebff;}#sk-66ebd47b-654a-4f9a-840a-ca14fa29e014 div.sk-serial::before {content: \"\";position: absolute;border-left: 1px solid gray;box-sizing: border-box;top: 2em;bottom: 0;left: 50%;}#sk-66ebd47b-654a-4f9a-840a-ca14fa29e014 div.sk-serial {display: flex;flex-direction: column;align-items: center;background-color: white;}#sk-66ebd47b-654a-4f9a-840a-ca14fa29e014 div.sk-item {z-index: 1;}#sk-66ebd47b-654a-4f9a-840a-ca14fa29e014 div.sk-parallel {display: flex;align-items: stretch;justify-content: center;background-color: white;}#sk-66ebd47b-654a-4f9a-840a-ca14fa29e014 div.sk-parallel-item {display: flex;flex-direction: column;position: relative;background-color: white;}#sk-66ebd47b-654a-4f9a-840a-ca14fa29e014 div.sk-parallel-item:first-child::after {align-self: flex-end;width: 50%;}#sk-66ebd47b-654a-4f9a-840a-ca14fa29e014 div.sk-parallel-item:last-child::after {align-self: flex-start;width: 50%;}#sk-66ebd47b-654a-4f9a-840a-ca14fa29e014 div.sk-parallel-item:only-child::after {width: 0;}#sk-66ebd47b-654a-4f9a-840a-ca14fa29e014 div.sk-dashed-wrapped {border: 1px dashed gray;margin: 0.2em;box-sizing: border-box;padding-bottom: 0.1em;background-color: white;position: relative;}#sk-66ebd47b-654a-4f9a-840a-ca14fa29e014 div.sk-label label {font-family: monospace;font-weight: bold;background-color: white;display: inline-block;line-height: 1.2em;}#sk-66ebd47b-654a-4f9a-840a-ca14fa29e014 div.sk-label-container {position: relative;z-index: 2;text-align: center;}#sk-66ebd47b-654a-4f9a-840a-ca14fa29e014 div.sk-container {display: inline-block;position: relative;}</style><div id=\"sk-66ebd47b-654a-4f9a-840a-ca14fa29e014\" class\"sk-top-container\"><div class=\"sk-container\"><div class=\"sk-item sk-dashed-wrapped\"><div class=\"sk-label-container\"><div class=\"sk-label sk-toggleable\"><input class=\"sk-toggleable__control sk-hidden--visually\" id=\"83d99857-6917-40ee-bb81-ae4e9f828b49\" type=\"checkbox\" ><label class=\"sk-toggleable__label\" for=\"83d99857-6917-40ee-bb81-ae4e9f828b49\">Pipeline</label><div class=\"sk-toggleable__content\"><pre>Pipeline(steps=[('preprocess_pipeline',\n",
       "                 Pipeline(steps=[('numdropper', NumeDropper()),\n",
       "                                 ('catedropper', CateDropper(n=3)),\n",
       "                                 ('preprocessor',\n",
       "                                  ColumnTransformer(transformers=[('nume',\n",
       "                                                                   Pipeline(steps=[('imputer',\n",
       "                                                                                    SimpleImputer(strategy='median'))]),\n",
       "                                                                   ['sqft',\n",
       "                                                                    'beds',\n",
       "                                                                    'baths',\n",
       "                                                                    'tax']),\n",
       "                                                                  ('cate',\n",
       "                                                                   Pipeline(steps=[('imputer',\n",
       "                                                                                    SimpleImputer(strategy='most_frequent')),\n",
       "                                                                                   ('onehot',\n",
       "                                                                                    OneHotEncoder(handle_unknown='ignore'))]),\n",
       "                                                                   ['homeType',\n",
       "                                                                    'heating_system',\n",
       "                                                                    'cooling_system',\n",
       "                                                                    'architecture_style'])])),\n",
       "                                 ('minmax', MaxAbsScaler())])),\n",
       "                ('neural_network',\n",
       "                 MLPRegressor(alpha=1e-05, hidden_layer_sizes=(30, 10),\n",
       "                              max_iter=3000, solver='sgd'))])</pre></div></div></div><div class=\"sk-serial\"><div class=\"sk-item\"><div class=\"sk-label-container\"><div class=\"sk-label sk-toggleable\"><input class=\"sk-toggleable__control sk-hidden--visually\" id=\"24f5ee2d-abda-45bc-9de5-177b4fa319c8\" type=\"checkbox\" ><label class=\"sk-toggleable__label\" for=\"24f5ee2d-abda-45bc-9de5-177b4fa319c8\">preprocess_pipeline: Pipeline</label><div class=\"sk-toggleable__content\"><pre>Pipeline(steps=[('numdropper', NumeDropper()),\n",
       "                ('catedropper', CateDropper(n=3)),\n",
       "                ('preprocessor',\n",
       "                 ColumnTransformer(transformers=[('nume',\n",
       "                                                  Pipeline(steps=[('imputer',\n",
       "                                                                   SimpleImputer(strategy='median'))]),\n",
       "                                                  ['sqft', 'beds', 'baths',\n",
       "                                                   'tax']),\n",
       "                                                 ('cate',\n",
       "                                                  Pipeline(steps=[('imputer',\n",
       "                                                                   SimpleImputer(strategy='most_frequent')),\n",
       "                                                                  ('onehot',\n",
       "                                                                   OneHotEncoder(handle_unknown='ignore'))]),\n",
       "                                                  ['homeType', 'heating_system',\n",
       "                                                   'cooling_system',\n",
       "                                                   'architecture_style'])])),\n",
       "                ('minmax', MaxAbsScaler())])</pre></div></div></div><div class=\"sk-serial\"><div class=\"sk-item\"><div class=\"sk-estimator sk-toggleable\"><input class=\"sk-toggleable__control sk-hidden--visually\" id=\"593f66da-21d6-4a2f-b313-724de14612bc\" type=\"checkbox\" ><label class=\"sk-toggleable__label\" for=\"593f66da-21d6-4a2f-b313-724de14612bc\">NumeDropper</label><div class=\"sk-toggleable__content\"><pre>NumeDropper()</pre></div></div></div><div class=\"sk-item\"><div class=\"sk-estimator sk-toggleable\"><input class=\"sk-toggleable__control sk-hidden--visually\" id=\"7329ce99-863e-46d1-b36b-e919e15dea98\" type=\"checkbox\" ><label class=\"sk-toggleable__label\" for=\"7329ce99-863e-46d1-b36b-e919e15dea98\">CateDropper</label><div class=\"sk-toggleable__content\"><pre>CateDropper(n=3)</pre></div></div></div><div class=\"sk-item sk-dashed-wrapped\"><div class=\"sk-label-container\"><div class=\"sk-label sk-toggleable\"><input class=\"sk-toggleable__control sk-hidden--visually\" id=\"7acff87b-5c21-415a-8135-424dfbbfdad2\" type=\"checkbox\" ><label class=\"sk-toggleable__label\" for=\"7acff87b-5c21-415a-8135-424dfbbfdad2\">preprocessor: ColumnTransformer</label><div class=\"sk-toggleable__content\"><pre>ColumnTransformer(transformers=[('nume',\n",
       "                                 Pipeline(steps=[('imputer',\n",
       "                                                  SimpleImputer(strategy='median'))]),\n",
       "                                 ['sqft', 'beds', 'baths', 'tax']),\n",
       "                                ('cate',\n",
       "                                 Pipeline(steps=[('imputer',\n",
       "                                                  SimpleImputer(strategy='most_frequent')),\n",
       "                                                 ('onehot',\n",
       "                                                  OneHotEncoder(handle_unknown='ignore'))]),\n",
       "                                 ['homeType', 'heating_system',\n",
       "                                  'cooling_system', 'architecture_style'])])</pre></div></div></div><div class=\"sk-parallel\"><div class=\"sk-parallel-item\"><div class=\"sk-item\"><div class=\"sk-label-container\"><div class=\"sk-label sk-toggleable\"><input class=\"sk-toggleable__control sk-hidden--visually\" id=\"0e1a19ca-80e8-4889-8926-92b82ea60fdb\" type=\"checkbox\" ><label class=\"sk-toggleable__label\" for=\"0e1a19ca-80e8-4889-8926-92b82ea60fdb\">nume</label><div class=\"sk-toggleable__content\"><pre>['sqft', 'beds', 'baths', 'tax']</pre></div></div></div><div class=\"sk-serial\"><div class=\"sk-item\"><div class=\"sk-serial\"><div class=\"sk-item\"><div class=\"sk-estimator sk-toggleable\"><input class=\"sk-toggleable__control sk-hidden--visually\" id=\"7d59346e-2688-48fa-88df-997bcada154a\" type=\"checkbox\" ><label class=\"sk-toggleable__label\" for=\"7d59346e-2688-48fa-88df-997bcada154a\">SimpleImputer</label><div class=\"sk-toggleable__content\"><pre>SimpleImputer(strategy='median')</pre></div></div></div></div></div></div></div></div><div class=\"sk-parallel-item\"><div class=\"sk-item\"><div class=\"sk-label-container\"><div class=\"sk-label sk-toggleable\"><input class=\"sk-toggleable__control sk-hidden--visually\" id=\"98ccd0b5-b3b4-4c71-a118-362ba227e5b2\" type=\"checkbox\" ><label class=\"sk-toggleable__label\" for=\"98ccd0b5-b3b4-4c71-a118-362ba227e5b2\">cate</label><div class=\"sk-toggleable__content\"><pre>['homeType', 'heating_system', 'cooling_system', 'architecture_style']</pre></div></div></div><div class=\"sk-serial\"><div class=\"sk-item\"><div class=\"sk-serial\"><div class=\"sk-item\"><div class=\"sk-estimator sk-toggleable\"><input class=\"sk-toggleable__control sk-hidden--visually\" id=\"74e5a059-9ed8-48fe-befe-c09751eafdc2\" type=\"checkbox\" ><label class=\"sk-toggleable__label\" for=\"74e5a059-9ed8-48fe-befe-c09751eafdc2\">SimpleImputer</label><div class=\"sk-toggleable__content\"><pre>SimpleImputer(strategy='most_frequent')</pre></div></div></div><div class=\"sk-item\"><div class=\"sk-estimator sk-toggleable\"><input class=\"sk-toggleable__control sk-hidden--visually\" id=\"71a302b6-4e80-4319-8fc3-e315f14c6657\" type=\"checkbox\" ><label class=\"sk-toggleable__label\" for=\"71a302b6-4e80-4319-8fc3-e315f14c6657\">OneHotEncoder</label><div class=\"sk-toggleable__content\"><pre>OneHotEncoder(handle_unknown='ignore')</pre></div></div></div></div></div></div></div></div></div></div><div class=\"sk-item\"><div class=\"sk-estimator sk-toggleable\"><input class=\"sk-toggleable__control sk-hidden--visually\" id=\"9a3c0c81-fd06-499b-b4f6-644d00766bd2\" type=\"checkbox\" ><label class=\"sk-toggleable__label\" for=\"9a3c0c81-fd06-499b-b4f6-644d00766bd2\">MaxAbsScaler</label><div class=\"sk-toggleable__content\"><pre>MaxAbsScaler()</pre></div></div></div></div></div><div class=\"sk-item\"><div class=\"sk-estimator sk-toggleable\"><input class=\"sk-toggleable__control sk-hidden--visually\" id=\"5382f030-42d9-4d93-b5e8-f89c04a6cb78\" type=\"checkbox\" ><label class=\"sk-toggleable__label\" for=\"5382f030-42d9-4d93-b5e8-f89c04a6cb78\">MLPRegressor</label><div class=\"sk-toggleable__content\"><pre>MLPRegressor(alpha=1e-05, hidden_layer_sizes=(30, 10), max_iter=3000,\n",
       "             solver='sgd')</pre></div></div></div></div></div></div></div>"
      ],
      "text/plain": [
       "Pipeline(steps=[('preprocess_pipeline',\n",
       "                 Pipeline(steps=[('numdropper', NumeDropper()),\n",
       "                                 ('catedropper', CateDropper(n=3)),\n",
       "                                 ('preprocessor',\n",
       "                                  ColumnTransformer(transformers=[('nume',\n",
       "                                                                   Pipeline(steps=[('imputer',\n",
       "                                                                                    SimpleImputer(strategy='median'))]),\n",
       "                                                                   ['sqft',\n",
       "                                                                    'beds',\n",
       "                                                                    'baths',\n",
       "                                                                    'tax']),\n",
       "                                                                  ('cate',\n",
       "                                                                   Pipeline(steps=[('imputer',\n",
       "                                                                                    SimpleImputer(strategy='most_frequent')),\n",
       "                                                                                   ('onehot',\n",
       "                                                                                    OneHotEncoder(handle_unknown='ignore'))]),\n",
       "                                                                   ['homeType',\n",
       "                                                                    'heating_system',\n",
       "                                                                    'cooling_system',\n",
       "                                                                    'architecture_style'])])),\n",
       "                                 ('minmax', MaxAbsScaler())])),\n",
       "                ('neural_network',\n",
       "                 MLPRegressor(alpha=1e-05, hidden_layer_sizes=(30, 10),\n",
       "                              max_iter=3000, solver='sgd'))])"
      ]
     },
     "execution_count": 30,
     "metadata": {},
     "output_type": "execute_result"
    }
   ],
   "source": [
    "model = MLPRegressor(solver='sgd', \n",
    "                    activation = 'relu',\n",
    "                    hidden_layer_sizes=(30,10), \n",
    "                    random_state=None,\n",
    "                    max_iter = 3000,\n",
    "                    alpha=1e-5)\n",
    "full_pipeline = Pipeline(steps=[('preprocess_pipeline', preprocess_pipeline),\n",
    "                                 ('neural_network',model)])\n",
    "full_pipeline"
   ]
  },
  {
   "cell_type": "markdown",
   "id": "dd7a9212",
   "metadata": {},
   "source": [
    "#### Normalize output"
   ]
  },
  {
   "cell_type": "markdown",
   "id": "32c11576",
   "metadata": {},
   "source": [
    "- Cần chuẩn hóa cột output vì cột Input đã được chuẩn hóa, để đảm bảo cho trọng số mô hình sau khi huấn luyện không quá lớn (vì quá lớn mô hình không ổn định) \n",
    "- Nhóm chuẩn hóa bằng phương pháp chia cho min "
   ]
  },
  {
   "cell_type": "code",
   "execution_count": 31,
   "id": "ad0782a3",
   "metadata": {},
   "outputs": [],
   "source": [
    "min_ = train_y.min()\n",
    "scaleTrain_y=(train_y /min_)"
   ]
  },
  {
   "cell_type": "markdown",
   "id": "9b8d4d30",
   "metadata": {},
   "source": [
    "#### Tìm N và alpha\n",
    "Vói N là sô lượng các giá trị xuất hiện nhiều nhất của các cột categorical sao cho độ lỗi trên tập validation là nhỏ nhất."
   ]
  },
  {
   "cell_type": "code",
   "execution_count": 32,
   "id": "309765e0",
   "metadata": {},
   "outputs": [],
   "source": [
    "train_errs = []\n",
    "val_errs = []\n",
    "alphas = [ 0.01 ,0.1, 1, 10]\n",
    "N = [2,3,4,5]\n",
    "\n",
    "best_val_err = float('inf')\n",
    "best_N = None\n",
    "best_alpha = None\n",
    "\n",
    "for alpha in alphas:\n",
    "    for n_ in N:\n",
    "        model = full_pipeline.set_params(preprocess_pipeline__catedropper__n = n_, neural_network__alpha=alpha).fit(train_X, scaleTrain_y)\n",
    "        train_error = compute_mse(train_y, model.predict(train_X)*min_)\n",
    "        val_error = compute_mse(val_y, model.predict(val_X)*min_)\n",
    "        \n",
    "        train_errs.append(train_error)\n",
    "        val_errs.append(val_error)\n",
    "        \n",
    "        if val_errs[-1] < best_val_err:\n",
    "            best_val_err = val_errs[-1]\n",
    "            best_alpha = alpha\n",
    "            best_N = n_"
   ]
  },
  {
   "cell_type": "markdown",
   "id": "f69044ad",
   "metadata": {},
   "source": [
    "#### Train Model"
   ]
  },
  {
   "cell_type": "markdown",
   "id": "599afd28",
   "metadata": {},
   "source": [
    "Sau khi đã chọn được các siêu tham số cho ra kết quả tập validation tốt nhất. \\\n",
    "Nhóm sẽ gộp tập train và tập validation với mục đích tăng số lượng mẫu để huấn luyện mô hình.  "
   ]
  },
  {
   "cell_type": "code",
   "execution_count": 33,
   "id": "c4bfa0da",
   "metadata": {},
   "outputs": [],
   "source": [
    "# Bỏ outliers cho tập validation\n",
    "outliers_index = set()\n",
    "\n",
    "val_X.apply(outliers_removed)\n",
    "\n",
    "outliers_removed(val_y) \n",
    "val_X_noOL = val_X.drop(list(outliers_index))\n",
    "val_y_noOL = val_y.drop(list(outliers_index))"
   ]
  },
  {
   "cell_type": "code",
   "execution_count": 34,
   "id": "f148ec33",
   "metadata": {},
   "outputs": [],
   "source": [
    "# Cập nhật lại min \n",
    "min_ = val_y_noOL.min() if val_y_noOL.min() < min_ else min_\n",
    "# Gộp tập train và val\n",
    "train_X_merge = pd.concat([train_X, val_X_noOL])\n",
    "train_y_merge = pd.concat([scaleTrain_y, val_y_noOL/min_])"
   ]
  },
  {
   "cell_type": "code",
   "execution_count": 35,
   "id": "5ec3ef58",
   "metadata": {},
   "outputs": [],
   "source": [
    "model = full_pipeline.set_params(preprocess_pipeline__catedropper__n = best_N, neural_network__alpha=best_alpha)\n",
    "model = full_pipeline.fit(train_X_merge, train_y_merge)"
   ]
  },
  {
   "cell_type": "markdown",
   "id": "c2ab7b02",
   "metadata": {},
   "source": [
    "#### Visualize độ lỗi trong quá trình chạy"
   ]
  },
  {
   "cell_type": "code",
   "execution_count": 36,
   "id": "c646699b",
   "metadata": {},
   "outputs": [
    {
     "data": {
      "image/png": "[encoded data removed]",
      "text/plain": [
       "<Figure size 576x360 with 1 Axes>"
      ]
     },
     "metadata": {},
     "output_type": "display_data"
    }
   ],
   "source": [
    "loss_values=model[\"neural_network\"].loss_curve_\n",
    "plt.plot(loss_values)\n",
    "plt.title('Loss curve', fontsize=14)\n",
    "plt.xlabel('iteration', fontsize=14)\n",
    "plt.ylabel('MSE error', fontsize=14)\n",
    "plt.show()"
   ]
  },
  {
   "cell_type": "markdown",
   "id": "feafb3fd",
   "metadata": {},
   "source": [
    "#### Predict trên tập test"
   ]
  },
  {
   "cell_type": "code",
   "execution_count": 37,
   "id": "bed5150e",
   "metadata": {},
   "outputs": [],
   "source": [
    "#tính độ lỗi trên tập test\n",
    "test_preds = model.predict(test_X)*min_\n",
    "\n",
    "test_preds= np.ceil(test_preds)"
   ]
  },
  {
   "cell_type": "code",
   "execution_count": 38,
   "id": "c2966b9d",
   "metadata": {
    "scrolled": true
   },
   "outputs": [
    {
     "data": {
      "text/html": [
       "<div>\n",
       "<style scoped>\n",
       "    .dataframe tbody tr th:only-of-type {\n",
       "        vertical-align: middle;\n",
       "    }\n",
       "\n",
       "    .dataframe tbody tr th {\n",
       "        vertical-align: top;\n",
       "    }\n",
       "\n",
       "    .dataframe thead th {\n",
       "        text-align: right;\n",
       "    }\n",
       "</style>\n",
       "<table border=\"1\" class=\"dataframe\">\n",
       "  <thead>\n",
       "    <tr style=\"text-align: right;\">\n",
       "      <th></th>\n",
       "      <th>Actual price</th>\n",
       "      <th>Predicted price</th>\n",
       "    </tr>\n",
       "  </thead>\n",
       "  <tbody>\n",
       "    <tr>\n",
       "      <th>859</th>\n",
       "      <td>293000</td>\n",
       "      <td>444068.0</td>\n",
       "    </tr>\n",
       "    <tr>\n",
       "      <th>827</th>\n",
       "      <td>249950</td>\n",
       "      <td>265529.0</td>\n",
       "    </tr>\n",
       "    <tr>\n",
       "      <th>1600</th>\n",
       "      <td>413000</td>\n",
       "      <td>469331.0</td>\n",
       "    </tr>\n",
       "    <tr>\n",
       "      <th>605</th>\n",
       "      <td>250000</td>\n",
       "      <td>228238.0</td>\n",
       "    </tr>\n",
       "    <tr>\n",
       "      <th>615</th>\n",
       "      <td>377000</td>\n",
       "      <td>307432.0</td>\n",
       "    </tr>\n",
       "    <tr>\n",
       "      <th>228</th>\n",
       "      <td>429900</td>\n",
       "      <td>258144.0</td>\n",
       "    </tr>\n",
       "    <tr>\n",
       "      <th>1463</th>\n",
       "      <td>764500</td>\n",
       "      <td>683827.0</td>\n",
       "    </tr>\n",
       "    <tr>\n",
       "      <th>985</th>\n",
       "      <td>299900</td>\n",
       "      <td>211155.0</td>\n",
       "    </tr>\n",
       "    <tr>\n",
       "      <th>104</th>\n",
       "      <td>279900</td>\n",
       "      <td>284254.0</td>\n",
       "    </tr>\n",
       "    <tr>\n",
       "      <th>527</th>\n",
       "      <td>281990</td>\n",
       "      <td>184922.0</td>\n",
       "    </tr>\n",
       "  </tbody>\n",
       "</table>\n",
       "</div>"
      ],
      "text/plain": [
       "      Actual price  Predicted price\n",
       "859         293000         444068.0\n",
       "827         249950         265529.0\n",
       "1600        413000         469331.0\n",
       "605         250000         228238.0\n",
       "615         377000         307432.0\n",
       "228         429900         258144.0\n",
       "1463        764500         683827.0\n",
       "985         299900         211155.0\n",
       "104         279900         284254.0\n",
       "527         281990         184922.0"
      ]
     },
     "execution_count": 38,
     "metadata": {},
     "output_type": "execute_result"
    }
   ],
   "source": [
    "df = pd.DataFrame({'Actual price': test_y, 'Predicted price': test_preds})\n",
    "df.head(10)"
   ]
  },
  {
   "cell_type": "code",
   "execution_count": 39,
   "id": "3fd1754f",
   "metadata": {},
   "outputs": [
    {
     "data": {
      "text/plain": [
       "528632.0"
      ]
     },
     "execution_count": 39,
     "metadata": {},
     "output_type": "execute_result"
    }
   ],
   "source": [
    "(test_preds-test_y).max()"
   ]
  },
  {
   "cell_type": "markdown",
   "id": "3cc50678",
   "metadata": {},
   "source": [
    "#### Độ chính xác trên tập test"
   ]
  },
  {
   "cell_type": "code",
   "execution_count": 40,
   "id": "a4e54b17",
   "metadata": {},
   "outputs": [
    {
     "data": {
      "text/plain": [
       "0.8606755300688531"
      ]
     },
     "execution_count": 40,
     "metadata": {},
     "output_type": "execute_result"
    }
   ],
   "source": [
    "compute_rr(test_y, test_preds, baseline_preds)"
   ]
  },
  {
   "cell_type": "markdown",
   "id": "e766ba2b",
   "metadata": {},
   "source": [
    "### Linear Regression"
   ]
  },
  {
   "cell_type": "markdown",
   "id": "ca1db2f8",
   "metadata": {},
   "source": [
    "#### Full pipeline"
   ]
  },
  {
   "cell_type": "code",
   "execution_count": 41,
   "id": "8145224d",
   "metadata": {},
   "outputs": [
    {
     "data": {
      "text/html": [
       "<style>#sk-29349d53-b1a0-4ab6-a667-ab9cea63e111 {color: black;background-color: white;}#sk-29349d53-b1a0-4ab6-a667-ab9cea63e111 pre{padding: 0;}#sk-29349d53-b1a0-4ab6-a667-ab9cea63e111 div.sk-toggleable {background-color: white;}#sk-29349d53-b1a0-4ab6-a667-ab9cea63e111 label.sk-toggleable__label {cursor: pointer;display: block;width: 100%;margin-bottom: 0;padding: 0.2em 0.3em;box-sizing: border-box;text-align: center;}#sk-29349d53-b1a0-4ab6-a667-ab9cea63e111 div.sk-toggleable__content {max-height: 0;max-width: 0;overflow: hidden;text-align: left;background-color: #f0f8ff;}#sk-29349d53-b1a0-4ab6-a667-ab9cea63e111 div.sk-toggleable__content pre {margin: 0.2em;color: black;border-radius: 0.25em;background-color: #f0f8ff;}#sk-29349d53-b1a0-4ab6-a667-ab9cea63e111 input.sk-toggleable__control:checked~div.sk-toggleable__content {max-height: 200px;max-width: 100%;overflow: auto;}#sk-29349d53-b1a0-4ab6-a667-ab9cea63e111 div.sk-estimator input.sk-toggleable__control:checked~label.sk-toggleable__label {background-color: #d4ebff;}#sk-29349d53-b1a0-4ab6-a667-ab9cea63e111 div.sk-label input.sk-toggleable__control:checked~label.sk-toggleable__label {background-color: #d4ebff;}#sk-29349d53-b1a0-4ab6-a667-ab9cea63e111 input.sk-hidden--visually {border: 0;clip: rect(1px 1px 1px 1px);clip: rect(1px, 1px, 1px, 1px);height: 1px;margin: -1px;overflow: hidden;padding: 0;position: absolute;width: 1px;}#sk-29349d53-b1a0-4ab6-a667-ab9cea63e111 div.sk-estimator {font-family: monospace;background-color: #f0f8ff;margin: 0.25em 0.25em;border: 1px dotted black;border-radius: 0.25em;box-sizing: border-box;}#sk-29349d53-b1a0-4ab6-a667-ab9cea63e111 div.sk-estimator:hover {background-color: #d4ebff;}#sk-29349d53-b1a0-4ab6-a667-ab9cea63e111 div.sk-parallel-item::after {content: \"\";width: 100%;border-bottom: 1px solid gray;flex-grow: 1;}#sk-29349d53-b1a0-4ab6-a667-ab9cea63e111 div.sk-label:hover label.sk-toggleable__label {background-color: #d4ebff;}#sk-29349d53-b1a0-4ab6-a667-ab9cea63e111 div.sk-serial::before {content: \"\";position: absolute;border-left: 1px solid gray;box-sizing: border-box;top: 2em;bottom: 0;left: 50%;}#sk-29349d53-b1a0-4ab6-a667-ab9cea63e111 div.sk-serial {display: flex;flex-direction: column;align-items: center;background-color: white;}#sk-29349d53-b1a0-4ab6-a667-ab9cea63e111 div.sk-item {z-index: 1;}#sk-29349d53-b1a0-4ab6-a667-ab9cea63e111 div.sk-parallel {display: flex;align-items: stretch;justify-content: center;background-color: white;}#sk-29349d53-b1a0-4ab6-a667-ab9cea63e111 div.sk-parallel-item {display: flex;flex-direction: column;position: relative;background-color: white;}#sk-29349d53-b1a0-4ab6-a667-ab9cea63e111 div.sk-parallel-item:first-child::after {align-self: flex-end;width: 50%;}#sk-29349d53-b1a0-4ab6-a667-ab9cea63e111 div.sk-parallel-item:last-child::after {align-self: flex-start;width: 50%;}#sk-29349d53-b1a0-4ab6-a667-ab9cea63e111 div.sk-parallel-item:only-child::after {width: 0;}#sk-29349d53-b1a0-4ab6-a667-ab9cea63e111 div.sk-dashed-wrapped {border: 1px dashed gray;margin: 0.2em;box-sizing: border-box;padding-bottom: 0.1em;background-color: white;position: relative;}#sk-29349d53-b1a0-4ab6-a667-ab9cea63e111 div.sk-label label {font-family: monospace;font-weight: bold;background-color: white;display: inline-block;line-height: 1.2em;}#sk-29349d53-b1a0-4ab6-a667-ab9cea63e111 div.sk-label-container {position: relative;z-index: 2;text-align: center;}#sk-29349d53-b1a0-4ab6-a667-ab9cea63e111 div.sk-container {display: inline-block;position: relative;}</style><div id=\"sk-29349d53-b1a0-4ab6-a667-ab9cea63e111\" class\"sk-top-container\"><div class=\"sk-container\"><div class=\"sk-item sk-dashed-wrapped\"><div class=\"sk-label-container\"><div class=\"sk-label sk-toggleable\"><input class=\"sk-toggleable__control sk-hidden--visually\" id=\"f4f865e8-ed6a-4373-be86-06593a98c11e\" type=\"checkbox\" ><label class=\"sk-toggleable__label\" for=\"f4f865e8-ed6a-4373-be86-06593a98c11e\">Pipeline</label><div class=\"sk-toggleable__content\"><pre>Pipeline(steps=[('preprocess_pipeline',\n",
       "                 Pipeline(steps=[('numdropper', NumeDropper()),\n",
       "                                 ('catedropper', CateDropper(n=4)),\n",
       "                                 ('preprocessor',\n",
       "                                  ColumnTransformer(transformers=[('nume',\n",
       "                                                                   Pipeline(steps=[('imputer',\n",
       "                                                                                    SimpleImputer(strategy='median'))]),\n",
       "                                                                   ['sqft',\n",
       "                                                                    'beds',\n",
       "                                                                    'baths',\n",
       "                                                                    'tax']),\n",
       "                                                                  ('cate',\n",
       "                                                                   Pipeline(steps=[('imputer',\n",
       "                                                                                    SimpleImputer(strategy='most_frequent')),\n",
       "                                                                                   ('onehot',\n",
       "                                                                                    OneHotEncoder(handle_unknown='ignore'))]),\n",
       "                                                                   ['homeType',\n",
       "                                                                    'heating_system',\n",
       "                                                                    'cooling_system',\n",
       "                                                                    'architecture_style'])])),\n",
       "                                 ('minmax', MaxAbsScaler())])),\n",
       "                ('neural_network', LinearRegression())])</pre></div></div></div><div class=\"sk-serial\"><div class=\"sk-item\"><div class=\"sk-label-container\"><div class=\"sk-label sk-toggleable\"><input class=\"sk-toggleable__control sk-hidden--visually\" id=\"67b59e18-ec6d-430e-9e10-18cd18a5a6b7\" type=\"checkbox\" ><label class=\"sk-toggleable__label\" for=\"67b59e18-ec6d-430e-9e10-18cd18a5a6b7\">preprocess_pipeline: Pipeline</label><div class=\"sk-toggleable__content\"><pre>Pipeline(steps=[('numdropper', NumeDropper()),\n",
       "                ('catedropper', CateDropper(n=4)),\n",
       "                ('preprocessor',\n",
       "                 ColumnTransformer(transformers=[('nume',\n",
       "                                                  Pipeline(steps=[('imputer',\n",
       "                                                                   SimpleImputer(strategy='median'))]),\n",
       "                                                  ['sqft', 'beds', 'baths',\n",
       "                                                   'tax']),\n",
       "                                                 ('cate',\n",
       "                                                  Pipeline(steps=[('imputer',\n",
       "                                                                   SimpleImputer(strategy='most_frequent')),\n",
       "                                                                  ('onehot',\n",
       "                                                                   OneHotEncoder(handle_unknown='ignore'))]),\n",
       "                                                  ['homeType', 'heating_system',\n",
       "                                                   'cooling_system',\n",
       "                                                   'architecture_style'])])),\n",
       "                ('minmax', MaxAbsScaler())])</pre></div></div></div><div class=\"sk-serial\"><div class=\"sk-item\"><div class=\"sk-estimator sk-toggleable\"><input class=\"sk-toggleable__control sk-hidden--visually\" id=\"fd0850d8-7995-432d-abc6-a9cb17af9daf\" type=\"checkbox\" ><label class=\"sk-toggleable__label\" for=\"fd0850d8-7995-432d-abc6-a9cb17af9daf\">NumeDropper</label><div class=\"sk-toggleable__content\"><pre>NumeDropper()</pre></div></div></div><div class=\"sk-item\"><div class=\"sk-estimator sk-toggleable\"><input class=\"sk-toggleable__control sk-hidden--visually\" id=\"4371ed4c-70b6-4bc7-a675-fca12096163c\" type=\"checkbox\" ><label class=\"sk-toggleable__label\" for=\"4371ed4c-70b6-4bc7-a675-fca12096163c\">CateDropper</label><div class=\"sk-toggleable__content\"><pre>CateDropper(n=4)</pre></div></div></div><div class=\"sk-item sk-dashed-wrapped\"><div class=\"sk-label-container\"><div class=\"sk-label sk-toggleable\"><input class=\"sk-toggleable__control sk-hidden--visually\" id=\"5592e8f9-615b-492c-a3d4-9e534fcaffe7\" type=\"checkbox\" ><label class=\"sk-toggleable__label\" for=\"5592e8f9-615b-492c-a3d4-9e534fcaffe7\">preprocessor: ColumnTransformer</label><div class=\"sk-toggleable__content\"><pre>ColumnTransformer(transformers=[('nume',\n",
       "                                 Pipeline(steps=[('imputer',\n",
       "                                                  SimpleImputer(strategy='median'))]),\n",
       "                                 ['sqft', 'beds', 'baths', 'tax']),\n",
       "                                ('cate',\n",
       "                                 Pipeline(steps=[('imputer',\n",
       "                                                  SimpleImputer(strategy='most_frequent')),\n",
       "                                                 ('onehot',\n",
       "                                                  OneHotEncoder(handle_unknown='ignore'))]),\n",
       "                                 ['homeType', 'heating_system',\n",
       "                                  'cooling_system', 'architecture_style'])])</pre></div></div></div><div class=\"sk-parallel\"><div class=\"sk-parallel-item\"><div class=\"sk-item\"><div class=\"sk-label-container\"><div class=\"sk-label sk-toggleable\"><input class=\"sk-toggleable__control sk-hidden--visually\" id=\"dc756de5-0c33-44c3-a8ed-e51e93141746\" type=\"checkbox\" ><label class=\"sk-toggleable__label\" for=\"dc756de5-0c33-44c3-a8ed-e51e93141746\">nume</label><div class=\"sk-toggleable__content\"><pre>['sqft', 'beds', 'baths', 'tax']</pre></div></div></div><div class=\"sk-serial\"><div class=\"sk-item\"><div class=\"sk-serial\"><div class=\"sk-item\"><div class=\"sk-estimator sk-toggleable\"><input class=\"sk-toggleable__control sk-hidden--visually\" id=\"f7c83819-2269-455f-a33f-db1e9df4ef50\" type=\"checkbox\" ><label class=\"sk-toggleable__label\" for=\"f7c83819-2269-455f-a33f-db1e9df4ef50\">SimpleImputer</label><div class=\"sk-toggleable__content\"><pre>SimpleImputer(strategy='median')</pre></div></div></div></div></div></div></div></div><div class=\"sk-parallel-item\"><div class=\"sk-item\"><div class=\"sk-label-container\"><div class=\"sk-label sk-toggleable\"><input class=\"sk-toggleable__control sk-hidden--visually\" id=\"eed0c40d-b7a5-4b46-b1e9-d576f017f258\" type=\"checkbox\" ><label class=\"sk-toggleable__label\" for=\"eed0c40d-b7a5-4b46-b1e9-d576f017f258\">cate</label><div class=\"sk-toggleable__content\"><pre>['homeType', 'heating_system', 'cooling_system', 'architecture_style']</pre></div></div></div><div class=\"sk-serial\"><div class=\"sk-item\"><div class=\"sk-serial\"><div class=\"sk-item\"><div class=\"sk-estimator sk-toggleable\"><input class=\"sk-toggleable__control sk-hidden--visually\" id=\"9462addc-e187-4225-914d-bd1cfe6356aa\" type=\"checkbox\" ><label class=\"sk-toggleable__label\" for=\"9462addc-e187-4225-914d-bd1cfe6356aa\">SimpleImputer</label><div class=\"sk-toggleable__content\"><pre>SimpleImputer(strategy='most_frequent')</pre></div></div></div><div class=\"sk-item\"><div class=\"sk-estimator sk-toggleable\"><input class=\"sk-toggleable__control sk-hidden--visually\" id=\"7364d36e-ee7b-4fe0-ab23-7667fea9385a\" type=\"checkbox\" ><label class=\"sk-toggleable__label\" for=\"7364d36e-ee7b-4fe0-ab23-7667fea9385a\">OneHotEncoder</label><div class=\"sk-toggleable__content\"><pre>OneHotEncoder(handle_unknown='ignore')</pre></div></div></div></div></div></div></div></div></div></div><div class=\"sk-item\"><div class=\"sk-estimator sk-toggleable\"><input class=\"sk-toggleable__control sk-hidden--visually\" id=\"6ca86ee0-1609-4198-a571-4d3efe236740\" type=\"checkbox\" ><label class=\"sk-toggleable__label\" for=\"6ca86ee0-1609-4198-a571-4d3efe236740\">MaxAbsScaler</label><div class=\"sk-toggleable__content\"><pre>MaxAbsScaler()</pre></div></div></div></div></div><div class=\"sk-item\"><div class=\"sk-estimator sk-toggleable\"><input class=\"sk-toggleable__control sk-hidden--visually\" id=\"c8da33a9-c28f-43a3-b446-73b57af692d4\" type=\"checkbox\" ><label class=\"sk-toggleable__label\" for=\"c8da33a9-c28f-43a3-b446-73b57af692d4\">LinearRegression</label><div class=\"sk-toggleable__content\"><pre>LinearRegression()</pre></div></div></div></div></div></div></div>"
      ],
      "text/plain": [
       "Pipeline(steps=[('preprocess_pipeline',\n",
       "                 Pipeline(steps=[('numdropper', NumeDropper()),\n",
       "                                 ('catedropper', CateDropper(n=4)),\n",
       "                                 ('preprocessor',\n",
       "                                  ColumnTransformer(transformers=[('nume',\n",
       "                                                                   Pipeline(steps=[('imputer',\n",
       "                                                                                    SimpleImputer(strategy='median'))]),\n",
       "                                                                   ['sqft',\n",
       "                                                                    'beds',\n",
       "                                                                    'baths',\n",
       "                                                                    'tax']),\n",
       "                                                                  ('cate',\n",
       "                                                                   Pipeline(steps=[('imputer',\n",
       "                                                                                    SimpleImputer(strategy='most_frequent')),\n",
       "                                                                                   ('onehot',\n",
       "                                                                                    OneHotEncoder(handle_unknown='ignore'))]),\n",
       "                                                                   ['homeType',\n",
       "                                                                    'heating_system',\n",
       "                                                                    'cooling_system',\n",
       "                                                                    'architecture_style'])])),\n",
       "                                 ('minmax', MaxAbsScaler())])),\n",
       "                ('neural_network', LinearRegression())])"
      ]
     },
     "execution_count": 41,
     "metadata": {},
     "output_type": "execute_result"
    }
   ],
   "source": [
    "model = LinearRegression()\n",
    "full_pipeline = Pipeline(steps=[('preprocess_pipeline', preprocess_pipeline),\n",
    "                                 ('neural_network',model)])\n",
    "full_pipeline"
   ]
  },
  {
   "cell_type": "markdown",
   "id": "57e04e18",
   "metadata": {},
   "source": [
    "#### Tìm N\n",
    "Vói N là sô lượng các giá trị xuất hiện nhiều nhất sao cho độ lỗi trên tập validation là nhỏ nhất"
   ]
  },
  {
   "cell_type": "code",
   "execution_count": 42,
   "id": "833686c1",
   "metadata": {},
   "outputs": [],
   "source": [
    "train_errs = []\n",
    "best_val_err = float('inf')\n",
    "val_errs = []\n",
    "\n",
    "best_N = None\n",
    "N = [1,2,3,4,5,6]\n",
    "for i in N:\n",
    "    model = full_pipeline.set_params(preprocess_pipeline__catedropper__n=i).fit(train_X, train_y)\n",
    "    train_error = compute_mse(train_y, model.predict(train_X))\n",
    "    val_error = compute_mse(val_y, model.predict(val_X))\n",
    "    \n",
    "    train_errs.append(train_error)\n",
    "    val_errs.append(val_error)\n",
    "    \n",
    "    if val_errs[-1] < best_val_err:\n",
    "        best_val_err = val_errs[-1]\n",
    "        best_N = i"
   ]
  },
  {
   "cell_type": "markdown",
   "id": "d90c7763",
   "metadata": {},
   "source": [
    "#### Visualize validation error bởi các N khác nhau"
   ]
  },
  {
   "cell_type": "code",
   "execution_count": 43,
   "id": "80ed74d8",
   "metadata": {},
   "outputs": [
    {
     "data": {
      "image/png": "[encoded data removed]",
      "text/plain": [
       "<Figure size 576x360 with 1 Axes>"
      ]
     },
     "metadata": {},
     "output_type": "display_data"
    }
   ],
   "source": [
    "plt.plot(N, val_errs, color='red', marker='o')\n",
    "plt.title('val error with N', fontsize=14)\n",
    "plt.xlabel('N', fontsize=14)\n",
    "plt.ylabel('val_errs', fontsize=14)\n",
    "plt.show()"
   ]
  },
  {
   "cell_type": "markdown",
   "id": "16e2d8a8",
   "metadata": {},
   "source": [
    "#### Train model "
   ]
  },
  {
   "cell_type": "code",
   "execution_count": 44,
   "id": "6124264a",
   "metadata": {},
   "outputs": [],
   "source": [
    "train_X_merge = pd.concat([train_X, val_X_noOL])\n",
    "train_y_merge = pd.concat([train_y, val_y_noOL])"
   ]
  },
  {
   "cell_type": "code",
   "execution_count": 45,
   "id": "659d46cb",
   "metadata": {},
   "outputs": [],
   "source": [
    "model = full_pipeline.set_params(preprocess_pipeline__catedropper__n=best_N).fit(train_X_merge, train_y_merge)"
   ]
  },
  {
   "cell_type": "markdown",
   "id": "f3874ed1",
   "metadata": {},
   "source": [
    "#### Predict trên tập test"
   ]
  },
  {
   "cell_type": "code",
   "execution_count": 46,
   "id": "7e1c6097",
   "metadata": {},
   "outputs": [],
   "source": [
    "test_preds = model.predict(test_X)\n",
    "test_preds = np.ceil(test_preds)"
   ]
  },
  {
   "cell_type": "code",
   "execution_count": 47,
   "id": "0acb0610",
   "metadata": {},
   "outputs": [
    {
     "data": {
      "text/html": [
       "<div>\n",
       "<style scoped>\n",
       "    .dataframe tbody tr th:only-of-type {\n",
       "        vertical-align: middle;\n",
       "    }\n",
       "\n",
       "    .dataframe tbody tr th {\n",
       "        vertical-align: top;\n",
       "    }\n",
       "\n",
       "    .dataframe thead th {\n",
       "        text-align: right;\n",
       "    }\n",
       "</style>\n",
       "<table border=\"1\" class=\"dataframe\">\n",
       "  <thead>\n",
       "    <tr style=\"text-align: right;\">\n",
       "      <th></th>\n",
       "      <th>Actual price</th>\n",
       "      <th>Predicted price</th>\n",
       "    </tr>\n",
       "  </thead>\n",
       "  <tbody>\n",
       "    <tr>\n",
       "      <th>859</th>\n",
       "      <td>293000</td>\n",
       "      <td>438225.0</td>\n",
       "    </tr>\n",
       "    <tr>\n",
       "      <th>827</th>\n",
       "      <td>249950</td>\n",
       "      <td>262611.0</td>\n",
       "    </tr>\n",
       "    <tr>\n",
       "      <th>1600</th>\n",
       "      <td>413000</td>\n",
       "      <td>484624.0</td>\n",
       "    </tr>\n",
       "    <tr>\n",
       "      <th>605</th>\n",
       "      <td>250000</td>\n",
       "      <td>230620.0</td>\n",
       "    </tr>\n",
       "    <tr>\n",
       "      <th>615</th>\n",
       "      <td>377000</td>\n",
       "      <td>350017.0</td>\n",
       "    </tr>\n",
       "    <tr>\n",
       "      <th>228</th>\n",
       "      <td>429900</td>\n",
       "      <td>352074.0</td>\n",
       "    </tr>\n",
       "    <tr>\n",
       "      <th>1463</th>\n",
       "      <td>764500</td>\n",
       "      <td>790174.0</td>\n",
       "    </tr>\n",
       "    <tr>\n",
       "      <th>985</th>\n",
       "      <td>299900</td>\n",
       "      <td>246102.0</td>\n",
       "    </tr>\n",
       "    <tr>\n",
       "      <th>104</th>\n",
       "      <td>279900</td>\n",
       "      <td>259264.0</td>\n",
       "    </tr>\n",
       "    <tr>\n",
       "      <th>527</th>\n",
       "      <td>281990</td>\n",
       "      <td>194493.0</td>\n",
       "    </tr>\n",
       "  </tbody>\n",
       "</table>\n",
       "</div>"
      ],
      "text/plain": [
       "      Actual price  Predicted price\n",
       "859         293000         438225.0\n",
       "827         249950         262611.0\n",
       "1600        413000         484624.0\n",
       "605         250000         230620.0\n",
       "615         377000         350017.0\n",
       "228         429900         352074.0\n",
       "1463        764500         790174.0\n",
       "985         299900         246102.0\n",
       "104         279900         259264.0\n",
       "527         281990         194493.0"
      ]
     },
     "execution_count": 47,
     "metadata": {},
     "output_type": "execute_result"
    }
   ],
   "source": [
    "df = pd.DataFrame({'Actual price': test_y, 'Predicted price': test_preds})\n",
    "df.head(10)"
   ]
  },
  {
   "cell_type": "markdown",
   "id": "7d410e9b",
   "metadata": {},
   "source": [
    "#### Độ chính xác trên tập test"
   ]
  },
  {
   "cell_type": "code",
   "execution_count": 48,
   "id": "655985b5",
   "metadata": {},
   "outputs": [
    {
     "data": {
      "text/plain": [
       "0.8572486363776716"
      ]
     },
     "execution_count": 48,
     "metadata": {},
     "output_type": "execute_result"
    }
   ],
   "source": [
    "compute_rr(test_y, test_preds, baseline_preds)"
   ]
  },
  {
   "cell_type": "markdown",
   "id": "d5cfe746",
   "metadata": {},
   "source": [
    "### Nhận xét kết quả"
   ]
  },
  {
   "cell_type": "markdown",
   "id": "0058d21b",
   "metadata": {},
   "source": [
    "**Kết quả chung:**\n",
    "Phần lớn trong quá trình chạy, mô hình cho độ đo $r^{2}$ khoảng từ 0.5 đến 0.8 trên tập Test. \\\n",
    "Tuy nhiên mô hình cũng từng cho $r^2$ kết quả âm mặc dù rất hiếm. Theo nhóm, trường hợp này xảy ra vì trong tập Test được lựa chọn ngẫu nhiên và đã xuất hiện outlier có khoảng cách dự đoán so với giá trị thật rất xa."
   ]
  },
  {
   "cell_type": "markdown",
   "id": "5855479a",
   "metadata": {},
   "source": [
    "**Giữa 2 mô hình:**"
   ]
  },
  {
   "cell_type": "markdown",
   "id": "c12fa4fd",
   "metadata": {},
   "source": [
    "- MLP là mô hình phi tuyến tính, ban đầu nhóm hi vọng mô hình cho ra kết quả tốt hơn so với mô hình Linear Regression.\n",
    "- Kết quả cho thấy Linear Regression ổn định hơn. \n",
    "- MLP không tốt bằng có thể do dữ liệu phân phố không đều và chưa đủ để mô hình có thể dự đoán giá nhà tốt. Dữ liệu hiện đang tập trung vào tầm giá thấp nên MLP optimize nhiều vào tầm giá đó."
   ]
  },
  {
   "cell_type": "markdown",
   "id": "2cc2c401",
   "metadata": {},
   "source": [
    "## Reflection"
   ]
  },
  {
   "cell_type": "markdown",
   "id": "0f85f700",
   "metadata": {},
   "source": [
    "### Lư Ngọc Liên - 18127046\n"
   ]
  },
  {
   "cell_type": "markdown",
   "id": "03112919",
   "metadata": {},
   "source": [
    "#### Khó khăn\n",
    "- Trong việc sử dụng Selenium (gặp nhiều lỗi vặt của webdriver)\n",
    "- Phần lập trình liên quan đến visual dữ liệu\n",
    "- Tìm cách chuẩn hóa dữ liệu để có được một 1 mô hình tốt hơn\n",
    "\n",
    "#### Bài học đã học được\n",
    "- Hiểu được rõ hơn về quy trình tiền xử lý dữ liệu\n",
    "- Làm một bài toán từ đầu đến cuối from scratch\n",
    "- Thông thạo hơn về việc visualize dữ liệu\n",
    "- Làm việc nhóm từ xa (Pair Programming)"
   ]
  },
  {
   "cell_type": "markdown",
   "id": "61586e0e",
   "metadata": {},
   "source": [
    "### Nguyễn Thị Anh Đào - 18127272"
   ]
  },
  {
   "cell_type": "markdown",
   "id": "4c541d89",
   "metadata": {},
   "source": [
    "#### Khó khăn\n",
    "- Khó nhất ở việc cải thiện mô hình, có nhiều giả thiết cho một mô hình không hoạt động tốt.\\\n",
    "    Đồng thời có nhiều phương pháp khác nhau để cải thiện, khó nhận biết được phương pháp phù hợp. \n",
    "- Chưa thành thạo sử dụng các thư viện như sklearn, seaborn \n",
    "\n",
    "#### Bài học đã học được\n",
    "- Hiểu được rõ hơn về quy trình khai thác dữ liệu \n",
    "- Được thực hành nhiều về các thư viện: pandas, sklearn, seaborn\n",
    "- Làm việc nhóm từ xa (Pair Programming)"
   ]
  },
  {
   "cell_type": "markdown",
   "id": "f1b1d49e",
   "metadata": {},
   "source": [
    "### Nếu có thời gian\n",
    "**Thu thập dữ liệu**:\n",
    "- Lấy thêm mẫu cho các tầm giá trung bình và lớn, để cột output có phân phối đều hơn\n",
    "\n",
    "**Tiền xử lý**:\n",
    "- Chia các cột dạng số thành nhiều bin\n",
    "- Tìm hiểu kĩ hơn về lĩnh vực bất động sản - buôn bán nhà đất, từ đó chọn ra các thuộc tính có sức ảnh hưởng nhất tới dự đoán giá nhà\n",
    "- Tìm hiểu các phương pháp điền giá trị thiếu tốt hơn \n",
    "\n",
    "**Mô hình hóa**:\n",
    "- Thử các mạng học sâu hiện đại hơn "
   ]
  },
  {
   "cell_type": "markdown",
   "id": "d4cac1dd",
   "metadata": {},
   "source": [
    "## Nguồn tham khảo\n",
    "- Cấu trúc bài tham khảo từ Homework 03 môn Nhập môn Khoa học Dữ Liệu (Trường đại học Khoa học Tự Nhiên)\n",
    "- Phần code compute_rr: Bài 07-Demo.ipynb của thầy Trần Trung Kiên\n",
    "- Wikipedia, 68-95-99.7 Rule, https://en.wikipedia.org/wiki/68%E2%80%9395%E2%80%9399.7_rule , 10/9/2021"
   ]
  }
 ],
 "metadata": {
  "kernelspec": {
   "display_name": "Python 3 (ipykernel)",
   "language": "python",
   "name": "python3"
  },
  "language_info": {
   "codemirror_mode": {
    "name": "ipython",
    "version": 3
   },
   "file_extension": ".py",
   "mimetype": "text/x-python",
   "name": "python",
   "nbconvert_exporter": "python",
   "pygments_lexer": "ipython3",
   "version": "3.8.8"
  },
  "toc": {
   "base_numbering": 1,
   "nav_menu": {},
   "number_sections": false,
   "sideBar": true,
   "skip_h1_title": false,
   "title_cell": "Table of Contents",
   "title_sidebar": "Contents",
   "toc_cell": false,
   "toc_position": {
    "height": "calc(100% - 180px)",
    "left": "10px",
    "top": "150px",
    "width": "242.1px"
   },
   "toc_section_display": true,
   "toc_window_display": true
  }
 },
 "nbformat": 4,
 "nbformat_minor": 5
}
