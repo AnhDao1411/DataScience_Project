{
 "cells": [
  {
   "cell_type": "markdown",
   "metadata": {},
   "source": [
    "## Import"
   ]
  },
  {
   "cell_type": "code",
   "execution_count": 1,
   "metadata": {},
   "outputs": [],
   "source": [
    "import matplotlib.pyplot as plt\n",
    "import seaborn as sns # seaborn là thư viện được xây trên matplotlib, \n",
    "                      # giúp việc visualization đỡ khổ hơn\n",
    "import pandas as pd\n",
    "import numpy as np\n",
    "\n",
    "from sklearn.model_selection import train_test_split\n",
    "from sklearn.preprocessing import OneHotEncoder, StandardScaler\n",
    "from sklearn.impute import SimpleImputer\n",
    "from sklearn.base import BaseEstimator, TransformerMixin\n",
    "from sklearn.pipeline import Pipeline, make_pipeline\n",
    "from sklearn.compose import ColumnTransformer, make_column_transformer\n",
    "from sklearn.neural_network import MLPClassifier, MLPRegressor\n",
    "from sklearn import set_config\n",
    "set_config(display='diagram') # Để trực quan hóa pipeline\n",
    "\n",
    "# You can also import other things ...\n",
    "# YOUR CODE HERE (OPTION)\n",
    "import csv\n",
    "from sklearn.linear_model import LinearRegression"
   ]
  },
  {
   "cell_type": "markdown",
   "metadata": {},
   "source": [
    "## Thu thập dữ liệu"
   ]
  },
  {
   "cell_type": "code",
   "execution_count": 2,
   "metadata": {
    "scrolled": false
   },
   "outputs": [
    {
     "data": {
      "text/html": [
       "<div>\n",
       "<style scoped>\n",
       "    .dataframe tbody tr th:only-of-type {\n",
       "        vertical-align: middle;\n",
       "    }\n",
       "\n",
       "    .dataframe tbody tr th {\n",
       "        vertical-align: top;\n",
       "    }\n",
       "\n",
       "    .dataframe thead th {\n",
       "        text-align: right;\n",
       "    }\n",
       "</style>\n",
       "<table border=\"1\" class=\"dataframe\">\n",
       "  <thead>\n",
       "    <tr style=\"text-align: right;\">\n",
       "      <th></th>\n",
       "      <th>sqft</th>\n",
       "      <th>homeType</th>\n",
       "      <th>beds</th>\n",
       "      <th>parkingSpots</th>\n",
       "      <th>lotSize</th>\n",
       "      <th>baths</th>\n",
       "      <th>listPrice</th>\n",
       "      <th>heating_system</th>\n",
       "      <th>cooling_system</th>\n",
       "      <th>view_type</th>\n",
       "      <th>architecture_style</th>\n",
       "      <th>yearBuilt</th>\n",
       "      <th>has_pool</th>\n",
       "      <th>city</th>\n",
       "      <th>address</th>\n",
       "      <th>tax</th>\n",
       "    </tr>\n",
       "  </thead>\n",
       "  <tbody>\n",
       "    <tr>\n",
       "      <th>0</th>\n",
       "      <td>1100.0</td>\n",
       "      <td>Single Family Residential</td>\n",
       "      <td>3</td>\n",
       "      <td>NaN</td>\n",
       "      <td>3781.0</td>\n",
       "      <td>2</td>\n",
       "      <td>235000</td>\n",
       "      <td>Forced Air (Natural Gas)</td>\n",
       "      <td>Central A/C</td>\n",
       "      <td>NaN</td>\n",
       "      <td>Other</td>\n",
       "      <td>1955.0</td>\n",
       "      <td>NaN</td>\n",
       "      <td>Chicago</td>\n",
       "      <td>3932 West 84th Street</td>\n",
       "      <td>2642.29</td>\n",
       "    </tr>\n",
       "    <tr>\n",
       "      <th>1</th>\n",
       "      <td>2200.0</td>\n",
       "      <td>Single Family Residential</td>\n",
       "      <td>4</td>\n",
       "      <td>2.0</td>\n",
       "      <td>4234.0</td>\n",
       "      <td>3</td>\n",
       "      <td>260000</td>\n",
       "      <td>Forced Air (Natural Gas)</td>\n",
       "      <td>Central A/C</td>\n",
       "      <td>NaN</td>\n",
       "      <td>Bungalow</td>\n",
       "      <td>1915.0</td>\n",
       "      <td>NaN</td>\n",
       "      <td>Chicago</td>\n",
       "      <td>1119 North Lockwood Avenue</td>\n",
       "      <td>2938.45</td>\n",
       "    </tr>\n",
       "    <tr>\n",
       "      <th>2</th>\n",
       "      <td>750.0</td>\n",
       "      <td>Condo/Coop</td>\n",
       "      <td>2</td>\n",
       "      <td>NaN</td>\n",
       "      <td>NaN</td>\n",
       "      <td>1</td>\n",
       "      <td>275000</td>\n",
       "      <td>Forced Air (Natural Gas)</td>\n",
       "      <td>Central A/C</td>\n",
       "      <td>NaN</td>\n",
       "      <td>Other</td>\n",
       "      <td>1926.0</td>\n",
       "      <td>NaN</td>\n",
       "      <td>Chicago</td>\n",
       "      <td>1100 North Paulina Street #1M</td>\n",
       "      <td>4722.00</td>\n",
       "    </tr>\n",
       "    <tr>\n",
       "      <th>3</th>\n",
       "      <td>1248.0</td>\n",
       "      <td>Single Family Residential</td>\n",
       "      <td>3</td>\n",
       "      <td>2.0</td>\n",
       "      <td>5279.0</td>\n",
       "      <td>2</td>\n",
       "      <td>309900</td>\n",
       "      <td>NaN</td>\n",
       "      <td>Central A/C</td>\n",
       "      <td>NaN</td>\n",
       "      <td>Ranch</td>\n",
       "      <td>1962.0</td>\n",
       "      <td>NaN</td>\n",
       "      <td>Chicago</td>\n",
       "      <td>4909 North Normandy Avenue</td>\n",
       "      <td>560.03</td>\n",
       "    </tr>\n",
       "    <tr>\n",
       "      <th>4</th>\n",
       "      <td>1337.0</td>\n",
       "      <td>Single Family Residential</td>\n",
       "      <td>3</td>\n",
       "      <td>2.0</td>\n",
       "      <td>NaN</td>\n",
       "      <td>2</td>\n",
       "      <td>324900</td>\n",
       "      <td>Forced Air (Natural Gas)</td>\n",
       "      <td>Central A/C</td>\n",
       "      <td>NaN</td>\n",
       "      <td>Georgian</td>\n",
       "      <td>1949.0</td>\n",
       "      <td>NaN</td>\n",
       "      <td>Chicago</td>\n",
       "      <td>10034 South Artesian Avenue</td>\n",
       "      <td>77.40</td>\n",
       "    </tr>\n",
       "    <tr>\n",
       "      <th>...</th>\n",
       "      <td>...</td>\n",
       "      <td>...</td>\n",
       "      <td>...</td>\n",
       "      <td>...</td>\n",
       "      <td>...</td>\n",
       "      <td>...</td>\n",
       "      <td>...</td>\n",
       "      <td>...</td>\n",
       "      <td>...</td>\n",
       "      <td>...</td>\n",
       "      <td>...</td>\n",
       "      <td>...</td>\n",
       "      <td>...</td>\n",
       "      <td>...</td>\n",
       "      <td>...</td>\n",
       "      <td>...</td>\n",
       "    </tr>\n",
       "    <tr>\n",
       "      <th>1160</th>\n",
       "      <td>762.0</td>\n",
       "      <td>Condo/Coop</td>\n",
       "      <td>1</td>\n",
       "      <td>1.0</td>\n",
       "      <td>NaN</td>\n",
       "      <td>1</td>\n",
       "      <td>129900</td>\n",
       "      <td>NaN</td>\n",
       "      <td>Central A/C</td>\n",
       "      <td>NaN</td>\n",
       "      <td>Other</td>\n",
       "      <td>1973.0</td>\n",
       "      <td>True</td>\n",
       "      <td>Chicago</td>\n",
       "      <td>655 West Irving Park Road #315</td>\n",
       "      <td>2283.97</td>\n",
       "    </tr>\n",
       "    <tr>\n",
       "      <th>1161</th>\n",
       "      <td>660.0</td>\n",
       "      <td>Condo/Coop</td>\n",
       "      <td>0</td>\n",
       "      <td>NaN</td>\n",
       "      <td>NaN</td>\n",
       "      <td>1</td>\n",
       "      <td>142500</td>\n",
       "      <td>NaN</td>\n",
       "      <td>Central A/C</td>\n",
       "      <td>NaN</td>\n",
       "      <td>Other</td>\n",
       "      <td>1910.0</td>\n",
       "      <td>NaN</td>\n",
       "      <td>Chicago</td>\n",
       "      <td>780 South Federal Street #1202</td>\n",
       "      <td>2755.93</td>\n",
       "    </tr>\n",
       "    <tr>\n",
       "      <th>1162</th>\n",
       "      <td>800.0</td>\n",
       "      <td>Condo/Coop</td>\n",
       "      <td>1</td>\n",
       "      <td>1.0</td>\n",
       "      <td>NaN</td>\n",
       "      <td>1</td>\n",
       "      <td>195000</td>\n",
       "      <td>NaN</td>\n",
       "      <td>Window Unit(s) A/C</td>\n",
       "      <td>NaN</td>\n",
       "      <td>Other</td>\n",
       "      <td>1985.0</td>\n",
       "      <td>NaN</td>\n",
       "      <td>Chicago</td>\n",
       "      <td>801 South Plymouth Court #804</td>\n",
       "      <td>3007.72</td>\n",
       "    </tr>\n",
       "    <tr>\n",
       "      <th>1163</th>\n",
       "      <td>800.0</td>\n",
       "      <td>Condo/Coop</td>\n",
       "      <td>1</td>\n",
       "      <td>1.0</td>\n",
       "      <td>NaN</td>\n",
       "      <td>1</td>\n",
       "      <td>199999</td>\n",
       "      <td>Forced Air (Natural Gas)</td>\n",
       "      <td>Central A/C</td>\n",
       "      <td>NaN</td>\n",
       "      <td>Other</td>\n",
       "      <td>1905.0</td>\n",
       "      <td>NaN</td>\n",
       "      <td>Chicago</td>\n",
       "      <td>1110 West LELAND Avenue #3A</td>\n",
       "      <td>2127.64</td>\n",
       "    </tr>\n",
       "    <tr>\n",
       "      <th>1164</th>\n",
       "      <td>750.0</td>\n",
       "      <td>Condo/Coop</td>\n",
       "      <td>1</td>\n",
       "      <td>1.0</td>\n",
       "      <td>NaN</td>\n",
       "      <td>1</td>\n",
       "      <td>135000</td>\n",
       "      <td>Forced Air (Natural Gas)</td>\n",
       "      <td>Central A/C</td>\n",
       "      <td>NaN</td>\n",
       "      <td>High Rise</td>\n",
       "      <td>1966.0</td>\n",
       "      <td>NaN</td>\n",
       "      <td>Chicago</td>\n",
       "      <td>720 West Gordon Terrace #12F</td>\n",
       "      <td>2552.81</td>\n",
       "    </tr>\n",
       "  </tbody>\n",
       "</table>\n",
       "<p>1165 rows × 16 columns</p>\n",
       "</div>"
      ],
      "text/plain": [
       "        sqft                   homeType  beds  parkingSpots  lotSize  baths  \\\n",
       "0     1100.0  Single Family Residential     3           NaN   3781.0      2   \n",
       "1     2200.0  Single Family Residential     4           2.0   4234.0      3   \n",
       "2      750.0                 Condo/Coop     2           NaN      NaN      1   \n",
       "3     1248.0  Single Family Residential     3           2.0   5279.0      2   \n",
       "4     1337.0  Single Family Residential     3           2.0      NaN      2   \n",
       "...      ...                        ...   ...           ...      ...    ...   \n",
       "1160   762.0                 Condo/Coop     1           1.0      NaN      1   \n",
       "1161   660.0                 Condo/Coop     0           NaN      NaN      1   \n",
       "1162   800.0                 Condo/Coop     1           1.0      NaN      1   \n",
       "1163   800.0                 Condo/Coop     1           1.0      NaN      1   \n",
       "1164   750.0                 Condo/Coop     1           1.0      NaN      1   \n",
       "\n",
       "      listPrice            heating_system      cooling_system  view_type  \\\n",
       "0        235000  Forced Air (Natural Gas)         Central A/C        NaN   \n",
       "1        260000  Forced Air (Natural Gas)         Central A/C        NaN   \n",
       "2        275000  Forced Air (Natural Gas)         Central A/C        NaN   \n",
       "3        309900                       NaN         Central A/C        NaN   \n",
       "4        324900  Forced Air (Natural Gas)         Central A/C        NaN   \n",
       "...         ...                       ...                 ...        ...   \n",
       "1160     129900                       NaN         Central A/C        NaN   \n",
       "1161     142500                       NaN         Central A/C        NaN   \n",
       "1162     195000                       NaN  Window Unit(s) A/C        NaN   \n",
       "1163     199999  Forced Air (Natural Gas)         Central A/C        NaN   \n",
       "1164     135000  Forced Air (Natural Gas)         Central A/C        NaN   \n",
       "\n",
       "     architecture_style  yearBuilt has_pool     city  \\\n",
       "0                 Other     1955.0      NaN  Chicago   \n",
       "1              Bungalow     1915.0      NaN  Chicago   \n",
       "2                 Other     1926.0      NaN  Chicago   \n",
       "3                 Ranch     1962.0      NaN  Chicago   \n",
       "4              Georgian     1949.0      NaN  Chicago   \n",
       "...                 ...        ...      ...      ...   \n",
       "1160              Other     1973.0     True  Chicago   \n",
       "1161              Other     1910.0      NaN  Chicago   \n",
       "1162              Other     1985.0      NaN  Chicago   \n",
       "1163              Other     1905.0      NaN  Chicago   \n",
       "1164          High Rise     1966.0      NaN  Chicago   \n",
       "\n",
       "                             address      tax  \n",
       "0              3932 West 84th Street  2642.29  \n",
       "1         1119 North Lockwood Avenue  2938.45  \n",
       "2      1100 North Paulina Street #1M  4722.00  \n",
       "3         4909 North Normandy Avenue   560.03  \n",
       "4        10034 South Artesian Avenue    77.40  \n",
       "...                              ...      ...  \n",
       "1160  655 West Irving Park Road #315  2283.97  \n",
       "1161  780 South Federal Street #1202  2755.93  \n",
       "1162   801 South Plymouth Court #804  3007.72  \n",
       "1163     1110 West LELAND Avenue #3A  2127.64  \n",
       "1164    720 West Gordon Terrace #12F  2552.81  \n",
       "\n",
       "[1165 rows x 16 columns]"
      ]
     },
     "execution_count": 2,
     "metadata": {},
     "output_type": "execute_result"
    }
   ],
   "source": [
    "# Đọc dữ liệu từ \"data.csv\"\n",
    "df = pd.read_csv('data.csv')\n",
    "df"
   ]
  },
  {
   "cell_type": "markdown",
   "metadata": {},
   "source": [
    "---"
   ]
  },
  {
   "cell_type": "markdown",
   "metadata": {},
   "source": [
    "## Khám phá dữ liệu (để làm rõ câu hỏi)"
   ]
  },
  {
   "cell_type": "markdown",
   "metadata": {},
   "source": [
    "### Số dòng và cột"
   ]
  },
  {
   "cell_type": "code",
   "execution_count": 3,
   "metadata": {},
   "outputs": [
    {
     "data": {
      "text/plain": [
       "(1165, 16)"
      ]
     },
     "execution_count": 3,
     "metadata": {},
     "output_type": "execute_result"
    }
   ],
   "source": [
    "df.shape"
   ]
  },
  {
   "cell_type": "markdown",
   "metadata": {},
   "source": [
    "### Ý nghĩa của từng dòng. Có dòng nào không phù hợp không?"
   ]
  },
  {
   "cell_type": "markdown",
   "metadata": {},
   "source": [
    "Mỗi dòng thể hiện 17 thông tin khác nhau của một căn nhà được giao bán. Do dữ liệu được lấy trong trang mô tả chi tiết của từng căn nhà nên sẽ không có dòng nào đặc biệt.\n",
    "\n",
    "Tuy nhiên người đăng có thể giao bán 1 căn nhà nhiều lần, các dòng có thể bị lặp lại."
   ]
  },
  {
   "cell_type": "markdown",
   "metadata": {},
   "source": [
    "### Kiểm tra số dòng bị lặp lại"
   ]
  },
  {
   "cell_type": "code",
   "execution_count": 4,
   "metadata": {},
   "outputs": [
    {
     "data": {
      "text/plain": [
       "1"
      ]
     },
     "execution_count": 4,
     "metadata": {},
     "output_type": "execute_result"
    }
   ],
   "source": [
    "df.duplicated().sum()"
   ]
  },
  {
   "cell_type": "markdown",
   "metadata": {},
   "source": [
    "$\\to$ Sẽ được đưa vào Pipeline tiền xử lí chung trong tệp huấn luyện"
   ]
  },
  {
   "cell_type": "markdown",
   "metadata": {},
   "source": [
    "### Ý nghĩa của mỗi cột"
   ]
  },
  {
   "cell_type": "code",
   "execution_count": 5,
   "metadata": {},
   "outputs": [
    {
     "data": {
      "text/html": [
       "<div>\n",
       "<style scoped>\n",
       "    .dataframe tbody tr th:only-of-type {\n",
       "        vertical-align: middle;\n",
       "    }\n",
       "\n",
       "    .dataframe tbody tr th {\n",
       "        vertical-align: top;\n",
       "    }\n",
       "\n",
       "    .dataframe thead th {\n",
       "        text-align: right;\n",
       "    }\n",
       "</style>\n",
       "<table border=\"1\" class=\"dataframe\">\n",
       "  <thead>\n",
       "    <tr style=\"text-align: right;\">\n",
       "      <th></th>\n",
       "      <th>sqft</th>\n",
       "      <th>homeType</th>\n",
       "      <th>beds</th>\n",
       "      <th>parkingSpots</th>\n",
       "      <th>lotSize</th>\n",
       "      <th>baths</th>\n",
       "      <th>listPrice</th>\n",
       "      <th>heating_system</th>\n",
       "      <th>cooling_system</th>\n",
       "      <th>view_type</th>\n",
       "      <th>architecture_style</th>\n",
       "      <th>yearBuilt</th>\n",
       "      <th>has_pool</th>\n",
       "      <th>city</th>\n",
       "      <th>address</th>\n",
       "      <th>tax</th>\n",
       "    </tr>\n",
       "  </thead>\n",
       "  <tbody>\n",
       "    <tr>\n",
       "      <th>0</th>\n",
       "      <td>1100.0</td>\n",
       "      <td>Single Family Residential</td>\n",
       "      <td>3</td>\n",
       "      <td>NaN</td>\n",
       "      <td>3781.0</td>\n",
       "      <td>2</td>\n",
       "      <td>235000</td>\n",
       "      <td>Forced Air (Natural Gas)</td>\n",
       "      <td>Central A/C</td>\n",
       "      <td>NaN</td>\n",
       "      <td>Other</td>\n",
       "      <td>1955.0</td>\n",
       "      <td>NaN</td>\n",
       "      <td>Chicago</td>\n",
       "      <td>3932 West 84th Street</td>\n",
       "      <td>2642.29</td>\n",
       "    </tr>\n",
       "  </tbody>\n",
       "</table>\n",
       "</div>"
      ],
      "text/plain": [
       "     sqft                   homeType  beds  parkingSpots  lotSize  baths  \\\n",
       "0  1100.0  Single Family Residential     3           NaN   3781.0      2   \n",
       "\n",
       "   listPrice            heating_system cooling_system  view_type  \\\n",
       "0     235000  Forced Air (Natural Gas)    Central A/C        NaN   \n",
       "\n",
       "  architecture_style  yearBuilt has_pool     city                address  \\\n",
       "0              Other     1955.0      NaN  Chicago  3932 West 84th Street   \n",
       "\n",
       "       tax  \n",
       "0  2642.29  "
      ]
     },
     "execution_count": 5,
     "metadata": {},
     "output_type": "execute_result"
    }
   ],
   "source": [
    "df.head(1)"
   ]
  },
  {
   "cell_type": "markdown",
   "metadata": {},
   "source": [
    "Your answer here\n",
    "- \"bedrooms\" : Số phòng ngủ\n",
    "- \"bathrooms\" : Số phòng vệ sinh\n",
    "- \"house_type\" : Loại hình nhà ở\n",
    "- \"length\" : Chiều dài căn nhà\n",
    "- \"width\" : Chiều rộng căn nhà\n",
    "- \"furniture\" : Tình trạng của nội thất\n",
    "- \"legal_paper\" : Giấy tờ pháp lý hiện có\n",
    "- \"address\" : Địa chỉ của căn nhà\n",
    "- \"direction\" : Hướng của cửa chính\n",
    "- \"price\" : Giá tiền hiện giao bán"
   ]
  },
  {
   "cell_type": "markdown",
   "metadata": {},
   "source": [
    "## Làm rõ câu hỏi"
   ]
  },
  {
   "cell_type": "markdown",
   "metadata": {},
   "source": [
    "**Câu hỏi đưa ra:** Với một căn nhà mơ ước, người khách hàng cần bao nhiêu tiền để có thể mua được ở bang Chicago của Mỹ ? \n",
    "\n",
    "Tạm thời các cột Input sẽ là thông tin liên quan tới căn nhà được giao bán, tổng cộng có 16 cột. Cột Output sẽ là giá bán của ngôi nhà. Nhóm sẽ sử dụng mô hình hồi quy để dự đoán giá nhà (cột Output) dựa trên thông tin của căn nhà (cột Input).\n",
    "\n",
    "Các cột Input có thể thay đổi ở các bước tiền xử lý sau.\n",
    "\n",
    "**Lợi ích khi trả lời**: \n",
    "\n",
    "Có thể đưa ra một mức giá sấp xỉ để những người trẻ có thể dựa vào đó để nổ lực phấn đấu mua được căn nhà mình muốn."
   ]
  },
  {
   "cell_type": "markdown",
   "metadata": {},
   "source": [
    "## Khám phá dữ liệu (để tách các tập)\n",
    "Để biết cách tách các tập thì ta cần khám phá thêm cột output một ít:\n",
    "- Cột này hiện có kiểu dữ liệu là gì? Trong bài toán hồi qui thì cột output bắt buộc phải có dạng số; nếu hiện chưa có dạng số (ví dụ, số nhưng được lưu dưới dạng chuỗi) thì ta cần chuyển sang dạng số rồi mới tách các tập.\n",
    "- Cột này có giá trị thiếu không? Nếu có giá trị thiếu thì ta sẽ bỏ các dòng mà output có giá trị thiếu rồi mới tách các tập \n",
    "- Cột numerical output xử lí như nào?"
   ]
  },
  {
   "cell_type": "code",
   "execution_count": 6,
   "metadata": {},
   "outputs": [
    {
     "data": {
      "text/plain": [
       "dtype('int64')"
      ]
     },
     "execution_count": 6,
     "metadata": {},
     "output_type": "execute_result"
    }
   ],
   "source": [
    "# Kiểu dữ liệu cột output\n",
    "df['listPrice'].dtype"
   ]
  },
  {
   "cell_type": "code",
   "execution_count": 7,
   "metadata": {},
   "outputs": [
    {
     "data": {
      "text/plain": [
       "0"
      ]
     },
     "execution_count": 7,
     "metadata": {},
     "output_type": "execute_result"
    }
   ],
   "source": [
    "# Có giá trị nào thiếu không?\n",
    "df['listPrice'].isna().sum()"
   ]
  },
  {
   "cell_type": "markdown",
   "metadata": {},
   "source": [
    "---"
   ]
  },
  {
   "cell_type": "markdown",
   "metadata": {},
   "source": [
    "## Tiền xử lý tách tập dữ liệu"
   ]
  },
  {
   "cell_type": "code",
   "execution_count": 8,
   "metadata": {},
   "outputs": [],
   "source": [
    "# Tách X và y\n",
    "y = df[\"listPrice\"] \n",
    "X = df.drop(\"listPrice\", axis=1)"
   ]
  },
  {
   "cell_type": "code",
   "execution_count": 9,
   "metadata": {},
   "outputs": [],
   "source": [
    "# Tách tập huấn luyện và tập validation và tập test theo tỉ lệ 60:20:20\n",
    "train_X, test_X, train_y, test_y = train_test_split(X, y, \n",
    "                                               test_size=0.2)"
   ]
  },
  {
   "cell_type": "code",
   "execution_count": 10,
   "metadata": {},
   "outputs": [],
   "source": [
    "train_X, val_X, train_y, val_y = train_test_split(train_X, train_y, \n",
    "                                               test_size=0.2)"
   ]
  },
  {
   "cell_type": "code",
   "execution_count": 11,
   "metadata": {},
   "outputs": [
    {
     "name": "stdout",
     "output_type": "stream",
     "text": [
      "train_X.shape:  (745, 15)\n",
      "train_y.shape:  (745,)\n",
      "val_X.shape:  (187, 15)\n",
      "val_y.shape:  (187,)\n",
      "test_X.shape:  (233, 15)\n",
      "test_y.shape:  (233,)\n"
     ]
    }
   ],
   "source": [
    "print(\"train_X.shape: \", train_X.shape)\n",
    "print(\"train_y.shape: \", train_y.shape)\n",
    "\n",
    "print(\"val_X.shape: \", val_X.shape)\n",
    "print(\"val_y.shape: \", val_y.shape)\n",
    "\n",
    "print(\"test_X.shape: \", test_X.shape)\n",
    "print(\"test_y.shape: \", test_y.shape)"
   ]
  },
  {
   "cell_type": "markdown",
   "metadata": {},
   "source": [
    "---"
   ]
  },
  {
   "cell_type": "markdown",
   "metadata": {},
   "source": [
    "## Khám phá dữ liệu (trên tập huấn luyện)"
   ]
  },
  {
   "cell_type": "markdown",
   "metadata": {},
   "source": [
    "### Kiểu dữ liệu từng cột. Có cột nào chưa phù hợp?"
   ]
  },
  {
   "cell_type": "code",
   "execution_count": 12,
   "metadata": {},
   "outputs": [
    {
     "data": {
      "text/plain": [
       "sqft                  float64\n",
       "homeType               object\n",
       "beds                    int64\n",
       "parkingSpots          float64\n",
       "lotSize               float64\n",
       "baths                   int64\n",
       "heating_system         object\n",
       "cooling_system         object\n",
       "view_type             float64\n",
       "architecture_style     object\n",
       "yearBuilt             float64\n",
       "has_pool               object\n",
       "city                   object\n",
       "address                object\n",
       "tax                   float64\n",
       "dtype: object"
      ]
     },
     "execution_count": 12,
     "metadata": {},
     "output_type": "execute_result"
    }
   ],
   "source": [
    "train_X.dtypes"
   ]
  },
  {
   "cell_type": "markdown",
   "metadata": {},
   "source": [
    "### Các cột dạng numerical phân bố như thế nào?"
   ]
  },
  {
   "cell_type": "code",
   "execution_count": 13,
   "metadata": {},
   "outputs": [
    {
     "data": {
      "text/plain": [
       "sqft            float64\n",
       "beds              int64\n",
       "parkingSpots    float64\n",
       "lotSize         float64\n",
       "baths             int64\n",
       "view_type       float64\n",
       "yearBuilt       float64\n",
       "tax             float64\n",
       "dtype: object"
      ]
     },
     "execution_count": 13,
     "metadata": {},
     "output_type": "execute_result"
    }
   ],
   "source": [
    "train_X.dtypes[train_X.dtypes != object]"
   ]
  },
  {
   "cell_type": "code",
   "execution_count": 14,
   "metadata": {},
   "outputs": [
    {
     "data": {
      "text/html": [
       "<div>\n",
       "<style scoped>\n",
       "    .dataframe tbody tr th:only-of-type {\n",
       "        vertical-align: middle;\n",
       "    }\n",
       "\n",
       "    .dataframe tbody tr th {\n",
       "        vertical-align: top;\n",
       "    }\n",
       "\n",
       "    .dataframe thead th {\n",
       "        text-align: right;\n",
       "    }\n",
       "</style>\n",
       "<table border=\"1\" class=\"dataframe\">\n",
       "  <thead>\n",
       "    <tr style=\"text-align: right;\">\n",
       "      <th></th>\n",
       "      <th>sqft</th>\n",
       "      <th>beds</th>\n",
       "      <th>parkingSpots</th>\n",
       "      <th>lotSize</th>\n",
       "      <th>baths</th>\n",
       "      <th>view_type</th>\n",
       "      <th>yearBuilt</th>\n",
       "      <th>tax</th>\n",
       "    </tr>\n",
       "  </thead>\n",
       "  <tbody>\n",
       "    <tr>\n",
       "      <th>missing_percentage</th>\n",
       "      <td>21.7</td>\n",
       "      <td>0.0</td>\n",
       "      <td>20.7</td>\n",
       "      <td>44.7</td>\n",
       "      <td>0.0</td>\n",
       "      <td>100.0</td>\n",
       "      <td>9.7</td>\n",
       "      <td>3.80</td>\n",
       "    </tr>\n",
       "    <tr>\n",
       "      <th>min</th>\n",
       "      <td>470.0</td>\n",
       "      <td>0.0</td>\n",
       "      <td>0.0</td>\n",
       "      <td>0.0</td>\n",
       "      <td>1.0</td>\n",
       "      <td>NaN</td>\n",
       "      <td>1868.0</td>\n",
       "      <td>105.34</td>\n",
       "    </tr>\n",
       "    <tr>\n",
       "      <th>median</th>\n",
       "      <td>1300.0</td>\n",
       "      <td>3.0</td>\n",
       "      <td>2.0</td>\n",
       "      <td>3781.0</td>\n",
       "      <td>2.0</td>\n",
       "      <td>NaN</td>\n",
       "      <td>1951.0</td>\n",
       "      <td>3339.50</td>\n",
       "    </tr>\n",
       "    <tr>\n",
       "      <th>max</th>\n",
       "      <td>5100.0</td>\n",
       "      <td>4.0</td>\n",
       "      <td>100.0</td>\n",
       "      <td>5225894.0</td>\n",
       "      <td>5.0</td>\n",
       "      <td>NaN</td>\n",
       "      <td>2021.0</td>\n",
       "      <td>41052.14</td>\n",
       "    </tr>\n",
       "  </tbody>\n",
       "</table>\n",
       "</div>"
      ],
      "text/plain": [
       "                      sqft  beds  parkingSpots    lotSize  baths  view_type  \\\n",
       "missing_percentage    21.7   0.0          20.7       44.7    0.0      100.0   \n",
       "min                  470.0   0.0           0.0        0.0    1.0        NaN   \n",
       "median              1300.0   3.0           2.0     3781.0    2.0        NaN   \n",
       "max                 5100.0   4.0         100.0  5225894.0    5.0        NaN   \n",
       "\n",
       "                    yearBuilt       tax  \n",
       "missing_percentage        9.7      3.80  \n",
       "min                    1868.0    105.34  \n",
       "median                 1951.0   3339.50  \n",
       "max                    2021.0  41052.14  "
      ]
     },
     "execution_count": 14,
     "metadata": {},
     "output_type": "execute_result"
    }
   ],
   "source": [
    "num_cols = ['sqft',\"beds\",\"parkingSpots\",\"lotSize\",\"baths\",\"view_type\",\"yearBuilt\",\"tax\"]\n",
    "df = train_X[num_cols]\n",
    "def missing_percentage(c):\n",
    "    return (c.isna().mean() * 100).round(1)\n",
    "def median(c):\n",
    "    return c.quantile(0.5).round(1)\n",
    "df.agg([missing_percentage, 'min', median, 'max'])"
   ]
  },
  {
   "cell_type": "markdown",
   "metadata": {},
   "source": [
    "### Các cột dạng categorical phân bố như thế nào?"
   ]
  },
  {
   "cell_type": "code",
   "execution_count": 15,
   "metadata": {},
   "outputs": [
    {
     "data": {
      "text/plain": [
       "homeType              object\n",
       "heating_system        object\n",
       "cooling_system        object\n",
       "architecture_style    object\n",
       "has_pool              object\n",
       "city                  object\n",
       "address               object\n",
       "dtype: object"
      ]
     },
     "execution_count": 15,
     "metadata": {},
     "output_type": "execute_result"
    }
   ],
   "source": [
    "train_X.dtypes[train_X.dtypes == object]"
   ]
  },
  {
   "cell_type": "code",
   "execution_count": 16,
   "metadata": {
    "scrolled": true
   },
   "outputs": [
    {
     "data": {
      "text/html": [
       "<div>\n",
       "<style scoped>\n",
       "    .dataframe tbody tr th:only-of-type {\n",
       "        vertical-align: middle;\n",
       "    }\n",
       "\n",
       "    .dataframe tbody tr th {\n",
       "        vertical-align: top;\n",
       "    }\n",
       "\n",
       "    .dataframe thead th {\n",
       "        text-align: right;\n",
       "    }\n",
       "</style>\n",
       "<table border=\"1\" class=\"dataframe\">\n",
       "  <thead>\n",
       "    <tr style=\"text-align: right;\">\n",
       "      <th></th>\n",
       "      <th>cooling_system</th>\n",
       "      <th>city</th>\n",
       "      <th>address</th>\n",
       "      <th>has_pool</th>\n",
       "      <th>heating_system</th>\n",
       "      <th>homeType</th>\n",
       "      <th>architecture_style</th>\n",
       "    </tr>\n",
       "  </thead>\n",
       "  <tbody>\n",
       "    <tr>\n",
       "      <th>missing_percentage</th>\n",
       "      <td>0.9</td>\n",
       "      <td>0</td>\n",
       "      <td>0</td>\n",
       "      <td>97.7</td>\n",
       "      <td>27.7</td>\n",
       "      <td>0</td>\n",
       "      <td>0</td>\n",
       "    </tr>\n",
       "    <tr>\n",
       "      <th>num_values</th>\n",
       "      <td>5</td>\n",
       "      <td>1</td>\n",
       "      <td>745</td>\n",
       "      <td>1</td>\n",
       "      <td>21</td>\n",
       "      <td>4</td>\n",
       "      <td>15</td>\n",
       "    </tr>\n",
       "    <tr>\n",
       "      <th>value_percentages</th>\n",
       "      <td>{'Central A/C': 73.2, 'Window Unit(s) A/C': 13.1, 'None': 13.1, 'Zoned A/C': 0.4, 'Partial': 0.1}</td>\n",
       "      <td>{'Chicago': 100.0}</td>\n",
       "      <td>{'7302 South Lafayette Avenue': 0.1, '6318 South Drexel Avenue #3': 0.1, '836 West Fullerton Avenue #1E': 0.1, '6875 North Northwest Highway #2D': 0.1, '100 North Hermitage Avenue #612': 0.1, '811...</td>\n",
       "      <td>{True: 100.0}</td>\n",
       "      <td>{'Forced Air (Natural Gas)': 59.4, 'Fireplace (Natural Gas)': 10.2, 'Forced Air': 8.3, 'Hot Water': 3.2, 'Radiator': 2.8, 'Baseboard': 2.8, 'Hot Water (Natural Gas)': 2.6, 'Baseboard (Natural Gas)...</td>\n",
       "      <td>{'Single Family Residential': 60.0, 'Condo/Coop': 39.5, 'Townhouse': 0.4, 'Other': 0.1}</td>\n",
       "      <td>{'Other': 64.8, 'Bungalow': 8.2, 'Ranch': 6.8, 'High Rise': 5.9, 'Cape Cod': 2.8, 'Georgian': 2.1, 'Split Level': 1.7, 'Loft': 1.7, 'Contemporary': 1.2, 'English': 1.1, 'Cottage': 1.1, 'New Tradit...</td>\n",
       "    </tr>\n",
       "  </tbody>\n",
       "</table>\n",
       "</div>"
      ],
      "text/plain": [
       "                                                                                                       cooling_system  \\\n",
       "missing_percentage                                                                                                0.9   \n",
       "num_values                                                                                                          5   \n",
       "value_percentages   {'Central A/C': 73.2, 'Window Unit(s) A/C': 13.1, 'None': 13.1, 'Zoned A/C': 0.4, 'Partial': 0.1}   \n",
       "\n",
       "                                  city  \\\n",
       "missing_percentage                   0   \n",
       "num_values                           1   \n",
       "value_percentages   {'Chicago': 100.0}   \n",
       "\n",
       "                                                                                                                                                                                                                    address  \\\n",
       "missing_percentage                                                                                                                                                                                                        0   \n",
       "num_values                                                                                                                                                                                                              745   \n",
       "value_percentages   {'7302 South Lafayette Avenue': 0.1, '6318 South Drexel Avenue #3': 0.1, '836 West Fullerton Avenue #1E': 0.1, '6875 North Northwest Highway #2D': 0.1, '100 North Hermitage Avenue #612': 0.1, '811...   \n",
       "\n",
       "                         has_pool  \\\n",
       "missing_percentage           97.7   \n",
       "num_values                      1   \n",
       "value_percentages   {True: 100.0}   \n",
       "\n",
       "                                                                                                                                                                                                             heating_system  \\\n",
       "missing_percentage                                                                                                                                                                                                     27.7   \n",
       "num_values                                                                                                                                                                                                               21   \n",
       "value_percentages   {'Forced Air (Natural Gas)': 59.4, 'Fireplace (Natural Gas)': 10.2, 'Forced Air': 8.3, 'Hot Water': 3.2, 'Radiator': 2.8, 'Baseboard': 2.8, 'Hot Water (Natural Gas)': 2.6, 'Baseboard (Natural Gas)...   \n",
       "\n",
       "                                                                                                   homeType  \\\n",
       "missing_percentage                                                                                        0   \n",
       "num_values                                                                                                4   \n",
       "value_percentages   {'Single Family Residential': 60.0, 'Condo/Coop': 39.5, 'Townhouse': 0.4, 'Other': 0.1}   \n",
       "\n",
       "                                                                                                                                                                                                         architecture_style  \n",
       "missing_percentage                                                                                                                                                                                                        0  \n",
       "num_values                                                                                                                                                                                                               15  \n",
       "value_percentages   {'Other': 64.8, 'Bungalow': 8.2, 'Ranch': 6.8, 'High Rise': 5.9, 'Cape Cod': 2.8, 'Georgian': 2.1, 'Split Level': 1.7, 'Loft': 1.7, 'Contemporary': 1.2, 'English': 1.1, 'Cottage': 1.1, 'New Tradit...  "
      ]
     },
     "execution_count": 16,
     "metadata": {},
     "output_type": "execute_result"
    }
   ],
   "source": [
    "cate_cols = list(set(train_X.columns) - set(num_cols))\n",
    "cate_df = train_X[cate_cols]\n",
    "pd.set_option('display.max_colwidth', 200)\n",
    "def num_values(df):\n",
    "    return df.nunique()\n",
    "def value_percentages(c):\n",
    "    return dict((c.value_counts(normalize=True) * 100).round(1))\n",
    "cate_df.agg([missing_percentage, num_values, value_percentages])"
   ]
  },
  {
   "cell_type": "markdown",
   "metadata": {},
   "source": [
    "## Tiền xử lý tập huấn luyện"
   ]
  },
  {
   "cell_type": "markdown",
   "metadata": {},
   "source": [
    "### Cột dạng numerical"
   ]
  },
  {
   "cell_type": "markdown",
   "metadata": {},
   "source": [
    "- Các cột có missing_percentage lớn hơn 40% sẽ được loại bỏ: lotSize, view_type\n",
    "- TH1: điền các giá trị thiếu là median "
   ]
  },
  {
   "cell_type": "code",
   "execution_count": 17,
   "metadata": {},
   "outputs": [],
   "source": [
    "class NumeDropper(BaseEstimator, TransformerMixin):\n",
    "    def fit(self, X, y=None):\n",
    "        return self\n",
    "    def transform(self, X, y=None):\n",
    "        self.newX_df = X.copy()\n",
    "        # bỏ cột      \n",
    "        self.newX_df=self.newX_df.drop(columns=[\"lotSize\",\"view_type\"])\n",
    "        return self.newX_df\n",
    "    \n",
    "# col_NumDropper = NumeDropper()\n",
    "# train_X_df = col_NumDropper.transform(train_X)\n",
    "# train_X_df.head()"
   ]
  },
  {
   "cell_type": "markdown",
   "metadata": {},
   "source": [
    "### Cột dạng categorical"
   ]
  },
  {
   "cell_type": "markdown",
   "metadata": {},
   "source": [
    "- Các cột có missing_percentage lớn hơn 40% sẽ được loại bỏ: has_pool\n",
    "- Điền các giá trị thiếu bằng most-frequent\n",
    "- Address tách tên đường \n",
    "- Các cột chỉ có 1 giá trị sẽ được loại bỏ: city\n",
    "- heating_system, home_type, architecture_type, cooling_system, address sau khi tách sẽ được chuyển thành dạng one-hot"
   ]
  },
  {
   "cell_type": "code",
   "execution_count": 18,
   "metadata": {},
   "outputs": [
    {
     "data": {
      "text/html": [
       "<div>\n",
       "<style scoped>\n",
       "    .dataframe tbody tr th:only-of-type {\n",
       "        vertical-align: middle;\n",
       "    }\n",
       "\n",
       "    .dataframe tbody tr th {\n",
       "        vertical-align: top;\n",
       "    }\n",
       "\n",
       "    .dataframe thead th {\n",
       "        text-align: right;\n",
       "    }\n",
       "</style>\n",
       "<table border=\"1\" class=\"dataframe\">\n",
       "  <thead>\n",
       "    <tr style=\"text-align: right;\">\n",
       "      <th></th>\n",
       "      <th>Street</th>\n",
       "    </tr>\n",
       "  </thead>\n",
       "  <tbody>\n",
       "    <tr>\n",
       "      <th>num_values</th>\n",
       "      <td>505</td>\n",
       "    </tr>\n",
       "    <tr>\n",
       "      <th>value_percentages</th>\n",
       "      <td>{'North Lake Shore Drive': 1.3, 'North Sheridan Road': 1.2, 'South State Street': 1.1, 'North Marine Drive': 0.9, 'East Chestnut Street': 0.7, 'West Van Buren Street': 0.7, 'West Irving Park Road'...</td>\n",
       "    </tr>\n",
       "  </tbody>\n",
       "</table>\n",
       "</div>"
      ],
      "text/plain": [
       "                                                                                                                                                                                                                    Street\n",
       "num_values                                                                                                                                                                                                             505\n",
       "value_percentages  {'North Lake Shore Drive': 1.3, 'North Sheridan Road': 1.2, 'South State Street': 1.1, 'North Marine Drive': 0.9, 'East Chestnut Street': 0.7, 'West Van Buren Street': 0.7, 'West Irving Park Road'..."
      ]
     },
     "execution_count": 18,
     "metadata": {},
     "output_type": "execute_result"
    }
   ],
   "source": [
    "street_col = train_X[\"address\"].str.extract('(?P<number>\\d+)(?P<Street>.*)')\n",
    "street_col = street_col.Street.str.split(\"#\").str[0]\n",
    "street_col = street_col.str.strip()\n",
    "street_col.agg([num_values, value_percentages]).to_frame()"
   ]
  },
  {
   "cell_type": "markdown",
   "metadata": {},
   "source": [
    "Có nhiều giá trị rời rạc trong cột \"street_col\", và phần trăm đóng góp từng giá trị quá nhỏ \\\n",
    "$\\to$ Bỏ cột \"address\""
   ]
  },
  {
   "cell_type": "code",
   "execution_count": 19,
   "metadata": {},
   "outputs": [],
   "source": [
    "def fit_col(X, num_top_titles):\n",
    "    self = X.value_counts()\n",
    "    index = list(self.index)\n",
    "    self = index[:max(1, min(num_top_titles, len(index)))]\n",
    "    return self\n",
    "\n",
    "def transform_col(self, X):\n",
    "    return np.where(X.isin(self),X,\"Others\")"
   ]
  },
  {
   "cell_type": "code",
   "execution_count": 20,
   "metadata": {},
   "outputs": [],
   "source": [
    "class CateDropper(BaseEstimator, TransformerMixin):\n",
    "    def __init__(self, num_top_titles=1):\n",
    "        self.num_top_titles = num_top_titles\n",
    "        self.top_cols = [\"heating_system\", \"homeType\", \"architecture_style\", \"cooling_system\"]\n",
    "    def fit(self, X, y=None):\n",
    "        self.heat_counts = fit_col(X.heating_system, self.num_top_titles )\n",
    "        self.homeType = fit_col(X.homeType,self.num_top_titles)\n",
    "        self.architecture_style = fit_col(X.architecture_style,self.num_top_titles)\n",
    "        self.cooling_system = fit_col(X.cooling_system,self.num_top_titles)\n",
    "        \n",
    "        return self\n",
    "    def transform(self, X, y=None):\n",
    "        self.newX_df = X.copy()\n",
    "        \n",
    "        self.newX_df[\"heating_system\"] = transform_col(self.heat_counts, self.newX_df[\"heating_system\"])\n",
    "        self.newX_df[\"homeType\"] = transform_col(self.homeType, self.newX_df[\"homeType\"])\n",
    "        self.newX_df[\"architecture_style\"] = transform_col(self.architecture_style, self.newX_df[\"architecture_style\"])\n",
    "        self.newX_df[\"cooling_system\"] = transform_col(self.cooling_system, self.newX_df[\"cooling_system\"])\n",
    "\n",
    "        # bỏ cột       \n",
    "        self.newX_df=self.newX_df.drop(columns=[\"has_pool\",\"city\",\"address\"])\n",
    "        return self.newX_df"
   ]
  },
  {
   "cell_type": "code",
   "execution_count": 21,
   "metadata": {},
   "outputs": [],
   "source": [
    "# col_adderdropper = CateDropper(num_top_titles=4)\n",
    "# col_adderdropper.fit(train_X)\n",
    "# fewer_cols_train_X_df = col_adderdropper.transform(train_X)\n",
    "# fewer_cols_train_X_df"
   ]
  },
  {
   "cell_type": "markdown",
   "metadata": {},
   "source": [
    "Toàn bộ quá trình xử lý sẽ được thực hiện như sau:\n",
    "- Xử lý các cột dạng số: bỏ đi lotSize và view_type, điền các giá trị thiếu bằng median\n",
    "- Xử lý các cột dạng categorical: bỏ đi has_pool, address, city. Điền các giá trị thiếu bằng most-frequent, lấy top N giá trị xuất hiện nhiều nhất của các cột còn lại, chuyển thành Onehot"
   ]
  },
  {
   "cell_type": "code",
   "execution_count": 22,
   "metadata": {},
   "outputs": [
    {
     "data": {
      "text/html": [
       "<style>div.sk-top-container {color: black;background-color: white;}div.sk-toggleable {background-color: white;}label.sk-toggleable__label {cursor: pointer;display: block;width: 100%;margin-bottom: 0;padding: 0.2em 0.3em;box-sizing: border-box;text-align: center;}div.sk-toggleable__content {max-height: 0;max-width: 0;overflow: hidden;text-align: left;background-color: #f0f8ff;}div.sk-toggleable__content pre {margin: 0.2em;color: black;border-radius: 0.25em;background-color: #f0f8ff;}input.sk-toggleable__control:checked~div.sk-toggleable__content {max-height: 200px;max-width: 100%;overflow: auto;}div.sk-estimator input.sk-toggleable__control:checked~label.sk-toggleable__label {background-color: #d4ebff;}div.sk-label input.sk-toggleable__control:checked~label.sk-toggleable__label {background-color: #d4ebff;}input.sk-hidden--visually {border: 0;clip: rect(1px 1px 1px 1px);clip: rect(1px, 1px, 1px, 1px);height: 1px;margin: -1px;overflow: hidden;padding: 0;position: absolute;width: 1px;}div.sk-estimator {font-family: monospace;background-color: #f0f8ff;margin: 0.25em 0.25em;border: 1px dotted black;border-radius: 0.25em;box-sizing: border-box;}div.sk-estimator:hover {background-color: #d4ebff;}div.sk-parallel-item::after {content: \"\";width: 100%;border-bottom: 1px solid gray;flex-grow: 1;}div.sk-label:hover label.sk-toggleable__label {background-color: #d4ebff;}div.sk-serial::before {content: \"\";position: absolute;border-left: 1px solid gray;box-sizing: border-box;top: 2em;bottom: 0;left: 50%;}div.sk-serial {display: flex;flex-direction: column;align-items: center;background-color: white;}div.sk-item {z-index: 1;}div.sk-parallel {display: flex;align-items: stretch;justify-content: center;background-color: white;}div.sk-parallel-item {display: flex;flex-direction: column;position: relative;background-color: white;}div.sk-parallel-item:first-child::after {align-self: flex-end;width: 50%;}div.sk-parallel-item:last-child::after {align-self: flex-start;width: 50%;}div.sk-parallel-item:only-child::after {width: 0;}div.sk-dashed-wrapped {border: 1px dashed gray;margin: 0.2em;box-sizing: border-box;padding-bottom: 0.1em;background-color: white;position: relative;}div.sk-label label {font-family: monospace;font-weight: bold;background-color: white;display: inline-block;line-height: 1.2em;}div.sk-label-container {position: relative;z-index: 2;text-align: center;}div.sk-container {display: inline-block;position: relative;}</style><div class=\"sk-top-container\"><div class=\"sk-container\"><div class=\"sk-item sk-dashed-wrapped\"><div class=\"sk-label-container\"><div class=\"sk-label sk-toggleable\"><input class=\"sk-toggleable__control sk-hidden--visually\" id=\"3284affb-8d5b-4ade-baee-f3b7762be85b\" type=\"checkbox\" ><label class=\"sk-toggleable__label\" for=\"3284affb-8d5b-4ade-baee-f3b7762be85b\">Pipeline</label><div class=\"sk-toggleable__content\"><pre>Pipeline(steps=[('numdropper', NumeDropper()),\n",
       "                ('catedropper', CateDropper(num_top_titles=4)),\n",
       "                ('preprocessor',\n",
       "                 ColumnTransformer(transformers=[('num',\n",
       "                                                  Pipeline(steps=[('imputer',\n",
       "                                                                   SimpleImputer(strategy='median'))]),\n",
       "                                                  ['sqft', 'beds',\n",
       "                                                   'parkingSpots', 'baths',\n",
       "                                                   'yearBuilt', 'tax']),\n",
       "                                                 ('unoder',\n",
       "                                                  Pipeline(steps=[('imputer',\n",
       "                                                                   SimpleImputer(strategy='most_frequent')),\n",
       "                                                                  ('onehot',\n",
       "                                                                   OneHotEncoder(handle_unknown='ignore'))]),\n",
       "                                                  ['homeType', 'heating_system',\n",
       "                                                   'cooling_system',\n",
       "                                                   'architecture_style'])]))])</pre></div></div></div><div class=\"sk-serial\"><div class=\"sk-item\"><div class=\"sk-estimator sk-toggleable\"><input class=\"sk-toggleable__control sk-hidden--visually\" id=\"4780947c-2ec3-42b2-a4a2-40e58ca67776\" type=\"checkbox\" ><label class=\"sk-toggleable__label\" for=\"4780947c-2ec3-42b2-a4a2-40e58ca67776\">NumeDropper</label><div class=\"sk-toggleable__content\"><pre>NumeDropper()</pre></div></div></div><div class=\"sk-item\"><div class=\"sk-estimator sk-toggleable\"><input class=\"sk-toggleable__control sk-hidden--visually\" id=\"e3c69675-c0cf-41f1-975b-2d7859550b09\" type=\"checkbox\" ><label class=\"sk-toggleable__label\" for=\"e3c69675-c0cf-41f1-975b-2d7859550b09\">CateDropper</label><div class=\"sk-toggleable__content\"><pre>CateDropper(num_top_titles=4)</pre></div></div></div><div class=\"sk-item sk-dashed-wrapped\"><div class=\"sk-label-container\"><div class=\"sk-label sk-toggleable\"><input class=\"sk-toggleable__control sk-hidden--visually\" id=\"0c262f02-37a2-41b9-bf9e-3c360c87cbd0\" type=\"checkbox\" ><label class=\"sk-toggleable__label\" for=\"0c262f02-37a2-41b9-bf9e-3c360c87cbd0\">preprocessor: ColumnTransformer</label><div class=\"sk-toggleable__content\"><pre>ColumnTransformer(transformers=[('num',\n",
       "                                 Pipeline(steps=[('imputer',\n",
       "                                                  SimpleImputer(strategy='median'))]),\n",
       "                                 ['sqft', 'beds', 'parkingSpots', 'baths',\n",
       "                                  'yearBuilt', 'tax']),\n",
       "                                ('unoder',\n",
       "                                 Pipeline(steps=[('imputer',\n",
       "                                                  SimpleImputer(strategy='most_frequent')),\n",
       "                                                 ('onehot',\n",
       "                                                  OneHotEncoder(handle_unknown='ignore'))]),\n",
       "                                 ['homeType', 'heating_system',\n",
       "                                  'cooling_system', 'architecture_style'])])</pre></div></div></div><div class=\"sk-parallel\"><div class=\"sk-parallel-item\"><div class=\"sk-item\"><div class=\"sk-label-container\"><div class=\"sk-label sk-toggleable\"><input class=\"sk-toggleable__control sk-hidden--visually\" id=\"557cae46-3800-44f0-8398-0eee7c063b7b\" type=\"checkbox\" ><label class=\"sk-toggleable__label\" for=\"557cae46-3800-44f0-8398-0eee7c063b7b\">num</label><div class=\"sk-toggleable__content\"><pre>['sqft', 'beds', 'parkingSpots', 'baths', 'yearBuilt', 'tax']</pre></div></div></div><div class=\"sk-serial\"><div class=\"sk-item\"><div class=\"sk-serial\"><div class=\"sk-item\"><div class=\"sk-estimator sk-toggleable\"><input class=\"sk-toggleable__control sk-hidden--visually\" id=\"564afd53-49e1-4bb7-818e-fc5d9d6197e0\" type=\"checkbox\" ><label class=\"sk-toggleable__label\" for=\"564afd53-49e1-4bb7-818e-fc5d9d6197e0\">SimpleImputer</label><div class=\"sk-toggleable__content\"><pre>SimpleImputer(strategy='median')</pre></div></div></div></div></div></div></div></div><div class=\"sk-parallel-item\"><div class=\"sk-item\"><div class=\"sk-label-container\"><div class=\"sk-label sk-toggleable\"><input class=\"sk-toggleable__control sk-hidden--visually\" id=\"8d623f28-1d01-4a3e-bb4c-554c4afcbefb\" type=\"checkbox\" ><label class=\"sk-toggleable__label\" for=\"8d623f28-1d01-4a3e-bb4c-554c4afcbefb\">unoder</label><div class=\"sk-toggleable__content\"><pre>['homeType', 'heating_system', 'cooling_system', 'architecture_style']</pre></div></div></div><div class=\"sk-serial\"><div class=\"sk-item\"><div class=\"sk-serial\"><div class=\"sk-item\"><div class=\"sk-estimator sk-toggleable\"><input class=\"sk-toggleable__control sk-hidden--visually\" id=\"9cf38683-ffac-47b3-a94b-0e26bc18648b\" type=\"checkbox\" ><label class=\"sk-toggleable__label\" for=\"9cf38683-ffac-47b3-a94b-0e26bc18648b\">SimpleImputer</label><div class=\"sk-toggleable__content\"><pre>SimpleImputer(strategy='most_frequent')</pre></div></div></div><div class=\"sk-item\"><div class=\"sk-estimator sk-toggleable\"><input class=\"sk-toggleable__control sk-hidden--visually\" id=\"bb1e42f0-3e1e-4ab2-b7e9-9cf378cf806e\" type=\"checkbox\" ><label class=\"sk-toggleable__label\" for=\"bb1e42f0-3e1e-4ab2-b7e9-9cf378cf806e\">OneHotEncoder</label><div class=\"sk-toggleable__content\"><pre>OneHotEncoder(handle_unknown='ignore')</pre></div></div></div></div></div></div></div></div></div></div></div></div></div></div>"
      ],
      "text/plain": [
       "Pipeline(steps=[('numdropper', NumeDropper()),\n",
       "                ('catedropper', CateDropper(num_top_titles=4)),\n",
       "                ('preprocessor',\n",
       "                 ColumnTransformer(transformers=[('num',\n",
       "                                                  Pipeline(steps=[('imputer',\n",
       "                                                                   SimpleImputer(strategy='median'))]),\n",
       "                                                  ['sqft', 'beds',\n",
       "                                                   'parkingSpots', 'baths',\n",
       "                                                   'yearBuilt', 'tax']),\n",
       "                                                 ('unoder',\n",
       "                                                  Pipeline(steps=[('imputer',\n",
       "                                                                   SimpleImputer(strategy='most_frequent')),\n",
       "                                                                  ('onehot',\n",
       "                                                                   OneHotEncoder(handle_unknown='ignore'))]),\n",
       "                                                  ['homeType', 'heating_system',\n",
       "                                                   'cooling_system',\n",
       "                                                   'architecture_style'])]))])"
      ]
     },
     "execution_count": 22,
     "metadata": {},
     "output_type": "execute_result"
    }
   ],
   "source": [
    "num_cols = [\"sqft\", \"beds\" ,\"parkingSpots\", \"baths\" , \"yearBuilt\", \"tax\"]\n",
    "cate_cols = [\"homeType\", \"heating_system\", \"cooling_system\",  \"architecture_style\" ]\n",
    "\n",
    "\n",
    "numeric_transformer = Pipeline(steps=[\n",
    "    ('imputer', SimpleImputer(missing_values=np.nan, strategy='median'))])\n",
    "\n",
    "\n",
    "categotical_transformer = Pipeline(steps=[\n",
    "    ('imputer', SimpleImputer(missing_values=np.nan, strategy='most_frequent')),\n",
    "    ('onehot', OneHotEncoder(handle_unknown='ignore'))])\n",
    "\n",
    "\n",
    "preprocessor = ColumnTransformer(\n",
    "    transformers=[\n",
    "        ('num', numeric_transformer, num_cols),\n",
    "        ('unoder',categotical_transformer , cate_cols)])\n",
    "\n",
    "\n",
    "preprocess_pipeline = Pipeline(steps=[('numdropper', NumeDropper()),\n",
    "                                      ('catedropper', CateDropper(num_top_titles= 4)),\n",
    "                                      ('preprocessor', preprocessor)\n",
    "                                       ])\n",
    "\n",
    "\n",
    "\n",
    "preprocess_pipeline"
   ]
  },
  {
   "cell_type": "markdown",
   "metadata": {},
   "source": [
    "## Tiền xử lý trên tập train"
   ]
  },
  {
   "cell_type": "code",
   "execution_count": 23,
   "metadata": {},
   "outputs": [],
   "source": [
    "preprocessed_train_X = preprocess_pipeline.fit_transform(train_X)"
   ]
  },
  {
   "cell_type": "markdown",
   "metadata": {},
   "source": [
    "## Tiền xử lý trên tập validation"
   ]
  },
  {
   "cell_type": "code",
   "execution_count": 24,
   "metadata": {},
   "outputs": [],
   "source": [
    "preprocessed_val_X = preprocess_pipeline.transform(val_X)"
   ]
  },
  {
   "cell_type": "markdown",
   "metadata": {},
   "source": [
    "## Mô hình hóa"
   ]
  },
  {
   "cell_type": "code",
   "execution_count": 25,
   "metadata": {},
   "outputs": [
    {
     "data": {
      "text/html": [
       "<style>div.sk-top-container {color: black;background-color: white;}div.sk-toggleable {background-color: white;}label.sk-toggleable__label {cursor: pointer;display: block;width: 100%;margin-bottom: 0;padding: 0.2em 0.3em;box-sizing: border-box;text-align: center;}div.sk-toggleable__content {max-height: 0;max-width: 0;overflow: hidden;text-align: left;background-color: #f0f8ff;}div.sk-toggleable__content pre {margin: 0.2em;color: black;border-radius: 0.25em;background-color: #f0f8ff;}input.sk-toggleable__control:checked~div.sk-toggleable__content {max-height: 200px;max-width: 100%;overflow: auto;}div.sk-estimator input.sk-toggleable__control:checked~label.sk-toggleable__label {background-color: #d4ebff;}div.sk-label input.sk-toggleable__control:checked~label.sk-toggleable__label {background-color: #d4ebff;}input.sk-hidden--visually {border: 0;clip: rect(1px 1px 1px 1px);clip: rect(1px, 1px, 1px, 1px);height: 1px;margin: -1px;overflow: hidden;padding: 0;position: absolute;width: 1px;}div.sk-estimator {font-family: monospace;background-color: #f0f8ff;margin: 0.25em 0.25em;border: 1px dotted black;border-radius: 0.25em;box-sizing: border-box;}div.sk-estimator:hover {background-color: #d4ebff;}div.sk-parallel-item::after {content: \"\";width: 100%;border-bottom: 1px solid gray;flex-grow: 1;}div.sk-label:hover label.sk-toggleable__label {background-color: #d4ebff;}div.sk-serial::before {content: \"\";position: absolute;border-left: 1px solid gray;box-sizing: border-box;top: 2em;bottom: 0;left: 50%;}div.sk-serial {display: flex;flex-direction: column;align-items: center;background-color: white;}div.sk-item {z-index: 1;}div.sk-parallel {display: flex;align-items: stretch;justify-content: center;background-color: white;}div.sk-parallel-item {display: flex;flex-direction: column;position: relative;background-color: white;}div.sk-parallel-item:first-child::after {align-self: flex-end;width: 50%;}div.sk-parallel-item:last-child::after {align-self: flex-start;width: 50%;}div.sk-parallel-item:only-child::after {width: 0;}div.sk-dashed-wrapped {border: 1px dashed gray;margin: 0.2em;box-sizing: border-box;padding-bottom: 0.1em;background-color: white;position: relative;}div.sk-label label {font-family: monospace;font-weight: bold;background-color: white;display: inline-block;line-height: 1.2em;}div.sk-label-container {position: relative;z-index: 2;text-align: center;}div.sk-container {display: inline-block;position: relative;}</style><div class=\"sk-top-container\"><div class=\"sk-container\"><div class=\"sk-item sk-dashed-wrapped\"><div class=\"sk-label-container\"><div class=\"sk-label sk-toggleable\"><input class=\"sk-toggleable__control sk-hidden--visually\" id=\"fb68eda8-2a9c-4fa3-b3c9-dee9e5b86d53\" type=\"checkbox\" ><label class=\"sk-toggleable__label\" for=\"fb68eda8-2a9c-4fa3-b3c9-dee9e5b86d53\">Pipeline</label><div class=\"sk-toggleable__content\"><pre>Pipeline(steps=[('preprocess_pipeline',\n",
       "                 Pipeline(steps=[('numdropper', NumeDropper()),\n",
       "                                 ('catedropper', CateDropper(num_top_titles=4)),\n",
       "                                 ('preprocessor',\n",
       "                                  ColumnTransformer(transformers=[('num',\n",
       "                                                                   Pipeline(steps=[('imputer',\n",
       "                                                                                    SimpleImputer(strategy='median'))]),\n",
       "                                                                   ['sqft',\n",
       "                                                                    'beds',\n",
       "                                                                    'parkingSpots',\n",
       "                                                                    'baths',\n",
       "                                                                    'yearBuilt',\n",
       "                                                                    'tax']),\n",
       "                                                                  ('unoder',\n",
       "                                                                   Pipeline(steps=[('imputer',\n",
       "                                                                                    SimpleImputer(strategy='most_frequent')),\n",
       "                                                                                   ('onehot',\n",
       "                                                                                    OneHotEncoder(handle_unknown='ignore'))]),\n",
       "                                                                   ['homeType',\n",
       "                                                                    'heating_system',\n",
       "                                                                    'cooling_system',\n",
       "                                                                    'architecture_style'])]))])),\n",
       "                ('neural_network',\n",
       "                 MLPRegressor(activation='tanh', alpha=1e-05,\n",
       "                              hidden_layer_sizes=(30,), max_iter=2500,\n",
       "                              random_state=0, solver='sgd'))])</pre></div></div></div><div class=\"sk-serial\"><div class=\"sk-item\"><div class=\"sk-label-container\"><div class=\"sk-label sk-toggleable\"><input class=\"sk-toggleable__control sk-hidden--visually\" id=\"0fb60d75-64c5-4098-b7ef-d24b80d1bb0e\" type=\"checkbox\" ><label class=\"sk-toggleable__label\" for=\"0fb60d75-64c5-4098-b7ef-d24b80d1bb0e\">preprocess_pipeline: Pipeline</label><div class=\"sk-toggleable__content\"><pre>Pipeline(steps=[('numdropper', NumeDropper()),\n",
       "                ('catedropper', CateDropper(num_top_titles=4)),\n",
       "                ('preprocessor',\n",
       "                 ColumnTransformer(transformers=[('num',\n",
       "                                                  Pipeline(steps=[('imputer',\n",
       "                                                                   SimpleImputer(strategy='median'))]),\n",
       "                                                  ['sqft', 'beds',\n",
       "                                                   'parkingSpots', 'baths',\n",
       "                                                   'yearBuilt', 'tax']),\n",
       "                                                 ('unoder',\n",
       "                                                  Pipeline(steps=[('imputer',\n",
       "                                                                   SimpleImputer(strategy='most_frequent')),\n",
       "                                                                  ('onehot',\n",
       "                                                                   OneHotEncoder(handle_unknown='ignore'))]),\n",
       "                                                  ['homeType', 'heating_system',\n",
       "                                                   'cooling_system',\n",
       "                                                   'architecture_style'])]))])</pre></div></div></div><div class=\"sk-serial\"><div class=\"sk-item\"><div class=\"sk-estimator sk-toggleable\"><input class=\"sk-toggleable__control sk-hidden--visually\" id=\"59d56fe8-b006-4ba3-ac08-41d3c9f569a8\" type=\"checkbox\" ><label class=\"sk-toggleable__label\" for=\"59d56fe8-b006-4ba3-ac08-41d3c9f569a8\">NumeDropper</label><div class=\"sk-toggleable__content\"><pre>NumeDropper()</pre></div></div></div><div class=\"sk-item\"><div class=\"sk-estimator sk-toggleable\"><input class=\"sk-toggleable__control sk-hidden--visually\" id=\"a8ea7581-bc22-4e34-8381-57860b65b9db\" type=\"checkbox\" ><label class=\"sk-toggleable__label\" for=\"a8ea7581-bc22-4e34-8381-57860b65b9db\">CateDropper</label><div class=\"sk-toggleable__content\"><pre>CateDropper(num_top_titles=4)</pre></div></div></div><div class=\"sk-item sk-dashed-wrapped\"><div class=\"sk-label-container\"><div class=\"sk-label sk-toggleable\"><input class=\"sk-toggleable__control sk-hidden--visually\" id=\"5f6fc32c-5ecd-4a7e-a871-95b26a0f74b7\" type=\"checkbox\" ><label class=\"sk-toggleable__label\" for=\"5f6fc32c-5ecd-4a7e-a871-95b26a0f74b7\">preprocessor: ColumnTransformer</label><div class=\"sk-toggleable__content\"><pre>ColumnTransformer(transformers=[('num',\n",
       "                                 Pipeline(steps=[('imputer',\n",
       "                                                  SimpleImputer(strategy='median'))]),\n",
       "                                 ['sqft', 'beds', 'parkingSpots', 'baths',\n",
       "                                  'yearBuilt', 'tax']),\n",
       "                                ('unoder',\n",
       "                                 Pipeline(steps=[('imputer',\n",
       "                                                  SimpleImputer(strategy='most_frequent')),\n",
       "                                                 ('onehot',\n",
       "                                                  OneHotEncoder(handle_unknown='ignore'))]),\n",
       "                                 ['homeType', 'heating_system',\n",
       "                                  'cooling_system', 'architecture_style'])])</pre></div></div></div><div class=\"sk-parallel\"><div class=\"sk-parallel-item\"><div class=\"sk-item\"><div class=\"sk-label-container\"><div class=\"sk-label sk-toggleable\"><input class=\"sk-toggleable__control sk-hidden--visually\" id=\"a80edf9d-d84d-4e68-8595-44365e472b62\" type=\"checkbox\" ><label class=\"sk-toggleable__label\" for=\"a80edf9d-d84d-4e68-8595-44365e472b62\">num</label><div class=\"sk-toggleable__content\"><pre>['sqft', 'beds', 'parkingSpots', 'baths', 'yearBuilt', 'tax']</pre></div></div></div><div class=\"sk-serial\"><div class=\"sk-item\"><div class=\"sk-serial\"><div class=\"sk-item\"><div class=\"sk-estimator sk-toggleable\"><input class=\"sk-toggleable__control sk-hidden--visually\" id=\"41fc776d-71ce-4721-8f8b-0a64bb50b6c7\" type=\"checkbox\" ><label class=\"sk-toggleable__label\" for=\"41fc776d-71ce-4721-8f8b-0a64bb50b6c7\">SimpleImputer</label><div class=\"sk-toggleable__content\"><pre>SimpleImputer(strategy='median')</pre></div></div></div></div></div></div></div></div><div class=\"sk-parallel-item\"><div class=\"sk-item\"><div class=\"sk-label-container\"><div class=\"sk-label sk-toggleable\"><input class=\"sk-toggleable__control sk-hidden--visually\" id=\"5e464f0f-f807-4f08-8b34-d2d9e35aa55c\" type=\"checkbox\" ><label class=\"sk-toggleable__label\" for=\"5e464f0f-f807-4f08-8b34-d2d9e35aa55c\">unoder</label><div class=\"sk-toggleable__content\"><pre>['homeType', 'heating_system', 'cooling_system', 'architecture_style']</pre></div></div></div><div class=\"sk-serial\"><div class=\"sk-item\"><div class=\"sk-serial\"><div class=\"sk-item\"><div class=\"sk-estimator sk-toggleable\"><input class=\"sk-toggleable__control sk-hidden--visually\" id=\"cc97b023-cf8b-4fff-aba9-ea8e7caa1eff\" type=\"checkbox\" ><label class=\"sk-toggleable__label\" for=\"cc97b023-cf8b-4fff-aba9-ea8e7caa1eff\">SimpleImputer</label><div class=\"sk-toggleable__content\"><pre>SimpleImputer(strategy='most_frequent')</pre></div></div></div><div class=\"sk-item\"><div class=\"sk-estimator sk-toggleable\"><input class=\"sk-toggleable__control sk-hidden--visually\" id=\"98141434-0409-4472-a621-fdfe907c24bb\" type=\"checkbox\" ><label class=\"sk-toggleable__label\" for=\"98141434-0409-4472-a621-fdfe907c24bb\">OneHotEncoder</label><div class=\"sk-toggleable__content\"><pre>OneHotEncoder(handle_unknown='ignore')</pre></div></div></div></div></div></div></div></div></div></div></div></div><div class=\"sk-item\"><div class=\"sk-estimator sk-toggleable\"><input class=\"sk-toggleable__control sk-hidden--visually\" id=\"cf6434a4-c150-4a5b-8aa6-fdb2eefbdcce\" type=\"checkbox\" ><label class=\"sk-toggleable__label\" for=\"cf6434a4-c150-4a5b-8aa6-fdb2eefbdcce\">MLPRegressor</label><div class=\"sk-toggleable__content\"><pre>MLPRegressor(activation='tanh', alpha=1e-05, hidden_layer_sizes=(30,),\n",
       "             max_iter=2500, random_state=0, solver='sgd')</pre></div></div></div></div></div></div></div>"
      ],
      "text/plain": [
       "Pipeline(steps=[('preprocess_pipeline',\n",
       "                 Pipeline(steps=[('numdropper', NumeDropper()),\n",
       "                                 ('catedropper', CateDropper(num_top_titles=4)),\n",
       "                                 ('preprocessor',\n",
       "                                  ColumnTransformer(transformers=[('num',\n",
       "                                                                   Pipeline(steps=[('imputer',\n",
       "                                                                                    SimpleImputer(strategy='median'))]),\n",
       "                                                                   ['sqft',\n",
       "                                                                    'beds',\n",
       "                                                                    'parkingSpots',\n",
       "                                                                    'baths',\n",
       "                                                                    'yearBuilt',\n",
       "                                                                    'tax']),\n",
       "                                                                  ('unoder',\n",
       "                                                                   Pipeline(steps=[('imputer',\n",
       "                                                                                    SimpleImputer(strategy='most_frequent')),\n",
       "                                                                                   ('onehot',\n",
       "                                                                                    OneHotEncoder(handle_unknown='ignore'))]),\n",
       "                                                                   ['homeType',\n",
       "                                                                    'heating_system',\n",
       "                                                                    'cooling_system',\n",
       "                                                                    'architecture_style'])]))])),\n",
       "                ('neural_network',\n",
       "                 MLPRegressor(activation='tanh', alpha=1e-05,\n",
       "                              hidden_layer_sizes=(30,), max_iter=2500,\n",
       "                              random_state=0, solver='sgd'))])"
      ]
     },
     "execution_count": 25,
     "metadata": {},
     "output_type": "execute_result"
    }
   ],
   "source": [
    "# model = LinearRegression()\n",
    "model = MLPRegressor(solver='sgd', \n",
    "                    activation = 'tanh',\n",
    "                    hidden_layer_sizes=(30,), \n",
    "                    random_state=0,\n",
    "                    max_iter = 2500,\n",
    "                    alpha=1e-5)\n",
    "full_pipeline = Pipeline(steps=[('preprocess_pipeline', preprocess_pipeline),\n",
    "                                 ('neural_network',model)])\n",
    "full_pipeline"
   ]
  },
  {
   "cell_type": "code",
   "execution_count": 39,
   "metadata": {},
   "outputs": [],
   "source": [
    "# Thử nghiệm với các giá trị khác nhau của các siêu tham số\n",
    "# và chọn ra các giá trị tốt nhất\n",
    "train_errs = []\n",
    "val_errs = []\n",
    "alphas = [0.001, 0.01 ,0.1, 1, 10, 100, 1000]\n",
    "num_top_titles_s = [1, 2,3, 4, 5,6, 7,8]\n",
    "# hidden_layers = [10,20,30,40,50,60,70,80,90,100] \n",
    "best_val_err = float('inf')\n",
    "best_alpha = None\n",
    "best_num_top_titles = None\n",
    "for alpha in alphas:\n",
    "    for num_top_titles in num_top_titles_s:\n",
    "        train = full_pipeline.set_params(preprocess_pipeline__catedropper__num_top_titles=num_top_titles, neural_network__alpha=alpha).fit(train_X, train_y)\n",
    "#         train = full_pipeline.set_params(neural_network__hidden_layer_sizes = hidden, neural_network__alpha=alpha).fit(train_X, train_y)\n",
    "        \n",
    "    train_errs.append((train.score(train_X, train_y))*100)\n",
    "        val_errs.append((train.score(val_X, val_y))*100)\n",
    "        \n",
    "        if val_errs[-1] < best_val_err:\n",
    "            best_val_err = val_errs[-1]\n",
    "            best_alpha = alpha\n",
    "            best_num_top_titles= num_top_titles"
   ]
  },
  {
   "cell_type": "markdown",
   "metadata": {},
   "source": [
    "hàm error hk sure lắm. có thể phải chỉnh lại ở đó"
   ]
  },
  {
   "cell_type": "code",
   "execution_count": 40,
   "metadata": {},
   "outputs": [
    {
     "name": "stdout",
     "output_type": "stream",
     "text": [
      "best_val_err:  -5.985627224243695\n",
      "best_alpha:  1000\n",
      "best_top_titles:  4\n"
     ]
    }
   ],
   "source": [
    "print(\"best_val_err: \" , best_val_err)\n",
    "print(\"best_alpha: \", best_alpha)\n",
    "print(\"best_top_titles: \", best_num_top_titles)"
   ]
  },
  {
   "cell_type": "code",
   "execution_count": 41,
   "metadata": {},
   "outputs": [],
   "source": [
    "result_X = train_X.append(val_X)\n",
    "result_Y = train_y.append(val_y)"
   ]
  },
  {
   "cell_type": "code",
   "execution_count": 42,
   "metadata": {},
   "outputs": [],
   "source": [
    "model = full_pipeline.set_params(preprocess_pipeline__catedropper__num_top_titles=best_num_top_titles, neural_network__alpha=best_alpha).fit(result_X, result_Y)"
   ]
  },
  {
   "cell_type": "code",
   "execution_count": 43,
   "metadata": {},
   "outputs": [
    {
     "data": {
      "text/plain": [
       "1.0"
      ]
     },
     "execution_count": 43,
     "metadata": {},
     "output_type": "execute_result"
    }
   ],
   "source": [
    "#tính độ lỗi trên tập test\n",
    "test_preds = model.predict(test_X)\n",
    "(test_preds != test_y).mean()"
   ]
  },
  {
   "cell_type": "code",
   "execution_count": 44,
   "metadata": {},
   "outputs": [
    {
     "data": {
      "text/html": [
       "<div>\n",
       "<style scoped>\n",
       "    .dataframe tbody tr th:only-of-type {\n",
       "        vertical-align: middle;\n",
       "    }\n",
       "\n",
       "    .dataframe tbody tr th {\n",
       "        vertical-align: top;\n",
       "    }\n",
       "\n",
       "    .dataframe thead th {\n",
       "        text-align: right;\n",
       "    }\n",
       "</style>\n",
       "<table border=\"1\" class=\"dataframe\">\n",
       "  <thead>\n",
       "    <tr style=\"text-align: right;\">\n",
       "      <th></th>\n",
       "      <th>Actual</th>\n",
       "      <th>Predicted</th>\n",
       "    </tr>\n",
       "  </thead>\n",
       "  <tbody>\n",
       "    <tr>\n",
       "      <th>176</th>\n",
       "      <td>120000</td>\n",
       "      <td>74834.533865</td>\n",
       "    </tr>\n",
       "    <tr>\n",
       "      <th>961</th>\n",
       "      <td>168000</td>\n",
       "      <td>46110.187355</td>\n",
       "    </tr>\n",
       "    <tr>\n",
       "      <th>500</th>\n",
       "      <td>87000</td>\n",
       "      <td>74834.533865</td>\n",
       "    </tr>\n",
       "    <tr>\n",
       "      <th>892</th>\n",
       "      <td>299900</td>\n",
       "      <td>46110.187355</td>\n",
       "    </tr>\n",
       "    <tr>\n",
       "      <th>1005</th>\n",
       "      <td>264900</td>\n",
       "      <td>46110.187355</td>\n",
       "    </tr>\n",
       "    <tr>\n",
       "      <th>...</th>\n",
       "      <td>...</td>\n",
       "      <td>...</td>\n",
       "    </tr>\n",
       "    <tr>\n",
       "      <th>402</th>\n",
       "      <td>739000</td>\n",
       "      <td>74834.533865</td>\n",
       "    </tr>\n",
       "    <tr>\n",
       "      <th>633</th>\n",
       "      <td>70000</td>\n",
       "      <td>46110.187355</td>\n",
       "    </tr>\n",
       "    <tr>\n",
       "      <th>940</th>\n",
       "      <td>1699900</td>\n",
       "      <td>74834.533865</td>\n",
       "    </tr>\n",
       "    <tr>\n",
       "      <th>353</th>\n",
       "      <td>269000</td>\n",
       "      <td>74834.533865</td>\n",
       "    </tr>\n",
       "    <tr>\n",
       "      <th>107</th>\n",
       "      <td>125000</td>\n",
       "      <td>46110.187355</td>\n",
       "    </tr>\n",
       "  </tbody>\n",
       "</table>\n",
       "<p>233 rows × 2 columns</p>\n",
       "</div>"
      ],
      "text/plain": [
       "       Actual     Predicted\n",
       "176    120000  74834.533865\n",
       "961    168000  46110.187355\n",
       "500     87000  74834.533865\n",
       "892    299900  46110.187355\n",
       "1005   264900  46110.187355\n",
       "...       ...           ...\n",
       "402    739000  74834.533865\n",
       "633     70000  46110.187355\n",
       "940   1699900  74834.533865\n",
       "353    269000  74834.533865\n",
       "107    125000  46110.187355\n",
       "\n",
       "[233 rows x 2 columns]"
      ]
     },
     "execution_count": 44,
     "metadata": {},
     "output_type": "execute_result"
    }
   ],
   "source": [
    "df = pd.DataFrame({'Actual': test_y, 'Predicted': test_preds})\n",
    "df"
   ]
  },
  {
   "cell_type": "code",
   "execution_count": null,
   "metadata": {},
   "outputs": [],
   "source": []
  }
 ],
 "metadata": {
  "kernelspec": {
   "display_name": "Python 3",
   "language": "python",
   "name": "python3"
  },
  "language_info": {
   "codemirror_mode": {
    "name": "ipython",
    "version": 3
   },
   "file_extension": ".py",
   "mimetype": "text/x-python",
   "name": "python",
   "nbconvert_exporter": "python",
   "pygments_lexer": "ipython3",
   "version": "3.8.5"
  },
  "toc": {
   "base_numbering": 1,
   "nav_menu": {},
   "number_sections": false,
   "sideBar": true,
   "skip_h1_title": false,
   "title_cell": "Table of Contents",
   "title_sidebar": "Contents",
   "toc_cell": false,
   "toc_position": {
    "height": "calc(100% - 180px)",
    "left": "10px",
    "top": "150px",
    "width": "242.102px"
   },
   "toc_section_display": true,
   "toc_window_display": true
  }
 },
 "nbformat": 4,
 "nbformat_minor": 5
}
