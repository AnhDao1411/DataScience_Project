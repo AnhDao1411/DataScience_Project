{
 "cells": [
  {
   "cell_type": "code",
   "execution_count": 1,
   "metadata": {},
   "outputs": [],
   "source": [
    "import requests\n",
    "from bs4 import BeautifulSoup\n",
    "import json\n",
    "import pandas\n"
   ]
  },
  {
   "cell_type": "code",
   "execution_count": 2,
   "metadata": {},
   "outputs": [],
   "source": [
    "num_beds, num_bath, type_house, length, width, furniture, papers, price, address = [],[],[],[],[],[],[],[],[]"
   ]
  },
  {
   "cell_type": "code",
   "execution_count": 100,
   "metadata": {},
   "outputs": [],
   "source": [
    "def parse(http):\n",
    "    page = requests.get(http)\n",
    "    soup = BeautifulSoup(page.text, 'html.parser')\n",
    "    house_list = soup.find(class_='list-view')\n",
    "\n",
    "    for film_name in house_list.find_all(class_= 'ListAds___3Mp16'):\n",
    "        temp = film_name.find('a')\n",
    "        URL = 'https://nha.chotot.com/'+ temp.get('href')\n",
    "        new_page = requests.get(URL)\n",
    "        soup = BeautifulSoup(new_page.content, 'html.parser')\n",
    "        \n",
    "        width = soup.find(\"span\", {\"class\": \"adParamValue___25KeI\", \"itemprop\": \"width\"}).text[:-2]\n",
    "        print('width: ', width)\n",
    "        \n",
    "        length = soup.find(\"span\", {\"class\": \"adParamValue___25KeI\", \"itemprop\": \"length\"}).text[:-2]\n",
    "        print('length: ', length)\n",
    "        \n",
    "        bedrooms = soup.find(\"span\", {\"class\": \"adParamValue___25KeI\", \"itemprop\": \"rooms\"}).text\n",
    "        print('bedrooms: ', bedrooms)\n",
    "        \n",
    "        bathrooms = soup.find(\"span\", {\"class\": \"adParamValue___25KeI\", \"itemprop\": \"toilets\"}).text\n",
    "        print('bathrooms: ', bathrooms)\n",
    "\n",
    "        \n",
    "        house_type = soup.find(\"span\", {\"class\": \"adParamValue___25KeI\", \"itemprop\": \"house_type\"}).text\n",
    "        print('house_type: ', house_type)\n",
    "        \n",
    "        furnishing_sell = soup.find(\"span\", {\"class\": \"adParamValue___25KeI\", \"itemprop\": \"furnishing_sell\"}).text\n",
    "        print('furnishing_sell: ', furnishing_sell)\n",
    "        \n",
    "        \n",
    "        property_legal_document = soup.find(\"span\", {\"class\": \"adParamValue___25KeI\", \"itemprop\": \"property_legal_document\"}).text\n",
    "        print('property_legal_document: ', property_legal_document)\n",
    "        \n",
    "        direction = soup.find(\"span\", {\"class\": \"adParamValue___25KeI\", \"itemprop\": \"direction\"}).text\n",
    "        print('direction: ', direction)\n",
    "        \n",
    "        address = soup.find(\"span\", {\"class\": \"fz13\"}).text\n",
    "        print('address: ', address)\n",
    "        \n",
    "        price = soup.find(\"span\", {\"itemprop\": \"price\"}).text.split('-')[0]\n",
    "        print('price: ', price)\n",
    "        \n",
    "        \n",
    "        break\n",
    "    "
   ]
  },
  {
   "cell_type": "code",
   "execution_count": 101,
   "metadata": {},
   "outputs": [
    {
     "name": "stdout",
     "output_type": "stream",
     "text": [
      "width:  11\n",
      "length:  16\n",
      "bedrooms:  nhiều hơn 10 phòng\n",
      "bathrooms:  Nhiều hơn 6 phòng\n",
      "house_type:  Nhà mặt phố\n",
      "furnishing_sell:  Nội thất đầy đủ\n",
      "property_legal_document:  Đã có sổ\n",
      "direction:  Đông Nam\n",
      "address:  Đường Số 59, Phường 14, Quận Gò Vấp, Tp Hồ Chí Minh\n",
      "price:  22 tỷ\n"
     ]
    }
   ],
   "source": [
    "parse('https://nha.chotot.com/tp-ho-chi-minh/mua-ban-nha-dat?page=1')"
   ]
  },
  {
   "cell_type": "code",
   "execution_count": null,
   "metadata": {},
   "outputs": [],
   "source": []
  }
 ],
 "metadata": {
  "kernelspec": {
   "display_name": "Python 3",
   "language": "python",
   "name": "python3"
  },
  "language_info": {
   "codemirror_mode": {
    "name": "ipython",
    "version": 3
   },
   "file_extension": ".py",
   "mimetype": "text/x-python",
   "name": "python",
   "nbconvert_exporter": "python",
   "pygments_lexer": "ipython3",
   "version": "3.8.5"
  }
 },
 "nbformat": 4,
 "nbformat_minor": 4
}
