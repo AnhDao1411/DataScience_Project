{
 "cells": [
  {
   "cell_type": "markdown",
   "id": "43100e3f",
   "metadata": {},
   "source": [
    "## Import"
   ]
  },
  {
   "cell_type": "code",
   "execution_count": 1,
   "id": "c0871963",
   "metadata": {},
   "outputs": [],
   "source": [
    "import matplotlib.pyplot as plt\n",
    "import seaborn as sns # seaborn là thư viện được xây trên matplotlib, \n",
    "                      # giúp việc visualization đỡ khổ hơn\n",
    "import pandas as pd\n",
    "import numpy as np\n",
    "\n",
    "from sklearn.model_selection import train_test_split\n",
    "from sklearn.preprocessing import OneHotEncoder, StandardScaler, MinMaxScaler\n",
    "from sklearn.impute import SimpleImputer\n",
    "from sklearn.base import BaseEstimator, TransformerMixin\n",
    "from sklearn.pipeline import Pipeline, make_pipeline\n",
    "from sklearn.compose import ColumnTransformer, make_column_transformer\n",
    "from sklearn.neural_network import MLPClassifier, MLPRegressor\n",
    "from sklearn import set_config\n",
    "set_config(display='diagram') # Để trực quan hóa pipeline\n",
    "\n",
    "# You can also import other things ...\n",
    "# YOUR CODE HERE (OPTION)\n",
    "import csv\n",
    "from sklearn.linear_model import LinearRegression"
   ]
  },
  {
   "cell_type": "markdown",
   "id": "291ea516",
   "metadata": {},
   "source": [
    "## Thu thập dữ liệu"
   ]
  },
  {
   "cell_type": "code",
   "execution_count": 2,
   "id": "33d020c8",
   "metadata": {
    "scrolled": false
   },
   "outputs": [
    {
     "data": {
      "text/html": [
       "<div>\n",
       "<style scoped>\n",
       "    .dataframe tbody tr th:only-of-type {\n",
       "        vertical-align: middle;\n",
       "    }\n",
       "\n",
       "    .dataframe tbody tr th {\n",
       "        vertical-align: top;\n",
       "    }\n",
       "\n",
       "    .dataframe thead th {\n",
       "        text-align: right;\n",
       "    }\n",
       "</style>\n",
       "<table border=\"1\" class=\"dataframe\">\n",
       "  <thead>\n",
       "    <tr style=\"text-align: right;\">\n",
       "      <th></th>\n",
       "      <th>sqft</th>\n",
       "      <th>homeType</th>\n",
       "      <th>beds</th>\n",
       "      <th>parkingSpots</th>\n",
       "      <th>lotSize</th>\n",
       "      <th>baths</th>\n",
       "      <th>listPrice</th>\n",
       "      <th>heating_system</th>\n",
       "      <th>cooling_system</th>\n",
       "      <th>view_type</th>\n",
       "      <th>architecture_style</th>\n",
       "      <th>yearBuilt</th>\n",
       "      <th>has_pool</th>\n",
       "      <th>city</th>\n",
       "      <th>address</th>\n",
       "      <th>tax</th>\n",
       "    </tr>\n",
       "  </thead>\n",
       "  <tbody>\n",
       "    <tr>\n",
       "      <th>0</th>\n",
       "      <td>1100.0</td>\n",
       "      <td>Single Family Residential</td>\n",
       "      <td>3</td>\n",
       "      <td>NaN</td>\n",
       "      <td>3781.0</td>\n",
       "      <td>2</td>\n",
       "      <td>235000</td>\n",
       "      <td>Forced Air (Natural Gas)</td>\n",
       "      <td>Central A/C</td>\n",
       "      <td>NaN</td>\n",
       "      <td>Other</td>\n",
       "      <td>1955.0</td>\n",
       "      <td>NaN</td>\n",
       "      <td>Chicago</td>\n",
       "      <td>3932 West 84th Street</td>\n",
       "      <td>2642.29</td>\n",
       "    </tr>\n",
       "    <tr>\n",
       "      <th>1</th>\n",
       "      <td>2200.0</td>\n",
       "      <td>Single Family Residential</td>\n",
       "      <td>4</td>\n",
       "      <td>2.0</td>\n",
       "      <td>4234.0</td>\n",
       "      <td>3</td>\n",
       "      <td>260000</td>\n",
       "      <td>Forced Air (Natural Gas)</td>\n",
       "      <td>Central A/C</td>\n",
       "      <td>NaN</td>\n",
       "      <td>Bungalow</td>\n",
       "      <td>1915.0</td>\n",
       "      <td>NaN</td>\n",
       "      <td>Chicago</td>\n",
       "      <td>1119 North Lockwood Avenue</td>\n",
       "      <td>2938.45</td>\n",
       "    </tr>\n",
       "    <tr>\n",
       "      <th>2</th>\n",
       "      <td>750.0</td>\n",
       "      <td>Condo/Coop</td>\n",
       "      <td>2</td>\n",
       "      <td>NaN</td>\n",
       "      <td>NaN</td>\n",
       "      <td>1</td>\n",
       "      <td>275000</td>\n",
       "      <td>Forced Air (Natural Gas)</td>\n",
       "      <td>Central A/C</td>\n",
       "      <td>NaN</td>\n",
       "      <td>Other</td>\n",
       "      <td>1926.0</td>\n",
       "      <td>NaN</td>\n",
       "      <td>Chicago</td>\n",
       "      <td>1100 North Paulina Street #1M</td>\n",
       "      <td>4722.00</td>\n",
       "    </tr>\n",
       "    <tr>\n",
       "      <th>3</th>\n",
       "      <td>1248.0</td>\n",
       "      <td>Single Family Residential</td>\n",
       "      <td>3</td>\n",
       "      <td>2.0</td>\n",
       "      <td>5279.0</td>\n",
       "      <td>2</td>\n",
       "      <td>309900</td>\n",
       "      <td>NaN</td>\n",
       "      <td>Central A/C</td>\n",
       "      <td>NaN</td>\n",
       "      <td>Ranch</td>\n",
       "      <td>1962.0</td>\n",
       "      <td>NaN</td>\n",
       "      <td>Chicago</td>\n",
       "      <td>4909 North Normandy Avenue</td>\n",
       "      <td>560.03</td>\n",
       "    </tr>\n",
       "    <tr>\n",
       "      <th>4</th>\n",
       "      <td>1337.0</td>\n",
       "      <td>Single Family Residential</td>\n",
       "      <td>3</td>\n",
       "      <td>2.0</td>\n",
       "      <td>NaN</td>\n",
       "      <td>2</td>\n",
       "      <td>324900</td>\n",
       "      <td>Forced Air (Natural Gas)</td>\n",
       "      <td>Central A/C</td>\n",
       "      <td>NaN</td>\n",
       "      <td>Georgian</td>\n",
       "      <td>1949.0</td>\n",
       "      <td>NaN</td>\n",
       "      <td>Chicago</td>\n",
       "      <td>10034 South Artesian Avenue</td>\n",
       "      <td>77.40</td>\n",
       "    </tr>\n",
       "    <tr>\n",
       "      <th>...</th>\n",
       "      <td>...</td>\n",
       "      <td>...</td>\n",
       "      <td>...</td>\n",
       "      <td>...</td>\n",
       "      <td>...</td>\n",
       "      <td>...</td>\n",
       "      <td>...</td>\n",
       "      <td>...</td>\n",
       "      <td>...</td>\n",
       "      <td>...</td>\n",
       "      <td>...</td>\n",
       "      <td>...</td>\n",
       "      <td>...</td>\n",
       "      <td>...</td>\n",
       "      <td>...</td>\n",
       "      <td>...</td>\n",
       "    </tr>\n",
       "    <tr>\n",
       "      <th>1621</th>\n",
       "      <td>1939.0</td>\n",
       "      <td>Condo/Coop</td>\n",
       "      <td>2</td>\n",
       "      <td>1.0</td>\n",
       "      <td>NaN</td>\n",
       "      <td>3</td>\n",
       "      <td>525000</td>\n",
       "      <td>Forced Air (Natural Gas)</td>\n",
       "      <td>Central A/C</td>\n",
       "      <td>NaN</td>\n",
       "      <td>Other</td>\n",
       "      <td>2001.0</td>\n",
       "      <td>NaN</td>\n",
       "      <td>Chicago</td>\n",
       "      <td>309 North Union Avenue #C</td>\n",
       "      <td>9314.65</td>\n",
       "    </tr>\n",
       "    <tr>\n",
       "      <th>1622</th>\n",
       "      <td>1400.0</td>\n",
       "      <td>Condo/Coop</td>\n",
       "      <td>2</td>\n",
       "      <td>1.0</td>\n",
       "      <td>NaN</td>\n",
       "      <td>2</td>\n",
       "      <td>425000</td>\n",
       "      <td>Forced Air (Natural Gas)</td>\n",
       "      <td>Central A/C</td>\n",
       "      <td>NaN</td>\n",
       "      <td>Other</td>\n",
       "      <td>1998.0</td>\n",
       "      <td>NaN</td>\n",
       "      <td>Chicago</td>\n",
       "      <td>2251 West Saint Paul Avenue #2F</td>\n",
       "      <td>6445.46</td>\n",
       "    </tr>\n",
       "    <tr>\n",
       "      <th>1623</th>\n",
       "      <td>NaN</td>\n",
       "      <td>Condo/Coop</td>\n",
       "      <td>3</td>\n",
       "      <td>1.0</td>\n",
       "      <td>NaN</td>\n",
       "      <td>2</td>\n",
       "      <td>525000</td>\n",
       "      <td>Forced Air (Natural Gas)</td>\n",
       "      <td>Central A/C</td>\n",
       "      <td>NaN</td>\n",
       "      <td>Other</td>\n",
       "      <td>NaN</td>\n",
       "      <td>NaN</td>\n",
       "      <td>Chicago</td>\n",
       "      <td>1423 West FLETCHER Street #CH</td>\n",
       "      <td>11275.42</td>\n",
       "    </tr>\n",
       "    <tr>\n",
       "      <th>1624</th>\n",
       "      <td>NaN</td>\n",
       "      <td>Condo/Coop</td>\n",
       "      <td>2</td>\n",
       "      <td>1.0</td>\n",
       "      <td>16207.0</td>\n",
       "      <td>2</td>\n",
       "      <td>499000</td>\n",
       "      <td>Forced Air (Natural Gas)</td>\n",
       "      <td>Central A/C</td>\n",
       "      <td>NaN</td>\n",
       "      <td>Other</td>\n",
       "      <td>2000.0</td>\n",
       "      <td>True</td>\n",
       "      <td>Chicago</td>\n",
       "      <td>400 North CLINTON Street #404</td>\n",
       "      <td>9629.73</td>\n",
       "    </tr>\n",
       "    <tr>\n",
       "      <th>1625</th>\n",
       "      <td>2550.0</td>\n",
       "      <td>Condo/Coop</td>\n",
       "      <td>3</td>\n",
       "      <td>1.0</td>\n",
       "      <td>NaN</td>\n",
       "      <td>3</td>\n",
       "      <td>699000</td>\n",
       "      <td>Forced Air (Natural Gas)</td>\n",
       "      <td>Central A/C</td>\n",
       "      <td>NaN</td>\n",
       "      <td>Other</td>\n",
       "      <td>2007.0</td>\n",
       "      <td>NaN</td>\n",
       "      <td>Chicago</td>\n",
       "      <td>857 North Hermitage Avenue #1</td>\n",
       "      <td>11597.00</td>\n",
       "    </tr>\n",
       "  </tbody>\n",
       "</table>\n",
       "<p>1626 rows × 16 columns</p>\n",
       "</div>"
      ],
      "text/plain": [
       "        sqft                   homeType  beds  parkingSpots  lotSize  baths  \\\n",
       "0     1100.0  Single Family Residential     3           NaN   3781.0      2   \n",
       "1     2200.0  Single Family Residential     4           2.0   4234.0      3   \n",
       "2      750.0                 Condo/Coop     2           NaN      NaN      1   \n",
       "3     1248.0  Single Family Residential     3           2.0   5279.0      2   \n",
       "4     1337.0  Single Family Residential     3           2.0      NaN      2   \n",
       "...      ...                        ...   ...           ...      ...    ...   \n",
       "1621  1939.0                 Condo/Coop     2           1.0      NaN      3   \n",
       "1622  1400.0                 Condo/Coop     2           1.0      NaN      2   \n",
       "1623     NaN                 Condo/Coop     3           1.0      NaN      2   \n",
       "1624     NaN                 Condo/Coop     2           1.0  16207.0      2   \n",
       "1625  2550.0                 Condo/Coop     3           1.0      NaN      3   \n",
       "\n",
       "      listPrice            heating_system cooling_system  view_type  \\\n",
       "0        235000  Forced Air (Natural Gas)    Central A/C        NaN   \n",
       "1        260000  Forced Air (Natural Gas)    Central A/C        NaN   \n",
       "2        275000  Forced Air (Natural Gas)    Central A/C        NaN   \n",
       "3        309900                       NaN    Central A/C        NaN   \n",
       "4        324900  Forced Air (Natural Gas)    Central A/C        NaN   \n",
       "...         ...                       ...            ...        ...   \n",
       "1621     525000  Forced Air (Natural Gas)    Central A/C        NaN   \n",
       "1622     425000  Forced Air (Natural Gas)    Central A/C        NaN   \n",
       "1623     525000  Forced Air (Natural Gas)    Central A/C        NaN   \n",
       "1624     499000  Forced Air (Natural Gas)    Central A/C        NaN   \n",
       "1625     699000  Forced Air (Natural Gas)    Central A/C        NaN   \n",
       "\n",
       "     architecture_style  yearBuilt has_pool     city  \\\n",
       "0                 Other     1955.0      NaN  Chicago   \n",
       "1              Bungalow     1915.0      NaN  Chicago   \n",
       "2                 Other     1926.0      NaN  Chicago   \n",
       "3                 Ranch     1962.0      NaN  Chicago   \n",
       "4              Georgian     1949.0      NaN  Chicago   \n",
       "...                 ...        ...      ...      ...   \n",
       "1621              Other     2001.0      NaN  Chicago   \n",
       "1622              Other     1998.0      NaN  Chicago   \n",
       "1623              Other        NaN      NaN  Chicago   \n",
       "1624              Other     2000.0     True  Chicago   \n",
       "1625              Other     2007.0      NaN  Chicago   \n",
       "\n",
       "                              address       tax  \n",
       "0               3932 West 84th Street   2642.29  \n",
       "1          1119 North Lockwood Avenue   2938.45  \n",
       "2       1100 North Paulina Street #1M   4722.00  \n",
       "3          4909 North Normandy Avenue    560.03  \n",
       "4         10034 South Artesian Avenue     77.40  \n",
       "...                               ...       ...  \n",
       "1621        309 North Union Avenue #C   9314.65  \n",
       "1622  2251 West Saint Paul Avenue #2F   6445.46  \n",
       "1623    1423 West FLETCHER Street #CH  11275.42  \n",
       "1624    400 North CLINTON Street #404   9629.73  \n",
       "1625    857 North Hermitage Avenue #1  11597.00  \n",
       "\n",
       "[1626 rows x 16 columns]"
      ]
     },
     "execution_count": 2,
     "metadata": {},
     "output_type": "execute_result"
    }
   ],
   "source": [
    "# Đọc dữ liệu từ \"data.csv\"\n",
    "df = pd.read_csv('data_better_distribute.csv')\n",
    "df"
   ]
  },
  {
   "cell_type": "markdown",
   "id": "4d718480",
   "metadata": {},
   "source": [
    "---"
   ]
  },
  {
   "cell_type": "markdown",
   "id": "f2db0322",
   "metadata": {},
   "source": [
    "## Khám phá dữ liệu (để làm rõ câu hỏi)"
   ]
  },
  {
   "cell_type": "markdown",
   "id": "a885b8e8",
   "metadata": {},
   "source": [
    "### Số dòng và cột"
   ]
  },
  {
   "cell_type": "code",
   "execution_count": 3,
   "id": "b93669b4",
   "metadata": {},
   "outputs": [
    {
     "data": {
      "text/plain": [
       "(1626, 16)"
      ]
     },
     "execution_count": 3,
     "metadata": {},
     "output_type": "execute_result"
    }
   ],
   "source": [
    "df.shape"
   ]
  },
  {
   "cell_type": "markdown",
   "id": "7d99ef6f",
   "metadata": {},
   "source": [
    "### Ý nghĩa của từng dòng. Có dòng nào không phù hợp không?"
   ]
  },
  {
   "cell_type": "markdown",
   "id": "1aa01416",
   "metadata": {},
   "source": [
    "Mỗi dòng thể hiện 17 thông tin khác nhau của một căn nhà được giao bán. Do dữ liệu được lấy trong trang mô tả chi tiết của từng căn nhà nên sẽ không có dòng nào đặc biệt.\n",
    "\n",
    "Tuy nhiên người đăng có thể giao bán 1 căn nhà nhiều lần, các dòng có thể bị lặp lại."
   ]
  },
  {
   "cell_type": "markdown",
   "id": "903111bb",
   "metadata": {},
   "source": [
    "### Kiểm tra số dòng bị lặp lại"
   ]
  },
  {
   "cell_type": "code",
   "execution_count": 4,
   "id": "b4d281c6",
   "metadata": {},
   "outputs": [
    {
     "data": {
      "text/plain": [
       "48"
      ]
     },
     "execution_count": 4,
     "metadata": {},
     "output_type": "execute_result"
    }
   ],
   "source": [
    "df.duplicated().sum()"
   ]
  },
  {
   "cell_type": "markdown",
   "id": "50c9665e",
   "metadata": {},
   "source": [
    "$\\to$ Sẽ được đưa vào Pipeline tiền xử lí chung trong tệp huấn luyện"
   ]
  },
  {
   "cell_type": "markdown",
   "id": "257fa6c2",
   "metadata": {},
   "source": [
    "### Ý nghĩa của mỗi cột"
   ]
  },
  {
   "cell_type": "code",
   "execution_count": 5,
   "id": "fe9bce8d",
   "metadata": {},
   "outputs": [
    {
     "data": {
      "text/html": [
       "<div>\n",
       "<style scoped>\n",
       "    .dataframe tbody tr th:only-of-type {\n",
       "        vertical-align: middle;\n",
       "    }\n",
       "\n",
       "    .dataframe tbody tr th {\n",
       "        vertical-align: top;\n",
       "    }\n",
       "\n",
       "    .dataframe thead th {\n",
       "        text-align: right;\n",
       "    }\n",
       "</style>\n",
       "<table border=\"1\" class=\"dataframe\">\n",
       "  <thead>\n",
       "    <tr style=\"text-align: right;\">\n",
       "      <th></th>\n",
       "      <th>sqft</th>\n",
       "      <th>homeType</th>\n",
       "      <th>beds</th>\n",
       "      <th>parkingSpots</th>\n",
       "      <th>lotSize</th>\n",
       "      <th>baths</th>\n",
       "      <th>listPrice</th>\n",
       "      <th>heating_system</th>\n",
       "      <th>cooling_system</th>\n",
       "      <th>view_type</th>\n",
       "      <th>architecture_style</th>\n",
       "      <th>yearBuilt</th>\n",
       "      <th>has_pool</th>\n",
       "      <th>city</th>\n",
       "      <th>address</th>\n",
       "      <th>tax</th>\n",
       "    </tr>\n",
       "  </thead>\n",
       "  <tbody>\n",
       "    <tr>\n",
       "      <th>0</th>\n",
       "      <td>1100.0</td>\n",
       "      <td>Single Family Residential</td>\n",
       "      <td>3</td>\n",
       "      <td>NaN</td>\n",
       "      <td>3781.0</td>\n",
       "      <td>2</td>\n",
       "      <td>235000</td>\n",
       "      <td>Forced Air (Natural Gas)</td>\n",
       "      <td>Central A/C</td>\n",
       "      <td>NaN</td>\n",
       "      <td>Other</td>\n",
       "      <td>1955.0</td>\n",
       "      <td>NaN</td>\n",
       "      <td>Chicago</td>\n",
       "      <td>3932 West 84th Street</td>\n",
       "      <td>2642.29</td>\n",
       "    </tr>\n",
       "  </tbody>\n",
       "</table>\n",
       "</div>"
      ],
      "text/plain": [
       "     sqft                   homeType  beds  parkingSpots  lotSize  baths  \\\n",
       "0  1100.0  Single Family Residential     3           NaN   3781.0      2   \n",
       "\n",
       "   listPrice            heating_system cooling_system  view_type  \\\n",
       "0     235000  Forced Air (Natural Gas)    Central A/C        NaN   \n",
       "\n",
       "  architecture_style  yearBuilt has_pool     city                address  \\\n",
       "0              Other     1955.0      NaN  Chicago  3932 West 84th Street   \n",
       "\n",
       "       tax  \n",
       "0  2642.29  "
      ]
     },
     "execution_count": 5,
     "metadata": {},
     "output_type": "execute_result"
    }
   ],
   "source": [
    "df.head(1)"
   ]
  },
  {
   "cell_type": "markdown",
   "id": "3650de47",
   "metadata": {},
   "source": [
    "**Ý nghĩa của từng cột** \n",
    "- `beds` : Số phòng ngủ\n",
    "- `baths` : Số phòng vệ sinh\n",
    "- `house_type` : Loại hình nhà ở\n",
    "- `sqlt` : Diện tích căn nhà\n",
    "- `parkingSpots`: chỗ đỗ xe\n",
    "- `address` : Địa chỉ của căn nhà\n",
    "- `listPrice `: Giá tiền hiện giao bán\n",
    "- `lotSize`: diện tích sử dụng\n",
    "- `heating system`: hệ thống giữ nhiệt\n",
    "- `cooling system`: hệ thống làm lạnh\n",
    "- `view_type`: view của căn nhà\n",
    "- `architecture_style`: phong cách thiết kế\n",
    "- `yearBuilt`: năm xây dựng\n",
    "- `has_pool`: số lượng hồ bơi\n",
    "- `city`: thành phố\n",
    "- `tax`: tiền thuế"
   ]
  },
  {
   "cell_type": "markdown",
   "id": "12e55fd7",
   "metadata": {},
   "source": [
    "### Làm rõ câu hỏi"
   ]
  },
  {
   "cell_type": "markdown",
   "id": "16246896",
   "metadata": {},
   "source": [
    "**Câu hỏi đưa ra:** Với một căn nhà mơ ước, người khách hàng cần bao nhiêu tiền để có thể mua được ở bang Chicago của Mỹ ? \n",
    "\n",
    "Tạm thời các cột Input sẽ là thông tin liên quan tới căn nhà được giao bán, tổng cộng có 16 cột. Cột Output sẽ là giá bán của ngôi nhà. Nhóm sẽ sử dụng mô hình hồi quy để dự đoán giá nhà (cột Output) dựa trên thông tin của căn nhà (cột Input).\n",
    "\n",
    "Các cột Input có thể thay đổi ở các bước tiền xử lý sau.\n",
    "\n",
    "**Lợi ích khi trả lời**: \n",
    "\n",
    "Có thể đưa ra một mức giá sấp xỉ để những người trẻ có thể dựa vào đó để nổ lực phấn đấu mua được căn nhà mình muốn."
   ]
  },
  {
   "cell_type": "markdown",
   "id": "7d7e5b3d",
   "metadata": {},
   "source": [
    "## Khám phá dữ liệu (để tách các tập)\n"
   ]
  },
  {
   "cell_type": "markdown",
   "id": "ecef10cb",
   "metadata": {},
   "source": [
    "Để biết cách tách các tập thì ta cần khám phá thêm cột output một ít:\n",
    "- Cột này hiện có kiểu dữ liệu là gì? Trong bài toán hồi qui thì cột output bắt buộc phải có dạng số; nếu hiện chưa có dạng số (ví dụ, số nhưng được lưu dưới dạng chuỗi) thì ta cần chuyển sang dạng số rồi mới tách các tập.\n",
    "- Cột này có giá trị thiếu không? Nếu có giá trị thiếu thì ta sẽ bỏ các dòng mà output có giá trị thiếu rồi mới tách các tập \n",
    "- Cột numerical output xử lí như nào?"
   ]
  },
  {
   "cell_type": "code",
   "execution_count": 6,
   "id": "fe25b674",
   "metadata": {},
   "outputs": [
    {
     "data": {
      "text/plain": [
       "dtype('int64')"
      ]
     },
     "execution_count": 6,
     "metadata": {},
     "output_type": "execute_result"
    }
   ],
   "source": [
    "# Kiểu dữ liệu cột output\n",
    "df['listPrice'].dtype"
   ]
  },
  {
   "cell_type": "code",
   "execution_count": 7,
   "id": "ca8ee724",
   "metadata": {},
   "outputs": [
    {
     "data": {
      "text/plain": [
       "0"
      ]
     },
     "execution_count": 7,
     "metadata": {},
     "output_type": "execute_result"
    }
   ],
   "source": [
    "# Có giá trị nào thiếu không?\n",
    "df['listPrice'].isna().sum()"
   ]
  },
  {
   "cell_type": "code",
   "execution_count": 8,
   "id": "338a3f9d",
   "metadata": {},
   "outputs": [
    {
     "data": {
      "image/png": "[encoded data removed]",
      "text/plain": [
       "<Figure size 576x360 with 1 Axes>"
      ]
     },
     "metadata": {},
     "output_type": "display_data"
    }
   ],
   "source": [
    "# Biểu đồ histogram của cột output\n",
    "sns.set(style='whitegrid', palette=\"deep\", font_scale=1.1, rc={\"figure.figsize\": [8, 5]})\n",
    "sns.histplot(data =  df['listPrice'], bins=20).set(xlabel='Sale Price', ylabel='Count');"
   ]
  },
  {
   "cell_type": "markdown",
   "id": "2f3b00c1",
   "metadata": {},
   "source": [
    "---"
   ]
  },
  {
   "cell_type": "markdown",
   "id": "88e62117",
   "metadata": {},
   "source": [
    "### Tiền xử lý tách tập dữ liệu"
   ]
  },
  {
   "cell_type": "code",
   "execution_count": 9,
   "id": "3739849c",
   "metadata": {},
   "outputs": [],
   "source": [
    "# Tách X và y\n",
    "y = df[\"listPrice\"] \n",
    "X = df.drop(\"listPrice\", axis=1)"
   ]
  },
  {
   "cell_type": "code",
   "execution_count": 10,
   "id": "547fed54",
   "metadata": {},
   "outputs": [],
   "source": [
    "# Tách tập huấn luyện và tập validation và tập test theo tỉ lệ 60:20:20\n",
    "train_X, test_X, train_y, test_y = train_test_split(X, y, \n",
    "                                               test_size=0.2,\n",
    "                                               )"
   ]
  },
  {
   "cell_type": "code",
   "execution_count": 11,
   "id": "f8e94420",
   "metadata": {},
   "outputs": [],
   "source": [
    "train_X, val_X, train_y, val_y = train_test_split(train_X, train_y, \n",
    "                                               test_size=0.2,\n",
    "                                                )"
   ]
  },
  {
   "cell_type": "code",
   "execution_count": 12,
   "id": "c09ba771",
   "metadata": {},
   "outputs": [
    {
     "name": "stdout",
     "output_type": "stream",
     "text": [
      "train_X.shape:  (1040, 15)\n",
      "train_y.shape:  (1040,)\n",
      "val_X.shape:  (260, 15)\n",
      "val_y.shape:  (260,)\n",
      "test_X.shape:  (326, 15)\n",
      "test_y.shape:  (326,)\n"
     ]
    }
   ],
   "source": [
    "print(\"train_X.shape: \", train_X.shape)\n",
    "print(\"train_y.shape: \", train_y.shape)\n",
    "\n",
    "print(\"val_X.shape: \", val_X.shape)\n",
    "print(\"val_y.shape: \", val_y.shape)\n",
    "\n",
    "print(\"test_X.shape: \", test_X.shape)\n",
    "print(\"test_y.shape: \", test_y.shape)"
   ]
  },
  {
   "cell_type": "markdown",
   "id": "065d77ee",
   "metadata": {},
   "source": [
    "---"
   ]
  },
  {
   "cell_type": "markdown",
   "id": "3eb6b2f5",
   "metadata": {},
   "source": [
    "## Khám phá dữ liệu (trên tập train)"
   ]
  },
  {
   "cell_type": "markdown",
   "id": "1c1138f6",
   "metadata": {},
   "source": [
    "### Kiểu dữ liệu từng cột. Có cột nào chưa phù hợp?"
   ]
  },
  {
   "cell_type": "code",
   "execution_count": 13,
   "id": "1a561bfd",
   "metadata": {},
   "outputs": [
    {
     "data": {
      "text/plain": [
       "sqft                  float64\n",
       "homeType               object\n",
       "beds                    int64\n",
       "parkingSpots          float64\n",
       "lotSize               float64\n",
       "baths                   int64\n",
       "heating_system         object\n",
       "cooling_system         object\n",
       "view_type             float64\n",
       "architecture_style     object\n",
       "yearBuilt             float64\n",
       "has_pool               object\n",
       "city                   object\n",
       "address                object\n",
       "tax                   float64\n",
       "dtype: object"
      ]
     },
     "execution_count": 13,
     "metadata": {},
     "output_type": "execute_result"
    }
   ],
   "source": [
    "train_X.dtypes"
   ]
  },
  {
   "cell_type": "markdown",
   "id": "2f7c714d",
   "metadata": {},
   "source": [
    "### Các cột dạng numerical phân bố như thế nào?"
   ]
  },
  {
   "cell_type": "code",
   "execution_count": 14,
   "id": "a2c816f9",
   "metadata": {},
   "outputs": [
    {
     "data": {
      "text/plain": [
       "sqft            float64\n",
       "beds              int64\n",
       "parkingSpots    float64\n",
       "lotSize         float64\n",
       "baths             int64\n",
       "view_type       float64\n",
       "yearBuilt       float64\n",
       "tax             float64\n",
       "dtype: object"
      ]
     },
     "execution_count": 14,
     "metadata": {},
     "output_type": "execute_result"
    }
   ],
   "source": [
    "train_X.dtypes[train_X.dtypes != object]"
   ]
  },
  {
   "cell_type": "code",
   "execution_count": 15,
   "id": "d80b58d7",
   "metadata": {},
   "outputs": [
    {
     "data": {
      "text/html": [
       "<div>\n",
       "<style scoped>\n",
       "    .dataframe tbody tr th:only-of-type {\n",
       "        vertical-align: middle;\n",
       "    }\n",
       "\n",
       "    .dataframe tbody tr th {\n",
       "        vertical-align: top;\n",
       "    }\n",
       "\n",
       "    .dataframe thead th {\n",
       "        text-align: right;\n",
       "    }\n",
       "</style>\n",
       "<table border=\"1\" class=\"dataframe\">\n",
       "  <thead>\n",
       "    <tr style=\"text-align: right;\">\n",
       "      <th></th>\n",
       "      <th>sqft</th>\n",
       "      <th>beds</th>\n",
       "      <th>parkingSpots</th>\n",
       "      <th>lotSize</th>\n",
       "      <th>baths</th>\n",
       "      <th>view_type</th>\n",
       "      <th>yearBuilt</th>\n",
       "      <th>tax</th>\n",
       "    </tr>\n",
       "  </thead>\n",
       "  <tbody>\n",
       "    <tr>\n",
       "      <th>missing_percentage</th>\n",
       "      <td>22.5</td>\n",
       "      <td>0.0</td>\n",
       "      <td>15.2</td>\n",
       "      <td>52.1</td>\n",
       "      <td>0.0</td>\n",
       "      <td>100.0</td>\n",
       "      <td>10.9</td>\n",
       "      <td>4.6</td>\n",
       "    </tr>\n",
       "    <tr>\n",
       "      <th>min</th>\n",
       "      <td>600.0</td>\n",
       "      <td>0.0</td>\n",
       "      <td>0.0</td>\n",
       "      <td>0.0</td>\n",
       "      <td>1.0</td>\n",
       "      <td>NaN</td>\n",
       "      <td>1868.0</td>\n",
       "      <td>77.4</td>\n",
       "    </tr>\n",
       "    <tr>\n",
       "      <th>median</th>\n",
       "      <td>1455.0</td>\n",
       "      <td>3.0</td>\n",
       "      <td>2.0</td>\n",
       "      <td>3781.0</td>\n",
       "      <td>2.0</td>\n",
       "      <td>NaN</td>\n",
       "      <td>1958.0</td>\n",
       "      <td>4391.4</td>\n",
       "    </tr>\n",
       "    <tr>\n",
       "      <th>max</th>\n",
       "      <td>6315.0</td>\n",
       "      <td>4.0</td>\n",
       "      <td>100.0</td>\n",
       "      <td>5225894.0</td>\n",
       "      <td>5.0</td>\n",
       "      <td>NaN</td>\n",
       "      <td>2022.0</td>\n",
       "      <td>730774.0</td>\n",
       "    </tr>\n",
       "  </tbody>\n",
       "</table>\n",
       "</div>"
      ],
      "text/plain": [
       "                      sqft  beds  parkingSpots    lotSize  baths  view_type  \\\n",
       "missing_percentage    22.5   0.0          15.2       52.1    0.0      100.0   \n",
       "min                  600.0   0.0           0.0        0.0    1.0        NaN   \n",
       "median              1455.0   3.0           2.0     3781.0    2.0        NaN   \n",
       "max                 6315.0   4.0         100.0  5225894.0    5.0        NaN   \n",
       "\n",
       "                    yearBuilt       tax  \n",
       "missing_percentage       10.9       4.6  \n",
       "min                    1868.0      77.4  \n",
       "median                 1958.0    4391.4  \n",
       "max                    2022.0  730774.0  "
      ]
     },
     "execution_count": 15,
     "metadata": {},
     "output_type": "execute_result"
    }
   ],
   "source": [
    "num_cols = ['sqft',\"beds\",\"parkingSpots\",\"lotSize\",\"baths\",\"view_type\",\"yearBuilt\",\"tax\"]\n",
    "num_df = train_X[num_cols]\n",
    "def missing_percentage(c):\n",
    "    return (c.isna().mean() * 100).round(1)\n",
    "def median(c):\n",
    "    return c.quantile(0.5).round(1)\n",
    "num_df.agg([missing_percentage, 'min', median, 'max'])"
   ]
  },
  {
   "cell_type": "code",
   "execution_count": 16,
   "id": "6532b134",
   "metadata": {},
   "outputs": [
    {
     "data": {
      "image/png": "[encoded data removed]",
      "text/plain": [
       "<Figure size 1080x432 with 8 Axes>"
      ]
     },
     "metadata": {},
     "output_type": "display_data"
    }
   ],
   "source": [
    "num_df[num_cols].hist(bins=15, figsize=(15, 6), layout=(2, 4),grid=False);"
   ]
  },
  {
   "cell_type": "markdown",
   "id": "0e496341",
   "metadata": {},
   "source": [
    "### Các cột dạng categorical phân bố như thế nào?"
   ]
  },
  {
   "cell_type": "code",
   "execution_count": 17,
   "id": "ca0572cc",
   "metadata": {},
   "outputs": [
    {
     "data": {
      "text/plain": [
       "homeType              object\n",
       "heating_system        object\n",
       "cooling_system        object\n",
       "architecture_style    object\n",
       "has_pool              object\n",
       "city                  object\n",
       "address               object\n",
       "dtype: object"
      ]
     },
     "execution_count": 17,
     "metadata": {},
     "output_type": "execute_result"
    }
   ],
   "source": [
    "train_X.dtypes[train_X.dtypes == object]"
   ]
  },
  {
   "cell_type": "code",
   "execution_count": 18,
   "id": "c2f1d535",
   "metadata": {
    "scrolled": true
   },
   "outputs": [
    {
     "data": {
      "text/html": [
       "<div>\n",
       "<style scoped>\n",
       "    .dataframe tbody tr th:only-of-type {\n",
       "        vertical-align: middle;\n",
       "    }\n",
       "\n",
       "    .dataframe tbody tr th {\n",
       "        vertical-align: top;\n",
       "    }\n",
       "\n",
       "    .dataframe thead th {\n",
       "        text-align: right;\n",
       "    }\n",
       "</style>\n",
       "<table border=\"1\" class=\"dataframe\">\n",
       "  <thead>\n",
       "    <tr style=\"text-align: right;\">\n",
       "      <th></th>\n",
       "      <th>address</th>\n",
       "      <th>heating_system</th>\n",
       "      <th>city</th>\n",
       "      <th>cooling_system</th>\n",
       "      <th>architecture_style</th>\n",
       "      <th>homeType</th>\n",
       "      <th>has_pool</th>\n",
       "    </tr>\n",
       "  </thead>\n",
       "  <tbody>\n",
       "    <tr>\n",
       "      <th>missing_percentage</th>\n",
       "      <td>0.0</td>\n",
       "      <td>27.1</td>\n",
       "      <td>0.0</td>\n",
       "      <td>1.1</td>\n",
       "      <td>0.0</td>\n",
       "      <td>0.0</td>\n",
       "      <td>98.0</td>\n",
       "    </tr>\n",
       "    <tr>\n",
       "      <th>num_values</th>\n",
       "      <td>1016</td>\n",
       "      <td>23</td>\n",
       "      <td>1</td>\n",
       "      <td>5</td>\n",
       "      <td>16</td>\n",
       "      <td>4</td>\n",
       "      <td>1</td>\n",
       "    </tr>\n",
       "    <tr>\n",
       "      <th>value_percentages</th>\n",
       "      <td>{'1341 West Ancona Street': 0.2, '1025 West Buena Avenue #4W': 0.2, '2437 North Albany Avenue #2': 0.2, '10826 South Longwood Drive': 0.2, '3817 West 55th Place': 0.2, '5625 North Kenmore Avenue #...</td>\n",
       "      <td>{'Forced Air (Natural Gas)': 61.2, 'Fireplace (Natural Gas)': 11.3, 'Forced Air': 7.3, 'Hot Water': 3.2, 'Radiator': 3.0, 'Hot Water (Natural Gas)': 2.0, 'Baseboard': 2.0, 'Forced Air (Electric)':...</td>\n",
       "      <td>{'Chicago': 100.0}</td>\n",
       "      <td>{'Central A/C': 80.4, 'Window Unit(s) A/C': 9.7, 'None': 9.3, 'Zoned A/C': 0.5, 'Partial': 0.1}</td>\n",
       "      <td>{'Other': 66.4, 'High Rise': 8.6, 'Bungalow': 6.4, 'Ranch': 6.1, 'Loft': 2.9, 'Cape Cod': 2.3, 'Georgian': 1.7, 'Split Level': 1.4, 'Contemporary': 1.2, 'New Traditional': 0.7, 'Tudor': 0.5, 'Colo...</td>\n",
       "      <td>{'Single Family Residential': 50.0, 'Condo/Coop': 49.2, 'Townhouse': 0.4, 'Other': 0.4}</td>\n",
       "      <td>{True: 100.0}</td>\n",
       "    </tr>\n",
       "  </tbody>\n",
       "</table>\n",
       "</div>"
      ],
      "text/plain": [
       "                                                                                                                                                                                                                    address  \\\n",
       "missing_percentage                                                                                                                                                                                                      0.0   \n",
       "num_values                                                                                                                                                                                                             1016   \n",
       "value_percentages   {'1341 West Ancona Street': 0.2, '1025 West Buena Avenue #4W': 0.2, '2437 North Albany Avenue #2': 0.2, '10826 South Longwood Drive': 0.2, '3817 West 55th Place': 0.2, '5625 North Kenmore Avenue #...   \n",
       "\n",
       "                                                                                                                                                                                                             heating_system  \\\n",
       "missing_percentage                                                                                                                                                                                                     27.1   \n",
       "num_values                                                                                                                                                                                                               23   \n",
       "value_percentages   {'Forced Air (Natural Gas)': 61.2, 'Fireplace (Natural Gas)': 11.3, 'Forced Air': 7.3, 'Hot Water': 3.2, 'Radiator': 3.0, 'Hot Water (Natural Gas)': 2.0, 'Baseboard': 2.0, 'Forced Air (Electric)':...   \n",
       "\n",
       "                                  city  \\\n",
       "missing_percentage                 0.0   \n",
       "num_values                           1   \n",
       "value_percentages   {'Chicago': 100.0}   \n",
       "\n",
       "                                                                                                     cooling_system  \\\n",
       "missing_percentage                                                                                              1.1   \n",
       "num_values                                                                                                        5   \n",
       "value_percentages   {'Central A/C': 80.4, 'Window Unit(s) A/C': 9.7, 'None': 9.3, 'Zoned A/C': 0.5, 'Partial': 0.1}   \n",
       "\n",
       "                                                                                                                                                                                                         architecture_style  \\\n",
       "missing_percentage                                                                                                                                                                                                      0.0   \n",
       "num_values                                                                                                                                                                                                               16   \n",
       "value_percentages   {'Other': 66.4, 'High Rise': 8.6, 'Bungalow': 6.4, 'Ranch': 6.1, 'Loft': 2.9, 'Cape Cod': 2.3, 'Georgian': 1.7, 'Split Level': 1.4, 'Contemporary': 1.2, 'New Traditional': 0.7, 'Tudor': 0.5, 'Colo...   \n",
       "\n",
       "                                                                                                   homeType  \\\n",
       "missing_percentage                                                                                      0.0   \n",
       "num_values                                                                                                4   \n",
       "value_percentages   {'Single Family Residential': 50.0, 'Condo/Coop': 49.2, 'Townhouse': 0.4, 'Other': 0.4}   \n",
       "\n",
       "                         has_pool  \n",
       "missing_percentage           98.0  \n",
       "num_values                      1  \n",
       "value_percentages   {True: 100.0}  "
      ]
     },
     "execution_count": 18,
     "metadata": {},
     "output_type": "execute_result"
    }
   ],
   "source": [
    "cate_cols = list(set(train_X.columns) - set(num_cols))\n",
    "cate_df = train_X[cate_cols]\n",
    "pd.set_option('display.max_colwidth', 200)\n",
    "def num_values(df):\n",
    "    return df.nunique()\n",
    "def value_percentages(c):\n",
    "    return dict((c.value_counts(normalize=True) * 100).round(1))\n",
    "cate_df.agg([missing_percentage, num_values, value_percentages])"
   ]
  },
  {
   "cell_type": "markdown",
   "id": "9973c872",
   "metadata": {},
   "source": [
    "## Tiền xử lý tập train"
   ]
  },
  {
   "cell_type": "markdown",
   "id": "e9a9b3c3",
   "metadata": {},
   "source": [
    "### Cột dạng numerical"
   ]
  },
  {
   "cell_type": "markdown",
   "id": "45cf467c",
   "metadata": {},
   "source": [
    "- Điền các giá trị thiếu là median \n",
    "- Các cột có missing_percentage lớn hơn 40% sẽ được loại bỏ: lotSize, view_type \\\n",
    "$\\to$ Các cột numerical còn lại: `sqft`,`beds`,`parkingSpots`,`baths`,`yearBuilt`,`tax`"
   ]
  },
  {
   "cell_type": "code",
   "execution_count": 19,
   "id": "37b083c5",
   "metadata": {},
   "outputs": [],
   "source": [
    "class NumeDropper(BaseEstimator, TransformerMixin):\n",
    "    def fit(self, X, y=None):\n",
    "        return self\n",
    "    def transform(self, X, y=None):\n",
    "        self.newX_df = X.copy()\n",
    "        # bỏ cột      \n",
    "        self.newX_df=self.newX_df.drop(columns=[\"lotSize\",\"view_type\",\"yearBuilt\"])\n",
    "        return self.newX_df"
   ]
  },
  {
   "cell_type": "markdown",
   "id": "c5468ced",
   "metadata": {},
   "source": [
    "- Loại bỏ outliers cột numerical"
   ]
  },
  {
   "cell_type": "code",
   "execution_count": 20,
   "id": "0dd87433",
   "metadata": {},
   "outputs": [],
   "source": [
    "outliers_index = set()\n",
    "num_cols = ['sqft',\"beds\",\"parkingSpots\",\"baths\",\"tax\"]\n",
    "\n",
    "def outliers_removed(col):\n",
    "    if col.name in num_cols:\n",
    "        data_std = col.std()    \n",
    "        data_mean = col.mean()\n",
    "        cut_off = data_std * 3\n",
    "        lower, upper = data_mean - cut_off, data_mean + cut_off\n",
    "        outliers_removed = (col < lower) | (col > upper)\n",
    "        outliers_index.update(set(col[outliers_removed].index.values))\n",
    "    return col\n",
    "\n",
    "train_X.apply(outliers_removed)\n",
    "train_X = train_X.drop(list(outliers_index))\n",
    "train_y = train_y.drop(list(outliers_index))"
   ]
  },
  {
   "cell_type": "markdown",
   "id": "17e73009",
   "metadata": {},
   "source": [
    "### Cột dạng categorical"
   ]
  },
  {
   "cell_type": "markdown",
   "id": "42485f60",
   "metadata": {},
   "source": [
    "- Các cột có missing_percentage lớn hơn 40% sẽ được loại bỏ: has_pool\n",
    "- Điền các giá trị thiếu bằng most-frequent\n",
    "- Address tách tên đường \n",
    "- Các cột chỉ có 1 giá trị sẽ được loại bỏ: city\n",
    "- heating_system, home_type, architecture_type, cooling_system, address sau khi tách sẽ được chuyển thành dạng one-hot"
   ]
  },
  {
   "cell_type": "markdown",
   "id": "ffcd52ed",
   "metadata": {},
   "source": [
    "**Tách tên đường**"
   ]
  },
  {
   "cell_type": "code",
   "execution_count": 21,
   "id": "bee769e8",
   "metadata": {},
   "outputs": [
    {
     "data": {
      "text/html": [
       "<div>\n",
       "<style scoped>\n",
       "    .dataframe tbody tr th:only-of-type {\n",
       "        vertical-align: middle;\n",
       "    }\n",
       "\n",
       "    .dataframe tbody tr th {\n",
       "        vertical-align: top;\n",
       "    }\n",
       "\n",
       "    .dataframe thead th {\n",
       "        text-align: right;\n",
       "    }\n",
       "</style>\n",
       "<table border=\"1\" class=\"dataframe\">\n",
       "  <thead>\n",
       "    <tr style=\"text-align: right;\">\n",
       "      <th></th>\n",
       "      <th>Street</th>\n",
       "    </tr>\n",
       "  </thead>\n",
       "  <tbody>\n",
       "    <tr>\n",
       "      <th>num_values</th>\n",
       "      <td>602</td>\n",
       "    </tr>\n",
       "    <tr>\n",
       "      <th>value_percentages</th>\n",
       "      <td>{'North Lake Shore Drive': 2.1, 'South State Street': 0.9, 'North Paulina Street': 0.9, 'North Sheridan Road': 0.7, 'South Michigan Avenue': 0.7, 'North Wolcott Avenue': 0.7, 'West Diversey Parkwa...</td>\n",
       "    </tr>\n",
       "  </tbody>\n",
       "</table>\n",
       "</div>"
      ],
      "text/plain": [
       "                                                                                                                                                                                                                    Street\n",
       "num_values                                                                                                                                                                                                             602\n",
       "value_percentages  {'North Lake Shore Drive': 2.1, 'South State Street': 0.9, 'North Paulina Street': 0.9, 'North Sheridan Road': 0.7, 'South Michigan Avenue': 0.7, 'North Wolcott Avenue': 0.7, 'West Diversey Parkwa..."
      ]
     },
     "execution_count": 21,
     "metadata": {},
     "output_type": "execute_result"
    }
   ],
   "source": [
    "street_col = train_X[\"address\"].str.extract('(?P<number>\\d+)(?P<Street>.*)')\n",
    "street_col = street_col.Street.str.split(\"#\").str[0]\n",
    "street_col = street_col.str.strip()\n",
    "street_col.agg([num_values, value_percentages]).to_frame()"
   ]
  },
  {
   "cell_type": "markdown",
   "id": "755c70c4",
   "metadata": {},
   "source": [
    "Có nhiều giá trị rời rạc trong cột \"street_col\", và phần trăm đóng góp từng giá trị quá nhỏ \\\n",
    "$\\to$ Bỏ cột \"address\""
   ]
  },
  {
   "cell_type": "code",
   "execution_count": 22,
   "id": "7ea55be1",
   "metadata": {},
   "outputs": [],
   "source": [
    "def fit_col(X, num_top_titles):\n",
    "    self = X.value_counts()\n",
    "    index = list(self.index)\n",
    "    self = index[:max(1, min(num_top_titles, len(index)))]\n",
    "    return self\n",
    "\n",
    "def transform_col(self, X):\n",
    "    return np.where(X.isin(self),X,\"Others\")"
   ]
  },
  {
   "cell_type": "code",
   "execution_count": 23,
   "id": "c7a5bb4c",
   "metadata": {},
   "outputs": [],
   "source": [
    "class CateDropper(BaseEstimator, TransformerMixin):\n",
    "    def __init__(self, n=1):\n",
    "        self.n = n\n",
    "        self.top_cols = [\"heating_system\", \"homeType\", \"architecture_style\", \"cooling_system\"]\n",
    "    def fit(self, X, y=None):\n",
    "        self.heat_counts = fit_col(X.heating_system, self.n )\n",
    "        self.homeType = fit_col(X.homeType,self.n)\n",
    "        self.architecture_style = fit_col(X.architecture_style,self.n)\n",
    "        self.cooling_system = fit_col(X.cooling_system,self.n)\n",
    "        \n",
    "        return self\n",
    "    def transform(self, X, y=None):\n",
    "        self.newX_df = X.copy()\n",
    "        \n",
    "        self.newX_df[\"heating_system\"] = transform_col(self.heat_counts, self.newX_df[\"heating_system\"])\n",
    "        self.newX_df[\"homeType\"] = transform_col(self.homeType, self.newX_df[\"homeType\"])\n",
    "        self.newX_df[\"architecture_style\"] = transform_col(self.architecture_style, self.newX_df[\"architecture_style\"])\n",
    "        self.newX_df[\"cooling_system\"] = transform_col(self.cooling_system, self.newX_df[\"cooling_system\"])\n",
    "\n",
    "        # bỏ cột       \n",
    "        self.newX_df=self.newX_df.drop(columns=[\"has_pool\",\"city\",\"address\"])\n",
    "        return self.newX_df"
   ]
  },
  {
   "cell_type": "markdown",
   "id": "642764e6",
   "metadata": {},
   "source": [
    "### Toàn bộ quá trình xử lý sẽ được thực hiện như sau:\n",
    "- Xử lý các cột dạng số: bỏ đi lotSize và view_type, điền các giá trị thiếu bằng median\n",
    "- Xử lý các cột dạng categorical: bỏ đi has_pool, address, city. Điền các giá trị thiếu bằng most-frequent, lấy top N giá trị xuất hiện nhiều nhất của các cột còn lại, chuyển thành Onehot"
   ]
  },
  {
   "cell_type": "code",
   "execution_count": 24,
   "id": "c417fc0b",
   "metadata": {},
   "outputs": [
    {
     "data": {
      "text/html": [
       "<style>#sk-a31968fa-5107-4965-9cfd-69d6114349ea {color: black;background-color: white;}#sk-a31968fa-5107-4965-9cfd-69d6114349ea pre{padding: 0;}#sk-a31968fa-5107-4965-9cfd-69d6114349ea div.sk-toggleable {background-color: white;}#sk-a31968fa-5107-4965-9cfd-69d6114349ea label.sk-toggleable__label {cursor: pointer;display: block;width: 100%;margin-bottom: 0;padding: 0.2em 0.3em;box-sizing: border-box;text-align: center;}#sk-a31968fa-5107-4965-9cfd-69d6114349ea div.sk-toggleable__content {max-height: 0;max-width: 0;overflow: hidden;text-align: left;background-color: #f0f8ff;}#sk-a31968fa-5107-4965-9cfd-69d6114349ea div.sk-toggleable__content pre {margin: 0.2em;color: black;border-radius: 0.25em;background-color: #f0f8ff;}#sk-a31968fa-5107-4965-9cfd-69d6114349ea input.sk-toggleable__control:checked~div.sk-toggleable__content {max-height: 200px;max-width: 100%;overflow: auto;}#sk-a31968fa-5107-4965-9cfd-69d6114349ea div.sk-estimator input.sk-toggleable__control:checked~label.sk-toggleable__label {background-color: #d4ebff;}#sk-a31968fa-5107-4965-9cfd-69d6114349ea div.sk-label input.sk-toggleable__control:checked~label.sk-toggleable__label {background-color: #d4ebff;}#sk-a31968fa-5107-4965-9cfd-69d6114349ea input.sk-hidden--visually {border: 0;clip: rect(1px 1px 1px 1px);clip: rect(1px, 1px, 1px, 1px);height: 1px;margin: -1px;overflow: hidden;padding: 0;position: absolute;width: 1px;}#sk-a31968fa-5107-4965-9cfd-69d6114349ea div.sk-estimator {font-family: monospace;background-color: #f0f8ff;margin: 0.25em 0.25em;border: 1px dotted black;border-radius: 0.25em;box-sizing: border-box;}#sk-a31968fa-5107-4965-9cfd-69d6114349ea div.sk-estimator:hover {background-color: #d4ebff;}#sk-a31968fa-5107-4965-9cfd-69d6114349ea div.sk-parallel-item::after {content: \"\";width: 100%;border-bottom: 1px solid gray;flex-grow: 1;}#sk-a31968fa-5107-4965-9cfd-69d6114349ea div.sk-label:hover label.sk-toggleable__label {background-color: #d4ebff;}#sk-a31968fa-5107-4965-9cfd-69d6114349ea div.sk-serial::before {content: \"\";position: absolute;border-left: 1px solid gray;box-sizing: border-box;top: 2em;bottom: 0;left: 50%;}#sk-a31968fa-5107-4965-9cfd-69d6114349ea div.sk-serial {display: flex;flex-direction: column;align-items: center;background-color: white;}#sk-a31968fa-5107-4965-9cfd-69d6114349ea div.sk-item {z-index: 1;}#sk-a31968fa-5107-4965-9cfd-69d6114349ea div.sk-parallel {display: flex;align-items: stretch;justify-content: center;background-color: white;}#sk-a31968fa-5107-4965-9cfd-69d6114349ea div.sk-parallel-item {display: flex;flex-direction: column;position: relative;background-color: white;}#sk-a31968fa-5107-4965-9cfd-69d6114349ea div.sk-parallel-item:first-child::after {align-self: flex-end;width: 50%;}#sk-a31968fa-5107-4965-9cfd-69d6114349ea div.sk-parallel-item:last-child::after {align-self: flex-start;width: 50%;}#sk-a31968fa-5107-4965-9cfd-69d6114349ea div.sk-parallel-item:only-child::after {width: 0;}#sk-a31968fa-5107-4965-9cfd-69d6114349ea div.sk-dashed-wrapped {border: 1px dashed gray;margin: 0.2em;box-sizing: border-box;padding-bottom: 0.1em;background-color: white;position: relative;}#sk-a31968fa-5107-4965-9cfd-69d6114349ea div.sk-label label {font-family: monospace;font-weight: bold;background-color: white;display: inline-block;line-height: 1.2em;}#sk-a31968fa-5107-4965-9cfd-69d6114349ea div.sk-label-container {position: relative;z-index: 2;text-align: center;}#sk-a31968fa-5107-4965-9cfd-69d6114349ea div.sk-container {display: inline-block;position: relative;}</style><div id=\"sk-a31968fa-5107-4965-9cfd-69d6114349ea\" class\"sk-top-container\"><div class=\"sk-container\"><div class=\"sk-item sk-dashed-wrapped\"><div class=\"sk-label-container\"><div class=\"sk-label sk-toggleable\"><input class=\"sk-toggleable__control sk-hidden--visually\" id=\"8439de54-1441-4b95-9bc8-ece19e00d648\" type=\"checkbox\" ><label class=\"sk-toggleable__label\" for=\"8439de54-1441-4b95-9bc8-ece19e00d648\">Pipeline</label><div class=\"sk-toggleable__content\"><pre>Pipeline(steps=[('numdropper', NumeDropper()),\n",
       "                ('catedropper', CateDropper(n=3)),\n",
       "                ('preprocessor',\n",
       "                 ColumnTransformer(transformers=[('nume',\n",
       "                                                  Pipeline(steps=[('imputer',\n",
       "                                                                   SimpleImputer(strategy='median'))]),\n",
       "                                                  ['sqft', 'beds', 'baths',\n",
       "                                                   'parkingSpots', 'tax']),\n",
       "                                                 ('cate',\n",
       "                                                  Pipeline(steps=[('imputer',\n",
       "                                                                   SimpleImputer(strategy='most_frequent')),\n",
       "                                                                  ('onehot',\n",
       "                                                                   OneHotEncoder(handle_unknown='ignore'))]),\n",
       "                                                  ['homeType', 'heating_system',\n",
       "                                                   'cooling_system',\n",
       "                                                   'architecture_style'])])),\n",
       "                ('minmax', MinMaxScaler())])</pre></div></div></div><div class=\"sk-serial\"><div class=\"sk-item\"><div class=\"sk-estimator sk-toggleable\"><input class=\"sk-toggleable__control sk-hidden--visually\" id=\"c384fd55-6864-4dce-b8c6-aebfa0e4cdbb\" type=\"checkbox\" ><label class=\"sk-toggleable__label\" for=\"c384fd55-6864-4dce-b8c6-aebfa0e4cdbb\">NumeDropper</label><div class=\"sk-toggleable__content\"><pre>NumeDropper()</pre></div></div></div><div class=\"sk-item\"><div class=\"sk-estimator sk-toggleable\"><input class=\"sk-toggleable__control sk-hidden--visually\" id=\"4e8792f2-33c6-443a-9570-3f84b286c4ec\" type=\"checkbox\" ><label class=\"sk-toggleable__label\" for=\"4e8792f2-33c6-443a-9570-3f84b286c4ec\">CateDropper</label><div class=\"sk-toggleable__content\"><pre>CateDropper(n=3)</pre></div></div></div><div class=\"sk-item sk-dashed-wrapped\"><div class=\"sk-label-container\"><div class=\"sk-label sk-toggleable\"><input class=\"sk-toggleable__control sk-hidden--visually\" id=\"4dbdf6f4-fd02-4b7c-8dc4-e101967d4ac6\" type=\"checkbox\" ><label class=\"sk-toggleable__label\" for=\"4dbdf6f4-fd02-4b7c-8dc4-e101967d4ac6\">preprocessor: ColumnTransformer</label><div class=\"sk-toggleable__content\"><pre>ColumnTransformer(transformers=[('nume',\n",
       "                                 Pipeline(steps=[('imputer',\n",
       "                                                  SimpleImputer(strategy='median'))]),\n",
       "                                 ['sqft', 'beds', 'baths', 'parkingSpots',\n",
       "                                  'tax']),\n",
       "                                ('cate',\n",
       "                                 Pipeline(steps=[('imputer',\n",
       "                                                  SimpleImputer(strategy='most_frequent')),\n",
       "                                                 ('onehot',\n",
       "                                                  OneHotEncoder(handle_unknown='ignore'))]),\n",
       "                                 ['homeType', 'heating_system',\n",
       "                                  'cooling_system', 'architecture_style'])])</pre></div></div></div><div class=\"sk-parallel\"><div class=\"sk-parallel-item\"><div class=\"sk-item\"><div class=\"sk-label-container\"><div class=\"sk-label sk-toggleable\"><input class=\"sk-toggleable__control sk-hidden--visually\" id=\"78b1dcac-6d5d-47af-8eee-ceeac2b026e0\" type=\"checkbox\" ><label class=\"sk-toggleable__label\" for=\"78b1dcac-6d5d-47af-8eee-ceeac2b026e0\">nume</label><div class=\"sk-toggleable__content\"><pre>['sqft', 'beds', 'baths', 'parkingSpots', 'tax']</pre></div></div></div><div class=\"sk-serial\"><div class=\"sk-item\"><div class=\"sk-serial\"><div class=\"sk-item\"><div class=\"sk-estimator sk-toggleable\"><input class=\"sk-toggleable__control sk-hidden--visually\" id=\"2910ca48-ab53-4c08-a4ee-be7993e4ff4c\" type=\"checkbox\" ><label class=\"sk-toggleable__label\" for=\"2910ca48-ab53-4c08-a4ee-be7993e4ff4c\">SimpleImputer</label><div class=\"sk-toggleable__content\"><pre>SimpleImputer(strategy='median')</pre></div></div></div></div></div></div></div></div><div class=\"sk-parallel-item\"><div class=\"sk-item\"><div class=\"sk-label-container\"><div class=\"sk-label sk-toggleable\"><input class=\"sk-toggleable__control sk-hidden--visually\" id=\"369d33a3-3c0a-4733-8baf-dc8b756e2bd6\" type=\"checkbox\" ><label class=\"sk-toggleable__label\" for=\"369d33a3-3c0a-4733-8baf-dc8b756e2bd6\">cate</label><div class=\"sk-toggleable__content\"><pre>['homeType', 'heating_system', 'cooling_system', 'architecture_style']</pre></div></div></div><div class=\"sk-serial\"><div class=\"sk-item\"><div class=\"sk-serial\"><div class=\"sk-item\"><div class=\"sk-estimator sk-toggleable\"><input class=\"sk-toggleable__control sk-hidden--visually\" id=\"7e47fc8b-130e-454d-96ff-c683f19c8843\" type=\"checkbox\" ><label class=\"sk-toggleable__label\" for=\"7e47fc8b-130e-454d-96ff-c683f19c8843\">SimpleImputer</label><div class=\"sk-toggleable__content\"><pre>SimpleImputer(strategy='most_frequent')</pre></div></div></div><div class=\"sk-item\"><div class=\"sk-estimator sk-toggleable\"><input class=\"sk-toggleable__control sk-hidden--visually\" id=\"c57807d1-349b-4fda-be26-a15ac608babd\" type=\"checkbox\" ><label class=\"sk-toggleable__label\" for=\"c57807d1-349b-4fda-be26-a15ac608babd\">OneHotEncoder</label><div class=\"sk-toggleable__content\"><pre>OneHotEncoder(handle_unknown='ignore')</pre></div></div></div></div></div></div></div></div></div></div><div class=\"sk-item\"><div class=\"sk-estimator sk-toggleable\"><input class=\"sk-toggleable__control sk-hidden--visually\" id=\"6f58aa86-621b-4828-b162-d436d29538d1\" type=\"checkbox\" ><label class=\"sk-toggleable__label\" for=\"6f58aa86-621b-4828-b162-d436d29538d1\">MinMaxScaler</label><div class=\"sk-toggleable__content\"><pre>MinMaxScaler()</pre></div></div></div></div></div></div></div>"
      ],
      "text/plain": [
       "Pipeline(steps=[('numdropper', NumeDropper()),\n",
       "                ('catedropper', CateDropper(n=3)),\n",
       "                ('preprocessor',\n",
       "                 ColumnTransformer(transformers=[('nume',\n",
       "                                                  Pipeline(steps=[('imputer',\n",
       "                                                                   SimpleImputer(strategy='median'))]),\n",
       "                                                  ['sqft', 'beds', 'baths',\n",
       "                                                   'parkingSpots', 'tax']),\n",
       "                                                 ('cate',\n",
       "                                                  Pipeline(steps=[('imputer',\n",
       "                                                                   SimpleImputer(strategy='most_frequent')),\n",
       "                                                                  ('onehot',\n",
       "                                                                   OneHotEncoder(handle_unknown='ignore'))]),\n",
       "                                                  ['homeType', 'heating_system',\n",
       "                                                   'cooling_system',\n",
       "                                                   'architecture_style'])])),\n",
       "                ('minmax', MinMaxScaler())])"
      ]
     },
     "execution_count": 24,
     "metadata": {},
     "output_type": "execute_result"
    }
   ],
   "source": [
    "num_cols = [\"sqft\", \"beds\" , \"baths\",\"parkingSpots\",\"tax\"]\n",
    "cate_cols = [\"homeType\", \"heating_system\", \"cooling_system\",\"architecture_style\" ]\n",
    "\n",
    "\n",
    "numeric_transformer = Pipeline(steps=[\n",
    "    ('imputer', SimpleImputer(missing_values=np.nan, strategy='median'))])\n",
    "\n",
    "\n",
    "categotical_transformer = Pipeline(steps=[\n",
    "    ('imputer', SimpleImputer(missing_values=np.nan, strategy='most_frequent')),\n",
    "    ('onehot', OneHotEncoder(handle_unknown='ignore'))])\n",
    "\n",
    "\n",
    "preprocessor = ColumnTransformer(\n",
    "    transformers=[\n",
    "        ('nume', numeric_transformer, num_cols),\n",
    "        ('cate',categotical_transformer , cate_cols)])\n",
    "\n",
    "\n",
    "preprocess_pipeline = Pipeline(steps=[('numdropper',NumeDropper()),\n",
    "                                      ('catedropper', CateDropper(n=3)),\n",
    "                                      ('preprocessor', preprocessor),\n",
    "                                      ('minmax', MinMaxScaler())])\n",
    "\n",
    "preprocess_pipeline"
   ]
  },
  {
   "cell_type": "markdown",
   "id": "e30a72ab",
   "metadata": {},
   "source": [
    "## Mối quan hệ với cột Output"
   ]
  },
  {
   "cell_type": "code",
   "execution_count": 25,
   "id": "3a7b4541",
   "metadata": {},
   "outputs": [
    {
     "data": {
      "image/png": "[encoded data removed]",
      "text/plain": [
       "<Figure size 1080x720 with 6 Axes>"
      ]
     },
     "metadata": {},
     "output_type": "display_data"
    }
   ],
   "source": [
    "fig, ax = plt.subplots(2,3, figsize=(15, 10))\n",
    "num_df = num_df.drop(columns=[\"lotSize\",\"view_type\"])\n",
    "for var, subplot in zip(num_df, ax.flatten()):\n",
    "    sns.scatterplot(x=train_X[var],y=train_y, ax=subplot);"
   ]
  },
  {
   "cell_type": "code",
   "execution_count": 26,
   "id": "e74ddf7d",
   "metadata": {
    "scrolled": false
   },
   "outputs": [
    {
     "data": {
      "image/png": "[encoded data removed]",
      "text/plain": [
       "<Figure size 1080x720 with 4 Axes>"
      ]
     },
     "metadata": {},
     "output_type": "display_data"
    }
   ],
   "source": [
    "fig, ax = plt.subplots(2,2, figsize=(15, 10))\n",
    "cate_df = cate_df.drop(columns=[\"city\",\"address\",\"has_pool\"])\n",
    "for var, subplot in zip(cate_df, ax.flatten()):\n",
    "    g=sns.boxplot(x=train_X[var],y=train_y, ax=subplot)\n",
    "    g.tick_params(axis='x', rotation=90)"
   ]
  },
  {
   "cell_type": "code",
   "execution_count": 27,
   "id": "f1e0c164",
   "metadata": {},
   "outputs": [],
   "source": [
    "\n",
    "# Correlation Matrix Heatmap\n",
    "# f, ax = plt.subplots(figsize=(10, 6))\n",
    "# corr = train_pd.corr()\n",
    "# hm = sns.heatmap(round(corr,2), annot=True, ax=ax, cmap=\"coolwarm\",fmt='.2f',\n",
    "#                  linewidths=.05)\n",
    "# f.subplots_adjust(top=0.93)\n",
    "# t= f.suptitle('Wine Attributes Correlation Heatmap', fontsize=14)"
   ]
  },
  {
   "cell_type": "markdown",
   "id": "cd4aa3fc",
   "metadata": {},
   "source": [
    "## Mô hình hóa"
   ]
  },
  {
   "cell_type": "markdown",
   "id": "aaaa8029",
   "metadata": {},
   "source": [
    "#### Hàm tính RR"
   ]
  },
  {
   "cell_type": "code",
   "execution_count": 28,
   "id": "b84d143f",
   "metadata": {},
   "outputs": [],
   "source": [
    "def compute_mse(y, preds):\n",
    "    return ((y - preds)**2).mean()\n",
    "def compute_rr(y, preds, baseline_preds):\n",
    "    return 1 - compute_mse(y, preds) / compute_mse(y, baseline_preds)\n",
    "baseline_preds = test_y.mean()"
   ]
  },
  {
   "cell_type": "markdown",
   "id": "730f1eb3",
   "metadata": {},
   "source": [
    "#### Bỏ outliers cho output"
   ]
  },
  {
   "cell_type": "code",
   "execution_count": 29,
   "id": "febcf488",
   "metadata": {},
   "outputs": [],
   "source": [
    "cut_off = train_y.std() * 3\n",
    "lower, upper = train_y.mean() - cut_off, train_y.mean() + cut_off\n",
    "outliers_removed = (train_y < lower) | (train_y > upper)\n",
    "outliers_index = set(train_y[outliers_removed].index.values)\n",
    "\n",
    "train_X = train_X.drop(list(outliers_index))\n",
    "train_y = train_y.drop(list(outliers_index))"
   ]
  },
  {
   "cell_type": "markdown",
   "id": "10fce3ac",
   "metadata": {},
   "source": [
    "### MLPRegressor"
   ]
  },
  {
   "cell_type": "code",
   "execution_count": 30,
   "id": "fdee0d75",
   "metadata": {},
   "outputs": [
    {
     "data": {
      "text/html": [
       "<style>#sk-4a065499-2bf0-48e7-ac10-fcf14422006b {color: black;background-color: white;}#sk-4a065499-2bf0-48e7-ac10-fcf14422006b pre{padding: 0;}#sk-4a065499-2bf0-48e7-ac10-fcf14422006b div.sk-toggleable {background-color: white;}#sk-4a065499-2bf0-48e7-ac10-fcf14422006b label.sk-toggleable__label {cursor: pointer;display: block;width: 100%;margin-bottom: 0;padding: 0.2em 0.3em;box-sizing: border-box;text-align: center;}#sk-4a065499-2bf0-48e7-ac10-fcf14422006b div.sk-toggleable__content {max-height: 0;max-width: 0;overflow: hidden;text-align: left;background-color: #f0f8ff;}#sk-4a065499-2bf0-48e7-ac10-fcf14422006b div.sk-toggleable__content pre {margin: 0.2em;color: black;border-radius: 0.25em;background-color: #f0f8ff;}#sk-4a065499-2bf0-48e7-ac10-fcf14422006b input.sk-toggleable__control:checked~div.sk-toggleable__content {max-height: 200px;max-width: 100%;overflow: auto;}#sk-4a065499-2bf0-48e7-ac10-fcf14422006b div.sk-estimator input.sk-toggleable__control:checked~label.sk-toggleable__label {background-color: #d4ebff;}#sk-4a065499-2bf0-48e7-ac10-fcf14422006b div.sk-label input.sk-toggleable__control:checked~label.sk-toggleable__label {background-color: #d4ebff;}#sk-4a065499-2bf0-48e7-ac10-fcf14422006b input.sk-hidden--visually {border: 0;clip: rect(1px 1px 1px 1px);clip: rect(1px, 1px, 1px, 1px);height: 1px;margin: -1px;overflow: hidden;padding: 0;position: absolute;width: 1px;}#sk-4a065499-2bf0-48e7-ac10-fcf14422006b div.sk-estimator {font-family: monospace;background-color: #f0f8ff;margin: 0.25em 0.25em;border: 1px dotted black;border-radius: 0.25em;box-sizing: border-box;}#sk-4a065499-2bf0-48e7-ac10-fcf14422006b div.sk-estimator:hover {background-color: #d4ebff;}#sk-4a065499-2bf0-48e7-ac10-fcf14422006b div.sk-parallel-item::after {content: \"\";width: 100%;border-bottom: 1px solid gray;flex-grow: 1;}#sk-4a065499-2bf0-48e7-ac10-fcf14422006b div.sk-label:hover label.sk-toggleable__label {background-color: #d4ebff;}#sk-4a065499-2bf0-48e7-ac10-fcf14422006b div.sk-serial::before {content: \"\";position: absolute;border-left: 1px solid gray;box-sizing: border-box;top: 2em;bottom: 0;left: 50%;}#sk-4a065499-2bf0-48e7-ac10-fcf14422006b div.sk-serial {display: flex;flex-direction: column;align-items: center;background-color: white;}#sk-4a065499-2bf0-48e7-ac10-fcf14422006b div.sk-item {z-index: 1;}#sk-4a065499-2bf0-48e7-ac10-fcf14422006b div.sk-parallel {display: flex;align-items: stretch;justify-content: center;background-color: white;}#sk-4a065499-2bf0-48e7-ac10-fcf14422006b div.sk-parallel-item {display: flex;flex-direction: column;position: relative;background-color: white;}#sk-4a065499-2bf0-48e7-ac10-fcf14422006b div.sk-parallel-item:first-child::after {align-self: flex-end;width: 50%;}#sk-4a065499-2bf0-48e7-ac10-fcf14422006b div.sk-parallel-item:last-child::after {align-self: flex-start;width: 50%;}#sk-4a065499-2bf0-48e7-ac10-fcf14422006b div.sk-parallel-item:only-child::after {width: 0;}#sk-4a065499-2bf0-48e7-ac10-fcf14422006b div.sk-dashed-wrapped {border: 1px dashed gray;margin: 0.2em;box-sizing: border-box;padding-bottom: 0.1em;background-color: white;position: relative;}#sk-4a065499-2bf0-48e7-ac10-fcf14422006b div.sk-label label {font-family: monospace;font-weight: bold;background-color: white;display: inline-block;line-height: 1.2em;}#sk-4a065499-2bf0-48e7-ac10-fcf14422006b div.sk-label-container {position: relative;z-index: 2;text-align: center;}#sk-4a065499-2bf0-48e7-ac10-fcf14422006b div.sk-container {display: inline-block;position: relative;}</style><div id=\"sk-4a065499-2bf0-48e7-ac10-fcf14422006b\" class\"sk-top-container\"><div class=\"sk-container\"><div class=\"sk-item sk-dashed-wrapped\"><div class=\"sk-label-container\"><div class=\"sk-label sk-toggleable\"><input class=\"sk-toggleable__control sk-hidden--visually\" id=\"812f7519-5e21-4d95-b688-d58c45e318ca\" type=\"checkbox\" ><label class=\"sk-toggleable__label\" for=\"812f7519-5e21-4d95-b688-d58c45e318ca\">Pipeline</label><div class=\"sk-toggleable__content\"><pre>Pipeline(steps=[('preprocess_pipeline',\n",
       "                 Pipeline(steps=[('numdropper', NumeDropper()),\n",
       "                                 ('catedropper', CateDropper(n=3)),\n",
       "                                 ('preprocessor',\n",
       "                                  ColumnTransformer(transformers=[('nume',\n",
       "                                                                   Pipeline(steps=[('imputer',\n",
       "                                                                                    SimpleImputer(strategy='median'))]),\n",
       "                                                                   ['sqft',\n",
       "                                                                    'beds',\n",
       "                                                                    'baths',\n",
       "                                                                    'parkingSpots',\n",
       "                                                                    'tax']),\n",
       "                                                                  ('cate',\n",
       "                                                                   Pipeline(steps=[('imputer',\n",
       "                                                                                    SimpleImputer(strategy='most_frequent')),\n",
       "                                                                                   ('onehot',\n",
       "                                                                                    OneHotEncoder(handle_unknown='ignore'))]),\n",
       "                                                                   ['homeType',\n",
       "                                                                    'heating_system',\n",
       "                                                                    'cooling_system',\n",
       "                                                                    'architecture_style'])])),\n",
       "                                 ('minmax', MinMaxScaler())])),\n",
       "                ('neural_network',\n",
       "                 MLPRegressor(alpha=1e-05, hidden_layer_sizes=(30, 10),\n",
       "                              max_iter=3000, solver='sgd'))])</pre></div></div></div><div class=\"sk-serial\"><div class=\"sk-item\"><div class=\"sk-label-container\"><div class=\"sk-label sk-toggleable\"><input class=\"sk-toggleable__control sk-hidden--visually\" id=\"5ae8ef56-77d7-4710-9e4c-c95ff556ebfe\" type=\"checkbox\" ><label class=\"sk-toggleable__label\" for=\"5ae8ef56-77d7-4710-9e4c-c95ff556ebfe\">preprocess_pipeline: Pipeline</label><div class=\"sk-toggleable__content\"><pre>Pipeline(steps=[('numdropper', NumeDropper()),\n",
       "                ('catedropper', CateDropper(n=3)),\n",
       "                ('preprocessor',\n",
       "                 ColumnTransformer(transformers=[('nume',\n",
       "                                                  Pipeline(steps=[('imputer',\n",
       "                                                                   SimpleImputer(strategy='median'))]),\n",
       "                                                  ['sqft', 'beds', 'baths',\n",
       "                                                   'parkingSpots', 'tax']),\n",
       "                                                 ('cate',\n",
       "                                                  Pipeline(steps=[('imputer',\n",
       "                                                                   SimpleImputer(strategy='most_frequent')),\n",
       "                                                                  ('onehot',\n",
       "                                                                   OneHotEncoder(handle_unknown='ignore'))]),\n",
       "                                                  ['homeType', 'heating_system',\n",
       "                                                   'cooling_system',\n",
       "                                                   'architecture_style'])])),\n",
       "                ('minmax', MinMaxScaler())])</pre></div></div></div><div class=\"sk-serial\"><div class=\"sk-item\"><div class=\"sk-estimator sk-toggleable\"><input class=\"sk-toggleable__control sk-hidden--visually\" id=\"f6ad6eea-bd31-443d-a8f3-d206f9c31a70\" type=\"checkbox\" ><label class=\"sk-toggleable__label\" for=\"f6ad6eea-bd31-443d-a8f3-d206f9c31a70\">NumeDropper</label><div class=\"sk-toggleable__content\"><pre>NumeDropper()</pre></div></div></div><div class=\"sk-item\"><div class=\"sk-estimator sk-toggleable\"><input class=\"sk-toggleable__control sk-hidden--visually\" id=\"e8367100-a1cc-4eb4-b409-9b7a1d1e9b51\" type=\"checkbox\" ><label class=\"sk-toggleable__label\" for=\"e8367100-a1cc-4eb4-b409-9b7a1d1e9b51\">CateDropper</label><div class=\"sk-toggleable__content\"><pre>CateDropper(n=3)</pre></div></div></div><div class=\"sk-item sk-dashed-wrapped\"><div class=\"sk-label-container\"><div class=\"sk-label sk-toggleable\"><input class=\"sk-toggleable__control sk-hidden--visually\" id=\"a381c3d4-4e33-45d7-a2be-35f2f42a891e\" type=\"checkbox\" ><label class=\"sk-toggleable__label\" for=\"a381c3d4-4e33-45d7-a2be-35f2f42a891e\">preprocessor: ColumnTransformer</label><div class=\"sk-toggleable__content\"><pre>ColumnTransformer(transformers=[('nume',\n",
       "                                 Pipeline(steps=[('imputer',\n",
       "                                                  SimpleImputer(strategy='median'))]),\n",
       "                                 ['sqft', 'beds', 'baths', 'parkingSpots',\n",
       "                                  'tax']),\n",
       "                                ('cate',\n",
       "                                 Pipeline(steps=[('imputer',\n",
       "                                                  SimpleImputer(strategy='most_frequent')),\n",
       "                                                 ('onehot',\n",
       "                                                  OneHotEncoder(handle_unknown='ignore'))]),\n",
       "                                 ['homeType', 'heating_system',\n",
       "                                  'cooling_system', 'architecture_style'])])</pre></div></div></div><div class=\"sk-parallel\"><div class=\"sk-parallel-item\"><div class=\"sk-item\"><div class=\"sk-label-container\"><div class=\"sk-label sk-toggleable\"><input class=\"sk-toggleable__control sk-hidden--visually\" id=\"e155ca8d-731a-40be-883b-21dcd91f54f7\" type=\"checkbox\" ><label class=\"sk-toggleable__label\" for=\"e155ca8d-731a-40be-883b-21dcd91f54f7\">nume</label><div class=\"sk-toggleable__content\"><pre>['sqft', 'beds', 'baths', 'parkingSpots', 'tax']</pre></div></div></div><div class=\"sk-serial\"><div class=\"sk-item\"><div class=\"sk-serial\"><div class=\"sk-item\"><div class=\"sk-estimator sk-toggleable\"><input class=\"sk-toggleable__control sk-hidden--visually\" id=\"fa694641-6df5-4781-bd7c-0a3b4ea35486\" type=\"checkbox\" ><label class=\"sk-toggleable__label\" for=\"fa694641-6df5-4781-bd7c-0a3b4ea35486\">SimpleImputer</label><div class=\"sk-toggleable__content\"><pre>SimpleImputer(strategy='median')</pre></div></div></div></div></div></div></div></div><div class=\"sk-parallel-item\"><div class=\"sk-item\"><div class=\"sk-label-container\"><div class=\"sk-label sk-toggleable\"><input class=\"sk-toggleable__control sk-hidden--visually\" id=\"6a54cbfa-7592-42e1-993d-18b6aa8eb342\" type=\"checkbox\" ><label class=\"sk-toggleable__label\" for=\"6a54cbfa-7592-42e1-993d-18b6aa8eb342\">cate</label><div class=\"sk-toggleable__content\"><pre>['homeType', 'heating_system', 'cooling_system', 'architecture_style']</pre></div></div></div><div class=\"sk-serial\"><div class=\"sk-item\"><div class=\"sk-serial\"><div class=\"sk-item\"><div class=\"sk-estimator sk-toggleable\"><input class=\"sk-toggleable__control sk-hidden--visually\" id=\"2613394e-7706-4bf1-8825-cccbb89470fb\" type=\"checkbox\" ><label class=\"sk-toggleable__label\" for=\"2613394e-7706-4bf1-8825-cccbb89470fb\">SimpleImputer</label><div class=\"sk-toggleable__content\"><pre>SimpleImputer(strategy='most_frequent')</pre></div></div></div><div class=\"sk-item\"><div class=\"sk-estimator sk-toggleable\"><input class=\"sk-toggleable__control sk-hidden--visually\" id=\"92c51481-ff3f-44d0-b3ea-63c66e6afea6\" type=\"checkbox\" ><label class=\"sk-toggleable__label\" for=\"92c51481-ff3f-44d0-b3ea-63c66e6afea6\">OneHotEncoder</label><div class=\"sk-toggleable__content\"><pre>OneHotEncoder(handle_unknown='ignore')</pre></div></div></div></div></div></div></div></div></div></div><div class=\"sk-item\"><div class=\"sk-estimator sk-toggleable\"><input class=\"sk-toggleable__control sk-hidden--visually\" id=\"254322bb-9c23-4c8b-bc52-880f3a9b55dc\" type=\"checkbox\" ><label class=\"sk-toggleable__label\" for=\"254322bb-9c23-4c8b-bc52-880f3a9b55dc\">MinMaxScaler</label><div class=\"sk-toggleable__content\"><pre>MinMaxScaler()</pre></div></div></div></div></div><div class=\"sk-item\"><div class=\"sk-estimator sk-toggleable\"><input class=\"sk-toggleable__control sk-hidden--visually\" id=\"8a34bd7a-0285-4cbe-90f4-b567bc63479e\" type=\"checkbox\" ><label class=\"sk-toggleable__label\" for=\"8a34bd7a-0285-4cbe-90f4-b567bc63479e\">MLPRegressor</label><div class=\"sk-toggleable__content\"><pre>MLPRegressor(alpha=1e-05, hidden_layer_sizes=(30, 10), max_iter=3000,\n",
       "             solver='sgd')</pre></div></div></div></div></div></div></div>"
      ],
      "text/plain": [
       "Pipeline(steps=[('preprocess_pipeline',\n",
       "                 Pipeline(steps=[('numdropper', NumeDropper()),\n",
       "                                 ('catedropper', CateDropper(n=3)),\n",
       "                                 ('preprocessor',\n",
       "                                  ColumnTransformer(transformers=[('nume',\n",
       "                                                                   Pipeline(steps=[('imputer',\n",
       "                                                                                    SimpleImputer(strategy='median'))]),\n",
       "                                                                   ['sqft',\n",
       "                                                                    'beds',\n",
       "                                                                    'baths',\n",
       "                                                                    'parkingSpots',\n",
       "                                                                    'tax']),\n",
       "                                                                  ('cate',\n",
       "                                                                   Pipeline(steps=[('imputer',\n",
       "                                                                                    SimpleImputer(strategy='most_frequent')),\n",
       "                                                                                   ('onehot',\n",
       "                                                                                    OneHotEncoder(handle_unknown='ignore'))]),\n",
       "                                                                   ['homeType',\n",
       "                                                                    'heating_system',\n",
       "                                                                    'cooling_system',\n",
       "                                                                    'architecture_style'])])),\n",
       "                                 ('minmax', MinMaxScaler())])),\n",
       "                ('neural_network',\n",
       "                 MLPRegressor(alpha=1e-05, hidden_layer_sizes=(30, 10),\n",
       "                              max_iter=3000, solver='sgd'))])"
      ]
     },
     "execution_count": 30,
     "metadata": {},
     "output_type": "execute_result"
    }
   ],
   "source": [
    "model = MLPRegressor(solver='sgd', \n",
    "                    activation = 'relu',\n",
    "                    hidden_layer_sizes=(30,10), \n",
    "                    random_state=None,\n",
    "                    max_iter = 3000,\n",
    "                    alpha=1e-5)\n",
    "full_pipeline = Pipeline(steps=[('preprocess_pipeline', preprocess_pipeline),\n",
    "                                 ('neural_network',model)])\n",
    "full_pipeline"
   ]
  },
  {
   "cell_type": "code",
   "execution_count": 31,
   "id": "5ce88c75",
   "metadata": {},
   "outputs": [],
   "source": [
    "max_ = train_y.mean()\n",
    "min_ = train_y.min()\n",
    "scaleTrain_y=(train_y /min_)"
   ]
  },
  {
   "cell_type": "code",
   "execution_count": 32,
   "id": "9548aaf7",
   "metadata": {},
   "outputs": [],
   "source": [
    "train_errs = []\n",
    "val_errs = []\n",
    "alphas = [ 0.01 ,0.1, 1, 10]\n",
    "N = [2,3,4,5]\n",
    "\n",
    "best_val_err = float('inf')\n",
    "best_N = None\n",
    "best_alpha = None\n",
    "\n",
    "for alpha in alphas:\n",
    "    for n_ in N:\n",
    "        model = full_pipeline.set_params(preprocess_pipeline__catedropper__n = n_, neural_network__alpha=alpha).fit(train_X, scaleTrain_y)\n",
    "        train_error = compute_mse(train_y, model.predict(train_X)*min_)\n",
    "        val_error = compute_mse(val_y, model.predict(val_X)*min_)\n",
    "        \n",
    "        train_errs.append(train_error)\n",
    "        val_errs.append(val_error)\n",
    "        \n",
    "        if val_errs[-1] < best_val_err:\n",
    "            best_val_err = val_errs[-1]\n",
    "            best_alpha = alpha\n",
    "            best_N = n_"
   ]
  },
  {
   "cell_type": "code",
   "execution_count": 33,
   "id": "fdd15843",
   "metadata": {},
   "outputs": [],
   "source": [
    "model = full_pipeline.set_params(preprocess_pipeline__catedropper__n = best_N, neural_network__alpha=best_alpha)\n",
    "model = full_pipeline.fit(train_X, scaleTrain_y)"
   ]
  },
  {
   "cell_type": "code",
   "execution_count": 34,
   "id": "e66468be",
   "metadata": {},
   "outputs": [
    {
     "data": {
      "image/png": "[encoded data removed]",
      "text/plain": [
       "<Figure size 576x360 with 1 Axes>"
      ]
     },
     "metadata": {},
     "output_type": "display_data"
    }
   ],
   "source": [
    "loss_values=model[\"neural_network\"].loss_curve_\n",
    "plt.plot(loss_values)\n",
    "plt.title('Loss curve', fontsize=14)\n",
    "plt.xlabel('iteration', fontsize=14)\n",
    "plt.ylabel('MSE error', fontsize=14)\n",
    "plt.show()"
   ]
  },
  {
   "cell_type": "code",
   "execution_count": 35,
   "id": "80af1c1d",
   "metadata": {},
   "outputs": [
    {
     "data": {
      "text/plain": [
       "0.6535125512043465"
      ]
     },
     "execution_count": 35,
     "metadata": {},
     "output_type": "execute_result"
    }
   ],
   "source": [
    "#tính độ lỗi trên tập test\n",
    "test_preds = model.predict(test_X)*min_\n",
    "\n",
    "# test_preds= np.round(test_preds,3)\n",
    "compute_rr(test_y, test_preds, baseline_preds)"
   ]
  },
  {
   "cell_type": "code",
   "execution_count": 36,
   "id": "d8604e71",
   "metadata": {
    "scrolled": true
   },
   "outputs": [
    {
     "data": {
      "text/html": [
       "<div>\n",
       "<style scoped>\n",
       "    .dataframe tbody tr th:only-of-type {\n",
       "        vertical-align: middle;\n",
       "    }\n",
       "\n",
       "    .dataframe tbody tr th {\n",
       "        vertical-align: top;\n",
       "    }\n",
       "\n",
       "    .dataframe thead th {\n",
       "        text-align: right;\n",
       "    }\n",
       "</style>\n",
       "<table border=\"1\" class=\"dataframe\">\n",
       "  <thead>\n",
       "    <tr style=\"text-align: right;\">\n",
       "      <th></th>\n",
       "      <th>Actual</th>\n",
       "      <th>Predicted</th>\n",
       "    </tr>\n",
       "  </thead>\n",
       "  <tbody>\n",
       "    <tr>\n",
       "      <th>1303</th>\n",
       "      <td>419000</td>\n",
       "      <td>5.344653e+05</td>\n",
       "    </tr>\n",
       "    <tr>\n",
       "      <th>891</th>\n",
       "      <td>3499888</td>\n",
       "      <td>1.097766e+06</td>\n",
       "    </tr>\n",
       "    <tr>\n",
       "      <th>1116</th>\n",
       "      <td>215000</td>\n",
       "      <td>2.456133e+05</td>\n",
       "    </tr>\n",
       "    <tr>\n",
       "      <th>128</th>\n",
       "      <td>869900</td>\n",
       "      <td>8.788743e+05</td>\n",
       "    </tr>\n",
       "    <tr>\n",
       "      <th>927</th>\n",
       "      <td>145000</td>\n",
       "      <td>1.690787e+05</td>\n",
       "    </tr>\n",
       "    <tr>\n",
       "      <th>61</th>\n",
       "      <td>230000</td>\n",
       "      <td>2.255050e+05</td>\n",
       "    </tr>\n",
       "    <tr>\n",
       "      <th>1320</th>\n",
       "      <td>625000</td>\n",
       "      <td>6.301454e+05</td>\n",
       "    </tr>\n",
       "    <tr>\n",
       "      <th>1389</th>\n",
       "      <td>1085000</td>\n",
       "      <td>8.688892e+05</td>\n",
       "    </tr>\n",
       "    <tr>\n",
       "      <th>473</th>\n",
       "      <td>639900</td>\n",
       "      <td>5.933849e+05</td>\n",
       "    </tr>\n",
       "    <tr>\n",
       "      <th>1589</th>\n",
       "      <td>899000</td>\n",
       "      <td>9.686646e+05</td>\n",
       "    </tr>\n",
       "  </tbody>\n",
       "</table>\n",
       "</div>"
      ],
      "text/plain": [
       "       Actual     Predicted\n",
       "1303   419000  5.344653e+05\n",
       "891   3499888  1.097766e+06\n",
       "1116   215000  2.456133e+05\n",
       "128    869900  8.788743e+05\n",
       "927    145000  1.690787e+05\n",
       "61     230000  2.255050e+05\n",
       "1320   625000  6.301454e+05\n",
       "1389  1085000  8.688892e+05\n",
       "473    639900  5.933849e+05\n",
       "1589   899000  9.686646e+05"
      ]
     },
     "execution_count": 36,
     "metadata": {},
     "output_type": "execute_result"
    }
   ],
   "source": [
    "df = pd.DataFrame({'Actual': test_y, 'Predicted': test_preds})\n",
    "df.head(10)"
   ]
  },
  {
   "cell_type": "markdown",
   "id": "cc837ce8",
   "metadata": {},
   "source": [
    "### Linear Regression"
   ]
  },
  {
   "cell_type": "markdown",
   "id": "979991b2",
   "metadata": {},
   "source": [
    "#### Full pipeline"
   ]
  },
  {
   "cell_type": "code",
   "execution_count": 37,
   "id": "656e1be3",
   "metadata": {},
   "outputs": [
    {
     "data": {
      "text/html": [
       "<style>#sk-a77f3b01-c10e-43fd-bd7b-d42f162a9413 {color: black;background-color: white;}#sk-a77f3b01-c10e-43fd-bd7b-d42f162a9413 pre{padding: 0;}#sk-a77f3b01-c10e-43fd-bd7b-d42f162a9413 div.sk-toggleable {background-color: white;}#sk-a77f3b01-c10e-43fd-bd7b-d42f162a9413 label.sk-toggleable__label {cursor: pointer;display: block;width: 100%;margin-bottom: 0;padding: 0.2em 0.3em;box-sizing: border-box;text-align: center;}#sk-a77f3b01-c10e-43fd-bd7b-d42f162a9413 div.sk-toggleable__content {max-height: 0;max-width: 0;overflow: hidden;text-align: left;background-color: #f0f8ff;}#sk-a77f3b01-c10e-43fd-bd7b-d42f162a9413 div.sk-toggleable__content pre {margin: 0.2em;color: black;border-radius: 0.25em;background-color: #f0f8ff;}#sk-a77f3b01-c10e-43fd-bd7b-d42f162a9413 input.sk-toggleable__control:checked~div.sk-toggleable__content {max-height: 200px;max-width: 100%;overflow: auto;}#sk-a77f3b01-c10e-43fd-bd7b-d42f162a9413 div.sk-estimator input.sk-toggleable__control:checked~label.sk-toggleable__label {background-color: #d4ebff;}#sk-a77f3b01-c10e-43fd-bd7b-d42f162a9413 div.sk-label input.sk-toggleable__control:checked~label.sk-toggleable__label {background-color: #d4ebff;}#sk-a77f3b01-c10e-43fd-bd7b-d42f162a9413 input.sk-hidden--visually {border: 0;clip: rect(1px 1px 1px 1px);clip: rect(1px, 1px, 1px, 1px);height: 1px;margin: -1px;overflow: hidden;padding: 0;position: absolute;width: 1px;}#sk-a77f3b01-c10e-43fd-bd7b-d42f162a9413 div.sk-estimator {font-family: monospace;background-color: #f0f8ff;margin: 0.25em 0.25em;border: 1px dotted black;border-radius: 0.25em;box-sizing: border-box;}#sk-a77f3b01-c10e-43fd-bd7b-d42f162a9413 div.sk-estimator:hover {background-color: #d4ebff;}#sk-a77f3b01-c10e-43fd-bd7b-d42f162a9413 div.sk-parallel-item::after {content: \"\";width: 100%;border-bottom: 1px solid gray;flex-grow: 1;}#sk-a77f3b01-c10e-43fd-bd7b-d42f162a9413 div.sk-label:hover label.sk-toggleable__label {background-color: #d4ebff;}#sk-a77f3b01-c10e-43fd-bd7b-d42f162a9413 div.sk-serial::before {content: \"\";position: absolute;border-left: 1px solid gray;box-sizing: border-box;top: 2em;bottom: 0;left: 50%;}#sk-a77f3b01-c10e-43fd-bd7b-d42f162a9413 div.sk-serial {display: flex;flex-direction: column;align-items: center;background-color: white;}#sk-a77f3b01-c10e-43fd-bd7b-d42f162a9413 div.sk-item {z-index: 1;}#sk-a77f3b01-c10e-43fd-bd7b-d42f162a9413 div.sk-parallel {display: flex;align-items: stretch;justify-content: center;background-color: white;}#sk-a77f3b01-c10e-43fd-bd7b-d42f162a9413 div.sk-parallel-item {display: flex;flex-direction: column;position: relative;background-color: white;}#sk-a77f3b01-c10e-43fd-bd7b-d42f162a9413 div.sk-parallel-item:first-child::after {align-self: flex-end;width: 50%;}#sk-a77f3b01-c10e-43fd-bd7b-d42f162a9413 div.sk-parallel-item:last-child::after {align-self: flex-start;width: 50%;}#sk-a77f3b01-c10e-43fd-bd7b-d42f162a9413 div.sk-parallel-item:only-child::after {width: 0;}#sk-a77f3b01-c10e-43fd-bd7b-d42f162a9413 div.sk-dashed-wrapped {border: 1px dashed gray;margin: 0.2em;box-sizing: border-box;padding-bottom: 0.1em;background-color: white;position: relative;}#sk-a77f3b01-c10e-43fd-bd7b-d42f162a9413 div.sk-label label {font-family: monospace;font-weight: bold;background-color: white;display: inline-block;line-height: 1.2em;}#sk-a77f3b01-c10e-43fd-bd7b-d42f162a9413 div.sk-label-container {position: relative;z-index: 2;text-align: center;}#sk-a77f3b01-c10e-43fd-bd7b-d42f162a9413 div.sk-container {display: inline-block;position: relative;}</style><div id=\"sk-a77f3b01-c10e-43fd-bd7b-d42f162a9413\" class\"sk-top-container\"><div class=\"sk-container\"><div class=\"sk-item sk-dashed-wrapped\"><div class=\"sk-label-container\"><div class=\"sk-label sk-toggleable\"><input class=\"sk-toggleable__control sk-hidden--visually\" id=\"905110fd-996f-4e4a-a86e-7de23f8148d9\" type=\"checkbox\" ><label class=\"sk-toggleable__label\" for=\"905110fd-996f-4e4a-a86e-7de23f8148d9\">Pipeline</label><div class=\"sk-toggleable__content\"><pre>Pipeline(steps=[('preprocess_pipeline',\n",
       "                 Pipeline(steps=[('numdropper', NumeDropper()),\n",
       "                                 ('catedropper', CateDropper(n=4)),\n",
       "                                 ('preprocessor',\n",
       "                                  ColumnTransformer(transformers=[('nume',\n",
       "                                                                   Pipeline(steps=[('imputer',\n",
       "                                                                                    SimpleImputer(strategy='median'))]),\n",
       "                                                                   ['sqft',\n",
       "                                                                    'beds',\n",
       "                                                                    'baths',\n",
       "                                                                    'parkingSpots',\n",
       "                                                                    'tax']),\n",
       "                                                                  ('cate',\n",
       "                                                                   Pipeline(steps=[('imputer',\n",
       "                                                                                    SimpleImputer(strategy='most_frequent')),\n",
       "                                                                                   ('onehot',\n",
       "                                                                                    OneHotEncoder(handle_unknown='ignore'))]),\n",
       "                                                                   ['homeType',\n",
       "                                                                    'heating_system',\n",
       "                                                                    'cooling_system',\n",
       "                                                                    'architecture_style'])])),\n",
       "                                 ('minmax', MinMaxScaler())])),\n",
       "                ('neural_network', LinearRegression())])</pre></div></div></div><div class=\"sk-serial\"><div class=\"sk-item\"><div class=\"sk-label-container\"><div class=\"sk-label sk-toggleable\"><input class=\"sk-toggleable__control sk-hidden--visually\" id=\"7c8b3290-7c87-425f-bbeb-a21afab8dd70\" type=\"checkbox\" ><label class=\"sk-toggleable__label\" for=\"7c8b3290-7c87-425f-bbeb-a21afab8dd70\">preprocess_pipeline: Pipeline</label><div class=\"sk-toggleable__content\"><pre>Pipeline(steps=[('numdropper', NumeDropper()),\n",
       "                ('catedropper', CateDropper(n=4)),\n",
       "                ('preprocessor',\n",
       "                 ColumnTransformer(transformers=[('nume',\n",
       "                                                  Pipeline(steps=[('imputer',\n",
       "                                                                   SimpleImputer(strategy='median'))]),\n",
       "                                                  ['sqft', 'beds', 'baths',\n",
       "                                                   'parkingSpots', 'tax']),\n",
       "                                                 ('cate',\n",
       "                                                  Pipeline(steps=[('imputer',\n",
       "                                                                   SimpleImputer(strategy='most_frequent')),\n",
       "                                                                  ('onehot',\n",
       "                                                                   OneHotEncoder(handle_unknown='ignore'))]),\n",
       "                                                  ['homeType', 'heating_system',\n",
       "                                                   'cooling_system',\n",
       "                                                   'architecture_style'])])),\n",
       "                ('minmax', MinMaxScaler())])</pre></div></div></div><div class=\"sk-serial\"><div class=\"sk-item\"><div class=\"sk-estimator sk-toggleable\"><input class=\"sk-toggleable__control sk-hidden--visually\" id=\"821d5add-099a-4366-b8bf-927beae14e1e\" type=\"checkbox\" ><label class=\"sk-toggleable__label\" for=\"821d5add-099a-4366-b8bf-927beae14e1e\">NumeDropper</label><div class=\"sk-toggleable__content\"><pre>NumeDropper()</pre></div></div></div><div class=\"sk-item\"><div class=\"sk-estimator sk-toggleable\"><input class=\"sk-toggleable__control sk-hidden--visually\" id=\"0ef6eafe-b40a-4157-9d9e-907c0ff17a30\" type=\"checkbox\" ><label class=\"sk-toggleable__label\" for=\"0ef6eafe-b40a-4157-9d9e-907c0ff17a30\">CateDropper</label><div class=\"sk-toggleable__content\"><pre>CateDropper(n=4)</pre></div></div></div><div class=\"sk-item sk-dashed-wrapped\"><div class=\"sk-label-container\"><div class=\"sk-label sk-toggleable\"><input class=\"sk-toggleable__control sk-hidden--visually\" id=\"b3ec3866-1b02-45a0-a21d-053aeadf3703\" type=\"checkbox\" ><label class=\"sk-toggleable__label\" for=\"b3ec3866-1b02-45a0-a21d-053aeadf3703\">preprocessor: ColumnTransformer</label><div class=\"sk-toggleable__content\"><pre>ColumnTransformer(transformers=[('nume',\n",
       "                                 Pipeline(steps=[('imputer',\n",
       "                                                  SimpleImputer(strategy='median'))]),\n",
       "                                 ['sqft', 'beds', 'baths', 'parkingSpots',\n",
       "                                  'tax']),\n",
       "                                ('cate',\n",
       "                                 Pipeline(steps=[('imputer',\n",
       "                                                  SimpleImputer(strategy='most_frequent')),\n",
       "                                                 ('onehot',\n",
       "                                                  OneHotEncoder(handle_unknown='ignore'))]),\n",
       "                                 ['homeType', 'heating_system',\n",
       "                                  'cooling_system', 'architecture_style'])])</pre></div></div></div><div class=\"sk-parallel\"><div class=\"sk-parallel-item\"><div class=\"sk-item\"><div class=\"sk-label-container\"><div class=\"sk-label sk-toggleable\"><input class=\"sk-toggleable__control sk-hidden--visually\" id=\"6fd61364-6efa-4d83-85d8-2aa7526c98f3\" type=\"checkbox\" ><label class=\"sk-toggleable__label\" for=\"6fd61364-6efa-4d83-85d8-2aa7526c98f3\">nume</label><div class=\"sk-toggleable__content\"><pre>['sqft', 'beds', 'baths', 'parkingSpots', 'tax']</pre></div></div></div><div class=\"sk-serial\"><div class=\"sk-item\"><div class=\"sk-serial\"><div class=\"sk-item\"><div class=\"sk-estimator sk-toggleable\"><input class=\"sk-toggleable__control sk-hidden--visually\" id=\"c1191fa1-e04b-411e-b886-659cb8e1819f\" type=\"checkbox\" ><label class=\"sk-toggleable__label\" for=\"c1191fa1-e04b-411e-b886-659cb8e1819f\">SimpleImputer</label><div class=\"sk-toggleable__content\"><pre>SimpleImputer(strategy='median')</pre></div></div></div></div></div></div></div></div><div class=\"sk-parallel-item\"><div class=\"sk-item\"><div class=\"sk-label-container\"><div class=\"sk-label sk-toggleable\"><input class=\"sk-toggleable__control sk-hidden--visually\" id=\"9c0863a9-abb0-470a-a24c-7409a6f75d6e\" type=\"checkbox\" ><label class=\"sk-toggleable__label\" for=\"9c0863a9-abb0-470a-a24c-7409a6f75d6e\">cate</label><div class=\"sk-toggleable__content\"><pre>['homeType', 'heating_system', 'cooling_system', 'architecture_style']</pre></div></div></div><div class=\"sk-serial\"><div class=\"sk-item\"><div class=\"sk-serial\"><div class=\"sk-item\"><div class=\"sk-estimator sk-toggleable\"><input class=\"sk-toggleable__control sk-hidden--visually\" id=\"d5554cc2-ef51-4a4d-82de-9f9e06ef54dc\" type=\"checkbox\" ><label class=\"sk-toggleable__label\" for=\"d5554cc2-ef51-4a4d-82de-9f9e06ef54dc\">SimpleImputer</label><div class=\"sk-toggleable__content\"><pre>SimpleImputer(strategy='most_frequent')</pre></div></div></div><div class=\"sk-item\"><div class=\"sk-estimator sk-toggleable\"><input class=\"sk-toggleable__control sk-hidden--visually\" id=\"f77e79dd-94e2-4a94-af7e-c485c242c84e\" type=\"checkbox\" ><label class=\"sk-toggleable__label\" for=\"f77e79dd-94e2-4a94-af7e-c485c242c84e\">OneHotEncoder</label><div class=\"sk-toggleable__content\"><pre>OneHotEncoder(handle_unknown='ignore')</pre></div></div></div></div></div></div></div></div></div></div><div class=\"sk-item\"><div class=\"sk-estimator sk-toggleable\"><input class=\"sk-toggleable__control sk-hidden--visually\" id=\"5d7e7fed-3058-4270-b6e0-71e7f40278c2\" type=\"checkbox\" ><label class=\"sk-toggleable__label\" for=\"5d7e7fed-3058-4270-b6e0-71e7f40278c2\">MinMaxScaler</label><div class=\"sk-toggleable__content\"><pre>MinMaxScaler()</pre></div></div></div></div></div><div class=\"sk-item\"><div class=\"sk-estimator sk-toggleable\"><input class=\"sk-toggleable__control sk-hidden--visually\" id=\"b1e7b51d-9d35-40f4-83d1-d4691e5da143\" type=\"checkbox\" ><label class=\"sk-toggleable__label\" for=\"b1e7b51d-9d35-40f4-83d1-d4691e5da143\">LinearRegression</label><div class=\"sk-toggleable__content\"><pre>LinearRegression()</pre></div></div></div></div></div></div></div>"
      ],
      "text/plain": [
       "Pipeline(steps=[('preprocess_pipeline',\n",
       "                 Pipeline(steps=[('numdropper', NumeDropper()),\n",
       "                                 ('catedropper', CateDropper(n=4)),\n",
       "                                 ('preprocessor',\n",
       "                                  ColumnTransformer(transformers=[('nume',\n",
       "                                                                   Pipeline(steps=[('imputer',\n",
       "                                                                                    SimpleImputer(strategy='median'))]),\n",
       "                                                                   ['sqft',\n",
       "                                                                    'beds',\n",
       "                                                                    'baths',\n",
       "                                                                    'parkingSpots',\n",
       "                                                                    'tax']),\n",
       "                                                                  ('cate',\n",
       "                                                                   Pipeline(steps=[('imputer',\n",
       "                                                                                    SimpleImputer(strategy='most_frequent')),\n",
       "                                                                                   ('onehot',\n",
       "                                                                                    OneHotEncoder(handle_unknown='ignore'))]),\n",
       "                                                                   ['homeType',\n",
       "                                                                    'heating_system',\n",
       "                                                                    'cooling_system',\n",
       "                                                                    'architecture_style'])])),\n",
       "                                 ('minmax', MinMaxScaler())])),\n",
       "                ('neural_network', LinearRegression())])"
      ]
     },
     "execution_count": 37,
     "metadata": {},
     "output_type": "execute_result"
    }
   ],
   "source": [
    "model = LinearRegression()\n",
    "full_pipeline = Pipeline(steps=[('preprocess_pipeline', preprocess_pipeline),\n",
    "                                 ('neural_network',model)])\n",
    "full_pipeline"
   ]
  },
  {
   "cell_type": "markdown",
   "id": "9276761e",
   "metadata": {},
   "source": [
    "#### Tìm N\n",
    "Vói N là sô lượng các giá trị xuất hiện nhiều nhất sao cho độ lỗi trên tập validation là nhỏ nhất"
   ]
  },
  {
   "cell_type": "code",
   "execution_count": 38,
   "id": "cac1ffc0",
   "metadata": {},
   "outputs": [],
   "source": [
    "train_errs = []\n",
    "best_val_err = float('inf')\n",
    "val_errs = []\n",
    "\n",
    "best_N = None\n",
    "N = [1,2,3,4,5,6]\n",
    "for i in N:\n",
    "    model = full_pipeline.set_params(preprocess_pipeline__catedropper__n=i).fit(train_X, train_y)\n",
    "    train_error = compute_mse(train_y, model.predict(train_X))\n",
    "    val_error = compute_mse(val_y, model.predict(val_X))\n",
    "    \n",
    "    train_errs.append(train_error)\n",
    "    val_errs.append(val_error)\n",
    "    \n",
    "    if val_errs[-1] < best_val_err:\n",
    "        best_val_err = val_errs[-1]\n",
    "        best_N = i"
   ]
  },
  {
   "cell_type": "code",
   "execution_count": 39,
   "id": "d7d96cb7",
   "metadata": {},
   "outputs": [
    {
     "data": {
      "image/png": "[encoded data removed]",
      "text/plain": [
       "<Figure size 576x360 with 1 Axes>"
      ]
     },
     "metadata": {},
     "output_type": "display_data"
    }
   ],
   "source": [
    "plt.plot(N, val_errs, color='red', marker='o')\n",
    "plt.title('val error with N', fontsize=14)\n",
    "plt.xlabel('N', fontsize=14)\n",
    "plt.ylabel('val_errs', fontsize=14)\n",
    "plt.show()"
   ]
  },
  {
   "cell_type": "markdown",
   "id": "a914216f",
   "metadata": {},
   "source": [
    "#### Train model "
   ]
  },
  {
   "cell_type": "code",
   "execution_count": 40,
   "id": "0879f6a7",
   "metadata": {},
   "outputs": [],
   "source": [
    "model = full_pipeline.set_params(preprocess_pipeline__catedropper__n=best_N).fit(train_X, train_y)"
   ]
  },
  {
   "cell_type": "markdown",
   "id": "f1958811",
   "metadata": {},
   "source": [
    "#### Predict trên tập test"
   ]
  },
  {
   "cell_type": "code",
   "execution_count": 41,
   "id": "fbbcf8b2",
   "metadata": {},
   "outputs": [],
   "source": [
    "test_preds = model.predict(test_X)"
   ]
  },
  {
   "cell_type": "code",
   "execution_count": 42,
   "id": "236e49ee",
   "metadata": {},
   "outputs": [
    {
     "data": {
      "text/html": [
       "<div>\n",
       "<style scoped>\n",
       "    .dataframe tbody tr th:only-of-type {\n",
       "        vertical-align: middle;\n",
       "    }\n",
       "\n",
       "    .dataframe tbody tr th {\n",
       "        vertical-align: top;\n",
       "    }\n",
       "\n",
       "    .dataframe thead th {\n",
       "        text-align: right;\n",
       "    }\n",
       "</style>\n",
       "<table border=\"1\" class=\"dataframe\">\n",
       "  <thead>\n",
       "    <tr style=\"text-align: right;\">\n",
       "      <th></th>\n",
       "      <th>Actual</th>\n",
       "      <th>Predicted</th>\n",
       "    </tr>\n",
       "  </thead>\n",
       "  <tbody>\n",
       "    <tr>\n",
       "      <th>1303</th>\n",
       "      <td>419000</td>\n",
       "      <td>527360.0</td>\n",
       "    </tr>\n",
       "    <tr>\n",
       "      <th>891</th>\n",
       "      <td>3499888</td>\n",
       "      <td>1114112.0</td>\n",
       "    </tr>\n",
       "    <tr>\n",
       "      <th>1116</th>\n",
       "      <td>215000</td>\n",
       "      <td>242688.0</td>\n",
       "    </tr>\n",
       "    <tr>\n",
       "      <th>128</th>\n",
       "      <td>869900</td>\n",
       "      <td>882688.0</td>\n",
       "    </tr>\n",
       "    <tr>\n",
       "      <th>927</th>\n",
       "      <td>145000</td>\n",
       "      <td>177152.0</td>\n",
       "    </tr>\n",
       "    <tr>\n",
       "      <th>...</th>\n",
       "      <td>...</td>\n",
       "      <td>...</td>\n",
       "    </tr>\n",
       "    <tr>\n",
       "      <th>462</th>\n",
       "      <td>50900</td>\n",
       "      <td>111616.0</td>\n",
       "    </tr>\n",
       "    <tr>\n",
       "      <th>68</th>\n",
       "      <td>320000</td>\n",
       "      <td>305152.0</td>\n",
       "    </tr>\n",
       "    <tr>\n",
       "      <th>601</th>\n",
       "      <td>680000</td>\n",
       "      <td>805888.0</td>\n",
       "    </tr>\n",
       "    <tr>\n",
       "      <th>1187</th>\n",
       "      <td>1099000</td>\n",
       "      <td>1316864.0</td>\n",
       "    </tr>\n",
       "    <tr>\n",
       "      <th>49</th>\n",
       "      <td>275000</td>\n",
       "      <td>159744.0</td>\n",
       "    </tr>\n",
       "  </tbody>\n",
       "</table>\n",
       "<p>326 rows × 2 columns</p>\n",
       "</div>"
      ],
      "text/plain": [
       "       Actual  Predicted\n",
       "1303   419000   527360.0\n",
       "891   3499888  1114112.0\n",
       "1116   215000   242688.0\n",
       "128    869900   882688.0\n",
       "927    145000   177152.0\n",
       "...       ...        ...\n",
       "462     50900   111616.0\n",
       "68     320000   305152.0\n",
       "601    680000   805888.0\n",
       "1187  1099000  1316864.0\n",
       "49     275000   159744.0\n",
       "\n",
       "[326 rows x 2 columns]"
      ]
     },
     "execution_count": 42,
     "metadata": {},
     "output_type": "execute_result"
    }
   ],
   "source": [
    "df = pd.DataFrame({'Actual': test_y, 'Predicted': test_preds})\n",
    "df"
   ]
  },
  {
   "cell_type": "markdown",
   "id": "1fb49b7e",
   "metadata": {},
   "source": [
    "#### Độ chính xác trên tập test"
   ]
  },
  {
   "cell_type": "code",
   "execution_count": 43,
   "id": "8e8da31b",
   "metadata": {},
   "outputs": [
    {
     "data": {
      "text/plain": [
       "0.7001855663582763"
      ]
     },
     "execution_count": 43,
     "metadata": {},
     "output_type": "execute_result"
    }
   ],
   "source": [
    "compute_rr(test_y, test_preds, baseline_preds)"
   ]
  }
 ],
 "metadata": {
  "kernelspec": {
   "display_name": "Python 3 (ipykernel)",
   "language": "python",
   "name": "python3"
  },
  "language_info": {
   "codemirror_mode": {
    "name": "ipython",
    "version": 3
   },
   "file_extension": ".py",
   "mimetype": "text/x-python",
   "name": "python",
   "nbconvert_exporter": "python",
   "pygments_lexer": "ipython3",
   "version": "3.8.8"
  },
  "toc": {
   "base_numbering": 1,
   "nav_menu": {},
   "number_sections": false,
   "sideBar": true,
   "skip_h1_title": false,
   "title_cell": "Table of Contents",
   "title_sidebar": "Contents",
   "toc_cell": false,
   "toc_position": {
    "height": "calc(100% - 180px)",
    "left": "10px",
    "top": "150px",
    "width": "242.1px"
   },
   "toc_section_display": true,
   "toc_window_display": true
  }
 },
 "nbformat": 4,
 "nbformat_minor": 5
}
