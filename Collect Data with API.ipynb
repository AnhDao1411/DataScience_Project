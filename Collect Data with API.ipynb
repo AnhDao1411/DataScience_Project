{
 "cells": [
  {
   "cell_type": "markdown",
   "metadata": {},
   "source": [
    "## Thu thập dữ liệu"
   ]
  },
  {
   "cell_type": "markdown",
   "metadata": {},
   "source": [
    "`MASHVISOR` cung cấp các API trả về các thông tin liên quan đến bất động sản. [Link API document](https://www.mashvisor.com/api-doc/#the-property-object) \\\n",
    "Nhóm tập trung lấy thông tin các căn nhà hiện đang được bán ở thành phố Chicago bang IL, nước Mỹ."
   ]
  },
  {
   "cell_type": "markdown",
   "metadata": {},
   "source": [
    "### Import"
   ]
  },
  {
   "cell_type": "code",
   "execution_count": 1,
   "metadata": {},
   "outputs": [],
   "source": [
    "import requests\n",
    "import pandas as pd\n",
    "import csv\n",
    "import time"
   ]
  },
  {
   "cell_type": "markdown",
   "metadata": {},
   "source": [
    "### Gọi API"
   ]
  },
  {
   "cell_type": "markdown",
   "metadata": {},
   "source": [
    "API được dùng: https://api.mashvisor.com/v1.1/client/property?id=2214791&state=IL \\\n",
    "Gồm 2 tham số bắt buộc: \n",
    "- id: mã số của ngôi nhà\n",
    "- state: tên bang "
   ]
  },
  {
   "cell_type": "code",
   "execution_count": 3,
   "metadata": {},
   "outputs": [],
   "source": [
    "# Đọc mã id đã lấy được\n",
    "f = open(\"id.txt\", \"r\")\n",
    "crawlID = f.read().split(\"\\n\")\n",
    "f.close()"
   ]
  },
  {
   "cell_type": "code",
   "execution_count": 11,
   "metadata": {},
   "outputs": [],
   "source": [
    "# Lấy 100 id để gọi api\n",
    "id_s = crawlID[1165:1170]"
   ]
  },
  {
   "cell_type": "code",
   "execution_count": 12,
   "metadata": {},
   "outputs": [
    {
     "name": "stdout",
     "output_type": "stream",
     "text": [
      "success 2307994\n",
      "success 2486379\n",
      "success 2529903\n",
      "success 2486216\n",
      "success 2520955\n"
     ]
    }
   ],
   "source": [
    "method = \"get\"\n",
    "headers = {\n",
    "    'x-api-key': \"3204a295-8a89-4545-96de-4499e3acc430\" # Người dùng cung cấp\n",
    "    }\n",
    "jsonResult= []\n",
    "\n",
    "for id_ in id_s:\n",
    "    url = f'https://api.mashvisor.com/v1.1/client/property?id={int(id_)}&state=IL'\n",
    "    rsp = requests.request(method, url, headers=headers)\n",
    "    response = rsp.json()\n",
    "    if response['status'] == 'success':\n",
    "        jsonResult.append(response[\"content\"])\n",
    "\n",
    "    print(response['status'], id_)\n",
    "    time.sleep(2)"
   ]
  },
  {
   "cell_type": "markdown",
   "metadata": {},
   "source": []
  },
  {
   "cell_type": "code",
   "execution_count": null,
   "metadata": {},
   "outputs": [],
   "source": []
  },
  {
   "cell_type": "code",
   "execution_count": null,
   "metadata": {},
   "outputs": [],
   "source": []
  },
  {
   "cell_type": "code",
   "execution_count": 3,
   "metadata": {},
   "outputs": [],
   "source": [
    "# Ghi dữ liệu\n",
    "f=open('data_raw.csv', 'a')\n",
    "f.write(pd.DataFrame.from_dict(jsonResult).to_csv(index=False, header=None))\n",
    "f.close()"
   ]
  },
  {
   "cell_type": "markdown",
   "metadata": {},
   "source": [
    "## Khám phá + tiền xử lí (lựa chọn cột có thể sử dụng cho bài toán)"
   ]
  },
  {
   "cell_type": "markdown",
   "metadata": {},
   "source": [
    "### Đọc dữ liệu từ file vào DataFrame"
   ]
  },
  {
   "cell_type": "code",
   "execution_count": 4,
   "metadata": {
    "scrolled": true
   },
   "outputs": [
    {
     "data": {
      "text/html": [
       "<div>\n",
       "<style scoped>\n",
       "    .dataframe tbody tr th:only-of-type {\n",
       "        vertical-align: middle;\n",
       "    }\n",
       "\n",
       "    .dataframe tbody tr th {\n",
       "        vertical-align: top;\n",
       "    }\n",
       "\n",
       "    .dataframe thead th {\n",
       "        text-align: right;\n",
       "    }\n",
       "</style>\n",
       "<table border=\"1\" class=\"dataframe\">\n",
       "  <thead>\n",
       "    <tr style=\"text-align: right;\">\n",
       "      <th></th>\n",
       "      <th>isShortSale</th>\n",
       "      <th>source</th>\n",
       "      <th>yearBuilt</th>\n",
       "      <th>nextOpenHouseEndTime</th>\n",
       "      <th>sqft</th>\n",
       "      <th>lastSaleDate</th>\n",
       "      <th>id</th>\n",
       "      <th>state</th>\n",
       "      <th>county</th>\n",
       "      <th>longitude</th>\n",
       "      <th>...</th>\n",
       "      <th>hoa_dues</th>\n",
       "      <th>view_type</th>\n",
       "      <th>parcel_number</th>\n",
       "      <th>architecture_style</th>\n",
       "      <th>has_pool</th>\n",
       "      <th>is_water_front</th>\n",
       "      <th>needs_repair</th>\n",
       "      <th>tenant_occupied</th>\n",
       "      <th>is_market_place</th>\n",
       "      <th>schools</th>\n",
       "    </tr>\n",
       "  </thead>\n",
       "  <tbody>\n",
       "    <tr>\n",
       "      <th>0</th>\n",
       "      <td>NaN</td>\n",
       "      <td>Chicagoland Brokers Inc.</td>\n",
       "      <td>1955.0</td>\n",
       "      <td>NaN</td>\n",
       "      <td>1100.0</td>\n",
       "      <td>NaN</td>\n",
       "      <td>2521392</td>\n",
       "      <td>IL</td>\n",
       "      <td>Cook County</td>\n",
       "      <td>-87.720482</td>\n",
       "      <td>...</td>\n",
       "      <td>NaN</td>\n",
       "      <td>NaN</td>\n",
       "      <td>1.935310e+13</td>\n",
       "      <td>Other</td>\n",
       "      <td>NaN</td>\n",
       "      <td>NaN</td>\n",
       "      <td>0</td>\n",
       "      <td>0</td>\n",
       "      <td>0</td>\n",
       "      <td>[{'category': 'Elementary', 'name': None, 'dis...</td>\n",
       "    </tr>\n",
       "  </tbody>\n",
       "</table>\n",
       "<p>1 rows × 61 columns</p>\n",
       "</div>"
      ],
      "text/plain": [
       "  isShortSale                    source  yearBuilt nextOpenHouseEndTime  \\\n",
       "0         NaN  Chicagoland Brokers Inc.     1955.0                  NaN   \n",
       "\n",
       "     sqft lastSaleDate       id state       county  longitude  ...  hoa_dues  \\\n",
       "0  1100.0          NaN  2521392    IL  Cook County -87.720482  ...       NaN   \n",
       "\n",
       "   view_type  parcel_number  architecture_style has_pool is_water_front  \\\n",
       "0        NaN   1.935310e+13               Other      NaN            NaN   \n",
       "\n",
       "  needs_repair  tenant_occupied  is_market_place  \\\n",
       "0            0                0                0   \n",
       "\n",
       "                                             schools  \n",
       "0  [{'category': 'Elementary', 'name': None, 'dis...  \n",
       "\n",
       "[1 rows x 61 columns]"
      ]
     },
     "execution_count": 4,
     "metadata": {},
     "output_type": "execute_result"
    }
   ],
   "source": [
    "df = pd.read_csv('data_raw.csv')\n",
    "df.head(1)"
   ]
  },
  {
   "cell_type": "markdown",
   "metadata": {},
   "source": [
    "### Khám phá dữ liệu"
   ]
  },
  {
   "cell_type": "markdown",
   "metadata": {},
   "source": [
    "#### Số dòng, cột"
   ]
  },
  {
   "cell_type": "code",
   "execution_count": 5,
   "metadata": {},
   "outputs": [
    {
     "data": {
      "text/plain": [
       "(1165, 61)"
      ]
     },
     "execution_count": 5,
     "metadata": {},
     "output_type": "execute_result"
    }
   ],
   "source": [
    "df.shape"
   ]
  },
  {
   "cell_type": "markdown",
   "metadata": {},
   "source": [
    "#### Kiểm tra số dòng bị lặp lại"
   ]
  },
  {
   "cell_type": "code",
   "execution_count": 6,
   "metadata": {},
   "outputs": [
    {
     "data": {
      "text/plain": [
       "0"
      ]
     },
     "execution_count": 6,
     "metadata": {},
     "output_type": "execute_result"
    }
   ],
   "source": [
    "df.duplicated().sum()"
   ]
  },
  {
   "cell_type": "markdown",
   "metadata": {},
   "source": [
    "#### Các cột của dữ liệu"
   ]
  },
  {
   "cell_type": "code",
   "execution_count": 7,
   "metadata": {},
   "outputs": [
    {
     "data": {
      "text/plain": [
       "Index(['isShortSale', 'source', 'yearBuilt', 'nextOpenHouseEndTime', 'sqft',\n",
       "       'lastSaleDate', 'id', 'state', 'county', 'longitude', 'zip', 'tax',\n",
       "       'mls_id', 'daysOnMarket', 'homeType', 'property_type',\n",
       "       'property_sub_type', 'beds', 'num_of_units', 'favorite', 'city',\n",
       "       'saleType', 'latitude', 'nextOpenHouseDate', 'recentReductionDate',\n",
       "       'title', 'rent_appreciation_rate', 'originalListPrice', 'parkingSpots',\n",
       "       'parkingType', 'address', 'nextOpenHouseStartTime', 'lotSize', 'url',\n",
       "       'baths', 'address_revealing', 'location', 'interested', 'listPrice',\n",
       "       'price_per_sqft', 'lastSalePrice', 'is_foreclosure',\n",
       "       'foreclosure_status', 'occupancy_status', 'owner_occupied',\n",
       "       'heating_system', 'cooling_system', 'walkscore',\n",
       "       'investment_likelihood_label', 'investment_likelihood_score',\n",
       "       'investment_likelihood_stars', 'hoa_dues', 'view_type', 'parcel_number',\n",
       "       'architecture_style', 'has_pool', 'is_water_front', 'needs_repair',\n",
       "       'tenant_occupied', 'is_market_place', 'schools'],\n",
       "      dtype='object')"
      ]
     },
     "execution_count": 7,
     "metadata": {},
     "output_type": "execute_result"
    }
   ],
   "source": [
    "df.columns"
   ]
  },
  {
   "cell_type": "markdown",
   "metadata": {},
   "source": [
    "#### Ý nghĩa của các cột:\n",
    "- `isShortSale`: nhà đó có phải dạng cho thuê ngắn hạn hay không\n",
    "- `source`:  tên tổ chức cho phép này được mua bán\n",
    "- `yearBuilt`: năm xây dựng căn nhà\n",
    "- `nextOpenHouseEndTime`: thời gian mở bán kết thúc\n",
    "- `sqft`: diện tích \n",
    "- `lastSaleDate`: ngày bán cuối cùng\n",
    "- `id`: mã nhà\n",
    "- `state`: tiểu bang\n",
    "- `county`: quận\n",
    "- `longitude`: kinh độ\n",
    "- `zip`: mã bưu điện \n",
    "- `tax`: tiền thuế\n",
    "- `mls_id` : mã MLS\n",
    "- `daysOnMarket`: số ngày kể từ khi được đăng bán\n",
    "- `homeType`: thuộc tính phụ do nhà cung cấp MLS cung cấp\n",
    "- `property_type`: thuộc tính chính do nhà cung cấp MLS cung cấp\n",
    "- `property_sub_type`: danh mục tài sản bất đông sản\n",
    "- `beds`: số phòng ngủ \n",
    "- `num_of_units`: số lượng nhà trong trường hợp bất động sản đa hệ gia đình (multifamily properties)\n",
    "- `favorite` : được yêu thích hay không\n",
    "- `city`: thành phố\n",
    "- `saleType`: nhà cung cấp\n",
    "- `latitude`: vĩ độ\n",
    "- `nextOpenHouseDate`: thời gian khai trương mở bán\n",
    "- `recentReductionDate`: ngày giảm giá gần đây\n",
    "- `title`:  tiêu đề\n",
    "- `rent_appreciation_rate`:  tỉ lệ thuê/mua\n",
    "- `originalListPrice`:  số tiền mở bán lúc mới bắt đầu\n",
    "- `parkingSpots`: số lượng bãi giữ xe\n",
    "- `parkingType`: loại bãi giữ xe\n",
    "- `address`: địa chỉ \n",
    "- `nextOpenHouseStartTime`: thời gian mở bán\n",
    "- `lotSize`: diện tích sử dụng \n",
    "- `url`: URL\n",
    "- `baths`: số lượng phòng tắm \n",
    "- `address_revealing`: cho phép lộ địa chỉ\n",
    "- `location`: khu vực lân cận \n",
    "- `interested`: hứng thú\n",
    "- `listPrice`: giá căn nhà\n",
    "- `price_per_sqft`: giá trên 1 đơn vị diện tích \n",
    "- `lastSalePrice`: giá bán cuối cùng \n",
    "- `is_foreclosure`: tịch thu hay không\n",
    "- `foreclosure_status`:  tình trạng tịch thu nhà\n",
    "- `occupancy_status`: tình trạng tài sản được sử dụng\n",
    "- `owner_occupied`: sở hữu bởi chủ nhà\n",
    "- `heating_system`: hệ thống sưởi\n",
    "- `cooling_system`: hệ thống làm lạnh \n",
    "- `walkscore`: giá trị điểm số\n",
    "- `investment_likelihood_label`: nhãn thể hiện khả năng đầu tư\n",
    "- `investment_likelihood_score`: số điểm thể hiện khả năng đầu tư\n",
    "- `investment_likelihood_stars`: số sao thể hiện khả năng đầu tư\n",
    "- `view_type`: view căn nhà \n",
    "- `parcel_number`: APN tài sản được chỉ định bởi người định thuế\n",
    "- `architecture_style`: loại kiến trúc  \n",
    "- `has_pool`: có hồ bơi\n",
    "- `is_water_front`: nhà hướng sông\n",
    "- `needs_repair`: có cần chuẩn bị gì không\n",
    "- `tenant_occupied`: sở hữu bởi người thuê nhà \n",
    "- `is_market_place`: gần chợ hay không\n",
    "- `schools`: trường học"
   ]
  },
  {
   "cell_type": "markdown",
   "metadata": {},
   "source": [
    "### Tiền xử lý"
   ]
  },
  {
   "cell_type": "markdown",
   "metadata": {},
   "source": [
    "Có thể thấy là có quá nhiều cột trong dữ liệu. Để có thể làm bài toán của nhóm. Tụi em quyết định chỉ chọn ra các cột thật sự cần thiết trong việc dự đoán giá nhà ở như `beds`, `baths`, `sqft`, `homeType`, `parkingSpots`,`lotSize`, `listPrice`, `heating_system`, `cooling_system`, `view_type`, `architecture_style`, `has_pool`, `yearBuilt`, `tax`, `city`, `address`."
   ]
  },
  {
   "cell_type": "code",
   "execution_count": 8,
   "metadata": {},
   "outputs": [],
   "source": [
    "new_df = df[['sqft', 'homeType', 'beds', 'parkingSpots','lotSize', 'baths','listPrice', 'heating_system', 'cooling_system', \n",
    "             'view_type', 'architecture_style', 'yearBuilt', 'has_pool', 'city', 'address', 'tax']]\n",
    "new_df.to_csv('data.csv', index = False)"
   ]
  },
  {
   "cell_type": "code",
   "execution_count": null,
   "metadata": {},
   "outputs": [],
   "source": []
  }
 ],
 "metadata": {
  "kernelspec": {
   "display_name": "Python 3",
   "language": "python",
   "name": "python3"
  },
  "language_info": {
   "codemirror_mode": {
    "name": "ipython",
    "version": 3
   },
   "file_extension": ".py",
   "mimetype": "text/x-python",
   "name": "python",
   "nbconvert_exporter": "python",
   "pygments_lexer": "ipython3",
   "version": "3.8.5"
  },
  "toc": {
   "base_numbering": 1,
   "nav_menu": {},
   "number_sections": false,
   "sideBar": true,
   "skip_h1_title": false,
   "title_cell": "Table of Contents",
   "title_sidebar": "Contents",
   "toc_cell": false,
   "toc_position": {},
   "toc_section_display": true,
   "toc_window_display": true
  }
 },
 "nbformat": 4,
 "nbformat_minor": 5
}
