{
 "cells": [
  {
   "cell_type": "markdown",
   "metadata": {},
   "source": [
    "## Import"
   ]
  },
  {
   "cell_type": "code",
   "execution_count": 3,
   "metadata": {},
   "outputs": [],
   "source": [
    "import pandas as pd"
   ]
  },
  {
   "cell_type": "markdown",
   "metadata": {},
   "source": [
    "## Thu thập dữ liệu"
   ]
  },
  {
   "cell_type": "code",
   "execution_count": 10,
   "metadata": {
    "scrolled": false
   },
   "outputs": [
    {
     "data": {
      "text/html": [
       "<div>\n",
       "<style scoped>\n",
       "    .dataframe tbody tr th:only-of-type {\n",
       "        vertical-align: middle;\n",
       "    }\n",
       "\n",
       "    .dataframe tbody tr th {\n",
       "        vertical-align: top;\n",
       "    }\n",
       "\n",
       "    .dataframe thead th {\n",
       "        text-align: right;\n",
       "    }\n",
       "</style>\n",
       "<table border=\"1\" class=\"dataframe\">\n",
       "  <thead>\n",
       "    <tr style=\"text-align: right;\">\n",
       "      <th></th>\n",
       "      <th>bedrooms</th>\n",
       "      <th>bathrooms</th>\n",
       "      <th>house_type</th>\n",
       "      <th>length</th>\n",
       "      <th>width</th>\n",
       "      <th>furniture</th>\n",
       "      <th>legal_paper</th>\n",
       "      <th>address</th>\n",
       "      <th>direction</th>\n",
       "      <th>price</th>\n",
       "    </tr>\n",
       "  </thead>\n",
       "  <tbody>\n",
       "    <tr>\n",
       "      <th>0</th>\n",
       "      <td>6 phòng</td>\n",
       "      <td>6 phòng</td>\n",
       "      <td>Nhà mặt phố</td>\n",
       "      <td>18.0</td>\n",
       "      <td>8.0</td>\n",
       "      <td>NaN</td>\n",
       "      <td>Đang chờ sổ</td>\n",
       "      <td>Đường Nguyễn Xiển, Phường Long Thạnh Mỹ, Quận 9, Tp Hồ Chí Minh</td>\n",
       "      <td>NaN</td>\n",
       "      <td>21 tỷ</td>\n",
       "    </tr>\n",
       "    <tr>\n",
       "      <th>1</th>\n",
       "      <td>10 phòng</td>\n",
       "      <td>Nhiều hơn 6 phòng</td>\n",
       "      <td>Nhà mặt phố</td>\n",
       "      <td>20.0</td>\n",
       "      <td>4.0</td>\n",
       "      <td>NaN</td>\n",
       "      <td>Đã có sổ</td>\n",
       "      <td>Đường Nguyễn Cửu Vân, Phường 17, Quận Bình Thạnh, Tp Hồ Chí Minh</td>\n",
       "      <td>NaN</td>\n",
       "      <td>23,5 tỷ</td>\n",
       "    </tr>\n",
       "    <tr>\n",
       "      <th>2</th>\n",
       "      <td>4 phòng</td>\n",
       "      <td>NaN</td>\n",
       "      <td>Nhà mặt phố</td>\n",
       "      <td>NaN</td>\n",
       "      <td>NaN</td>\n",
       "      <td>NaN</td>\n",
       "      <td>Đã có sổ</td>\n",
       "      <td>Đường Huỳnh Tấn Phát, Phường Tân Thuận Đông, Quận 7, Tp Hồ Chí Minh</td>\n",
       "      <td>NaN</td>\n",
       "      <td>19,5 tỷ</td>\n",
       "    </tr>\n",
       "    <tr>\n",
       "      <th>3</th>\n",
       "      <td>4 phòng</td>\n",
       "      <td>5 phòng</td>\n",
       "      <td>Nhà mặt phố</td>\n",
       "      <td>16.0</td>\n",
       "      <td>5.0</td>\n",
       "      <td>Nội thất cao cấp</td>\n",
       "      <td>Đã có sổ</td>\n",
       "      <td>Đường Huỳnh Tấn Phát, Xã Phú Xuân, Huyện Nhà Bè, Tp Hồ Chí Minh</td>\n",
       "      <td>Tây Nam</td>\n",
       "      <td>7,2 tỷ</td>\n",
       "    </tr>\n",
       "    <tr>\n",
       "      <th>4</th>\n",
       "      <td>4 phòng</td>\n",
       "      <td>5 phòng</td>\n",
       "      <td>Nhà ngõ</td>\n",
       "      <td>16.5</td>\n",
       "      <td>5.3</td>\n",
       "      <td>NaN</td>\n",
       "      <td>NaN</td>\n",
       "      <td>Đường Lê Đức Thọ, Phường 15, Quận Gò Vấp, Tp Hồ Chí Minh</td>\n",
       "      <td>Đông</td>\n",
       "      <td>7,3 tỷ</td>\n",
       "    </tr>\n",
       "    <tr>\n",
       "      <th>...</th>\n",
       "      <td>...</td>\n",
       "      <td>...</td>\n",
       "      <td>...</td>\n",
       "      <td>...</td>\n",
       "      <td>...</td>\n",
       "      <td>...</td>\n",
       "      <td>...</td>\n",
       "      <td>...</td>\n",
       "      <td>...</td>\n",
       "      <td>...</td>\n",
       "    </tr>\n",
       "    <tr>\n",
       "      <th>995</th>\n",
       "      <td>4 phòng</td>\n",
       "      <td>3 phòng</td>\n",
       "      <td>Nhà mặt phố</td>\n",
       "      <td>22.7</td>\n",
       "      <td>6.0</td>\n",
       "      <td>NaN</td>\n",
       "      <td>Đã có sổ</td>\n",
       "      <td>Đường Nguyễn Thị Tư, Phường Phú Hữu, Quận 9, Tp Hồ Chí Minh</td>\n",
       "      <td>NaN</td>\n",
       "      <td>8 tỷ</td>\n",
       "    </tr>\n",
       "    <tr>\n",
       "      <th>996</th>\n",
       "      <td>3 phòng</td>\n",
       "      <td>2 phòng</td>\n",
       "      <td>Nhà ngõ</td>\n",
       "      <td>NaN</td>\n",
       "      <td>NaN</td>\n",
       "      <td>NaN</td>\n",
       "      <td>Đã có sổ</td>\n",
       "      <td>Đường Lý Chính Thắng, Phường 9, Quận 3, Tp Hồ Chí Minh</td>\n",
       "      <td>NaN</td>\n",
       "      <td>4,15 tỷ</td>\n",
       "    </tr>\n",
       "    <tr>\n",
       "      <th>997</th>\n",
       "      <td>4 phòng</td>\n",
       "      <td>5 phòng</td>\n",
       "      <td>Nhà mặt phố</td>\n",
       "      <td>16.0</td>\n",
       "      <td>5.0</td>\n",
       "      <td>Nội thất đầy đủ</td>\n",
       "      <td>Đã có sổ</td>\n",
       "      <td>Đường Huỳnh Tấn Phát, Phường Phú Mỹ, Quận 7, Tp Hồ Chí Minh</td>\n",
       "      <td>Đông Bắc</td>\n",
       "      <td>6,7 tỷ</td>\n",
       "    </tr>\n",
       "    <tr>\n",
       "      <th>998</th>\n",
       "      <td>3 phòng</td>\n",
       "      <td>3 phòng</td>\n",
       "      <td>Nhà ngõ</td>\n",
       "      <td>10.0</td>\n",
       "      <td>3.0</td>\n",
       "      <td>Nội thất cao cấp</td>\n",
       "      <td>Đã có sổ</td>\n",
       "      <td>Đường An Bình, Phường 5, Quận 5, Tp Hồ Chí Minh</td>\n",
       "      <td>NaN</td>\n",
       "      <td>3,9 tỷ</td>\n",
       "    </tr>\n",
       "    <tr>\n",
       "      <th>999</th>\n",
       "      <td>3 phòng</td>\n",
       "      <td>3 phòng</td>\n",
       "      <td>Nhà ngõ</td>\n",
       "      <td>NaN</td>\n",
       "      <td>NaN</td>\n",
       "      <td>Nội thất đầy đủ</td>\n",
       "      <td>Đang chờ sổ</td>\n",
       "      <td>Đường Nguyễn Khanh, Xã Tân Thới Nhì, Huyện Hóc Môn, Tp Hồ Chí Minh</td>\n",
       "      <td>Đông Nam</td>\n",
       "      <td>1 tỷ</td>\n",
       "    </tr>\n",
       "  </tbody>\n",
       "</table>\n",
       "<p>1000 rows × 10 columns</p>\n",
       "</div>"
      ],
      "text/plain": [
       "     bedrooms          bathrooms   house_type  length  width  \\\n",
       "0     6 phòng            6 phòng  Nhà mặt phố    18.0    8.0   \n",
       "1    10 phòng  Nhiều hơn 6 phòng  Nhà mặt phố    20.0    4.0   \n",
       "2     4 phòng                NaN  Nhà mặt phố     NaN    NaN   \n",
       "3     4 phòng            5 phòng  Nhà mặt phố    16.0    5.0   \n",
       "4     4 phòng            5 phòng      Nhà ngõ    16.5    5.3   \n",
       "..        ...                ...          ...     ...    ...   \n",
       "995   4 phòng            3 phòng  Nhà mặt phố    22.7    6.0   \n",
       "996   3 phòng            2 phòng      Nhà ngõ     NaN    NaN   \n",
       "997   4 phòng            5 phòng  Nhà mặt phố    16.0    5.0   \n",
       "998   3 phòng            3 phòng      Nhà ngõ    10.0    3.0   \n",
       "999   3 phòng            3 phòng      Nhà ngõ     NaN    NaN   \n",
       "\n",
       "            furniture  legal_paper  \\\n",
       "0                 NaN  Đang chờ sổ   \n",
       "1                 NaN     Đã có sổ   \n",
       "2                 NaN     Đã có sổ   \n",
       "3    Nội thất cao cấp     Đã có sổ   \n",
       "4                 NaN          NaN   \n",
       "..                ...          ...   \n",
       "995               NaN     Đã có sổ   \n",
       "996               NaN     Đã có sổ   \n",
       "997   Nội thất đầy đủ     Đã có sổ   \n",
       "998  Nội thất cao cấp     Đã có sổ   \n",
       "999   Nội thất đầy đủ  Đang chờ sổ   \n",
       "\n",
       "                                                                 address  \\\n",
       "0        Đường Nguyễn Xiển, Phường Long Thạnh Mỹ, Quận 9, Tp Hồ Chí Minh   \n",
       "1       Đường Nguyễn Cửu Vân, Phường 17, Quận Bình Thạnh, Tp Hồ Chí Minh   \n",
       "2    Đường Huỳnh Tấn Phát, Phường Tân Thuận Đông, Quận 7, Tp Hồ Chí Minh   \n",
       "3        Đường Huỳnh Tấn Phát, Xã Phú Xuân, Huyện Nhà Bè, Tp Hồ Chí Minh   \n",
       "4               Đường Lê Đức Thọ, Phường 15, Quận Gò Vấp, Tp Hồ Chí Minh   \n",
       "..                                                                   ...   \n",
       "995          Đường Nguyễn Thị Tư, Phường Phú Hữu, Quận 9, Tp Hồ Chí Minh   \n",
       "996               Đường Lý Chính Thắng, Phường 9, Quận 3, Tp Hồ Chí Minh   \n",
       "997          Đường Huỳnh Tấn Phát, Phường Phú Mỹ, Quận 7, Tp Hồ Chí Minh   \n",
       "998                      Đường An Bình, Phường 5, Quận 5, Tp Hồ Chí Minh   \n",
       "999   Đường Nguyễn Khanh, Xã Tân Thới Nhì, Huyện Hóc Môn, Tp Hồ Chí Minh   \n",
       "\n",
       "    direction    price  \n",
       "0         NaN    21 tỷ  \n",
       "1         NaN  23,5 tỷ  \n",
       "2         NaN  19,5 tỷ  \n",
       "3     Tây Nam   7,2 tỷ  \n",
       "4        Đông   7,3 tỷ  \n",
       "..        ...      ...  \n",
       "995       NaN     8 tỷ  \n",
       "996       NaN  4,15 tỷ  \n",
       "997  Đông Bắc   6,7 tỷ  \n",
       "998       NaN   3,9 tỷ  \n",
       "999  Đông Nam     1 tỷ  \n",
       "\n",
       "[1000 rows x 10 columns]"
      ]
     },
     "execution_count": 10,
     "metadata": {},
     "output_type": "execute_result"
    }
   ],
   "source": [
    "# Đọc dữ liệu từ \"data.csv\"\n",
    "df = pd.read_csv('data.csv')\n",
    "df"
   ]
  },
  {
   "cell_type": "markdown",
   "metadata": {},
   "source": [
    "## Khám phá dữ liệu (xác định câu hỏi)"
   ]
  },
  {
   "cell_type": "markdown",
   "metadata": {},
   "source": [
    "### Số dòng và cột"
   ]
  },
  {
   "cell_type": "code",
   "execution_count": 12,
   "metadata": {},
   "outputs": [
    {
     "data": {
      "text/plain": [
       "(1000, 10)"
      ]
     },
     "execution_count": 12,
     "metadata": {},
     "output_type": "execute_result"
    }
   ],
   "source": [
    "df.shape"
   ]
  },
  {
   "cell_type": "markdown",
   "metadata": {},
   "source": [
    "### Ý nghĩa của từng dòng. Có dòng nào không phù hợp không?"
   ]
  },
  {
   "cell_type": "markdown",
   "metadata": {},
   "source": [
    "Mỗi dòng thể hiện 10 thông tin khác nhau của một căn nhà được giao bán. Do dữ liệu được lấy trong trang mô tả chi tiết của từng căn nhà nên sẽ không có dòng nào đặc biệt.\n",
    "\n",
    "Tuy nhiên người đăng có thể giao bán 1 căn nhà nhiều lần, các dòng có thể bị lặp lại."
   ]
  },
  {
   "cell_type": "markdown",
   "metadata": {},
   "source": [
    "### Kiểm tra số dòng bị lặp lại"
   ]
  },
  {
   "cell_type": "code",
   "execution_count": 24,
   "metadata": {},
   "outputs": [
    {
     "data": {
      "text/plain": [
       "0"
      ]
     },
     "execution_count": 24,
     "metadata": {},
     "output_type": "execute_result"
    }
   ],
   "source": [
    "df.duplicated().sum()"
   ]
  },
  {
   "cell_type": "markdown",
   "metadata": {},
   "source": [
    "$\\to$ Sẽ được đưa vào Pipeline tiền xử lí chung trong tệp huấn luyện"
   ]
  },
  {
   "cell_type": "markdown",
   "metadata": {},
   "source": [
    "### Ý nghĩa của mỗi cột"
   ]
  },
  {
   "cell_type": "code",
   "execution_count": 27,
   "metadata": {},
   "outputs": [
    {
     "data": {
      "text/html": [
       "<div>\n",
       "<style scoped>\n",
       "    .dataframe tbody tr th:only-of-type {\n",
       "        vertical-align: middle;\n",
       "    }\n",
       "\n",
       "    .dataframe tbody tr th {\n",
       "        vertical-align: top;\n",
       "    }\n",
       "\n",
       "    .dataframe thead th {\n",
       "        text-align: right;\n",
       "    }\n",
       "</style>\n",
       "<table border=\"1\" class=\"dataframe\">\n",
       "  <thead>\n",
       "    <tr style=\"text-align: right;\">\n",
       "      <th></th>\n",
       "      <th>bedrooms</th>\n",
       "      <th>bathrooms</th>\n",
       "      <th>house_type</th>\n",
       "      <th>length</th>\n",
       "      <th>width</th>\n",
       "      <th>furniture</th>\n",
       "      <th>legal_paper</th>\n",
       "      <th>address</th>\n",
       "      <th>direction</th>\n",
       "      <th>price</th>\n",
       "    </tr>\n",
       "  </thead>\n",
       "  <tbody>\n",
       "    <tr>\n",
       "      <th>0</th>\n",
       "      <td>6 phòng</td>\n",
       "      <td>6 phòng</td>\n",
       "      <td>Nhà mặt phố</td>\n",
       "      <td>18.0</td>\n",
       "      <td>8.0</td>\n",
       "      <td>NaN</td>\n",
       "      <td>Đang chờ sổ</td>\n",
       "      <td>Đường Nguyễn Xiển, Phường Long Thạnh Mỹ, Quận 9, Tp Hồ Chí Minh</td>\n",
       "      <td>NaN</td>\n",
       "      <td>21 tỷ</td>\n",
       "    </tr>\n",
       "  </tbody>\n",
       "</table>\n",
       "</div>"
      ],
      "text/plain": [
       "  bedrooms bathrooms   house_type  length  width furniture  legal_paper  \\\n",
       "0  6 phòng   6 phòng  Nhà mặt phố    18.0    8.0       NaN  Đang chờ sổ   \n",
       "\n",
       "                                                           address direction  \\\n",
       "0  Đường Nguyễn Xiển, Phường Long Thạnh Mỹ, Quận 9, Tp Hồ Chí Minh       NaN   \n",
       "\n",
       "   price  \n",
       "0  21 tỷ  "
      ]
     },
     "execution_count": 27,
     "metadata": {},
     "output_type": "execute_result"
    }
   ],
   "source": [
    "df.head(1)"
   ]
  },
  {
   "cell_type": "markdown",
   "metadata": {},
   "source": [
    "- \"bedrooms\" : Số phòng ngủ\n",
    "- \"bathrooms\" : Số phòng vệ sinh\n",
    "- \"house_type\" : Loại hình nhà ở\n",
    "- \"length\" : Chiều dài căn nhà\n",
    "- \"width\" : Chiều rộng căn nhà\n",
    "- \"furniture\" : Tình trạng của nội thất\n",
    "- \"legal_paper\" : Giấy tờ pháp lý hiện có\n",
    "- \"address\" : Địa chỉ của căn nhà\n",
    "- \"direction\" : Hướng của cửa chính\n",
    "- \"price\" : Giá tiền hiện giao bán"
   ]
  },
  {
   "cell_type": "markdown",
   "metadata": {},
   "source": [
    "## Xác định câu hỏi"
   ]
  },
  {
   "cell_type": "markdown",
   "metadata": {},
   "source": [
    "**Câu hỏi đưa ra:** Với một căn nhà mơ ước, người khách hàng cần bao nhiêu tiền để có thể mua được ở Tp.Hồ Chí Minh ? \n",
    "\n",
    "Tạm thời các cột Input sẽ là thông tin liên quan tới căn nhà được giao bán, tổng cộng có 9 cột. Cột Output sẽ là giá bán của ngôi nhà. Nhóm sẽ sử dụng mô hình hồi quy để dự đoán giá nhà (cột Output) dựa trên thông tin của căn nhà (cột Input).\n",
    "\n",
    "Các cột Input có thể thay đổi ở các bước tiền xử lý sau.\n",
    "\n",
    "- Lợi ích khi trả lời"
   ]
  },
  {
   "cell_type": "markdown",
   "metadata": {},
   "source": [
    "## Khám phá dữ liệu (để tách các tập)"
   ]
  },
  {
   "cell_type": "markdown",
   "metadata": {},
   "source": [
    "## Tiền xử lý tách tập dữ liệu"
   ]
  },
  {
   "cell_type": "markdown",
   "metadata": {},
   "source": [
    "## Khám phá dữ liệu (trên tập huấn luyện)"
   ]
  },
  {
   "cell_type": "markdown",
   "metadata": {},
   "source": [
    "### Kiểu dữ liệu từng cột. Có cột nào chưa phù hợp?"
   ]
  },
  {
   "cell_type": "markdown",
   "metadata": {},
   "source": [
    "### Các cột dạng numerical phân bố như thế nào?"
   ]
  },
  {
   "cell_type": "markdown",
   "metadata": {},
   "source": [
    "### Các cột dạng categorical phân bố như thế nào?"
   ]
  },
  {
   "cell_type": "markdown",
   "metadata": {},
   "source": [
    "## Tiền xử lý tập huấn luyện"
   ]
  },
  {
   "cell_type": "code",
   "execution_count": 23,
   "metadata": {
    "scrolled": true
   },
   "outputs": [
    {
     "name": "stdout",
     "output_type": "stream",
     "text": [
      "Số dòng lặp lại :  0\n"
     ]
    }
   ],
   "source": [
    "df = df.drop_duplicates()\n",
    "print(\"Số dòng lặp lại : \",df.duplicated().sum())"
   ]
  },
  {
   "cell_type": "code",
   "execution_count": 7,
   "metadata": {},
   "outputs": [
    {
     "data": {
      "text/html": [
       "<div>\n",
       "<style scoped>\n",
       "    .dataframe tbody tr th:only-of-type {\n",
       "        vertical-align: middle;\n",
       "    }\n",
       "\n",
       "    .dataframe tbody tr th {\n",
       "        vertical-align: top;\n",
       "    }\n",
       "\n",
       "    .dataframe thead th {\n",
       "        text-align: right;\n",
       "    }\n",
       "</style>\n",
       "<table border=\"1\" class=\"dataframe\">\n",
       "  <thead>\n",
       "    <tr style=\"text-align: right;\">\n",
       "      <th></th>\n",
       "      <th>bedrooms</th>\n",
       "      <th>bathrooms</th>\n",
       "      <th>house_type</th>\n",
       "      <th>length</th>\n",
       "      <th>width</th>\n",
       "      <th>furniture</th>\n",
       "      <th>legal_paper</th>\n",
       "      <th>address</th>\n",
       "      <th>direction</th>\n",
       "      <th>price</th>\n",
       "    </tr>\n",
       "  </thead>\n",
       "  <tbody>\n",
       "    <tr>\n",
       "      <th>missing_percentage</th>\n",
       "      <td>0.0</td>\n",
       "      <td>4.7</td>\n",
       "      <td>0.0</td>\n",
       "      <td>16.4</td>\n",
       "      <td>15.8</td>\n",
       "      <td>59.2</td>\n",
       "      <td>13.4</td>\n",
       "      <td>0.5</td>\n",
       "      <td>55.2</td>\n",
       "      <td>0.0</td>\n",
       "    </tr>\n",
       "    <tr>\n",
       "      <th>num_values</th>\n",
       "      <td>11</td>\n",
       "      <td>7</td>\n",
       "      <td>4</td>\n",
       "      <td>117</td>\n",
       "      <td>98</td>\n",
       "      <td>4</td>\n",
       "      <td>3</td>\n",
       "      <td>798</td>\n",
       "      <td>8</td>\n",
       "      <td>361</td>\n",
       "    </tr>\n",
       "    <tr>\n",
       "      <th>value_percentages</th>\n",
       "      <td>{'4 phòng': 28.7, '2 phòng': 25.1, '3 phòng': 17.4, '5 phòng': 10.3, '1 phòng': 7.0, '6 phòng': 3.6, 'nhiều hơn 10 phòng': 3.5, '10 phòng': 1.6, '7 phòng': 1.5, '8 phòng': 1.2, '9 phòng': 0.1}</td>\n",
       "      <td>{'2 phòng': 25.1, '5 phòng': 19.4, '3 phòng': 17.9, '1 phòng': 12.6, '4 phòng': 12.0, 'Nhiều hơn 6 phòng': 7.9, '6 phòng': 5.1}</td>\n",
       "      <td>{'Nhà ngõ': 57.3, 'Nhà mặt phố': 33.1, 'Nhà phố liền kề': 5.4, 'Nhà biệt thự': 4.2}</td>\n",
       "      <td>{20.0: 9.0, 10.0: 7.7, 12.0: 6.7, 15.0: 5.9, 14.0: 5.7, 11.0: 5.6, 16.0: 5.0, 13.0: 4.3, 18.0: 3.6, 17.0: 3.5, 8.0: 3.5, 7.0: 3.0, 5.0: 2.6, 9.0: 2.2, 19.0: 2.0, 25.0: 1.9, 6.0: 1.8, 22.0: 1.7, 4....</td>\n",
       "      <td>{4.0: 33.8, 5.0: 15.3, 3.0: 9.1, 6.0: 6.4, 10.0: 3.4, 8.0: 3.3, 7.0: 2.4, 4.5: 2.3, 4.2: 1.9, 3.5: 1.4, 4.3: 0.8, 4.6: 0.8, 3.6: 0.7, 4.1: 0.6, 6.5: 0.6, 11.0: 0.6, 14.0: 0.6, 5.3: 0.6, 17.0: 0.5,...</td>\n",
       "      <td>{'Nội thất đầy đủ': 39.2, 'Nội thất cao cấp': 30.6, 'Hoàn thiện cơ bản': 24.8, 'Bàn giao thô': 5.4}</td>\n",
       "      <td>{'Đã có sổ': 94.1, 'Đang chờ sổ': 3.1, 'Giấy tờ khác': 2.8}</td>\n",
       "      <td>{'Đường Quốc Lộ 13, Phường Hiệp Bình Phước, Quận Thủ Đức, Tp Hồ Chí Minh': 1.4, 'Đường Hà Huy Giáp, Phường Thạnh Lộc, Quận 12, Tp Hồ Chí Minh': 0.9, 'Đường Số 297, Phường Phước Long B, Quận 9, Tp ...</td>\n",
       "      <td>{'Đông Nam': 19.0, 'Đông': 15.6, 'Đông Bắc': 15.0, 'Tây': 12.7, 'Tây Bắc': 10.5, 'Bắc': 9.2, 'Nam': 9.2, 'Tây Nam': 8.9}</td>\n",
       "      <td>{'4,5 tỷ': 2.0, '6,5 tỷ': 1.7, '750 triệu': 1.5, '5,5 tỷ': 1.4, '9,5 tỷ': 1.4, '7,5 tỷ': 1.4, '7,2 tỷ': 1.4, '500 triệu': 1.3, '6,8 tỷ': 1.3, '1 tỷ': 1.3, '5,2 tỷ': 1.2, '3,5 tỷ': 1.2, '5,7 tỷ': 1...</td>\n",
       "    </tr>\n",
       "  </tbody>\n",
       "</table>\n",
       "</div>"
      ],
      "text/plain": [
       "                                                                                                                                                                                                            bedrooms  \\\n",
       "missing_percentage                                                                                                                                                                                               0.0   \n",
       "num_values                                                                                                                                                                                                        11   \n",
       "value_percentages   {'4 phòng': 28.7, '2 phòng': 25.1, '3 phòng': 17.4, '5 phòng': 10.3, '1 phòng': 7.0, '6 phòng': 3.6, 'nhiều hơn 10 phòng': 3.5, '10 phòng': 1.6, '7 phòng': 1.5, '8 phòng': 1.2, '9 phòng': 0.1}   \n",
       "\n",
       "                                                                                                                                          bathrooms  \\\n",
       "missing_percentage                                                                                                                              4.7   \n",
       "num_values                                                                                                                                        7   \n",
       "value_percentages   {'2 phòng': 25.1, '5 phòng': 19.4, '3 phòng': 17.9, '1 phòng': 12.6, '4 phòng': 12.0, 'Nhiều hơn 6 phòng': 7.9, '6 phòng': 5.1}   \n",
       "\n",
       "                                                                                             house_type  \\\n",
       "missing_percentage                                                                                  0.0   \n",
       "num_values                                                                                            4   \n",
       "value_percentages   {'Nhà ngõ': 57.3, 'Nhà mặt phố': 33.1, 'Nhà phố liền kề': 5.4, 'Nhà biệt thự': 4.2}   \n",
       "\n",
       "                                                                                                                                                                                                                     length  \\\n",
       "missing_percentage                                                                                                                                                                                                     16.4   \n",
       "num_values                                                                                                                                                                                                              117   \n",
       "value_percentages   {20.0: 9.0, 10.0: 7.7, 12.0: 6.7, 15.0: 5.9, 14.0: 5.7, 11.0: 5.6, 16.0: 5.0, 13.0: 4.3, 18.0: 3.6, 17.0: 3.5, 8.0: 3.5, 7.0: 3.0, 5.0: 2.6, 9.0: 2.2, 19.0: 2.0, 25.0: 1.9, 6.0: 1.8, 22.0: 1.7, 4....   \n",
       "\n",
       "                                                                                                                                                                                                                      width  \\\n",
       "missing_percentage                                                                                                                                                                                                     15.8   \n",
       "num_values                                                                                                                                                                                                               98   \n",
       "value_percentages   {4.0: 33.8, 5.0: 15.3, 3.0: 9.1, 6.0: 6.4, 10.0: 3.4, 8.0: 3.3, 7.0: 2.4, 4.5: 2.3, 4.2: 1.9, 3.5: 1.4, 4.3: 0.8, 4.6: 0.8, 3.6: 0.7, 4.1: 0.6, 6.5: 0.6, 11.0: 0.6, 14.0: 0.6, 5.3: 0.6, 17.0: 0.5,...   \n",
       "\n",
       "                                                                                                              furniture  \\\n",
       "missing_percentage                                                                                                 59.2   \n",
       "num_values                                                                                                            4   \n",
       "value_percentages   {'Nội thất đầy đủ': 39.2, 'Nội thất cao cấp': 30.6, 'Hoàn thiện cơ bản': 24.8, 'Bàn giao thô': 5.4}   \n",
       "\n",
       "                                                                    legal_paper  \\\n",
       "missing_percentage                                                         13.4   \n",
       "num_values                                                                    3   \n",
       "value_percentages   {'Đã có sổ': 94.1, 'Đang chờ sổ': 3.1, 'Giấy tờ khác': 2.8}   \n",
       "\n",
       "                                                                                                                                                                                                                    address  \\\n",
       "missing_percentage                                                                                                                                                                                                      0.5   \n",
       "num_values                                                                                                                                                                                                              798   \n",
       "value_percentages   {'Đường Quốc Lộ 13, Phường Hiệp Bình Phước, Quận Thủ Đức, Tp Hồ Chí Minh': 1.4, 'Đường Hà Huy Giáp, Phường Thạnh Lộc, Quận 12, Tp Hồ Chí Minh': 0.9, 'Đường Số 297, Phường Phước Long B, Quận 9, Tp ...   \n",
       "\n",
       "                                                                                                                                   direction  \\\n",
       "missing_percentage                                                                                                                      55.2   \n",
       "num_values                                                                                                                                 8   \n",
       "value_percentages   {'Đông Nam': 19.0, 'Đông': 15.6, 'Đông Bắc': 15.0, 'Tây': 12.7, 'Tây Bắc': 10.5, 'Bắc': 9.2, 'Nam': 9.2, 'Tây Nam': 8.9}   \n",
       "\n",
       "                                                                                                                                                                                                                      price  \n",
       "missing_percentage                                                                                                                                                                                                      0.0  \n",
       "num_values                                                                                                                                                                                                              361  \n",
       "value_percentages   {'4,5 tỷ': 2.0, '6,5 tỷ': 1.7, '750 triệu': 1.5, '5,5 tỷ': 1.4, '9,5 tỷ': 1.4, '7,5 tỷ': 1.4, '7,2 tỷ': 1.4, '500 triệu': 1.3, '6,8 tỷ': 1.3, '1 tỷ': 1.3, '5,2 tỷ': 1.2, '3,5 tỷ': 1.2, '5,7 tỷ': 1...  "
      ]
     },
     "execution_count": 7,
     "metadata": {},
     "output_type": "execute_result"
    }
   ],
   "source": [
    "pd.set_option('display.max_colwidth', 200)\n",
    "def missing_percentage(c):\n",
    "    return (c.isna().mean() * 100).round(1)\n",
    "def num_values(df):\n",
    "    return df.nunique()\n",
    "def value_percentages(c):\n",
    "    return dict((c.value_counts(normalize=True) * 100).round(1))\n",
    "df.agg([missing_percentage, num_values, value_percentages])"
   ]
  }
 ],
 "metadata": {
  "kernelspec": {
   "display_name": "Python 3",
   "language": "python",
   "name": "python3"
  },
  "language_info": {
   "codemirror_mode": {
    "name": "ipython",
    "version": 3
   },
   "file_extension": ".py",
   "mimetype": "text/x-python",
   "name": "python",
   "nbconvert_exporter": "python",
   "pygments_lexer": "ipython3",
   "version": "3.8.5"
  },
  "toc": {
   "base_numbering": 1,
   "nav_menu": {},
   "number_sections": false,
   "sideBar": true,
   "skip_h1_title": false,
   "title_cell": "Table of Contents",
   "title_sidebar": "Contents",
   "toc_cell": false,
   "toc_position": {
    "height": "calc(100% - 180px)",
    "left": "10px",
    "top": "150px",
    "width": "242.102px"
   },
   "toc_section_display": true,
   "toc_window_display": true
  }
 },
 "nbformat": 4,
 "nbformat_minor": 5
}
