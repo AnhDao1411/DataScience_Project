{
 "cells": [
  {
   "cell_type": "markdown",
   "metadata": {},
   "source": [
    "# Sử dụng Selenium để lấy ID house"
   ]
  },
  {
   "cell_type": "code",
   "execution_count": 3,
   "metadata": {},
   "outputs": [],
   "source": [
    "import requests\n",
    "from bs4 import BeautifulSoup\n",
    "from selenium import webdriver\n",
    "from datetime import date, timedelta\n",
    "import json\n",
    "import time"
   ]
  },
  {
   "cell_type": "code",
   "execution_count": 4,
   "metadata": {},
   "outputs": [],
   "source": [
    "id_= []"
   ]
  },
  {
   "cell_type": "markdown",
   "metadata": {},
   "source": [
    "`https://www.mashvisor.com/explore/property/analysis/tri-taylor-chicago-il/516-south-denvir-avenue-3/home/2495072?downPayment=&loanType=&interest=&investment=false&nid=403321`"
   ]
  },
  {
   "cell_type": "code",
   "execution_count": 5,
   "metadata": {},
   "outputs": [],
   "source": [
    "for i in range(1,270):\n",
    "    browser = webdriver.Chrome()\n",
    "    browser.get(f'https://www.mashvisor.com/explore/search?city=Chicago&state=IL&lat=41.8781136&lng=-87.6297982&country=United%20States&listings=Investment&page={i}') \n",
    "    time.sleep(5)\n",
    "    html_text = browser.page_source\n",
    "    time.sleep(1)\n",
    "    browser.quit()\n",
    "    time.sleep(1)\n",
    "    tree = BeautifulSoup(html_text)\n",
    "    tree = tree.find_all(attrs={'class': 'ResultItem_details__aWdAP'})\n",
    "    for i in tree:\n",
    "        temp = i.find_all('a')[0]['href']\n",
    "        temp = temp.split('?')[0].split('/')[-1]\n",
    "        id_.append(temp) \n",
    "    time.sleep(10)"
   ]
  },
  {
   "cell_type": "code",
   "execution_count": 6,
   "metadata": {},
   "outputs": [],
   "source": [
    "textfile = open(\"id.txt\", \"w\")\n",
    "for element in id_:\n",
    "    textfile.write(element + \"\\n\")\n",
    "textfile.close()"
   ]
  },
  {
   "cell_type": "code",
   "execution_count": null,
   "metadata": {},
   "outputs": [],
   "source": []
  }
 ],
 "metadata": {
  "kernelspec": {
   "display_name": "Python 3 (ipykernel)",
   "language": "python",
   "name": "python3"
  },
  "language_info": {
   "codemirror_mode": {
    "name": "ipython",
    "version": 3
   },
   "file_extension": ".py",
   "mimetype": "text/x-python",
   "name": "python",
   "nbconvert_exporter": "python",
   "pygments_lexer": "ipython3",
   "version": "3.8.8"
  },
  "toc": {
   "base_numbering": 1,
   "nav_menu": {},
   "number_sections": false,
   "sideBar": true,
   "skip_h1_title": false,
   "title_cell": "Table of Contents",
   "title_sidebar": "Contents",
   "toc_cell": false,
   "toc_position": {
    "height": "calc(100% - 180px)",
    "left": "10px",
    "top": "150px",
    "width": "165px"
   },
   "toc_section_display": true,
   "toc_window_display": true
  }
 },
 "nbformat": 4,
 "nbformat_minor": 4
}
